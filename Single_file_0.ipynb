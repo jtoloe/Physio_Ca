{
 "cells": [
  {
   "cell_type": "code",
   "execution_count": 1,
   "metadata": {},
   "outputs": [],
   "source": [
    "# from sys import argv\n",
    "# argv = [None,'//s2/physio/team/slakrupnik/project/experiments/2019_09_25/Slice1_Glu6_Ryn100nM.nd2']\n",
    "argv = [None,'//s2/physio/team/slakrupnik/project/experiments/Experiment30_no_lin_scan.lif']"
   ]
  },
  {
   "cell_type": "code",
   "execution_count": 2,
   "metadata": {},
   "outputs": [],
   "source": [
    "import javabridge\n",
    "import bioformats as bf\n",
    "javabridge.start_vm(class_path=bf.JARS)\n",
    "import numpy as np\n",
    "import matplotlib.pyplot as plt\n",
    "from os.path import isdir\n",
    "from os import makedirs\n",
    "\n",
    "def getApparentFreq(idx_,xml_=None):\n",
    "    if xml_ is None:\n",
    "        # assert \"xml\" in globals()\n",
    "        xml_ = xml\n",
    "    Pixels = xml_.image(index=idx_).Pixels\n",
    "    nPlanes = Pixels.get_plane_count()\n",
    "    if nPlanes==1:\n",
    "        return 0\n",
    "    else:\n",
    "        return (nPlanes-1)/Pixels.Plane(nPlanes-1).DeltaT\n",
    "    \n",
    "def importFirstFrames(rdr,idx,n=100):\n",
    "    from warnings import warn\n",
    "    image = []\n",
    "    for i in range(n):\n",
    "        try:\n",
    "            image += [rdr.read(series=idx, rescale=False, t=i)]\n",
    "        except:\n",
    "            warn(f\"For {idx} series, you asked for {n} first frames, but there was only {len(image)} so I give you that\")\n",
    "            break\n",
    "    image = np.stack(image)\n",
    "    return image\n",
    "\n",
    "def plotImage(IM,pxSize=1,pxUnit=\"µm\",rescale=1./30,log=True,savePath = None, addInfo = \"\"):\n",
    "    from matplotlib.colors import LogNorm\n",
    "    figsize = np.array([IM.shape[1]*pxSize,IM.shape[0]*pxSize])*rescale\n",
    "#     figsize[1] += 1\n",
    "    fig = plt.figure(figsize=figsize)\n",
    "    plt.subplot(111)\n",
    "    plt.imshow(IM,\n",
    "               norm=LogNorm() if log else None,#vmin=1, vmax=np.log10(IM.max())),\n",
    "               extent=(0,IM.shape[1]*pxSize,IM.shape[0]*pxSize,0))\n",
    "    plt.colorbar(shrink = .8)\n",
    "    plt.xlabel(\"x [%s]\"%pxUnit)\n",
    "    plt.ylabel(\"y [%s]\"%pxUnit)\n",
    "    yt = np.arange(0,np.ceil(IM.shape[0]*pxSize)+1e-10,10)\n",
    "    xt = np.arange(0,np.ceil(IM.shape[1]*pxSize)+1e-10,20)\n",
    "    plt.yticks(yt,fontsize = 14)\n",
    "    plt.xticks(xt,fontsize = 14)\n",
    "    ax = plt.gca()\n",
    "    plt.text(0,1,\"\\n\"+addInfo,color=\"white\",va=\"top\",fontfamily=\"Consolas\",transform = ax.transAxes)\n",
    "    if savePath is not None:\n",
    "        fig.tight_layout()\n",
    "        fig.savefig(savePath,dpi=120)\n",
    "        plt.close(fig)\n",
    "\n",
    "\n",
    "pathToFile = argv[1]\n",
    "try:\n",
    "    iSeries = argv[2]\n",
    "except:\n",
    "    iSeries = \"all\"\n",
    "separateFolder=True\n",
    "\n",
    "md = bf.get_omexml_metadata(pathToFile)\n",
    "xml = bf.OMEXML(md)\n",
    "Nimages = xml.get_image_count()\n",
    "\n",
    "if iSeries is not \"all\":\n",
    "    iSeries = int(iSeries)\n",
    "    if iSeries>=Nimages:\n",
    "        raise ValueError(f\"\"\"\n",
    "                         iSeries ({iSeries}) needs to be smaller than the\n",
    "                         total number of total series {Nimages}\"\"\")\n",
    "\n",
    "rdr = bf.ImageReader(pathToFile, perform_init=True)\n",
    "extension = \".\"+pathToFile.split(\".\")[-1]\n",
    "\n",
    "if iSeries!=\"all\":\n",
    "    nSeries = [iSeries]\n",
    "else:\n",
    "    nSeries = range(Nimages)\n",
    "\n",
    "fn = pathToFile.split(\"/\")[-1]\n",
    "\n",
    "if separateFolder:\n",
    "    saveDir = pathToFile.replace(extension,\"/\")\n",
    "else:\n",
    "    saveDir = pathToFile.replace(extension,\"/\")\n",
    "\n",
    "if not isdir(saveDir):\n",
    "    makedirs(saveDir)\n",
    "\n",
    "for iSeries in nSeries[:5]:\n",
    "    pass"
   ]
  },
  {
   "cell_type": "code",
   "execution_count": 3,
   "metadata": {},
   "outputs": [
    {
     "name": "stderr",
     "output_type": "stream",
     "text": [
      "C:\\ProgramData\\Anaconda3\\envs\\physio\\lib\\site-packages\\ipykernel_launcher.py:27: UserWarning: For 4 series, you asked for 100 first frames, but there was only 1 so I give you that\n"
     ]
    }
   ],
   "source": [
    "im = xml.image(iSeries)\n",
    "Name = im.Name\n",
    "if fn not in Name:\n",
    "    Name = fn.rstrip(extension) + \"_\"+ Name\n",
    "else:\n",
    "    Name = Name.replace(extension,\"\").strip().replace(\"(\",\"\").replace(\")\",\"\").replace(\"  \",\" \").replace(\" \",\"_\")\n",
    "\n",
    "outName = Name+\".png\"\n",
    "dimensions = dict(zip(\"TXY\",(getattr(im.Pixels, \"Size\"+dim) for dim in \"TXY\")))\n",
    "image = importFirstFrames(rdr,iSeries)\n",
    "image = np.mean(image,axis=0)\n",
    "## only for Nikon\n",
    "if len(image.shape)!=2:\n",
    "    varImage = image.var(axis=(0,1))\n",
    "    assert varImage[0]==0 and varImage[2]==0 and len(varImage)==3\n",
    "    image = image.T[1]\n",
    "\n",
    "pxSize = im.Pixels.get_PhysicalSizeX()\n",
    "pxUnit = im.Pixels.get_PhysicalSizeXUnit()"
   ]
  },
  {
   "cell_type": "code",
   "execution_count": 4,
   "metadata": {},
   "outputs": [],
   "source": [
    "text = \"\\n\".join([\" %s:%i\"%(c,dimensions[c])  for c in \"XYT\"])\n",
    "\n",
    "if dimensions[\"T\"]>1:\n",
    "    text += \"\\n f:%.1f Hz\"%getApparentFreq(iSeries,xml)"
   ]
  },
  {
   "cell_type": "code",
   "execution_count": 5,
   "metadata": {},
   "outputs": [
    {
     "data": {
      "text/plain": [
       "{'T': 1, 'X': 1024, 'Y': 1024}"
      ]
     },
     "execution_count": 5,
     "metadata": {},
     "output_type": "execute_result"
    }
   ],
   "source": [
    "dimensions"
   ]
  },
  {
   "cell_type": "code",
   "execution_count": 15,
   "metadata": {},
   "outputs": [],
   "source": [
    "if extension!=\".nd2\":\n",
    "    image = image.T\n",
    "plotImage(image.T,pxSize=pxSize,pxUnit=pxUnit,\n",
    "          #savePath=saveDir+outName,\n",
    "          addInfo=text)"
   ]
  },
  {
   "cell_type": "code",
   "execution_count": 20,
   "metadata": {},
   "outputs": [
    {
     "data": {
      "text/plain": [
       "'Experiment30_no_lin_scan_Series013.png'"
      ]
     },
     "execution_count": 20,
     "metadata": {},
     "output_type": "execute_result"
    }
   ],
   "source": [
    "outName"
   ]
  },
  {
   "cell_type": "code",
   "execution_count": 22,
   "metadata": {},
   "outputs": [
    {
     "data": {
      "text/plain": [
       "'//s2/physio/team/slakrupnik/project/experiments/Experiment30_no_lin_scan.lif'"
      ]
     },
     "execution_count": 22,
     "metadata": {},
     "output_type": "execute_result"
    }
   ],
   "source": [
    "pathToFile"
   ]
  },
  {
   "cell_type": "code",
   "execution_count": null,
   "metadata": {},
   "outputs": [],
   "source": []
  }
 ],
 "metadata": {
  "kernelspec": {
   "display_name": "Python 3",
   "language": "python",
   "name": "python3"
  },
  "language_info": {
   "codemirror_mode": {
    "name": "ipython",
    "version": 3
   },
   "file_extension": ".py",
   "mimetype": "text/x-python",
   "name": "python",
   "nbconvert_exporter": "python",
   "pygments_lexer": "ipython3",
   "version": "3.7.4"
  },
  "toc": {
   "base_numbering": 1,
   "nav_menu": {},
   "number_sections": true,
   "sideBar": true,
   "skip_h1_title": false,
   "title_cell": "Table of Contents",
   "title_sidebar": "Contents",
   "toc_cell": false,
   "toc_position": {},
   "toc_section_display": true,
   "toc_window_display": false
  }
 },
 "nbformat": 4,
 "nbformat_minor": 4
}
