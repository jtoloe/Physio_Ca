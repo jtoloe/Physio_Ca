{
 "cells": [
  {
   "cell_type": "code",
   "execution_count": 1,
   "metadata": {
    "ExecuteTime": {
     "end_time": "2019-10-31T20:11:01.627444Z",
     "start_time": "2019-10-31T20:10:58.941305Z"
    },
    "code_folding": []
   },
   "outputs": [],
   "source": [
    "### Preface\n",
    "import javabridge\n",
    "import bioformats as bf\n",
    "javabridge.start_vm(class_path=bf.JARS)\n",
    "import numpy as np\n",
    "import pandas as pd\n",
    "\n",
    "import matplotlib.pyplot as plt\n",
    "\n",
    "from sys import path as syspath\n",
    "syspath.append(\"./functions/\")\n",
    "from physio_def_1 import getApparentFreq, importFrames, getTimes\n",
    "\n",
    "from plotFirst_1 import plotImage\n",
    "\n",
    "from shutil import move as movecarefully\n",
    "\n",
    "import os"
   ]
  },
  {
   "cell_type": "code",
   "execution_count": 2,
   "metadata": {
    "ExecuteTime": {
     "end_time": "2019-10-31T20:11:01.655299Z",
     "start_time": "2019-10-31T20:11:01.630430Z"
    },
    "code_folding": []
   },
   "outputs": [],
   "source": [
    "def do_single_Series(iSeries):\n",
    "    from warnings import warn\n",
    "    try:\n",
    "        im = xml.image(iSeries)\n",
    "        Name = im.Name\n",
    "\n",
    "        if Nimages==1:\n",
    "            npzFile   = filename.replace(extension,\".npz\")\n",
    "            imageFile = filename.replace(extension,\".png\")\n",
    "            dimFile   = filename.replace(extension,\".txt\")\n",
    "        else:\n",
    "            npzFile   = filename.replace(extension,f\"_{iSeries}_{Name}.npz\")\n",
    "            imageFile = filename.replace(extension,f\"_{iSeries}_{Name}.png\")\n",
    "            dimFile   = filename.replace(extension,f\"_{iSeries}_{Name}.txt\")\n",
    "\n",
    "        npzFile   = os.path.join(newdir,npzFile   )\n",
    "        imageFile = os.path.join(newdir,imageFile )\n",
    "        dimFile   = os.path.join(newdir,dimFile   )\n",
    "\n",
    "        dimensions = dict(zip(\"TXY\",(getattr(im.Pixels, \"Size\"+dim) for dim in \"TXY\")))\n",
    "\n",
    "        if dimensions[\"T\"]>1:\n",
    "            dimensions['freq'] = getApparentFreq(iSeries,xml)\n",
    "\n",
    "        howManyFirstFrames = min(10,dimensions[\"T\"])\n",
    "        firstFrames = importFrames(rdr,idx=iSeries, which=(howManyFirstFrames,))\n",
    "\n",
    "        extraDims = len(firstFrames.shape)>3\n",
    "        if extraDims:\n",
    "        #         print(\"There are more dimensions here than expected.\\nI'll remedy this for now, but be shure to keep this in mind.\")\n",
    "            retainDims = np.where(firstFrames.std(axis=tuple(range(len(firstFrames.shape)-1)))>0)[0]\n",
    "            assert len(retainDims)==1\n",
    "            retainDims = retainDims[0]\n",
    "            firstFrames = firstFrames.T[retainDims].T\n",
    "        else:\n",
    "            retainDims = None\n",
    "\n",
    "        meanFirstFrames = firstFrames.mean(axis=0)\n",
    "        #     stdFirstFrames = firstFrames.std(axis=0)\n",
    "\n",
    "        pxSize = im.Pixels.get_PhysicalSizeX()\n",
    "        pxUnit = im.Pixels.get_PhysicalSizeXUnit()\n",
    "        text = \"\\n\".join([\" %s:%i\"%(c,dimensions[c])  for c in \"XYT\"])\n",
    "        if dimensions[\"T\"]>1:\n",
    "            text += \"\\n f:%.1f Hz\"%dimensions['freq']\n",
    "        dimensions[\"pxSize\"] = pxSize\n",
    "        dimensions[\"pxUnit\"] = pxUnit\n",
    "        pd.DataFrame([dimensions]).to_csv(dimFile, index=False)\n",
    "        \n",
    "        try:\n",
    "            plotImage(meanFirstFrames.T,pxSize=pxSize,pxUnit=pxUnit,\n",
    "                      savePath=imageFile,\n",
    "                      addInfo=text)\n",
    "            plt.close()\n",
    "        except:\n",
    "            pass\n",
    "\n",
    "        time = getTimes(xml_=xml,idx_=iSeries)\n",
    "\n",
    "        mintype = pd.to_numeric(firstFrames.flatten(),downcast=\"unsigned\").dtype\n",
    "        allimage = importFrames(\n",
    "            rdr,\n",
    "            idx=iSeries,\n",
    "            dtype=mintype,\n",
    "            which=(dimensions['T'],None,None,1)[:3+int(extraDims)]\n",
    "        #     which=(None,None,None)+tuple([retainDims][:int(extraDims)])\n",
    "        )\n",
    "        np.savez_compressed(npzFile,time=time,data=allimage)\n",
    "        return 0\n",
    "    except:\n",
    "        warn(f\"something was off doing {iSeries} in file {pathToRecord}.\\nI'll continue, but with a note in the folder.\")\n",
    "        with open(os.path.join(newdir,filename.replace(extension,\".err\")),\"a\") as fw:\n",
    "            fw.write(f\"error for series number {iSeries}\\n\")\n",
    "        return 1"
   ]
  },
  {
   "cell_type": "code",
   "execution_count": 3,
   "metadata": {
    "ExecuteTime": {
     "end_time": "2019-10-31T20:11:48.260226Z",
     "start_time": "2019-10-31T20:11:48.251530Z"
    }
   },
   "outputs": [],
   "source": [
    "def prepareOverview(directory):    \n",
    "    overview = []\n",
    "    for txtname in os.listdir(directory)[::-1]:\n",
    "        if not txtname.endswith(\"txt\"):\n",
    "            continue\n",
    "        try:\n",
    "            sr = pd.read_csv(os.path.join(directory,txtname)).loc[0]\n",
    "            sr = sr.append(pd.Series({\n",
    "                \"filename\"    :    txtname.rstrip(\".txt\"),\n",
    "                \"iSeries\"     :int(txtname.split(\"_\")[-2]),\n",
    "                \"Series_Name\" :    txtname.split(\"_\")[-1],\n",
    "            }))\n",
    "        except:\n",
    "            sr = pd.Series({\"filename\":txtname})\n",
    "        overview += [sr]\n",
    "\n",
    "    overview = pd.DataFrame(overview)\n",
    "    overview.set_index(\"iSeries\",inplace=True)\n",
    "    overview.sort_index(inplace=True)\n",
    "\n",
    "    overview.to_csv(os.path.join(directory,\"overview.csv\"))"
   ]
  },
  {
   "cell_type": "markdown",
   "metadata": {},
   "source": [
    "# If you want to parse a single record"
   ]
  },
  {
   "cell_type": "code",
   "execution_count": 4,
   "metadata": {
    "ExecuteTime": {
     "end_time": "2019-10-31T20:11:59.252053Z",
     "start_time": "2019-10-31T20:11:59.249102Z"
    },
    "code_folding": []
   },
   "outputs": [],
   "source": [
    "pathToRecord = '/Volumes/physio/team/slakrupnik/project/experiments/MB/Cytokines/cytokines-2.lif'"
   ]
  },
  {
   "cell_type": "code",
   "execution_count": 5,
   "metadata": {
    "ExecuteTime": {
     "end_time": "2019-10-31T20:24:32.118906Z",
     "start_time": "2019-10-31T20:12:12.637224Z"
    },
    "code_folding": []
   },
   "outputs": [],
   "source": [
    "md = bf.get_omexml_metadata(pathToRecord)\n",
    "xml = bf.OMEXML(md)\n",
    "Nimages = xml.get_image_count()\n",
    "rdr = bf.ImageReader(pathToRecord, perform_init=True)\n",
    "pathToDir, filename = os.path.split(pathToRecord)\n",
    "extension = \".\"+filename.split(\".\")[-1]\n",
    "newdir = os.path.join(pathToDir,filename.rstrip(extension))\n",
    "\n",
    "if not os.path.isdir(newdir):\n",
    "    os.makedirs(newdir)\n",
    "\n",
    "errd = 0\n",
    "for iSeries in range(Nimages):\n",
    "    errd += do_single_Series(iSeries)\n",
    "\n",
    "if errd==0:\n",
    "    movecarefully(pathToRecord,os.path.join(newdir,filename+\"_done\"))\n",
    "\n",
    "if Nimages>1:\n",
    "    prepareOverview(newdir)"
   ]
  },
  {
   "cell_type": "code",
   "execution_count": 9,
   "metadata": {
    "ExecuteTime": {
     "end_time": "2019-10-31T20:49:20.743592Z",
     "start_time": "2019-10-31T20:49:20.740756Z"
    }
   },
   "outputs": [],
   "source": [
    "# xml.to_xml()"
   ]
  },
  {
   "cell_type": "markdown",
   "metadata": {},
   "source": [
    "# If you want to parse all records within a directory"
   ]
  },
  {
   "cell_type": "code",
   "execution_count": 7,
   "metadata": {
    "ExecuteTime": {
     "end_time": "2019-10-31T20:24:32.136105Z",
     "start_time": "2019-10-31T20:24:32.128321Z"
    },
    "code_folding": []
   },
   "outputs": [],
   "source": [
    "pathToFolder = '/Volumes/physio/team/slakrupnik/project/experiments/MB/Cytokines/'"
   ]
  },
  {
   "cell_type": "code",
   "execution_count": null,
   "metadata": {},
   "outputs": [],
   "source": [
    "for filename in os.listdir(pathToFolder):\n",
    "    pathToRecord = os.path.join(pathToFolder,filename)\n",
    "    try:\n",
    "        md = bf.get_omexml_metadata(pathToRecord)\n",
    "    except:\n",
    "        # if it is something else\n",
    "        continue\n",
    "    xml = bf.OMEXML(md)\n",
    "    Nimages = xml.get_image_count()\n",
    "    rdr = bf.ImageReader(pathToRecord, perform_init=True)\n",
    "    pathToDir, filename = os.path.split(pathToRecord)\n",
    "    extension = \".\"+filename.split(\".\")[-1]\n",
    "    newdir = os.path.join(pathToDir,filename.rstrip(extension))\n",
    "\n",
    "    if not os.path.isdir(newdir):\n",
    "        os.makedirs(newdir)\n",
    "\n",
    "    errd = 0\n",
    "    for iSeries in range(Nimages):\n",
    "        errd += do_single_Series(iSeries)\n",
    "\n",
    "    if errd==0:\n",
    "        movecarefully(pathToRecord,os.path.join(newdir,filename+\"_done\"))\n",
    "\n",
    "    if Nimages>1:\n",
    "        prepareOverview(newdir)"
   ]
  }
 ],
 "metadata": {
  "kernelspec": {
   "display_name": "Python [conda env:physio]",
   "language": "python",
   "name": "conda-env-physio-py"
  },
  "language_info": {
   "codemirror_mode": {
    "name": "ipython",
    "version": 3
   },
   "file_extension": ".py",
   "mimetype": "text/x-python",
   "name": "python",
   "nbconvert_exporter": "python",
   "pygments_lexer": "ipython3",
   "version": "3.7.4"
  },
  "toc": {
   "base_numbering": 1,
   "nav_menu": {},
   "number_sections": true,
   "sideBar": true,
   "skip_h1_title": false,
   "title_cell": "Table of Contents",
   "title_sidebar": "Contents",
   "toc_cell": false,
   "toc_position": {},
   "toc_section_display": true,
   "toc_window_display": false
  }
 },
 "nbformat": 4,
 "nbformat_minor": 4
}
