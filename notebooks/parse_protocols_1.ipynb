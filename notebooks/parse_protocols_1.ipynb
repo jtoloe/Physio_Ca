{
 "cells": [
  {
   "cell_type": "code",
   "execution_count": 1,
   "metadata": {
    "ExecuteTime": {
     "end_time": "2020-07-08T12:57:46.748495Z",
     "start_time": "2020-07-08T12:57:46.740511Z"
    }
   },
   "outputs": [
    {
     "data": {
      "text/html": [
       "<style>.container { width:100% !important; }</style>"
      ],
      "text/plain": [
       "<IPython.core.display.HTML object>"
      ]
     },
     "metadata": {},
     "output_type": "display_data"
    }
   ],
   "source": [
    "from IPython.core.display import display, HTML\n",
    "display(HTML(\"<style>.container { width:100% !important; }</style>\"))"
   ]
  },
  {
   "cell_type": "code",
   "execution_count": 1,
   "metadata": {
    "ExecuteTime": {
     "end_time": "2020-07-20T09:25:13.671338Z",
     "start_time": "2020-07-20T09:25:12.910183Z"
    }
   },
   "outputs": [],
   "source": [
    "## importing stuff\n",
    "import os\n",
    "import pickle\n",
    "from sys import path as syspath\n",
    "syspath.append(os.path.expanduser(\"~/srdjan_functs/\"))\n",
    "import javabridge\n",
    "from bioformats import JARS as bfJARS\n",
    "javabridge.start_vm(class_path=bfJARS, max_heap_size=\"20G\")\n",
    "import numpy as np\n",
    "import matplotlib.pyplot as plt\n",
    "\n",
    "%config InlineBackend.figure_format = 'retina'\n",
    "%load_ext autoreload\n",
    "%autoreload 2\n",
    "\n",
    "from IPython.display import display\n",
    "import pandas as pd\n",
    "\n",
    "from islets.Recording import Recording#, saveMovie\n",
    "# from islets.Regions import Regions\n",
    "# from islets.numeric import power_spectrum, rebin\n",
    "\n",
    "from matplotlib.colors import LogNorm"
   ]
  },
  {
   "cell_type": "code",
   "execution_count": 2,
   "metadata": {
    "ExecuteTime": {
     "end_time": "2020-07-20T09:25:15.257989Z",
     "start_time": "2020-07-20T09:25:15.244739Z"
    }
   },
   "outputs": [],
   "source": [
    "pd.set_option('display.max_rows', 100)\n",
    "pd.set_option('display.max_columns', 100)"
   ]
  },
  {
   "cell_type": "code",
   "execution_count": 3,
   "metadata": {
    "ExecuteTime": {
     "end_time": "2020-07-20T09:25:18.262357Z",
     "start_time": "2020-07-20T09:25:17.320014Z"
    }
   },
   "outputs": [],
   "source": [
    "from process_series import parse_leica"
   ]
  },
  {
   "cell_type": "code",
   "execution_count": 4,
   "metadata": {
    "ExecuteTime": {
     "end_time": "2020-07-20T09:25:18.301486Z",
     "start_time": "2020-07-20T09:25:18.263795Z"
    }
   },
   "outputs": [],
   "source": [
    "import parsing_1 as parser"
   ]
  },
  {
   "cell_type": "code",
   "execution_count": 5,
   "metadata": {
    "ExecuteTime": {
     "end_time": "2020-07-20T09:25:18.994428Z",
     "start_time": "2020-07-20T09:25:18.302871Z"
    }
   },
   "outputs": [],
   "source": [
    "parser.update_protocols()"
   ]
  },
  {
   "cell_type": "code",
   "execution_count": 6,
   "metadata": {
    "ExecuteTime": {
     "end_time": "2020-07-20T09:25:20.593643Z",
     "start_time": "2020-07-20T09:25:20.557376Z"
    }
   },
   "outputs": [
    {
     "name": "stdout",
     "output_type": "stream",
     "text": [
      "deleted  sex as not useful\n",
      "deleted  frequency as not useful\n",
      "when pH is NAN I will assume it is neutral (7.4).\n"
     ]
    }
   ],
   "source": [
    "protocols = parser.import_protocols(parseMetadata=False)"
   ]
  },
  {
   "cell_type": "code",
   "execution_count": 7,
   "metadata": {
    "ExecuteTime": {
     "end_time": "2020-07-20T09:25:25.844107Z",
     "start_time": "2020-07-20T09:25:25.799480Z"
    }
   },
   "outputs": [],
   "source": [
    "protocols[\"recording\"] = [x.split(\"_\")[0] for x in protocols.experiment]\n",
    "protocols[\"spreadsheet name\"] = [\"_\".join(x.split(\"_\")[1:]) for x in protocols.experiment]\n",
    "protocols[\"Date\"] = pd.to_datetime(protocols[\"date\"], format=\"%Y_%m_%d\", errors=\"coerce\")"
   ]
  },
  {
   "cell_type": "code",
   "execution_count": 8,
   "metadata": {
    "ExecuteTime": {
     "end_time": "2020-07-20T09:25:28.523387Z",
     "start_time": "2020-07-20T09:25:28.480933Z"
    }
   },
   "outputs": [],
   "source": [
    "newProtocols = []\n",
    "\n",
    "for (date,recname), df in protocols.groupby([\"date\",\"recording\"]):\n",
    "    if \"Experiment54\" not in recname: continue\n",
    "    found = False\n",
    "    for ext in [\"lif\",\"nd2\"]:\n",
    "        recfile = f\"/data/Sandra/{date.split('_')[0]}/{date}/{recname}.{ext}\"\n",
    "        if os.path.isfile(recfile):\n",
    "            found=True\n",
    "            break\n",
    "    if not found:\n",
    "        print (f\"{recname} is not where it is supposed to be \", f\"/data/Sandra/{date.split('_')[0]}/{date}/\")\n",
    "        continue\n",
    "    break\n",
    "    newProtocols += [df.copy()]\n",
    "    \n",
    "    recmeta = f\"/data/Sandra/{date.split('_')[0]}/{date}/.{recname}.{ext}.meta\""
   ]
  },
  {
   "cell_type": "code",
   "execution_count": 9,
   "metadata": {
    "ExecuteTime": {
     "end_time": "2020-07-20T09:25:45.919994Z",
     "start_time": "2020-07-20T09:25:45.808297Z"
    }
   },
   "outputs": [],
   "source": [
    "rec = Recording(recfile)\n",
    "rec.calc_gaps()\n",
    "indices = parse_leica(rec, index=True)\n",
    "\n",
    "for ii, outname in indices:\n",
    "    if len(ii)>1:\n",
    "        row = rec.metadata.loc[ii[0]].copy()\n",
    "        row[\"Name\"] = outname\n",
    "        row[\"End time\"] = rec.metadata.loc[ii[-1],\"End time\"]\n",
    "        row[\"compound\"] = rec.metadata.loc[ii,[\"Name\",\"Start time\",\"End time\",\"Duration\",\"gap\"]].copy()\n",
    "        rec.metadata.drop(index=ii, inplace=True)\n",
    "        rec.metadata = rec.metadata.append(row)\n",
    "rec.metadata[\"Duration\"] = rec.metadata[\"End time\"] - rec.metadata[\"Start time\"]\n",
    "rec.metadata.sort_values(\"Name\", inplace=True)\n",
    "\n",
    "merged = pd.merge(rec.metadata,df,\n",
    "         how=\"outer\", right_on=\"spreadsheet name\",left_on=\"Name\")\n",
    "\n",
    "# merged[\"series\"] = merged[\"Name\"].copy()\n",
    "\n",
    "merged[\"Date\"] = df.Date.iloc[0]\n",
    "merged[\"recording\"] = df.recording.iloc[0]\n",
    "\n",
    "for k in [\"date\",\"experiment\"]:\n",
    "    del merged[k]"
   ]
  },
  {
   "cell_type": "code",
   "execution_count": 10,
   "metadata": {
    "ExecuteTime": {
     "end_time": "2020-07-20T09:25:46.082436Z",
     "start_time": "2020-07-20T09:25:46.059109Z"
    }
   },
   "outputs": [],
   "source": [
    "firstOrder = [\"Date\",\"recording\",\"spreadsheet name\",\"Name\",\"Slice number\"]\n",
    "firstOrder += ['Frequency', 'Duration','SizeT', 'SizeX', 'SizeY', 'pxSize', 'pH', 'glucose', 'treatment', 'comments', 'microscope', 'dye',]\n",
    "merged = merged[firstOrder+[c for c in merged.columns if c not in firstOrder]]"
   ]
  },
  {
   "cell_type": "code",
   "execution_count": 11,
   "metadata": {
    "ExecuteTime": {
     "end_time": "2020-07-20T09:25:46.414031Z",
     "start_time": "2020-07-20T09:25:46.376776Z"
    },
    "scrolled": false
   },
   "outputs": [
    {
     "data": {
      "text/html": [
       "<div>\n",
       "<style scoped>\n",
       "    .dataframe tbody tr th:only-of-type {\n",
       "        vertical-align: middle;\n",
       "    }\n",
       "\n",
       "    .dataframe tbody tr th {\n",
       "        vertical-align: top;\n",
       "    }\n",
       "\n",
       "    .dataframe thead th {\n",
       "        text-align: right;\n",
       "    }\n",
       "</style>\n",
       "<table border=\"1\" class=\"dataframe\">\n",
       "  <thead>\n",
       "    <tr style=\"text-align: right;\">\n",
       "      <th></th>\n",
       "      <th>Date</th>\n",
       "      <th>recording</th>\n",
       "      <th>spreadsheet name</th>\n",
       "      <th>Name</th>\n",
       "      <th>Slice number</th>\n",
       "      <th>Frequency</th>\n",
       "      <th>Duration</th>\n",
       "      <th>SizeT</th>\n",
       "      <th>SizeX</th>\n",
       "      <th>SizeY</th>\n",
       "      <th>pxSize</th>\n",
       "      <th>pH</th>\n",
       "      <th>glucose</th>\n",
       "      <th>treatment</th>\n",
       "      <th>comments</th>\n",
       "      <th>microscope</th>\n",
       "      <th>dye</th>\n",
       "      <th>pxUnit</th>\n",
       "      <th>bit depth</th>\n",
       "      <th>Start time</th>\n",
       "      <th>End time</th>\n",
       "      <th>gap</th>\n",
       "      <th>mouse/human</th>\n",
       "      <th>part of pancreas</th>\n",
       "      <th>pH_</th>\n",
       "      <th>glucose_</th>\n",
       "      <th>magnification</th>\n",
       "    </tr>\n",
       "  </thead>\n",
       "  <tbody>\n",
       "    <tr>\n",
       "      <th>0</th>\n",
       "      <td>2020-06-18</td>\n",
       "      <td>Experiment54a</td>\n",
       "      <td>Series003</td>\n",
       "      <td>Series003</td>\n",
       "      <td>1.0</td>\n",
       "      <td>9.89</td>\n",
       "      <td>00:12:26.807124</td>\n",
       "      <td>7385</td>\n",
       "      <td>256</td>\n",
       "      <td>256</td>\n",
       "      <td>0.857</td>\n",
       "      <td>7.4</td>\n",
       "      <td>15.0</td>\n",
       "      <td>nan</td>\n",
       "      <td>31yr old female, BMI = 20.3, HbA1c = 4.8. Prep...</td>\n",
       "      <td>leica CF_SP8</td>\n",
       "      <td>Calbryte-520</td>\n",
       "      <td>µm</td>\n",
       "      <td>uint8</td>\n",
       "      <td>2020-06-18 13:43:48</td>\n",
       "      <td>2020-06-18 13:56:14.807124239</td>\n",
       "      <td>NaN</td>\n",
       "      <td>human</td>\n",
       "      <td>isolated islets</td>\n",
       "      <td>7.4</td>\n",
       "      <td>15</td>\n",
       "      <td>20x</td>\n",
       "    </tr>\n",
       "    <tr>\n",
       "      <th>1</th>\n",
       "      <td>2020-06-18</td>\n",
       "      <td>Experiment54a</td>\n",
       "      <td>Series004</td>\n",
       "      <td>Series004</td>\n",
       "      <td>2.0</td>\n",
       "      <td>19.80</td>\n",
       "      <td>00:23:42.698572</td>\n",
       "      <td>28132</td>\n",
       "      <td>128</td>\n",
       "      <td>128</td>\n",
       "      <td>1.530</td>\n",
       "      <td>7.4</td>\n",
       "      <td>8.0</td>\n",
       "      <td>nan</td>\n",
       "      <td>very long events</td>\n",
       "      <td>leica CF_SP8</td>\n",
       "      <td>Calbryte-520</td>\n",
       "      <td>µm</td>\n",
       "      <td>uint8</td>\n",
       "      <td>2020-06-18 14:09:14</td>\n",
       "      <td>2020-06-18 14:32:56.698572968</td>\n",
       "      <td>779.192876</td>\n",
       "      <td>BL6J</td>\n",
       "      <td>NaN</td>\n",
       "      <td>7.4</td>\n",
       "      <td>8</td>\n",
       "      <td>20x</td>\n",
       "    </tr>\n",
       "  </tbody>\n",
       "</table>\n",
       "</div>"
      ],
      "text/plain": [
       "        Date      recording spreadsheet name       Name  Slice number  \\\n",
       "0 2020-06-18  Experiment54a        Series003  Series003           1.0   \n",
       "1 2020-06-18  Experiment54a        Series004  Series004           2.0   \n",
       "\n",
       "   Frequency        Duration  SizeT  SizeX  SizeY  pxSize   pH  glucose  \\\n",
       "0       9.89 00:12:26.807124   7385    256    256   0.857  7.4     15.0   \n",
       "1      19.80 00:23:42.698572  28132    128    128   1.530  7.4      8.0   \n",
       "\n",
       "  treatment                                           comments    microscope  \\\n",
       "0       nan  31yr old female, BMI = 20.3, HbA1c = 4.8. Prep...  leica CF_SP8   \n",
       "1       nan                                  very long events   leica CF_SP8   \n",
       "\n",
       "            dye pxUnit bit depth          Start time  \\\n",
       "0  Calbryte-520     µm     uint8 2020-06-18 13:43:48   \n",
       "1  Calbryte-520     µm     uint8 2020-06-18 14:09:14   \n",
       "\n",
       "                       End time         gap mouse/human part of pancreas  pH_  \\\n",
       "0 2020-06-18 13:56:14.807124239         NaN      human   isolated islets  7.4   \n",
       "1 2020-06-18 14:32:56.698572968  779.192876        BL6J              NaN  7.4   \n",
       "\n",
       "  glucose_ magnification  \n",
       "0       15           20x  \n",
       "1        8           20x  "
      ]
     },
     "execution_count": 11,
     "metadata": {},
     "output_type": "execute_result"
    }
   ],
   "source": [
    "merged"
   ]
  },
  {
   "cell_type": "code",
   "execution_count": null,
   "metadata": {},
   "outputs": [],
   "source": []
  },
  {
   "cell_type": "code",
   "execution_count": 44,
   "metadata": {
    "ExecuteTime": {
     "end_time": "2020-07-08T11:54:36.258039Z",
     "start_time": "2020-07-08T11:54:35.911565Z"
    }
   },
   "outputs": [],
   "source": [
    "newProtocols = pd.concat(newProtocols,ignore_index=True)"
   ]
  },
  {
   "cell_type": "code",
   "execution_count": 45,
   "metadata": {
    "ExecuteTime": {
     "end_time": "2020-07-08T11:54:38.626306Z",
     "start_time": "2020-07-08T11:54:38.595337Z"
    }
   },
   "outputs": [
    {
     "data": {
      "text/html": [
       "<div>\n",
       "<style scoped>\n",
       "    .dataframe tbody tr th:only-of-type {\n",
       "        vertical-align: middle;\n",
       "    }\n",
       "\n",
       "    .dataframe tbody tr th {\n",
       "        vertical-align: top;\n",
       "    }\n",
       "\n",
       "    .dataframe thead th {\n",
       "        text-align: right;\n",
       "    }\n",
       "</style>\n",
       "<table border=\"1\" class=\"dataframe\">\n",
       "  <thead>\n",
       "    <tr style=\"text-align: right;\">\n",
       "      <th></th>\n",
       "      <th>Date</th>\n",
       "      <th>recording</th>\n",
       "      <th>series</th>\n",
       "      <th>Slice number</th>\n",
       "      <th>date</th>\n",
       "      <th>experiment</th>\n",
       "      <th>microscope</th>\n",
       "      <th>mouse/human</th>\n",
       "      <th>pH</th>\n",
       "      <th>glucose</th>\n",
       "      <th>treatment</th>\n",
       "      <th>comments</th>\n",
       "      <th>dye</th>\n",
       "      <th>part of pancreas</th>\n",
       "      <th>pH_</th>\n",
       "      <th>glucose_</th>\n",
       "      <th>magnification</th>\n",
       "    </tr>\n",
       "  </thead>\n",
       "  <tbody>\n",
       "    <tr>\n",
       "      <th>0</th>\n",
       "      <td>2019-06-10</td>\n",
       "      <td>Experiment21</td>\n",
       "      <td>Series021</td>\n",
       "      <td>1.0</td>\n",
       "      <td>2019_06_10</td>\n",
       "      <td>Experiment21_Series021</td>\n",
       "      <td>Leica upright</td>\n",
       "      <td>NMRI</td>\n",
       "      <td>7.4</td>\n",
       "      <td>12.0</td>\n",
       "      <td>pH changes (7.4 63-1240; 7.1 1240-1856; 7.7 18...</td>\n",
       "      <td>NaN</td>\n",
       "      <td>Calbryte-520</td>\n",
       "      <td>NaN</td>\n",
       "      <td>NaN</td>\n",
       "      <td>12</td>\n",
       "      <td>20x</td>\n",
       "    </tr>\n",
       "    <tr>\n",
       "      <th>1</th>\n",
       "      <td>2019-06-10</td>\n",
       "      <td>Experiment21</td>\n",
       "      <td>Series029</td>\n",
       "      <td>2.0</td>\n",
       "      <td>2019_06_10</td>\n",
       "      <td>Experiment21_Series029</td>\n",
       "      <td>Leica upright</td>\n",
       "      <td>NMRI</td>\n",
       "      <td>7.4</td>\n",
       "      <td>8.0</td>\n",
       "      <td>pH changes (7.4 42-1286; 7.1 1286-1920; 7.7 19...</td>\n",
       "      <td>NaN</td>\n",
       "      <td>Calbryte-520</td>\n",
       "      <td>NaN</td>\n",
       "      <td>NaN</td>\n",
       "      <td>8</td>\n",
       "      <td>20x</td>\n",
       "    </tr>\n",
       "    <tr>\n",
       "      <th>2</th>\n",
       "      <td>2019-06-10</td>\n",
       "      <td>Experiment21</td>\n",
       "      <td>Series034</td>\n",
       "      <td>3.0</td>\n",
       "      <td>2019_06_10</td>\n",
       "      <td>Experiment21_Series034</td>\n",
       "      <td>Leica upright</td>\n",
       "      <td>NMRI</td>\n",
       "      <td>7.4</td>\n",
       "      <td>8.0</td>\n",
       "      <td>pH changes (7.4 36-1286; 7.1 1286-1921; 7.7 19...</td>\n",
       "      <td>NaN</td>\n",
       "      <td>Calbryte-520</td>\n",
       "      <td>NaN</td>\n",
       "      <td>NaN</td>\n",
       "      <td>8</td>\n",
       "      <td>20x</td>\n",
       "    </tr>\n",
       "    <tr>\n",
       "      <th>3</th>\n",
       "      <td>2019-08-13</td>\n",
       "      <td>Experiment29</td>\n",
       "      <td>Series052-060</td>\n",
       "      <td>NaN</td>\n",
       "      <td>2019_08_13</td>\n",
       "      <td>Experiment29_Series052-060</td>\n",
       "      <td>Leica upright</td>\n",
       "      <td>NMRI</td>\n",
       "      <td>7.4</td>\n",
       "      <td>6.0</td>\n",
       "      <td>100 nM ryanodine</td>\n",
       "      <td>NaN</td>\n",
       "      <td>Calbryte-520</td>\n",
       "      <td>NaN</td>\n",
       "      <td>7.4</td>\n",
       "      <td>6</td>\n",
       "      <td>20x</td>\n",
       "    </tr>\n",
       "    <tr>\n",
       "      <th>4</th>\n",
       "      <td>2019-08-13</td>\n",
       "      <td>Experiment29</td>\n",
       "      <td>Series061</td>\n",
       "      <td>NaN</td>\n",
       "      <td>2019_08_13</td>\n",
       "      <td>Experiment29_Series061</td>\n",
       "      <td>Leica upright</td>\n",
       "      <td>NMRI</td>\n",
       "      <td>7.4</td>\n",
       "      <td>6.0</td>\n",
       "      <td>100 nM ryanodine</td>\n",
       "      <td>NaN</td>\n",
       "      <td>Calbryte-520</td>\n",
       "      <td>NaN</td>\n",
       "      <td>7.4</td>\n",
       "      <td>6</td>\n",
       "      <td>20x</td>\n",
       "    </tr>\n",
       "    <tr>\n",
       "      <th>...</th>\n",
       "      <td>...</td>\n",
       "      <td>...</td>\n",
       "      <td>...</td>\n",
       "      <td>...</td>\n",
       "      <td>...</td>\n",
       "      <td>...</td>\n",
       "      <td>...</td>\n",
       "      <td>...</td>\n",
       "      <td>...</td>\n",
       "      <td>...</td>\n",
       "      <td>...</td>\n",
       "      <td>...</td>\n",
       "      <td>...</td>\n",
       "      <td>...</td>\n",
       "      <td>...</td>\n",
       "      <td>...</td>\n",
       "      <td>...</td>\n",
       "    </tr>\n",
       "    <tr>\n",
       "      <th>340</th>\n",
       "      <td>2020-07-01</td>\n",
       "      <td>Experiment58c</td>\n",
       "      <td>Series002</td>\n",
       "      <td>3.0</td>\n",
       "      <td>2020_07_01</td>\n",
       "      <td>Experiment58c_Series002</td>\n",
       "      <td>leica CF_SP8</td>\n",
       "      <td>BL6J</td>\n",
       "      <td>7.4</td>\n",
       "      <td>8.0</td>\n",
       "      <td>nan</td>\n",
       "      <td>two islets</td>\n",
       "      <td>Calbryte-520</td>\n",
       "      <td>NaN</td>\n",
       "      <td>7.4</td>\n",
       "      <td>8</td>\n",
       "      <td>20x</td>\n",
       "    </tr>\n",
       "    <tr>\n",
       "      <th>341</th>\n",
       "      <td>2020-07-01</td>\n",
       "      <td>Experiment58d</td>\n",
       "      <td>Series001</td>\n",
       "      <td>4.0</td>\n",
       "      <td>2020_07_01</td>\n",
       "      <td>Experiment58d_Series001</td>\n",
       "      <td>leica CF_SP8</td>\n",
       "      <td>BL6J</td>\n",
       "      <td>7.4</td>\n",
       "      <td>8.0</td>\n",
       "      <td>nan</td>\n",
       "      <td>NaN</td>\n",
       "      <td>Calbryte-520</td>\n",
       "      <td>NaN</td>\n",
       "      <td>7.4</td>\n",
       "      <td>8</td>\n",
       "      <td>20x</td>\n",
       "    </tr>\n",
       "    <tr>\n",
       "      <th>342</th>\n",
       "      <td>2020-07-01</td>\n",
       "      <td>Experiment58d</td>\n",
       "      <td>Series003</td>\n",
       "      <td>5.0</td>\n",
       "      <td>2020_07_01</td>\n",
       "      <td>Experiment58d_Series003</td>\n",
       "      <td>leica CF_SP8</td>\n",
       "      <td>BL6J</td>\n",
       "      <td>7.4</td>\n",
       "      <td>8.0</td>\n",
       "      <td>nan</td>\n",
       "      <td>NaN</td>\n",
       "      <td>Calbryte-520</td>\n",
       "      <td>NaN</td>\n",
       "      <td>7.4</td>\n",
       "      <td>8</td>\n",
       "      <td>20x</td>\n",
       "    </tr>\n",
       "    <tr>\n",
       "      <th>343</th>\n",
       "      <td>2020-07-01</td>\n",
       "      <td>Experiment58d</td>\n",
       "      <td>Series006</td>\n",
       "      <td>6.0</td>\n",
       "      <td>2020_07_01</td>\n",
       "      <td>Experiment58d_Series006</td>\n",
       "      <td>leica CF_SP8</td>\n",
       "      <td>BL6J</td>\n",
       "      <td>7.4</td>\n",
       "      <td>8.0</td>\n",
       "      <td>nan</td>\n",
       "      <td>NaN</td>\n",
       "      <td>Calbryte-520</td>\n",
       "      <td>NaN</td>\n",
       "      <td>7.4</td>\n",
       "      <td>8</td>\n",
       "      <td>20x</td>\n",
       "    </tr>\n",
       "    <tr>\n",
       "      <th>344</th>\n",
       "      <td>2020-07-01</td>\n",
       "      <td>Experiment58e</td>\n",
       "      <td>Series002</td>\n",
       "      <td>7.0</td>\n",
       "      <td>2020_07_01</td>\n",
       "      <td>Experiment58e_Series002</td>\n",
       "      <td>leica CF_SP8</td>\n",
       "      <td>BL6J</td>\n",
       "      <td>7.4</td>\n",
       "      <td>NaN</td>\n",
       "      <td>Glucose 8; 1240 sec Glucose 6; 1700 sec  Xesto...</td>\n",
       "      <td>NaN</td>\n",
       "      <td>Calbryte-520+Cal-520</td>\n",
       "      <td>NaN</td>\n",
       "      <td>7.4</td>\n",
       "      <td>NaN</td>\n",
       "      <td>20x</td>\n",
       "    </tr>\n",
       "  </tbody>\n",
       "</table>\n",
       "<p>345 rows × 17 columns</p>\n",
       "</div>"
      ],
      "text/plain": [
       "          Date      recording         series  Slice number        date  \\\n",
       "0   2019-06-10   Experiment21      Series021           1.0  2019_06_10   \n",
       "1   2019-06-10   Experiment21      Series029           2.0  2019_06_10   \n",
       "2   2019-06-10   Experiment21      Series034           3.0  2019_06_10   \n",
       "3   2019-08-13   Experiment29  Series052-060           NaN  2019_08_13   \n",
       "4   2019-08-13   Experiment29      Series061           NaN  2019_08_13   \n",
       "..         ...            ...            ...           ...         ...   \n",
       "340 2020-07-01  Experiment58c      Series002           3.0  2020_07_01   \n",
       "341 2020-07-01  Experiment58d      Series001           4.0  2020_07_01   \n",
       "342 2020-07-01  Experiment58d      Series003           5.0  2020_07_01   \n",
       "343 2020-07-01  Experiment58d      Series006           6.0  2020_07_01   \n",
       "344 2020-07-01  Experiment58e      Series002           7.0  2020_07_01   \n",
       "\n",
       "                     experiment     microscope mouse/human   pH  glucose  \\\n",
       "0        Experiment21_Series021  Leica upright        NMRI  7.4     12.0   \n",
       "1        Experiment21_Series029  Leica upright        NMRI  7.4      8.0   \n",
       "2        Experiment21_Series034  Leica upright        NMRI  7.4      8.0   \n",
       "3    Experiment29_Series052-060  Leica upright        NMRI  7.4      6.0   \n",
       "4        Experiment29_Series061  Leica upright        NMRI  7.4      6.0   \n",
       "..                          ...            ...         ...  ...      ...   \n",
       "340     Experiment58c_Series002   leica CF_SP8        BL6J  7.4      8.0   \n",
       "341     Experiment58d_Series001   leica CF_SP8        BL6J  7.4      8.0   \n",
       "342     Experiment58d_Series003   leica CF_SP8        BL6J  7.4      8.0   \n",
       "343     Experiment58d_Series006   leica CF_SP8        BL6J  7.4      8.0   \n",
       "344     Experiment58e_Series002   leica CF_SP8        BL6J  7.4      NaN   \n",
       "\n",
       "                                             treatment     comments  \\\n",
       "0    pH changes (7.4 63-1240; 7.1 1240-1856; 7.7 18...          NaN   \n",
       "1    pH changes (7.4 42-1286; 7.1 1286-1920; 7.7 19...          NaN   \n",
       "2    pH changes (7.4 36-1286; 7.1 1286-1921; 7.7 19...          NaN   \n",
       "3                                     100 nM ryanodine          NaN   \n",
       "4                                     100 nM ryanodine          NaN   \n",
       "..                                                 ...          ...   \n",
       "340                                                nan  two islets    \n",
       "341                                                nan          NaN   \n",
       "342                                                nan          NaN   \n",
       "343                                                nan          NaN   \n",
       "344  Glucose 8; 1240 sec Glucose 6; 1700 sec  Xesto...          NaN   \n",
       "\n",
       "                      dye part of pancreas  pH_ glucose_ magnification  \n",
       "0            Calbryte-520              NaN  NaN       12           20x  \n",
       "1            Calbryte-520              NaN  NaN        8           20x  \n",
       "2            Calbryte-520              NaN  NaN        8           20x  \n",
       "3            Calbryte-520              NaN  7.4        6           20x  \n",
       "4            Calbryte-520              NaN  7.4        6           20x  \n",
       "..                    ...              ...  ...      ...           ...  \n",
       "340          Calbryte-520              NaN  7.4        8           20x  \n",
       "341          Calbryte-520              NaN  7.4        8           20x  \n",
       "342          Calbryte-520              NaN  7.4        8           20x  \n",
       "343          Calbryte-520              NaN  7.4        8           20x  \n",
       "344  Calbryte-520+Cal-520              NaN  7.4      NaN           20x  \n",
       "\n",
       "[345 rows x 17 columns]"
      ]
     },
     "execution_count": 45,
     "metadata": {},
     "output_type": "execute_result"
    }
   ],
   "source": [
    "newProtocols"
   ]
  },
  {
   "cell_type": "code",
   "execution_count": 72,
   "metadata": {
    "ExecuteTime": {
     "end_time": "2020-07-20T10:08:08.786436Z",
     "start_time": "2020-07-20T10:08:08.651641Z"
    }
   },
   "outputs": [],
   "source": [
    "newProtocols = []\n",
    "for cur,ds,fs in os.walk(\"/data/Sandra/\"):\n",
    "    for f in fs:\n",
    "        if \"protocol\" not in f: continue\n",
    "        protocolFilename = os.path.join(cur,f)\n",
    "        try:\n",
    "            protocol = pd.read_csv(protocolFilename)\n",
    "        except:\n",
    "            continue\n",
    "#         print(protocolFilename)\n",
    "#         display(protocol)\n",
    "        protocol.sort_values([\"compound\",\"begin\"], inplace=True)\n",
    "        row = OrderedDict([(cmp,df.concentration.values) for cmp,df in protocol.groupby(\"compound\")])\n",
    "        # print (f\"{protocolFilename} does not contain entry for glucose. #justsaying\")\n",
    "        row[\"treatment\"] = []\n",
    "        for cmp in protocol[\"compound\"].unique():\n",
    "            if cmp in [ \"glucose\"]: #\"pH\",\n",
    "                row[cmp] = [float(el.lower().rstrip(\"m\")) for el in row[cmp]]\n",
    "                for fn in min, max:\n",
    "                    row[cmp+\"_\"+fn.__name__] = fn(row[cmp])\n",
    "            else:\n",
    "                row[\"treatment\"] += [cmp]\n",
    "                del row[cmp]\n",
    "        exp,ser = protocolFilename.split(os.path.sep)[-3:-1]\n",
    "        exp = exp.split(\"_analysis\")[0]        \n",
    "        row[\"Experiment\"] = exp\n",
    "        row[\"Series\"] = ser\n",
    "        row[\"location\"] = os.path.split(protocolFilename)[0]\n",
    "        newProtocols += [row]"
   ]
  },
  {
   "cell_type": "code",
   "execution_count": 76,
   "metadata": {
    "ExecuteTime": {
     "end_time": "2020-07-20T10:09:10.497888Z",
     "start_time": "2020-07-20T10:09:10.463232Z"
    }
   },
   "outputs": [
    {
     "data": {
      "text/html": [
       "<div>\n",
       "<style scoped>\n",
       "    .dataframe tbody tr th:only-of-type {\n",
       "        vertical-align: middle;\n",
       "    }\n",
       "\n",
       "    .dataframe tbody tr th {\n",
       "        vertical-align: top;\n",
       "    }\n",
       "\n",
       "    .dataframe thead th {\n",
       "        text-align: right;\n",
       "    }\n",
       "</style>\n",
       "<table border=\"1\" class=\"dataframe\">\n",
       "  <thead>\n",
       "    <tr style=\"text-align: right;\">\n",
       "      <th></th>\n",
       "      <th>Experiment</th>\n",
       "      <th>Series</th>\n",
       "      <th>glucose</th>\n",
       "      <th>treatment</th>\n",
       "      <th>location</th>\n",
       "      <th>glucose_min</th>\n",
       "      <th>glucose_max</th>\n",
       "    </tr>\n",
       "  </thead>\n",
       "  <tbody>\n",
       "    <tr>\n",
       "      <th>3</th>\n",
       "      <td>Experiment59a.lif</td>\n",
       "      <td>Series003-4_0-5160s</td>\n",
       "      <td>[8.0]</td>\n",
       "      <td>[pH]</td>\n",
       "      <td>/data/Sandra/2020/2020_07_08/Experiment59a.lif...</td>\n",
       "      <td>8.0</td>\n",
       "      <td>8.0</td>\n",
       "    </tr>\n",
       "    <tr>\n",
       "      <th>4</th>\n",
       "      <td>Experiment59b.lif</td>\n",
       "      <td>Series002-5</td>\n",
       "      <td>[6.0, 8.0]</td>\n",
       "      <td>[pH]</td>\n",
       "      <td>/data/Sandra/2020/2020_07_08/Experiment59b.lif...</td>\n",
       "      <td>6.0</td>\n",
       "      <td>8.0</td>\n",
       "    </tr>\n",
       "    <tr>\n",
       "      <th>2</th>\n",
       "      <td>Experiment59c.lif</td>\n",
       "      <td>Series002-5</td>\n",
       "      <td>[6.0, 8.0, 6.0, 8.0, 6.0, 8.0]</td>\n",
       "      <td>[Ca]</td>\n",
       "      <td>/data/Sandra/2020/2020_07_08/Experiment59c.lif...</td>\n",
       "      <td>6.0</td>\n",
       "      <td>8.0</td>\n",
       "    </tr>\n",
       "    <tr>\n",
       "      <th>1</th>\n",
       "      <td>Experiment59d.lif</td>\n",
       "      <td>Series002-3</td>\n",
       "      <td>[6.0, 8.0]</td>\n",
       "      <td>[]</td>\n",
       "      <td>/data/Sandra/2020/2020_07_08/Experiment59d.lif...</td>\n",
       "      <td>6.0</td>\n",
       "      <td>8.0</td>\n",
       "    </tr>\n",
       "    <tr>\n",
       "      <th>0</th>\n",
       "      <td>Experiment59d.lif</td>\n",
       "      <td>Series005-7</td>\n",
       "      <td>[8.0, 6.0, 6.0]</td>\n",
       "      <td>[ACh]</td>\n",
       "      <td>/data/Sandra/2020/2020_07_08/Experiment59d.lif...</td>\n",
       "      <td>6.0</td>\n",
       "      <td>8.0</td>\n",
       "    </tr>\n",
       "    <tr>\n",
       "      <th>5</th>\n",
       "      <td>Experiment60a.lif</td>\n",
       "      <td>Series007</td>\n",
       "      <td>[8.0]</td>\n",
       "      <td>[]</td>\n",
       "      <td>/data/Sandra/2020/2020_07_15/Experiment60a.lif...</td>\n",
       "      <td>8.0</td>\n",
       "      <td>8.0</td>\n",
       "    </tr>\n",
       "    <tr>\n",
       "      <th>6</th>\n",
       "      <td>Experiment60b.lif</td>\n",
       "      <td>Series007-10</td>\n",
       "      <td>[6.0, 8.0]</td>\n",
       "      <td>[pH]</td>\n",
       "      <td>/data/Sandra/2020/2020_07_15/Experiment60b.lif...</td>\n",
       "      <td>6.0</td>\n",
       "      <td>8.0</td>\n",
       "    </tr>\n",
       "    <tr>\n",
       "      <th>7</th>\n",
       "      <td>Series003.nd2</td>\n",
       "      <td>all</td>\n",
       "      <td>[8.0]</td>\n",
       "      <td>[pH]</td>\n",
       "      <td>/data/Sandra/2020/2020_06_22/Series003.nd2_ana...</td>\n",
       "      <td>8.0</td>\n",
       "      <td>8.0</td>\n",
       "    </tr>\n",
       "  </tbody>\n",
       "</table>\n",
       "</div>"
      ],
      "text/plain": [
       "          Experiment               Series                         glucose  \\\n",
       "3  Experiment59a.lif  Series003-4_0-5160s                           [8.0]   \n",
       "4  Experiment59b.lif          Series002-5                      [6.0, 8.0]   \n",
       "2  Experiment59c.lif          Series002-5  [6.0, 8.0, 6.0, 8.0, 6.0, 8.0]   \n",
       "1  Experiment59d.lif          Series002-3                      [6.0, 8.0]   \n",
       "0  Experiment59d.lif          Series005-7                 [8.0, 6.0, 6.0]   \n",
       "5  Experiment60a.lif            Series007                           [8.0]   \n",
       "6  Experiment60b.lif         Series007-10                      [6.0, 8.0]   \n",
       "7      Series003.nd2                  all                           [8.0]   \n",
       "\n",
       "  treatment                                           location  glucose_min  \\\n",
       "3      [pH]  /data/Sandra/2020/2020_07_08/Experiment59a.lif...          8.0   \n",
       "4      [pH]  /data/Sandra/2020/2020_07_08/Experiment59b.lif...          6.0   \n",
       "2      [Ca]  /data/Sandra/2020/2020_07_08/Experiment59c.lif...          6.0   \n",
       "1        []  /data/Sandra/2020/2020_07_08/Experiment59d.lif...          6.0   \n",
       "0     [ACh]  /data/Sandra/2020/2020_07_08/Experiment59d.lif...          6.0   \n",
       "5        []  /data/Sandra/2020/2020_07_15/Experiment60a.lif...          8.0   \n",
       "6      [pH]  /data/Sandra/2020/2020_07_15/Experiment60b.lif...          6.0   \n",
       "7      [pH]  /data/Sandra/2020/2020_06_22/Series003.nd2_ana...          8.0   \n",
       "\n",
       "   glucose_max  \n",
       "3          8.0  \n",
       "4          8.0  \n",
       "2          8.0  \n",
       "1          8.0  \n",
       "0          8.0  \n",
       "5          8.0  \n",
       "6          8.0  \n",
       "7          8.0  "
      ]
     },
     "execution_count": 76,
     "metadata": {},
     "output_type": "execute_result"
    }
   ],
   "source": [
    "newProtocols = pd.DataFrame(newProtocols)\n",
    "firstCols = [\"Experiment\",\"Series\",\"glucose\",]+[\"pH\"]*int(\"pH\" in newProtocols)+[\"treatment\",\"location\"]\n",
    "newProtocols = newProtocols[firstCols + [c for c in newProtocols.columns if c not in firstCols]]\n",
    "newProtocols.sort_values(firstCols[:2])"
   ]
  },
  {
   "cell_type": "code",
   "execution_count": 51,
   "metadata": {
    "ExecuteTime": {
     "end_time": "2020-07-20T09:57:19.691985Z",
     "start_time": "2020-07-20T09:57:19.665613Z"
    }
   },
   "outputs": [
    {
     "data": {
      "text/plain": [
       "OrderedDict([('glucose', [8.0]),\n",
       "             ('pH', [7.4, 7.1]),\n",
       "             ('treatment', []),\n",
       "             ('glucose_min', 8.0),\n",
       "             ('glucose_max', 8.0),\n",
       "             ('pH_min', 7.1),\n",
       "             ('pH_max', 7.4)])"
      ]
     },
     "execution_count": 51,
     "metadata": {},
     "output_type": "execute_result"
    }
   ],
   "source": [
    "row"
   ]
  },
  {
   "cell_type": "code",
   "execution_count": 52,
   "metadata": {
    "ExecuteTime": {
     "end_time": "2020-07-20T09:57:22.440901Z",
     "start_time": "2020-07-20T09:57:22.415367Z"
    }
   },
   "outputs": [
    {
     "data": {
      "text/html": [
       "<div>\n",
       "<style scoped>\n",
       "    .dataframe tbody tr th:only-of-type {\n",
       "        vertical-align: middle;\n",
       "    }\n",
       "\n",
       "    .dataframe tbody tr th {\n",
       "        vertical-align: top;\n",
       "    }\n",
       "\n",
       "    .dataframe thead th {\n",
       "        text-align: right;\n",
       "    }\n",
       "</style>\n",
       "<table border=\"1\" class=\"dataframe\">\n",
       "  <thead>\n",
       "    <tr style=\"text-align: right;\">\n",
       "      <th></th>\n",
       "      <th>compound</th>\n",
       "      <th>concentration</th>\n",
       "      <th>begin</th>\n",
       "      <th>end</th>\n",
       "    </tr>\n",
       "  </thead>\n",
       "  <tbody>\n",
       "    <tr>\n",
       "      <th>0</th>\n",
       "      <td>glucose</td>\n",
       "      <td>8mM</td>\n",
       "      <td>NaN</td>\n",
       "      <td>NaN</td>\n",
       "    </tr>\n",
       "    <tr>\n",
       "      <th>1</th>\n",
       "      <td>pH</td>\n",
       "      <td>7.4</td>\n",
       "      <td>NaN</td>\n",
       "      <td>3:00</td>\n",
       "    </tr>\n",
       "    <tr>\n",
       "      <th>2</th>\n",
       "      <td>pH</td>\n",
       "      <td>7.1</td>\n",
       "      <td>5:00</td>\n",
       "      <td>NaN</td>\n",
       "    </tr>\n",
       "  </tbody>\n",
       "</table>\n",
       "</div>"
      ],
      "text/plain": [
       "  compound concentration begin   end\n",
       "0  glucose           8mM   NaN   NaN\n",
       "1       pH           7.4   NaN  3:00\n",
       "2       pH           7.1  5:00   NaN"
      ]
     },
     "execution_count": 52,
     "metadata": {},
     "output_type": "execute_result"
    }
   ],
   "source": [
    "protocol"
   ]
  },
  {
   "cell_type": "code",
   "execution_count": 34,
   "metadata": {
    "ExecuteTime": {
     "end_time": "2020-07-20T09:46:55.145585Z",
     "start_time": "2020-07-20T09:46:55.124464Z"
    }
   },
   "outputs": [
    {
     "data": {
      "text/plain": [
       "'min'"
      ]
     },
     "execution_count": 34,
     "metadata": {},
     "output_type": "execute_result"
    }
   ],
   "source": [
    "min.__name__"
   ]
  },
  {
   "cell_type": "code",
   "execution_count": 23,
   "metadata": {
    "ExecuteTime": {
     "end_time": "2020-07-20T09:39:48.647534Z",
     "start_time": "2020-07-20T09:39:48.626804Z"
    }
   },
   "outputs": [],
   "source": [
    "from collections import OrderedDict"
   ]
  },
  {
   "cell_type": "code",
   "execution_count": 32,
   "metadata": {
    "ExecuteTime": {
     "end_time": "2020-07-20T09:41:53.224021Z",
     "start_time": "2020-07-20T09:41:53.202399Z"
    }
   },
   "outputs": [
    {
     "data": {
      "text/plain": [
       "OrderedDict([('glucose', [8.0]), ('pH', array([7.4, 7.1]))])"
      ]
     },
     "execution_count": 32,
     "metadata": {},
     "output_type": "execute_result"
    }
   ],
   "source": [
    "tmp"
   ]
  },
  {
   "cell_type": "code",
   "execution_count": null,
   "metadata": {},
   "outputs": [],
   "source": []
  },
  {
   "cell_type": "code",
   "execution_count": 6,
   "metadata": {
    "ExecuteTime": {
     "end_time": "2020-06-11T09:45:25.657257Z",
     "start_time": "2020-06-11T09:45:25.419454Z"
    }
   },
   "outputs": [],
   "source": [
    "javabridge.kill_vm()"
   ]
  },
  {
   "cell_type": "code",
   "execution_count": null,
   "metadata": {},
   "outputs": [],
   "source": []
  }
 ],
 "metadata": {
  "kernelspec": {
   "display_name": "Physio",
   "language": "python",
   "name": "physio"
  },
  "language_info": {
   "codemirror_mode": {
    "name": "ipython",
    "version": 3
   },
   "file_extension": ".py",
   "mimetype": "text/x-python",
   "name": "python",
   "nbconvert_exporter": "python",
   "pygments_lexer": "ipython3",
   "version": "3.7.6"
  },
  "toc": {
   "base_numbering": 1,
   "nav_menu": {},
   "number_sections": true,
   "sideBar": true,
   "skip_h1_title": false,
   "title_cell": "Table of Contents",
   "title_sidebar": "Contents",
   "toc_cell": false,
   "toc_position": {},
   "toc_section_display": true,
   "toc_window_display": false
  },
  "varInspector": {
   "cols": {
    "lenName": 16,
    "lenType": 16,
    "lenVar": 40
   },
   "kernels_config": {
    "python": {
     "delete_cmd_postfix": "",
     "delete_cmd_prefix": "del ",
     "library": "var_list.py",
     "varRefreshCmd": "print(var_dic_list())"
    },
    "r": {
     "delete_cmd_postfix": ") ",
     "delete_cmd_prefix": "rm(",
     "library": "var_list.r",
     "varRefreshCmd": "cat(var_dic_list()) "
    }
   },
   "types_to_exclude": [
    "module",
    "function",
    "builtin_function_or_method",
    "instance",
    "_Feature"
   ],
   "window_display": false
  }
 },
 "nbformat": 4,
 "nbformat_minor": 4
}
