{
 "cells": [
  {
   "cell_type": "code",
   "execution_count": null,
   "metadata": {
    "code_folding": []
   },
   "outputs": [],
   "source": [
    "## importing stuff\n",
    "import os\n",
    "import pickle\n",
    "from sys import path as syspath\n",
    "syspath.append(os.path.expanduser(\"~/srdjan_functs/\"))\n",
    "import javabridge\n",
    "from bioformats import JARS as bfJARS\n",
    "javabridge.start_vm(class_path=bfJARS, max_heap_size=\"20G\")\n",
    "import numpy as np\n",
    "import matplotlib.pyplot as plt\n",
    "\n",
    "%config InlineBackend.figure_format = 'retina'\n",
    "%load_ext autoreload\n",
    "%autoreload 2\n",
    "# %aimport islets\n",
    "\n",
    "from IPython.display import display\n",
    "import pandas as pd\n",
    "\n",
    "from islets.Recording import Recording, saveMovie\n",
    "from islets.numeric import power_spectrum, rebin\n",
    "from islets.utils import show_movie, saveRois\n",
    "# from islets.Regions1 import getPeak2BoundaryDF, getGraph_of_ROIs_to_Merge, mergeBasedOnGraph\n",
    "\n",
    "from caiman import movie as cmovie\n",
    "\n",
    "from matplotlib.colors import LogNorm"
   ]
  },
  {
   "cell_type": "code",
   "execution_count": null,
   "metadata": {},
   "outputs": [],
   "source": [
    "from islets.Regions  import Regions as Regions0\n",
    "from islets.Regions1 import Regions as Regions1"
   ]
  },
  {
   "cell_type": "code",
   "execution_count": null,
   "metadata": {},
   "outputs": [],
   "source": [
    "from islets.Regions1 import getStatImages"
   ]
  },
  {
   "cell_type": "code",
   "execution_count": null,
   "metadata": {},
   "outputs": [],
   "source": [
    "from cv2 import GaussianBlur\n",
    "from islets.numeric import robust_max\n",
    "from islets.numeric import get_sep_th"
   ]
  },
  {
   "cell_type": "code",
   "execution_count": null,
   "metadata": {
    "code_folding": []
   },
   "outputs": [],
   "source": [
    "# from copy import deepcopy\n",
    "fracSaturTh = .05\n",
    "# movieFreq = 2\n",
    "cmap = plt.cm.Greys\n",
    "cmap.set_bad(\"lime\")\n",
    "pd.set_option('display.max_rows', 100)"
   ]
  },
  {
   "cell_type": "code",
   "execution_count": null,
   "metadata": {},
   "outputs": [],
   "source": [
    "plt.rcParams[\"animation.embed_limit\"] = 500"
   ]
  },
  {
   "cell_type": "code",
   "execution_count": null,
   "metadata": {},
   "outputs": [],
   "source": [
    "date, exp, ser = \"2020_07_08\texperiment59c\tSeries002-5\".split(\"\\t\")\n",
    "exp = exp.capitalize()"
   ]
  },
  {
   "cell_type": "code",
   "execution_count": null,
   "metadata": {},
   "outputs": [],
   "source": [
    "# recFile, ser = \"/data/Sandra/2019/2019_10_15/Experiment38b.lif\", \"Series042\"\n",
    "# recFile, ser = \"/data/Sandra/2020/2020_08_05/Experiment63d.lif\", \"Series004\""
   ]
  },
  {
   "cell_type": "code",
   "execution_count": null,
   "metadata": {},
   "outputs": [],
   "source": [
    "# from caiman import load as cload"
   ]
  },
  {
   "cell_type": "code",
   "execution_count": null,
   "metadata": {},
   "outputs": [],
   "source": [
    "recFile = f\"/data/Sandra/{date.split('_')[0]}/{date}/{exp}.lif\""
   ]
  },
  {
   "cell_type": "code",
   "execution_count": null,
   "metadata": {},
   "outputs": [],
   "source": [
    "rec = Recording(recFile)\n",
    "rec.metadata"
   ]
  },
  {
   "cell_type": "code",
   "execution_count": null,
   "metadata": {},
   "outputs": [],
   "source": [
    "ser = \"Series002\""
   ]
  },
  {
   "cell_type": "code",
   "execution_count": null,
   "metadata": {},
   "outputs": [],
   "source": [
    "rec.import_series(ser,)"
   ]
  },
  {
   "cell_type": "code",
   "execution_count": null,
   "metadata": {},
   "outputs": [],
   "source": [
    "metadata = rec.Series[ser]['metadata']"
   ]
  },
  {
   "cell_type": "code",
   "execution_count": null,
   "metadata": {},
   "outputs": [],
   "source": [
    "movie = cmovie(rec.Series[ser]['data'],fr = metadata.Frequency)\n",
    "movie = movie[len(movie)//2:]"
   ]
  },
  {
   "cell_type": "code",
   "execution_count": null,
   "metadata": {},
   "outputs": [],
   "source": [
    "movie.shape"
   ]
  },
  {
   "cell_type": "code",
   "execution_count": null,
   "metadata": {},
   "outputs": [],
   "source": [
    "np.array([5,6,7])/metadata.pxSize"
   ]
  },
  {
   "cell_type": "code",
   "execution_count": null,
   "metadata": {},
   "outputs": [],
   "source": [
    "# saveMovie(movie,f\"/home/jupyter-srdjan/presentations/examples/{exp}_{ser}.mp4\", maxFreq=1,dpi=300)"
   ]
  },
  {
   "cell_type": "code",
   "execution_count": null,
   "metadata": {},
   "outputs": [],
   "source": [
    "statImages = getStatImages(movie, downsampleFreq=2)"
   ]
  },
  {
   "cell_type": "markdown",
   "metadata": {
    "heading_collapsed": true
   },
   "source": [
    "### Save images"
   ]
  },
  {
   "cell_type": "code",
   "execution_count": null,
   "metadata": {
    "hidden": true
   },
   "outputs": [],
   "source": [
    "statImages.keys()"
   ]
  },
  {
   "cell_type": "code",
   "execution_count": null,
   "metadata": {
    "hidden": true
   },
   "outputs": [],
   "source": [
    "fig, axs = plt.subplots(1,2,figsize=(10,5), sharex=True, sharey=True)\n",
    "for k,ax in zip(['mean',\"highperc\"],axs):\n",
    "    ax.imshow(statImages[k], cmap=\"Greys\")\n",
    "    ax.set_xticks([])\n",
    "    ax.set_yticks([])\n",
    "plt.subplots_adjust(wspace=.01)\n",
    "fig.savefig(\"/home/jupyter-srdjan/presentations/examples/mean_max_lin.png\",dpi=300)"
   ]
  },
  {
   "cell_type": "code",
   "execution_count": null,
   "metadata": {
    "hidden": true
   },
   "outputs": [],
   "source": [
    "plt.hist(statImages[\"mean\"].flat,100, histtype=\"step\")\n",
    "plt.hist(statImages[\"highperc\"].flat,100, histtype=\"step\");"
   ]
  },
  {
   "cell_type": "code",
   "execution_count": null,
   "metadata": {
    "hidden": true
   },
   "outputs": [],
   "source": []
  },
  {
   "cell_type": "code",
   "execution_count": null,
   "metadata": {
    "hidden": true
   },
   "outputs": [],
   "source": [
    "fig, axs = plt.subplots(1,2,figsize=(10,5), sharex=True, sharey=True)\n",
    "for k,ax in zip(['mean',\"highperc\"],axs):\n",
    "    ax.imshow(statImages[k], cmap=\"Greys\", norm=LogNorm(), vmin=1,vmax=20)\n",
    "    ax.set_xticks([])\n",
    "    ax.set_yticks([])\n",
    "plt.subplots_adjust(wspace=.01)\n",
    "fig.savefig(\"/home/jupyter-srdjan/presentations/examples/mean_max_lin.png\",dpi=300)"
   ]
  },
  {
   "cell_type": "code",
   "execution_count": null,
   "metadata": {
    "hidden": true
   },
   "outputs": [],
   "source": [
    "fig, axs = plt.subplots(1,3,figsize=(10.3,5),gridspec_kw={\"width_ratios\":[5,5,.3]})\n",
    "k = \"mean\"\n",
    "axs[0].imshow(statImages[k], cmap=\"Greys\", vmin=1,vmax=20)\n",
    "im = axs[1].imshow(statImages[k], cmap=\"Greys\", norm=LogNorm(), vmin=1,vmax=20)\n",
    "for ax in axs:\n",
    "    ax.set_xticks([])\n",
    "    ax.set_yticks([])\n",
    "plt.subplots_adjust(wspace=.01)\n",
    "plt.colorbar(im, cax=axs[-1])\n",
    "fig.savefig(\"/home/jupyter-srdjan/presentations/examples/mean_lin_log.png\",dpi=300)"
   ]
  },
  {
   "cell_type": "code",
   "execution_count": null,
   "metadata": {
    "hidden": true
   },
   "outputs": [],
   "source": [
    "for k in ['mean',\"highperc\"]:\n",
    "    for log in [True,False]:\n",
    "        fig = plt.figure(figsize=(5+int(log),5))\n",
    "        if log:\n",
    "            plt.imshow(statImages[k], cmap=\"Greys\", norm=LogNorm(), vmin=1,vmax=20)\n",
    "            plt.colorbar()\n",
    "        else:\n",
    "            plt.imshow(statImages[k], cmap=\"Greys\")\n",
    "        plt.xticks([])\n",
    "        plt.yticks([])\n",
    "        plt.subplots_adjust(wspace=.01)\n",
    "        name = k\n",
    "        if log: name += \"_log\"\n",
    "        else: name += \"_lin\"\n",
    "            \n",
    "        fig.savefig(f\"/home/jupyter-srdjan/presentations/examples/{name}.png\",dpi=300)"
   ]
  },
  {
   "cell_type": "code",
   "execution_count": null,
   "metadata": {
    "hidden": true
   },
   "outputs": [],
   "source": [
    "Regions.__module__"
   ]
  },
  {
   "cell_type": "code",
   "execution_count": null,
   "metadata": {
    "hidden": true
   },
   "outputs": [],
   "source": [
    "movie.shape"
   ]
  },
  {
   "cell_type": "code",
   "execution_count": null,
   "metadata": {
    "hidden": true
   },
   "outputs": [],
   "source": [
    "np.savetxt(\"/home/jupyter-srdjan/presentations/examples/mean_image.txt\", statImages[\"mean\"])"
   ]
  },
  {
   "cell_type": "markdown",
   "metadata": {},
   "source": [
    "### Regions (old and new)"
   ]
  },
  {
   "cell_type": "code",
   "execution_count": null,
   "metadata": {},
   "outputs": [],
   "source": [
    "x0,x1,y0,y1 = 50,150,50,150"
   ]
  },
  {
   "cell_type": "code",
   "execution_count": null,
   "metadata": {},
   "outputs": [],
   "source": [
    "regions0 = Regions0({\"mean\":statImages[\"mean\"][x0:x1,y0:y1]}, gSig_filt=(4,3), diag=True, mode=\"mean\")\n",
    "regions0.df.drop(index=regions0.df.query(\"size<5\").index, inplace=True)\n",
    "regions0.update(movie)\n",
    "regions0.plotEdges(imkw_args={\"cmap\":\"Greys\"},color=\"red\")"
   ]
  },
  {
   "cell_type": "code",
   "execution_count": null,
   "metadata": {},
   "outputs": [],
   "source": [
    "regions0.metadata = metadata"
   ]
  },
  {
   "cell_type": "code",
   "execution_count": null,
   "metadata": {},
   "outputs": [],
   "source": [
    "saveRois(regions0, \"/home/jupyter-srdjan/presentations/examples\",\"regions0\", add_date=False, formats=[\"vienna\"])"
   ]
  },
  {
   "cell_type": "code",
   "execution_count": null,
   "metadata": {},
   "outputs": [],
   "source": [
    "regions0 = Regions1(regions0)"
   ]
  },
  {
   "cell_type": "code",
   "execution_count": null,
   "metadata": {},
   "outputs": [],
   "source": [
    "regions0.update(movie[:,x0:x1,y0:y1])"
   ]
  },
  {
   "cell_type": "code",
   "execution_count": null,
   "metadata": {},
   "outputs": [],
   "source": [
    "for col in regions0.df.columns:\n",
    "    if \"_\" in col:\n",
    "        del regions0.df[col]\n",
    "try: del regions0.showTime\n",
    "except: pass"
   ]
  },
  {
   "cell_type": "code",
   "execution_count": null,
   "metadata": {},
   "outputs": [],
   "source": [
    "regions0.movie.fr"
   ]
  },
  {
   "cell_type": "code",
   "execution_count": null,
   "metadata": {},
   "outputs": [],
   "source": [
    "regions0.examine3()"
   ]
  },
  {
   "cell_type": "code",
   "execution_count": null,
   "metadata": {},
   "outputs": [],
   "source": [
    "m = regions0.movie.copy()\n",
    "for i,j in sum(regions0.df.pixels,[]):\n",
    "#     m[:,i,j] = 0\n",
    "    m[:,i,j] = m[:,i,j].mean()"
   ]
  },
  {
   "cell_type": "code",
   "execution_count": null,
   "metadata": {},
   "outputs": [],
   "source": [
    "show_movie(m,\n",
    "           figScale=3,\n",
    "           log=True,\n",
    "           additionalPlot=lambda ax: regions0.plotEdges(image=False, ax=ax, separate=True),\n",
    "           saveName=\"/home/jupyter-srdjan/presentations/examples/regions0_movie_masked.mp4\",\n",
    "           NTimeFrames=400,\n",
    "           out=\"save\",\n",
    "           dpi=300,\n",
    "           tmax=len(m)/m.fr\n",
    "          )"
   ]
  },
  {
   "cell_type": "code",
   "execution_count": null,
   "metadata": {},
   "outputs": [],
   "source": []
  },
  {
   "cell_type": "code",
   "execution_count": null,
   "metadata": {},
   "outputs": [],
   "source": []
  },
  {
   "cell_type": "code",
   "execution_count": null,
   "metadata": {},
   "outputs": [],
   "source": []
  },
  {
   "cell_type": "code",
   "execution_count": null,
   "metadata": {},
   "outputs": [],
   "source": []
  },
  {
   "cell_type": "code",
   "execution_count": null,
   "metadata": {},
   "outputs": [],
   "source": [
    "x0,x1,y0,y1 = 50,150,50,150"
   ]
  },
  {
   "cell_type": "code",
   "execution_count": null,
   "metadata": {},
   "outputs": [],
   "source": [
    "from islets.Regions1 import Regions as Regions1"
   ]
  },
  {
   "cell_type": "code",
   "execution_count": null,
   "metadata": {},
   "outputs": [],
   "source": [
    "regions = Regions1(statImages[\"mean\"][x0:x1,y0:y1],gSig_filt=(4,5),mode=\"custom\")"
   ]
  },
  {
   "cell_type": "code",
   "execution_count": null,
   "metadata": {},
   "outputs": [],
   "source": [
    "regions.df.drop(index=regions.df.query(\"size<8\").index,inplace=True)\n",
    "regions.update(movie)"
   ]
  },
  {
   "cell_type": "code",
   "execution_count": null,
   "metadata": {},
   "outputs": [],
   "source": [
    "cnt = regions.df[\"size\"].value_counts()"
   ]
  },
  {
   "cell_type": "code",
   "execution_count": null,
   "metadata": {},
   "outputs": [],
   "source": [
    "cnt.sort_index().cumsum().plot()"
   ]
  },
  {
   "cell_type": "code",
   "execution_count": null,
   "metadata": {},
   "outputs": [],
   "source": [
    "type(region0)"
   ]
  },
  {
   "cell_type": "code",
   "execution_count": null,
   "metadata": {},
   "outputs": [],
   "source": [
    "rr = Regions1(region0)"
   ]
  },
  {
   "cell_type": "code",
   "execution_count": null,
   "metadata": {},
   "outputs": [],
   "source": [
    "rr.examine3()"
   ]
  },
  {
   "cell_type": "code",
   "execution_count": null,
   "metadata": {},
   "outputs": [],
   "source": []
  },
  {
   "cell_type": "code",
   "execution_count": null,
   "metadata": {},
   "outputs": [],
   "source": [
    "regions.examine3(startShow=\"all\")"
   ]
  },
  {
   "cell_type": "code",
   "execution_count": null,
   "metadata": {},
   "outputs": [],
   "source": []
  },
  {
   "cell_type": "code",
   "execution_count": null,
   "metadata": {},
   "outputs": [],
   "source": []
  },
  {
   "cell_type": "code",
   "execution_count": null,
   "metadata": {},
   "outputs": [],
   "source": []
  },
  {
   "cell_type": "code",
   "execution_count": null,
   "metadata": {},
   "outputs": [],
   "source": []
  },
  {
   "cell_type": "code",
   "execution_count": null,
   "metadata": {},
   "outputs": [],
   "source": [
    "regions = Regions(movie[:,:],gSig_filt=(3,4),diag=True)"
   ]
  },
  {
   "cell_type": "code",
   "execution_count": null,
   "metadata": {},
   "outputs": [],
   "source": [
    "regions.df.peakValue = [regions.statImages[regions.mode][px] for px in regions.df.peak]"
   ]
  },
  {
   "cell_type": "code",
   "execution_count": null,
   "metadata": {},
   "outputs": [],
   "source": [
    "fig, ax = plt.subplots(1,1,figsize=(5,5),)\n",
    "r = regions\n",
    "ax.imshow(r.statImages[r.mode], cmap=cmap, norm=LogNorm())\n",
    "r.plotEdges(ax=ax,image=False,color='navy')\n",
    "r.plotPeaks(ax=ax,ms=3,color=\"navy\",labels=False)\n",
    "ax.set_title(f\"{len(r.df)}\")"
   ]
  },
  {
   "cell_type": "code",
   "execution_count": null,
   "metadata": {},
   "outputs": [],
   "source": [
    "r.calcTraces()"
   ]
  },
  {
   "cell_type": "code",
   "execution_count": null,
   "metadata": {},
   "outputs": [],
   "source": [
    "plt.figure()\n",
    "r.infer_gain(plot=True)"
   ]
  },
  {
   "cell_type": "code",
   "execution_count": null,
   "metadata": {},
   "outputs": [],
   "source": [
    "r.examine3(debug=True)"
   ]
  },
  {
   "cell_type": "code",
   "execution_count": null,
   "metadata": {},
   "outputs": [],
   "source": [
    "del r.mergeGraph"
   ]
  },
  {
   "cell_type": "code",
   "execution_count": null,
   "metadata": {},
   "outputs": [],
   "source": []
  },
  {
   "cell_type": "code",
   "execution_count": null,
   "metadata": {},
   "outputs": [],
   "source": []
  },
  {
   "cell_type": "code",
   "execution_count": null,
   "metadata": {},
   "outputs": [],
   "source": []
  },
  {
   "cell_type": "code",
   "execution_count": null,
   "metadata": {},
   "outputs": [],
   "source": []
  },
  {
   "cell_type": "code",
   "execution_count": null,
   "metadata": {},
   "outputs": [],
   "source": []
  },
  {
   "cell_type": "code",
   "execution_count": null,
   "metadata": {},
   "outputs": [],
   "source": []
  },
  {
   "cell_type": "code",
   "execution_count": null,
   "metadata": {},
   "outputs": [],
   "source": [
    "im = r.statImages[r.mode]"
   ]
  },
  {
   "cell_type": "code",
   "execution_count": null,
   "metadata": {},
   "outputs": [],
   "source": [
    "vs = [im[px] for px in r.df.loc[0,\"pixels\"]]"
   ]
  },
  {
   "cell_type": "code",
   "execution_count": null,
   "metadata": {},
   "outputs": [],
   "source": [
    "from scipy.stats import median_absolute_deviation"
   ]
  },
  {
   "cell_type": "code",
   "execution_count": null,
   "metadata": {},
   "outputs": [],
   "source": [
    "plt.figure()\n",
    "plt.plot(r.df['size'], r.df.peakValue,'.')\n",
    "plt.xscale(\"log\")\n",
    "plt.yscale(\"log\")"
   ]
  },
  {
   "cell_type": "code",
   "execution_count": null,
   "metadata": {},
   "outputs": [],
   "source": [
    "plt.figure()\n",
    "plt.hist(vs)\n",
    "md = np.median(vs)\n",
    "mad = median_absolute_deviation(vs)\n",
    "for a in [md, md-2*mad, md+2*mad]:\n",
    "    plt.axvline(a)"
   ]
  },
  {
   "cell_type": "code",
   "execution_count": null,
   "metadata": {},
   "outputs": [],
   "source": []
  },
  {
   "cell_type": "code",
   "execution_count": null,
   "metadata": {},
   "outputs": [],
   "source": []
  },
  {
   "cell_type": "code",
   "execution_count": null,
   "metadata": {},
   "outputs": [],
   "source": [
    "regions[(3,4)].calcTraces()"
   ]
  },
  {
   "cell_type": "code",
   "execution_count": null,
   "metadata": {},
   "outputs": [],
   "source": [
    "regions[(3,4)].examine2()"
   ]
  },
  {
   "cell_type": "code",
   "execution_count": null,
   "metadata": {},
   "outputs": [],
   "source": []
  },
  {
   "cell_type": "code",
   "execution_count": null,
   "metadata": {},
   "outputs": [],
   "source": []
  },
  {
   "cell_type": "code",
   "execution_count": null,
   "metadata": {},
   "outputs": [],
   "source": []
  },
  {
   "cell_type": "code",
   "execution_count": null,
   "metadata": {},
   "outputs": [],
   "source": []
  },
  {
   "cell_type": "code",
   "execution_count": null,
   "metadata": {},
   "outputs": [],
   "source": []
  },
  {
   "cell_type": "code",
   "execution_count": null,
   "metadata": {},
   "outputs": [],
   "source": [
    "fig, axs = plt.subplots(1,4,figsize=(11,4), sharex=True, sharey=True)\n",
    "plt.subplots_adjust(wspace=.03)\n",
    "for k,ax in zip(regions,axs):\n",
    "    r = regions[k]\n",
    "#     ax.imshow(r.statImages[r.mode], )\n",
    "    r.plotEdges(ax=ax)\n",
    "    r.plotPeaks(ax=ax,ms=3,color=\"r\",labels=False)\n",
    "    ax.set_title(f\"{k} - {len(r.df)}\")\n",
    "    blurredImage = GaussianBlur(r.statImages[r.mode],(max(3,min(r.filterSize)//2*2+1),)*2,-1)\n",
    "    newPeaks, newValues = r.reassign_peaks(blurredImage,write=False)\n",
    "#     r.reassign_peaks(blurredImage,write=True)\n",
    "#     r.plotPeaks(ax=ax,ms=5,color=\"k\",labels=False)\n",
    "#     newPeaks = np.concatenate(r.df.peak.values)\n",
    "    ax.plot(*np.array(newPeaks).T[::-1],color=\"k\",lw=0,marker=\".\")\n",
    "#     newPeaks = r.reassign_peaks(blurredImage+r.image,write=False)\n",
    "#     ax.plot(*np.array(newPeaks).T[::-1],color=\"orange\",lw=0,marker=\"s\",mfc=\"none\")\n",
    "#     p2b = getPeak2BoundaryDF(r.df)\n",
    "#     p2b_filt = p2b.query(f\"dist<={1.01/2**.5}\")\n",
    "#     if len(p2b_filt)>0:\n",
    "#         getGraph_of_ROIs_to_Merge(p2b_filt[[\"i\",\"j\"]],r,plot=True,ax=ax,arrow_width=.25,lw=0)"
   ]
  },
  {
   "cell_type": "code",
   "execution_count": null,
   "metadata": {},
   "outputs": [],
   "source": [
    "np.array(newPeaks).T[::-1]"
   ]
  },
  {
   "cell_type": "code",
   "execution_count": null,
   "metadata": {},
   "outputs": [],
   "source": [
    "therois = Regions1(movie,\n",
    "                   gSig_filt=4,\n",
    "                   diag=True,\n",
    "                   mode=\"highperc+mean\")"
   ]
  },
  {
   "cell_type": "code",
   "execution_count": null,
   "metadata": {},
   "outputs": [],
   "source": [
    "blurredImage = GaussianBlur(therois.statImages[therois.mode],(max(3,min(therois.filterSize)//2*2+1),)*2,-1)\n",
    "therois.reassign_peaks(blurredImage+therois.image,write=True)"
   ]
  },
  {
   "cell_type": "code",
   "execution_count": null,
   "metadata": {},
   "outputs": [],
   "source": [
    "from itertools import product"
   ]
  },
  {
   "cell_type": "code",
   "execution_count": null,
   "metadata": {},
   "outputs": [],
   "source": [
    "takenPxs = sum(therois.df.pixels,[])\n",
    "notPixels = [ij for ij in product(*map(range, therois.image.shape)) if ij not in takenPxs]"
   ]
  },
  {
   "cell_type": "code",
   "execution_count": null,
   "metadata": {},
   "outputs": [],
   "source": [
    "x,y = np.array(notPixels).T[::-1]"
   ]
  },
  {
   "cell_type": "code",
   "execution_count": null,
   "metadata": {},
   "outputs": [],
   "source": [
    "fig, axs = plt.subplots(1,2,figsize=(9,4), sharex=True, sharey=True)\n",
    "ax = axs[0]\n",
    "\n",
    "ax.imshow(\n",
    "    therois.statImages[therois.mode],\n",
    "    norm=LogNorm(),\n",
    "    cmap=cmap\n",
    "          )\n",
    "therois.plotEdges(image=False,lw=.5,color=\"darkred\",ax=ax)\n",
    "p2b = getPeak2BoundaryDF(therois.df)\n",
    "p2b_filt = p2b.query(f\"dist<={1.01/2**.5}\")\n",
    "# p2b_filt = p2b.query(f\"dist<={2}\")\n",
    "if len(p2b_filt)>0:\n",
    "    Gr = getGraph_of_ROIs_to_Merge(p2b_filt[[\"i\",\"j\"]],therois,plot=True,ax=ax,arrow_width=.25,lw=0)\n",
    "\n",
    "axx = axs[1]\n",
    "axx.plot(x,y,\"r.\",ms=.5)"
   ]
  },
  {
   "cell_type": "code",
   "execution_count": null,
   "metadata": {},
   "outputs": [],
   "source": [
    "# mergeBasedOnGraph(Gr,therois)"
   ]
  },
  {
   "cell_type": "code",
   "execution_count": null,
   "metadata": {},
   "outputs": [],
   "source": [
    "from islets.Regions import MYCOLORS"
   ]
  },
  {
   "cell_type": "code",
   "execution_count": null,
   "metadata": {},
   "outputs": [],
   "source": [
    "# fig = go.Figure()\n",
    "# ic = 0\n",
    "# for mode,df_mode in df.groupby(\"mode\"):\n",
    "#     c = MYCOLORS[ic]\n",
    "# #     c = ('rgba('+str(np.random.randint(0, high = 256))+','+\n",
    "# #                 str(np.random.randint(0, high = 256))+','+\n",
    "# #                 str(np.random.randint(0, high = 256)))\n",
    "#     rgba = tuple(int(c[1:][i:i+2], 16) for i in (0, 2, 4))+(.2,)\n",
    "#     fig.add_trace(go.Scatter(x=df_mode.y,y=-df_mode.x,\n",
    "#                              fill=\"toself\",\n",
    "#                              name=mode,\n",
    "# #                              opacity=.2,\n",
    "#                              line_width=0.8,\n",
    "#                              line = {\"color\":c},\n",
    "# #                              fillcolor='rgba(255, 0, 0, 0.1)'\n",
    "#                              fillcolor=f\"rgba{rgba}\"\n",
    "#                             ))\n",
    "#     ic += 1\n",
    "# fig.update_layout(width=700, height=650)"
   ]
  },
  {
   "cell_type": "code",
   "execution_count": null,
   "metadata": {},
   "outputs": [],
   "source": [
    "mm = movie.resize(1,1,.1)"
   ]
  },
  {
   "cell_type": "code",
   "execution_count": null,
   "metadata": {},
   "outputs": [],
   "source": [
    "for i,j in sum(therois.df.pixels,[]):\n",
    "    mm[:,i,j] = mm[:,i,j].mean()"
   ]
  },
  {
   "cell_type": "code",
   "execution_count": null,
   "metadata": {},
   "outputs": [],
   "source": [
    "show_movie(mm, figScale=2)"
   ]
  },
  {
   "cell_type": "code",
   "execution_count": null,
   "metadata": {},
   "outputs": [],
   "source": [
    "therois.infer_gain(plot=True)"
   ]
  },
  {
   "cell_type": "code",
   "execution_count": null,
   "metadata": {},
   "outputs": [],
   "source": [
    "therois.fast_filter_traces(3)"
   ]
  },
  {
   "cell_type": "code",
   "execution_count": null,
   "metadata": {},
   "outputs": [],
   "source": [
    "therois.examine2()"
   ]
  },
  {
   "cell_type": "code",
   "execution_count": null,
   "metadata": {},
   "outputs": [],
   "source": []
  },
  {
   "cell_type": "code",
   "execution_count": null,
   "metadata": {},
   "outputs": [],
   "source": [
    "n = 10\n",
    "l = len(movie)//n\n",
    "rgs = []\n",
    "for i in range(n):\n",
    "#     Regions(movie[i*l:(i+1)*l], gSig_filt=None, mode=\"mean\", diag=True) for i in range(n)\n",
    "    m = cmovie(GaussianBlur(movie[i*l:(i+1)*l],(5,5),-1), fr=movie.fr)\n",
    "    r = Regions(m, gSig_filt=None, mode=\"mean\", diag=True)\n",
    "    r.image = m.mean(0)\n",
    "    rgs += [r]"
   ]
  },
  {
   "cell_type": "code",
   "execution_count": null,
   "metadata": {},
   "outputs": [],
   "source": [
    "fig, axs = plt.subplots(3,3,figsize=(13,13), sharex=True, sharey=True)\n",
    "for r,ax in zip(rgs,axs.flat):\n",
    "    r.plotEdges(ax=ax)\n",
    "    r.plotPeaks(ax=ax)\n",
    "plt.subplots_adjust(hspace=.01,wspace=.01)"
   ]
  },
  {
   "cell_type": "code",
   "execution_count": null,
   "metadata": {},
   "outputs": [],
   "source": [
    "# regions.examine2(debug=True)"
   ]
  },
  {
   "cell_type": "code",
   "execution_count": null,
   "metadata": {},
   "outputs": [],
   "source": [
    "show_movie(movie[:,20:180,20:180].resize(1,1,.01), figScale=3, additionalPlot=lambda xi: regions.plotEdges(ax=xi,image=False,separate=True, ix=[\n",
    "    0,1,2,3,4,5,6,7,8,9,10,11,12,13,14,15,16,17,26,27,28,29,30,31,32,33,34,37,38,39,43,44,45,46,47,50,52,53,55,56,57,58,59,60,61,62,63,64,71,73,74,75,78,80,81,82,83,85,86,88,89,92,93,94,96,97,98,100,101,103,104,105,106,107,108,109,110,111,114,115,116,117,118,119,120,123,124,126,127,128,129,135,136,137,139,140,141,142,143,144,145,146,147,149,150,152,153,156,157,158,159,160,161,162,164,165,166,167,168,170,171,172,173,174,177,178,180,181,182,183,184,185,186,187,188,189,190,191,193,194,195,196,197,200,201,202,203,204,205,206,209,210,213,214,215,216,217,218,219,220,221,222,223,224,225,229,230,231,233,234,235,236,237,238,239,240,241,242,243,244,245,246,247,248,249,251,252,253,254,256,257,258,259,260,261,262,263,264,265,266,267,270,272,273,274,275,276,278,279,280,281,282,283,287,288,289,290,293,294,295,296,297,298,299,301,302,303,304,305,306,307,308,310,311,313,314,315,316,317,319,320,321,322,323,324,327,328,329,331,332,333,336,337,338,340,341,342,343,344,347,348,351,352,353,354,355,356,357,358,364,365,368,369,372,373,374,375,376,377,378,379,380,381,382,383,384,385,388,389,390,391,393,396,398,399,400,402,403,405,406,407,408,409,410,415,416,417,418,420,421,422,423,424,426,427,428,430,431,432,433,434,435,438,439,442,443,444,445,446,447,448,450,451,452,455,456,457,458,459,461,462,463,466,467,469,470,471,472,475,476,477,478,480,481,483,484,485,486,487,488,489,490,494,495,496,497,501,502,503,504,507,508,512,513,514,515,516,517,518,520,521,523,526,527,528,529,530,531,534,535,538,539,541,542,543,544,547,548,551,552,553,554,557,558,559,563,569,570,573,576,577,578,579,580,581,582,584,585,589,590,591,595,596,597,598,599,603,606,607,609,610,611,614,615,616,623,627,628,630,634,639,642,647,921,925,926,927,928,929,930,931,932,933,934,935,936,937,938,939,940,941,942,943,944,946,947,948,950,953,954,955,956,957,958,959,960,961,962,963\n",
    "]))"
   ]
  },
  {
   "cell_type": "code",
   "execution_count": null,
   "metadata": {},
   "outputs": [],
   "source": [
    "plt.imshow(regions.image[10:190,:200])"
   ]
  },
  {
   "cell_type": "markdown",
   "metadata": {},
   "source": [
    "### Hand-curated ROIs"
   ]
  },
  {
   "cell_type": "markdown",
   "metadata": {},
   "source": [
    "#### massage to get"
   ]
  },
  {
   "cell_type": "code",
   "execution_count": null,
   "metadata": {},
   "outputs": [],
   "source": [
    "nRebin = 10\n",
    "rebMovie = cmovie(rebin(movie[len(movie)//5:],nRebin), fr=movie.fr/nRebin)"
   ]
  },
  {
   "cell_type": "code",
   "execution_count": null,
   "metadata": {},
   "outputs": [],
   "source": [
    "rebMovie.fr"
   ]
  },
  {
   "cell_type": "code",
   "execution_count": null,
   "metadata": {},
   "outputs": [],
   "source": [
    "from islets.Regions import getPeak2BoundaryDF, getGraph_of_ROIs_to_Merge, mergeBasedOnGraph, plotRoi_to_be_connected"
   ]
  },
  {
   "cell_type": "code",
   "execution_count": null,
   "metadata": {},
   "outputs": [],
   "source": [
    "from islets.numeric import get_sep_th"
   ]
  },
  {
   "cell_type": "code",
   "execution_count": null,
   "metadata": {},
   "outputs": [],
   "source": []
  },
  {
   "cell_type": "code",
   "execution_count": null,
   "metadata": {},
   "outputs": [],
   "source": [
    "peakTh = get_sep_th(regions.df.peakValue,plot=True,log=True)"
   ]
  },
  {
   "cell_type": "code",
   "execution_count": null,
   "metadata": {},
   "outputs": [],
   "source": [
    "regions.df.drop(index=regions.df.query(f\"peakValue<{peakTh}\").index,inplace=True)\n",
    "regions.update()"
   ]
  },
  {
   "cell_type": "code",
   "execution_count": null,
   "metadata": {},
   "outputs": [],
   "source": [
    "from matplotlib.colors import LogNorm"
   ]
  },
  {
   "cell_type": "code",
   "execution_count": null,
   "metadata": {},
   "outputs": [],
   "source": [
    "%matplotlib notebook"
   ]
  },
  {
   "cell_type": "code",
   "execution_count": null,
   "metadata": {},
   "outputs": [],
   "source": [
    "fig, axs = plt.subplots(2,2,figsize=(10,10), sharex=True, sharey=True)\n",
    "for k,ax in zip([\"mean\",\"std\",\"diff_std\"], axs.flat):\n",
    "    ax.imshow(regions.statImages[k], norm=LogNorm(), cmap=\"Greys\")\n",
    "    regions.plotEdges(ax=ax, image=False)\n",
    "plt.tight_layout()"
   ]
  },
  {
   "cell_type": "code",
   "execution_count": null,
   "metadata": {},
   "outputs": [],
   "source": [
    "plt.figure(figsize=(10,10))\n",
    "ax = plt.subplot(111)\n",
    "regions.plotEdges(ax=ax)\n",
    "regions.plotPeaks(ax=ax)"
   ]
  },
  {
   "cell_type": "code",
   "execution_count": null,
   "metadata": {},
   "outputs": [],
   "source": [
    "while True:\n",
    "    maxSize = np.percentile(regions.df[\"size\"],80)\n",
    "    sizeTh = maxSize/2\n",
    "    peak2bnd = getPeak2BoundaryDF(regions.df)\n",
    "    df = peak2bnd.query(\"dist<1.\")[[\"i\",\"j\"]]\n",
    "    if len(df)==0: break\n",
    "    df=df[df.i.isin(regions.df.loc[df.i].query(f\"size<{sizeTh}\").index)]\n",
    "    df=df[df.j.isin(regions.df.loc[df.j].query(f\"size<{maxSize}\").index)]\n",
    "    if len(df)==0: break\n",
    "    plt.figure(figsize=(10,10))\n",
    "    ax = plt.subplot(111)\n",
    "    regions.plotEdges(ax=ax,imkw_args={\"cmap\":\"Greys\",\"vmax\":3}, color=\"blue\")\n",
    "    regions.plotPeaks(ax=ax, color=\"darkred\")\n",
    "    gRois = getGraph_of_ROIs_to_Merge(df,regions,plot=True, ax=ax)\n",
    "    dropped = mergeBasedOnGraph(gRois,regions)\n",
    "    plt.show()\n",
    "#     if dropped == 0: break"
   ]
  },
  {
   "cell_type": "code",
   "execution_count": null,
   "metadata": {},
   "outputs": [],
   "source": [
    "# saveRois(\n",
    "#     regions, \n",
    "#     f\"{recFile}_analysis/{ser}\", \n",
    "#     filename=\"srdjan_handcurated\",\n",
    "#     col=[],\n",
    "#     formats=[\"vienna\"]\n",
    "#         )"
   ]
  },
  {
   "cell_type": "code",
   "execution_count": null,
   "metadata": {},
   "outputs": [],
   "source": [
    "# for sizeTh in range(2,6):\n",
    "#     if sum(regions.df['size']<sizeTh)<1: continue\n",
    "#     th = get_sep_th(regions.df.query(f\"size<{sizeTh}\").interest,log=True, plot=True)\n",
    "#     drop = regions.df.query(f\"size<{sizeTh} and interest<{th}\").index\n",
    "#     regions.df.drop(index=drop, inplace=True)\n",
    "#     regions.update()\n",
    "#     peak2bnd = getPeak2BoundaryDF(regions.df)\n",
    "#     df = peak2bnd.query(\"dist<1.\")[[\"i\",\"j\"]]\n",
    "#     # if len(df)==0: break\n",
    "#     df=df[df.i.isin(regions.df.loc[df.i].query(f\"size<{sizeTh}\").index)]\n",
    "#     gRois = getGraph_of_ROIs_to_Merge(df,regions,plot=True)\n",
    "#     dropped = mergeBasedOnGraph(gRois,regions)\n",
    "#     # if dropped == 0: break\n",
    "#     plt.show()"
   ]
  },
  {
   "cell_type": "code",
   "execution_count": null,
   "metadata": {},
   "outputs": [],
   "source": [
    "plt.figure(figsize=(8,8))\n",
    "ax = plt.subplot(111)\n",
    "regions.plotEdges(color=\"r\",lw=.4,ax=ax)\n",
    "regions.plotPeaks(color=\"r\",ax=ax)\n",
    "# regions.plotEdges(color=\"c\",lw=.9,ix=regions.df.query(\"Nneighbors==0\").index,ax=ax)\n",
    "# regions.plotPeaks(color=\"c\",ms=5,ix=regions.df.query(\"Nneighbors==0\").index,ax=ax)"
   ]
  },
  {
   "cell_type": "markdown",
   "metadata": {},
   "source": [
    "#### import saved"
   ]
  },
  {
   "cell_type": "code",
   "execution_count": null,
   "metadata": {},
   "outputs": [],
   "source": [
    "ser = \"Series002-5\""
   ]
  },
  {
   "cell_type": "code",
   "execution_count": null,
   "metadata": {},
   "outputs": [],
   "source": [
    "pickleFilename = f\"{recFile}_analysis/{ser}/\"+[f for f in os.listdir(f\"{recFile}_analysis/{ser}\") if \"handcur\" in f][0]\n",
    "with open(pickleFilename, \"rb\") as f:\n",
    "    regions = pickle.load(f)"
   ]
  },
  {
   "cell_type": "code",
   "execution_count": null,
   "metadata": {},
   "outputs": [],
   "source": [
    "# n0 = len(movie)//5\n",
    "# regions.update(movie[n0:])"
   ]
  },
  {
   "cell_type": "code",
   "execution_count": null,
   "metadata": {},
   "outputs": [],
   "source": [
    "regions.update(movie)"
   ]
  },
  {
   "cell_type": "code",
   "execution_count": null,
   "metadata": {},
   "outputs": [],
   "source": [
    "regions.time = np.arange(len(movie))/regions.Freq"
   ]
  },
  {
   "cell_type": "code",
   "execution_count": null,
   "metadata": {},
   "outputs": [],
   "source": [
    "regions.time += len(movie)/regions.Freq "
   ]
  },
  {
   "cell_type": "code",
   "execution_count": null,
   "metadata": {},
   "outputs": [],
   "source": [
    "# regions.time += n0/regions.Freq "
   ]
  },
  {
   "cell_type": "code",
   "execution_count": null,
   "metadata": {},
   "outputs": [],
   "source": [
    "regions.import_protocol(f\"{recFile}_analysis/{ser}/\"+[f for f in os.listdir(f\"{recFile}_analysis/{ser}/\") if \"protocol\" in f][0])"
   ]
  },
  {
   "cell_type": "code",
   "execution_count": null,
   "metadata": {},
   "outputs": [],
   "source": [
    "regions.df.drop(index = regions.df[regions.df[\"size\"]<30].index, inplace=True)"
   ]
  },
  {
   "cell_type": "code",
   "execution_count": null,
   "metadata": {},
   "outputs": [],
   "source": [
    "for ts in [1,3,10,30,100,300]:\n",
    "    regions.fast_filter_traces(ts,)\n",
    "\n",
    "from scipy.stats import rankdata\n",
    "\n",
    "regions.df[\"zInterest\"] = np.max([rankdata((np.vstack(regions.df[c])>3.5).mean(1)) \\\n",
    "                                  for c in regions.df.columns if \"zScore\" in c],axis=0)"
   ]
  },
  {
   "cell_type": "markdown",
   "metadata": {},
   "source": [
    "#### Fittting"
   ]
  },
  {
   "cell_type": "code",
   "execution_count": null,
   "metadata": {},
   "outputs": [],
   "source": [
    "# regions.detrend_traces()"
   ]
  },
  {
   "cell_type": "code",
   "execution_count": null,
   "metadata": {},
   "outputs": [],
   "source": [
    "sizes = regions.df['size'].values.copy()\n",
    "sizes.sort()\n",
    "plt.figure()\n",
    "plt.plot(sizes,np.arange(len(sizes)))"
   ]
  },
  {
   "cell_type": "code",
   "execution_count": null,
   "metadata": {},
   "outputs": [],
   "source": [
    "regions.detrend_traces(fast=False,timescale=100)"
   ]
  },
  {
   "cell_type": "code",
   "execution_count": null,
   "metadata": {},
   "outputs": [],
   "source": [
    "regions.slow_filter_traces(100, percentile=[5],avg=False)"
   ]
  },
  {
   "cell_type": "code",
   "execution_count": null,
   "metadata": {},
   "outputs": [],
   "source": [
    "regions.fast_filter_traces(3,saveIntermed=True,)"
   ]
  },
  {
   "cell_type": "code",
   "execution_count": null,
   "metadata": {},
   "outputs": [],
   "source": [
    "regions.examine2(\n",
    "    startShow=regions.df.sort_values(\"zInterest\", ascending=False).index[:300]\n",
    "#     startShow=regions.df.query(\"size>30\").index\n",
    "                )"
   ]
  },
  {
   "cell_type": "code",
   "execution_count": null,
   "metadata": {},
   "outputs": [],
   "source": [
    "from islets.fitting import multiShape"
   ]
  },
  {
   "cell_type": "code",
   "execution_count": null,
   "metadata": {},
   "outputs": [],
   "source": [
    "# %matplotlib inline\n",
    "%matplotlib notebook"
   ]
  },
  {
   "cell_type": "code",
   "execution_count": null,
   "metadata": {},
   "outputs": [],
   "source": [
    "from islets.fitting import fit_spikes"
   ]
  },
  {
   "cell_type": "code",
   "execution_count": null,
   "metadata": {},
   "outputs": [],
   "source": [
    "for c in regions.df.columns:\n",
    "    if \"_\" in c:\n",
    "        del regions.df[c]\n",
    "\n",
    "try: del regions.showTime\n",
    "except: pass\n",
    "try: del regions.peaks\n",
    "except: pass"
   ]
  },
  {
   "cell_type": "code",
   "execution_count": null,
   "metadata": {},
   "outputs": [],
   "source": [
    "regions.df.columns"
   ]
  },
  {
   "cell_type": "code",
   "execution_count": null,
   "metadata": {},
   "outputs": [],
   "source": [
    "# ts = 3\n",
    "# regions.fast_filter_traces(ts, z_sp=3, saveIntermed=True)"
   ]
  },
  {
   "cell_type": "code",
   "execution_count": null,
   "metadata": {},
   "outputs": [],
   "source": [
    "regions.infer_gain(True)\n",
    "regions.gain"
   ]
  },
  {
   "cell_type": "code",
   "execution_count": null,
   "metadata": {},
   "outputs": [],
   "source": [
    "regions.gain = 1"
   ]
  },
  {
   "cell_type": "code",
   "execution_count": null,
   "metadata": {},
   "outputs": [],
   "source": [
    "from copy import deepcopy"
   ]
  },
  {
   "cell_type": "code",
   "execution_count": null,
   "metadata": {},
   "outputs": [],
   "source": [
    "regions.df[\"_trace\"] = deepcopy(regions.df.trace)"
   ]
  },
  {
   "cell_type": "code",
   "execution_count": null,
   "metadata": {},
   "outputs": [],
   "source": [
    "from IPython.core.display import display, HTML\n",
    "display(HTML(\"<style>.container { width:100% !important; }</style>\"))"
   ]
  },
  {
   "cell_type": "code",
   "execution_count": null,
   "metadata": {},
   "outputs": [],
   "source": [
    "\n",
    "t = regions.time.copy()\n",
    "ts = 3\n",
    "sl,fs,zs = regions.fast_filter_traces(ts, write=False, normalize=True, z_sp=3,verbose=True,Npoints=20)\n",
    "try:\n",
    "    tt = regions.showTime[\"%g\"%ts]\n",
    "except:\n",
    "    tt = t.copy()\n",
    "spikes = regions.calc_peaks(\n",
    "    ts=ts,\n",
    "    save=False,\n",
    "    t=tt,\n",
    "    zScores=zs,\n",
    "    smooth=0\n",
    ")\n",
    "fitDF = []\n",
    "fig, axs = plt.subplots(len(regions.df),1,figsize=(9,9), sharey=False, sharex=True)\n",
    "for i,ix in enumerate(regions.df.index[:]):\n",
    "    tmpdf = fit_spikes(\n",
    "#         t, regions.df.trace[ix],\n",
    "       tt, sl[i]+fs[i],\n",
    "       spikes.query(f\"roi=={ix}\"),\n",
    "#        ifit = 3,\n",
    "       colorCode={\"myShape\":\"C3\"},\n",
    "       plot=True,\n",
    "       ax=axs[i],\n",
    "       half_width_threshold=ts*.12\n",
    "      )\n",
    "    tmpdf[\"roi\"]= ix \n",
    "    fitDF += [tmpdf]\n",
    "#     axs[i].plot(tt,sl[i],\"C1\",lw=.8)\n",
    "fitDF = pd.concat(fitDF)\n",
    "# plt.xlim(regions.time[0], regions.time[0]+50)\n",
    "plt.xlim(fitDF[\"loc\"].min()-10, fitDF[\"loc\"].min()+50)\n",
    "plt.subplots_adjust(hspace=0.01)"
   ]
  },
  {
   "cell_type": "code",
   "execution_count": null,
   "metadata": {},
   "outputs": [],
   "source": [
    "# fig = plt.figure(figsize=(10,3))\n",
    "# fig.add_axes([0.05,0.1,.9,.9])\n",
    "regions.df[\"_trace\"] = [tr.copy() for tr in regions.df.trace]\n",
    "# plt.plot(t,y,lw=.4)\n",
    "for _,row in fitDF.iterrows():\n",
    "    ix = row.roi\n",
    "# for _,row in tmpdf.iterrows():\n",
    "    y  = regions.df.loc[ix,\"_trace\"]\n",
    "    func = eval(row.fshape)\n",
    "    yf,bkg = func(t, *row.pars, bkgsum=False)\n",
    "#     plt.plot(t,yf+bkg,\"C1\",lw=.4)\n",
    "    ff = np.isfinite(yf)\n",
    "#     plt.plot(t,bkg,\"C1\")\n",
    "    y[ff] = bkg[ff]\n",
    "    \n",
    "# plt.xlim(tmpdf['loc'].min()-10, tmpdf['loc'].max()+20)"
   ]
  },
  {
   "cell_type": "code",
   "execution_count": null,
   "metadata": {},
   "outputs": [],
   "source": [
    "for i,ix in enumerate(regions.df.index):\n",
    "    axs[i].plot(t, regions.df.loc[ix,\"_trace\"], \"C2\",lw=.8)"
   ]
  },
  {
   "cell_type": "code",
   "execution_count": null,
   "metadata": {},
   "outputs": [],
   "source": [
    "regions.df[\"_trace\"] = [tr.copy() for tr in regions.df.trace]\n",
    "t = regions.time.copy()\n",
    "ts = 3"
   ]
  },
  {
   "cell_type": "code",
   "execution_count": null,
   "metadata": {},
   "outputs": [],
   "source": [
    "\n",
    "sl,fs,zs = regions.fast_filter_traces(ts, write=False, normalize=True, z_sp=3,verbose=True,Npoints=20,usecol=\"_trace\")\n",
    "try:\n",
    "    tt = regions.showTime[\"%g\"%ts]\n",
    "except:\n",
    "    tt = t.copy()\n",
    "spikes = regions.calc_peaks(\n",
    "    ts=ts,\n",
    "    save=False,\n",
    "    t=tt,\n",
    "    zScores=zs,\n",
    "    smooth=0\n",
    ")\n",
    "print(len(spikes))\n",
    "    \n",
    "    \n",
    "for _ in range(4):\n",
    "    print (_)\n",
    "    if len(spikes)==0: break\n",
    "    sl,fs,zs = regions.fast_filter_traces(ts, write=False, normalize=True, z_sp=3,verbose=True,Npoints=20,usecol=\"_trace\")\n",
    "    try:\n",
    "        tt = regions.showTime[\"%g\"%ts]\n",
    "    except:\n",
    "        tt = t.copy()\n",
    "    spikes1 = regions.calc_peaks(\n",
    "        ts=ts,\n",
    "        save=False,\n",
    "        t=tt,\n",
    "        zScores=zs,\n",
    "        smooth=0\n",
    "    )\n",
    "    print(len(spikes1))\n",
    "    if len(spikes1)==len(spikes):\n",
    "        spikes = spikes1\n",
    "        del spikes1\n",
    "        break\n",
    "    spikes = spikes1"
   ]
  },
  {
   "cell_type": "code",
   "execution_count": null,
   "metadata": {},
   "outputs": [],
   "source": [
    "for ix in regions.df.index:\n",
    "    y = regions.df.loc[ix, \"_trace\"]\n",
    "    iis = spikes.query(f\"roi=={ix}\").index\n",
    "    "
   ]
  },
  {
   "cell_type": "code",
   "execution_count": null,
   "metadata": {},
   "outputs": [],
   "source": [
    "\n",
    "sl,fs,zs = regions.fast_filter_traces(ts, write=False, normalize=True, z_sp=3,verbose=True,Npoints=20,usecol=\"_trace\")\n",
    "try:\n",
    "    tt = regions.showTime[\"%g\"%ts]\n",
    "except:\n",
    "    tt = t.copy()\n",
    "spikes = regions.calc_peaks(\n",
    "    ts=ts,\n",
    "    save=False,\n",
    "    t=tt,\n",
    "    zScores=zs,\n",
    "    smooth=0\n",
    ")\n",
    "print(len(spikes))\n",
    "    \n",
    "    \n",
    "for _ in range(4):\n",
    "    print (_)\n",
    "    if len(spikes)==0: break\n",
    "    fitDF = []\n",
    "    for i,ix in enumerate(regions.df.index[:]):\n",
    "        iis = spikes.query(f\"roi=={ix}\").index\n",
    "        if len(iis)==0: continue\n",
    "        tmpdf = fit_spikes(\n",
    "    #         t, regions.df.loc[ix,\"_trace\"],\n",
    "           tt, sl[i]+fs[i],\n",
    "           spikes.loc[iis],\n",
    "           colorCode={\"myShape\":\"C3\"},\n",
    "           half_width_threshold=ts*.12\n",
    "          )\n",
    "        tmpdf[\"roi\"]= ix \n",
    "        fitDF += [tmpdf]\n",
    "    fitDF = pd.concat(fitDF)\n",
    "    if len(fitDF)==0: continue\n",
    "    for _,row in fitDF.iterrows():\n",
    "        ix = row.roi\n",
    "        y  = regions.df.loc[ix,\"_trace\"]\n",
    "        func = eval(row.fshape)\n",
    "        yf,bkg = func(t, *row.pars, bkgsum=False)\n",
    "        ff = np.isfinite(yf)\n",
    "        y[ff] = bkg[ff]\n",
    "    \n",
    "    sl,fs,zs = regions.fast_filter_traces(ts, write=False, normalize=True, z_sp=3,verbose=True,Npoints=20,usecol=\"_trace\")\n",
    "    try:\n",
    "        tt = regions.showTime[\"%g\"%ts]\n",
    "    except:\n",
    "        tt = t.copy()\n",
    "    spikes1 = regions.calc_peaks(\n",
    "        ts=ts,\n",
    "        save=False,\n",
    "        t=tt,\n",
    "        zScores=zs,\n",
    "        smooth=0\n",
    "    )\n",
    "    print(len(spikes1))\n",
    "    if len(spikes1)==len(spikes):\n",
    "        spikes = spikes1\n",
    "        del spikes1\n",
    "        break\n",
    "    spikes = spikes1"
   ]
  },
  {
   "cell_type": "code",
   "execution_count": null,
   "metadata": {},
   "outputs": [],
   "source": [
    "fig, axs = plt.subplots(len(regions.df),1,figsize=(9,9), sharey=False, sharex=True)\n",
    "sl1 = regions.fast_filter_traces(ts,\n",
    "                                 write=False,\n",
    "                                 normalize=True,\n",
    "                                 z_sp=3,\n",
    "                                 verbose=True,\n",
    "                                 Npoints=20,\n",
    "                                 usecol=\"_trace\"\n",
    "                                )[0]\n",
    "for i,ix in enumerate(regions.df.index):\n",
    "    ax = axs[i]\n",
    "    ax.plot(t, regions.df.loc[ix, \"trace\"],lw=.4)\n",
    "    ax.plot(t, regions.df.loc[ix,\"_trace\"],lw=.8)\n",
    "    ax.plot(tt, sl1[i],lw=.8)\n",
    "# plt.xlim(fitDF[\"loc\"].min()-10, fitDF[\"loc\"].max()+50)\n",
    "plt.subplots_adjust(hspace=0.01)"
   ]
  },
  {
   "cell_type": "code",
   "execution_count": null,
   "metadata": {},
   "outputs": [],
   "source": [
    "fitDF"
   ]
  },
  {
   "cell_type": "code",
   "execution_count": null,
   "metadata": {},
   "outputs": [],
   "source": []
  },
  {
   "cell_type": "code",
   "execution_count": null,
   "metadata": {},
   "outputs": [],
   "source": []
  },
  {
   "cell_type": "code",
   "execution_count": null,
   "metadata": {},
   "outputs": [],
   "source": [
    "from islets.fitting import myShape"
   ]
  },
  {
   "cell_type": "code",
   "execution_count": null,
   "metadata": {},
   "outputs": [],
   "source": [
    "tr = np.linspace(-2,10, 100)\n",
    "# yr = multiShape(tr, pd.DataFrame([tmp]))+np.random.normal(size=len(tr))*.03\n",
    "\n",
    "plt.figure()\n",
    "r=1\n",
    "for k in [1,3,.5]:\n",
    "    yr = tr**k*np.exp(-r*tr)\n",
    "    plt.plot(tr, yr/yr.max())\n",
    "    \n",
    "plt.plot(tr, myShape(tr,loc=0,decay=1, half_width=2),\"--\")\n",
    "plt.plot(tr, myShape(tr,loc=0,decay=2, half_width=2),\"--\")\n",
    "plt.ylim(1e-3,)\n",
    "plt.yscale(\"log\")"
   ]
  },
  {
   "cell_type": "code",
   "execution_count": null,
   "metadata": {},
   "outputs": [],
   "source": []
  },
  {
   "cell_type": "code",
   "execution_count": null,
   "metadata": {},
   "outputs": [],
   "source": [
    "# plt.figure()\n",
    "# plt.plot(tr,yr)\n",
    "\n",
    "fit_spikes(\n",
    "     tr,yr,\n",
    "     regions.calc_peaks(ts=5,t=tr,\n",
    "                        zScores=yr.reshape(1,-1),\n",
    "                        z_th=.1,\n",
    "                        save=False),\n",
    "                       colorCode={\"myShape\":\"C3\"},\n",
    "                       plot=True,\n",
    "#                        ax=axs[i],\n",
    "#                        half_width_threshold=ts/12\n",
    "                      )"
   ]
  },
  {
   "cell_type": "code",
   "execution_count": null,
   "metadata": {},
   "outputs": [],
   "source": [
    "fitDF = pd.concat(fitDF, sort=False)"
   ]
  },
  {
   "cell_type": "code",
   "execution_count": null,
   "metadata": {},
   "outputs": [],
   "source": [
    "%matplotlib notebook"
   ]
  },
  {
   "cell_type": "code",
   "execution_count": null,
   "metadata": {},
   "outputs": [],
   "source": [
    "fig, axs = plt.subplots(len(regions.df),1,figsize=(10,10), sharey=False, sharex=True)\n",
    "for i,ix in enumerate(regions.df.index):\n",
    "    ax = axs[i]\n",
    "    ax.plot(t, regions.df.trace[ix], lw=.4)\n",
    "    ax.plot(t, regions.df.trace[ix]-multiShape(t,fitDF.query(f\"roi=={ix}\")), \"k\",lw=.3)\n",
    "    ax.plot(tt,sl[i])\n",
    "plt.tight_layout()\n",
    "# plt.xlim(fitDF[\"loc\"].min()-5, fitDF[\"loc\"].max()+2)\n",
    "plt.xlim(regions.time[0], regions.time[0]+100)\n",
    "plt.subplots_adjust(hspace=0.01)"
   ]
  },
  {
   "cell_type": "code",
   "execution_count": null,
   "metadata": {},
   "outputs": [],
   "source": [
    "err_scales = [(zs[i]/(fs[i]/sl[i]**.5)).mean() for i in range(len(zs))]"
   ]
  },
  {
   "cell_type": "code",
   "execution_count": null,
   "metadata": {},
   "outputs": [],
   "source": []
  },
  {
   "cell_type": "code",
   "execution_count": null,
   "metadata": {},
   "outputs": [],
   "source": [
    "plt.figure(figsize=(14,5))\n",
    "ax = plt.subplot()\n",
    "# plt.plot(t, y, lw=.6)\n",
    "# plt.xlim(t[0], t[0]+100)\n",
    "\n",
    "\n",
    "\n",
    "fit_spikes(t, y,\n",
    "           spikes.query(f\"roi=={itest}\"),\n",
    "           plot=True,\n",
    "           # half_width_threshold = ts/5,\n",
    "           # rel_amplitude_threshold = 0,\n",
    "            ifit=3,\n",
    "           colorCode={\"myShape\":\"C1\"},\n",
    "           # colorCode={\"myLogNorm\":\"C1\"},\n",
    "           ax=ax\n",
    "          )\n",
    "# plt.plot(tt,sl[i_test]/regions.)"
   ]
  },
  {
   "cell_type": "code",
   "execution_count": null,
   "metadata": {},
   "outputs": [],
   "source": [
    "plt.hexbin(zs[i_test],(fs[i_test]/sl[i_test]**.5), bins=\"log\", mincnt=1)\n",
    "plt.grid()"
   ]
  },
  {
   "cell_type": "code",
   "execution_count": null,
   "metadata": {},
   "outputs": [],
   "source": []
  },
  {
   "cell_type": "code",
   "execution_count": null,
   "metadata": {},
   "outputs": [],
   "source": [
    "zs[i_test]"
   ]
  },
  {
   "cell_type": "code",
   "execution_count": null,
   "metadata": {},
   "outputs": [],
   "source": []
  },
  {
   "cell_type": "code",
   "execution_count": null,
   "metadata": {},
   "outputs": [],
   "source": [
    "ts = 1\n",
    "sl,fs,zs = regions.fast_filter_traces(ts,\n",
    "                                      write=False,\n",
    "                                      normalize=False,\n",
    "                                      z_sp=3\n",
    "                                     )\n",
    "t = regions.time.copy()\n",
    "try:\n",
    "    tt = regions.showTime[\"%g\"%ts]\n",
    "except:\n",
    "    tt = t.copy()\n",
    "zth = 2\n",
    "spikes = regions.calc_peaks(\n",
    "    ts=ts,\n",
    "    save=False,\n",
    "    t=tt,\n",
    "    zScores=zs,\n",
    "#     smooth=0,\n",
    "    verbose=True,\n",
    "    z_th=zth\n",
    ")"
   ]
  },
  {
   "cell_type": "code",
   "execution_count": null,
   "metadata": {},
   "outputs": [],
   "source": [
    "# fig, axs = plt.subplots(len(regions.df),1,figsize=(9,9), sharey=False, sharex=True)\n",
    "fig, ax = plt.subplots(1,1,figsize=(9,2.5), sharey=False, sharex=True)\n",
    "for i,ix in enumerate(regions.df.index[:]):\n",
    "#     ax = axs[i]\n",
    "    t = regions.time.copy()\n",
    "#     y = regions.df.loc[ix,\"trace\"]\n",
    "    y = sl[i]+fs[i]\n",
    "    ax.plot(t,y,\"C0\",lw=.8)\n",
    "    ax.plot(tt,sl[i],\"C1\",lw=.8)\n",
    "    df = spikes.query(f\"roi=={ix}\")\n",
    "    for _,row in df.iterrows():\n",
    "        ff = (t>(row[\"t0\"]-row[\"peak half-width [s]\"]*0.5)) & (t<(row[\"t0\"]+row[\"peak half-width [s]\"]*2))\n",
    "        ax.plot(t[ff],y[ff],\"C3\")\n",
    "        ax.plot(t[ff][0],y[ff][0]+y[ff].std()*5,\"C3.\")\n",
    "#         plt.xlim(row[\"t0\"]-row[\"peak half-width [s]\"]*5-2, row[\"t0\"]+row[\"peak half-width [s]\"]*5+2)\n",
    "#     if len(df)>30:\n",
    "    wIron = int(np.round(ts/(t[1]-t[0])))\n",
    "    if wIron%2==0: wIron+=1\n",
    "    ys = lowPass(y,wIron,wIron,perc=20)\n",
    "    ax.plot(t,ys,\"C5\",lw=.8)\n",
    "    break\n",
    "\n",
    "zs_ = (sl[i]+fs[i]-ys)/ys**.5\n",
    "# plt.xlim(regions.time[0], regions.time[0]+300)\n",
    "\n",
    "plt.subplots_adjust(hspace=0.01)"
   ]
  },
  {
   "cell_type": "code",
   "execution_count": null,
   "metadata": {},
   "outputs": [],
   "source": [
    "spikes_ = regions.calc_peaks(\n",
    "    ts=ts,\n",
    "    save=False,\n",
    "    t=tt,\n",
    "    zScores=zs_.reshape(1,-1),\n",
    "#     smooth=0,\n",
    "    z_th=zth+1\n",
    ")\n",
    "\n",
    "df = spikes_.query(f\"roi=={ix}\")\n",
    "for _,row in df.iterrows():\n",
    "    row.t0-df\n",
    "    ff = (t>(row[\"t0\"]-row[\"peak half-width [s]\"]*0.5)) & (t<(row[\"t0\"]+row[\"peak half-width [s]\"]*2))\n",
    "    ax.plot(t[ff],y[ff],\"C5\",lw=.5)\n",
    "    ax.plot(t[ff][0],y[ff][0]+y[ff].std()*5,\n",
    "            \"C5x\",\n",
    "#             \"C5o\",mfc=\"none\"\n",
    "           )\n"
   ]
  },
  {
   "cell_type": "code",
   "execution_count": null,
   "metadata": {},
   "outputs": [],
   "source": [
    "frq,pw = power_spectrum(y,fr=regions.Freq)\n",
    "plt.figure()\n",
    "pw = np.abs(pw)\n",
    "ff = frq>.4\n",
    "plt.plot(frq[ff],pw[ff])"
   ]
  },
  {
   "cell_type": "code",
   "execution_count": null,
   "metadata": {},
   "outputs": [],
   "source": [
    "from islets.numeric import lowPass"
   ]
  },
  {
   "cell_type": "code",
   "execution_count": null,
   "metadata": {},
   "outputs": [],
   "source": [
    "lowPass?"
   ]
  },
  {
   "cell_type": "code",
   "execution_count": null,
   "metadata": {},
   "outputs": [],
   "source": [
    "lowPass(y,19,)"
   ]
  },
  {
   "cell_type": "code",
   "execution_count": null,
   "metadata": {},
   "outputs": [],
   "source": [
    "plt.figure()\n",
    "plt.plot(t,regions.df.loc[ix,\"trace\"])\n",
    "plt.plot(tt,sl[i])\n",
    "plt.axvline(row.t0)\n",
    "plt.plot(t,t>(row[\"t0\"]-row[\"peak half-width [s]\"]/.2))\n",
    "plt.plot(t,t<(row[\"t0\"]+row[\"peak half-width [s]\"]*2))\n",
    "plt.plot(t,)\n",
    "\n",
    "plt.xlim(row[\"t0\"]-row[\"peak half-width [s]\"]*5-2, row[\"t0\"]+row[\"peak half-width [s]\"]*5+2)"
   ]
  },
  {
   "cell_type": "code",
   "execution_count": null,
   "metadata": {},
   "outputs": [],
   "source": []
  },
  {
   "cell_type": "code",
   "execution_count": null,
   "metadata": {},
   "outputs": [],
   "source": []
  },
  {
   "cell_type": "code",
   "execution_count": null,
   "metadata": {},
   "outputs": [],
   "source": []
  },
  {
   "cell_type": "code",
   "execution_count": null,
   "metadata": {},
   "outputs": [],
   "source": []
  },
  {
   "cell_type": "code",
   "execution_count": null,
   "metadata": {},
   "outputs": [],
   "source": []
  },
  {
   "cell_type": "code",
   "execution_count": null,
   "metadata": {},
   "outputs": [],
   "source": []
  },
  {
   "cell_type": "code",
   "execution_count": null,
   "metadata": {},
   "outputs": [],
   "source": []
  },
  {
   "cell_type": "code",
   "execution_count": null,
   "metadata": {},
   "outputs": [],
   "source": []
  },
  {
   "cell_type": "code",
   "execution_count": null,
   "metadata": {},
   "outputs": [],
   "source": []
  },
  {
   "cell_type": "code",
   "execution_count": null,
   "metadata": {},
   "outputs": [],
   "source": [
    "fig, axs = plt.subplots(3,1,figsize=(10,8), sharex=True, sharey=True)\n",
    "fitDF = []\n",
    "for ts,ax in zip([2,5],axs):\n",
    "    spikes = regions.calc_peaks(ts,save=False)\n",
    "    if len(fitDF):\n",
    "        yy = y-multiShape(t,pd.concat(fitDF, ignore_index=True))\n",
    "    else:\n",
    "        yy = y\n",
    "    fitDF += [fit_spikes(t, yy,\n",
    "                       spikes.query(f\"roi=={itest}\"),\n",
    "                       plot=True,\n",
    "                       # half_width_threshold = ts/5,\n",
    "                       # rel_amplitude_threshold = 0,\n",
    "                       #  ifit=3,\n",
    "                       colorCode={\"myShape\":\"C1\"},\n",
    "                       # colorCode={\"myLogNorm\":\"C1\"},\n",
    "                       ax=ax\n",
    "                      )]\n",
    "#     break"
   ]
  },
  {
   "cell_type": "code",
   "execution_count": null,
   "metadata": {},
   "outputs": [],
   "source": []
  },
  {
   "cell_type": "code",
   "execution_count": null,
   "metadata": {},
   "outputs": [],
   "source": []
  },
  {
   "cell_type": "code",
   "execution_count": null,
   "metadata": {},
   "outputs": [],
   "source": [
    "ts = 5\n",
    "spikes = regions.calc_peaks(ts,save=False)\n",
    "fitDF += fit_spikes(t, y-multiShape(t,fitDF[-1]), spikes.query(f\"roi=={itest}\"),\n",
    "                   plot=True,\n",
    "                   half_width_threshold = ts/8,\n",
    "#                    ifit=10,\n",
    "                   colorCode={\"myShape\":\"C1\"}\n",
    "#                    colorCode={\"myLogNorm\":\"C1\"}\n",
    "                  )"
   ]
  },
  {
   "cell_type": "code",
   "execution_count": null,
   "metadata": {},
   "outputs": [],
   "source": [
    "plt.figure()\n",
    "plt.plot(t, multiShape(t,fitDF))"
   ]
  },
  {
   "cell_type": "code",
   "execution_count": null,
   "metadata": {},
   "outputs": [],
   "source": [
    "fitDF[\"rel_ampl\"] = fitDF.amplitude/fitDF.background"
   ]
  },
  {
   "cell_type": "code",
   "execution_count": null,
   "metadata": {},
   "outputs": [],
   "source": [
    "fitDF"
   ]
  },
  {
   "cell_type": "code",
   "execution_count": null,
   "metadata": {},
   "outputs": [],
   "source": [
    "mu"
   ]
  },
  {
   "cell_type": "code",
   "execution_count": null,
   "metadata": {},
   "outputs": [],
   "source": [
    "for ts in [1,3,10,30,100,300]:\n",
    "#     regions.calc_peaks(ts, z_th=4, verbose=True, smooth=None)\n",
    "    regions.calc_peaks(ts)"
   ]
  },
  {
   "cell_type": "code",
   "execution_count": null,
   "metadata": {},
   "outputs": [],
   "source": [
    "# ALLPEAKS = []\n",
    "fig, axs = plt.subplots(2,3, figsize=(13,7), sharex=True, sharey=True)\n",
    "for ts,ax in zip([1,3,10,30,100,300], axs.flat):\n",
    "    df = regions.peaks[\"%g\"%ts].copy()\n",
    "    ax.hexbin(df[\"peak half-width [s]\"], df[\"peak height [z-score]\"], yscale=\"log\", xscale=\"log\", mincnt=1, gridsize=30, bins=\"log\")\n",
    "#     df[\"ts\"] = ts\n",
    "#     ALLPEAKS += [df]"
   ]
  },
  {
   "cell_type": "code",
   "execution_count": null,
   "metadata": {},
   "outputs": [],
   "source": [
    "ts = 10\n",
    "pdf = regions.peaks[\"%g\"%ts]"
   ]
  },
  {
   "cell_type": "code",
   "execution_count": null,
   "metadata": {},
   "outputs": [],
   "source": [
    "fitDF"
   ]
  },
  {
   "cell_type": "code",
   "execution_count": null,
   "metadata": {},
   "outputs": [],
   "source": [
    "[fitDF.loc[i,\"pars\"].amplitude/fitDF.loc[i,\"background\"] for i in fitDF.index]"
   ]
  },
  {
   "cell_type": "code",
   "execution_count": null,
   "metadata": {
    "code_folding": []
   },
   "outputs": [],
   "source": [
    "# fitting of trace\n",
    "ix = 64#regions.df.sort_values(\"zInterest\", ascending=False).index[0]    \n",
    "y  = regions.df.loc[ix,\"trace\"].copy()\n",
    "t  = regions.time.copy()\n",
    "ishow = 0\n",
    "parDf = []\n",
    "for ip,p in pdf.query(f\"roi=={ix}\").iterrows():\n",
    "    i0  = np.searchsorted(t , p.t0-p[\"peak half-width [s]\"]*.5,)\n",
    "    ie  = np.searchsorted(t , p.t0+p[\"peak half-width [s]\"]*2+1)\n",
    "    ycur = y[i0:ie]\n",
    "    tcur = t[i0:ie]\n",
    "    imax = np.argmax(ycur)\n",
    "    res = pd.DataFrame(columns=[\"fshape\",\"pars\",\"score\",\"background\"])\n",
    "\n",
    "    for fname in colorCode:\n",
    "        fshape = eval(fname)\n",
    "        pars0 = getInitialPars(tcur,ycur,p,fshape)\n",
    "        try:\n",
    "            try:\n",
    "                opt = minimize(toMin, np.array(pars0), args=(tcur,ycur,fshape),\n",
    "                               bounds = [(pars0[j]*.05, pars0[j]*10) for j in range(len(pars0))]\n",
    "                              #  method=\"Nelder-Mead\"\n",
    "                              )\n",
    "            except:\n",
    "                opt = minimize(toMin, np.array(pars0), args=(tcur,ycur,fshape),\n",
    "                               # bounds = [(pars0[j]*.05, pars0[j]*10) for j in range(len(pars0))],\n",
    "                               # method=\"Nelder-Mead\"\n",
    "                              )\n",
    "            yf,bkg = fshape(tcur,*opt.x, bkgsum=False, fillnan=True)\n",
    "            pars = pars = pars0._replace(**dict(zip(pars0._asdict().keys(), opt.x)))\n",
    "            res = res.append({\"fshape\": fshape.__name__,\n",
    "                              \"pars\": pars,\n",
    "                              \"score\":np.nanmean((ycur-yf-bkg)**2),\n",
    "                              \"background\": np.nanmean(bkg)\n",
    "                             }, ignore_index=True)\n",
    "            \n",
    "        except:\n",
    "            continue\n",
    "    res = res.sort_values(\"score\").iloc[0]\n",
    "    res.name = ip\n",
    "    parDf += [res]\n",
    "    ishow += 1\n",
    "#     if ishow>=20: break"
   ]
  },
  {
   "cell_type": "code",
   "execution_count": null,
   "metadata": {},
   "outputs": [],
   "source": []
  },
  {
   "cell_type": "code",
   "execution_count": null,
   "metadata": {},
   "outputs": [],
   "source": [
    "%matplotlib notebook"
   ]
  },
  {
   "cell_type": "code",
   "execution_count": null,
   "metadata": {},
   "outputs": [],
   "source": [
    "plt.figure(figsize=(9,5))\n",
    "parDf = pd.DataFrame(parDf)\n",
    "# ff = np.ones(len(parDf)).astype(bool)\n",
    "plt.plot(t,y, \"k\",lw=.5,)\n",
    "for c in [\"darkred\",\"C0\"]:\n",
    "    x = multiShape(t,parDf)\n",
    "    plt.plot(t,x+2, lw=.5,c=c)\n",
    "    plt.plot(t,y-x, lw=.5,c=c)\n",
    "    w,h,t0,te = peak_widths(x, find_peaks(x)[0], rel_height=.9)\n",
    "    t0,te = t[0]+t0/regions.Freq,t[0]+te/regions.Freq\n",
    "    w = w/regions.Freq\n",
    "    parDf = parDf[w<ts/2]\n",
    "# plt.xlim(parDf[0].pars[3], parDf[-1].pars[3])\n",
    "plt.xlim(t[np.where(x>0)[0][0]]-2, t[np.where(x>1e-3)[0][-1]]+20)"
   ]
  },
  {
   "cell_type": "code",
   "execution_count": null,
   "metadata": {},
   "outputs": [],
   "source": [
    "\n",
    "x = multiShape(t,parDf)\n",
    "w,h,t0,te = peak_widths(x, find_peaks(x)[0], rel_height=.9)\n",
    "t0,te = t[0]+t0/regions.Freq,t[0]+te/regions.Freq\n",
    "w = w/regions.Freq"
   ]
  },
  {
   "cell_type": "code",
   "execution_count": null,
   "metadata": {},
   "outputs": [],
   "source": [
    "plt.figure()\n",
    "plt.plot(w,[p.pars.amplitude/p.background for _,p in parDf.iterrows()],\".\")"
   ]
  },
  {
   "cell_type": "code",
   "execution_count": null,
   "metadata": {},
   "outputs": [],
   "source": [
    "get_sep_th(w, plot=True, log=False)"
   ]
  },
  {
   "cell_type": "code",
   "execution_count": null,
   "metadata": {},
   "outputs": [],
   "source": []
  },
  {
   "cell_type": "code",
   "execution_count": null,
   "metadata": {},
   "outputs": [],
   "source": []
  },
  {
   "cell_type": "code",
   "execution_count": null,
   "metadata": {},
   "outputs": [],
   "source": []
  },
  {
   "cell_type": "code",
   "execution_count": null,
   "metadata": {},
   "outputs": [],
   "source": [
    "from scipy.signal import find_peaks, peak_widths"
   ]
  },
  {
   "cell_type": "code",
   "execution_count": null,
   "metadata": {},
   "outputs": [],
   "source": [
    "plt.figure()\n",
    "plt.plot(t,x)\n",
    "w<\n",
    "# plt.hlines(h,t0,te)\n",
    "# plt.hlines(h,t0,te)\n",
    "# plt.xlim(0,1000)"
   ]
  },
  {
   "cell_type": "code",
   "execution_count": null,
   "metadata": {},
   "outputs": [],
   "source": [
    "%matplotlib inline"
   ]
  },
  {
   "cell_type": "code",
   "execution_count": null,
   "metadata": {},
   "outputs": [],
   "source": [
    "plt.plot(sorted(w), np.arange(len(w)))\n",
    "# plt.yscale(\"log\")"
   ]
  },
  {
   "cell_type": "code",
   "execution_count": null,
   "metadata": {},
   "outputs": [],
   "source": []
  },
  {
   "cell_type": "code",
   "execution_count": null,
   "metadata": {},
   "outputs": [],
   "source": [
    "imax"
   ]
  },
  {
   "cell_type": "code",
   "execution_count": null,
   "metadata": {},
   "outputs": [],
   "source": [
    "tr = np.linspace(0,10,1000)\n",
    "plt.figure()\n",
    "plt.plot(tr,myLogNorm(tr,amplitude=1,loc=1,s=1,scale=1,fillnan=False))\n",
    "plt.plot(tr,myLogNorm(tr,amplitude=1,loc=1,s=1,scale=1,fillnan=True))\n",
    "plt.plot(tr,myLogNorm(tr,amplitude=1,loc=1,s=1,scale=1,fillnan=False,offset=0,end=.1))\n",
    "plt.plot(tr,myLogNorm(tr,amplitude=1,loc=1,s=1,scale=1,fillnan=True,offset=0,end=.1))\n",
    "# plt.plot(tr,myLogNorm(tr,Ampl=1,loc=1,s=.1,scale=1))\n",
    "# plt.plot(tr,myLogNorm(tr,Ampl=1,loc=1,s=1,scale=2))\n",
    "# plt.plot(tr,myLogNorm(tr,Ampl=1,loc=1,s=.2,scale=2))\n",
    "plt.grid()"
   ]
  },
  {
   "cell_type": "code",
   "execution_count": null,
   "metadata": {},
   "outputs": [],
   "source": [
    "ss = np.logspace(-1,.5,11)\n",
    "for i,s in enumerate(ss):\n",
    "    plt.plot(tr,myLogNorm(tr,Ampl=1,loc=1,s=s,scale=1, reshift=True), c=plt.cm.rainbow(i/len(ss)))\n",
    "# plt.xlim(0,3)\n",
    "plt.plot(tr,myLogNorm(tr,Ampl=1,loc=1,s=.2,scale=1),\"k--\")\n",
    "plt.yscale(\"log\")\n",
    "plt.ylim(1e-10,2)"
   ]
  },
  {
   "cell_type": "code",
   "execution_count": null,
   "metadata": {},
   "outputs": [],
   "source": [
    "ss = np.logspace(-1,.5,11)\n",
    "for i,s in enumerate(ss):\n",
    "    plt.plot(tr,myLogNorm(tr,Ampl=1,loc=1,s=.2,scale=s), c=plt.cm.rainbow(i/len(ss)))\n",
    "# plt.xlim(0,3)\n",
    "# plt.plot(tr,myLogNorm(tr,Ampl=1,loc=1,s=.2,scale=1),\"k--\")\n",
    "# plt.yscale(\"log\")\n",
    "# plt.ylim(1e-10,2)"
   ]
  },
  {
   "cell_type": "code",
   "execution_count": null,
   "metadata": {},
   "outputs": [],
   "source": [
    "hw = .7\n",
    "plt.plot(tr,myLogNorm(tr,Ampl=1,loc=1,scale=2*hw))\n",
    "plt.xlim(0,3)\n",
    "plt.axhline(.5)\n",
    "# plt.plot(tr,myLogNorm(tr,Ampl=1,loc=1,s=.2,scale=1),\"k--\")\n",
    "# plt.yscale(\"log\")\n",
    "# plt.ylim(1e-10,2)"
   ]
  },
  {
   "cell_type": "code",
   "execution_count": null,
   "metadata": {},
   "outputs": [],
   "source": [
    "LNParameters = namedtuple(\"Parameters\", ['loc', 'scale', 's', 'amplitude', 'offset', 'end'])"
   ]
  },
  {
   "cell_type": "code",
   "execution_count": null,
   "metadata": {},
   "outputs": [],
   "source": [
    "fitPars = pd.DataFrame(columns=['loc', 'scale', 's', 'amplitude', 'offset', 'end'])"
   ]
  },
  {
   "cell_type": "code",
   "execution_count": null,
   "metadata": {
    "code_folding": []
   },
   "outputs": [],
   "source": [
    "# fitting of trace with logNorm\n",
    "fig, ax = plt.subplots(1,1,figsize=(9,4), sharex=True)\n",
    "ix = regions.df.sort_values(\"zInterest\", ascending=False).index[0]    \n",
    "y  = regions.df.loc[ix,\"trace\"].copy()\n",
    "ys = regions.df.loc[ix,\"slower_%g\"%ts].copy()\n",
    "t  = regions.time.copy()\n",
    "try:\n",
    "    tt = regions.showTime[\"%g\"%ts].copy()\n",
    "except:\n",
    "    tt = regions.time.copy()\n",
    "\n",
    "dtt = tt[1]-tt[0]\n",
    "nrb = int(dtt/regions.Freq)\n",
    "if nrb>1:\n",
    "    y = rebin(y, nrb)\n",
    "    t = rebin(t, nrb)\n",
    "dt = dtt/max(1,nrb)\n",
    "ax.plot(t, y, lw=.6)\n",
    "ax.plot(tt, ys, lw=.8)\n",
    "plt.tight_layout()\n",
    "\n",
    "ishow = 0\n",
    "for ip,p in pdf.query(f\"roi=={ix}\").iterrows():\n",
    "    is0 = np.searchsorted(tt, p.t0-p[\"peak half-width [s]\"]*.5)\n",
    "    i0  = np.searchsorted(t , p.t0-p[\"peak half-width [s]\"]*.5,)\n",
    "    ie  = np.searchsorted(t , p.t0+p[\"peak half-width [s]\"]*2+1)\n",
    "    ycur = y[i0:ie]\n",
    "    tcur = t[i0:ie]\n",
    "    imax = np.argmax(ycur)\n",
    "#     ax.plot(tcur,ycur,\"C2.\", mfc=\"none\")\n",
    "    ax.plot(tcur[imax],ycur[imax],\"ko\")\n",
    "#     r = guessDecayPars(ycur[imax-1:ie])[-1]\n",
    "    pars0 = LNParameters(s=.2,\n",
    "                         scale=p[\"peak half-width [s]\"]*2,\n",
    "                         amplitude=ycur[imax-1:imax+1].mean()-ys[is0],\n",
    "                         loc=p.t0+p[\"peak half-width [s]\"]*.2,\n",
    "                         offset=ys[is0],\n",
    "                         end=ys[is0]\n",
    "                      )\n",
    "\n",
    "    y0 = myLogNorm(tcur, *pars0)\n",
    "    plt.plot(tcur, y0,\"grey\",lw=.7)\n",
    "    opt = minimize(toMin, np.array(pars0), args=(tcur,ycur,myLogNorm), bounds=[(pars0[j],pars0[j]) if j==2 else (None,None) for j in range(len(pars0))])\n",
    "    opt = minimize(toMin, np.array(pars0), args=(tcur,ycur,myLogNorm), bounds=[(pars0[j]*.5,pars0[j]*2) if j==2 else (None,None) for j in range(len(pars0))])\n",
    "    pars = LNParameters(*opt.x)\n",
    "#     try:\n",
    "#         opt = minimize(toMin, np.array(pars0), args=(tcur,ycur,myLogNorm))\n",
    "#     except:\n",
    "#         continue\n",
    "    yf,bkg = myLogNorm(tcur,*opt.x, bkgsum=False)\n",
    "    y[i0:ie][np.isfinite(yf)] -= yf[np.isfinite(yf)]\n",
    "    plt.plot(tcur, yf+bkg, \"k\")\n",
    "    plt.plot(tcur, y[i0:ie], \"C1\",lw=.5)\n",
    "    fitPars.loc[ip] = opt.x\n",
    "#     pdf.loc[[ip],\"fitPars\"] = [tuple(opt.x)]\n",
    "    if ishow==0:\n",
    "        tmin = t[i0]-10\n",
    "    ishow += 1\n",
    "#     if ishow>10: break\n",
    "plt.xlim(tmin, tcur[-1]+10)"
   ]
  },
  {
   "cell_type": "code",
   "execution_count": null,
   "metadata": {},
   "outputs": [],
   "source": [
    "fitPars"
   ]
  },
  {
   "cell_type": "code",
   "execution_count": null,
   "metadata": {},
   "outputs": [],
   "source": [
    "LNParameters(*opt.x)"
   ]
  },
  {
   "cell_type": "code",
   "execution_count": null,
   "metadata": {},
   "outputs": [],
   "source": [
    "pdf.loc[[ip],\"fitPars\"] = [range(len(pars0))]"
   ]
  },
  {
   "cell_type": "code",
   "execution_count": null,
   "metadata": {},
   "outputs": [],
   "source": [
    "plt.plot(tr,myLogNorm(tr,*pars0._replace(loc=1), fillnan=False))"
   ]
  },
  {
   "cell_type": "code",
   "execution_count": null,
   "metadata": {},
   "outputs": [],
   "source": [
    "p[\"ha\"] = 1"
   ]
  },
  {
   "cell_type": "code",
   "execution_count": null,
   "metadata": {},
   "outputs": [],
   "source": [
    "p"
   ]
  },
  {
   "cell_type": "code",
   "execution_count": null,
   "metadata": {},
   "outputs": [],
   "source": [
    "pdf"
   ]
  },
  {
   "cell_type": "code",
   "execution_count": null,
   "metadata": {},
   "outputs": [],
   "source": []
  },
  {
   "cell_type": "code",
   "execution_count": null,
   "metadata": {},
   "outputs": [],
   "source": []
  },
  {
   "cell_type": "code",
   "execution_count": null,
   "metadata": {},
   "outputs": [],
   "source": []
  },
  {
   "cell_type": "code",
   "execution_count": null,
   "metadata": {},
   "outputs": [],
   "source": [
    "p.update(dict(zip(pars0._asdict().keys(), opt.x)))"
   ]
  },
  {
   "cell_type": "code",
   "execution_count": null,
   "metadata": {},
   "outputs": [],
   "source": [
    "plt.plot(y0)"
   ]
  },
  {
   "cell_type": "code",
   "execution_count": null,
   "metadata": {},
   "outputs": [],
   "source": []
  },
  {
   "cell_type": "code",
   "execution_count": null,
   "metadata": {},
   "outputs": [],
   "source": []
  },
  {
   "cell_type": "code",
   "execution_count": null,
   "metadata": {},
   "outputs": [],
   "source": []
  },
  {
   "cell_type": "code",
   "execution_count": null,
   "metadata": {
    "code_folding": [
     0
    ]
   },
   "outputs": [],
   "source": [
    "# fitting of z\n",
    "ix = regions.df.sort_values(\"zInterest\", ascending=False).index[0]\n",
    "if \"zScore_%g\"%ts not in regions.df:\n",
    "    regions.fast_filter_traces(ts)\n",
    "    \n",
    "nrb = int(ts/regions.Freq)\n",
    "fig, axs = plt.subplots(2,1,figsize=(9,6), sharex=True)\n",
    "\n",
    "y = regions.df.loc[ix,\"trace\"].copy()\n",
    "ys =regions.df.loc[ix,\"slower_%g\"%ts].copy()\n",
    "z = regions.df.loc[ix,\"zScore_%g\"%ts].copy()\n",
    "t = regions.time.copy()\n",
    "try:\n",
    "    tt = regions.showTime[\"%g\"%ts].copy()\n",
    "except:\n",
    "    tt = regions.time.copy()\n",
    "if nrb>1:\n",
    "    y = rebin(y, nrb)\n",
    "    t = rebin(t, nrb)\n",
    "axs[0].plot(t, y, lw=.6)\n",
    "axs[0].plot(tt, ys, lw=.8)\n",
    "axs[1].plot(tt,z,\"-\", lw=.6)\n",
    "dtt = tt[1]-tt[0]\n",
    "plt.tight_layout()\n",
    "# plt.xlim(t[0]-1,2000)\n",
    "\n",
    "ishow = 0\n",
    "for _,p in pdf.query(f\"roi=={ix}\").iterrows():\n",
    "    i0 = np.searchsorted(tt,p.t0-1,)\n",
    "    ie = np.searchsorted(tt,p.t0+p[\"peak half-width [s]\"]*2+1)\n",
    "    zcur = z[i0:ie]\n",
    "    tcur = tt[i0:ie]\n",
    "    imax = np.argmax(zcur)\n",
    "    axs[1].plot(tcur,zcur,\"C2.\", mfc=\"none\")\n",
    "    axs[1].plot(tcur[imax],zcur[imax],\"ko\")\n",
    "    pars0 = Parameters(decay=dtt/guessDecayPars(zcur[imax-1:ie])[-1],\n",
    "                       half_width=p[\"peak half-width [s]\"]*.8,\n",
    "                       amplitude=z[i0:ie].max(),\n",
    "                       loc=p.t0,\n",
    "                       offset=0,\n",
    "                       end=0\n",
    "                      )\n",
    "\n",
    "    z0 = myShape(tcur, *pars0)\n",
    "    plt.plot(tcur, z0,\"grey\",lw=.7)\n",
    "    try:\n",
    "        opt = minimize(toMin, np.array(pars0), args=(tcur,zcur))\n",
    "    except:\n",
    "        continue\n",
    "    zf = myShape(tcur,*opt.x)\n",
    "    plt.plot(tcur, zf,\"k\")\n",
    "    if ishow==0:\n",
    "        tmin = tt[i0]-10\n",
    "    ishow += 1\n",
    "    if ishow>10: break\n",
    "plt.xlim(tmin, tcur[-1]+10)"
   ]
  },
  {
   "cell_type": "code",
   "execution_count": null,
   "metadata": {},
   "outputs": [],
   "source": [
    "from islets.numeric import guessDecayPars"
   ]
  },
  {
   "cell_type": "code",
   "execution_count": null,
   "metadata": {},
   "outputs": [],
   "source": []
  },
  {
   "cell_type": "code",
   "execution_count": null,
   "metadata": {},
   "outputs": [],
   "source": [
    "iHalf = i0+int(regions.Freq*(1+p[\"peak half-width [s]\"]))"
   ]
  },
  {
   "cell_type": "code",
   "execution_count": null,
   "metadata": {},
   "outputs": [],
   "source": [
    "pars = Parameters(*opt.x)"
   ]
  },
  {
   "cell_type": "code",
   "execution_count": null,
   "metadata": {},
   "outputs": [],
   "source": [
    "%matplotlib inline"
   ]
  },
  {
   "cell_type": "code",
   "execution_count": null,
   "metadata": {},
   "outputs": [],
   "source": [
    "plt.figure()\n",
    "plt.plot(tt[i0:ie],z[i0:ie],\"o\", mfc=\"none\")\n",
    "plt.plot(tt[iHalf],z[iHalf],\"x\", mfc=\"none\")"
   ]
  },
  {
   "cell_type": "code",
   "execution_count": null,
   "metadata": {},
   "outputs": [],
   "source": [
    "plt.plot(tt[i0:ie], myShape(tt[i0:ie], *pars),\"k\")\n",
    "plt.plot(tt[i0:ie], myShape(tt[i0:ie], *pars._replace(half_width=pars.half_width/2)))\n",
    "plt.plot(tt[i0:ie], myShape(tt[i0:ie], *pars._replace(decay=pars.decay*5)))\n",
    "plt.plot(tt[i0:ie], myShape(tt[i0:ie], *pars._replace(decay=pars.decay*5, half_width=pars.half_width*2.5)))\n",
    "# plt.ioff()"
   ]
  },
  {
   "cell_type": "code",
   "execution_count": null,
   "metadata": {},
   "outputs": [],
   "source": []
  },
  {
   "cell_type": "code",
   "execution_count": null,
   "metadata": {},
   "outputs": [],
   "source": []
  },
  {
   "cell_type": "code",
   "execution_count": null,
   "metadata": {},
   "outputs": [],
   "source": [
    "1/regions.Freq"
   ]
  },
  {
   "cell_type": "markdown",
   "metadata": {},
   "source": [
    "### Other playing"
   ]
  },
  {
   "cell_type": "code",
   "execution_count": null,
   "metadata": {},
   "outputs": [],
   "source": [
    "%matplotlib notebook"
   ]
  },
  {
   "cell_type": "code",
   "execution_count": null,
   "metadata": {},
   "outputs": [],
   "source": [
    "ix = 57\n",
    "coltype = \"zScore\"\n",
    "plt.figure(figsize=(10,4))\n",
    "it = 0\n",
    "for ts in [1,3,5,10,30]:\n",
    "    try: t = regions.showTime[\"%g\"%ts]\n",
    "    except: t = regions.time\n",
    "    y = regions.df.loc[ix,\"%s_%g\"%(coltype,ts)]\n",
    "    plt.plot(t, y+10*it,lw=.6)\n",
    "    it += 1"
   ]
  },
  {
   "cell_type": "code",
   "execution_count": null,
   "metadata": {},
   "outputs": [],
   "source": [
    "from islets.utils import autocorr"
   ]
  },
  {
   "cell_type": "code",
   "execution_count": null,
   "metadata": {},
   "outputs": [],
   "source": [
    "plt.figure(figsize=(5,4))\n",
    "for ts in [1,3,5,10,30]:\n",
    "    try: t = regions.showTime[\"%g\"%ts]\n",
    "    except: t = regions.time\n",
    "    dt = np.diff(t).mean()\n",
    "    x = np.arange(int(30/dt))\n",
    "    y = autocorr(regions.df.loc[ix,\"%s_%g\"%(coltype,ts)], x)\n",
    "    c = plt.plot(x*dt,y,label=ts)[0].get_color()\n",
    "    plt.plot([-1,x[np.argmin(y)]*dt],[y.min(), y.min()],c=c)\n",
    "    plt.plot(x[np.argmin(y)]*dt,y.min(),\"o\",c=c, mfc=\"w\")\n",
    "plt.legend()"
   ]
  },
  {
   "cell_type": "code",
   "execution_count": null,
   "metadata": {},
   "outputs": [],
   "source": [
    "ts = 3\n",
    "regions.calc_peaks(ts)\n",
    "pdf = regions.peaks[\"%g\"%ts]"
   ]
  },
  {
   "cell_type": "code",
   "execution_count": null,
   "metadata": {},
   "outputs": [],
   "source": [
    "# pdf.query(f\"roi=={ix}\")\n",
    "ix = 57\n",
    "nrb = 10\n",
    "plt.figure(figsize=(10,4))\n",
    "y = rebin(regions.df.loc[ix,\"trace\"],nrb).copy()\n",
    "t = rebin(regions.time, nrb)\n",
    "plt.plot(t, y, lw=.6)\n",
    "ishow = 0\n",
    "for _,p in pdf.query(f\"roi=={ix}\").iterrows():\n",
    "    i0 = np.searchsorted(t,p.t0-1,)\n",
    "    ie = np.searchsorted(t,p.t0+p[\"peak half-width [s]\"]+4,)\n",
    "#     break\n",
    "\n",
    "    offset = y[i0]\n",
    "#     scale = p[\"peak half-width [s]\"]\n",
    "    a = y[i0:ie].max()-offset\n",
    "#     yf = myLogNorm(t,\n",
    "#                       Ampl=a,\n",
    "#                       loc=p.t0, \n",
    "#                       scale=scale,\n",
    "#                        s=1,\n",
    "#                       offset=offset)\n",
    "    yf = myShape(t,loc=p.t0,decay=2.5,amplitude=a,half_width=p[\"peak half-width [s]\"],offset=offset)\n",
    "    plt.plot(t, yf,\"k\")\n",
    "    plt.plot(t, y-yf+offset,\"grey\")\n",
    "    ishow += 1\n",
    "    if ishow>10: break\n",
    "plt.xlim(t[0],t[ie]+30)"
   ]
  },
  {
   "cell_type": "code",
   "execution_count": null,
   "metadata": {},
   "outputs": [],
   "source": [
    "%matplotlib inline"
   ]
  },
  {
   "cell_type": "code",
   "execution_count": null,
   "metadata": {},
   "outputs": [],
   "source": [
    "def toMin(x):\n",
    "    yf_ = myShape(t[i0:ie],*x,fillnan=False)\n",
    "    return ((yf_-y[i0:ie])**2).sum()"
   ]
  },
  {
   "cell_type": "code",
   "execution_count": null,
   "metadata": {},
   "outputs": [],
   "source": [
    "x0 = np.array([\n",
    "    2.5,\n",
    "    p[\"peak half-width [s]\"],\n",
    "    a,\n",
    "    p[\"t0\"],\n",
    "    offset,\n",
    "])\n",
    "toMin(x0)"
   ]
  },
  {
   "cell_type": "code",
   "execution_count": null,
   "metadata": {},
   "outputs": [],
   "source": [
    "from scipy.optimize import minimize"
   ]
  },
  {
   "cell_type": "code",
   "execution_count": null,
   "metadata": {},
   "outputs": [],
   "source": [
    "opt = minimize(toMin,x0)"
   ]
  },
  {
   "cell_type": "code",
   "execution_count": null,
   "metadata": {},
   "outputs": [],
   "source": [
    "tr = np.linspace(t[i0],t[ie],1000)"
   ]
  },
  {
   "cell_type": "code",
   "execution_count": null,
   "metadata": {},
   "outputs": [],
   "source": [
    "plt.plot(t[i0:ie],y[i0:ie],\"o-\", mfc=\"w\")\n",
    "plt.axvline(p.t0,ls=\"--\")\n",
    "yshow = myShape(tr      ,loc=p.t0,decay=2.5,amplitude=a,half_width=p[\"peak half-width [s]\"],offset=offset, fillnan=False)\n",
    "yf0    = myShape(t[i0:ie],loc=p.t0,decay=2.5,amplitude=a,half_width=p[\"peak half-width [s]\"],offset=offset, fillnan=False)\n",
    "yf = myShape(tr,*opt.x, fillnan=False)\n",
    "plt.plot(tr, yshow,\"k\")\n",
    "# plt.plot(t[i0:ie], yf0,\"ko\", mfc=\"w\")\n",
    "plt.plot(tr,yf)\n",
    "# plt.plot(t, y-yf+offset,\"grey\")\n",
    "# plt.xlim(t[i0]-2,t[ie]+3)"
   ]
  },
  {
   "cell_type": "code",
   "execution_count": null,
   "metadata": {},
   "outputs": [],
   "source": []
  },
  {
   "cell_type": "code",
   "execution_count": null,
   "metadata": {},
   "outputs": [],
   "source": [
    "def toMin(x, t_, y_):\n",
    "    yf_ = myShape(t_,*x,fillnan=False)\n",
    "    return ((yf_-y_)**2).sum()"
   ]
  },
  {
   "cell_type": "code",
   "execution_count": null,
   "metadata": {},
   "outputs": [],
   "source": [
    "%matplotlib notebook"
   ]
  },
  {
   "cell_type": "code",
   "execution_count": null,
   "metadata": {},
   "outputs": [],
   "source": [
    "# pdf.query(f\"roi=={ix}\")\n",
    "ix = 57\n",
    "nrb = 10\n",
    "plt.figure(figsize=(10,4))\n",
    "y = rebin(regions.df.loc[ix,\"trace\"],nrb).copy()\n",
    "t = rebin(regions.time, nrb)\n",
    "plt.plot(t, y, lw=.6)\n",
    "ishow = 0\n",
    "for ip,p in pdf.query(f\"roi=={ix}\").iterrows():\n",
    "    \n",
    "#     if ishow>=20: break\n",
    "    i0 = np.searchsorted(t,p.t0-1,)\n",
    "    ie = np.searchsorted(t,p.t0+p[\"peak half-width [s]\"]+3,)\n",
    "    x0 = np.array([\n",
    "            2.5,                      # dacay\n",
    "            p[\"peak half-width [s]\"], # half width\n",
    "            y[i0:ie].max()-y[i0],     # ampl\n",
    "            p[\"t0\"],                  # loc\n",
    "            y[i0],                    # offset\n",
    "            y[i0],                    # end\n",
    "        ])\n",
    "    tr = np.linspace(t[i0],t[ie],100)\n",
    "    y0 = myShape(tr,*x0)\n",
    "    plt.plot(tr, y0, \"b\", lw=.7)\n",
    "    \n",
    "    try:\n",
    "        opt = minimize(toMin, x0, args=(t[i0:ie], y[i0:ie]))\n",
    "        ishow += 1\n",
    "    except:\n",
    "         continue\n",
    "    yf = myShape(tr,*opt.x)\n",
    "    plt.plot(tr, yf,\"C3\")\n",
    "    plt.plot(t[i0:ie], y[i0:ie]-myShape(t[i0:ie],*opt.x)+opt.x[-1],\"lightgrey\",lw=.5)\n",
    "#     print (ishow, opt.x)\n",
    "# plt.xlim(t[0],t[ie]+30)"
   ]
  },
  {
   "cell_type": "code",
   "execution_count": null,
   "metadata": {},
   "outputs": [],
   "source": [
    "# pdf.query(f\"roi=={ix}\")\n",
    "ix = 57\n",
    "ts = .5\n",
    "if \"zScore_%g\"%ts not in regions.df:\n",
    "    regions.fast_filter_traces(ts)\n",
    "    \n",
    "nrb = 1\n",
    "fig, axs = plt.subplots(2,1,figsize=(10,8))"
   ]
  },
  {
   "cell_type": "code",
   "execution_count": null,
   "metadata": {},
   "outputs": [],
   "source": [
    "y = regions.df.loc[ix,\"trace\"].copy()\n",
    "z = regions.df.loc[ix,\"zScore_%g\"%ts].copy()\n",
    "t = regions.time.copy()\n",
    "try:\n",
    "    tt = regions.showTime[\"%g\"%ts].copy()\n",
    "except:\n",
    "    tt = regions.time.copy()\n",
    "if nrb>1:\n",
    "    y = rebin(y, nrb)\n",
    "    t = rebin(t, nrb)\n",
    "axs[0].plot(t, y, lw=.6)\n",
    "axs[1].plot(tt,z)"
   ]
  },
  {
   "cell_type": "code",
   "execution_count": null,
   "metadata": {},
   "outputs": [],
   "source": [
    "from islets.numeric import power_spectrum"
   ]
  },
  {
   "cell_type": "code",
   "execution_count": null,
   "metadata": {},
   "outputs": [],
   "source": [
    "fqs,pw = power_spectrum(y,regions.Freq/nrb)"
   ]
  },
  {
   "cell_type": "code",
   "execution_count": null,
   "metadata": {},
   "outputs": [],
   "source": [
    "%matplotlib inline"
   ]
  },
  {
   "cell_type": "code",
   "execution_count": null,
   "metadata": {},
   "outputs": [],
   "source": [
    "plt.plot(rebin(fqs[fqs>1.5],20), rebin(np.abs(pw)[fqs>1.5],20))"
   ]
  },
  {
   "cell_type": "code",
   "execution_count": null,
   "metadata": {},
   "outputs": [],
   "source": []
  },
  {
   "cell_type": "code",
   "execution_count": null,
   "metadata": {},
   "outputs": [],
   "source": []
  },
  {
   "cell_type": "code",
   "execution_count": null,
   "metadata": {},
   "outputs": [],
   "source": []
  },
  {
   "cell_type": "code",
   "execution_count": null,
   "metadata": {},
   "outputs": [],
   "source": [
    "ishow = 0\n",
    "for ip,p in pdf.query(f\"roi=={ix}\").iterrows():\n",
    "    \n",
    "#     if ishow>=20: break\n",
    "    i0 = np.searchsorted(t,p.t0-1,)\n",
    "    ie = np.searchsorted(t,p.t0+p[\"peak half-width [s]\"]+3,)\n",
    "    x0 = np.array([\n",
    "            2.5,                      # dacay\n",
    "            p[\"peak half-width [s]\"], # half width\n",
    "            y[i0:ie].max()-y[i0],     # ampl\n",
    "            p[\"t0\"],                  # loc\n",
    "            y[i0],                    # offset\n",
    "            y[i0],                    # end\n",
    "        ])\n",
    "    tr = np.linspace(t[i0],t[ie],100)\n",
    "    y0 = myShape(tr,*x0)\n",
    "    plt.plot(tr, y0, \"b\", lw=.7)\n",
    "    \n",
    "    try:\n",
    "        opt = minimize(toMin, x0, args=(t[i0:ie], y[i0:ie]))\n",
    "        ishow += 1\n",
    "    except:\n",
    "         continue\n",
    "    yf = myShape(tr,*opt.x)\n",
    "    plt.plot(tr, yf,\"C3\")\n",
    "    plt.plot(t[i0:ie], y[i0:ie]-myShape(t[i0:ie],*opt.x)+opt.x[-1],\"lightgrey\",lw=.5)\n",
    "#     print (ishow, opt.x)\n",
    "# plt.xlim(t[0],t[ie]+30)"
   ]
  },
  {
   "cell_type": "code",
   "execution_count": null,
   "metadata": {},
   "outputs": [],
   "source": [
    "# tr = np.linspace(t[i0],t[ie],100)\n",
    "y0 = myShape(tr,*x0)"
   ]
  },
  {
   "cell_type": "code",
   "execution_count": null,
   "metadata": {},
   "outputs": [],
   "source": []
  },
  {
   "cell_type": "code",
   "execution_count": null,
   "metadata": {},
   "outputs": [],
   "source": []
  },
  {
   "cell_type": "code",
   "execution_count": null,
   "metadata": {},
   "outputs": [],
   "source": []
  },
  {
   "cell_type": "code",
   "execution_count": null,
   "metadata": {},
   "outputs": [],
   "source": []
  },
  {
   "cell_type": "code",
   "execution_count": null,
   "metadata": {},
   "outputs": [],
   "source": []
  },
  {
   "cell_type": "code",
   "execution_count": null,
   "metadata": {},
   "outputs": [],
   "source": []
  },
  {
   "cell_type": "code",
   "execution_count": null,
   "metadata": {},
   "outputs": [],
   "source": []
  },
  {
   "cell_type": "code",
   "execution_count": null,
   "metadata": {},
   "outputs": [],
   "source": []
  },
  {
   "cell_type": "code",
   "execution_count": null,
   "metadata": {},
   "outputs": [],
   "source": []
  },
  {
   "cell_type": "code",
   "execution_count": null,
   "metadata": {},
   "outputs": [],
   "source": []
  },
  {
   "cell_type": "code",
   "execution_count": null,
   "metadata": {},
   "outputs": [],
   "source": []
  },
  {
   "cell_type": "code",
   "execution_count": null,
   "metadata": {},
   "outputs": [],
   "source": []
  },
  {
   "cell_type": "markdown",
   "metadata": {},
   "source": [
    "### Check for wiggles"
   ]
  },
  {
   "cell_type": "code",
   "execution_count": null,
   "metadata": {},
   "outputs": [],
   "source": [
    "from islets.numeric import get_sep_th"
   ]
  },
  {
   "cell_type": "code",
   "execution_count": null,
   "metadata": {},
   "outputs": [],
   "source": [
    "th = get_sep_th(regions.df.peakValue.values, log=True, plot=True)"
   ]
  },
  {
   "cell_type": "code",
   "execution_count": null,
   "metadata": {},
   "outputs": [],
   "source": [
    "x = np.vstack([movie[:,point[0],point[1]] for point in regions.df.sort_values(\"peakValue\",ascending=False).peak[:30]])\n",
    "# x = np.vstack([rebMovie[:,point[0],point[1]] for point in regions.df.sort_values(\"peakValue\",ascending=False).peak[:30]])\n",
    "# x = np.vstack(regions.df.trace)\n",
    "f,p = power_spectrum(x, fr=metadata.Frequency)\n",
    "# f,p = power_spectrum(x, fr=rebMovie.fr)\n",
    "f,p = f[f>0.5],np.abs(p[f>0.5])"
   ]
  },
  {
   "cell_type": "code",
   "execution_count": null,
   "metadata": {},
   "outputs": [],
   "source": [
    "n = 30\n",
    "plt.plot(rebin(f,n),rebin(p,n))"
   ]
  },
  {
   "cell_type": "code",
   "execution_count": null,
   "metadata": {},
   "outputs": [],
   "source": [
    "plt.figure(figsize=(10,3))\n",
    "plt.plot(x[0])"
   ]
  },
  {
   "cell_type": "code",
   "execution_count": null,
   "metadata": {},
   "outputs": [],
   "source": [
    "i,j = regions.df.sort_values(\"peakValue\",ascending=False).peak.iloc[0]"
   ]
  },
  {
   "cell_type": "code",
   "execution_count": null,
   "metadata": {},
   "outputs": [],
   "source": [
    "plt.scatter(rebMovie[:,i,j],\n",
    "            rebMovie[:,i+0,j-1],\n",
    "            c=np.arange(len(rebMovie)),\n",
    "            s=.4)\n",
    "plt.gca().set_aspect(\"equal\")"
   ]
  },
  {
   "cell_type": "code",
   "execution_count": null,
   "metadata": {},
   "outputs": [],
   "source": []
  },
  {
   "cell_type": "code",
   "execution_count": null,
   "metadata": {},
   "outputs": [],
   "source": [
    "# f,p = power_spectrum(np.vstack(data[:,0]),fr=metadata.Frequency,mean=False)"
   ]
  },
  {
   "cell_type": "code",
   "execution_count": null,
   "metadata": {},
   "outputs": [],
   "source": [
    "# plt.boxplot(p[:,2:100],positions=f[2:100], showfliers=False);\n",
    "# plt.plot(f[2:],p.mean(0)[2:],lw=.6)\n",
    "# plt.xscale(\"symlog\")"
   ]
  },
  {
   "cell_type": "code",
   "execution_count": null,
   "metadata": {},
   "outputs": [],
   "source": [
    "# plt.plot(*sum([(f,pp) for pp in p[:10]],tuple()),lw=.3)"
   ]
  },
  {
   "cell_type": "markdown",
   "metadata": {},
   "source": [
    "### Experiment with filtering the whole movie"
   ]
  },
  {
   "cell_type": "code",
   "execution_count": null,
   "metadata": {},
   "outputs": [],
   "source": [
    "from islets.numeric import get_sep_th"
   ]
  },
  {
   "cell_type": "code",
   "execution_count": null,
   "metadata": {},
   "outputs": [],
   "source": [
    "th = get_sep_th(im.flatten(),log=True, plot=False)"
   ]
  },
  {
   "cell_type": "code",
   "execution_count": null,
   "metadata": {},
   "outputs": [],
   "source": [
    "r = rs[0]"
   ]
  },
  {
   "cell_type": "code",
   "execution_count": null,
   "metadata": {},
   "outputs": [],
   "source": [
    "r.update(movie)"
   ]
  },
  {
   "cell_type": "code",
   "execution_count": null,
   "metadata": {},
   "outputs": [],
   "source": [
    "r.Freq"
   ]
  },
  {
   "cell_type": "code",
   "execution_count": null,
   "metadata": {},
   "outputs": [],
   "source": [
    "r.fast_filter_traces(4,z_sp=0)"
   ]
  },
  {
   "cell_type": "code",
   "execution_count": null,
   "metadata": {},
   "outputs": [],
   "source": [
    "n = 256\n",
    "tmp = r.sosFilter.run(r.movie[:,:n,:n].reshape((r.movie.shape[0],-1)).T).T.reshape((-1,n,n))"
   ]
  },
  {
   "cell_type": "code",
   "execution_count": null,
   "metadata": {},
   "outputs": [],
   "source": [
    "n1,n2 = int(.55*len(tmp)), int(.551*len(tmp))\n",
    "print (r.time[n2]-r.time[n1])"
   ]
  },
  {
   "cell_type": "code",
   "execution_count": null,
   "metadata": {},
   "outputs": [],
   "source": [
    "# show_movie(tmp,)"
   ]
  },
  {
   "cell_type": "code",
   "execution_count": null,
   "metadata": {},
   "outputs": [],
   "source": [
    "np.percentile(tmp[n1:n2].flatten(),5)"
   ]
  },
  {
   "cell_type": "code",
   "execution_count": null,
   "metadata": {},
   "outputs": [],
   "source": [
    "tmp[n1:n2].min()"
   ]
  },
  {
   "cell_type": "code",
   "execution_count": null,
   "metadata": {},
   "outputs": [],
   "source": [
    "zMovie = (rebMovie[n1:n2]-tmp[n1:n2])/np.maximum(.04,tmp[n1:n2])**.5"
   ]
  },
  {
   "cell_type": "code",
   "execution_count": null,
   "metadata": {},
   "outputs": [],
   "source": [
    "plt.hist(zMovie.flatten(),100,log=True);"
   ]
  },
  {
   "cell_type": "code",
   "execution_count": null,
   "metadata": {},
   "outputs": [],
   "source": [
    "z = 1.5\n",
    "im = (zMovie>z).sum(0)-(zMovie<-z).sum(0)\n",
    "plt.imshow(im,cmap=\"bwr\", vmin=-np.abs(im).max(), vmax=np.abs(im).max())"
   ]
  },
  {
   "cell_type": "code",
   "execution_count": null,
   "metadata": {},
   "outputs": [],
   "source": [
    "\n",
    "# show_movie(\n",
    "#     zMovie,\n",
    "#     NTimeFrames=n2-n1,\n",
    "#     log=False, \n",
    "#     autoadjust=False,\n",
    "# #     out=\"save\",\n",
    "#     cmapArgs={\"cmap\":\"bwr\",\"vmin\":-3,\"vmax\":3}\n",
    "#           )"
   ]
  },
  {
   "cell_type": "code",
   "execution_count": null,
   "metadata": {},
   "outputs": [],
   "source": []
  },
  {
   "cell_type": "code",
   "execution_count": null,
   "metadata": {},
   "outputs": [],
   "source": []
  },
  {
   "cell_type": "code",
   "execution_count": null,
   "metadata": {},
   "outputs": [],
   "source": []
  },
  {
   "cell_type": "code",
   "execution_count": null,
   "metadata": {},
   "outputs": [],
   "source": []
  },
  {
   "cell_type": "code",
   "execution_count": null,
   "metadata": {},
   "outputs": [],
   "source": []
  },
  {
   "cell_type": "code",
   "execution_count": null,
   "metadata": {},
   "outputs": [],
   "source": []
  },
  {
   "cell_type": "code",
   "execution_count": null,
   "metadata": {},
   "outputs": [],
   "source": []
  },
  {
   "cell_type": "code",
   "execution_count": null,
   "metadata": {},
   "outputs": [],
   "source": []
  },
  {
   "cell_type": "code",
   "execution_count": null,
   "metadata": {},
   "outputs": [],
   "source": [
    "regions = Regions(rebMovie, diag=True, gSig_filt=(3,5))"
   ]
  },
  {
   "cell_type": "code",
   "execution_count": null,
   "metadata": {},
   "outputs": [],
   "source": [
    "fig,axs=plt.subplots(1,2,figsize=(13,6))\n",
    "for k,ax in zip([\"mean\",\"diff_std\"],axs):\n",
    "    ax.imshow(regions.statImages[k], norm=LogNorm())\n",
    "    regions.plotEdges(ax=ax,image=False)\n",
    "    regions.plotPeaks(ax=ax,image=False)"
   ]
  },
  {
   "cell_type": "code",
   "execution_count": null,
   "metadata": {},
   "outputs": [],
   "source": [
    "regions.update(movie)"
   ]
  },
  {
   "cell_type": "code",
   "execution_count": null,
   "metadata": {},
   "outputs": [],
   "source": [
    "regions.fast_filter_traces(10)"
   ]
  },
  {
   "cell_type": "code",
   "execution_count": null,
   "metadata": {},
   "outputs": [],
   "source": [
    "n = 10\n",
    "tmp = regions.sosFilter.run(regions.movie[:,:n,:n].reshape((regions.movie.shape[0],-1))).reshape((-1,n,n))"
   ]
  },
  {
   "cell_type": "code",
   "execution_count": null,
   "metadata": {},
   "outputs": [],
   "source": [
    "from islets.utils import show_movie"
   ]
  },
  {
   "cell_type": "code",
   "execution_count": null,
   "metadata": {},
   "outputs": [],
   "source": [
    "mshow = np.concatenate([\n",
    "    rebin(movie[:,:n,:n],1200),\n",
    "    rebin(tmp,1200),\n",
    "    rebin(movie[:,:n,:n]-tmp,1200)\n",
    "])"
   ]
  },
  {
   "cell_type": "code",
   "execution_count": null,
   "metadata": {},
   "outputs": [],
   "source": [
    "mshow  = cmovie(mshow,fr=movie.fr)"
   ]
  },
  {
   "cell_type": "code",
   "execution_count": null,
   "metadata": {},
   "outputs": [],
   "source": [
    "show_movie(mshow,\n",
    "#           additionalPlot=lambda ax_: regions.plotEdges(ax=ax_, image=False),\n",
    "#           log=False, \n",
    "          figScale=1,\n",
    "          NTimeFrames=len(mshow),\n",
    "#           out=\"save\"\n",
    "         )"
   ]
  },
  {
   "cell_type": "code",
   "execution_count": null,
   "metadata": {},
   "outputs": [],
   "source": [
    "regions.calcTraces()"
   ]
  },
  {
   "cell_type": "code",
   "execution_count": null,
   "metadata": {},
   "outputs": [],
   "source": [
    "regions.detrend_traces()"
   ]
  },
  {
   "cell_type": "code",
   "execution_count": null,
   "metadata": {},
   "outputs": [],
   "source": [
    "regions.infer_gain(plot=True)"
   ]
  },
  {
   "cell_type": "code",
   "execution_count": null,
   "metadata": {},
   "outputs": [],
   "source": [
    "regions.gain"
   ]
  },
  {
   "cell_type": "code",
   "execution_count": null,
   "metadata": {},
   "outputs": [],
   "source": [
    "regions.gain = 1"
   ]
  },
  {
   "cell_type": "code",
   "execution_count": null,
   "metadata": {},
   "outputs": [],
   "source": [
    "ts = 4\n",
    "regions.fast_filter_traces(ts)"
   ]
  },
  {
   "cell_type": "code",
   "execution_count": null,
   "metadata": {},
   "outputs": [],
   "source": [
    "x = np.vstack(regions.df[\"zScore_%g\"%ts])\n",
    "# x = rebin(x,100,1)\n",
    "plt.imshow(x>3, aspect=\"auto\")"
   ]
  },
  {
   "cell_type": "code",
   "execution_count": null,
   "metadata": {},
   "outputs": [],
   "source": [
    "regions.df.columns"
   ]
  },
  {
   "cell_type": "code",
   "execution_count": null,
   "metadata": {},
   "outputs": [],
   "source": [
    "regions.fast_filter_traces(10)"
   ]
  },
  {
   "cell_type": "code",
   "execution_count": null,
   "metadata": {},
   "outputs": [],
   "source": []
  }
 ],
 "metadata": {
  "kernelspec": {
   "display_name": "Physio",
   "language": "python",
   "name": "physio"
  },
  "language_info": {
   "codemirror_mode": {
    "name": "ipython",
    "version": 3
   },
   "file_extension": ".py",
   "mimetype": "text/x-python",
   "name": "python",
   "nbconvert_exporter": "python",
   "pygments_lexer": "ipython3",
   "version": "3.7.6"
  },
  "toc": {
   "base_numbering": 1,
   "nav_menu": {},
   "number_sections": true,
   "sideBar": true,
   "skip_h1_title": false,
   "title_cell": "Table of Contents",
   "title_sidebar": "Contents",
   "toc_cell": false,
   "toc_position": {
    "height": "calc(100% - 180px)",
    "left": "10px",
    "top": "150px",
    "width": "317.167px"
   },
   "toc_section_display": true,
   "toc_window_display": false
  },
  "varInspector": {
   "cols": {
    "lenName": 16,
    "lenType": 16,
    "lenVar": 40
   },
   "kernels_config": {
    "python": {
     "delete_cmd_postfix": "",
     "delete_cmd_prefix": "del ",
     "library": "var_list.py",
     "varRefreshCmd": "print(var_dic_list())"
    },
    "r": {
     "delete_cmd_postfix": ") ",
     "delete_cmd_prefix": "rm(",
     "library": "var_list.r",
     "varRefreshCmd": "cat(var_dic_list()) "
    }
   },
   "types_to_exclude": [
    "module",
    "function",
    "builtin_function_or_method",
    "instance",
    "_Feature"
   ],
   "window_display": false
  }
 },
 "nbformat": 4,
 "nbformat_minor": 4
}
