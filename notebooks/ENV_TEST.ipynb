{
 "cells": [
  {
   "cell_type": "code",
   "execution_count": 1,
   "id": "competent-gentleman",
   "metadata": {
    "ExecuteTime": {
     "end_time": "2022-07-13T21:15:09.790379Z",
     "start_time": "2022-07-13T21:15:09.773058Z"
    }
   },
   "outputs": [
    {
     "data": {
      "text/plain": [
       "1"
      ]
     },
     "execution_count": 1,
     "metadata": {},
     "output_type": "execute_result"
    }
   ],
   "source": [
    "1"
   ]
  },
  {
   "cell_type": "code",
   "execution_count": 2,
   "id": "running-occasion",
   "metadata": {
    "ExecuteTime": {
     "end_time": "2022-07-13T14:52:23.876914Z",
     "start_time": "2022-07-13T14:52:23.874283Z"
    }
   },
   "outputs": [],
   "source": [
    "import sys"
   ]
  },
  {
   "cell_type": "code",
   "execution_count": 3,
   "id": "organic-cooperation",
   "metadata": {
    "ExecuteTime": {
     "end_time": "2022-07-13T14:52:24.157339Z",
     "start_time": "2022-07-13T14:52:24.153077Z"
    }
   },
   "outputs": [
    {
     "data": {
      "text/plain": [
       "'/opt/tljh/user/envs/static/bin/python'"
      ]
     },
     "execution_count": 3,
     "metadata": {},
     "output_type": "execute_result"
    }
   ],
   "source": [
    "sys.executable"
   ]
  },
  {
   "cell_type": "code",
   "execution_count": 4,
   "id": "ranging-promise",
   "metadata": {
    "ExecuteTime": {
     "end_time": "2022-07-13T14:52:26.046384Z",
     "start_time": "2022-07-13T14:52:26.033886Z"
    }
   },
   "outputs": [],
   "source": [
    "%load_ext autoreload\n",
    "%autoreload 2"
   ]
  },
  {
   "cell_type": "code",
   "execution_count": 5,
   "id": "hollywood-crowd",
   "metadata": {
    "ExecuteTime": {
     "end_time": "2022-07-13T14:52:27.230424Z",
     "start_time": "2022-07-13T14:52:26.273399Z"
    }
   },
   "outputs": [],
   "source": [
    "import matplotlib.pyplot as plt\n",
    "import pandas as pd\n",
    "import numpy as np"
   ]
  },
  {
   "cell_type": "code",
   "execution_count": 6,
   "id": "through-letter",
   "metadata": {
    "ExecuteTime": {
     "end_time": "2022-07-13T14:52:28.854716Z",
     "start_time": "2022-07-13T14:52:27.232900Z"
    }
   },
   "outputs": [],
   "source": [
    "import islets"
   ]
  },
  {
   "cell_type": "code",
   "execution_count": 8,
   "id": "sexual-belgium",
   "metadata": {
    "ExecuteTime": {
     "end_time": "2022-07-13T14:52:45.110373Z",
     "start_time": "2022-07-13T14:52:45.083550Z"
    }
   },
   "outputs": [
    {
     "data": {
      "text/plain": [
       "2"
      ]
     },
     "execution_count": 8,
     "metadata": {},
     "output_type": "execute_result"
    }
   ],
   "source": [
    "1+1"
   ]
  },
  {
   "cell_type": "code",
   "execution_count": 9,
   "id": "broad-institution",
   "metadata": {
    "ExecuteTime": {
     "end_time": "2022-07-13T14:52:52.443388Z",
     "start_time": "2022-07-13T14:52:52.139425Z"
    }
   },
   "outputs": [],
   "source": [
    "import bioformats as bf\n",
    "bf.javabridge.start_vm(class_path=bf.JARS)\n",
    "islets.utils._init_logger()"
   ]
  },
  {
   "cell_type": "code",
   "execution_count": 10,
   "id": "leading-fifty",
   "metadata": {
    "ExecuteTime": {
     "end_time": "2022-07-13T14:52:58.506122Z",
     "start_time": "2022-07-13T14:52:53.364945Z"
    }
   },
   "outputs": [],
   "source": [
    "testFiles = [\n",
    "    \"/data/Tatsu/Tatsu01/Tatsu01.czi\",\n",
    "    \"/data/Tatsu/IVM/IVM001-gCAMP6_male_IP_Glu_30min_TG_IP_30min_40K_Texas_Red_Dextran.lif\"\n",
    "]\n",
    "for fn in testFiles:\n",
    "    rec = islets.Recording(fn)\n",
    "    rec.parse_metadata()"
   ]
  },
  {
   "cell_type": "code",
   "execution_count": null,
   "id": "saving-custody",
   "metadata": {},
   "outputs": [],
   "source": []
  }
 ],
 "metadata": {
  "kernelspec": {
   "display_name": "Physio [static]",
   "language": "python",
   "name": "static"
  },
  "language_info": {
   "codemirror_mode": {
    "name": "ipython",
    "version": 3
   },
   "file_extension": ".py",
   "mimetype": "text/x-python",
   "name": "python",
   "nbconvert_exporter": "python",
   "pygments_lexer": "ipython3",
   "version": "3.8.0"
  },
  "toc": {
   "base_numbering": 1,
   "nav_menu": {},
   "number_sections": true,
   "sideBar": true,
   "skip_h1_title": false,
   "title_cell": "Table of Contents",
   "title_sidebar": "Contents",
   "toc_cell": false,
   "toc_position": {},
   "toc_section_display": true,
   "toc_window_display": false
  }
 },
 "nbformat": 4,
 "nbformat_minor": 5
}
