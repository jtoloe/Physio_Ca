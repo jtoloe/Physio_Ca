{
 "cells": [
  {
   "cell_type": "markdown",
   "metadata": {},
   "source": [
    "## Processing your recordings"
   ]
  },
  {
   "cell_type": "markdown",
   "metadata": {},
   "source": [
    "### The recording is stable (no movement)"
   ]
  },
  {
   "cell_type": "markdown",
   "metadata": {},
   "source": [
    "Open the terminal (from your [ctn landing page](https://ctn.physiologie.meduniwien.ac.at) click `New` and choose terminal) and run the following commands depending on the cases:\n",
    "\n",
    "- For a specific series (e.g. `Series003`) in a Leica file:  \n",
    "    \n",
    "    `local_data/useful_notebooks/process_single.py --rec=\"full/path/to/Name.lif\" --ser=\"Series003\"`\n",
    "    \n",
    "\n",
    "\n",
    "- If you wish to jointly process several series (e.g. `Series003`, `Series004` and `Series005`) in a Leica file\n",
    "    \n",
    "    `local_data/useful_notebooks/process_single.py --rec=\"full/path/to/Name.lif\" --ser=\"Series003-5\"`\n",
    "    \n",
    "    \n",
    "    \n",
    "- Nikon files apparently can contain only a single series, so for them you do not need to specify the series argument (and if you do it will be ignored)\n",
    "\n",
    "    `local_data/useful_notebooks/process_single.py --rec=\"full/path/to/Name.nd2\"`"
   ]
  },
  {
   "cell_type": "markdown",
   "metadata": {},
   "source": [
    "These commands will produce a video of the recording and four pickle files containing the data of the regions interest produced with 4 different spatial filters."
   ]
  },
  {
   "cell_type": "markdown",
   "metadata": {},
   "source": [
    "#### Restricting to a concrete time window{-}\n",
    "  \n",
    "+ If you want to restrict the analysis to only a part of the movie, from say 200th to 1234th second, you can use the `restrict` variable (`--restrict=\"200_1234\"`).  \n",
    "  \n",
    "    Restrict will also take the negative value for the end time point. For example, if you want to process all except the last 10s, you can enter `--restrict=\"0_-10\"`.\n",
    "\n",
    "All old Leica recordings from Maribor suffer from an artefact at the very end, so the default behavior is that the last 2s are always neglected.\n",
    "\n",
    "#### Additional  arguments\n",
    "__If you only want to make a video only:__   \n",
    "&nbsp;&nbsp;&nbsp;&nbsp;&nbsp; add the following flag to the command: `--only-movie`\n",
    "\n",
    "__If you only want to process the recording but leave the video if it is already there:__ (if it is not there, it will be created)  \n",
    "&nbsp;&nbsp;&nbsp;&nbsp;&nbsp; add the following flag to the command: `--leave-video`\n",
    "\n",
    "__If you only want to process the recording but leave the pickles if they are already there:__ (if they are not there, they will be created)  \n",
    "&nbsp;&nbsp;&nbsp;&nbsp;&nbsp; add the following flag to the command: `--leave-pickles`\n",
    "\n",
    "__If the series are to be treated as line scans:__  \n",
    "&nbsp;&nbsp;&nbsp;&nbsp;&nbsp; the command needs additional argument: `--line-scan==\"single\"`\n",
    "(in this case, you will not get a video as an output, but several images, depending on the number of series ). If the recording is not technically a line scan, but a very narrow patch (say `8x512`), you may still want to analyze it as if it were a line scan, by summing over height. In that case, you should specify `--line-scan==\"multi\"`"
   ]
  },
  {
   "cell_type": "markdown",
   "metadata": {},
   "source": [
    "### The recording has movement\n",
    "\n",
    "First, you need to look at the movie and see what kind of change is there. We can only correct movement in the horizontal plane (_x,y_). For the movement in `z`, you should process parts of the movie which are in the same _z_. \n"
   ]
  },
  {
   "cell_type": "markdown",
   "metadata": {},
   "source": [
    "#### If there is a movement in _z_\n",
    "\n",
    "First, note all points where the change in _z_ happens. Then use the argument `restrict` to restrict analyses to only the time windows with stable _z_."
   ]
  },
  {
   "cell_type": "markdown",
   "metadata": {},
   "source": [
    "#### Correcting for motion in (x,y) and potentially phase\n",
    "\n",
    "- There is a `motion_correct.py` script in `useful_notebooks`. It takes the main arguments the same as `process_single.py`, .i.e. `--rec=\"...\"` and `--ser=\"...\"`. So, an example command would be:\n",
    "\n",
    "    `local_data/useful_notebooks/motion_correct.py --rec=\"full/path/to/Name.lif\" --ser=\"Series003\"`\n",
    "\n",
    "\n",
    "- If you wish to correct for the phase, add optional argument `--correct-phase`\n",
    "\n",
    "\n",
    "- The script should output a `tif` file in the series directory (`local_data/.../..._analysis/Series00blabla/`).\n",
    "\n",
    "\n",
    "- Finally, you will want to process this recording. You can use the same logic as above, but with an additional argument `--use-tif=\"path/to/corrected.tif\"`. For example, a full command might look like this:\n",
    "\n",
    "    `local_data/useful_notebooks/process_single.py --rec=\"full/path/to/Experiment.lif\" --ser=\"Series003-5\" --use-tif=\"full/path/corrected.tif\"`\n",
    "    "
   ]
  },
  {
   "cell_type": "code",
   "execution_count": null,
   "metadata": {},
   "outputs": [],
   "source": []
  }
 ],
 "metadata": {
  "kernelspec": {
   "display_name": "Physio",
   "language": "python",
   "name": "physio"
  },
  "language_info": {
   "codemirror_mode": {
    "name": "ipython",
    "version": 3
   },
   "file_extension": ".py",
   "mimetype": "text/x-python",
   "name": "python",
   "nbconvert_exporter": "python",
   "pygments_lexer": "ipython3",
   "version": "3.7.0"
  },
  "toc": {
   "base_numbering": 1,
   "nav_menu": {},
   "number_sections": true,
   "sideBar": true,
   "skip_h1_title": false,
   "title_cell": "Table of Contents",
   "title_sidebar": "Contents",
   "toc_cell": false,
   "toc_position": {},
   "toc_section_display": true,
   "toc_window_display": true
  },
  "varInspector": {
   "cols": {
    "lenName": 16,
    "lenType": 16,
    "lenVar": 40
   },
   "kernels_config": {
    "python": {
     "delete_cmd_postfix": "",
     "delete_cmd_prefix": "del ",
     "library": "var_list.py",
     "varRefreshCmd": "print(var_dic_list())"
    },
    "r": {
     "delete_cmd_postfix": ") ",
     "delete_cmd_prefix": "rm(",
     "library": "var_list.r",
     "varRefreshCmd": "cat(var_dic_list()) "
    }
   },
   "types_to_exclude": [
    "module",
    "function",
    "builtin_function_or_method",
    "instance",
    "_Feature"
   ],
   "window_display": false
  }
 },
 "nbformat": 4,
 "nbformat_minor": 4
}
