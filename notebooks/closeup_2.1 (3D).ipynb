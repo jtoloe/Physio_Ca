{
 "cells": [
  {
   "cell_type": "code",
   "execution_count": null,
   "metadata": {
    "code_folding": []
   },
   "outputs": [],
   "source": [
    "## importing stuff\n",
    "import os\n",
    "import pickle\n",
    "from sys import path as syspath\n",
    "syspath.append(os.path.expanduser(\"~/srdjan_functs/\"))\n",
    "import javabridge\n",
    "from bioformats import JARS as bfJARS\n",
    "javabridge.start_vm(class_path=bfJARS, max_heap_size=\"20G\")\n",
    "import numpy as np\n",
    "import matplotlib.pyplot as plt\n",
    "\n",
    "%config InlineBackend.figure_format = 'retina'\n",
    "%load_ext autoreload\n",
    "%autoreload 2\n",
    "# %aimport islets\n",
    "\n",
    "from IPython.display import display\n",
    "import pandas as pd\n",
    "\n",
    "from islets.Recording import Recording, saveMovie\n",
    "from islets.Regions import Regions\n",
    "from islets.numeric import power_spectrum, rebin\n",
    "from islets.utils import show_movie, saveRois\n",
    "from islets.Regions import getPeak2BoundaryDF, getGraph_of_ROIs_to_Merge, mergeBasedOnGraph\n",
    "\n",
    "from caiman import movie as cmovie\n",
    "\n",
    "from matplotlib.colors import LogNorm"
   ]
  },
  {
   "cell_type": "code",
   "execution_count": null,
   "metadata": {},
   "outputs": [],
   "source": [
    "plt.rcParams[\"animation.embed_limit\"] = 200"
   ]
  },
  {
   "cell_type": "code",
   "execution_count": null,
   "metadata": {},
   "outputs": [],
   "source": [
    "# recFile = \"/data/Sandra/2019/2019_10_07/Experiment32b.lif\" \n",
    "recFile = \"/data/Sandra/2019/2019_10_08/Experiment33a.lif\" "
   ]
  },
  {
   "cell_type": "code",
   "execution_count": null,
   "metadata": {},
   "outputs": [],
   "source": [
    "rec = Recording(recFile)"
   ]
  },
  {
   "cell_type": "code",
   "execution_count": null,
   "metadata": {},
   "outputs": [],
   "source": [
    "rec.metadata"
   ]
  },
  {
   "cell_type": "code",
   "execution_count": null,
   "metadata": {},
   "outputs": [],
   "source": [
    "# rec.parse_metadata()"
   ]
  },
  {
   "cell_type": "code",
   "execution_count": null,
   "metadata": {},
   "outputs": [],
   "source": [
    "iSeries = 7\n",
    "metadata = rec.metadata.loc[iSeries]"
   ]
  },
  {
   "cell_type": "code",
   "execution_count": null,
   "metadata": {},
   "outputs": [],
   "source": [
    "rec.metadata[\"Frequency\"] = 8.4"
   ]
  },
  {
   "cell_type": "code",
   "execution_count": null,
   "metadata": {},
   "outputs": [],
   "source": [
    "rec.import_series(\"Series023\")"
   ]
  },
  {
   "cell_type": "code",
   "execution_count": null,
   "metadata": {},
   "outputs": [],
   "source": [
    "data = np.array([[rec.rdr.read(series=iSeries,t=t,z=z,c=0, rescale=False) for z in range(metadata.SizeZ)] for t in range(metadata.SizeT)])"
   ]
  },
  {
   "cell_type": "code",
   "execution_count": null,
   "metadata": {},
   "outputs": [],
   "source": [
    "data.max()"
   ]
  },
  {
   "cell_type": "code",
   "execution_count": null,
   "metadata": {},
   "outputs": [],
   "source": [
    "data.shape"
   ]
  },
  {
   "cell_type": "code",
   "execution_count": null,
   "metadata": {},
   "outputs": [],
   "source": [
    "mean3D = data.mean(axis=0)\n",
    "# std3D = data.std(axis=0)\n",
    "# diff_std3D = np.diff(data).std(axis=0)"
   ]
  },
  {
   "cell_type": "code",
   "execution_count": null,
   "metadata": {},
   "outputs": [],
   "source": [
    "show_movie(mean3D,log=True, autoadjust=False, figScale=3)"
   ]
  },
  {
   "cell_type": "code",
   "execution_count": null,
   "metadata": {},
   "outputs": [],
   "source": [
    "import plotly_express as plx"
   ]
  },
  {
   "cell_type": "code",
   "execution_count": null,
   "metadata": {},
   "outputs": [],
   "source": [
    "# s3d = mean3D[:,::,::]\n",
    "# z,x,y = np.meshgrid(*map(range,s3d.shape), indexing=\"ij\")\n",
    "# fltr = s3d>np.percentile(s3d,99)\n",
    "# x = x[fltr]\n",
    "# y = y[fltr]\n",
    "# z = z[fltr]\n",
    "# plx.scatter_3d(\n",
    "#     x=x,\n",
    "#     y=y,\n",
    "#     z=z,\n",
    "# #     size=np.clip(s3d[fltr]/100,.0000001,.1),\n",
    "#     size=s3d[fltr]**2/100,\n",
    "# #     size=[.001]*fltr.sum()\n",
    "# )\n",
    "# # plx.scatter_3d(\n",
    "# #     x=x.flat,\n",
    "# #     y=y.flat,\n",
    "# #     z=z.flat,\n",
    "# #     size=(s3d**4/1000).flatten(),\n",
    "# # )"
   ]
  },
  {
   "cell_type": "code",
   "execution_count": null,
   "metadata": {},
   "outputs": [],
   "source": [
    "# rrs = [Regions(cmovie(data[:,z], fr=metadata.Frequency), gSig_filt=(3,4), diag=True) for z in range(data.shape[1])]"
   ]
  },
  {
   "cell_type": "code",
   "execution_count": null,
   "metadata": {},
   "outputs": [],
   "source": [
    "# for r in rrs:\n",
    "#     r.calcTraces()"
   ]
  },
  {
   "cell_type": "code",
   "execution_count": null,
   "metadata": {},
   "outputs": [],
   "source": [
    "# rrs[-4].examine()"
   ]
  },
  {
   "cell_type": "code",
   "execution_count": null,
   "metadata": {},
   "outputs": [],
   "source": [
    "from islets.Regions3D import climb"
   ]
  },
  {
   "cell_type": "code",
   "execution_count": null,
   "metadata": {},
   "outputs": [],
   "source": [
    "from islets.Regions3D import crawlDict"
   ]
  },
  {
   "cell_type": "code",
   "execution_count": null,
   "metadata": {},
   "outputs": [],
   "source": [
    "from cv2 import GaussianBlur"
   ]
  },
  {
   "cell_type": "code",
   "execution_count": null,
   "metadata": {},
   "outputs": [],
   "source": [
    "mean3D_blurred = GaussianBlur(mean3D.T,(5,5),-1).T\n",
    "mean3D_blurred = GaussianBlur(mean3D_blurred,(3,1),-1)"
   ]
  },
  {
   "cell_type": "code",
   "execution_count": null,
   "metadata": {},
   "outputs": [],
   "source": [
    "b = crawlDict(mean3D_blurred[:], processes=10)\n",
    "len(b)"
   ]
  },
  {
   "cell_type": "code",
   "execution_count": null,
   "metadata": {},
   "outputs": [],
   "source": [
    "from islets.Regions3D import Regions as Reg3D"
   ]
  },
  {
   "cell_type": "code",
   "execution_count": null,
   "metadata": {},
   "outputs": [],
   "source": [
    "r3d = Reg3D(b, full=False)"
   ]
  },
  {
   "cell_type": "code",
   "execution_count": null,
   "metadata": {},
   "outputs": [],
   "source": [
    "from collections import OrderedDict"
   ]
  },
  {
   "cell_type": "code",
   "execution_count": null,
   "metadata": {},
   "outputs": [],
   "source": [
    "r3d.df = pd.DataFrame(OrderedDict([\n",
    "            (\"peak\",  list(b.keys())),\n",
    "            (\"pixels\",list(b.values())),\n",
    "            (\"size\",  list(map(len, b.values())))\n",
    "        ]))"
   ]
  },
  {
   "cell_type": "code",
   "execution_count": null,
   "metadata": {},
   "outputs": [],
   "source": [
    "r3d.statImages = {\"mean\":mean3D}"
   ]
  },
  {
   "cell_type": "code",
   "execution_count": null,
   "metadata": {},
   "outputs": [],
   "source": [
    "plt.plot(np.log10(r3d.df[\"size\"].sort_values()), np.arange(len(r3d.df)))"
   ]
  },
  {
   "cell_type": "code",
   "execution_count": null,
   "metadata": {},
   "outputs": [],
   "source": [
    "r3d.df.drop(index= r3d.df.query(\"size<100\").index, inplace=True)"
   ]
  },
  {
   "cell_type": "code",
   "execution_count": null,
   "metadata": {},
   "outputs": [],
   "source": [
    "r3d.df.shape"
   ]
  },
  {
   "cell_type": "code",
   "execution_count": null,
   "metadata": {},
   "outputs": [],
   "source": [
    "r3d.calcTraces(data, fr=metadata.Frequency)"
   ]
  },
  {
   "cell_type": "code",
   "execution_count": null,
   "metadata": {},
   "outputs": [],
   "source": [
    "r3d.df.columns"
   ]
  },
  {
   "cell_type": "code",
   "execution_count": null,
   "metadata": {},
   "outputs": [],
   "source": [
    "r3d.Freq = 8.4"
   ]
  },
  {
   "cell_type": "code",
   "execution_count": null,
   "metadata": {},
   "outputs": [],
   "source": [
    "r3d.time = np.arange(len(data))/8.4"
   ]
  },
  {
   "cell_type": "code",
   "execution_count": null,
   "metadata": {},
   "outputs": [],
   "source": [
    "ts=5\n",
    "r3d.fast_filter_traces(ts,Npoints=np.inf, z_sp=3)"
   ]
  },
  {
   "cell_type": "code",
   "execution_count": null,
   "metadata": {},
   "outputs": [],
   "source": [
    "zz = np.vstack(r3d.df[\"zScore_%g\"%ts])"
   ]
  },
  {
   "cell_type": "code",
   "execution_count": null,
   "metadata": {},
   "outputs": [],
   "source": [
    "df = r3d.df.query(\"size>500\")\n",
    "z,x,y = np.vstack(df.peak).T\n",
    "\n",
    "fig = plx.scatter_3d(\n",
    "    x=x*metadata.pxSize,\n",
    "    y=y*metadata.pxSize,\n",
    "    z=z*1.93,\n",
    "    size=df[\"size\"],\n",
    "    size_max = 30,\n",
    "#     color=np.log(10+np.sum(zz>3,1))\n",
    "    color=np.mean(zz[r3d.df.index.isin(df.index),:len(r3d.time)//2]>3,1),\n",
    "#     hoverinfo=\"text\",\n",
    "#     hovertext=r3d.df.index\n",
    "#     size=[.001]*fltr.sum()\n",
    ")\n",
    "fig.update_layout(scene_aspectmode='data')"
   ]
  },
  {
   "cell_type": "code",
   "execution_count": null,
   "metadata": {},
   "outputs": [],
   "source": [
    "df = r3d.df.query(\"size>500\")\n",
    "z,x,y = np.vstack(df.peak).T\n",
    "\n",
    "fig = plx.scatter_3d(\n",
    "    x=x*metadata.pxSize,\n",
    "    y=y*metadata.pxSize,\n",
    "    z=z*1.93,\n",
    "    size=df[\"size\"],\n",
    "    size_max = 30,\n",
    "#     color=np.log(10+np.sum(zz>3,1))\n",
    "    color=np.mean(zz[r3d.df.index.isin(df.index),len(r3d.time)//2:]>3,1),\n",
    "#     hoverinfo=\"text\",\n",
    "#     hovertext=r3d.df.index\n",
    "#     size=[.001]*fltr.sum()\n",
    ")\n",
    "fig.update_layout(scene_aspectmode='data')"
   ]
  },
  {
   "cell_type": "code",
   "execution_count": null,
   "metadata": {},
   "outputs": [],
   "source": [
    "%matplotlib inline"
   ]
  },
  {
   "cell_type": "code",
   "execution_count": null,
   "metadata": {},
   "outputs": [],
   "source": [
    "plt.plot(\n",
    "    (zz[:,:zz.shape[1]//2]>3).mean(1),\n",
    "    (zz[:,zz.shape[1]//2:]>3).mean(1),\".\"\n",
    ")\n",
    "plt.xscale(\"log\")\n",
    "plt.yscale(\"log\")\n",
    "plt.plot([1e-3,1],[1e-3,1])\n",
    "plt.gca().set_aspect(\"equal\")"
   ]
  },
  {
   "cell_type": "code",
   "execution_count": null,
   "metadata": {},
   "outputs": [],
   "source": [
    "%matplotlib notebook"
   ]
  },
  {
   "cell_type": "code",
   "execution_count": null,
   "metadata": {},
   "outputs": [],
   "source": [
    "try:\n",
    "    t = r3d.showTime['%g'%ts]\n",
    "except:\n",
    "    t = r3d.time\n",
    "plt.figure(figsize=(10,4))\n",
    "ia = 0\n",
    "for ix in r3d.df.index[np.argsort(np.sum(zz>4,axis=1))[::-1]][:10]:\n",
    "    plt.plot(t, r3d.df.loc[ix,\"zScore_%g\"%ts]+20*ia,lw=.5)\n",
    "    ia +=1 "
   ]
  },
  {
   "cell_type": "code",
   "execution_count": null,
   "metadata": {},
   "outputs": [],
   "source": []
  },
  {
   "cell_type": "code",
   "execution_count": null,
   "metadata": {},
   "outputs": [],
   "source": [
    "plt.plot(zz.mean(1), r3d.df[\"size\"],\".\")\n",
    "plt.xscale(\"log\")\n",
    "plt.yscale(\"log\")"
   ]
  },
  {
   "cell_type": "code",
   "execution_count": null,
   "metadata": {},
   "outputs": [],
   "source": []
  }
 ],
 "metadata": {
  "kernelspec": {
   "display_name": "Physio",
   "language": "python",
   "name": "physio"
  },
  "language_info": {
   "codemirror_mode": {
    "name": "ipython",
    "version": 3
   },
   "file_extension": ".py",
   "mimetype": "text/x-python",
   "name": "python",
   "nbconvert_exporter": "python",
   "pygments_lexer": "ipython3",
   "version": "3.7.6"
  },
  "toc": {
   "base_numbering": 1,
   "nav_menu": {},
   "number_sections": true,
   "sideBar": true,
   "skip_h1_title": false,
   "title_cell": "Table of Contents",
   "title_sidebar": "Contents",
   "toc_cell": false,
   "toc_position": {},
   "toc_section_display": true,
   "toc_window_display": false
  },
  "varInspector": {
   "cols": {
    "lenName": 16,
    "lenType": 16,
    "lenVar": 40
   },
   "kernels_config": {
    "python": {
     "delete_cmd_postfix": "",
     "delete_cmd_prefix": "del ",
     "library": "var_list.py",
     "varRefreshCmd": "print(var_dic_list())"
    },
    "r": {
     "delete_cmd_postfix": ") ",
     "delete_cmd_prefix": "rm(",
     "library": "var_list.r",
     "varRefreshCmd": "cat(var_dic_list()) "
    }
   },
   "types_to_exclude": [
    "module",
    "function",
    "builtin_function_or_method",
    "instance",
    "_Feature"
   ],
   "window_display": false
  }
 },
 "nbformat": 4,
 "nbformat_minor": 4
}
