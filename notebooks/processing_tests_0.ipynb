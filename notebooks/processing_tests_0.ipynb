{
 "cells": [
  {
   "cell_type": "markdown",
   "metadata": {},
   "source": [
    "### preambule"
   ]
  },
  {
   "cell_type": "code",
   "execution_count": null,
   "metadata": {
    "ExecuteTime": {
     "end_time": "2020-09-21T07:22:14.055781Z",
     "start_time": "2020-09-21T07:21:52.028322Z"
    },
    "code_folding": []
   },
   "outputs": [],
   "source": [
    "## importing stuff\n",
    "import os\n",
    "import pickle\n",
    "from sys import path as syspath\n",
    "syspath.append(os.path.expanduser(\"~/srdjan_functs/\"))\n",
    "import javabridge\n",
    "from bioformats import JARS as bfJARS\n",
    "javabridge.start_vm(class_path=bfJARS, max_heap_size=\"20G\")\n",
    "import numpy as np\n",
    "import matplotlib.pyplot as plt\n",
    "\n",
    "%config InlineBackend.figure_format = 'retina'\n",
    "%load_ext autoreload\n",
    "%autoreload 2\n",
    "# %aimport islets\n",
    "\n",
    "from IPython.display import display\n",
    "import pandas as pd\n",
    "\n",
    "from islets.Recording import Recording, saveMovie\n",
    "from islets.numeric import power_spectrum, rebin\n",
    "from islets.utils import show_movie, saveRois\n",
    "# from islets.Regions1 import getPeak2BoundaryDF, getGraph_of_ROIs_to_Merge, mergeBasedOnGraph\n",
    "\n",
    "from caiman import movie as cmovie\n",
    "\n",
    "from matplotlib.colors import LogNorm"
   ]
  },
  {
   "cell_type": "code",
   "execution_count": null,
   "metadata": {
    "ExecuteTime": {
     "end_time": "2020-09-21T07:23:08.081935Z",
     "start_time": "2020-09-21T07:23:02.512816Z"
    }
   },
   "outputs": [],
   "source": [
    "from islets.Regions  import Regions as Regions0\n",
    "from islets.Regions1 import Regions as Regions1"
   ]
  },
  {
   "cell_type": "code",
   "execution_count": null,
   "metadata": {
    "ExecuteTime": {
     "end_time": "2020-09-21T07:23:08.123544Z",
     "start_time": "2020-09-21T07:23:08.083485Z"
    }
   },
   "outputs": [],
   "source": [
    "from islets.Regions1 import getStatImages"
   ]
  },
  {
   "cell_type": "code",
   "execution_count": null,
   "metadata": {
    "ExecuteTime": {
     "end_time": "2020-09-21T07:23:08.662055Z",
     "start_time": "2020-09-21T07:23:08.621420Z"
    }
   },
   "outputs": [],
   "source": [
    "from cv2 import GaussianBlur\n",
    "from islets.numeric import robust_max\n",
    "from islets.numeric import get_sep_th"
   ]
  },
  {
   "cell_type": "code",
   "execution_count": null,
   "metadata": {
    "ExecuteTime": {
     "end_time": "2020-09-21T07:23:13.296983Z",
     "start_time": "2020-09-21T07:23:13.255815Z"
    },
    "code_folding": []
   },
   "outputs": [],
   "source": [
    "# from copy import deepcopy\n",
    "fracSaturTh = .05\n",
    "# movieFreq = 2\n",
    "cmap = plt.cm.Greys\n",
    "cmap.set_bad(\"lime\")\n",
    "pd.set_option('display.max_rows', 100)"
   ]
  },
  {
   "cell_type": "code",
   "execution_count": null,
   "metadata": {
    "ExecuteTime": {
     "end_time": "2020-09-21T07:23:13.686657Z",
     "start_time": "2020-09-21T07:23:13.490940Z"
    }
   },
   "outputs": [],
   "source": [
    "plt.rcParams[\"animation.embed_limit\"] = 500"
   ]
  },
  {
   "cell_type": "code",
   "execution_count": null,
   "metadata": {
    "ExecuteTime": {
     "end_time": "2020-09-21T07:23:14.407099Z",
     "start_time": "2020-09-21T07:23:14.366202Z"
    }
   },
   "outputs": [],
   "source": [
    "date, exp, ser = \"2020_09_16\texperiment68c\tall\".split(\"\\t\")"
   ]
  },
  {
   "cell_type": "code",
   "execution_count": null,
   "metadata": {
    "ExecuteTime": {
     "end_time": "2020-09-21T07:23:15.961879Z",
     "start_time": "2020-09-21T07:23:15.921187Z"
    }
   },
   "outputs": [],
   "source": [
    "exp = exp.capitalize()\n",
    "recFile = f\"/data/Sandra/{date.split('_')[0]}/{date}/{exp}.lif\""
   ]
  },
  {
   "cell_type": "code",
   "execution_count": null,
   "metadata": {
    "ExecuteTime": {
     "end_time": "2020-09-21T07:23:18.304862Z",
     "start_time": "2020-09-21T07:23:18.264687Z"
    }
   },
   "outputs": [],
   "source": [
    "# recFile, ser = \"/data/Sandra/2019/2019_10_15/Experiment38b.lif\", \"Series042\"\n",
    "# recFile, ser = \"/data/Sandra/2020/2020_08_05/Experiment63d.lif\", \"Series004\""
   ]
  },
  {
   "cell_type": "code",
   "execution_count": null,
   "metadata": {
    "ExecuteTime": {
     "end_time": "2020-09-21T07:23:18.517255Z",
     "start_time": "2020-09-21T07:23:18.475455Z"
    }
   },
   "outputs": [],
   "source": [
    "# from caiman import load as cload"
   ]
  },
  {
   "cell_type": "code",
   "execution_count": null,
   "metadata": {
    "ExecuteTime": {
     "end_time": "2020-09-21T07:23:18.808143Z",
     "start_time": "2020-09-21T07:23:18.678048Z"
    }
   },
   "outputs": [],
   "source": [
    "rec = Recording(recFile)\n",
    "rec.metadata"
   ]
  },
  {
   "cell_type": "code",
   "execution_count": null,
   "metadata": {
    "ExecuteTime": {
     "end_time": "2020-09-21T07:23:27.135577Z",
     "start_time": "2020-09-21T07:23:27.094461Z"
    }
   },
   "outputs": [],
   "source": [
    "ser = \"Series001\""
   ]
  },
  {
   "cell_type": "code",
   "execution_count": null,
   "metadata": {
    "ExecuteTime": {
     "end_time": "2020-09-21T07:23:48.301681Z",
     "start_time": "2020-09-21T07:23:46.135393Z"
    }
   },
   "outputs": [],
   "source": [
    "rec.import_series(ser,restrict=(0,10))"
   ]
  },
  {
   "cell_type": "code",
   "execution_count": null,
   "metadata": {
    "ExecuteTime": {
     "end_time": "2020-09-21T07:23:48.782697Z",
     "start_time": "2020-09-21T07:23:48.741774Z"
    }
   },
   "outputs": [],
   "source": [
    "metadata = rec.Series[ser]['metadata']"
   ]
  },
  {
   "cell_type": "code",
   "execution_count": null,
   "metadata": {
    "ExecuteTime": {
     "end_time": "2020-09-21T07:23:49.831404Z",
     "start_time": "2020-09-21T07:23:49.790615Z"
    }
   },
   "outputs": [],
   "source": [
    "movie = cmovie(rec.Series[ser]['data'],fr = metadata.Frequency)"
   ]
  },
  {
   "cell_type": "code",
   "execution_count": null,
   "metadata": {
    "ExecuteTime": {
     "end_time": "2020-09-21T07:23:50.151732Z",
     "start_time": "2020-09-21T07:23:50.108770Z"
    }
   },
   "outputs": [],
   "source": [
    "movie.shape"
   ]
  },
  {
   "cell_type": "code",
   "execution_count": null,
   "metadata": {
    "ExecuteTime": {
     "end_time": "2020-09-21T07:23:52.740819Z",
     "start_time": "2020-09-21T07:23:52.697336Z"
    }
   },
   "outputs": [],
   "source": [
    "np.array([5,6,7])/metadata.pxSize"
   ]
  },
  {
   "cell_type": "code",
   "execution_count": 23,
   "metadata": {
    "ExecuteTime": {
     "end_time": "2020-09-21T07:43:43.562601Z",
     "start_time": "2020-09-21T07:37:10.654811Z"
    }
   },
   "outputs": [],
   "source": [
    "regions1 = Regions1(movie, gSig_filt=(11), img_th=.1)"
   ]
  },
  {
   "cell_type": "code",
   "execution_count": 24,
   "metadata": {
    "ExecuteTime": {
     "end_time": "2020-09-21T07:43:43.779115Z",
     "start_time": "2020-09-21T07:43:43.564484Z"
    }
   },
   "outputs": [
    {
     "data": {
      "text/plain": [
       "(4, 9)"
      ]
     },
     "execution_count": 24,
     "metadata": {},
     "output_type": "execute_result"
    }
   ],
   "source": [
    "regions1.df.shape"
   ]
  },
  {
   "cell_type": "code",
   "execution_count": 25,
   "metadata": {
    "ExecuteTime": {
     "end_time": "2020-09-21T07:43:44.277674Z",
     "start_time": "2020-09-21T07:43:43.780581Z"
    }
   },
   "outputs": [
    {
     "data": {
      "image/png": "[encoded data removed]",
      "text/plain": [
       "<Figure size 432x288 with 1 Axes>"
      ]
     },
     "metadata": {
      "image/png": {
       "height": 251,
       "width": 262
      },
      "needs_background": "light"
     },
     "output_type": "display_data"
    }
   ],
   "source": [
    "regions1.plotEdges()"
   ]
  },
  {
   "cell_type": "code",
   "execution_count": null,
   "metadata": {
    "ExecuteTime": {
     "end_time": "2020-09-16T14:31:28.502247Z",
     "start_time": "2020-09-16T14:31:28.460525Z"
    }
   },
   "outputs": [],
   "source": [
    "# saveMovie(movie,f\"/home/jupyter-srdjan/presentations/examples/{exp}_{ser}.mp4\", maxFreq=1,dpi=300)"
   ]
  },
  {
   "cell_type": "code",
   "execution_count": null,
   "metadata": {
    "ExecuteTime": {
     "end_time": "2020-09-16T14:31:34.042888Z",
     "start_time": "2020-09-16T14:31:31.880215Z"
    }
   },
   "outputs": [],
   "source": [
    "statImages = getStatImages(movie, downsampleFreq=2)"
   ]
  },
  {
   "cell_type": "code",
   "execution_count": null,
   "metadata": {},
   "outputs": [],
   "source": [
    "statImages[\"mean\"]"
   ]
  },
  {
   "cell_type": "code",
   "execution_count": null,
   "metadata": {},
   "outputs": [],
   "source": []
  },
  {
   "cell_type": "code",
   "execution_count": null,
   "metadata": {
    "ExecuteTime": {
     "end_time": "2020-09-16T14:46:10.175768Z",
     "start_time": "2020-09-16T14:46:09.987427Z"
    }
   },
   "outputs": [],
   "source": [
    "plt.imshow(im)"
   ]
  },
  {
   "cell_type": "code",
   "execution_count": null,
   "metadata": {
    "ExecuteTime": {
     "end_time": "2020-09-16T14:46:57.926357Z",
     "start_time": "2020-09-16T14:46:57.878162Z"
    }
   },
   "outputs": [],
   "source": [
    "for el in zip(*np.where(im<0.1)):break"
   ]
  },
  {
   "cell_type": "code",
   "execution_count": null,
   "metadata": {
    "ExecuteTime": {
     "end_time": "2020-09-16T14:46:58.623658Z",
     "start_time": "2020-09-16T14:46:58.574392Z"
    }
   },
   "outputs": [],
   "source": [
    "el"
   ]
  },
  {
   "cell_type": "code",
   "execution_count": null,
   "metadata": {
    "ExecuteTime": {
     "end_time": "2020-09-16T14:50:03.878179Z",
     "start_time": "2020-09-16T14:50:03.826768Z"
    }
   },
   "outputs": [],
   "source": []
  },
  {
   "cell_type": "code",
   "execution_count": null,
   "metadata": {
    "ExecuteTime": {
     "end_time": "2020-09-16T15:04:37.800749Z",
     "start_time": "2020-09-16T14:57:35.641347Z"
    }
   },
   "outputs": [],
   "source": [
    "excl = list(zip(*np.where(statImages[\"mean\"]<2)))\n",
    "print (len(excl))\n",
    "regions = Regions1(movie[:,:,:], diag=True, excludePixels=excl, mode=\"mean\")\n",
    "regions.df.shape"
   ]
  },
  {
   "cell_type": "code",
   "execution_count": null,
   "metadata": {
    "ExecuteTime": {
     "end_time": "2020-09-17T07:46:04.998496Z",
     "start_time": "2020-09-17T07:45:26.324445Z"
    }
   },
   "outputs": [],
   "source": [
    "saveMovie(movie, \"embed\")"
   ]
  },
  {
   "cell_type": "code",
   "execution_count": null,
   "metadata": {
    "ExecuteTime": {
     "end_time": "2020-09-16T15:04:38.103415Z",
     "start_time": "2020-09-16T15:04:37.802634Z"
    }
   },
   "outputs": [],
   "source": [
    "regions.plotEdges()"
   ]
  },
  {
   "cell_type": "code",
   "execution_count": null,
   "metadata": {
    "ExecuteTime": {
     "end_time": "2020-09-16T15:04:38.448921Z",
     "start_time": "2020-09-16T15:04:38.105032Z"
    }
   },
   "outputs": [],
   "source": [
    "regions.calcTraces()"
   ]
  },
  {
   "cell_type": "code",
   "execution_count": null,
   "metadata": {
    "ExecuteTime": {
     "end_time": "2020-09-16T15:04:40.886396Z",
     "start_time": "2020-09-16T15:04:38.450335Z"
    }
   },
   "outputs": [],
   "source": [
    "regions.examine3()"
   ]
  },
  {
   "cell_type": "code",
   "execution_count": null,
   "metadata": {},
   "outputs": [],
   "source": []
  },
  {
   "cell_type": "code",
   "execution_count": null,
   "metadata": {},
   "outputs": [],
   "source": []
  },
  {
   "cell_type": "code",
   "execution_count": null,
   "metadata": {},
   "outputs": [],
   "source": []
  },
  {
   "cell_type": "code",
   "execution_count": null,
   "metadata": {},
   "outputs": [],
   "source": []
  },
  {
   "cell_type": "code",
   "execution_count": null,
   "metadata": {},
   "outputs": [],
   "source": []
  },
  {
   "cell_type": "code",
   "execution_count": null,
   "metadata": {
    "ExecuteTime": {
     "end_time": "2020-09-16T14:50:55.728518Z",
     "start_time": "2020-09-16T14:50:39.521210Z"
    }
   },
   "outputs": [],
   "source": [
    "im = statImages[\"mean\"][:30,:].copy()\n",
    "# im[im<2] = 0\n",
    "# im = GaussianBlur(im, (5,5,),-1)\n",
    "excl = list(zip(*np.where(im.T<1)))\n",
    "regions = Regions1(im, diag=False, mode=\"custom\", excludePixels=excl)"
   ]
  },
  {
   "cell_type": "code",
   "execution_count": null,
   "metadata": {
    "ExecuteTime": {
     "end_time": "2020-09-16T14:50:55.788662Z",
     "start_time": "2020-09-16T14:50:55.730406Z"
    }
   },
   "outputs": [],
   "source": [
    "regions.df.shape"
   ]
  },
  {
   "cell_type": "code",
   "execution_count": null,
   "metadata": {
    "ExecuteTime": {
     "end_time": "2020-09-16T14:45:05.999727Z",
     "start_time": "2020-09-16T14:45:05.941670Z"
    }
   },
   "outputs": [],
   "source": [
    "regions.df = regions.df[regions.df[\"size\"]>2]"
   ]
  },
  {
   "cell_type": "code",
   "execution_count": null,
   "metadata": {
    "ExecuteTime": {
     "end_time": "2020-09-16T14:47:59.480352Z",
     "start_time": "2020-09-16T14:47:41.941872Z"
    }
   },
   "outputs": [],
   "source": [
    "regions.plotEdges()\n",
    "regions.plotPeaks(color=\"k\")"
   ]
  },
  {
   "cell_type": "code",
   "execution_count": null,
   "metadata": {
    "ExecuteTime": {
     "end_time": "2020-09-16T14:38:10.338916Z",
     "start_time": "2020-09-16T14:38:01.069286Z"
    }
   },
   "outputs": [],
   "source": [
    "regions.calcTraces()`"
   ]
  },
  {
   "cell_type": "code",
   "execution_count": null,
   "metadata": {
    "ExecuteTime": {
     "end_time": "2020-09-16T14:40:06.879988Z",
     "start_time": "2020-09-16T14:40:06.798922Z"
    }
   },
   "outputs": [],
   "source": [
    "regions.examine3()"
   ]
  },
  {
   "cell_type": "code",
   "execution_count": null,
   "metadata": {
    "ExecuteTime": {
     "end_time": "2020-09-16T14:55:39.314426Z",
     "start_time": "2020-09-16T14:55:38.746161Z"
    }
   },
   "outputs": [],
   "source": [
    "plt.hist(statImages[\"mean\"].flat,100,log=True);"
   ]
  },
  {
   "cell_type": "code",
   "execution_count": null,
   "metadata": {},
   "outputs": [],
   "source": [
    "regions = "
   ]
  },
  {
   "cell_type": "code",
   "execution_count": null,
   "metadata": {
    "ExecuteTime": {
     "end_time": "2020-09-16T14:40:02.479529Z",
     "start_time": "2020-09-16T14:40:02.426994Z"
    }
   },
   "outputs": [],
   "source": [
    "regions = regions.df.query(\"peakValue>.2\")"
   ]
  },
  {
   "cell_type": "markdown",
   "metadata": {
    "heading_collapsed": true
   },
   "source": [
    "### Save images"
   ]
  },
  {
   "cell_type": "code",
   "execution_count": null,
   "metadata": {
    "ExecuteTime": {
     "end_time": "2020-09-04T13:14:39.151101Z",
     "start_time": "2020-09-04T13:14:39.109102Z"
    },
    "hidden": true
   },
   "outputs": [],
   "source": [
    "statImages.keys()"
   ]
  },
  {
   "cell_type": "code",
   "execution_count": null,
   "metadata": {
    "ExecuteTime": {
     "end_time": "2020-09-04T13:55:44.950662Z",
     "start_time": "2020-09-04T13:55:44.237159Z"
    },
    "hidden": true
   },
   "outputs": [],
   "source": [
    "fig, axs = plt.subplots(1,2,figsize=(10,5), sharex=True, sharey=True)\n",
    "for k,ax in zip(['mean',\"highperc\"],axs):\n",
    "    ax.imshow(statImages[k], cmap=\"Greys\")\n",
    "    ax.set_xticks([])\n",
    "    ax.set_yticks([])\n",
    "plt.subplots_adjust(wspace=.01)\n",
    "fig.savefig(\"/home/jupyter-srdjan/presentations/examples/mean_max_lin.png\",dpi=300)"
   ]
  },
  {
   "cell_type": "code",
   "execution_count": null,
   "metadata": {
    "ExecuteTime": {
     "end_time": "2020-09-04T13:22:24.444639Z",
     "start_time": "2020-09-04T13:22:24.232159Z"
    },
    "hidden": true
   },
   "outputs": [],
   "source": [
    "plt.hist(statImages[\"mean\"].flat,100, histtype=\"step\")\n",
    "plt.hist(statImages[\"highperc\"].flat,100, histtype=\"step\");"
   ]
  },
  {
   "cell_type": "code",
   "execution_count": null,
   "metadata": {
    "hidden": true
   },
   "outputs": [],
   "source": []
  },
  {
   "cell_type": "code",
   "execution_count": null,
   "metadata": {
    "ExecuteTime": {
     "end_time": "2020-09-04T13:55:55.539848Z",
     "start_time": "2020-09-04T13:55:54.794646Z"
    },
    "hidden": true
   },
   "outputs": [],
   "source": [
    "fig, axs = plt.subplots(1,2,figsize=(10,5), sharex=True, sharey=True)\n",
    "for k,ax in zip(['mean',\"highperc\"],axs):\n",
    "    ax.imshow(statImages[k], cmap=\"Greys\", norm=LogNorm(), vmin=1,vmax=20)\n",
    "    ax.set_xticks([])\n",
    "    ax.set_yticks([])\n",
    "plt.subplots_adjust(wspace=.01)\n",
    "fig.savefig(\"/home/jupyter-srdjan/presentations/examples/mean_max_lin.png\",dpi=300)"
   ]
  },
  {
   "cell_type": "code",
   "execution_count": null,
   "metadata": {
    "ExecuteTime": {
     "end_time": "2020-09-04T13:55:58.996589Z",
     "start_time": "2020-09-04T13:55:58.183624Z"
    },
    "hidden": true
   },
   "outputs": [],
   "source": [
    "fig, axs = plt.subplots(1,3,figsize=(10.3,5),gridspec_kw={\"width_ratios\":[5,5,.3]})\n",
    "k = \"mean\"\n",
    "axs[0].imshow(statImages[k], cmap=\"Greys\", vmin=1,vmax=20)\n",
    "im = axs[1].imshow(statImages[k], cmap=\"Greys\", norm=LogNorm(), vmin=1,vmax=20)\n",
    "for ax in axs:\n",
    "    ax.set_xticks([])\n",
    "    ax.set_yticks([])\n",
    "plt.subplots_adjust(wspace=.01)\n",
    "plt.colorbar(im, cax=axs[-1])\n",
    "fig.savefig(\"/home/jupyter-srdjan/presentations/examples/mean_lin_log.png\",dpi=300)"
   ]
  },
  {
   "cell_type": "code",
   "execution_count": null,
   "metadata": {
    "ExecuteTime": {
     "end_time": "2020-09-04T13:56:07.176256Z",
     "start_time": "2020-09-04T13:56:04.911338Z"
    },
    "hidden": true
   },
   "outputs": [],
   "source": [
    "for k in ['mean',\"highperc\"]:\n",
    "    for log in [True,False]:\n",
    "        fig = plt.figure(figsize=(5+int(log),5))\n",
    "        if log:\n",
    "            plt.imshow(statImages[k], cmap=\"Greys\", norm=LogNorm(), vmin=1,vmax=20)\n",
    "            plt.colorbar()\n",
    "        else:\n",
    "            plt.imshow(statImages[k], cmap=\"Greys\")\n",
    "        plt.xticks([])\n",
    "        plt.yticks([])\n",
    "        plt.subplots_adjust(wspace=.01)\n",
    "        name = k\n",
    "        if log: name += \"_log\"\n",
    "        else: name += \"_lin\"\n",
    "            \n",
    "        fig.savefig(f\"/home/jupyter-srdjan/presentations/examples/{name}.png\",dpi=300)"
   ]
  },
  {
   "cell_type": "code",
   "execution_count": null,
   "metadata": {
    "ExecuteTime": {
     "end_time": "2020-09-04T13:57:20.975980Z",
     "start_time": "2020-09-04T13:57:20.933135Z"
    },
    "hidden": true
   },
   "outputs": [],
   "source": [
    "Regions.__module__"
   ]
  },
  {
   "cell_type": "code",
   "execution_count": null,
   "metadata": {
    "ExecuteTime": {
     "end_time": "2020-09-04T13:57:45.753892Z",
     "start_time": "2020-09-04T13:57:45.711535Z"
    },
    "hidden": true
   },
   "outputs": [],
   "source": [
    "movie.shape"
   ]
  },
  {
   "cell_type": "code",
   "execution_count": null,
   "metadata": {
    "ExecuteTime": {
     "end_time": "2020-09-04T14:02:44.021073Z",
     "start_time": "2020-09-04T14:02:43.922898Z"
    },
    "hidden": true
   },
   "outputs": [],
   "source": [
    "np.savetxt(\"/home/jupyter-srdjan/presentations/examples/mean_image.txt\", statImages[\"mean\"])"
   ]
  },
  {
   "cell_type": "markdown",
   "metadata": {},
   "source": [
    "### Regions (old and new)"
   ]
  },
  {
   "cell_type": "code",
   "execution_count": null,
   "metadata": {
    "ExecuteTime": {
     "start_time": "2020-09-09T09:35:20.670Z"
    }
   },
   "outputs": [],
   "source": [
    "x0,x1,y0,y1 = 50,150,50,150"
   ]
  },
  {
   "cell_type": "markdown",
   "metadata": {},
   "source": [
    "#### old"
   ]
  },
  {
   "cell_type": "code",
   "execution_count": null,
   "metadata": {
    "ExecuteTime": {
     "start_time": "2020-09-09T09:35:25.095Z"
    }
   },
   "outputs": [],
   "source": [
    "regions0 = Regions0({\"mean\":statImages[\"mean\"][x0:x1,y0:y1]}, gSig_filt=(4,3), diag=True, mode=\"mean\")\n",
    "regions0.df.drop(index=regions0.df.query(\"size<5\").index, inplace=True)\n",
    "regions0.update(movie)\n",
    "regions0.plotEdges(imkw_args={\"cmap\":\"Greys\"},color=\"red\")"
   ]
  },
  {
   "cell_type": "code",
   "execution_count": null,
   "metadata": {
    "ExecuteTime": {
     "start_time": "2020-09-09T09:35:28.258Z"
    }
   },
   "outputs": [],
   "source": [
    "regions0.metadata = metadata"
   ]
  },
  {
   "cell_type": "code",
   "execution_count": null,
   "metadata": {
    "ExecuteTime": {
     "start_time": "2020-09-09T09:35:29.548Z"
    }
   },
   "outputs": [],
   "source": [
    "# saveRois(regions0, \"/home/jupyter-srdjan/presentations/examples\",\"regions0\", add_date=False, formats=[\"vienna\"])"
   ]
  },
  {
   "cell_type": "code",
   "execution_count": null,
   "metadata": {
    "ExecuteTime": {
     "start_time": "2020-09-09T09:35:32.252Z"
    }
   },
   "outputs": [],
   "source": [
    "regions0 = Regions1(regions0)"
   ]
  },
  {
   "cell_type": "code",
   "execution_count": null,
   "metadata": {
    "ExecuteTime": {
     "start_time": "2020-09-09T09:35:34.881Z"
    }
   },
   "outputs": [],
   "source": [
    "regions0.update(movie[:,x0:x1,y0:y1])"
   ]
  },
  {
   "cell_type": "code",
   "execution_count": null,
   "metadata": {
    "ExecuteTime": {
     "start_time": "2020-09-09T09:35:38.214Z"
    }
   },
   "outputs": [],
   "source": [
    "for col in regions0.df.columns:\n",
    "    if \"_\" in col:\n",
    "        del regions0.df[col]\n",
    "try: del regions0.showTime\n",
    "except: pass"
   ]
  },
  {
   "cell_type": "code",
   "execution_count": null,
   "metadata": {
    "ExecuteTime": {
     "start_time": "2020-09-09T09:35:38.711Z"
    }
   },
   "outputs": [],
   "source": [
    "regions0.movie.fr"
   ]
  },
  {
   "cell_type": "code",
   "execution_count": null,
   "metadata": {
    "ExecuteTime": {
     "end_time": "2020-09-09T11:18:10.711129Z",
     "start_time": "2020-09-09T11:18:08.908204Z"
    }
   },
   "outputs": [],
   "source": [
    "regions0.examine3()"
   ]
  },
  {
   "cell_type": "code",
   "execution_count": null,
   "metadata": {
    "ExecuteTime": {
     "end_time": "2020-09-07T09:38:12.161369Z",
     "start_time": "2020-09-07T09:38:11.364654Z"
    }
   },
   "outputs": [],
   "source": [
    "m = regions0.movie.copy()\n",
    "for i,j in sum(regions0.df.pixels,[]):\n",
    "#     m[:,i,j] = 0\n",
    "    m[:,i,j] = m[:,i,j].mean()"
   ]
  },
  {
   "cell_type": "code",
   "execution_count": null,
   "metadata": {
    "ExecuteTime": {
     "end_time": "2020-09-07T10:11:42.170956Z",
     "start_time": "2020-09-07T10:11:06.895523Z"
    }
   },
   "outputs": [],
   "source": [
    "show_movie(m,\n",
    "           figScale=3,\n",
    "           log=True,\n",
    "           additionalPlot=lambda ax: regions0.plotEdges(image=False, ax=ax, color=\"navy\"),\n",
    "           saveName=\"/home/jupyter-srdjan/presentations/examples/regions0_movie_masked.mp4\",\n",
    "           NTimeFrames=400,\n",
    "           out=\"save\",\n",
    "           dpi=300,\n",
    "           tmax=len(m)/m.fr\n",
    "          )"
   ]
  },
  {
   "cell_type": "code",
   "execution_count": null,
   "metadata": {},
   "outputs": [],
   "source": []
  },
  {
   "cell_type": "markdown",
   "metadata": {},
   "source": [
    "#### new"
   ]
  },
  {
   "cell_type": "code",
   "execution_count": null,
   "metadata": {
    "ExecuteTime": {
     "start_time": "2020-09-09T09:35:55.987Z"
    }
   },
   "outputs": [],
   "source": [
    "regions1 = Regions1(movie[:,x0:x1,y0:y1],gSig_filt=(3,4),diag=True)\n",
    "plt.figure(figsize=(7,7))\n",
    "regions1.plotEdges(lw=.5)\n",
    "regions1.plotPeaks(color=\"k\", image=True)"
   ]
  },
  {
   "cell_type": "code",
   "execution_count": null,
   "metadata": {
    "ExecuteTime": {
     "start_time": "2020-09-09T09:35:58.210Z"
    }
   },
   "outputs": [],
   "source": [
    "regions1.calcTraces()"
   ]
  },
  {
   "cell_type": "code",
   "execution_count": null,
   "metadata": {
    "ExecuteTime": {
     "start_time": "2020-09-09T09:35:58.894Z"
    }
   },
   "outputs": [],
   "source": [
    "regions1.protocol = pd.DataFrame({\n",
    "    \"compound\": [\"glucose\",\"glucose\",\"Ca\",\"Ca\"],\n",
    "    \"concentration\": [\"8mM\",\"6mM\",\"2mM\",\"0.4mM\"],\n",
    "    \"t_begin\": [0,700,0,800],\n",
    "    \"t_end\": [700,1000,800,1000]\n",
    "})"
   ]
  },
  {
   "cell_type": "code",
   "execution_count": null,
   "metadata": {
    "ExecuteTime": {
     "start_time": "2020-09-09T09:35:59.603Z"
    }
   },
   "outputs": [],
   "source": [
    "regions1.metadata = metadata"
   ]
  },
  {
   "cell_type": "code",
   "execution_count": null,
   "metadata": {
    "ExecuteTime": {
     "end_time": "2020-09-07T11:06:29.656392Z",
     "start_time": "2020-09-07T11:06:29.607393Z"
    }
   },
   "outputs": [],
   "source": [
    "# m = regions1.movie.copy()\n",
    "# for i,j in sum(regions1.df.pixels,[]):\n",
    "# #     m[:,i,j] = 0\n",
    "#     m[:,i,j] = m[:,i,j].mean()\n",
    "\n",
    "# show_movie(m,\n",
    "#            figScale=3,\n",
    "#            log=True,\n",
    "#            additionalPlot=lambda ax: regions1.plotEdges(image=False, ax=ax, color=\"navy\"),\n",
    "#            saveName=\"/home/jupyter-srdjan/presentations/examples/regions1_movie_masked.mp4\",\n",
    "#            NTimeFrames=400,\n",
    "#            out=\"save\",\n",
    "#            dpi=300,\n",
    "#            tmax=len(m)/m.fr\n",
    "#           )"
   ]
  },
  {
   "cell_type": "code",
   "execution_count": null,
   "metadata": {
    "ExecuteTime": {
     "end_time": "2020-09-07T12:22:11.986674Z",
     "start_time": "2020-09-07T12:22:11.925674Z"
    }
   },
   "outputs": [],
   "source": [
    "import PIL"
   ]
  },
  {
   "cell_type": "code",
   "execution_count": null,
   "metadata": {
    "ExecuteTime": {
     "end_time": "2020-09-07T12:22:32.291239Z",
     "start_time": "2020-09-07T12:22:32.241541Z"
    }
   },
   "outputs": [],
   "source": [
    "m_rshifted = movie[:1000,x0:x1,y0:y1]"
   ]
  },
  {
   "cell_type": "code",
   "execution_count": null,
   "metadata": {
    "ExecuteTime": {
     "end_time": "2020-09-07T12:22:57.459889Z",
     "start_time": "2020-09-07T12:22:54.334938Z"
    }
   },
   "outputs": [],
   "source": [
    "im = PIL.Image.fromarray(m_rshifted[0])\n",
    "im.save(\"/home/jupyter-srdjan/presentations/examples/movie_sample.tiff\",\n",
    "        save_all=True,\n",
    "        append_images=[PIL.Image.fromarray(m_rshifted[i]) for i in range(1,len(m_rshifted))],\n",
    "        compression=\"tiff_deflate\"\n",
    "       )"
   ]
  },
  {
   "cell_type": "code",
   "execution_count": null,
   "metadata": {
    "ExecuteTime": {
     "end_time": "2020-09-07T11:07:39.576834Z",
     "start_time": "2020-09-07T11:07:39.526556Z"
    }
   },
   "outputs": [],
   "source": [
    "regions1.image.shape[0]*metadata.pxSize/4"
   ]
  },
  {
   "cell_type": "code",
   "execution_count": null,
   "metadata": {
    "ExecuteTime": {
     "end_time": "2020-09-09T11:18:47.218633Z",
     "start_time": "2020-09-09T11:18:44.248044Z"
    }
   },
   "outputs": [],
   "source": [
    "regions1.examine3()"
   ]
  },
  {
   "cell_type": "code",
   "execution_count": null,
   "metadata": {
    "ExecuteTime": {
     "end_time": "2020-09-09T11:19:18.397878Z",
     "start_time": "2020-09-09T11:19:18.350714Z"
    }
   },
   "outputs": [],
   "source": [
    "regions1 = Regions1(regions1)"
   ]
  },
  {
   "cell_type": "code",
   "execution_count": null,
   "metadata": {
    "ExecuteTime": {
     "start_time": "2020-09-09T09:36:10.220Z"
    }
   },
   "outputs": [],
   "source": [
    "# saveRois(regions1, \"/home/jupyter-srdjan/presentations/examples\",\"regions1\", add_date=False, formats=[\"vienna\"])"
   ]
  },
  {
   "cell_type": "code",
   "execution_count": null,
   "metadata": {
    "ExecuteTime": {
     "end_time": "2020-09-09T11:19:23.907814Z",
     "start_time": "2020-09-09T11:19:22.709529Z"
    }
   },
   "outputs": [],
   "source": [
    "regions1.calc_peaks(10)\n",
    "regions1.calc_peaks(7)\n",
    "regions1.calc_peaks(5)"
   ]
  },
  {
   "cell_type": "code",
   "execution_count": null,
   "metadata": {
    "ExecuteTime": {
     "end_time": "2020-09-09T11:19:24.856431Z",
     "start_time": "2020-09-09T11:19:24.809346Z"
    }
   },
   "outputs": [],
   "source": [
    "import plotly_express as plx"
   ]
  },
  {
   "cell_type": "code",
   "execution_count": null,
   "metadata": {
    "ExecuteTime": {
     "end_time": "2020-09-09T11:19:26.904892Z",
     "start_time": "2020-09-09T11:19:26.765890Z"
    }
   },
   "outputs": [],
   "source": [
    "fig, axs = plt.subplots(1,3,figsize=(10,3), sharey=True, sharex=True)\n",
    "for ts, ax in zip([5,7,10], axs):\n",
    "    pks = regions1.peaks[\"%g\"%ts]\n",
    "    ax.hexbin(pks.iloc[:,1], pks.iloc[:,0], mincnt=1,bins=\"log\", cmap=\"hot\", yscale=\"log\")"
   ]
  },
  {
   "cell_type": "code",
   "execution_count": null,
   "metadata": {
    "ExecuteTime": {
     "end_time": "2020-09-09T11:19:36.769286Z",
     "start_time": "2020-09-09T11:19:36.722161Z"
    }
   },
   "outputs": [],
   "source": [
    "pks = regions1.peaks[\"7\"]\n",
    "# plx.scatter(pks, width = 600, x=pks.columns[1],y=pks.columns[0])"
   ]
  },
  {
   "cell_type": "code",
   "execution_count": null,
   "metadata": {
    "ExecuteTime": {
     "end_time": "2020-09-09T11:19:37.941150Z",
     "start_time": "2020-09-09T11:19:37.894597Z"
    }
   },
   "outputs": [],
   "source": [
    "from scipy.stats import median_absolute_deviation"
   ]
  },
  {
   "cell_type": "code",
   "execution_count": null,
   "metadata": {
    "ExecuteTime": {
     "end_time": "2020-09-09T11:19:38.286831Z",
     "start_time": "2020-09-09T11:19:38.115541Z"
    }
   },
   "outputs": [],
   "source": [
    "summary = []#pd.DataFrame(columns=[\"roi\", \"pH\",\"mean\",\"std\",])\n",
    "\n",
    "for (roi),df in pks.groupby([\"roi\"]):\n",
    "    if len(df)<10: continue\n",
    "    summary += [{\n",
    "        \"roi\":roi,\n",
    "        \"half width\":  np.median(df.iloc[:,1]),\n",
    "        \"half width err\":  median_absolute_deviation(df.iloc[:,1])/len(df)**.5,\n",
    "        \"spiking period\": np.median( df.t0.diff()[1:]),\n",
    "        \"spiking period err\": median_absolute_deviation( df.t0.diff()[1:])/len(df)**.5,\n",
    "    }]\n",
    "\n",
    "summary = pd.DataFrame(summary)"
   ]
  },
  {
   "cell_type": "code",
   "execution_count": null,
   "metadata": {},
   "outputs": [],
   "source": []
  },
  {
   "cell_type": "code",
   "execution_count": null,
   "metadata": {
    "ExecuteTime": {
     "end_time": "2020-09-09T11:22:55.003185Z",
     "start_time": "2020-09-09T11:22:54.668842Z"
    }
   },
   "outputs": [],
   "source": [
    "fig = plx.scatter(summary,x=\"half width\",y=\"spiking period\", width=700, height=700, \n",
    "                  marginal_x=\"box\", marginal_y=\"box\",error_x=\"half width err\", error_y=\"spiking period err\")\n",
    "#                   marginal_x=\"histogram\", marginal_y=\"histogram\", error_x=\"half width err\", error_y=\"spiking period err\")\n",
    "\n",
    "fig.update_traces({\"error_x_width\":.4, \"error_y_width\":.4,\"error_x_thickness\":.7,\"error_y_thickness\":.7},col=1,row=1)\n",
    "fig.show()"
   ]
  },
  {
   "cell_type": "markdown",
   "metadata": {},
   "source": [
    "### fitting"
   ]
  },
  {
   "cell_type": "code",
   "execution_count": null,
   "metadata": {
    "ExecuteTime": {
     "end_time": "2020-09-09T11:19:48.474943Z",
     "start_time": "2020-09-09T11:19:48.275926Z"
    }
   },
   "outputs": [],
   "source": [
    "ts = 7\n",
    "regions1.fast_filter_traces(ts)\n",
    "zScore = np.vstack(regions1.df[\"zScore_%g\"%ts])\n",
    "X = zScore>2.5"
   ]
  },
  {
   "cell_type": "code",
   "execution_count": null,
   "metadata": {
    "ExecuteTime": {
     "end_time": "2020-09-09T11:19:49.867198Z",
     "start_time": "2020-09-09T11:19:49.816995Z"
    }
   },
   "outputs": [],
   "source": [
    "np.where((zScore>7).sum(1)>100)"
   ]
  },
  {
   "cell_type": "code",
   "execution_count": null,
   "metadata": {
    "ExecuteTime": {
     "end_time": "2020-09-09T11:19:50.093451Z",
     "start_time": "2020-09-09T11:19:50.046651Z"
    }
   },
   "outputs": [],
   "source": [
    "# [(roi,df.iloc[:,0].mean()) for roi, df in spikes.groupby(\"roi\")]"
   ]
  },
  {
   "cell_type": "code",
   "execution_count": null,
   "metadata": {
    "ExecuteTime": {
     "end_time": "2020-09-09T11:19:50.792647Z",
     "start_time": "2020-09-09T11:19:50.745141Z"
    }
   },
   "outputs": [],
   "source": [
    "iShow = 145, 190#regions1.df.index[np.argmax((zScore>4).sum(1))]"
   ]
  },
  {
   "cell_type": "code",
   "execution_count": null,
   "metadata": {
    "ExecuteTime": {
     "end_time": "2020-09-09T11:19:53.975239Z",
     "start_time": "2020-09-09T11:19:53.928527Z"
    }
   },
   "outputs": [],
   "source": [
    "# regions.df[\"_trace\"] = deepcopy(regions.df.trace)"
   ]
  },
  {
   "cell_type": "code",
   "execution_count": null,
   "metadata": {
    "ExecuteTime": {
     "end_time": "2020-09-09T11:19:54.845143Z",
     "start_time": "2020-09-09T11:19:54.796538Z"
    }
   },
   "outputs": [],
   "source": [
    "from IPython.core.display import display, HTML\n",
    "display(HTML(\"<style>.container { width:100% !important; }</style>\"))"
   ]
  },
  {
   "cell_type": "code",
   "execution_count": null,
   "metadata": {
    "ExecuteTime": {
     "end_time": "2020-09-09T11:19:58.851484Z",
     "start_time": "2020-09-09T11:19:58.803672Z"
    }
   },
   "outputs": [],
   "source": [
    "from islets.fitting import fit_spikes, myShape"
   ]
  },
  {
   "cell_type": "code",
   "execution_count": null,
   "metadata": {
    "ExecuteTime": {
     "end_time": "2020-09-09T11:20:00.289677Z",
     "start_time": "2020-09-09T11:20:00.242666Z"
    }
   },
   "outputs": [],
   "source": [
    "regions = regions1"
   ]
  },
  {
   "cell_type": "code",
   "execution_count": null,
   "metadata": {
    "ExecuteTime": {
     "end_time": "2020-09-09T11:20:00.574205Z",
     "start_time": "2020-09-09T11:20:00.427120Z"
    }
   },
   "outputs": [],
   "source": [
    "t = regions.time.copy()\n",
    "ts = 13\n",
    "sl,fs,zs = regions.fast_filter_traces(ts, write=False,\n",
    "                                      normalize=True,\n",
    "#                                       z_sp=3,\n",
    "                                      verbose=True,\n",
    "#                                       Npoints=20\n",
    "                                     )\n",
    "try:\n",
    "    tt = regions.showTime[\"%g\"%ts]\n",
    "except:\n",
    "    tt = t.copy()"
   ]
  },
  {
   "cell_type": "code",
   "execution_count": null,
   "metadata": {
    "ExecuteTime": {
     "end_time": "2020-09-09T11:20:03.834122Z",
     "start_time": "2020-09-09T11:20:03.456205Z"
    }
   },
   "outputs": [],
   "source": [
    "spikes = regions.calc_peaks(\n",
    "    ts=ts,\n",
    "    save=False,\n",
    "    t=tt,\n",
    "    zScores=zs,\n",
    "#     z_th=5\n",
    "#     smooth=0\n",
    ")"
   ]
  },
  {
   "cell_type": "code",
   "execution_count": null,
   "metadata": {
    "ExecuteTime": {
     "end_time": "2020-09-09T11:20:04.946039Z",
     "start_time": "2020-09-09T11:20:04.897531Z"
    }
   },
   "outputs": [],
   "source": [
    "iShow"
   ]
  },
  {
   "cell_type": "code",
   "execution_count": null,
   "metadata": {
    "ExecuteTime": {
     "end_time": "2020-09-09T11:20:06.961045Z",
     "start_time": "2020-09-09T11:20:06.912027Z"
    }
   },
   "outputs": [],
   "source": [
    "%matplotlib notebook"
   ]
  },
  {
   "cell_type": "code",
   "execution_count": null,
   "metadata": {
    "ExecuteTime": {
     "end_time": "2020-09-09T11:20:23.044768Z",
     "start_time": "2020-09-09T11:20:07.718969Z"
    },
    "scrolled": false
   },
   "outputs": [],
   "source": [
    "fitDF = []\n",
    "fig, axs = plt.subplots(len(iShow),1,figsize=(9,6), sharey=False, sharex=True)\n",
    "# fig, axs = plt.subplots(1,1,figsize=(9,4), sharey=False, sharex=True)\n",
    "for i,ix in enumerate(iShow):\n",
    "    tmpdf = fit_spikes(\n",
    "        t, regions.df.trace[ix],\n",
    "#        tt, sl[i]+fs[i],\n",
    "       spikes.query(f\"roi=={ix}\"),\n",
    "#        ifit = 20,\n",
    "       colorCode={\"myShape\":\"C3\"},\n",
    "       plot=True,\n",
    "       ax=axs[i],\n",
    "       half_width_threshold=ts*.12\n",
    "      )\n",
    "    tmpdf[\"roi\"]= ix \n",
    "    fitDF += [tmpdf]\n",
    "#     axs[i].plot(tt,sl[i],\"C1\",lw=.8)\n",
    "fitDF = pd.concat(fitDF)\n",
    "# plt.xlim(regions.time[0], regions.time[0]+50)\n",
    "plt.xlim(fitDF[\"loc\"].min()-10, fitDF[\"loc\"].max()+50)\n",
    "plt.subplots_adjust(hspace=0.01)"
   ]
  },
  {
   "cell_type": "code",
   "execution_count": null,
   "metadata": {
    "ExecuteTime": {
     "end_time": "2020-09-09T11:24:56.009566Z",
     "start_time": "2020-09-09T11:24:55.954054Z"
    }
   },
   "outputs": [],
   "source": [
    "fitDF.iloc[:,4:]"
   ]
  },
  {
   "cell_type": "code",
   "execution_count": null,
   "metadata": {},
   "outputs": [],
   "source": []
  },
  {
   "cell_type": "code",
   "execution_count": null,
   "metadata": {},
   "outputs": [],
   "source": []
  }
 ],
 "metadata": {
  "kernelspec": {
   "display_name": "Physio",
   "language": "python",
   "name": "physio"
  },
  "language_info": {
   "codemirror_mode": {
    "name": "ipython",
    "version": 3
   },
   "file_extension": ".py",
   "mimetype": "text/x-python",
   "name": "python",
   "nbconvert_exporter": "python",
   "pygments_lexer": "ipython3",
   "version": "3.7.6"
  },
  "toc": {
   "base_numbering": 1,
   "nav_menu": {},
   "number_sections": true,
   "sideBar": true,
   "skip_h1_title": false,
   "title_cell": "Table of Contents",
   "title_sidebar": "Contents",
   "toc_cell": false,
   "toc_position": {
    "height": "calc(100% - 180px)",
    "left": "10px",
    "top": "150px",
    "width": "317.167px"
   },
   "toc_section_display": true,
   "toc_window_display": false
  },
  "varInspector": {
   "cols": {
    "lenName": 16,
    "lenType": 16,
    "lenVar": 40
   },
   "kernels_config": {
    "python": {
     "delete_cmd_postfix": "",
     "delete_cmd_prefix": "del ",
     "library": "var_list.py",
     "varRefreshCmd": "print(var_dic_list())"
    },
    "r": {
     "delete_cmd_postfix": ") ",
     "delete_cmd_prefix": "rm(",
     "library": "var_list.r",
     "varRefreshCmd": "cat(var_dic_list()) "
    }
   },
   "types_to_exclude": [
    "module",
    "function",
    "builtin_function_or_method",
    "instance",
    "_Feature"
   ],
   "window_display": false
  }
 },
 "nbformat": 4,
 "nbformat_minor": 4
}
