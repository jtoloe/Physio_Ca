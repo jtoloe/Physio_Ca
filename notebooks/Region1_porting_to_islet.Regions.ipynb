{
 "cells": [
  {
   "cell_type": "code",
   "execution_count": 1,
   "metadata": {
    "ExecuteTime": {
     "end_time": "2020-12-16T09:46:12.370303Z",
     "start_time": "2020-12-16T09:46:11.998828Z"
    }
   },
   "outputs": [],
   "source": [
    "import numpy as np\n",
    "\n",
    "%config InlineBackend.figure_format = 'retina'\n",
    "%load_ext autoreload\n",
    "%autoreload 2\n",
    "\n",
    "import pandas as pd\n",
    "import os\n",
    "from time import ctime\n",
    "import plotly_express as plx\n",
    "from tqdm.notebook import tqdm\n",
    "\n",
    "from sys import path as syspath\n",
    "import pickle\n",
    "from sys import exc_info"
   ]
  },
  {
   "cell_type": "code",
   "execution_count": 2,
   "metadata": {
    "ExecuteTime": {
     "end_time": "2020-12-16T09:46:13.964731Z",
     "start_time": "2020-12-16T09:46:13.523463Z"
    }
   },
   "outputs": [],
   "source": [
    "ip = 0\n",
    "allpickles = []\n",
    "for cd, ds, fs in os.walk(\"/data\"):\n",
    "    for f in fs:\n",
    "        if f.endswith(\"pkl\"):\n",
    "            path = os.path.join(cd, f)\n",
    "            with open(path,\"rb\") as fh:\n",
    "                peek = fh.peek()[:30]\n",
    "                if b\"Regions\" not in peek:\n",
    "                    continue\n",
    "            allpickles += [(path, ctime(os.path.getmtime(path)), os.path.getsize(path)/1e6, peek)]\n",
    "#             ip += 1\n",
    "#     if ip>1000:\n",
    "#         break"
   ]
  },
  {
   "cell_type": "code",
   "execution_count": 3,
   "metadata": {
    "ExecuteTime": {
     "end_time": "2020-12-16T09:46:19.139734Z",
     "start_time": "2020-12-16T09:46:19.123107Z"
    }
   },
   "outputs": [],
   "source": [
    "allpickles = pd.DataFrame(allpickles,columns=[\"path\",\"raw time\",\"size(MB)\",\"peek\"])"
   ]
  },
  {
   "cell_type": "code",
   "execution_count": 5,
   "metadata": {
    "ExecuteTime": {
     "end_time": "2020-12-16T09:46:31.750859Z",
     "start_time": "2020-12-16T09:46:31.740502Z"
    }
   },
   "outputs": [],
   "source": [
    "# syspath.append(\"/home/jupyter-srdjan/srdjan_functs/\")\n",
    "# from islets.Regions import load_regions\n",
    "# from islets.utils import saveRois\n",
    "# ii = np.random.permutation(allpickles.index[:])\n",
    "# for ix in tqdm(ii):\n",
    "#     peek = allpickles.loc[ix,\"peek\"]\n",
    "#     if b'islets.Regions\\nRegions' in peek:\n",
    "#         allpickles.loc[ix,\"success\"] = np.nan\n",
    "#         continue\n",
    "#     try:\n",
    "#         path = allpickles.loc[ix,\"path\"]\n",
    "#         regions = load_regions(path,\n",
    "#                                baremin=True,\n",
    "#                                mergeSizeTh=5,\n",
    "#                                calcInterest=False,\n",
    "#                               )\n",
    "#         saveRois(regions,\n",
    "#                  os.path.split(path)[0],\n",
    "#                  os.path.split(path)[1].split(\"_rois.pkl\")[0],\n",
    "#                  add_date=False,\n",
    "#                 )\n",
    "#         allpickles.loc[ix,\"success\"] = 1\n",
    "#     except:\n",
    "#         allpickles.loc[ix,\"success\"] = 0\n",
    "#         print (f\"Could not recast {path}\")"
   ]
  },
  {
   "cell_type": "code",
   "execution_count": 8,
   "metadata": {
    "ExecuteTime": {
     "end_time": "2020-12-16T08:57:07.726600Z",
     "start_time": "2020-12-16T08:57:07.710825Z"
    }
   },
   "outputs": [
    {
     "data": {
      "text/plain": [
       "b'\\x80\\x03cislets.Regions\\nRegions\\nq\\x00)\\x81'          9877\n",
       "b'\\x80\\x03cRegions1\\nRegions\\nq\\x00)\\x81q\\x01}q\\x02('      88\n",
       "b'\\x80\\x03cislets.Regions1\\nRegions\\nq\\x00)'                7\n",
       "b'\\x80\\x03c__main__\\nRegions\\nq\\x00)\\x81q\\x01}q\\x02('       1\n",
       "Name: peek, dtype: int64"
      ]
     },
     "execution_count": 8,
     "metadata": {},
     "output_type": "execute_result"
    }
   ],
   "source": [
    "allpickles.peek.value_counts()"
   ]
  },
  {
   "cell_type": "code",
   "execution_count": 6,
   "metadata": {
    "ExecuteTime": {
     "end_time": "2020-12-16T09:46:38.729616Z",
     "start_time": "2020-12-16T09:46:38.715973Z"
    }
   },
   "outputs": [],
   "source": [
    "correctBeginning = allpickles.peek.value_counts().sort_values().index[-1]"
   ]
  },
  {
   "cell_type": "code",
   "execution_count": 7,
   "metadata": {
    "ExecuteTime": {
     "end_time": "2020-12-16T09:46:40.716941Z",
     "start_time": "2020-12-16T09:46:40.704441Z"
    }
   },
   "outputs": [],
   "source": [
    "remaining = allpickles[allpickles[\"peek\"]!=correctBeginning].copy()"
   ]
  },
  {
   "cell_type": "code",
   "execution_count": 8,
   "metadata": {
    "ExecuteTime": {
     "end_time": "2020-12-16T09:46:40.935600Z",
     "start_time": "2020-12-16T09:46:40.925172Z"
    }
   },
   "outputs": [],
   "source": [
    "syspath.append(\"/home/jupyter-srdjan/srdjan_functs/tmp/\")"
   ]
  },
  {
   "cell_type": "code",
   "execution_count": 9,
   "metadata": {
    "ExecuteTime": {
     "end_time": "2020-12-16T09:46:45.789790Z",
     "start_time": "2020-12-16T09:46:45.778279Z"
    }
   },
   "outputs": [],
   "source": [
    "syspath.append(\"/home/jupyter-srdjan/srdjan_functs/\")"
   ]
  },
  {
   "cell_type": "code",
   "execution_count": 14,
   "metadata": {
    "ExecuteTime": {
     "end_time": "2020-12-16T09:02:34.647496Z",
     "start_time": "2020-12-16T09:02:34.633732Z"
    }
   },
   "outputs": [
    {
     "data": {
      "text/plain": [
       "b'\\x80\\x03cRegions1\\nRegions\\nq\\x00)\\x81q\\x01}q\\x02('    88\n",
       "b'\\x80\\x03cislets.Regions1\\nRegions\\nq\\x00)'              7\n",
       "b'\\x80\\x03c__main__\\nRegions\\nq\\x00)\\x81q\\x01}q\\x02('     1\n",
       "Name: peek, dtype: int64"
      ]
     },
     "execution_count": 14,
     "metadata": {},
     "output_type": "execute_result"
    }
   ],
   "source": [
    "remaining.peek.value_counts()"
   ]
  },
  {
   "cell_type": "code",
   "execution_count": 16,
   "metadata": {
    "ExecuteTime": {
     "end_time": "2020-12-16T09:03:19.934212Z",
     "start_time": "2020-12-16T09:03:19.921011Z"
    }
   },
   "outputs": [
    {
     "data": {
      "text/plain": [
       "b'\\x80\\x03c__main__\\nRegions\\nq\\x00)\\x81q\\x01}q\\x02('"
      ]
     },
     "execution_count": 16,
     "metadata": {},
     "output_type": "execute_result"
    }
   ],
   "source": [
    "singleOutlier = remaining.peek.value_counts().index[-1]\n",
    "singleOutlier"
   ]
  },
  {
   "cell_type": "code",
   "execution_count": 23,
   "metadata": {
    "ExecuteTime": {
     "end_time": "2020-12-16T09:04:57.375452Z",
     "start_time": "2020-12-16T09:04:57.361492Z"
    }
   },
   "outputs": [],
   "source": [
    "pathToOutlier = remaining[remaining.peek==singleOutlier].iloc[0].path\n",
    "os.remove(pathToOutlier)\n",
    "assert not os.path.isfile(pathToOutlier)"
   ]
  },
  {
   "cell_type": "code",
   "execution_count": 30,
   "metadata": {
    "ExecuteTime": {
     "end_time": "2020-12-16T09:06:22.397487Z",
     "start_time": "2020-12-16T09:06:22.385374Z"
    }
   },
   "outputs": [],
   "source": [
    "remaining = remaining[remaining.peek!=singleOutlier]"
   ]
  },
  {
   "cell_type": "code",
   "execution_count": 11,
   "metadata": {
    "ExecuteTime": {
     "end_time": "2020-12-16T09:46:56.907872Z",
     "start_time": "2020-12-16T09:46:56.894818Z"
    }
   },
   "outputs": [
    {
     "data": {
      "text/plain": [
       "b'\\x80\\x03cRegions1\\nRegions\\nq\\x00)\\x81q\\x01}q\\x02('    19\n",
       "b'\\x80\\x03cislets.Regions1\\nRegions\\nq\\x00)'              7\n",
       "Name: peek, dtype: int64"
      ]
     },
     "execution_count": 11,
     "metadata": {},
     "output_type": "execute_result"
    }
   ],
   "source": [
    "remaining.peek.value_counts()"
   ]
  },
  {
   "cell_type": "code",
   "execution_count": 12,
   "metadata": {
    "ExecuteTime": {
     "end_time": "2020-12-16T09:47:11.202533Z",
     "start_time": "2020-12-16T09:47:11.189327Z"
    }
   },
   "outputs": [
    {
     "data": {
      "text/plain": [
       "b'\\x80\\x03cRegions1\\nRegions\\nq\\x00)\\x81q\\x01}q\\x02('"
      ]
     },
     "execution_count": 12,
     "metadata": {},
     "output_type": "execute_result"
    }
   ],
   "source": [
    "mostAbundant = remaining.peek.value_counts().index[0]\n",
    "mostAbundant"
   ]
  },
  {
   "cell_type": "code",
   "execution_count": 13,
   "metadata": {
    "ExecuteTime": {
     "end_time": "2020-12-16T09:47:14.086019Z",
     "start_time": "2020-12-16T09:47:13.180182Z"
    }
   },
   "outputs": [],
   "source": [
    "from islets.Regions import Regions\n",
    "from islets.utils import saveRois"
   ]
  },
  {
   "cell_type": "code",
   "execution_count": 14,
   "metadata": {
    "ExecuteTime": {
     "end_time": "2020-12-16T09:47:14.102775Z",
     "start_time": "2020-12-16T09:47:14.087573Z"
    }
   },
   "outputs": [],
   "source": [
    "done = []"
   ]
  },
  {
   "cell_type": "code",
   "execution_count": 15,
   "metadata": {
    "ExecuteTime": {
     "end_time": "2020-12-16T09:48:33.033981Z",
     "start_time": "2020-12-16T09:47:18.268623Z"
    }
   },
   "outputs": [
    {
     "data": {
      "application/vnd.jupyter.widget-view+json": {
       "model_id": "",
       "version_major": 2,
       "version_minor": 0
      },
      "text/plain": [
       "HBox(children=(HTML(value=''), FloatProgress(value=0.0, max=26.0), HTML(value='')))"
      ]
     },
     "metadata": {},
     "output_type": "display_data"
    },
    {
     "name": "stderr",
     "output_type": "stream",
     "text": [
      "/opt/tljh/user/envs/physio/lib/python3.7/site-packages/tensorflow/python/framework/dtypes.py:516: FutureWarning: Passing (type, 1) or '1type' as a synonym of type is deprecated; in a future version of numpy, it will be understood as (type, (1,)) / '(1,)type'.\n",
      "  _np_qint8 = np.dtype([(\"qint8\", np.int8, 1)])\n",
      "/opt/tljh/user/envs/physio/lib/python3.7/site-packages/tensorflow/python/framework/dtypes.py:517: FutureWarning: Passing (type, 1) or '1type' as a synonym of type is deprecated; in a future version of numpy, it will be understood as (type, (1,)) / '(1,)type'.\n",
      "  _np_quint8 = np.dtype([(\"quint8\", np.uint8, 1)])\n",
      "/opt/tljh/user/envs/physio/lib/python3.7/site-packages/tensorflow/python/framework/dtypes.py:518: FutureWarning: Passing (type, 1) or '1type' as a synonym of type is deprecated; in a future version of numpy, it will be understood as (type, (1,)) / '(1,)type'.\n",
      "  _np_qint16 = np.dtype([(\"qint16\", np.int16, 1)])\n",
      "/opt/tljh/user/envs/physio/lib/python3.7/site-packages/tensorflow/python/framework/dtypes.py:519: FutureWarning: Passing (type, 1) or '1type' as a synonym of type is deprecated; in a future version of numpy, it will be understood as (type, (1,)) / '(1,)type'.\n",
      "  _np_quint16 = np.dtype([(\"quint16\", np.uint16, 1)])\n",
      "/opt/tljh/user/envs/physio/lib/python3.7/site-packages/tensorflow/python/framework/dtypes.py:520: FutureWarning: Passing (type, 1) or '1type' as a synonym of type is deprecated; in a future version of numpy, it will be understood as (type, (1,)) / '(1,)type'.\n",
      "  _np_qint32 = np.dtype([(\"qint32\", np.int32, 1)])\n",
      "/opt/tljh/user/envs/physio/lib/python3.7/site-packages/tensorflow/python/framework/dtypes.py:525: FutureWarning: Passing (type, 1) or '1type' as a synonym of type is deprecated; in a future version of numpy, it will be understood as (type, (1,)) / '(1,)type'.\n",
      "  np_resource = np.dtype([(\"resource\", np.ubyte, 1)])\n",
      "/opt/tljh/user/envs/physio/lib/python3.7/site-packages/tensorboard/compat/tensorflow_stub/dtypes.py:541: FutureWarning: Passing (type, 1) or '1type' as a synonym of type is deprecated; in a future version of numpy, it will be understood as (type, (1,)) / '(1,)type'.\n",
      "  _np_qint8 = np.dtype([(\"qint8\", np.int8, 1)])\n",
      "/opt/tljh/user/envs/physio/lib/python3.7/site-packages/tensorboard/compat/tensorflow_stub/dtypes.py:542: FutureWarning: Passing (type, 1) or '1type' as a synonym of type is deprecated; in a future version of numpy, it will be understood as (type, (1,)) / '(1,)type'.\n",
      "  _np_quint8 = np.dtype([(\"quint8\", np.uint8, 1)])\n",
      "/opt/tljh/user/envs/physio/lib/python3.7/site-packages/tensorboard/compat/tensorflow_stub/dtypes.py:543: FutureWarning: Passing (type, 1) or '1type' as a synonym of type is deprecated; in a future version of numpy, it will be understood as (type, (1,)) / '(1,)type'.\n",
      "  _np_qint16 = np.dtype([(\"qint16\", np.int16, 1)])\n",
      "/opt/tljh/user/envs/physio/lib/python3.7/site-packages/tensorboard/compat/tensorflow_stub/dtypes.py:544: FutureWarning: Passing (type, 1) or '1type' as a synonym of type is deprecated; in a future version of numpy, it will be understood as (type, (1,)) / '(1,)type'.\n",
      "  _np_quint16 = np.dtype([(\"quint16\", np.uint16, 1)])\n",
      "/opt/tljh/user/envs/physio/lib/python3.7/site-packages/tensorboard/compat/tensorflow_stub/dtypes.py:545: FutureWarning: Passing (type, 1) or '1type' as a synonym of type is deprecated; in a future version of numpy, it will be understood as (type, (1,)) / '(1,)type'.\n",
      "  _np_qint32 = np.dtype([(\"qint32\", np.int32, 1)])\n",
      "/opt/tljh/user/envs/physio/lib/python3.7/site-packages/tensorboard/compat/tensorflow_stub/dtypes.py:550: FutureWarning: Passing (type, 1) or '1type' as a synonym of type is deprecated; in a future version of numpy, it will be understood as (type, (1,)) / '(1,)type'.\n",
      "  np_resource = np.dtype([(\"resource\", np.ubyte, 1)])\n"
     ]
    },
    {
     "name": "stdout",
     "output_type": "stream",
     "text": [
      "\n"
     ]
    }
   ],
   "source": [
    "for ix in tqdm(remaining.index):\n",
    "    row = remaining.loc[ix]\n",
    "    if row.peek!=mostAbundant: continue\n",
    "    if ix in done: continue\n",
    "    path = row.path\n",
    "    try:\n",
    "        with open(path,\"rb\") as f:\n",
    "            regions = pickle.load(f)\n",
    "        regions = Regions(regions)\n",
    "        regions.update()\n",
    "        saveRois(regions,\n",
    "                 os.path.split(path)[0],\n",
    "                 os.path.split(path)[1].split(\"_rois.pkl\")[0],\n",
    "                 add_date=False,\n",
    "                )\n",
    "        done += [ix]\n",
    "    except:\n",
    "        print (\"did not work for\", path)\n",
    "        print (str(exc_info()))"
   ]
  },
  {
   "cell_type": "code",
   "execution_count": 16,
   "metadata": {
    "ExecuteTime": {
     "end_time": "2020-12-16T09:48:33.073132Z",
     "start_time": "2020-12-16T09:48:33.035570Z"
    }
   },
   "outputs": [],
   "source": [
    "remaining.drop(index=done, inplace=True)"
   ]
  },
  {
   "cell_type": "code",
   "execution_count": 17,
   "metadata": {
    "ExecuteTime": {
     "end_time": "2020-12-16T09:48:33.203363Z",
     "start_time": "2020-12-16T09:48:33.074608Z"
    }
   },
   "outputs": [
    {
     "data": {
      "text/plain": [
       "b'\\x80\\x03cislets.Regions1\\nRegions\\nq\\x00)'    7\n",
       "Name: peek, dtype: int64"
      ]
     },
     "execution_count": 17,
     "metadata": {},
     "output_type": "execute_result"
    }
   ],
   "source": [
    "remaining.peek.value_counts()"
   ]
  },
  {
   "cell_type": "code",
   "execution_count": 19,
   "metadata": {
    "ExecuteTime": {
     "end_time": "2020-12-16T09:50:45.437001Z",
     "start_time": "2020-12-16T09:50:45.388485Z"
    }
   },
   "outputs": [],
   "source": [
    "done = []"
   ]
  },
  {
   "cell_type": "code",
   "execution_count": 24,
   "metadata": {
    "ExecuteTime": {
     "end_time": "2020-12-16T09:53:59.677800Z",
     "start_time": "2020-12-16T09:53:55.402873Z"
    }
   },
   "outputs": [
    {
     "data": {
      "application/vnd.jupyter.widget-view+json": {
       "model_id": "af1a01477d7f4eeda0fcf653c60effe2",
       "version_major": 2,
       "version_minor": 0
      },
      "text/plain": [
       "HBox(children=(HTML(value=''), FloatProgress(value=0.0, max=7.0), HTML(value='')))"
      ]
     },
     "metadata": {},
     "output_type": "display_data"
    },
    {
     "name": "stdout",
     "output_type": "stream",
     "text": [
      "\n"
     ]
    }
   ],
   "source": [
    "for ix in tqdm(remaining.index):\n",
    "    row = remaining.loc[ix]\n",
    "    if ix in done: continue\n",
    "    path = row.path\n",
    "    try:\n",
    "        with open(path,\"rb\") as f:\n",
    "            regions = pickle.load(f)\n",
    "        regions = Regions(regions)\n",
    "        regions.update()\n",
    "        saveRois(regions,\n",
    "                 os.path.split(path)[0],\n",
    "                 os.path.split(path)[1].split(\"_rois.pkl\")[0],\n",
    "                 add_date=False,\n",
    "                )\n",
    "        done += [ix]\n",
    "    except:\n",
    "        print (\"did not work for\", path)\n",
    "        print (str(exc_info()))\n",
    "        "
   ]
  },
  {
   "cell_type": "code",
   "execution_count": 25,
   "metadata": {
    "ExecuteTime": {
     "end_time": "2020-12-16T09:54:05.220439Z",
     "start_time": "2020-12-16T09:54:05.181414Z"
    }
   },
   "outputs": [],
   "source": [
    "remaining.drop(index=done, inplace=True)"
   ]
  },
  {
   "cell_type": "code",
   "execution_count": 26,
   "metadata": {
    "ExecuteTime": {
     "end_time": "2020-12-16T09:54:07.663261Z",
     "start_time": "2020-12-16T09:54:07.620810Z"
    }
   },
   "outputs": [
    {
     "data": {
      "text/html": [
       "<div>\n",
       "<style scoped>\n",
       "    .dataframe tbody tr th:only-of-type {\n",
       "        vertical-align: middle;\n",
       "    }\n",
       "\n",
       "    .dataframe tbody tr th {\n",
       "        vertical-align: top;\n",
       "    }\n",
       "\n",
       "    .dataframe thead th {\n",
       "        text-align: right;\n",
       "    }\n",
       "</style>\n",
       "<table border=\"1\" class=\"dataframe\">\n",
       "  <thead>\n",
       "    <tr style=\"text-align: right;\">\n",
       "      <th></th>\n",
       "      <th>path</th>\n",
       "      <th>raw time</th>\n",
       "      <th>size(MB)</th>\n",
       "      <th>peek</th>\n",
       "    </tr>\n",
       "  </thead>\n",
       "  <tbody>\n",
       "  </tbody>\n",
       "</table>\n",
       "</div>"
      ],
      "text/plain": [
       "Empty DataFrame\n",
       "Columns: [path, raw time, size(MB), peek]\n",
       "Index: []"
      ]
     },
     "execution_count": 26,
     "metadata": {},
     "output_type": "execute_result"
    }
   ],
   "source": [
    "remaining"
   ]
  },
  {
   "cell_type": "code",
   "execution_count": null,
   "metadata": {},
   "outputs": [],
   "source": []
  }
 ],
 "metadata": {
  "kernelspec": {
   "display_name": "Physio",
   "language": "python",
   "name": "physio"
  },
  "language_info": {
   "codemirror_mode": {
    "name": "ipython",
    "version": 3
   },
   "file_extension": ".py",
   "mimetype": "text/x-python",
   "name": "python",
   "nbconvert_exporter": "python",
   "pygments_lexer": "ipython3",
   "version": "3.7.8"
  },
  "toc": {
   "base_numbering": 1,
   "nav_menu": {},
   "number_sections": true,
   "sideBar": true,
   "skip_h1_title": false,
   "title_cell": "Table of Contents",
   "title_sidebar": "Contents",
   "toc_cell": false,
   "toc_position": {},
   "toc_section_display": true,
   "toc_window_display": false
  }
 },
 "nbformat": 4,
 "nbformat_minor": 4
}
