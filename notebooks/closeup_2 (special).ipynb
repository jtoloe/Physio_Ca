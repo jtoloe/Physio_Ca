{
 "cells": [
  {
   "cell_type": "code",
   "execution_count": null,
   "metadata": {
    "code_folding": []
   },
   "outputs": [],
   "source": [
    "## importing stuff\n",
    "import os\n",
    "import pickle\n",
    "from sys import path as syspath\n",
    "syspath.append(os.path.expanduser(\"~/srdjan_functs/\"))\n",
    "import javabridge\n",
    "from bioformats import JARS as bfJARS\n",
    "javabridge.start_vm(class_path=bfJARS, max_heap_size=\"20G\")\n",
    "import numpy as np\n",
    "import matplotlib.pyplot as plt\n",
    "\n",
    "%config InlineBackend.figure_format = 'retina'\n",
    "%load_ext autoreload\n",
    "%autoreload 2\n",
    "# %aimport islets\n",
    "\n",
    "from IPython.display import display\n",
    "import pandas as pd\n",
    "\n",
    "from islets.Recording import Recording, saveMovie\n",
    "from islets.Regions import Regions\n",
    "from islets.numeric import power_spectrum, rebin\n",
    "from islets.utils import show_movie, saveRois\n",
    "from islets.Regions import getPeak2BoundaryDF, getGraph_of_ROIs_to_Merge, mergeBasedOnGraph\n",
    "\n",
    "from caiman import movie as cmovie\n",
    "\n",
    "from matplotlib.colors import LogNorm"
   ]
  },
  {
   "cell_type": "code",
   "execution_count": null,
   "metadata": {
    "code_folding": []
   },
   "outputs": [],
   "source": [
    "# from copy import deepcopy\n",
    "fracSaturTh = .05\n",
    "# movieFreq = 2\n",
    "cmap = plt.cm.Greys\n",
    "cmap.set_bad(\"lime\")\n",
    "pd.set_option('display.max_rows', 100)"
   ]
  },
  {
   "cell_type": "code",
   "execution_count": null,
   "metadata": {},
   "outputs": [],
   "source": [
    "plt.rcParams[\"animation.embed_limit\"] = 200"
   ]
  },
  {
   "cell_type": "code",
   "execution_count": null,
   "metadata": {},
   "outputs": [],
   "source": [
    "recFile = \"/data/Johannes/2020_08_10/Experiment004h.nd2\""
   ]
  },
  {
   "cell_type": "code",
   "execution_count": null,
   "metadata": {},
   "outputs": [],
   "source": [
    "rec = Recording(recFile)\n",
    "rec.metadata"
   ]
  },
  {
   "cell_type": "code",
   "execution_count": null,
   "metadata": {},
   "outputs": [],
   "source": [
    "ser = rec.metadata.Name[0]\n",
    "# ser = \"all\""
   ]
  },
  {
   "cell_type": "code",
   "execution_count": null,
   "metadata": {},
   "outputs": [],
   "source": [
    "rec.metadata.loc[0,\"SizeT\"]/rec.metadata.loc[0,\"Frequency\"]/60"
   ]
  },
  {
   "cell_type": "code",
   "execution_count": null,
   "metadata": {},
   "outputs": [],
   "source": [
    "rec.import_series(ser, isLineScan=False, onlyMeta=False, \n",
    "#                   restrict=(0,5160)\n",
    "                 )"
   ]
  },
  {
   "cell_type": "code",
   "execution_count": null,
   "metadata": {},
   "outputs": [],
   "source": [
    "metadata = rec.Series[ser]['metadata']"
   ]
  },
  {
   "cell_type": "code",
   "execution_count": null,
   "metadata": {},
   "outputs": [],
   "source": [
    "movie = cmovie(rec.Series[ser]['data'],fr = metadata.Frequency)"
   ]
  },
  {
   "cell_type": "code",
   "execution_count": null,
   "metadata": {},
   "outputs": [],
   "source": [
    "movie.shape"
   ]
  },
  {
   "cell_type": "code",
   "execution_count": null,
   "metadata": {},
   "outputs": [],
   "source": [
    "movie.fr"
   ]
  },
  {
   "cell_type": "code",
   "execution_count": null,
   "metadata": {},
   "outputs": [],
   "source": [
    "5/metadata.pxSize"
   ]
  },
  {
   "cell_type": "code",
   "execution_count": null,
   "metadata": {},
   "outputs": [],
   "source": [
    "from islets.Regions import getPeak2BoundaryDF, getGraph_of_ROIs_to_Merge, mergeBasedOnGraph, plotRoi_to_be_connected"
   ]
  },
  {
   "cell_type": "code",
   "execution_count": null,
   "metadata": {},
   "outputs": [],
   "source": [
    "from islets.numeric import get_sep_th"
   ]
  },
  {
   "cell_type": "code",
   "execution_count": null,
   "metadata": {},
   "outputs": [],
   "source": [
    "from islets.Recording import saveMovie"
   ]
  },
  {
   "cell_type": "code",
   "execution_count": null,
   "metadata": {},
   "outputs": [],
   "source": [
    "saveMovie(movie[len(movie)*2//3:],\"embed\", maxFreq=1)"
   ]
  },
  {
   "cell_type": "code",
   "execution_count": null,
   "metadata": {},
   "outputs": [],
   "source": [
    "Nsatur = (movie==movie.max()).sum(0)"
   ]
  },
  {
   "cell_type": "code",
   "execution_count": null,
   "metadata": {},
   "outputs": [],
   "source": []
  },
  {
   "cell_type": "code",
   "execution_count": null,
   "metadata": {},
   "outputs": [],
   "source": [
    "toAnull = np.where(Nsatur>len(movie)*fracSaturTh)"
   ]
  },
  {
   "cell_type": "code",
   "execution_count": null,
   "metadata": {},
   "outputs": [],
   "source": [
    "movie[(slice(None), )+toAnull] = 0"
   ]
  },
  {
   "cell_type": "code",
   "execution_count": null,
   "metadata": {},
   "outputs": [],
   "source": [
    "dmovie = np.diff(movie)"
   ]
  },
  {
   "cell_type": "code",
   "execution_count": null,
   "metadata": {},
   "outputs": [],
   "source": [
    "from cv2 import GaussianBlur"
   ]
  },
  {
   "cell_type": "code",
   "execution_count": null,
   "metadata": {},
   "outputs": [],
   "source": [
    "# image = pc_low+pc_high\n",
    "# image = movie.mean(0)\n",
    "image = dmovie.std(0)\n",
    "image = GaussianBlur(image,(3,3),-1)"
   ]
  },
  {
   "cell_type": "code",
   "execution_count": null,
   "metadata": {},
   "outputs": [],
   "source": [
    "im_th = get_sep_th(image.flatten(),log=False,plot=True)"
   ]
  },
  {
   "cell_type": "code",
   "execution_count": null,
   "metadata": {},
   "outputs": [],
   "source": [
    "plt.imshow(movie.mean(0))"
   ]
  },
  {
   "cell_type": "code",
   "execution_count": null,
   "metadata": {},
   "outputs": [],
   "source": [
    "# 6/metadata.pxSize"
   ]
  },
  {
   "cell_type": "code",
   "execution_count": null,
   "metadata": {},
   "outputs": [],
   "source": [
    "regions = Regions(movie,\n",
    "                  gSig_filt=(4,5),\n",
    "                  diag=True,\n",
    "                  processes=1\n",
    "                 )"
   ]
  },
  {
   "cell_type": "code",
   "execution_count": null,
   "metadata": {},
   "outputs": [],
   "source": [
    "plt.figure(figsize=(10,10))\n",
    "ax = plt.subplot(111)\n",
    "regions.plotEdges(ax=ax)\n",
    "regions.plotPeaks(ax=ax)"
   ]
  },
  {
   "cell_type": "code",
   "execution_count": null,
   "metadata": {},
   "outputs": [],
   "source": [
    "# while True:\n",
    "#     maxSize = np.percentile(regions.df[\"size\"],80)\n",
    "#     sizeTh = maxSize/2\n",
    "#     peak2bnd = getPeak2BoundaryDF(regions.df)\n",
    "#     df = peak2bnd.query(\"dist<1.\")[[\"i\",\"j\"]]\n",
    "#     if len(df)==0: break\n",
    "#     df=df[df.i.isin(regions.df.loc[df.i].query(f\"size<{sizeTh}\").index)]\n",
    "#     df=df[df.j.isin(regions.df.loc[df.j].query(f\"size<{maxSize}\").index)]\n",
    "#     if len(df)==0: break\n",
    "#     plt.figure(figsize=(10,10))\n",
    "#     ax = plt.subplot(111)\n",
    "#     regions.plotEdges(ax=ax,imkw_args={\"cmap\":\"Greys\",\"vmax\":3}, color=\"blue\")\n",
    "#     regions.plotPeaks(ax=ax, color=\"darkred\")\n",
    "#     gRois = getGraph_of_ROIs_to_Merge(df,regions,plot=True, ax=ax)\n",
    "#     dropped = mergeBasedOnGraph(gRois,regions)\n",
    "#     plt.show()\n",
    "# #     if dropped == 0: break"
   ]
  },
  {
   "cell_type": "code",
   "execution_count": null,
   "metadata": {},
   "outputs": [],
   "source": [
    "# saveRois(\n",
    "#     regions, \n",
    "#     f\"{recFile}_analysis/{ser}\", \n",
    "#     filename=\"srdjan_handcurated\",\n",
    "#     col=[],\n",
    "#     formats=[\"vienna\"]\n",
    "#         )"
   ]
  },
  {
   "cell_type": "code",
   "execution_count": null,
   "metadata": {},
   "outputs": [],
   "source": [
    "# for sizeTh in range(2,6):\n",
    "#     if sum(regions.df['size']<sizeTh)<1: continue\n",
    "#     th = get_sep_th(regions.df.query(f\"size<{sizeTh}\").interest,log=True, plot=True)\n",
    "#     drop = regions.df.query(f\"size<{sizeTh} and interest<{th}\").index\n",
    "#     regions.df.drop(index=drop, inplace=True)\n",
    "#     regions.update()\n",
    "#     peak2bnd = getPeak2BoundaryDF(regions.df)\n",
    "#     df = peak2bnd.query(\"dist<1.\")[[\"i\",\"j\"]]\n",
    "#     # if len(df)==0: break\n",
    "#     df=df[df.i.isin(regions.df.loc[df.i].query(f\"size<{sizeTh}\").index)]\n",
    "#     gRois = getGraph_of_ROIs_to_Merge(df,regions,plot=True)\n",
    "#     dropped = mergeBasedOnGraph(gRois,regions)\n",
    "#     # if dropped == 0: break\n",
    "#     plt.show()"
   ]
  },
  {
   "cell_type": "markdown",
   "metadata": {
    "heading_collapsed": true
   },
   "source": [
    "#### import saved"
   ]
  },
  {
   "cell_type": "code",
   "execution_count": null,
   "metadata": {
    "hidden": true
   },
   "outputs": [],
   "source": [
    "pickleFilename = f\"{recFile}_analysis/{ser}/\"+[f for f in os.listdir(f\"{recFile}_analysis/{ser}\") if \"handcur\" in f][0]\n",
    "with open(pickleFilename, \"rb\") as f:\n",
    "    regions = pickle.load(f)"
   ]
  },
  {
   "cell_type": "code",
   "execution_count": null,
   "metadata": {
    "hidden": true
   },
   "outputs": [],
   "source": [
    "n0 = len(movie)//5\n",
    "regions.update(movie[n0:])"
   ]
  },
  {
   "cell_type": "code",
   "execution_count": null,
   "metadata": {
    "hidden": true
   },
   "outputs": [],
   "source": [
    "regions.Freq "
   ]
  },
  {
   "cell_type": "code",
   "execution_count": null,
   "metadata": {
    "hidden": true
   },
   "outputs": [],
   "source": [
    "regions.time[0]"
   ]
  },
  {
   "cell_type": "code",
   "execution_count": null,
   "metadata": {
    "hidden": true
   },
   "outputs": [],
   "source": [
    "regions.time += n0/regions.Freq "
   ]
  },
  {
   "cell_type": "markdown",
   "metadata": {},
   "source": [
    "### Rest"
   ]
  },
  {
   "cell_type": "code",
   "execution_count": null,
   "metadata": {},
   "outputs": [],
   "source": [
    "regions.update(movie[:len(movie)*3//4])"
   ]
  },
  {
   "cell_type": "code",
   "execution_count": null,
   "metadata": {},
   "outputs": [],
   "source": [
    "regions.calcTraces()"
   ]
  },
  {
   "cell_type": "code",
   "execution_count": null,
   "metadata": {},
   "outputs": [],
   "source": [
    "regions.import_protocol(f\"{recFile}_analysis/{ser}/\"+[f for f in os.listdir(f\"{recFile}_analysis/{ser}/\") if \"protocol\" in f][0])"
   ]
  },
  {
   "cell_type": "code",
   "execution_count": null,
   "metadata": {},
   "outputs": [],
   "source": [
    "for c in regions.df.columns:\n",
    "    if \"_\" in c:\n",
    "        del regions.df[c]\n",
    "\n",
    "try: del regions.showTime\n",
    "except: pass"
   ]
  },
  {
   "cell_type": "code",
   "execution_count": null,
   "metadata": {},
   "outputs": [],
   "source": [
    "for ts in [1,3,10,30,100,300]:\n",
    "    regions.fast_filter_traces(ts,)\n",
    "\n",
    "from scipy.stats import rankdata"
   ]
  },
  {
   "cell_type": "code",
   "execution_count": null,
   "metadata": {},
   "outputs": [],
   "source": [
    "regions.df[\"zInterest\"] = np.max([rankdata((np.vstack(regions.df[c])>3.5).mean(1)) \\\n",
    "                                  for c in regions.df.columns if \"zScore\" in c],axis=0)"
   ]
  },
  {
   "cell_type": "code",
   "execution_count": null,
   "metadata": {},
   "outputs": [],
   "source": [
    "regions.detrend_traces()"
   ]
  },
  {
   "cell_type": "code",
   "execution_count": null,
   "metadata": {},
   "outputs": [],
   "source": [
    "regions.examine2(\n",
    "    startShow=regions.df.sort_values(\"zInterest\", ascending=False).index[:200]\n",
    ")"
   ]
  },
  {
   "cell_type": "code",
   "execution_count": null,
   "metadata": {},
   "outputs": [],
   "source": [
    "regions.df.loc[486]"
   ]
  },
  {
   "cell_type": "code",
   "execution_count": null,
   "metadata": {},
   "outputs": [],
   "source": [
    "from islets.fitting import myShape, myLogNorm\n",
    "from collections import namedtuple\n",
    "from scipy.optimize import minimize"
   ]
  },
  {
   "cell_type": "code",
   "execution_count": null,
   "metadata": {},
   "outputs": [],
   "source": [
    "from islets.numeric import guessDecayPars"
   ]
  },
  {
   "cell_type": "code",
   "execution_count": null,
   "metadata": {},
   "outputs": [],
   "source": [
    "def toMin(x, t_, y_, shape=myShape):\n",
    "    yf_ = shape(t_,*x,fillnan=False)\n",
    "    return ((yf_-y_)**2).sum()"
   ]
  },
  {
   "cell_type": "code",
   "execution_count": null,
   "metadata": {},
   "outputs": [],
   "source": [
    "Parameters = namedtuple(\"Parameters\", ['decay', 'half_width', 'amplitude', 'loc', 'offset', 'end'])"
   ]
  },
  {
   "cell_type": "code",
   "execution_count": null,
   "metadata": {},
   "outputs": [],
   "source": [
    "for ts in [1,3,10,30,100,300]:\n",
    "#     regions.calc_peaks(ts, z_th=4, verbose=True, smooth=None)\n",
    "    regions.calc_peaks(ts)"
   ]
  },
  {
   "cell_type": "code",
   "execution_count": null,
   "metadata": {},
   "outputs": [],
   "source": [
    "# ALLPEAKS = []\n",
    "fig, axs = plt.subplots(2,3, figsize=(13,7), sharex=True, sharey=True)\n",
    "for ts,ax in zip([1,3,10,30,100,300], axs.flat):\n",
    "    df = regions.peaks[\"%g\"%ts].copy()\n",
    "    ax.hexbin(df[\"peak half-width [s]\"], df[\"peak height [z-score]\"], yscale=\"log\", xscale=\"log\", mincnt=1, gridsize=30, bins=\"log\")\n",
    "#     df[\"ts\"] = ts\n",
    "#     ALLPEAKS += [df]"
   ]
  },
  {
   "cell_type": "code",
   "execution_count": null,
   "metadata": {},
   "outputs": [],
   "source": [
    "ts = 10\n",
    "pdf = regions.peaks[\"%g\"%ts]"
   ]
  },
  {
   "cell_type": "code",
   "execution_count": null,
   "metadata": {},
   "outputs": [],
   "source": [
    "# %matplotlib inline\n",
    "%matplotlib notebook"
   ]
  },
  {
   "cell_type": "code",
   "execution_count": null,
   "metadata": {
    "code_folding": []
   },
   "outputs": [],
   "source": [
    "# fitting of trace\n",
    "fig, ax = plt.subplots(1,1,figsize=(9,4), sharex=True)\n",
    "ix = regions.df.sort_values(\"zInterest\", ascending=False).index[0]    \n",
    "y  = regions.df.loc[ix,\"trace\"].copy()\n",
    "ys =regions.df.loc[ix,\"slower_%g\"%ts].copy()\n",
    "t  = regions.time.copy()\n",
    "try:\n",
    "    tt = regions.showTime[\"%g\"%ts].copy()\n",
    "except:\n",
    "    tt = regions.time.copy()\n",
    "dtt = tt[1]-tt[0]\n",
    "nrb = int(dtt/regions.Freq)\n",
    "if nrb>1:\n",
    "    y = rebin(y, nrb)\n",
    "    t = rebin(t, nrb)\n",
    "dt = dtt/max(1,nrb)\n",
    "ax.plot(t, y, lw=.6)\n",
    "ax.plot(tt, ys, lw=.8)\n",
    "plt.tight_layout()\n",
    "\n",
    "ishow = 0\n",
    "for _,p in pdf.query(f\"roi=={ix}\").iterrows():\n",
    "    is0 = np.searchsorted(tt, p.t0-p[\"peak half-width [s]\"]*.5)\n",
    "    i0  = np.searchsorted(t , p.t0-p[\"peak half-width [s]\"]*.5,)\n",
    "    ie  = np.searchsorted(t , p.t0+p[\"peak half-width [s]\"]*2+1)\n",
    "    ycur = y[i0:ie]\n",
    "    tcur = t[i0:ie]\n",
    "    imax = np.argmax(ycur)\n",
    "#     ax.plot(tcur,ycur,\"C2.\", mfc=\"none\")\n",
    "    ax.plot(tcur[imax],ycur[imax],\"ko\")\n",
    "    \n",
    "    r = guessDecayPars(ycur[imax-1:ie])[-1]\n",
    "    pars0 = Parameters(decay=dt/r,\n",
    "                       half_width=p[\"peak half-width [s]\"]*.5,\n",
    "                       amplitude=ycur[imax-1:imax+1].mean()-ys[is0],\n",
    "                       loc=p.t0+p[\"peak half-width [s]\"]*.2,\n",
    "                       offset=ys[is0],\n",
    "                       end=ys[is0]\n",
    "                      )\n",
    "\n",
    "    y0 = myShape(tcur, *pars0)\n",
    "    plt.plot(tcur, y0,\"grey\",lw=.7)\n",
    "    try:\n",
    "        opt = minimize(toMin, np.array(pars0), args=(tcur,ycur))\n",
    "    except:\n",
    "        continue\n",
    "    yf,bkg = myShape(tcur,*opt.x, bkgsum=False)\n",
    "    y[i0:ie][np.isfinite(yf)] -= yf[np.isfinite(yf)]\n",
    "    plt.plot(tcur, yf+bkg, \"k\")\n",
    "    plt.plot(tcur, y[i0:ie], \"C1\",lw=.5)\n",
    "    \n",
    "    if ishow==0:\n",
    "        tmin = t[i0]-10\n",
    "    ishow += 1\n",
    "    if ishow>10: break\n",
    "plt.xlim(tmin, tcur[-1]+10)"
   ]
  },
  {
   "cell_type": "code",
   "execution_count": null,
   "metadata": {},
   "outputs": [],
   "source": [
    "x = y[i0:ie]+yf\n",
    "x -= x[:10].mean()\n",
    "plt.plot(tcur,x)\n",
    "plt.axvline(p.t0)\n",
    "plt.plot(tcur,myLogNorm(tcur,Ampl=1,loc=p.t0,s=1,scale=1))\n",
    "plt.plot(tcur,myLogNorm(tcur,Ampl=1,loc=p.t0,s=1,scale=1.003))\n",
    "plt.plot()"
   ]
  },
  {
   "cell_type": "code",
   "execution_count": null,
   "metadata": {},
   "outputs": [],
   "source": [
    "tr = np.linspace(0,10,1000)\n",
    "plt.plot(tr,myLogNorm(tr,Ampl=1,loc=1,s=1,scale=1))\n",
    "plt.plot(tr,myLogNorm(tr,Ampl=1,loc=1,s=.1,scale=1))\n",
    "plt.plot(tr,myLogNorm(tr,Ampl=1,loc=1,s=1,scale=2))\n",
    "plt.plot(tr,myLogNorm(tr,Ampl=1,loc=1,s=.2,scale=2))\n",
    "plt.grid()"
   ]
  },
  {
   "cell_type": "code",
   "execution_count": null,
   "metadata": {},
   "outputs": [],
   "source": [
    "ss = np.logspace(-1,.5,11)\n",
    "for i,s in enumerate(ss):\n",
    "    plt.plot(tr,myLogNorm(tr,Ampl=1,loc=1,s=s,scale=1, reshift=True), c=plt.cm.rainbow(i/len(ss)))\n",
    "# plt.xlim(0,3)\n",
    "plt.plot(tr,myLogNorm(tr,Ampl=1,loc=1,s=.2,scale=1),\"k--\")\n",
    "plt.yscale(\"log\")\n",
    "plt.ylim(1e-10,2)"
   ]
  },
  {
   "cell_type": "code",
   "execution_count": null,
   "metadata": {},
   "outputs": [],
   "source": [
    "ss = np.logspace(-1,.5,11)\n",
    "for i,s in enumerate(ss):\n",
    "    plt.plot(tr,myLogNorm(tr,Ampl=1,loc=1,s=.2,scale=s), c=plt.cm.rainbow(i/len(ss)))\n",
    "# plt.xlim(0,3)\n",
    "# plt.plot(tr,myLogNorm(tr,Ampl=1,loc=1,s=.2,scale=1),\"k--\")\n",
    "# plt.yscale(\"log\")\n",
    "# plt.ylim(1e-10,2)"
   ]
  },
  {
   "cell_type": "code",
   "execution_count": null,
   "metadata": {},
   "outputs": [],
   "source": [
    "hw = .7\n",
    "plt.plot(tr,myLogNorm(tr,Ampl=1,loc=1,scale=2*hw))\n",
    "plt.xlim(0,3)\n",
    "plt.axhline(.5)\n",
    "# plt.plot(tr,myLogNorm(tr,Ampl=1,loc=1,s=.2,scale=1),\"k--\")\n",
    "# plt.yscale(\"log\")\n",
    "# plt.ylim(1e-10,2)"
   ]
  },
  {
   "cell_type": "code",
   "execution_count": null,
   "metadata": {},
   "outputs": [],
   "source": [
    "LNParameters = namedtuple(\"Parameters\", ['loc', 'scale', 's', 'amplitude', 'offset', 'end'])"
   ]
  },
  {
   "cell_type": "code",
   "execution_count": null,
   "metadata": {},
   "outputs": [],
   "source": [
    "fitPars = pd.DataFrame(columns=['loc', 'scale', 's', 'amplitude', 'offset', 'end'])"
   ]
  },
  {
   "cell_type": "code",
   "execution_count": null,
   "metadata": {
    "code_folding": []
   },
   "outputs": [],
   "source": [
    "# fitting of trace with logNorm\n",
    "fig, ax = plt.subplots(1,1,figsize=(9,4), sharex=True)\n",
    "ix = regions.df.sort_values(\"zInterest\", ascending=False).index[0]    \n",
    "y  = regions.df.loc[ix,\"trace\"].copy()\n",
    "ys = regions.df.loc[ix,\"slower_%g\"%ts].copy()\n",
    "t  = regions.time.copy()\n",
    "try:\n",
    "    tt = regions.showTime[\"%g\"%ts].copy()\n",
    "except:\n",
    "    tt = regions.time.copy()\n",
    "\n",
    "dtt = tt[1]-tt[0]\n",
    "nrb = int(dtt/regions.Freq)\n",
    "if nrb>1:\n",
    "    y = rebin(y, nrb)\n",
    "    t = rebin(t, nrb)\n",
    "dt = dtt/max(1,nrb)\n",
    "ax.plot(t, y, lw=.6)\n",
    "ax.plot(tt, ys, lw=.8)\n",
    "plt.tight_layout()\n",
    "\n",
    "ishow = 0\n",
    "for ip,p in pdf.query(f\"roi=={ix}\").iterrows():\n",
    "    is0 = np.searchsorted(tt, p.t0-p[\"peak half-width [s]\"]*.5)\n",
    "    i0  = np.searchsorted(t , p.t0-p[\"peak half-width [s]\"]*.5,)\n",
    "    ie  = np.searchsorted(t , p.t0+p[\"peak half-width [s]\"]*2+1)\n",
    "    ycur = y[i0:ie]\n",
    "    tcur = t[i0:ie]\n",
    "    imax = np.argmax(ycur)\n",
    "#     ax.plot(tcur,ycur,\"C2.\", mfc=\"none\")\n",
    "    ax.plot(tcur[imax],ycur[imax],\"ko\")\n",
    "#     r = guessDecayPars(ycur[imax-1:ie])[-1]\n",
    "    pars0 = LNParameters(s=.2,\n",
    "                         scale=p[\"peak half-width [s]\"]*2,\n",
    "                         amplitude=ycur[imax-1:imax+1].mean()-ys[is0],\n",
    "                         loc=p.t0+p[\"peak half-width [s]\"]*.2,\n",
    "                         offset=ys[is0],\n",
    "                         end=ys[is0]\n",
    "                      )\n",
    "\n",
    "    y0 = myLogNorm(tcur, *pars0)\n",
    "    plt.plot(tcur, y0,\"grey\",lw=.7)\n",
    "    opt = minimize(toMin, np.array(pars0), args=(tcur,ycur,myLogNorm), bounds=[(pars0[j],pars0[j]) if j==2 else (None,None) for j in range(len(pars0))])\n",
    "    opt = minimize(toMin, np.array(pars0), args=(tcur,ycur,myLogNorm), bounds=[(pars0[j]*.5,pars0[j]*2) if j==2 else (None,None) for j in range(len(pars0))])\n",
    "    pars = LNParameters(*opt.x)\n",
    "#     try:\n",
    "#         opt = minimize(toMin, np.array(pars0), args=(tcur,ycur,myLogNorm))\n",
    "#     except:\n",
    "#         continue\n",
    "    yf,bkg = myLogNorm(tcur,*opt.x, bkgsum=False)\n",
    "    y[i0:ie][np.isfinite(yf)] -= yf[np.isfinite(yf)]\n",
    "    plt.plot(tcur, yf+bkg, \"k\")\n",
    "    plt.plot(tcur, y[i0:ie], \"C1\",lw=.5)\n",
    "    fitPars.loc[ip] = opt.x\n",
    "#     pdf.loc[[ip],\"fitPars\"] = [tuple(opt.x)]\n",
    "    if ishow==0:\n",
    "        tmin = t[i0]-10\n",
    "    ishow += 1\n",
    "#     if ishow>10: break\n",
    "plt.xlim(tmin, tcur[-1]+10)"
   ]
  },
  {
   "cell_type": "code",
   "execution_count": null,
   "metadata": {},
   "outputs": [],
   "source": [
    "fitPars"
   ]
  },
  {
   "cell_type": "code",
   "execution_count": null,
   "metadata": {},
   "outputs": [],
   "source": [
    "LNParameters(*opt.x)"
   ]
  },
  {
   "cell_type": "code",
   "execution_count": null,
   "metadata": {},
   "outputs": [],
   "source": [
    "pdf.loc[[ip],\"fitPars\"] = [range(len(pars0))]"
   ]
  },
  {
   "cell_type": "code",
   "execution_count": null,
   "metadata": {},
   "outputs": [],
   "source": [
    "plt.plot(tr,myLogNorm(tr,*pars0._replace(loc=1), fillnan=False))"
   ]
  },
  {
   "cell_type": "code",
   "execution_count": null,
   "metadata": {},
   "outputs": [],
   "source": [
    "p[\"ha\"] = 1"
   ]
  },
  {
   "cell_type": "code",
   "execution_count": null,
   "metadata": {},
   "outputs": [],
   "source": [
    "p"
   ]
  },
  {
   "cell_type": "code",
   "execution_count": null,
   "metadata": {},
   "outputs": [],
   "source": [
    "pdf"
   ]
  },
  {
   "cell_type": "code",
   "execution_count": null,
   "metadata": {},
   "outputs": [],
   "source": []
  },
  {
   "cell_type": "code",
   "execution_count": null,
   "metadata": {},
   "outputs": [],
   "source": []
  },
  {
   "cell_type": "code",
   "execution_count": null,
   "metadata": {},
   "outputs": [],
   "source": []
  },
  {
   "cell_type": "code",
   "execution_count": null,
   "metadata": {},
   "outputs": [],
   "source": [
    "p.update(dict(zip(pars0._asdict().keys(), opt.x)))"
   ]
  },
  {
   "cell_type": "code",
   "execution_count": null,
   "metadata": {},
   "outputs": [],
   "source": [
    "plt.plot(y0)"
   ]
  },
  {
   "cell_type": "code",
   "execution_count": null,
   "metadata": {},
   "outputs": [],
   "source": []
  },
  {
   "cell_type": "code",
   "execution_count": null,
   "metadata": {},
   "outputs": [],
   "source": []
  },
  {
   "cell_type": "code",
   "execution_count": null,
   "metadata": {},
   "outputs": [],
   "source": []
  },
  {
   "cell_type": "code",
   "execution_count": null,
   "metadata": {
    "code_folding": [
     0
    ]
   },
   "outputs": [],
   "source": [
    "# fitting of z\n",
    "ix = regions.df.sort_values(\"zInterest\", ascending=False).index[0]\n",
    "if \"zScore_%g\"%ts not in regions.df:\n",
    "    regions.fast_filter_traces(ts)\n",
    "    \n",
    "nrb = int(ts/regions.Freq)\n",
    "fig, axs = plt.subplots(2,1,figsize=(9,6), sharex=True)\n",
    "\n",
    "y = regions.df.loc[ix,\"trace\"].copy()\n",
    "ys =regions.df.loc[ix,\"slower_%g\"%ts].copy()\n",
    "z = regions.df.loc[ix,\"zScore_%g\"%ts].copy()\n",
    "t = regions.time.copy()\n",
    "try:\n",
    "    tt = regions.showTime[\"%g\"%ts].copy()\n",
    "except:\n",
    "    tt = regions.time.copy()\n",
    "if nrb>1:\n",
    "    y = rebin(y, nrb)\n",
    "    t = rebin(t, nrb)\n",
    "axs[0].plot(t, y, lw=.6)\n",
    "axs[0].plot(tt, ys, lw=.8)\n",
    "axs[1].plot(tt,z,\"-\", lw=.6)\n",
    "dtt = tt[1]-tt[0]\n",
    "plt.tight_layout()\n",
    "# plt.xlim(t[0]-1,2000)\n",
    "\n",
    "ishow = 0\n",
    "for _,p in pdf.query(f\"roi=={ix}\").iterrows():\n",
    "    i0 = np.searchsorted(tt,p.t0-1,)\n",
    "    ie = np.searchsorted(tt,p.t0+p[\"peak half-width [s]\"]*2+1)\n",
    "    zcur = z[i0:ie]\n",
    "    tcur = tt[i0:ie]\n",
    "    imax = np.argmax(zcur)\n",
    "    axs[1].plot(tcur,zcur,\"C2.\", mfc=\"none\")\n",
    "    axs[1].plot(tcur[imax],zcur[imax],\"ko\")\n",
    "    pars0 = Parameters(decay=dtt/guessDecayPars(zcur[imax-1:ie])[-1],\n",
    "                       half_width=p[\"peak half-width [s]\"]*.8,\n",
    "                       amplitude=z[i0:ie].max(),\n",
    "                       loc=p.t0,\n",
    "                       offset=0,\n",
    "                       end=0\n",
    "                      )\n",
    "\n",
    "    z0 = myShape(tcur, *pars0)\n",
    "    plt.plot(tcur, z0,\"grey\",lw=.7)\n",
    "    try:\n",
    "        opt = minimize(toMin, np.array(pars0), args=(tcur,zcur))\n",
    "    except:\n",
    "        continue\n",
    "    zf = myShape(tcur,*opt.x)\n",
    "    plt.plot(tcur, zf,\"k\")\n",
    "    if ishow==0:\n",
    "        tmin = tt[i0]-10\n",
    "    ishow += 1\n",
    "    if ishow>10: break\n",
    "plt.xlim(tmin, tcur[-1]+10)"
   ]
  },
  {
   "cell_type": "code",
   "execution_count": null,
   "metadata": {},
   "outputs": [],
   "source": [
    "from islets.numeric import guessDecayPars"
   ]
  },
  {
   "cell_type": "code",
   "execution_count": null,
   "metadata": {},
   "outputs": [],
   "source": []
  },
  {
   "cell_type": "code",
   "execution_count": null,
   "metadata": {},
   "outputs": [],
   "source": [
    "iHalf = i0+int(regions.Freq*(1+p[\"peak half-width [s]\"]))"
   ]
  },
  {
   "cell_type": "code",
   "execution_count": null,
   "metadata": {},
   "outputs": [],
   "source": [
    "pars = Parameters(*opt.x)"
   ]
  },
  {
   "cell_type": "code",
   "execution_count": null,
   "metadata": {},
   "outputs": [],
   "source": [
    "%matplotlib inline"
   ]
  },
  {
   "cell_type": "code",
   "execution_count": null,
   "metadata": {},
   "outputs": [],
   "source": [
    "plt.figure()\n",
    "plt.plot(tt[i0:ie],z[i0:ie],\"o\", mfc=\"none\")\n",
    "plt.plot(tt[iHalf],z[iHalf],\"x\", mfc=\"none\")"
   ]
  },
  {
   "cell_type": "code",
   "execution_count": null,
   "metadata": {},
   "outputs": [],
   "source": [
    "plt.plot(tt[i0:ie], myShape(tt[i0:ie], *pars),\"k\")\n",
    "plt.plot(tt[i0:ie], myShape(tt[i0:ie], *pars._replace(half_width=pars.half_width/2)))\n",
    "plt.plot(tt[i0:ie], myShape(tt[i0:ie], *pars._replace(decay=pars.decay*5)))\n",
    "plt.plot(tt[i0:ie], myShape(tt[i0:ie], *pars._replace(decay=pars.decay*5, half_width=pars.half_width*2.5)))\n",
    "# plt.ioff()"
   ]
  },
  {
   "cell_type": "code",
   "execution_count": null,
   "metadata": {},
   "outputs": [],
   "source": []
  },
  {
   "cell_type": "code",
   "execution_count": null,
   "metadata": {},
   "outputs": [],
   "source": []
  },
  {
   "cell_type": "code",
   "execution_count": null,
   "metadata": {},
   "outputs": [],
   "source": [
    "1/regions.Freq"
   ]
  },
  {
   "cell_type": "markdown",
   "metadata": {},
   "source": [
    "### Other playing"
   ]
  },
  {
   "cell_type": "code",
   "execution_count": null,
   "metadata": {},
   "outputs": [],
   "source": [
    "%matplotlib notebook"
   ]
  },
  {
   "cell_type": "code",
   "execution_count": null,
   "metadata": {},
   "outputs": [],
   "source": [
    "ix = 57\n",
    "coltype = \"zScore\"\n",
    "plt.figure(figsize=(10,4))\n",
    "it = 0\n",
    "for ts in [1,3,5,10,30]:\n",
    "    try: t = regions.showTime[\"%g\"%ts]\n",
    "    except: t = regions.time\n",
    "    y = regions.df.loc[ix,\"%s_%g\"%(coltype,ts)]\n",
    "    plt.plot(t, y+10*it,lw=.6)\n",
    "    it += 1"
   ]
  },
  {
   "cell_type": "code",
   "execution_count": null,
   "metadata": {},
   "outputs": [],
   "source": [
    "from islets.utils import autocorr"
   ]
  },
  {
   "cell_type": "code",
   "execution_count": null,
   "metadata": {},
   "outputs": [],
   "source": [
    "plt.figure(figsize=(5,4))\n",
    "for ts in [1,3,5,10,30]:\n",
    "    try: t = regions.showTime[\"%g\"%ts]\n",
    "    except: t = regions.time\n",
    "    dt = np.diff(t).mean()\n",
    "    x = np.arange(int(30/dt))\n",
    "    y = autocorr(regions.df.loc[ix,\"%s_%g\"%(coltype,ts)], x)\n",
    "    c = plt.plot(x*dt,y,label=ts)[0].get_color()\n",
    "    plt.plot([-1,x[np.argmin(y)]*dt],[y.min(), y.min()],c=c)\n",
    "    plt.plot(x[np.argmin(y)]*dt,y.min(),\"o\",c=c, mfc=\"w\")\n",
    "plt.legend()"
   ]
  },
  {
   "cell_type": "code",
   "execution_count": null,
   "metadata": {},
   "outputs": [],
   "source": [
    "ts = 3\n",
    "regions.calc_peaks(ts)\n",
    "pdf = regions.peaks[\"%g\"%ts]"
   ]
  },
  {
   "cell_type": "code",
   "execution_count": null,
   "metadata": {},
   "outputs": [],
   "source": [
    "# pdf.query(f\"roi=={ix}\")\n",
    "ix = 57\n",
    "nrb = 10\n",
    "plt.figure(figsize=(10,4))\n",
    "y = rebin(regions.df.loc[ix,\"trace\"],nrb).copy()\n",
    "t = rebin(regions.time, nrb)\n",
    "plt.plot(t, y, lw=.6)\n",
    "ishow = 0\n",
    "for _,p in pdf.query(f\"roi=={ix}\").iterrows():\n",
    "    i0 = np.searchsorted(t,p.t0-1,)\n",
    "    ie = np.searchsorted(t,p.t0+p[\"peak half-width [s]\"]+4,)\n",
    "#     break\n",
    "\n",
    "    offset = y[i0]\n",
    "#     scale = p[\"peak half-width [s]\"]\n",
    "    a = y[i0:ie].max()-offset\n",
    "#     yf = myLogNorm(t,\n",
    "#                       Ampl=a,\n",
    "#                       loc=p.t0, \n",
    "#                       scale=scale,\n",
    "#                        s=1,\n",
    "#                       offset=offset)\n",
    "    yf = myShape(t,loc=p.t0,decay=2.5,amplitude=a,half_width=p[\"peak half-width [s]\"],offset=offset)\n",
    "    plt.plot(t, yf,\"k\")\n",
    "    plt.plot(t, y-yf+offset,\"grey\")\n",
    "    ishow += 1\n",
    "    if ishow>10: break\n",
    "plt.xlim(t[0],t[ie]+30)"
   ]
  },
  {
   "cell_type": "code",
   "execution_count": null,
   "metadata": {},
   "outputs": [],
   "source": [
    "%matplotlib inline"
   ]
  },
  {
   "cell_type": "code",
   "execution_count": null,
   "metadata": {},
   "outputs": [],
   "source": [
    "def toMin(x):\n",
    "    yf_ = myShape(t[i0:ie],*x,fillnan=False)\n",
    "    return ((yf_-y[i0:ie])**2).sum()"
   ]
  },
  {
   "cell_type": "code",
   "execution_count": null,
   "metadata": {},
   "outputs": [],
   "source": [
    "x0 = np.array([\n",
    "    2.5,\n",
    "    p[\"peak half-width [s]\"],\n",
    "    a,\n",
    "    p[\"t0\"],\n",
    "    offset,\n",
    "])\n",
    "toMin(x0)"
   ]
  },
  {
   "cell_type": "code",
   "execution_count": null,
   "metadata": {},
   "outputs": [],
   "source": [
    "from scipy.optimize import minimize"
   ]
  },
  {
   "cell_type": "code",
   "execution_count": null,
   "metadata": {},
   "outputs": [],
   "source": [
    "opt = minimize(toMin,x0)"
   ]
  },
  {
   "cell_type": "code",
   "execution_count": null,
   "metadata": {},
   "outputs": [],
   "source": [
    "tr = np.linspace(t[i0],t[ie],1000)"
   ]
  },
  {
   "cell_type": "code",
   "execution_count": null,
   "metadata": {},
   "outputs": [],
   "source": [
    "plt.plot(t[i0:ie],y[i0:ie],\"o-\", mfc=\"w\")\n",
    "plt.axvline(p.t0,ls=\"--\")\n",
    "yshow = myShape(tr      ,loc=p.t0,decay=2.5,amplitude=a,half_width=p[\"peak half-width [s]\"],offset=offset, fillnan=False)\n",
    "yf0    = myShape(t[i0:ie],loc=p.t0,decay=2.5,amplitude=a,half_width=p[\"peak half-width [s]\"],offset=offset, fillnan=False)\n",
    "yf = myShape(tr,*opt.x, fillnan=False)\n",
    "plt.plot(tr, yshow,\"k\")\n",
    "# plt.plot(t[i0:ie], yf0,\"ko\", mfc=\"w\")\n",
    "plt.plot(tr,yf)\n",
    "# plt.plot(t, y-yf+offset,\"grey\")\n",
    "# plt.xlim(t[i0]-2,t[ie]+3)"
   ]
  },
  {
   "cell_type": "code",
   "execution_count": null,
   "metadata": {},
   "outputs": [],
   "source": []
  },
  {
   "cell_type": "code",
   "execution_count": null,
   "metadata": {},
   "outputs": [],
   "source": [
    "def toMin(x, t_, y_):\n",
    "    yf_ = myShape(t_,*x,fillnan=False)\n",
    "    return ((yf_-y_)**2).sum()"
   ]
  },
  {
   "cell_type": "code",
   "execution_count": null,
   "metadata": {},
   "outputs": [],
   "source": [
    "%matplotlib notebook"
   ]
  },
  {
   "cell_type": "code",
   "execution_count": null,
   "metadata": {},
   "outputs": [],
   "source": [
    "# pdf.query(f\"roi=={ix}\")\n",
    "ix = 57\n",
    "nrb = 10\n",
    "plt.figure(figsize=(10,4))\n",
    "y = rebin(regions.df.loc[ix,\"trace\"],nrb).copy()\n",
    "t = rebin(regions.time, nrb)\n",
    "plt.plot(t, y, lw=.6)\n",
    "ishow = 0\n",
    "for ip,p in pdf.query(f\"roi=={ix}\").iterrows():\n",
    "    \n",
    "#     if ishow>=20: break\n",
    "    i0 = np.searchsorted(t,p.t0-1,)\n",
    "    ie = np.searchsorted(t,p.t0+p[\"peak half-width [s]\"]+3,)\n",
    "    x0 = np.array([\n",
    "            2.5,                      # dacay\n",
    "            p[\"peak half-width [s]\"], # half width\n",
    "            y[i0:ie].max()-y[i0],     # ampl\n",
    "            p[\"t0\"],                  # loc\n",
    "            y[i0],                    # offset\n",
    "            y[i0],                    # end\n",
    "        ])\n",
    "    tr = np.linspace(t[i0],t[ie],100)\n",
    "    y0 = myShape(tr,*x0)\n",
    "    plt.plot(tr, y0, \"b\", lw=.7)\n",
    "    \n",
    "    try:\n",
    "        opt = minimize(toMin, x0, args=(t[i0:ie], y[i0:ie]))\n",
    "        ishow += 1\n",
    "    except:\n",
    "         continue\n",
    "    yf = myShape(tr,*opt.x)\n",
    "    plt.plot(tr, yf,\"C3\")\n",
    "    plt.plot(t[i0:ie], y[i0:ie]-myShape(t[i0:ie],*opt.x)+opt.x[-1],\"lightgrey\",lw=.5)\n",
    "#     print (ishow, opt.x)\n",
    "# plt.xlim(t[0],t[ie]+30)"
   ]
  },
  {
   "cell_type": "code",
   "execution_count": null,
   "metadata": {},
   "outputs": [],
   "source": [
    "# pdf.query(f\"roi=={ix}\")\n",
    "ix = 57\n",
    "ts = .5\n",
    "if \"zScore_%g\"%ts not in regions.df:\n",
    "    regions.fast_filter_traces(ts)\n",
    "    \n",
    "nrb = 1\n",
    "fig, axs = plt.subplots(2,1,figsize=(10,8))"
   ]
  },
  {
   "cell_type": "code",
   "execution_count": null,
   "metadata": {},
   "outputs": [],
   "source": [
    "y = regions.df.loc[ix,\"trace\"].copy()\n",
    "z = regions.df.loc[ix,\"zScore_%g\"%ts].copy()\n",
    "t = regions.time.copy()\n",
    "try:\n",
    "    tt = regions.showTime[\"%g\"%ts].copy()\n",
    "except:\n",
    "    tt = regions.time.copy()\n",
    "if nrb>1:\n",
    "    y = rebin(y, nrb)\n",
    "    t = rebin(t, nrb)\n",
    "axs[0].plot(t, y, lw=.6)\n",
    "axs[1].plot(tt,z)"
   ]
  },
  {
   "cell_type": "code",
   "execution_count": null,
   "metadata": {},
   "outputs": [],
   "source": [
    "from islets.numeric import power_spectrum"
   ]
  },
  {
   "cell_type": "code",
   "execution_count": null,
   "metadata": {},
   "outputs": [],
   "source": [
    "fqs,pw = power_spectrum(y,regions.Freq/nrb)"
   ]
  },
  {
   "cell_type": "code",
   "execution_count": null,
   "metadata": {},
   "outputs": [],
   "source": [
    "%matplotlib inline"
   ]
  },
  {
   "cell_type": "code",
   "execution_count": null,
   "metadata": {},
   "outputs": [],
   "source": [
    "plt.plot(rebin(fqs[fqs>1.5],20), rebin(np.abs(pw)[fqs>1.5],20))"
   ]
  },
  {
   "cell_type": "code",
   "execution_count": null,
   "metadata": {},
   "outputs": [],
   "source": []
  },
  {
   "cell_type": "code",
   "execution_count": null,
   "metadata": {},
   "outputs": [],
   "source": []
  },
  {
   "cell_type": "code",
   "execution_count": null,
   "metadata": {},
   "outputs": [],
   "source": []
  },
  {
   "cell_type": "code",
   "execution_count": null,
   "metadata": {},
   "outputs": [],
   "source": [
    "ishow = 0\n",
    "for ip,p in pdf.query(f\"roi=={ix}\").iterrows():\n",
    "    \n",
    "#     if ishow>=20: break\n",
    "    i0 = np.searchsorted(t,p.t0-1,)\n",
    "    ie = np.searchsorted(t,p.t0+p[\"peak half-width [s]\"]+3,)\n",
    "    x0 = np.array([\n",
    "            2.5,                      # dacay\n",
    "            p[\"peak half-width [s]\"], # half width\n",
    "            y[i0:ie].max()-y[i0],     # ampl\n",
    "            p[\"t0\"],                  # loc\n",
    "            y[i0],                    # offset\n",
    "            y[i0],                    # end\n",
    "        ])\n",
    "    tr = np.linspace(t[i0],t[ie],100)\n",
    "    y0 = myShape(tr,*x0)\n",
    "    plt.plot(tr, y0, \"b\", lw=.7)\n",
    "    \n",
    "    try:\n",
    "        opt = minimize(toMin, x0, args=(t[i0:ie], y[i0:ie]))\n",
    "        ishow += 1\n",
    "    except:\n",
    "         continue\n",
    "    yf = myShape(tr,*opt.x)\n",
    "    plt.plot(tr, yf,\"C3\")\n",
    "    plt.plot(t[i0:ie], y[i0:ie]-myShape(t[i0:ie],*opt.x)+opt.x[-1],\"lightgrey\",lw=.5)\n",
    "#     print (ishow, opt.x)\n",
    "# plt.xlim(t[0],t[ie]+30)"
   ]
  },
  {
   "cell_type": "code",
   "execution_count": null,
   "metadata": {},
   "outputs": [],
   "source": [
    "# tr = np.linspace(t[i0],t[ie],100)\n",
    "y0 = myShape(tr,*x0)"
   ]
  },
  {
   "cell_type": "code",
   "execution_count": null,
   "metadata": {},
   "outputs": [],
   "source": []
  },
  {
   "cell_type": "code",
   "execution_count": null,
   "metadata": {},
   "outputs": [],
   "source": []
  },
  {
   "cell_type": "code",
   "execution_count": null,
   "metadata": {},
   "outputs": [],
   "source": []
  },
  {
   "cell_type": "code",
   "execution_count": null,
   "metadata": {},
   "outputs": [],
   "source": []
  },
  {
   "cell_type": "code",
   "execution_count": null,
   "metadata": {},
   "outputs": [],
   "source": []
  },
  {
   "cell_type": "code",
   "execution_count": null,
   "metadata": {},
   "outputs": [],
   "source": []
  },
  {
   "cell_type": "code",
   "execution_count": null,
   "metadata": {},
   "outputs": [],
   "source": []
  },
  {
   "cell_type": "code",
   "execution_count": null,
   "metadata": {},
   "outputs": [],
   "source": []
  },
  {
   "cell_type": "code",
   "execution_count": null,
   "metadata": {},
   "outputs": [],
   "source": []
  },
  {
   "cell_type": "code",
   "execution_count": null,
   "metadata": {},
   "outputs": [],
   "source": []
  },
  {
   "cell_type": "code",
   "execution_count": null,
   "metadata": {},
   "outputs": [],
   "source": []
  },
  {
   "cell_type": "code",
   "execution_count": null,
   "metadata": {},
   "outputs": [],
   "source": []
  },
  {
   "cell_type": "markdown",
   "metadata": {
    "heading_collapsed": true
   },
   "source": [
    "### Check for wiggles"
   ]
  },
  {
   "cell_type": "code",
   "execution_count": null,
   "metadata": {
    "hidden": true
   },
   "outputs": [],
   "source": [
    "from islets.numeric import get_sep_th"
   ]
  },
  {
   "cell_type": "code",
   "execution_count": null,
   "metadata": {
    "hidden": true
   },
   "outputs": [],
   "source": [
    "th = get_sep_th(regions.df.peakValue.values, log=True, plot=True)"
   ]
  },
  {
   "cell_type": "code",
   "execution_count": null,
   "metadata": {
    "hidden": true
   },
   "outputs": [],
   "source": [
    "# x = np.vstack([movie[:,point[0],point[1]] for point in regions.df.sort_values(\"peakValue\",ascending=False).peak[:30]])\n",
    "x = np.vstack([rebMovie[:,point[0],point[1]] for point in regions.df.sort_values(\"peakValue\",ascending=False).peak[:30]])\n",
    "# x = np.vstack(regions.df.trace)\n",
    "# f,p = power_spectrum(x, fr=metadata.Frequency)\n",
    "f,p = power_spectrum(x, fr=rebMovie.fr)\n",
    "f,p = f[f>0.5],np.abs(p[f>0.5])"
   ]
  },
  {
   "cell_type": "code",
   "execution_count": null,
   "metadata": {
    "hidden": true
   },
   "outputs": [],
   "source": [
    "n = 1\n",
    "plt.plot(rebin(f,n),rebin(p,n))"
   ]
  },
  {
   "cell_type": "code",
   "execution_count": null,
   "metadata": {
    "hidden": true
   },
   "outputs": [],
   "source": [
    "plt.figure(figsize=(10,3))\n",
    "plt.plot(x[0])"
   ]
  },
  {
   "cell_type": "code",
   "execution_count": null,
   "metadata": {
    "hidden": true
   },
   "outputs": [],
   "source": [
    "i,j = regions.df.sort_values(\"peakValue\",ascending=False).peak.iloc[0]"
   ]
  },
  {
   "cell_type": "code",
   "execution_count": null,
   "metadata": {
    "hidden": true
   },
   "outputs": [],
   "source": [
    "plt.scatter(rebMovie[:,i,j],\n",
    "            rebMovie[:,i+0,j-1],\n",
    "            c=np.arange(len(rebMovie)),\n",
    "            s=.4)\n",
    "plt.gca().set_aspect(\"equal\")"
   ]
  },
  {
   "cell_type": "code",
   "execution_count": null,
   "metadata": {
    "hidden": true
   },
   "outputs": [],
   "source": []
  },
  {
   "cell_type": "code",
   "execution_count": null,
   "metadata": {
    "hidden": true
   },
   "outputs": [],
   "source": [
    "# f,p = power_spectrum(np.vstack(data[:,0]),fr=metadata.Frequency,mean=False)"
   ]
  },
  {
   "cell_type": "code",
   "execution_count": null,
   "metadata": {
    "hidden": true
   },
   "outputs": [],
   "source": [
    "# plt.boxplot(p[:,2:100],positions=f[2:100], showfliers=False);\n",
    "# plt.plot(f[2:],p.mean(0)[2:],lw=.6)\n",
    "# plt.xscale(\"symlog\")"
   ]
  },
  {
   "cell_type": "code",
   "execution_count": null,
   "metadata": {
    "hidden": true
   },
   "outputs": [],
   "source": [
    "# plt.plot(*sum([(f,pp) for pp in p[:10]],tuple()),lw=.3)"
   ]
  },
  {
   "cell_type": "markdown",
   "metadata": {
    "heading_collapsed": true
   },
   "source": [
    "### Experiment with filtering the whole movie"
   ]
  },
  {
   "cell_type": "code",
   "execution_count": null,
   "metadata": {
    "hidden": true
   },
   "outputs": [],
   "source": [
    "from islets.numeric import get_sep_th"
   ]
  },
  {
   "cell_type": "code",
   "execution_count": null,
   "metadata": {
    "hidden": true
   },
   "outputs": [],
   "source": [
    "th = get_sep_th(im.flatten(),log=True, plot=False)"
   ]
  },
  {
   "cell_type": "code",
   "execution_count": null,
   "metadata": {
    "hidden": true
   },
   "outputs": [],
   "source": [
    "r = rs[0]"
   ]
  },
  {
   "cell_type": "code",
   "execution_count": null,
   "metadata": {
    "hidden": true
   },
   "outputs": [],
   "source": [
    "r.update(movie)"
   ]
  },
  {
   "cell_type": "code",
   "execution_count": null,
   "metadata": {
    "hidden": true
   },
   "outputs": [],
   "source": [
    "r.Freq"
   ]
  },
  {
   "cell_type": "code",
   "execution_count": null,
   "metadata": {
    "hidden": true
   },
   "outputs": [],
   "source": [
    "r.fast_filter_traces(4,z_sp=0)"
   ]
  },
  {
   "cell_type": "code",
   "execution_count": null,
   "metadata": {
    "hidden": true
   },
   "outputs": [],
   "source": [
    "n = 256\n",
    "tmp = r.sosFilter.run(r.movie[:,:n,:n].reshape((r.movie.shape[0],-1)).T).T.reshape((-1,n,n))"
   ]
  },
  {
   "cell_type": "code",
   "execution_count": null,
   "metadata": {
    "hidden": true
   },
   "outputs": [],
   "source": [
    "n1,n2 = int(.55*len(tmp)), int(.551*len(tmp))\n",
    "print (r.time[n2]-r.time[n1])"
   ]
  },
  {
   "cell_type": "code",
   "execution_count": null,
   "metadata": {
    "hidden": true
   },
   "outputs": [],
   "source": [
    "# show_movie(tmp,)"
   ]
  },
  {
   "cell_type": "code",
   "execution_count": null,
   "metadata": {
    "hidden": true
   },
   "outputs": [],
   "source": [
    "np.percentile(tmp[n1:n2].flatten(),5)"
   ]
  },
  {
   "cell_type": "code",
   "execution_count": null,
   "metadata": {
    "hidden": true
   },
   "outputs": [],
   "source": [
    "tmp[n1:n2].min()"
   ]
  },
  {
   "cell_type": "code",
   "execution_count": null,
   "metadata": {
    "hidden": true
   },
   "outputs": [],
   "source": [
    "zMovie = (rebMovie[n1:n2]-tmp[n1:n2])/np.maximum(.04,tmp[n1:n2])**.5"
   ]
  },
  {
   "cell_type": "code",
   "execution_count": null,
   "metadata": {
    "hidden": true
   },
   "outputs": [],
   "source": [
    "plt.hist(zMovie.flatten(),100,log=True);"
   ]
  },
  {
   "cell_type": "code",
   "execution_count": null,
   "metadata": {
    "hidden": true
   },
   "outputs": [],
   "source": [
    "z = 1.5\n",
    "im = (zMovie>z).sum(0)-(zMovie<-z).sum(0)\n",
    "plt.imshow(im,cmap=\"bwr\", vmin=-np.abs(im).max(), vmax=np.abs(im).max())"
   ]
  },
  {
   "cell_type": "code",
   "execution_count": null,
   "metadata": {
    "hidden": true
   },
   "outputs": [],
   "source": [
    "\n",
    "# show_movie(\n",
    "#     zMovie,\n",
    "#     NTimeFrames=n2-n1,\n",
    "#     log=False, \n",
    "#     autoadjust=False,\n",
    "# #     out=\"save\",\n",
    "#     cmapArgs={\"cmap\":\"bwr\",\"vmin\":-3,\"vmax\":3}\n",
    "#           )"
   ]
  },
  {
   "cell_type": "code",
   "execution_count": null,
   "metadata": {
    "hidden": true
   },
   "outputs": [],
   "source": []
  },
  {
   "cell_type": "code",
   "execution_count": null,
   "metadata": {
    "hidden": true
   },
   "outputs": [],
   "source": []
  },
  {
   "cell_type": "code",
   "execution_count": null,
   "metadata": {
    "hidden": true
   },
   "outputs": [],
   "source": []
  },
  {
   "cell_type": "code",
   "execution_count": null,
   "metadata": {
    "hidden": true
   },
   "outputs": [],
   "source": []
  },
  {
   "cell_type": "code",
   "execution_count": null,
   "metadata": {
    "hidden": true
   },
   "outputs": [],
   "source": []
  },
  {
   "cell_type": "code",
   "execution_count": null,
   "metadata": {
    "hidden": true
   },
   "outputs": [],
   "source": []
  },
  {
   "cell_type": "code",
   "execution_count": null,
   "metadata": {
    "hidden": true
   },
   "outputs": [],
   "source": []
  },
  {
   "cell_type": "code",
   "execution_count": null,
   "metadata": {
    "hidden": true
   },
   "outputs": [],
   "source": []
  },
  {
   "cell_type": "code",
   "execution_count": null,
   "metadata": {
    "hidden": true
   },
   "outputs": [],
   "source": [
    "regions = Regions(rebMovie, diag=True, gSig_filt=(3,5))"
   ]
  },
  {
   "cell_type": "code",
   "execution_count": null,
   "metadata": {
    "hidden": true
   },
   "outputs": [],
   "source": [
    "fig,axs=plt.subplots(1,2,figsize=(13,6))\n",
    "for k,ax in zip([\"mean\",\"diff_std\"],axs):\n",
    "    ax.imshow(regions.statImages[k], norm=LogNorm())\n",
    "    regions.plotEdges(ax=ax,image=False)\n",
    "    regions.plotPeaks(ax=ax,image=False)"
   ]
  },
  {
   "cell_type": "code",
   "execution_count": null,
   "metadata": {
    "hidden": true
   },
   "outputs": [],
   "source": [
    "regions.update(movie)"
   ]
  },
  {
   "cell_type": "code",
   "execution_count": null,
   "metadata": {
    "hidden": true
   },
   "outputs": [],
   "source": [
    "regions.fast_filter_traces(10)"
   ]
  },
  {
   "cell_type": "code",
   "execution_count": null,
   "metadata": {
    "hidden": true
   },
   "outputs": [],
   "source": [
    "n = 10\n",
    "tmp = regions.sosFilter.run(regions.movie[:,:n,:n].reshape((regions.movie.shape[0],-1))).reshape((-1,n,n))"
   ]
  },
  {
   "cell_type": "code",
   "execution_count": null,
   "metadata": {
    "hidden": true
   },
   "outputs": [],
   "source": [
    "from islets.utils import show_movie"
   ]
  },
  {
   "cell_type": "code",
   "execution_count": null,
   "metadata": {
    "hidden": true
   },
   "outputs": [],
   "source": [
    "mshow = np.concatenate([\n",
    "    rebin(movie[:,:n,:n],1200),\n",
    "    rebin(tmp,1200),\n",
    "    rebin(movie[:,:n,:n]-tmp,1200)\n",
    "])"
   ]
  },
  {
   "cell_type": "code",
   "execution_count": null,
   "metadata": {
    "hidden": true
   },
   "outputs": [],
   "source": [
    "mshow  = cmovie(mshow,fr=movie.fr)"
   ]
  },
  {
   "cell_type": "code",
   "execution_count": null,
   "metadata": {
    "hidden": true
   },
   "outputs": [],
   "source": [
    "show_movie(mshow,\n",
    "#           additionalPlot=lambda ax_: regions.plotEdges(ax=ax_, image=False),\n",
    "#           log=False, \n",
    "          figScale=1,\n",
    "          NTimeFrames=len(mshow),\n",
    "#           out=\"save\"\n",
    "         )"
   ]
  },
  {
   "cell_type": "code",
   "execution_count": null,
   "metadata": {
    "hidden": true
   },
   "outputs": [],
   "source": [
    "regions.calcTraces()"
   ]
  },
  {
   "cell_type": "code",
   "execution_count": null,
   "metadata": {
    "hidden": true
   },
   "outputs": [],
   "source": [
    "regions.detrend_traces()"
   ]
  },
  {
   "cell_type": "code",
   "execution_count": null,
   "metadata": {
    "hidden": true
   },
   "outputs": [],
   "source": [
    "regions.infer_gain(plot=True)"
   ]
  },
  {
   "cell_type": "code",
   "execution_count": null,
   "metadata": {
    "hidden": true
   },
   "outputs": [],
   "source": [
    "regions.gain"
   ]
  },
  {
   "cell_type": "code",
   "execution_count": null,
   "metadata": {
    "hidden": true
   },
   "outputs": [],
   "source": [
    "regions.gain = 1"
   ]
  },
  {
   "cell_type": "code",
   "execution_count": null,
   "metadata": {
    "hidden": true
   },
   "outputs": [],
   "source": [
    "ts = 4\n",
    "regions.fast_filter_traces(ts)"
   ]
  },
  {
   "cell_type": "code",
   "execution_count": null,
   "metadata": {
    "hidden": true
   },
   "outputs": [],
   "source": [
    "x = np.vstack(regions.df[\"zScore_%g\"%ts])\n",
    "# x = rebin(x,100,1)\n",
    "plt.imshow(x>3, aspect=\"auto\")"
   ]
  },
  {
   "cell_type": "code",
   "execution_count": null,
   "metadata": {
    "hidden": true
   },
   "outputs": [],
   "source": [
    "regions.df.columns"
   ]
  },
  {
   "cell_type": "code",
   "execution_count": null,
   "metadata": {
    "hidden": true
   },
   "outputs": [],
   "source": [
    "regions.fast_filter_traces(10)"
   ]
  },
  {
   "cell_type": "code",
   "execution_count": null,
   "metadata": {
    "hidden": true
   },
   "outputs": [],
   "source": []
  }
 ],
 "metadata": {
  "kernelspec": {
   "display_name": "Physio",
   "language": "python",
   "name": "physio"
  },
  "language_info": {
   "codemirror_mode": {
    "name": "ipython",
    "version": 3
   },
   "file_extension": ".py",
   "mimetype": "text/x-python",
   "name": "python",
   "nbconvert_exporter": "python",
   "pygments_lexer": "ipython3",
   "version": "3.7.6"
  },
  "toc": {
   "base_numbering": 1,
   "nav_menu": {},
   "number_sections": true,
   "sideBar": true,
   "skip_h1_title": false,
   "title_cell": "Table of Contents",
   "title_sidebar": "Contents",
   "toc_cell": false,
   "toc_position": {
    "height": "calc(100% - 180px)",
    "left": "10px",
    "top": "150px",
    "width": "317.167px"
   },
   "toc_section_display": true,
   "toc_window_display": false
  },
  "varInspector": {
   "cols": {
    "lenName": 16,
    "lenType": 16,
    "lenVar": 40
   },
   "kernels_config": {
    "python": {
     "delete_cmd_postfix": "",
     "delete_cmd_prefix": "del ",
     "library": "var_list.py",
     "varRefreshCmd": "print(var_dic_list())"
    },
    "r": {
     "delete_cmd_postfix": ") ",
     "delete_cmd_prefix": "rm(",
     "library": "var_list.r",
     "varRefreshCmd": "cat(var_dic_list()) "
    }
   },
   "types_to_exclude": [
    "module",
    "function",
    "builtin_function_or_method",
    "instance",
    "_Feature"
   ],
   "window_display": false
  }
 },
 "nbformat": 4,
 "nbformat_minor": 4
}
