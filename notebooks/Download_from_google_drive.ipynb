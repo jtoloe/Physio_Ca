{
 "cells": [
  {
   "cell_type": "code",
   "execution_count": null,
   "id": "flying-creature",
   "metadata": {},
   "outputs": [],
   "source": [
    "# here you put the link to your file on google drive\n",
    "# be sure to make is \"public\", accessible by anyone with a link\n",
    "link_to_google_drive_file = \"https://drive.google.com/file/d/0B7vFkFDKX_GZaEZCWTVLWWg2T3c/view?usp=sharing\""
   ]
  },
  {
   "cell_type": "code",
   "execution_count": null,
   "id": "medical-begin",
   "metadata": {},
   "outputs": [],
   "source": [
    "# here you put the path to where you want to save it\n",
    "save_as = \"/data/Srdjan/temp/myfile2.lif\""
   ]
  },
  {
   "cell_type": "code",
   "execution_count": null,
   "id": "literary-council",
   "metadata": {},
   "outputs": [],
   "source": [
    "%run gdrive.py\n",
    "command = create_download_command(link_to_google_drive_file, save_as)"
   ]
  },
  {
   "cell_type": "code",
   "execution_count": null,
   "id": "fewer-roberts",
   "metadata": {},
   "outputs": [],
   "source": [
    "# finally, we run it.\n",
    "# There will be a lot of ourput (and that's ok),\n",
    "# and at the end there will be a progress bar.\n",
    "!{command}"
   ]
  },
  {
   "cell_type": "code",
   "execution_count": null,
   "id": "forty-destruction",
   "metadata": {},
   "outputs": [],
   "source": []
  }
 ],
 "metadata": {
  "kernelspec": {
   "display_name": "PhysioDev",
   "language": "python",
   "name": "physio_dev"
  },
  "language_info": {
   "codemirror_mode": {
    "name": "ipython",
    "version": 3
   },
   "file_extension": ".py",
   "mimetype": "text/x-python",
   "name": "python",
   "nbconvert_exporter": "python",
   "pygments_lexer": "ipython3",
   "version": "3.7.0"
  }
 },
 "nbformat": 4,
 "nbformat_minor": 5
}
