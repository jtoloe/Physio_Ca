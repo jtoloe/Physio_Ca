{
 "cells": [
  {
   "cell_type": "markdown",
   "metadata": {},
   "source": [
    "__Preambule__"
   ]
  },
  {
   "cell_type": "code",
   "execution_count": 1,
   "metadata": {
    "ExecuteTime": {
     "end_time": "2020-10-02T13:08:00.881045Z",
     "start_time": "2020-10-02T13:08:00.867956Z"
    }
   },
   "outputs": [
    {
     "data": {
      "text/html": [
       "<style>.container { width:100% !important; }</style>"
      ],
      "text/plain": [
       "<IPython.core.display.HTML object>"
      ]
     },
     "metadata": {},
     "output_type": "display_data"
    }
   ],
   "source": [
    "from IPython.core.display import display, HTML\n",
    "display(HTML(\"<style>.container { width:100% !important; }</style>\"))"
   ]
  },
  {
   "cell_type": "code",
   "execution_count": 2,
   "metadata": {
    "ExecuteTime": {
     "end_time": "2020-10-02T13:08:01.204709Z",
     "start_time": "2020-10-02T13:08:00.883114Z"
    }
   },
   "outputs": [],
   "source": [
    "%%capture\n",
    "from tqdm.notebook import tqdm\n",
    "tqdm().pandas()"
   ]
  },
  {
   "cell_type": "code",
   "execution_count": 3,
   "metadata": {
    "ExecuteTime": {
     "end_time": "2020-10-02T13:08:01.900819Z",
     "start_time": "2020-10-02T13:08:01.206598Z"
    },
    "code_folding": []
   },
   "outputs": [],
   "source": [
    "## importing stuff\n",
    "\n",
    "import json\n",
    "from collections import OrderedDict\n",
    "from copy import deepcopy\n",
    "\n",
    "import os\n",
    "import pickle\n",
    "from time import sleep\n",
    "from sys import path as syspath\n",
    "syspath.append(os.path.expanduser(\"~/srdjan_functs/\"))\n",
    "import javabridge\n",
    "from bioformats import JARS as bfJARS\n",
    "javabridge.start_vm(class_path=bfJARS, max_heap_size=\"20G\")\n",
    "# import numpy as np\n",
    "# import matplotlib.pyplot as plt\n",
    "# %config InlineBackend.figure_format = 'retina'\n",
    "%load_ext autoreload\n",
    "%autoreload 2\n",
    "from IPython.display import display\n",
    "import pandas as pd\n",
    "from islets.Recording import Recording, parse_leica\n",
    "from islets.utils import get_filterSizes\n",
    "from general_functions import td_nanfloor, td2str\n",
    "from copy import deepcopy\n",
    "\n",
    "from jupyter_plotly_dash import JupyterDash\n",
    "from dash.dependencies import Input, Output, State\n",
    "import dash_core_components as dcc\n",
    "import dash_html_components as html\n",
    "\n",
    "def cellTransform(cellvalue, id=None, verbose=False):\n",
    "    import numpy as np\n",
    "    \n",
    "    if issubclass(type(cellvalue),(bool,np.bool_)):\n",
    "        if verbose:\n",
    "            print (\"creating a checklist\")\n",
    "        out = dcc.Checklist(id=id,\n",
    "                             options=[{\"label\":\"✔\" if cellvalue else \"✘\",\"value\":None}],\n",
    "                             value=[None]*(1-int(cellvalue)),\n",
    "                             labelStyle={\n",
    "                                 \"color\":\"green\" if cellvalue else \"red\",\n",
    "#                                  \"padding\":\"3px\"\n",
    "                             }\n",
    "                            )\n",
    "#     elif issubclass(type(cellvalue),(dict,)):\n",
    "#         out = dcc.Checklist(id=id,\n",
    "#                              options=[{\"label\":(str(k).replace(\" \",\"\")+(\"✔\" if cellvalue[k] else \"✘\")), \"value\":k} for k in cellvalue],\n",
    "#                              value = [k for k in cellvalue if not cellvalue[k]],\n",
    "# #                              style={\"height\":\"10px\",},\n",
    "#                              labelStyle={\n",
    "#                                  \"width\":\"100px\",\n",
    "#                                  \"display\":\"block\"\n",
    "#                                         }\n",
    "#                             )\n",
    "    elif issubclass(type(cellvalue),(str,int,float,np.int_)):\n",
    "        out = cellvalue\n",
    "    else:\n",
    "        out = str(cellvalue)\n",
    "    return html.Div(out,style={\n",
    "                                 \"font-family\":\"monospace\",\n",
    "                                 \"font-size\":\"14px\",\n",
    "                             },)\n",
    "#     if issubclass(type(value),str):\n",
    "\n",
    "def mystyle(col):\n",
    "    return {\"border\":'thin lightgrey solid',\n",
    "            \"text-align\": \"left\" if \"pickle\" in col else None,\n",
    "            \"width\": {\n",
    "                \"Series Durations\":\"120px\",\n",
    "                \"Duration\":\"100px\",\n",
    "                \"pickles\":\"150px\",\n",
    "                \"exp\":\"150px\",\n",
    "                \"series\":\"150px\",\n",
    "                     }.get(col),\n",
    "           }\n",
    "\n",
    "def generate_table(dataframe, max_rows=100):\n",
    "    rows = []\n",
    "    for i in range(min(len(dataframe), max_rows)):\n",
    "        row = []\n",
    "        for col in dataframe.columns:\n",
    "            value = dataframe.iloc[i][col]\n",
    "#             row.append(html.Td(value if issubclass(type(value),str) else dcc.Checklist(options=[{\"label\":\"item\"}]),\n",
    "# #                                style=style\n",
    "#                               ))\n",
    "            row.append(html.Td(cellTransform(value, id=f\"table-{col}-{i}\"),\n",
    "                               style=mystyle(col),\n",
    "                              ))\n",
    "        rows.append(html.Tr(row,\n",
    "                            style={\"border\":'thin lightgrey solid'},\n",
    "#                             border='thin lightgrey solid' \n",
    "                           ))\n",
    "\n",
    "    return html.Table(\n",
    "        # Header\n",
    "        [html.Tr([html.Th(col, style=mystyle(col)) for col in dataframe.columns],\n",
    "                            style={\"border\":'thick lightgrey solid'},)] +\n",
    "        # Body\n",
    "        rows,\n",
    "        style={\n",
    "            \"width\": \"1300px\",\n",
    "            \"text-align\":\"right\",\n",
    "            \"table-layout\": \"fixed\"\n",
    "        }\n",
    "    ) "
   ]
  },
  {
   "cell_type": "code",
   "execution_count": 4,
   "metadata": {
    "ExecuteTime": {
     "end_time": "2020-10-02T13:08:01.933844Z",
     "start_time": "2020-10-02T13:08:01.903407Z"
    },
    "code_folding": []
   },
   "outputs": [],
   "source": [
    "def import_data(recordings,forceMetadataParse=False):\n",
    "    status = []\n",
    "    ilifs = 0\n",
    "    for pathToRecording in tqdm(recordings):\n",
    "        print (\"#\"*20, pathToRecording)\n",
    "        try:\n",
    "            rec = Recording(pathToRecording)\n",
    "            if forceMetadataParse:\n",
    "                rec.parse_metadata()\n",
    "                rec.save_metadata()\n",
    "        except:\n",
    "            continue\n",
    "        recType = \"Nikon\" if pathToRecording.endswith(\".nd2\") else \"Leica\"\n",
    "\n",
    "        if recType==\"Leica\":\n",
    "            sers = parse_leica(rec)\n",
    "        else:\n",
    "            sers = [\"all\"]\n",
    "\n",
    "        analysisFolder = os.path.join(rec.folder, rec.Experiment+\"_analysis\")\n",
    "    #     if not os.path.isdir(analysisFolder):\n",
    "    #         os.makedirs(analysisFolder)\n",
    "\n",
    "        for ser in sers:\n",
    "            md = pd.Series(dtype=object)\n",
    "            md[\"path\"] = pathToRecording\n",
    "            md[\"exp\"] = os.path.split(pathToRecording)[-1]\n",
    "            md[\"series\"] = ser\n",
    "            ser0 = \"-\".join(ser.split(\"-\")[:-1]) if \"-\" in ser else ser\n",
    "            md[\"line scan\"] = rec.metadata.query(f\"Name=='{ser0}'\").iloc[0].SizeY>3000\n",
    "            try:\n",
    "                rec.import_series(ser, onlyMeta=True, isLineScan=md[\"line scan\"])\n",
    "            except:\n",
    "                print (f\"could not import {ser}\")\n",
    "                status += [md]\n",
    "                continue\n",
    "            for k,v in rec.Series[ser][\"metadata\"].items():\n",
    "                md[k] = v\n",
    "                \n",
    "            saveDir = os.path.join(analysisFolder, ser)\n",
    "            for k in [\"bit depth\", \"Start time\", \"End time\",\"Name\"]: # , \"individual Series\"\n",
    "                try:    del md[k]\n",
    "                except: pass\n",
    "            md[\"Series Durations\"] = [\"%s [%s]\"%(r[\"Name\"].replace(\"Series\",\"S\"), td2str(td_nanfloor(r[\"Duration\"]))) for _,r in md[\"individual Series\"].iterrows()]\n",
    "            md[\"Series Durations\"] = \"\\n\".join(md[\"Series Durations\"])\n",
    "            del md[\"individual Series\"]\n",
    "            md[\"line scan\"] = md[\"SizeY\"]*md[\"pxSize\"]<3 # treat also this as a line scan\n",
    "            if not md[\"line scan\"]:\n",
    "                fs = get_filterSizes(md.pxSize)\n",
    "                movieFilename = os.path.join(saveDir, rec.Experiment+\"_\"+ser+\".mp4\")\n",
    "                md[\"movie\"] = os.path.isfile(movieFilename)\n",
    "                if md[\"movie\"]:\n",
    "                    md[\"movie size [MB]\"] = os.path.getsize(movieFilename)/10**6\n",
    "                pklsDone = {}\n",
    "                imgsDone = {}\n",
    "                for fsize in fs:\n",
    "                    pickleFile = os.path.join(saveDir, \".\".join(map(str,fsize))+\"_rois.pkl\")\n",
    "                    imageFile = os.path.join(saveDir, \".image_\"+\".\".join(map(str,fsize))+\".png\")\n",
    "                    pickleThere = os.path.isfile(pickleFile)\n",
    "                    imageThere = os.path.isfile(imageFile)\n",
    "                    pklsDone[fsize] = pickleThere\n",
    "                    imgsDone[fsize] = imageThere\n",
    "                md[\"pickles\"] = [pk if len(pk)>1 else pk[0] for pk in pklsDone.keys()]\n",
    "                md[\"(re)do pickles\"] = all(pklsDone.values())\n",
    "            status += [dict(md.items())]\n",
    "        ilifs +=1\n",
    "    #     if ilifs>3:\n",
    "    #         break\n",
    "\n",
    "    return pd.DataFrame(status)"
   ]
  },
  {
   "cell_type": "markdown",
   "metadata": {},
   "source": [
    "Enter Path to the folder you wish to process:"
   ]
  },
  {
   "cell_type": "code",
   "execution_count": 5,
   "metadata": {
    "ExecuteTime": {
     "end_time": "2020-10-02T13:08:02.166711Z",
     "start_time": "2020-10-02T13:08:01.935601Z"
    }
   },
   "outputs": [],
   "source": [
    "# mainFolder = \"/data/Johannes/2020_09_03/\"\n",
    "# mainFolder = \"/data/Marjan/MB2020_lifs_2/\"\n",
    "mainFolder = \"/data/Sandra/\"\n",
    "\n",
    "recordings = []\n",
    "for cur,ds,fs in os.walk(mainFolder):\n",
    "    #### if you wish to restrict to only certain folders: ####\n",
    "    if \"2019_08\" not in cur: continue\n",
    "    for f in fs:\n",
    "        if not (f.endswith(\".lif\")):# or f.endswith(\".nd2\")):\n",
    "            continue\n",
    "        path = os.path.join(cur,f)\n",
    "        recordings += [path]\n",
    "recordings = sorted(recordings)[1:2]"
   ]
  },
  {
   "cell_type": "code",
   "execution_count": 7,
   "metadata": {
    "ExecuteTime": {
     "end_time": "2020-10-02T13:08:06.728292Z",
     "start_time": "2020-10-02T13:08:06.016609Z"
    }
   },
   "outputs": [
    {
     "data": {
      "application/vnd.jupyter.widget-view+json": {
       "model_id": "a1a623f63dc64da0be192ceed921b76b",
       "version_major": 2,
       "version_minor": 0
      },
      "text/plain": [
       "HBox(children=(FloatProgress(value=0.0, max=1.0), HTML(value='')))"
      ]
     },
     "metadata": {},
     "output_type": "display_data"
    },
    {
     "name": "stdout",
     "output_type": "stream",
     "text": [
      "#################### /data/Sandra/2019/2019_08_09/Experiment27.lif\n",
      "\n"
     ]
    }
   ],
   "source": [
    "status_orig = import_data(recordings, forceMetadataParse=False)"
   ]
  },
  {
   "cell_type": "code",
   "execution_count": 8,
   "metadata": {
    "ExecuteTime": {
     "end_time": "2020-10-02T13:08:08.039915Z",
     "start_time": "2020-10-02T13:08:07.994583Z"
    }
   },
   "outputs": [],
   "source": [
    "status = deepcopy(status_orig)\n",
    "status.pxSize = status.pxSize.apply(\"{:.3f}\".format).astype(\"str\")\n",
    "for c in status.columns:\n",
    "    if \"Size\" in c and \"px\" not in c:\n",
    "        status[c.replace(\"Size\",\"\")] = status[c]\n",
    "        del status[c]\n",
    "\n",
    "status[\"location\"] = status.path.apply(lambda xi: os.path.split(xi)[0])\n",
    "status[\"Freq\"] = status[\"Frequency\"].apply(\"{:.1f}\".format).astype(\"str\")\n",
    "del status[\"Frequency\"]\n",
    "status[\"Duration\"] = status[\"Duration\"].apply(str).apply(lambda xi: xi.split()[-1].split(\".\")[0] )\n",
    "\n",
    "firstCols = [\"exp\", \"series\",\"movie\",\"Freq\",\"Duration\", \"movie size [MB]\", ]#,\"images\",]\n",
    "status = status[[c for c in firstCols if c in status]+[c for c in status.columns if c not in firstCols]]\n",
    "lastCols = [\"path\"]\n",
    "status = status[[c for c in status.columns if c not in lastCols]+lastCols]\n",
    "del status[\"pxUnit\"]\n",
    "del status[\"frame_range\"]\n",
    "try:\n",
    "    status[\"movie size [MB]\"] = status[\"movie size [MB]\"].round(1)\n",
    "except:\n",
    "    pass\n",
    "del status['gap']\n",
    "status.pickles = status.pickles.apply(lambda xi: str(xi)[1:-1].replace(\" \",\"\"))"
   ]
  },
  {
   "cell_type": "code",
   "execution_count": 9,
   "metadata": {
    "ExecuteTime": {
     "end_time": "2020-10-02T13:08:08.846296Z",
     "start_time": "2020-10-02T13:08:08.828340Z"
    },
    "scrolled": true
   },
   "outputs": [],
   "source": [
    "# status = status[~status[list(\"XYZT\")].isna().all(1)]\n",
    "# status = status[status.Z==1]"
   ]
  },
  {
   "cell_type": "code",
   "execution_count": 10,
   "metadata": {
    "ExecuteTime": {
     "end_time": "2020-10-02T13:08:09.331442Z",
     "start_time": "2020-10-02T13:08:09.314202Z"
    }
   },
   "outputs": [],
   "source": [
    "# status = status[~status[[\"movie\",\"(re)do pickles\"]].all(1)]"
   ]
  },
  {
   "cell_type": "code",
   "execution_count": 11,
   "metadata": {
    "ExecuteTime": {
     "end_time": "2020-10-02T13:08:09.540656Z",
     "start_time": "2020-10-02T13:08:09.522088Z"
    }
   },
   "outputs": [],
   "source": [
    "# status = status[~status.exp.apply(lambda xi: xi.endswith(\"nd2\"))]"
   ]
  },
  {
   "cell_type": "code",
   "execution_count": 22,
   "metadata": {
    "ExecuteTime": {
     "end_time": "2020-10-02T13:10:01.682503Z",
     "start_time": "2020-10-02T13:10:01.661019Z"
    }
   },
   "outputs": [],
   "source": [
    "# status[\"line scan\"] = status[\"line scan\"].astype(int)\n",
    "del status[\"line scan\"]"
   ]
  },
  {
   "cell_type": "code",
   "execution_count": 23,
   "metadata": {
    "ExecuteTime": {
     "end_time": "2020-10-02T13:10:02.680720Z",
     "start_time": "2020-10-02T13:10:02.665549Z"
    }
   },
   "outputs": [],
   "source": [
    "# status = status[status_orig.Duration>pd.Timedelta(\"30s\")]"
   ]
  },
  {
   "cell_type": "code",
   "execution_count": 32,
   "metadata": {
    "ExecuteTime": {
     "end_time": "2020-10-02T13:13:39.478740Z",
     "start_time": "2020-10-02T13:13:39.373065Z"
    },
    "code_folding": [
     29
    ],
    "scrolled": false
   },
   "outputs": [
    {
     "data": {
      "text/html": [
       "open the following link in a different tab (do not close this tab!): <a href=\"https://ctn.physiologie.meduniwien.ac.at/user/srdjan/app/endpoints/6401fc5373114de69123c752ae40fc6e/\">https://ctn.physiologie.meduniwien.ac.at/user/srdjan/app/endpoints/6401fc5373114de69123c752ae40fc6e/</a>"
      ],
      "text/plain": [
       "<IPython.core.display.HTML object>"
      ]
     },
     "execution_count": 32,
     "metadata": {},
     "output_type": "execute_result"
    }
   ],
   "source": [
    "nshow = len(status)\n",
    "htmltable = generate_table(status.iloc[:nshow,:-2], max_rows=nshow)\n",
    "ixOrder = OrderedDict([(f\"table-{col}-{i}\",{\"col\":col,\"index\":i}) \\\n",
    "                       for i in range(nshow) for col in [\"movie\",\"(re)do pickles\"] if isinstance(status.loc[i,col],bool)])\n",
    "\n",
    "app = JupyterDash(__name__, width=1000)\n",
    "\n",
    "app.layout = html.Div([\n",
    "    html.Div(\"Please check which of the following series you wish processed into movies/pickles. When done, please click on the button and follow instructions.\"),\n",
    "    html.Br(),\n",
    "    html.Button(id=\"save\",children=[\"Prepare script\"],n_clicks=0),\n",
    "    html.Div(id=\"output\"),\n",
    "    html.Button(id=\"check-all\",children=[\"Check all\"],n_clicks=0),\n",
    "    html.Div(htmltable,style={\"width\":\"1000px\"}),\n",
    "    html.Pre(id=\"marked\",children=\"------------\",\n",
    "             style={\n",
    "                \"width\": \"700px\",\n",
    "                \"height\": \"300px\",\n",
    "                'overflowX': 'scroll',\n",
    "                'overflowY': 'scroll',\n",
    "                \"display\": \"block\" if \"srdjan\" in os.getcwd() else \"none\",\n",
    "            }),\n",
    "],style={\"font-family\":\"Arial\"})\n",
    "\n",
    "\n",
    "@app.callback(\n",
    "    Output(\"marked\",\"children\"),\n",
    "    [Input(k,\"value\") for k in ixOrder]\n",
    ")\n",
    "def see(*manyinputs):\n",
    "    print (manyinputs)\n",
    "    out = deepcopy(ixOrder)\n",
    "    for k,v in zip(out, manyinputs):\n",
    "        out[k][\"value\"] = v\n",
    "    out = list(out.values())\n",
    "    \n",
    "    for el in out:\n",
    "        el[\"value\"] = bool(len(el[\"value\"]))\n",
    "        i = status.index[el[\"index\"]]\n",
    "        el[\"rec\"] = status.loc[i,\"path\"]\n",
    "        el[\"ser\"] = status.loc[i,\"series\"]\n",
    "    out = pd.DataFrame(out)\n",
    "    output = \"\"\n",
    "    checklist_parse = []\n",
    "    for (rec,ser),ddf in out.groupby([\"rec\",\"ser\"]):\n",
    "        el = {\"rec\":rec,\"ser\":ser}\n",
    "        el[\"movie\"] = ddf.query(\"col=='movie'\")[\"value\"].iloc[0]\n",
    "        el[\"pickles\"] = ddf.query(\"col=='(re)do pickles'\")[\"value\"].iloc[0]\n",
    "        checklist_parse += [el]\n",
    "    checklist_parse = pd.DataFrame(checklist_parse)\n",
    "    #################################### good begin\n",
    "    \n",
    "    for rec in checklist_parse.rec.unique():\n",
    "        outFile = \"/.\".join(os.path.split(rec))+\".out\"\n",
    "        output += f\"rm {outFile}\\n\"\n",
    "    for _,row in checklist_parse.iterrows():\n",
    "        if not row[[\"movie\",\"pickles\"]].any():\n",
    "            continue\n",
    "        outFile = \"/.\".join(os.path.split(row.rec))+\".out\"\n",
    "        line = \"\"\n",
    "        line += f\"rm {outFile}\\n\"\n",
    "        for _ in range(2):\n",
    "            line += f'''echo \"\" >> {outFile}\\n'''\n",
    "        line += f'''echo \"###### processing of {row.ser} started at: $(date)\" >> {outFile}\\n'''\n",
    "#         line += f'''time notebooks/process_single_1.py --recording=\"{row.rec}\" --series=\"{row.ser}\" --verbose'''\n",
    "        line += f'''time /data/useful_notebooks/process_single.py --recording=\"{row.rec}\" --series=\"{row.ser}\" --verbose'''\n",
    "        if not row.movie:\n",
    "            line += \" --leave-movie\"\n",
    "        if not row.pickles:\n",
    "            line += \" --leave-pickles\"\n",
    "        line += f\" >> {outFile}\"\n",
    "        output += line+\"\\n\"\n",
    "    #################################### good end\n",
    "    \n",
    "    return output\n",
    "\n",
    "@app.callback(\n",
    "    [Output(k,\"value\") for k in ixOrder],\n",
    "    [Input(\"check-all\",\"n_clicks\")]\n",
    ")\n",
    "def checkall(nc):\n",
    "    if nc>0:\n",
    "        return tuple([[None] for k in  ixOrder])\n",
    "\n",
    "@app.callback(\n",
    "    Output(\"output\",\"children\"),\n",
    "    [Input(\"save\",\"n_clicks\")],\n",
    "    [State(\"marked\",\"children\")]\n",
    ")\n",
    "def prepare_script(n_clicks, text):\n",
    "    if n_clicks>0:\n",
    "        with open(os.path.expanduser(\"~/processing_script.sh\"),\"w\") as f:\n",
    "            f.write(text)\n",
    "        return dcc.Markdown(\"\"\"`processing_script.sh` prepared in your home folder.\n",
    "\n",
    "Just open new terminal and run: `bash processing_script.sh` \n",
    "\n",
    "You can then close the window and wait until the processing is finished. \n",
    "\n",
    "_(For now, there is no reallyt good way how to follow progress, sorry. You can try the cell below...)_\n",
    "\"\"\")\n",
    "\n",
    "app._repr_html_() \n",
    "link2app = \"https://ctn.physiologie.meduniwien.ac.at\"+app.get_app_root_url()\n",
    "HTML(f'open the following link in a different tab (do not close this tab!): <a href=\"{link2app}\">{link2app}</a>')\n",
    "# app"
   ]
  },
  {
   "cell_type": "code",
   "execution_count": null,
   "metadata": {},
   "outputs": [],
   "source": []
  },
  {
   "cell_type": "code",
   "execution_count": 26,
   "metadata": {
    "ExecuteTime": {
     "end_time": "2020-09-28T08:30:00.935341Z",
     "start_time": "2020-09-28T08:29:59.928999Z"
    }
   },
   "outputs": [
    {
     "name": "stdout",
     "output_type": "stream",
     "text": [
      "   Experiment47a.lif     Series053    0%\n",
      "                         Series054  100%\n",
      "--------------------------------------------------\n",
      "   Experiment47b.lif     Series003  100%\n",
      "                         Series004  100%\n",
      "                         Series005  100%\n",
      "                         Series006  100%\n",
      "                         Series007  100%\n",
      "--------------------------------------------------\n",
      "   Experiment47c.lif     Series003  100%\n",
      "                         Series004  100%\n",
      "                         Series005  100%\n",
      "                         Series011    0%\n",
      "--------------------------------------------------\n",
      "   Experiment47d.lif     Series003  100%\n",
      "                         Series004  100%\n",
      "                         Series005  100%\n",
      "                         Series006  100%\n",
      "                         Series007  100%\n",
      "                         Series008    0%\n",
      "--------------------------------------------------\n",
      "   Experiment47e.lif     Series007  100%\n",
      "                         Series008  100%\n",
      "                         Series009  100%\n",
      "                         Series010  100%\n",
      "                         Series011  100%\n",
      "--------------------------------------------------\n",
      "   Experiment47f.lif     Series007  100%\n",
      "                         Series008  100%\n",
      "                         Series009  100%\n",
      "                         Series010  100%\n",
      "--------------------------------------------------\n",
      "   Experiment48d.lif     Series001  100%\n",
      "--------------------------------------------------\n",
      "   Experiment51a.lif     Series010    0%\n",
      "                         Series016    0%\n",
      "--------------------------------------------------\n",
      "   Experiment56d.lif     Series006   25%\n",
      "--------------------------------------------------\n",
      "   Experiment56e.lif     Series001  100%\n",
      "--------------------------------------------------\n",
      "   Experiment63a.lif     Series001  100%\n",
      "                         Series002    0%\n",
      "                         Series003  100%\n",
      "                       Series004-7  100%\n",
      "                       Series008-9  100%\n",
      "                         Series010  100%\n",
      "--------------------------------------------------\n",
      "   Experiment63b.lif     Series004  100%\n",
      "--------------------------------------------------\n",
      "   Experiment63d.lif  Series004-12  100%\n",
      "--------------------------------------------------\n",
      "   Experiment64f.lif     Series002  100%\n",
      "--------------------------------------------------\n",
      "   Experiment67a.lif  Series009-12  100%\n",
      "--------------------------------------------------\n",
      "   Experiment67c.lif     Series039  100%\n",
      "                         Series040    0%\n",
      "                         Series042  100%\n",
      "--------------------------------------------------\n",
      "   Experiment68b.lif     Series001  100%\n",
      "--------------------------------------------------\n"
     ]
    }
   ],
   "source": [
    "# Hacky way to check progress\n",
    "for exp,df in status.groupby(\"exp\"):\n",
    "    printExp = True\n",
    "    for i,row in df.iterrows():\n",
    "        assert (status.loc[i].iloc[:2] == status_orig.loc[i,[\"exp\",\"series\"]]).all()\n",
    "        images = [f\".image_{'%i.%i'%fs if isinstance(fs,tuple) else fs}.png\" for fs in status_orig.loc[i,\"pickles\"]]\n",
    "        serDir = f\"{row.path}_analysis/{row.series}\"\n",
    "        if os.path.isdir(serDir):\n",
    "            imDone = sum([el in images for el in os.listdir(serDir)])\n",
    "        else:\n",
    "            imDone = 0\n",
    "        outPutFile = row.path.replace(row.exp, \".\"+row.exp+\".out\")\n",
    "        percDone = 100/len(images)*imDone\n",
    "    #     if percDone>=100: continue\n",
    "        print (\"%20s %13s  %3i%%\"%(row.exp if printExp else \"\", row.series, percDone))#, outPutFile, os.path.isfile(outPutFile))\n",
    "    #     if os.path.isfile(outPutFile):\n",
    "    #         output = open(outPutFile).read()\n",
    "    #         last = output#-1]\n",
    "    #         last = \"\\n\".join([\"\\t\"+l for l in last.splitlines()])\n",
    "    #         last += \"\\n\"\n",
    "    #         print(last)\n",
    "\n",
    "    #     break\n",
    "        printExp = False\n",
    "    print (\"-\"*50)"
   ]
  },
  {
   "cell_type": "code",
   "execution_count": null,
   "metadata": {},
   "outputs": [],
   "source": []
  }
 ],
 "metadata": {
  "kernelspec": {
   "display_name": "Physio",
   "language": "python",
   "name": "physio"
  },
  "language_info": {
   "codemirror_mode": {
    "name": "ipython",
    "version": 3
   },
   "file_extension": ".py",
   "mimetype": "text/x-python",
   "name": "python",
   "nbconvert_exporter": "python",
   "pygments_lexer": "ipython3",
   "version": "3.7.8"
  },
  "toc": {
   "base_numbering": 1,
   "nav_menu": {},
   "number_sections": true,
   "sideBar": true,
   "skip_h1_title": false,
   "title_cell": "Table of Contents",
   "title_sidebar": "Contents",
   "toc_cell": false,
   "toc_position": {},
   "toc_section_display": true,
   "toc_window_display": false
  },
  "varInspector": {
   "cols": {
    "lenName": 16,
    "lenType": 16,
    "lenVar": 40
   },
   "kernels_config": {
    "python": {
     "delete_cmd_postfix": "",
     "delete_cmd_prefix": "del ",
     "library": "var_list.py",
     "varRefreshCmd": "print(var_dic_list())"
    },
    "r": {
     "delete_cmd_postfix": ") ",
     "delete_cmd_prefix": "rm(",
     "library": "var_list.r",
     "varRefreshCmd": "cat(var_dic_list()) "
    }
   },
   "types_to_exclude": [
    "module",
    "function",
    "builtin_function_or_method",
    "instance",
    "_Feature"
   ],
   "window_display": false
  }
 },
 "nbformat": 4,
 "nbformat_minor": 4
}
