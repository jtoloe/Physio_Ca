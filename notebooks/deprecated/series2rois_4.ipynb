{
 "cells": [
  {
   "cell_type": "markdown",
   "metadata": {},
   "source": [
    "Enter Path to the folder you wish to process:"
   ]
  },
  {
   "cell_type": "code",
   "execution_count": 1,
   "metadata": {
    "ExecuteTime": {
     "end_time": "2020-09-11T11:37:57.050050Z",
     "start_time": "2020-09-11T11:37:56.464063Z"
    }
   },
   "outputs": [],
   "source": [
    "mainFolder = \"/data/Johannes/2020_09_03/\"\n",
    "# mainFolder = \"/data/Marjan/MB2020_lifs_1/\"\n",
    "\n",
    "## importing stuff\n",
    "import os\n",
    "import pickle\n",
    "from sys import path as syspath\n",
    "syspath.append(os.path.expanduser(\"~/srdjan_functs/\"))\n",
    "import javabridge\n",
    "from bioformats import JARS as bfJARS\n",
    "javabridge.start_vm(class_path=bfJARS, max_heap_size=\"20G\")\n",
    "# import numpy as np\n",
    "# import matplotlib.pyplot as plt\n",
    "# %config InlineBackend.figure_format = 'retina'\n",
    "%load_ext autoreload\n",
    "%autoreload 2\n",
    "from IPython.display import display\n",
    "import pandas as pd\n",
    "from islets.Recording import Recording, parse_leica\n",
    "from islets.utils import get_filterSizes"
   ]
  },
  {
   "cell_type": "code",
   "execution_count": 2,
   "metadata": {
    "ExecuteTime": {
     "end_time": "2020-09-11T11:37:58.104680Z",
     "start_time": "2020-09-11T11:37:58.090309Z"
    }
   },
   "outputs": [],
   "source": [
    "recordings = []\n",
    "for cur,ds,fs in os.walk(mainFolder):\n",
    "    for f in fs:\n",
    "        if not (f.endswith(\".lif\") or f.endswith(\".nd2\")):\n",
    "            continue\n",
    "        path = os.path.join(cur,f)\n",
    "        recordings += [path]\n",
    "recordings = sorted(recordings)"
   ]
  },
  {
   "cell_type": "code",
   "execution_count": 3,
   "metadata": {
    "ExecuteTime": {
     "end_time": "2020-09-11T11:38:05.646747Z",
     "start_time": "2020-09-11T11:38:05.468716Z"
    },
    "scrolled": false
   },
   "outputs": [
    {
     "name": "stdout",
     "output_type": "stream",
     "text": [
      "#################### /data/Johannes/2020_09_03/Experiment007a.lif\n",
      "#################### /data/Johannes/2020_09_03/Experiment007b.lif\n",
      "#################### /data/Johannes/2020_09_03/Experiment007c.lif\n",
      "#################### /data/Johannes/2020_09_03/Experiment007d.lif\n",
      "#################### /data/Johannes/2020_09_03/Experiment007e.lif\n"
     ]
    }
   ],
   "source": [
    "status = []\n",
    "ilifs = 0\n",
    "for pathToRecording in recordings:\n",
    "    print (\"#\"*20, pathToRecording)\n",
    "    rec = Recording(pathToRecording)\n",
    "    recType = \"Nikon\" if pathToRecording.endswith(\".nd2\") else \"Leica\"\n",
    "\n",
    "    if recType==\"Leica\":\n",
    "        sers = parse_leica(rec)\n",
    "    else:\n",
    "        sers = [\"all\"]\n",
    "\n",
    "    analysisFolder = os.path.join(rec.folder, rec.Experiment+\"_analysis\")\n",
    "#     if not os.path.isdir(analysisFolder):\n",
    "#         os.makedirs(analysisFolder)\n",
    "        \n",
    "    for ser in sers:\n",
    "        md = pd.Series()\n",
    "        md[\"path\"] = pathToRecording\n",
    "        md[\"exp\"] = os.path.split(pathToRecording)[-1]\n",
    "        md[\"series\"] = ser\n",
    "        try:\n",
    "            rec.import_series(ser, onlyMeta=True)\n",
    "        except:\n",
    "            print (f\"could not import {ser}\")\n",
    "            status += [md]\n",
    "            continue\n",
    "            \n",
    "        saveDir = os.path.join(analysisFolder, ser)\n",
    "        for k,v in rec.Series[ser][\"metadata\"].items(): md[k] = v\n",
    "        fs = get_filterSizes(md.pxSize)\n",
    "#         md[\"filter sizes\"] = fs\n",
    "        movieFilename = os.path.join(saveDir, rec.Experiment+\"_\"+ser+\".mp4\")\n",
    "        md[\"movie\"] = os.path.isfile(movieFilename)\n",
    "        if md[\"movie\"]:\n",
    "            md[\"movie size\"] = os.path.getsize(movieFilename)\n",
    "        for k in [\"bit depth\", \"Start time\", \"End time\", \"individual Series\",\"Name\"]:\n",
    "            try:    del md[k]\n",
    "            except: pass\n",
    "        pklsDone = {}\n",
    "        imgsDone = {}\n",
    "        for fsize in fs:\n",
    "            pickleFile = os.path.join(saveDir, \".\".join(map(str,fsize))+\"_rois.pkl\")\n",
    "            imageFile = os.path.join(saveDir, \".image_\"+\".\".join(map(str,fsize))+\".png\")\n",
    "            pickleThere = os.path.isfile(pickleFile)\n",
    "            imageThere = os.path.isfile(imageFile)\n",
    "#             if pickleThere:\n",
    "#                 purge = True\n",
    "#                 try:\n",
    "#                     with open(pickleFile,\"rb\") as f:\n",
    "#                         rr = pickle.load(f)\n",
    "#                     purge = \"trace\" not in rr.df.columns\n",
    "#                     if not purge: lastGood = pickleFile\n",
    "#                 except:\n",
    "#                     purge = True\n",
    "#                 if purge:\n",
    "#                     os.remove(pickleFile)\n",
    "#                     if imageThere: os.remove(imageFile)\n",
    "            pklsDone[fsize] = pickleThere\n",
    "            imgsDone[fsize] = imageThere\n",
    "        md[\"pickles\"] = pklsDone\n",
    "        md[\"images\"] = pklsDone\n",
    "#         md[\"allDone\"] = np.array(list(pklsDone.values())).all() and md[\"movie done\"]\n",
    "        status += [dict(md.items())]\n",
    "    ilifs +=1\n",
    "#     if ilifs>3:\n",
    "#         break\n",
    "\n",
    "status = pd.DataFrame(status)"
   ]
  },
  {
   "cell_type": "code",
   "execution_count": 4,
   "metadata": {
    "ExecuteTime": {
     "end_time": "2020-09-11T11:38:13.112376Z",
     "start_time": "2020-09-11T11:38:13.088710Z"
    }
   },
   "outputs": [],
   "source": [
    "for c in status.columns:\n",
    "    if \"Size\" in c:\n",
    "        status[c.replace(\"Size\",\"\")] = status[c]\n",
    "        del status[c]\n",
    "\n",
    "status[\"location\"] = status.path.apply(lambda xi: os.path.split(xi)[0])\n",
    "\n",
    "status[\"Duration\"] = status[\"Duration\"].apply(str).apply(lambda xi: xi.split()[-1].split(\".\")[0] )\n",
    "\n",
    "firstCols = [\"exp\", \"series\",\"movie\",\"pickles\",\"images\",]\n",
    "status = status[firstCols+[c for c in status.columns if c not in firstCols]]\n",
    "\n",
    "lastCols = [\"path\"]\n",
    "status = status[[c for c in status.columns if c not in lastCols]+lastCols]\n",
    "\n",
    "del status[\"pxUnit\"]"
   ]
  },
  {
   "cell_type": "code",
   "execution_count": 5,
   "metadata": {
    "ExecuteTime": {
     "end_time": "2020-09-11T11:38:22.335322Z",
     "start_time": "2020-09-11T11:38:21.773408Z"
    }
   },
   "outputs": [],
   "source": [
    "from jupyter_plotly_dash import JupyterDash\n",
    "from dash.dependencies import Input, Output, State\n",
    "import dash_core_components as dcc\n",
    "import dash_html_components as html"
   ]
  },
  {
   "cell_type": "code",
   "execution_count": 10,
   "metadata": {
    "ExecuteTime": {
     "end_time": "2020-09-11T11:39:19.986469Z",
     "start_time": "2020-09-11T11:39:19.963643Z"
    }
   },
   "outputs": [],
   "source": [
    "def cellTransform(cellvalue, id=None):\n",
    "    import numpy as np\n",
    "#     print (type(cellvalue))\n",
    "    if issubclass(type(cellvalue),(str,int,float,np.int_)):\n",
    "        out = cellvalue\n",
    "    elif issubclass(type(cellvalue),(bool,np.bool_)):\n",
    "        out = dcc.Checklist(id=id,\n",
    "                             options=[{\"label\":\"✔\" if cellvalue else \"✘\",\"value\":None}],\n",
    "                             value=[None]*(1-int(cellvalue)),\n",
    "                             labelStyle={\"color\":\"green\" if cellvalue else \"red\"}\n",
    "                            )\n",
    "    elif issubclass(type(cellvalue),(dict,)):\n",
    "        out = dcc.Checklist(id=id,\n",
    "                             options=[{\"label\":(str(k).replace(\" \",\"\")+(\"✔\" if cellvalue[k] else \"✘\")), \"value\":k} for k in cellvalue],\n",
    "                             value = [k for k in cellvalue if not cellvalue[k]],\n",
    "#                              style={\"height\":\"10px\",},\n",
    "                             labelStyle={\n",
    "                                 \"width\":\"100px\",\n",
    "                                 \"display\":\"block\"\n",
    "                                        }\n",
    "                            )\n",
    "    else:\n",
    "        out = str(cellvalue)\n",
    "    return html.Div(out,style={\n",
    "                                 \"font-family\":\"monospace\",\n",
    "                                 \"font-size\":\"14px\",\n",
    "                             },)\n",
    "#     if issubclass(type(value),str):"
   ]
  },
  {
   "cell_type": "code",
   "execution_count": 11,
   "metadata": {
    "ExecuteTime": {
     "end_time": "2020-09-11T11:39:21.259915Z",
     "start_time": "2020-09-11T11:39:21.239550Z"
    }
   },
   "outputs": [],
   "source": [
    "def generate_table(dataframe, max_rows=100):\n",
    "    rows = []\n",
    "    for i in range(min(len(dataframe), max_rows)):\n",
    "        row = []\n",
    "        for col in dataframe.columns:\n",
    "            value = dataframe.iloc[i][col]\n",
    "#             row.append(html.Td(value if issubclass(type(value),str) else dcc.Checklist(options=[{\"label\":\"item\"}]),\n",
    "# #                                style=style\n",
    "#                               ))\n",
    "            row.append(html.Td(cellTransform(value, id=f\"table-{col}-{i}\")))\n",
    "        rows.append(html.Tr(row))\n",
    "\n",
    "    return html.Table(\n",
    "        # Header\n",
    "        [html.Tr([html.Th(col) for col in dataframe.columns])] +\n",
    "\n",
    "        # Body\n",
    "        rows) "
   ]
  },
  {
   "cell_type": "code",
   "execution_count": 8,
   "metadata": {
    "ExecuteTime": {
     "end_time": "2020-09-11T11:38:27.575847Z",
     "start_time": "2020-09-11T11:38:27.557612Z"
    }
   },
   "outputs": [],
   "source": [
    "import json\n",
    "from collections import OrderedDict\n",
    "from copy import deepcopy"
   ]
  },
  {
   "cell_type": "code",
   "execution_count": 12,
   "metadata": {
    "ExecuteTime": {
     "end_time": "2020-09-11T11:39:23.466926Z",
     "start_time": "2020-09-11T11:39:23.404171Z"
    }
   },
   "outputs": [
    {
     "data": {
      "text/html": [
       "<div>\n",
       "  <iframe src=\"/user/srdjan/app/endpoints/34d81db7de4f4e7fb4530bf4ea0b24ae/\" width=1000 height=600 frameborder=\"0\"></iframe>\n",
       "  <hr/><a href=\"/user/srdjan/app/endpoints/34d81db7de4f4e7fb4530bf4ea0b24ae/\" target=\"_new\">Open in new window</a> for /user/srdjan/app/endpoints/34d81db7de4f4e7fb4530bf4ea0b24ae/\n",
       "</div>"
      ],
      "text/plain": [
       "<jupyter_plotly_dash.dash_wrapper.JupyterDash at 0x7f2ccbe6acd0>"
      ]
     },
     "execution_count": 12,
     "metadata": {},
     "output_type": "execute_result"
    }
   ],
   "source": [
    "htmltable = generate_table(status.iloc[:,:-1])\n",
    "\n",
    "app = JupyterDash(__name__, width=1000)\n",
    "\n",
    "app.layout = html.Div([\n",
    "    html.H1(\"Table\"),\n",
    "    html.Div(htmltable,style={\"width\":\"1000px\"}),\n",
    "    html.Br(),\n",
    "    html.Div(id=\"marked\",children=\"------------\",),\n",
    "],style={\"font-family\":\"Arial\"})\n",
    "# app.scripts.append_css({'external_url': 'https://codepen.io/chriddyp/pen/bWLwgP.css'})\n",
    "\n",
    "ixOrder = OrderedDict([(f\"table-{col}-{i}\",{\"col\":col,\"index\":i}) \\\n",
    "        for col in [\"movie\",\"pickles\",\"images\"]\\\n",
    "        for i in status.index])\n",
    "@app.callback(\n",
    "    Output(\"marked\",\"children\"),\n",
    "    [Input(k,\"value\") for k in ixOrder]\n",
    ")\n",
    "def see(*manyinputs):\n",
    "    print (manyinputs)\n",
    "    out = deepcopy(ixOrder)\n",
    "    for k,v in zip(out, manyinputs):\n",
    "        out[k][\"value\"] = v\n",
    "#     return json.dumps(dict(zip(ixOrder.keys(),manyinputs)), indent=2)\n",
    "#     return html.Div(json.dumps(out, indent=2), \n",
    "#              style={\n",
    "#             \"font-family\":\"Courier New\",\n",
    "#             \"font-size\":\"80%\",\n",
    "#             'border': 'thin lightgrey solid',\n",
    "#             \"width\":\"400px\",\n",
    "#             \"height\":\"300px\",\n",
    "#             'overflowX': 'scroll',\n",
    "#             'overflowY': 'scroll',}\n",
    "#                    )\n",
    "    out = list(out.values())\n",
    "    toDo = {}\n",
    "    for el in out:\n",
    "        if len(el[\"value\"])<1: continue\n",
    "        col = el[\"col\"]\n",
    "        i = el[\"index\"]\n",
    "        if col not in toDo:\n",
    "            toDo[col] = []\n",
    "        add = {\n",
    "            \"rec\":status.loc[i,\"path\"],\n",
    "            \"series\":status.loc[i,\"series\"]\n",
    "        }\n",
    "        if col!=\"movie\":\n",
    "            add[\"filterSizes\"] = list(map(tuple,el[\"value\"]))\n",
    "            add[\"filterSizes\"] = str(add[\"filterSizes\"])\n",
    "        toDo[col] += [add]\n",
    "    return html.Div(json.dumps(toDo, indent=2), \n",
    "         style={\n",
    "        \"font-family\":\"Courier New\",\n",
    "        \"font-size\":\"80%\",\n",
    "        'border': 'thin lightgrey solid',\n",
    "        \"width\":\"400px\",\n",
    "        \"height\":\"300px\",\n",
    "        'overflowX': 'scroll',\n",
    "        'overflowY': 'scroll',}\n",
    "               )\n",
    "#     out = pd.DataFrame(out)\n",
    "#     ix = out.query(\"value=='movie'\").index\n",
    "#     out.loc[ix,\"value\"] = [len(out.loc[i,\"value\"]) for i in ix]\n",
    "#     out[][\"value\"] = \n",
    "#     return generate_table(out)\n",
    "\n",
    "app"
   ]
  },
  {
   "cell_type": "code",
   "execution_count": null,
   "metadata": {},
   "outputs": [],
   "source": []
  },
  {
   "cell_type": "code",
   "execution_count": null,
   "metadata": {},
   "outputs": [],
   "source": []
  }
 ],
 "metadata": {
  "kernelspec": {
   "display_name": "Physio",
   "language": "python",
   "name": "physio"
  },
  "language_info": {
   "codemirror_mode": {
    "name": "ipython",
    "version": 3
   },
   "file_extension": ".py",
   "mimetype": "text/x-python",
   "name": "python",
   "nbconvert_exporter": "python",
   "pygments_lexer": "ipython3",
   "version": "3.7.6"
  },
  "toc": {
   "base_numbering": 1,
   "nav_menu": {},
   "number_sections": true,
   "sideBar": true,
   "skip_h1_title": false,
   "title_cell": "Table of Contents",
   "title_sidebar": "Contents",
   "toc_cell": false,
   "toc_position": {},
   "toc_section_display": true,
   "toc_window_display": false
  },
  "varInspector": {
   "cols": {
    "lenName": 16,
    "lenType": 16,
    "lenVar": 40
   },
   "kernels_config": {
    "python": {
     "delete_cmd_postfix": "",
     "delete_cmd_prefix": "del ",
     "library": "var_list.py",
     "varRefreshCmd": "print(var_dic_list())"
    },
    "r": {
     "delete_cmd_postfix": ") ",
     "delete_cmd_prefix": "rm(",
     "library": "var_list.r",
     "varRefreshCmd": "cat(var_dic_list()) "
    }
   },
   "types_to_exclude": [
    "module",
    "function",
    "builtin_function_or_method",
    "instance",
    "_Feature"
   ],
   "window_display": false
  }
 },
 "nbformat": 4,
 "nbformat_minor": 4
}
