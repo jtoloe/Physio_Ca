{
 "cells": [
  {
   "cell_type": "code",
   "execution_count": 1,
   "metadata": {
    "ExecuteTime": {
     "end_time": "2020-01-25T19:08:31.807427Z",
     "start_time": "2020-01-25T19:08:28.227954Z"
    }
   },
   "outputs": [],
   "source": [
    "%%capture\n",
    "import matplotlib.pyplot as plt\n",
    "import numpy as np\n",
    "import cv2\n",
    "\n",
    "# try: cv2.setNumThreads(0)\n",
    "# except: pass\n",
    "from caiman import movie\n",
    "import os\n",
    "# %matplotlib inline\n",
    "%config InlineBackend.figure_format = 'retina'\n",
    "\n",
    "import pandas as pd\n",
    "from itertools import product\n",
    "from collections import OrderedDict\n",
    "\n",
    "from sys import path as syspath\n",
    "syspath.append(os.path.expanduser(\"~/srdjan_functs/\"))\n",
    "\n",
    "from physio_def_1 import *\n",
    "from matplotlib.colors import LogNorm\n",
    "\n",
    "from numeric import *\n",
    "from collections import Counter"
   ]
  },
  {
   "cell_type": "markdown",
   "metadata": {},
   "source": [
    "# Importing"
   ]
  },
  {
   "cell_type": "code",
   "execution_count": 2,
   "metadata": {
    "ExecuteTime": {
     "end_time": "2020-01-25T19:08:56.374212Z",
     "start_time": "2020-01-25T19:08:56.365573Z"
    }
   },
   "outputs": [],
   "source": [
    "npzFiles = [\n",
    "    \"local_data/Sandra/2019_10_15/Experiment38a/Experiment38a_18_Series040.npz\"\n",
    "#     \"local_data/Sandra/2020_01_14/Experiment45c/Experiment45c_1_Series003.npz\",\n",
    "#     \"local_data/Sandra/2020_01_14/Experiment45c/Experiment45c_2_Series004.npz\",\n",
    "#     \"local_data/Sandra/2020_01_14/Experiment45b/Experiment45b_1_Series006.npz\",\n",
    "#     \"local_data/Sandra/2020_01_14/Experiment45b/Experiment45b_2_Series007.npz\",\n",
    "#     \"local_data/Sandra/2020_01_14/Experiment45b/Experiment45b_3_Series008.npz\"\n",
    "\n",
    "]\n",
    "# npzFile = f\"/Volumes/physio/team/slakrupnik/project/experiments/Sandra/{row.date}/{row.filename.split('_')[0]}/{row.filename}.npz\"\n",
    "metadata = pd.DataFrame([pd.read_csv(npzFile.replace(\"npz\",\"txt\")).loc[0] for npzFile in npzFiles])"
   ]
  },
  {
   "cell_type": "code",
   "execution_count": 3,
   "metadata": {
    "ExecuteTime": {
     "end_time": "2020-01-25T19:08:57.437043Z",
     "start_time": "2020-01-25T19:08:57.430716Z"
    }
   },
   "outputs": [
    {
     "name": "stdout",
     "output_type": "stream",
     "text": [
      "43.0743682536561 minutes\n"
     ]
    }
   ],
   "source": [
    "if len(metadata)>1:\n",
    "    assert metadata.X.std()==0\n",
    "    assert metadata.Y.std()==0\n",
    "    assert metadata.freq.std()/metadata.freq.mean()<1e-3\n",
    "    print ((metadata[\"T\"]/metadata[\"freq\"]/60).sum(), \"minutes\")\n",
    "    origFreq = metadata.freq.mean()\n",
    "    metadata[\"T\"] = metadata[\"T\"].sum()\n",
    "    metadata = pd.Series(metadata.iloc[0])\n",
    "    metadata[\"freq\"] = origFreq\n",
    "else:\n",
    "    metadata = metadata.iloc[0]\n",
    "    origFreq = metadata.freq\n",
    "    print (metadata[\"T\"]/metadata.freq/60, \"minutes\")"
   ]
  },
  {
   "cell_type": "code",
   "execution_count": 4,
   "metadata": {
    "ExecuteTime": {
     "end_time": "2020-01-25T19:09:21.098721Z",
     "start_time": "2020-01-25T19:08:59.847864Z"
    }
   },
   "outputs": [],
   "source": [
    "orig_images = import_npz_files(npzFiles)\n",
    "m_orig = movie(orig_images.astype(\"float32\"))\n",
    "del orig_images\n",
    "m_orig.fr = origFreq\n",
    "\n",
    "time = np.arange(len(m_orig)).astype(np.float32)/metadata.freq\n",
    "allTrace = m_orig.mean(axis=(1,2))\n",
    "Nsatur = np.sum(m_orig>m_orig.max()-1, axis=(1,2))"
   ]
  },
  {
   "cell_type": "code",
   "execution_count": 5,
   "metadata": {
    "ExecuteTime": {
     "end_time": "2020-01-25T19:09:21.102164Z",
     "start_time": "2020-01-25T19:09:21.100195Z"
    }
   },
   "outputs": [],
   "source": [
    "baseName = getBaseName(npzFiles)"
   ]
  },
  {
   "cell_type": "code",
   "execution_count": 6,
   "metadata": {
    "ExecuteTime": {
     "end_time": "2020-01-25T19:09:35.314697Z",
     "start_time": "2020-01-25T19:09:21.103680Z"
    }
   },
   "outputs": [],
   "source": [
    "shifted_images = import_npz_files([baseName+\"_motcor.npz\"])"
   ]
  },
  {
   "cell_type": "code",
   "execution_count": 7,
   "metadata": {
    "ExecuteTime": {
     "end_time": "2020-01-25T19:09:35.318718Z",
     "start_time": "2020-01-25T19:09:35.316204Z"
    }
   },
   "outputs": [],
   "source": [
    "m_corr = movie(shifted_images)\n",
    "del shifted_images"
   ]
  },
  {
   "cell_type": "code",
   "execution_count": 8,
   "metadata": {
    "ExecuteTime": {
     "end_time": "2020-01-25T19:09:35.523936Z",
     "start_time": "2020-01-25T19:09:35.319775Z"
    }
   },
   "outputs": [
    {
     "data": {
      "text/plain": [
       "(dtype('uint8'), dtype('float32'))"
      ]
     },
     "execution_count": 8,
     "metadata": {},
     "output_type": "execute_result"
    }
   ],
   "source": [
    "m_corr.dtype, m_orig.dtype"
   ]
  },
  {
   "cell_type": "code",
   "execution_count": 9,
   "metadata": {
    "ExecuteTime": {
     "end_time": "2020-01-25T19:09:35.662587Z",
     "start_time": "2020-01-25T19:09:35.524995Z"
    }
   },
   "outputs": [],
   "source": [
    "m_corr.fr = m_orig.fr"
   ]
  },
  {
   "cell_type": "code",
   "execution_count": 10,
   "metadata": {
    "ExecuteTime": {
     "end_time": "2020-01-25T19:09:35.764228Z",
     "start_time": "2020-01-25T19:09:35.663700Z"
    }
   },
   "outputs": [],
   "source": [
    "from caiman import concatenate"
   ]
  },
  {
   "cell_type": "code",
   "execution_count": 11,
   "metadata": {
    "ExecuteTime": {
     "end_time": "2020-01-25T19:09:37.850174Z",
     "start_time": "2020-01-25T19:09:35.765744Z"
    }
   },
   "outputs": [
    {
     "data": {
      "text/plain": [
       "<matplotlib.legend.Legend at 0x7fcef7205850>"
      ]
     },
     "execution_count": 11,
     "metadata": {},
     "output_type": "execute_result"
    },
    {
     "data": {
      "image/png": "[encoded data removed]",
      "text/plain": [
       "<Figure size 432x288 with 1 Axes>"
      ]
     },
     "metadata": {
      "image/png": {
       "height": 249,
       "width": 372
      },
      "needs_background": "light"
     },
     "output_type": "display_data"
    }
   ],
   "source": [
    "orig_min = m_orig.min()\n",
    "orig_max = m_orig.max()\n",
    "for m in [\"m_orig\",\"m_corr\"]:\n",
    "    try:\n",
    "        x = eval(m)\n",
    "        x = x[::len(x)//100,::10,::10].flatten()\n",
    "    except:\n",
    "        continue\n",
    "    c = plt.plot([])[0].get_color()\n",
    "    x.sort()\n",
    "    for ls in[\"--\",\"-\"]:\n",
    "        if len(ls)==1:\n",
    "            x[x<orig_min] = orig_min\n",
    "            x[x>orig_max] = orig_max\n",
    "        plt.plot(x,np.linspace(0,1,len(x)),lw=1,label=m,ls=ls,c=c)\n",
    "plt.xscale(\"symlog\")\n",
    "# plt.yscale(\"logit\")\n",
    "plt.legend()"
   ]
  },
  {
   "cell_type": "code",
   "execution_count": 13,
   "metadata": {
    "ExecuteTime": {
     "end_time": "2020-01-25T19:09:41.371993Z",
     "start_time": "2020-01-25T19:09:39.193414Z"
    }
   },
   "outputs": [
    {
     "data": {
      "text/plain": [
       "(movie(88, dtype=uint8), movie(87., dtype=float32))"
      ]
     },
     "execution_count": 13,
     "metadata": {},
     "output_type": "execute_result"
    }
   ],
   "source": [
    "m_corr.max(), m_orig.max()"
   ]
  },
  {
   "cell_type": "code",
   "execution_count": 14,
   "metadata": {
    "ExecuteTime": {
     "end_time": "2020-01-25T19:09:44.782339Z",
     "start_time": "2020-01-25T19:09:41.373163Z"
    }
   },
   "outputs": [],
   "source": [
    "timeSlice = slice(int(len(m_orig)*.0),int(len(m_orig)*1))\n",
    "\n",
    "nTimeFrames = 3000\n",
    "nRebinShow = len(m_orig[timeSlice])//nTimeFrames\n",
    "border = np.ones((len(m_orig[timeSlice])//nRebinShow,1,m_orig.shape[-1]))*m_orig.max()\n",
    "m2show = concatenate([\n",
    "    rebin(m_orig[timeSlice], nRebinShow),\n",
    "    border,\n",
    "    rebin(m_corr[timeSlice], nRebinShow),\n",
    "],axis=1)"
   ]
  },
  {
   "cell_type": "code",
   "execution_count": 15,
   "metadata": {
    "ExecuteTime": {
     "end_time": "2020-01-25T19:11:53.113334Z",
     "start_time": "2020-01-25T19:09:44.783698Z"
    }
   },
   "outputs": [],
   "source": [
    "showMovie(np.log(1+m2show),figsize=(10,5), out=\"save\", saveName=baseName+\".mp4\")"
   ]
  },
  {
   "cell_type": "code",
   "execution_count": 16,
   "metadata": {
    "ExecuteTime": {
     "end_time": "2020-01-25T19:11:57.911292Z",
     "start_time": "2020-01-25T19:11:57.907574Z"
    }
   },
   "outputs": [
    {
     "data": {
      "text/plain": [
       "'local_data/Sandra/2019_10_15/Experiment38a/Experiment38a_18_Series040'"
      ]
     },
     "execution_count": 16,
     "metadata": {},
     "output_type": "execute_result"
    }
   ],
   "source": [
    "baseName"
   ]
  },
  {
   "cell_type": "code",
   "execution_count": null,
   "metadata": {},
   "outputs": [],
   "source": []
  },
  {
   "cell_type": "code",
   "execution_count": null,
   "metadata": {},
   "outputs": [],
   "source": []
  },
  {
   "cell_type": "code",
   "execution_count": null,
   "metadata": {},
   "outputs": [],
   "source": []
  }
 ],
 "metadata": {
  "kernelspec": {
   "display_name": "Python [conda env:physio]",
   "language": "python",
   "name": "conda-env-physio-py"
  },
  "language_info": {
   "codemirror_mode": {
    "name": "ipython",
    "version": 3
   },
   "file_extension": ".py",
   "mimetype": "text/x-python",
   "name": "python",
   "nbconvert_exporter": "python",
   "pygments_lexer": "ipython3",
   "version": "3.7.6"
  },
  "toc": {
   "base_numbering": 1,
   "nav_menu": {},
   "number_sections": true,
   "sideBar": true,
   "skip_h1_title": false,
   "title_cell": "Table of Contents",
   "title_sidebar": "Contents",
   "toc_cell": false,
   "toc_position": {},
   "toc_section_display": true,
   "toc_window_display": false
  }
 },
 "nbformat": 4,
 "nbformat_minor": 2
}
