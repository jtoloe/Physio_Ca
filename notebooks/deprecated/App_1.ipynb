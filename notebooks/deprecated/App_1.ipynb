{
 "cells": [
  {
   "cell_type": "code",
   "execution_count": 1,
   "metadata": {
    "ExecuteTime": {
     "end_time": "2020-01-30T20:46:34.884921Z",
     "start_time": "2020-01-30T20:46:33.369358Z"
    }
   },
   "outputs": [],
   "source": [
    "from jupyter_plotly_dash import JupyterDash\n",
    "from dash.dependencies import Input, Output\n",
    "import dash_core_components as dcc\n",
    "import dash_html_components as html\n",
    "import plotly.graph_objects as go\n",
    "import numpy as np\n",
    "import os\n",
    "from sys import path as syspath\n",
    "syspath.append(os.path.expanduser(\"~/srdjan_functs/\"))\n",
    "\n",
    "%load_ext autoreload\n",
    "%autoreload 1\n",
    "%aimport Regions, physio_def_1, numeric\n",
    "\n",
    "from physio_def_1 import *\n",
    "from numeric import *\n",
    "\n",
    "from Regions import Regions\n",
    "from numeric import *\n",
    "\n",
    "from plotly.subplots import make_subplots\n",
    "\n",
    "from sys import exc_info"
   ]
  },
  {
   "cell_type": "code",
   "execution_count": 14,
   "metadata": {
    "ExecuteTime": {
     "end_time": "2020-01-30T20:46:54.549834Z",
     "start_time": "2020-01-30T20:46:54.546298Z"
    }
   },
   "outputs": [],
   "source": [
    "from plotly import colors"
   ]
  },
  {
   "cell_type": "code",
   "execution_count": 2,
   "metadata": {
    "ExecuteTime": {
     "end_time": "2020-01-30T20:46:34.899108Z",
     "start_time": "2020-01-30T20:46:34.888074Z"
    },
    "code_folding": []
   },
   "outputs": [],
   "source": [
    "def plotROIs(regions,indices=None):\n",
    "    if indices is None:\n",
    "        indices = regions.df.sort_values(\"size\",ascending=False).index[:10]\n",
    "    fig1 = make_subplots(rows=1, cols=2, horizontal_spacing=0.02,\n",
    "    #                      shared_xaxes=True,\n",
    "                         shared_yaxes=True,\n",
    "                    subplot_titles=(\"Standard Deviation\",\"Template\"))\n",
    "    for j,im in enumerate([regions.std_image, regions.image]):\n",
    "        fig1.add_heatmap(z=np.array(im),col=j+1,row=1, hoverinfo='skip',showscale=False)\n",
    "\n",
    "    if len(indices)==0:\n",
    "        return fig1\n",
    "    \n",
    "    ia = 0\n",
    "    for i in indices:\n",
    "        cl = colors.DEFAULT_PLOTLY_COLORS[ia%10]\n",
    "        bds = regions.df.loc[i,\"boundary\"]\n",
    "        bds += [bds[0]]\n",
    "        y,x = np.array(bds).T\n",
    "        for c in [1,2]:\n",
    "            ln = go.Scatter(x=x,y=y,\n",
    "                            line=dict(width=1,color=cl),\n",
    "                            mode=\"lines\",\n",
    "                            showlegend = c==1,\n",
    "                            name = str(i),\n",
    "                            hoverinfo='text',\n",
    "                            hovertext=[\"%i\"%(i)]*len(bds),\n",
    "                         )\n",
    "            fig1.add_trace(ln,col=c,row=1)\n",
    "        ia += 1\n",
    "\n",
    "    y,x = np.vstack(np.vstack(regions.df.pixels[i]).mean(axis=0) for i in indices).T\n",
    "\n",
    "    pts = go.Scatter(x=x,y=y,\n",
    "                    mode=\"markers\",\n",
    "                    showlegend = False,\n",
    "                    opacity=0.0,\n",
    "                     name=str(i),\n",
    "                    marker=dict(color=np.arange(len(x))%10),\n",
    "                    hovertext=[\"%i\"%(i) for i in indices],\n",
    "                    hoverinfo=\"text\"\n",
    "                 )\n",
    "    for c in [1,2]: fig1.add_trace(pts,col=c,row=1)\n",
    "\n",
    "    return fig1\n"
   ]
  },
  {
   "cell_type": "code",
   "execution_count": 3,
   "metadata": {
    "ExecuteTime": {
     "end_time": "2020-01-30T20:46:34.927638Z",
     "start_time": "2020-01-30T20:46:34.900593Z"
    },
    "code_folding": [
     0,
     37,
     52
    ]
   },
   "outputs": [],
   "source": [
    "def parseRoiChoices(roi_mode, roi_number):\n",
    "    try:\n",
    "        roi_number = int(roi_number)\n",
    "    except:\n",
    "        roi_number = 3\n",
    "    if roi_number<1:\n",
    "        roi_number=1\n",
    "    if roi_number>20:\n",
    "        roi_number=20\n",
    "    if roi_mode==\"largest\":\n",
    "        ix = regions.df.sort_values(\"size\",ascending=False).index[:roi_number]\n",
    "    if roi_mode==\"rnd\":\n",
    "        ix = np.random.choice(regions.df.index, roi_number)\n",
    "    return ix\n",
    "\n",
    "def plotTraces(regions,indices=None):\n",
    "    if indices is None:\n",
    "        indices = regions.df.sort_values(\"size\",ascending=False).index[:10]\n",
    "    fig = go.Figure()\n",
    "    for i in indices:\n",
    "        fig.add_trace(go.Scatter(\n",
    "            x=regions.time,\n",
    "            y=regions.df.loc[i,\"trace\"],\n",
    "            line=dict(width=1),\n",
    "            mode=\"lines\",\n",
    "            name=str(i),\n",
    "#             text=[str(i)]*len(regions.time),\n",
    "#             hoveinfo=\"name\"\n",
    "        ))\n",
    "    fig.update_layout(\n",
    "        hovermode=\"x\",\n",
    "       xaxis_title='time [s]',\n",
    "       yaxis_title='intensity')\n",
    "    return fig"
   ]
  },
  {
   "cell_type": "code",
   "execution_count": 4,
   "metadata": {
    "ExecuteTime": {
     "end_time": "2020-01-30T20:46:37.838690Z",
     "start_time": "2020-01-30T20:46:34.930979Z"
    }
   },
   "outputs": [],
   "source": [
    "%%capture\n",
    "from caiman import movie as cmovie"
   ]
  },
  {
   "cell_type": "code",
   "execution_count": 5,
   "metadata": {
    "ExecuteTime": {
     "end_time": "2020-01-30T20:46:37.845948Z",
     "start_time": "2020-01-30T20:46:37.840303Z"
    }
   },
   "outputs": [],
   "source": [
    "## global vars\n",
    "npzFile = None\n",
    "metadata = None\n",
    "movie = None\n",
    "regions = None"
   ]
  },
  {
   "cell_type": "code",
   "execution_count": 6,
   "metadata": {
    "ExecuteTime": {
     "end_time": "2020-01-30T20:46:38.282430Z",
     "start_time": "2020-01-30T20:46:37.847163Z"
    },
    "code_folding": [
     0
    ]
   },
   "outputs": [],
   "source": [
    "app = JupyterDash(__name__,\n",
    "#                   width=800,\n",
    "                  height=1000,\n",
    "                 )\n",
    "app.layout = html.Div(children=[\n",
    "    html.H1(children='Hi, welcome to our platform.'),\n",
    "    html.Div([\n",
    "        html.P(\"It is rather basic for now, but I hope it is useful.\"),\n",
    "    ]),\n",
    "\n",
    "    ####################################\n",
    "    html.H2(children='Importing'),\n",
    "    html.Div(children='Enter path to npz, and press enter. [can take some time]'),\n",
    "    dcc.Input(\n",
    "            id=\"npz_filename\",\n",
    "            type=\"text\",\n",
    "            placeholder=\"/data/testdir/Experiment38a_7_Series016.npz\",\n",
    "            debounce=True,\n",
    "            size = 50,\n",
    "        ),\n",
    "    html.Div(id=\"npz_feedback\", children=\"\"),\n",
    "\n",
    "    ####################################\n",
    "    html.H2(children='Resampling'),\n",
    "    html.Div(children=\"\"\"\n",
    "             Resample movie if you wish. It is optional, only so that the analysis downstream goes much faster.\n",
    "             Enter the new desired frequency in Hz (e.g. 2), and press enter.\n",
    "             \"\"\"),\n",
    "    dcc.Input(\n",
    "            id=\"resample_input\",\n",
    "            type=\"text\",\n",
    "            placeholder=\"2\",\n",
    "            debounce=True,\n",
    "            size = 10,\n",
    "        ),\n",
    "    html.Div(id=\"resample_feedback\", children=\"\"),\n",
    "    \n",
    "    ####################################\n",
    "    html.H2(children='Create ROIs'),\n",
    "    html.Div([\n",
    "        html.P(\"For the proper analysis, you need to set the size of the spatial filter.\"),\n",
    "        html.P(\"It's value should correspond to half of the typical cell dimension (in pixels!).\"),\n",
    "        html.P(\"In many of our recording, pixel size is 2 µm. If we consider a typical cell of 10 µm, a reasonable number to put for the filter is 10/2/2 = 2.5. We round it down to an integer, so the result is 2.\"),\n",
    "    ]),\n",
    "    dcc.Input(\n",
    "        id=\"gSig_filt\",\n",
    "        type=\"text\",\n",
    "        placeholder=\"2\",\n",
    "        debounce=True,\n",
    "        size = 10,\n",
    "    ),\n",
    "#     html.Button(\"Calculate ROIs and update figures\", id=\"roi_button\", n_clicks=0),\n",
    "    html.Div(id=\"roi_feedback\"),\n",
    "    \n",
    "    html.H2(children='ROIs'),\n",
    "    dcc.RadioItems(\n",
    "        id=\"roi_choice\",\n",
    "        options=[\n",
    "            {'label': 'Largest', 'value': 'largest'},\n",
    "            {'label': 'Random', 'value': 'rnd'},\n",
    "            # {'label': 'Random, larger than', 'value': 'rnd_th'},\n",
    "        ],\n",
    "        value='largest'),\n",
    "    dcc.Input(\n",
    "            id=\"roi_choice_number\",\n",
    "            type=\"text\",\n",
    "            placeholder=\"10\",\n",
    "            debounce=True,\n",
    "            size = 10,\n",
    "            value='10'\n",
    "        ),\n",
    "    html.Div(id=\"roi_choice_feedback\", children=\"\"),\n",
    "\n",
    "\n",
    "    \n",
    "    html.H3(children='Images'),\n",
    "    \n",
    "    dcc.Graph(id='images'),\n",
    "    \n",
    "    html.H3(children='Traces'),\n",
    "    \n",
    "    dcc.Graph(id='roi_traces_raw',),\n",
    "\n",
    "])"
   ]
  },
  {
   "cell_type": "code",
   "execution_count": 7,
   "metadata": {
    "ExecuteTime": {
     "end_time": "2020-01-30T20:46:39.055820Z",
     "start_time": "2020-01-30T20:46:39.048777Z"
    },
    "code_folding": [
     1
    ]
   },
   "outputs": [],
   "source": [
    "@app.callback(Output(\"npz_feedback\", \"children\"),\n",
    "              [Input(\"npz_filename\", \"value\")],)\n",
    "def loadMovie(val):\n",
    "    try:\n",
    "        from pandas import read_csv\n",
    "        global npzFile, movie, metadata\n",
    "        npzFile = val\n",
    "        metadata = read_csv(npzFile.replace(\"npz\",\"txt\")).loc[0]\n",
    "        if not hasattr(metadata,\"freq\"):\n",
    "            metadata.freq = 1\n",
    "        movie = import_npz_files([npzFile])\n",
    "        movie = movie.astype(\"float\")\n",
    "        if len(movie.shape)==2:        \n",
    "            movie = movie.reshape((1,-1))\n",
    "        movie = cmovie(movie)\n",
    "        movie.fr = metadata.freq\n",
    "        feedback = [html.P(f\"Recording {npzFile} has {metadata['T']} timeframes and is done at {metadata.freq:.4} Hz, with a pixel size of {metadata.pxSize:.3} µm\")]\n",
    "        if metadata.freq>3:\n",
    "            feedback += [html.P(\"This is probably a lot higher frequency than you need, consider resampling to lower frequency, e.g. 2 Hz\")]\n",
    "        return feedback\n",
    "    except:\n",
    "        return exc_info()[0]"
   ]
  },
  {
   "cell_type": "code",
   "execution_count": 8,
   "metadata": {
    "ExecuteTime": {
     "end_time": "2020-01-30T20:46:39.592261Z",
     "start_time": "2020-01-30T20:46:39.587187Z"
    },
    "code_folding": [
     1
    ]
   },
   "outputs": [],
   "source": [
    "@app.callback(Output(\"resample_feedback\", \"children\"),\n",
    "              [Input(\"resample_input\", \"value\")],)\n",
    "def resample(val):\n",
    "    global movie\n",
    "    try:\n",
    "        newFreq = float(val)\n",
    "        n_rebin = int(np.ceil(movie.fr/newFreq))\n",
    "        movie = rebin(movie,n_rebin)\n",
    "        movie.fr = movie.fr/n_rebin\n",
    "        feedback = f\"Resampling finished. New frequency is {movie.fr:.4} Hz.\"\n",
    "        return feedback\n",
    "    except:\n",
    "        return exc_info()[0]"
   ]
  },
  {
   "cell_type": "code",
   "execution_count": 9,
   "metadata": {
    "ExecuteTime": {
     "end_time": "2020-01-30T20:46:43.468453Z",
     "start_time": "2020-01-30T20:46:43.462823Z"
    },
    "code_folding": []
   },
   "outputs": [],
   "source": [
    "# @app.callback(\n",
    "#     Output(\"images\", \"figure\"),\n",
    "#     [Input(\"gSig_filt\", \"value\")]\n",
    "# )\n",
    "# def calcRoiAndFigs(val):\n",
    "#     global regions\n",
    "#     gSig_filt = int(val)\n",
    "#     gSig_filt = (gSig_filt,gSig_filt)\n",
    "#     regions = Regions(movie,th=0,gSig_filt=gSig_filt)\n",
    "#     regions.calcTraces()\n",
    "#     fig = plotROIs(regions,[])\n",
    "#     return fig\n",
    "\n",
    "@app.callback(\n",
    "    Output(\"roi_feedback\", \"children\"),\n",
    "    [Input(\"gSig_filt\", \"value\")]\n",
    ")\n",
    "def calcRois(val):\n",
    "    global regions\n",
    "    gSig_filt = int(val)\n",
    "    gSig_filt = (gSig_filt,gSig_filt)\n",
    "    regions = Regions(movie,th=0,gSig_filt=gSig_filt)\n",
    "    regions.purge_lones(5)\n",
    "    C = regions.df\n",
    "    C.drop(index=C.query(\"size<7\").index,inplace=True)\n",
    "    out = f\"{len(regions.df)} rois discovered.\"\n",
    "    regions.calcTraces()\n",
    "    return out"
   ]
  },
  {
   "cell_type": "code",
   "execution_count": 10,
   "metadata": {
    "ExecuteTime": {
     "end_time": "2020-01-30T20:46:44.267882Z",
     "start_time": "2020-01-30T20:46:44.263337Z"
    }
   },
   "outputs": [],
   "source": [
    "@app.callback(\n",
    "    Output(\"roi_choice_feedback\", \"children\"),\n",
    "    [Input(\"roi_choice\", \"value\"), Input(\"roi_choice_number\", \"value\")]\n",
    ")\n",
    "def showRoiChoices(roi_mode,roi_number):\n",
    "    ix = parseRoiChoices(roi_mode,roi_number)\n",
    "    output = \",\".join([str(i) for i in ix])\n",
    "    return output"
   ]
  },
  {
   "cell_type": "code",
   "execution_count": 11,
   "metadata": {
    "ExecuteTime": {
     "end_time": "2020-01-30T20:46:44.999146Z",
     "start_time": "2020-01-30T20:46:44.995912Z"
    }
   },
   "outputs": [],
   "source": [
    "# plotTraces(regions,indices=[69])"
   ]
  },
  {
   "cell_type": "code",
   "execution_count": 12,
   "metadata": {
    "ExecuteTime": {
     "end_time": "2020-01-30T20:46:46.118619Z",
     "start_time": "2020-01-30T20:46:46.114060Z"
    },
    "code_folding": []
   },
   "outputs": [],
   "source": [
    "@app.callback(\n",
    "    Output(\"roi_traces_raw\", \"figure\"),\n",
    "#     [Input(\"roi_choice_feedback\", \"value\")]\n",
    "    [Input(\"roi_choice\", \"value\"), Input(\"roi_choice_number\", \"value\")]\n",
    ")\n",
    "# def showTraces(val):\n",
    "def showTraces(roi_mode,roi_number):\n",
    "    global regions\n",
    "    ix = parseRoiChoices(roi_mode,roi_number)\n",
    "#     ix = list(map(int,val.split(\",\")))\n",
    "    fig = plotTraces(regions,indices=ix)\n",
    "    return fig"
   ]
  },
  {
   "cell_type": "code",
   "execution_count": 13,
   "metadata": {
    "ExecuteTime": {
     "end_time": "2020-01-30T20:46:47.252743Z",
     "start_time": "2020-01-30T20:46:47.248360Z"
    }
   },
   "outputs": [],
   "source": [
    "@app.callback(\n",
    "    Output(\"images\", \"figure\"),\n",
    "    [Input(\"roi_choice\", \"value\"), Input(\"roi_choice_number\", \"value\")]\n",
    ")\n",
    "def addRoisToStatFigs(roi_mode,roi_number):\n",
    "    global regions\n",
    "    ix = parseRoiChoices(roi_mode,roi_number)\n",
    "    fig = plotROIs(regions,ix)\n",
    "    return fig"
   ]
  },
  {
   "cell_type": "code",
   "execution_count": null,
   "metadata": {},
   "outputs": [],
   "source": []
  },
  {
   "cell_type": "code",
   "execution_count": 15,
   "metadata": {
    "ExecuteTime": {
     "end_time": "2020-01-30T20:46:57.946548Z",
     "start_time": "2020-01-30T20:46:57.940542Z"
    }
   },
   "outputs": [
    {
     "data": {
      "text/html": [
       "<div>\n",
       "  <iframe src=\"/user/srdjan/app/endpoints/20ea5a87a0af4d2ba8d8014ce8ea0266/\" width=800 height=1000 frameborder=\"0\"></iframe>\n",
       "  <hr/><a href=\"/user/srdjan/app/endpoints/20ea5a87a0af4d2ba8d8014ce8ea0266/\" target=\"_new\">Open in new window</a> for /user/srdjan/app/endpoints/20ea5a87a0af4d2ba8d8014ce8ea0266/\n",
       "</div>"
      ],
      "text/plain": [
       "<jupyter_plotly_dash.dash_wrapper.JupyterDash at 0x7ff16001c890>"
      ]
     },
     "execution_count": 15,
     "metadata": {},
     "output_type": "execute_result"
    }
   ],
   "source": [
    "app"
   ]
  },
  {
   "cell_type": "code",
   "execution_count": 9,
   "metadata": {
    "ExecuteTime": {
     "end_time": "2020-01-30T14:25:26.596607Z",
     "start_time": "2020-01-30T14:25:26.551688Z"
    }
   },
   "outputs": [],
   "source": [
    "# /data/Sandra/2020_01_14/Experiment45a/Experiment45a_0_Image005.npz\n",
    "# /data/testdir/Experiment38a_7_Series016.npz"
   ]
  },
  {
   "cell_type": "code",
   "execution_count": 127,
   "metadata": {
    "ExecuteTime": {
     "end_time": "2020-01-30T20:25:41.439536Z",
     "start_time": "2020-01-30T20:25:41.433561Z"
    }
   },
   "outputs": [
    {
     "data": {
      "text/plain": [
       "Index(['peak', 'pixels', 'peakValue', 'size', 'edges', 'boundary', 'neighbors',\n",
       "       'Nneighbors', 'trace'],\n",
       "      dtype='object')"
      ]
     },
     "execution_count": 127,
     "metadata": {},
     "output_type": "execute_result"
    }
   ],
   "source": [
    "regions.df.columns"
   ]
  },
  {
   "cell_type": "code",
   "execution_count": 152,
   "metadata": {
    "ExecuteTime": {
     "end_time": "2020-01-30T20:44:32.147490Z",
     "start_time": "2020-01-30T20:44:32.135833Z"
    }
   },
   "outputs": [],
   "source": []
  },
  {
   "cell_type": "code",
   "execution_count": null,
   "metadata": {},
   "outputs": [],
   "source": []
  }
 ],
 "metadata": {
  "kernelspec": {
   "display_name": "Python [conda env:physio]",
   "language": "python",
   "name": "conda-env-physio-py"
  },
  "language_info": {
   "codemirror_mode": {
    "name": "ipython",
    "version": 3
   },
   "file_extension": ".py",
   "mimetype": "text/x-python",
   "name": "python",
   "nbconvert_exporter": "python",
   "pygments_lexer": "ipython3",
   "version": "3.7.6"
  },
  "toc": {
   "base_numbering": 1,
   "nav_menu": {},
   "number_sections": true,
   "sideBar": true,
   "skip_h1_title": false,
   "title_cell": "Table of Contents",
   "title_sidebar": "Contents",
   "toc_cell": false,
   "toc_position": {},
   "toc_section_display": true,
   "toc_window_display": false
  }
 },
 "nbformat": 4,
 "nbformat_minor": 2
}
