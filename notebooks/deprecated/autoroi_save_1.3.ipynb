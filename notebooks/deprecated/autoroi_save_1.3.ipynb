{
 "cells": [
  {
   "cell_type": "code",
   "execution_count": 1,
   "metadata": {
    "ExecuteTime": {
     "end_time": "2020-05-22T09:25:18.908738Z",
     "start_time": "2020-05-22T09:25:00.959436Z"
    },
    "code_folding": []
   },
   "outputs": [],
   "source": [
    "%%capture\n",
    "import warnings\n",
    "warnings.filterwarnings('ignore')\n",
    "from IPython.core.display import HTML\n",
    "from jupyter_plotly_dash import JupyterDash\n",
    "from dash.dependencies import Input, Output, State\n",
    "import dash_core_components as dcc\n",
    "import dash_html_components as html\n",
    "import plotly.graph_objects as go\n",
    "import numpy as np\n",
    "import os\n",
    "from sys import path as syspath\n",
    "syspath.append(os.path.expanduser(\"~/srdjan_functs/\"))\n",
    "from sys import exc_info\n",
    "from caiman import movie as cmovie\n",
    "import json\n",
    "import pickle"
   ]
  },
  {
   "cell_type": "code",
   "execution_count": 2,
   "metadata": {
    "ExecuteTime": {
     "end_time": "2020-05-22T09:25:18.917255Z",
     "start_time": "2020-05-22T09:25:18.910348Z"
    }
   },
   "outputs": [
    {
     "data": {
      "text/html": [
       "<style>.container { width:100% !important; }</style>"
      ],
      "text/plain": [
       "<IPython.core.display.HTML object>"
      ]
     },
     "metadata": {},
     "output_type": "display_data"
    }
   ],
   "source": [
    "from IPython.core.display import display, HTML\n",
    "display(HTML(\"<style>.container { width:100% !important; }</style>\"))"
   ]
  },
  {
   "cell_type": "code",
   "execution_count": 3,
   "metadata": {
    "ExecuteTime": {
     "end_time": "2020-05-22T09:25:19.970415Z",
     "start_time": "2020-05-22T09:25:18.918698Z"
    },
    "code_folding": []
   },
   "outputs": [],
   "source": [
    "%load_ext autoreload\n",
    "%autoreload 1\n",
    "%aimport Regions, physio_def_1, numeric, Automatic\n",
    "\n",
    "from physio_def_1 import *\n",
    "from Regions import Regions\n",
    "from numeric import *\n",
    "from Automatic import *"
   ]
  },
  {
   "cell_type": "code",
   "execution_count": 4,
   "metadata": {
    "ExecuteTime": {
     "end_time": "2020-05-22T09:25:19.975068Z",
     "start_time": "2020-05-22T09:25:19.971988Z"
    },
    "code_folding": []
   },
   "outputs": [],
   "source": [
    "os.chdir(os.path.expanduser(\"~\"))"
   ]
  },
  {
   "cell_type": "code",
   "execution_count": 5,
   "metadata": {
    "ExecuteTime": {
     "end_time": "2020-05-22T09:25:20.004738Z",
     "start_time": "2020-05-22T09:25:19.976268Z"
    },
    "code_folding": []
   },
   "outputs": [],
   "source": [
    "\n",
    "exampleNpzFile = \"local_data/Sandra/2020_05_13/Experiment48c/Experiment48c_0_Series009-10.npz\"\n",
    "# exampleNpzFile = \"local_data/Sandra/2019_10_16/Experiment39a/Experiment39a_8_Series019.npz\"\n",
    "# exampleNpzFile = \"local_data/testdir/Experiment38a_18_Series040.npz\"\n",
    "# exampleRoiFile = \"local_data/srdjan_analysis/Experiment38b_11_Series041/Experiment38b_11_Series041.pkl\"\n",
    "# exampleNpzFile = \"local_data/MB/TRPM/TW/20170706-TRPM5-3/20170706-TRPM5-3_1_Series004.npz\"\n",
    "# exampleNpzFile = \"local_data/MB/TRPM/8Glc/TRPM5_KO/s0003.npz\""
   ]
  },
  {
   "cell_type": "code",
   "execution_count": 6,
   "metadata": {
    "ExecuteTime": {
     "end_time": "2020-05-22T09:25:20.020783Z",
     "start_time": "2020-05-22T09:25:20.005888Z"
    },
    "code_folding": [
     0,
     6,
     13
    ]
   },
   "outputs": [],
   "source": [
    "outputStyle = {\n",
    "    \"color\":\"blue\",\n",
    "    \"font-family\":\"Courier New\",\n",
    "    \"font-size\":\"80%\",\n",
    "    \"max-width\": \"700px\",\n",
    "    }\n",
    "infoStyle = {\n",
    "    \"font-size\":\"70%\",\n",
    "    \"font-family\":\"Arial\",\n",
    "    # \"background-color\":\"lightcyan\",\n",
    "    \"color\":\"grey\",\n",
    "    \"max-width\": \"700px\",\n",
    "    }\n",
    "bodyStyle = {\n",
    "    \"font-family\":\"Arial\",\n",
    "    \"max-width\": \"700px\",\n",
    "    }"
   ]
  },
  {
   "cell_type": "code",
   "execution_count": 7,
   "metadata": {
    "ExecuteTime": {
     "end_time": "2020-05-22T09:25:20.787875Z",
     "start_time": "2020-05-22T09:25:20.021883Z"
    }
   },
   "outputs": [],
   "source": [
    "baseFig = getFigure(w=200,h=150)"
   ]
  },
  {
   "cell_type": "code",
   "execution_count": 63,
   "metadata": {
    "ExecuteTime": {
     "end_time": "2020-05-22T10:01:43.015598Z",
     "start_time": "2020-05-22T10:01:42.876512Z"
    },
    "code_folding": []
   },
   "outputs": [],
   "source": [
    "## global vars\n",
    "test = \"srdjan\" in os.getcwd()\n",
    "# npzFile = None\n",
    "# metadata = None\n",
    "# movie = None\n",
    "regions = None\n",
    "debug = \"srdjan\" in os.getcwd()"
   ]
  },
  {
   "cell_type": "code",
   "execution_count": 64,
   "metadata": {
    "ExecuteTime": {
     "end_time": "2020-05-22T10:01:43.073471Z",
     "start_time": "2020-05-22T10:01:43.017020Z"
    }
   },
   "outputs": [],
   "source": [
    "if test:\n",
    "    %config InlineBackend.figure_format = 'retina'"
   ]
  },
  {
   "cell_type": "code",
   "execution_count": 65,
   "metadata": {
    "ExecuteTime": {
     "end_time": "2020-05-22T10:01:43.233083Z",
     "start_time": "2020-05-22T10:01:43.075179Z"
    },
    "code_folding": [
     89,
     102,
     115
    ]
   },
   "outputs": [],
   "source": [
    "app = JupyterDash(__name__,\n",
    "                  width=1000,\n",
    "                  height=1000,\n",
    "                 )\n",
    "\n",
    "APP_LAYOUT = [\n",
    "    \n",
    "    html.H1(children='CaRec Analyzer',style=bodyStyle),\n",
    "    html.Div(\"Please, think of a better name and let me know. :-)\",style=infoStyle),\n",
    "    html.Br(),\n",
    "    ####################################\n",
    "    html.Div('Enter path to a file and press enter.',style={**bodyStyle, \"display\":\"inline-box\"}),\n",
    "#     html.Div('If you I will not check for movement, so if you already have a motion-corrected file, input that directly.',style={**infoStyle, \"display\":\"inline-box\"}),\n",
    "    \n",
    "    dcc.Input(id=\"filename_input\",\n",
    "            type=\"text\",\n",
    "            placeholder=exampleNpzFile,\n",
    "            debounce=True,\n",
    "            size = 60,\n",
    "#             value=exampleRoiFile if test else \"\",\n",
    "            value=exampleNpzFile if test else \"\",\n",
    "        ),\n",
    "\n",
    "    html.Br(),\n",
    "    \n",
    "    html.Div(id=\"filename_feedback\", children=\"\",style=outputStyle),#To start, enter the full path to a file and press enter. Note, that loading can take a few seconds [for very large files even a minute].\n",
    "    \n",
    "    html.Div([html.Br(),\"    Re(set) Frequency to \"],style={**bodyStyle,'display': 'inline-block'}),\n",
    "    dcc.Input(id=\"freq_input\",\n",
    "        type=\"text\",\n",
    "        debounce=True,\n",
    "        size = 5,\n",
    "        value=\"\",\n",
    "        placeholder=\"3\",\n",
    "        style={'display': 'inline-block'}),    \n",
    "    html.Div(\"Hz  \",style={**bodyStyle,'display': 'inline-block'}),\n",
    "    html.Button(\"(Re)set frequency\", n_clicks=0, id=\"freq_button\"),\n",
    "\n",
    "    html.Div(\"[use if you need override automatic setting, or in the absence of metadata]\",style={**infoStyle,'display': 'inline-block'}),\n",
    "\n",
    "    html.Div(id=\"freq_feedback\", children=\"\",style=outputStyle),\n",
    "\n",
    "    html.Div(children=[html.Br(),\"    Spatial filtering \"],style={**bodyStyle,'display': 'inline-block'}),\n",
    "\n",
    "    dcc.Input(id=\"gSig_filt_input\",\n",
    "        type=\"text\",\n",
    "        debounce=True,\n",
    "        size = 5,\n",
    "        value=\"\",\n",
    "        placeholder=\"3\",\n",
    "        style={'display': 'inline-block'}),    \n",
    "\n",
    "    html.Div(html.Abbr(\n",
    "        children=\"[info]\",\n",
    "        title=\"\"\"For the proper analysis, you need to set the size of the spatial filter. Its value should be of the order of the  half of the typical cell dimension (in pixels!). \n",
    "You can also combine filtering at different scales by inputing a list of two (or more) integers. For example, '[5,3]' will combine filtering at 5 and at 3. Sometimes this capures better the finer structure.\n",
    "        \"\"\"\n",
    "        ),style={**infoStyle,'display': 'inline-block'}),\n",
    "    html.Button(\"Calculate ROIs\", n_clicks=0, id=\"rois_button\"),\n",
    "    html.Div(id=\"rois_feedback\", children=\"\",style=outputStyle),\n",
    "\n",
    "    html.Div(children=\"[optional] Filter\",style={**bodyStyle, 'display': 'inline-block'}),\n",
    "    \n",
    "    dcc.Input(id=\"filter_input\",\n",
    "        type=\"text\",\n",
    "        debounce=True,\n",
    "        size = 5,\n",
    "        placeholder=\"10\",\n",
    "        value=\"\",\n",
    "        style={'display': 'inline-block'}),\n",
    "    \n",
    "    html.Div(children=\" \",style={\"width\":\"20px\",'display': 'inline-block'}),\n",
    "    html.Div(children=\" \", id=\"filter_feedback\",\n",
    "             style={'display': 'inline-block',**outputStyle}),\n",
    "    \n",
    "    html.Div(style=infoStyle,\n",
    "        children=[\n",
    "        \"\"\"\n",
    "        Use this if you wish to see and/or output traces prefiltered.\n",
    "        Input the time scale (in seconds) of the longest event you wish to keep (e.g. 5), and press enter.\n",
    "        \"\"\",\n",
    "        html.Br(),],),\n",
    "    \n",
    "# #     html.H3(children='ROIs', style=bodyStyle),\n",
    "    \n",
    "    html.Div([\n",
    "        \"Show downsampled to\",\n",
    "        dcc.Input(id=\"show_freq_input\",\n",
    "            type=\"text\",\n",
    "            debounce=False,\n",
    "            size = 3,\n",
    "            value='5'),\n",
    "        \"Hz\"\n",
    "        ], style={**bodyStyle,\"display\":\"inline-block\", \"width\":\"49%\"}, ),\n",
    "    html.Div([\n",
    "        dcc.Checklist(\n",
    "            id=\"show_filtered_choice\",\n",
    "            options=[{\"label\":'Show filtered',\"value\":\"yes\"}],\n",
    "            value=[],\n",
    "            labelStyle={'vertical-align': 'bottom'},\n",
    "            style={**bodyStyle,\"display\":\"inline-box\",}\n",
    "            ),\n",
    "        \n",
    "        ]),\n",
    "    html.Br(),\n",
    "    html.Div(dcc.Graph(id='roi_selector',    figure=baseFig), style={\"display\":\"inline-block\"}),\n",
    "    html.Div(dcc.Graph(id='show_hover_trace',figure=baseFig), style={\"display\":\"inline-block\"}),\n",
    "    html.Br(),\n",
    "    html.Div(children=\n",
    "        html.Pre(\n",
    "        id=\"hover_out\",\n",
    "        children=\"hover\",\n",
    "        style={\n",
    "            \"vertical-align\":\"top\",\n",
    "            \"width\"    : \"200px\",\n",
    "            \"height\"   : \"100px\" if debug else \"0px\",\n",
    "            'border'   : 'thin lightgrey solid',\n",
    "            'overflowY': 'scroll',\n",
    "            \"display\"  : \"inline-box\"\n",
    "              }),\n",
    "             style={\"display\":\"inline-block\"}),\n",
    "    html.Div(children=\n",
    "        html.Pre(\n",
    "        id=\"selected_out\",\n",
    "        children=\"selected\",\n",
    "        style={\n",
    "            \"vertical-align\":\"top\",\n",
    "            \"width\"    : \"200px\",\n",
    "            \"height\"   : \"100px\" if debug else \"0px\",\n",
    "            'border'   : 'thin lightgrey solid',\n",
    "            'overflowY': 'scroll',\n",
    "            \"display\"  : \"inline-box\"\n",
    "              }),\n",
    "             style={\"display\":\"inline-block\"}),\n",
    "    html.Div(children=\n",
    "        html.Pre(\n",
    "        id=\"hover_plot_out\",\n",
    "        children=\"hover plot out\",\n",
    "        style={\n",
    "            \"vertical-align\":\"top\",\n",
    "            \"width\"    : \"200px\",\n",
    "            \"height\"   : \"100px\" if debug else \"0px\",\n",
    "            'border'   : 'thin lightgrey solid',\n",
    "            'overflowY': 'scroll',\n",
    "            \"display\"  : \"inline-box\"\n",
    "              }),\n",
    "             style={\"display\":\"inline-block\"}),\n",
    "    html.Div(children=\n",
    "        html.Pre(\n",
    "        id=\"spare_out\",\n",
    "        children=\"spare\",\n",
    "        style={\n",
    "            \"vertical-align\":\"top\",\n",
    "            \"width\"    : \"200px\",\n",
    "            \"height\"   : \"100px\" if debug else \"0px\",\n",
    "            'border'   : 'thin lightgrey solid',\n",
    "            'overflowY': 'scroll',\n",
    "            \"display\"  : \"inline-box\"\n",
    "              }),\n",
    "             style={\"display\":\"inline-block\"}),\n",
    "    \n",
    "    html.Div([\n",
    "       \"Selected ROIs:\",\n",
    "        dcc.Input(id=\"selected_indices\",\n",
    "            type=\"text\",\n",
    "            debounce=True,\n",
    "            size=60,\n",
    "            value=\"\",\n",
    "         ), \n",
    "        html.Button('Discard unselected', id='discard_button', style={\"display\":\"inline-box\"},\n",
    "                    n_clicks=0\n",
    "                   ),\n",
    "        html.Div(id=\"discard_feedback\",children=\"\",\n",
    "             style={\"display\":\"inline-box\",**outputStyle,\n",
    "#                     \"width\":100\n",
    "                   }\n",
    "            )\n",
    "    ],style={**bodyStyle,\"display\":\"inline-box\"}),\n",
    "    \n",
    "    \n",
    "    html.Div([\n",
    "    html.Button('Plot selected', id='plot_selected_button', style={\"display\":\"inline-box\"},\n",
    "                n_clicks=0\n",
    "               ),\n",
    "        html.Div(\"... with offset: \", style={**bodyStyle,\"display\":\"inline-block\"}),\n",
    "        html.Div(dcc.Input(id=\"offset_input\",\n",
    "            type=\"text\",\n",
    "            debounce=False,\n",
    "            size=3,\n",
    "            value='1'), style={**bodyStyle,\"display\":\"inline-block\"}),\n",
    "        html.Div(\"(only when showing filtered)\", style={**infoStyle,\"display\":\"inline-block\"}),\n",
    "    ]),\n",
    "    \n",
    "    \n",
    "    html.Div(dcc.Graph(id='show_selected_traces',figure=getFigure(h=10,w=700))),\n",
    "    \n",
    "\n",
    "#     # html.Div([\n",
    "#     #     \"Save tag to selected rois: \",\n",
    "#     #     dcc.Input(id=\"tag_save\",\n",
    "#     #         type=\"text\",\n",
    "#     #         debounce=False,\n",
    "#     #         size = 30,\n",
    "#     #         placeholder=\"e.g. beta, alpha, edge, central...\",\n",
    "#     #         value=''),\n",
    "#     #     html.Div(\"save_tag_feedback\",style=outputStyle,id=\"save_tag_feedback\"),\n",
    "#     # ]),\n",
    "    \n",
    "    \n",
    "    html.H3(\"Save all\"),\n",
    "    html.Div([\n",
    "        \"When you are happy with your analysis, you can save it. By default, the analysis (traces and coordinates) is saved as the current date (e.g. 2020_02_18) in the directory\",\n",
    "        html.Div(\"\",style=outputStyle,id=\"analysis_folder\"),\n",
    "        \"You can modify the filename by adding to it some other identifier(s) by entering them in the input box below. I suggest your username.\",\n",
    "        \"When you are ready, press save.\"\n",
    "        \"Note also that the traces and times will be saved with the frequency close (yet not necessarily the same) to the one given in the field 'Show downsampled'. \"\n",
    "    ]),\n",
    "    dcc.Input(id=\"save_file_append\",\n",
    "        type=\"text\",\n",
    "        debounce=False,\n",
    "        size = 30,\n",
    "        placeholder=\"e.g. username\",\n",
    "        value='',style={\"display\":\"inline-box\"}),\n",
    "    html.Button('Save', id='save_button', style={\"display\":\"inline-box\"},\n",
    "                n_clicks=0\n",
    "               ),\n",
    "    html.Div(id=\"save_feedback\",\n",
    "             style={\"display\":\"inline-box\",**outputStyle}\n",
    "            )\n",
    "    ]\n",
    "\n",
    "# test=False"
   ]
  },
  {
   "cell_type": "code",
   "execution_count": 66,
   "metadata": {
    "ExecuteTime": {
     "end_time": "2020-05-22T10:01:43.239013Z",
     "start_time": "2020-05-22T10:01:43.234579Z"
    },
    "code_folding": []
   },
   "outputs": [],
   "source": [
    "# @app.callback([Output(\"filename_feedback\", \"children\"),\n",
    "#                Output(\"gSig_filt_input\", \"value\"),\n",
    "#                Output(\"freq_input\", \"value\"),\n",
    "#                Output(\"analysis_folder\",\"children\")\n",
    "#               ],\n",
    "#               [Input(\"filename_input\", \"value\")],\n",
    "# #               [State(\"check_movement_choice\",\"value\")]\n",
    "#              )\n",
    "# def loadFiles(val):\n",
    "#     if str(val)==\"\":\n",
    "#         return ('Loading can take a some time [for very large files even minutes].',\"\",\"\",\"\")\n",
    "#     try:\n",
    "#         from pandas import read_csv\n",
    "#         global regions, movie\n",
    "#         npzFile = val\n",
    "#         if val.endswith(\".npz\"):\n",
    "#             analysisFolder = npzFile.replace(\".npz\",\"_analysis\")\n",
    "#             if test:\n",
    "#                 try:\n",
    "#                     reimport = regions.analysisFolder!=analysisFolder\n",
    "#                 except:\n",
    "#                     reimport = True\n",
    "#             else:\n",
    "#                 reimport = True\n",
    "            \n",
    "#             feedback = []\n",
    "#             if reimport:\n",
    "#                 serrange = npzFile.rstrip(\".npz\").split(\"Series\")[1].split(\"-\")\n",
    "#                 serrange = [int(el) for el in serrange]\n",
    "#                 singleFile = len(serrange)==1\n",
    "#                 if singleFile:\n",
    "#                     movie = import_npz_files([npzFile])\n",
    "#                     feedback += [\n",
    "#                         f\"{npzFile} loaded successfully.\",\n",
    "#                         html.Br(),\n",
    "#                     ]\n",
    "#                 else:\n",
    "#                     if len(serrange)>2:\n",
    "#                         feedback += [\"Expecting only two numbers (beginning and end), but got more than that. Proceeding with the first and the last. \"]\n",
    "#                     serrange = range(serrange[0],serrange[-1]+1)\n",
    "#                     npzFiles = [npzFile.split(\"Series\")[0]+\"Series%03i.npz\"%i for i in serrange]\n",
    "#                     movie = import_npz_files(npzFiles)\n",
    "#                     for f in npzFiles:\n",
    "#                         feedback += [\n",
    "#                             f\"{f} loaded successfully.\",\n",
    "#                             html.Br(),\n",
    "#                         ]\n",
    "#                 movie = movie.astype(\"float\")\n",
    "#                 if len(movie.shape)==2:        \n",
    "#                     movie = movie.reshape((1,-1))\n",
    "#                 movie = cmovie(movie)\n",
    "                \n",
    "#             try:\n",
    "#                 if singleFile:\n",
    "#                     metadata = read_csv(npzFile.replace(\"npz\",\"txt\")).loc[0]\n",
    "#                 else:\n",
    "#                     feedback += [\"Assuimng the metadata for all recording are the same, and importing it from the first recording only.\",\n",
    "#                             html.Br(),]\n",
    "#                     metadata = read_csv(npzFiles[0].replace(\"npz\",\"txt\")).loc[0]\n",
    "#                 movie.fr = metadata.freq\n",
    "#                 timeframes = metadata['T']\n",
    "#                 if singleFile: assert timeframes==len(movie)\n",
    "#                 freq = metadata.freq\n",
    "#                 pxsize = metadata.pxSize\n",
    "#                 feedback += [\n",
    "#                     f\"Info from metadata: frequency {freq:.4} Hz, and pixel size {pxsize:.3} µm. \",\n",
    "#                 ]\n",
    "#                 if pxsize<1:\n",
    "#                     feedback += [\n",
    "#                     f\"This is too tiny pixel, so I will decrease the resolution to increase the pixel size twice to {(2*pxsize):.3} µm. \",\n",
    "#                     ]\n",
    "#                     movie = rebin(rebin(movie, 2, axis=1, norm=False), 2, axis=2, norm=False)\n",
    "#                     pxsize *= 2\n",
    "#                 outFilterSize = str(int(np.ceil(6./pxsize)))\n",
    "#                 feedback += [\n",
    "#                     html.Br(),\n",
    "#                     f\"Automatic size of the spatial filter based on the pixel size: {outFilterSize} [you can change it below] \",\n",
    "#                     html.Br(),]\n",
    "#             except:\n",
    "#                 feedback += [\n",
    "#                     f\"WARNING: Missing medatada. I will assume a frequncy of 1Hz for the first setup.\",\n",
    "#                     \"In case you actually know the frequency, you can change it down.\"\n",
    "#                     \"Also, think carefully about the size of the spatial filter. See hover info.\",\n",
    "#                 html.Br(),\n",
    "#                 ]\n",
    "#                 outFilterSize = None\n",
    "#                 freq = 1\n",
    "                \n",
    "#             movie.fr = freq\n",
    "                \n",
    "\n",
    "#             # resample temporarily to lower frequency, to initiate ROIs and check for motion correction\n",
    "#             if freq>3:\n",
    "\n",
    "#                 freqMC = 3\n",
    "#                 n_rebin = int(movie.fr/freqMC)\n",
    "\n",
    "#                 rebinned_movie = rebin(movie,n_rebin).astype(\"float32\")\n",
    "#                 rebinned_movie = cmovie(rebinned_movie)\n",
    "#                 rebinned_movie.fr = movie.fr/n_rebin\n",
    "#             else:\n",
    "#                 rebinned_movie = movie.astype(\"float32\")\n",
    "\n",
    "#             # initiate ROIs\n",
    "# #             regions = createRegions(rebinned_movie, gSig_filt=None, full=False, mode=\"diff_std\", dr)\n",
    "#             regions = Regions(rebinned_movie, full=False, diag=True)\n",
    "#             del regions.statImages[\"diff_mean\"]\n",
    "#             regions.movie = movie\n",
    "#             regions.file = val\n",
    "#             try: regions.metadata = metadata\n",
    "#             except: pass\n",
    "            \n",
    "\n",
    "#             return (feedback, outFilterSize,str(freq), analysisFolder)\n",
    "        \n",
    "#         if val.endswith(\".roi\") or val.endswith(\".pkl\"):\n",
    "#             if test:\n",
    "#                 try: regions.time\n",
    "#                 except:\n",
    "#                     with open(val,\"rb\") as f:\n",
    "#                         regions = pickle.load(f)\n",
    "#             else:\n",
    "#                 with open(val,\"rb\") as f:\n",
    "#                     regions = pickle.load(f)\n",
    "                    \n",
    "#             freq = 1/np.diff(regions.time).mean()\n",
    "#             regions.movie.fr = freq\n",
    "#             regions.file = val\n",
    "#             feedback = [f\"Roi file imported successfully. The movie dimensions (T,X,Y) are {regions.movie.shape}, and the frequency is {freq:.1f}Hz. This means the duration of the recording is {regions.movie.shape[0]/freq:.1f}s.\"]\n",
    "#             feedback += [html.Br(), f\"The file was saved with the filter size(s): {regions.filterSize}\"]\n",
    "#             filterOut = str(regions.filterSize).replace(\" \",\",\")\n",
    "#             freqOut = \"%.1f\"%freq\n",
    "#             analysisFolder = os.path.split(val)[0]+\"/\"\n",
    "#             return (feedback, filterOut, freqOut, analysisFolder)\n",
    "            \n",
    "#     except:\n",
    "#         return ([html.P(\"ERROR: \"+exc_info().__repr__())], \"\", \"\", \"\")"
   ]
  },
  {
   "cell_type": "code",
   "execution_count": 67,
   "metadata": {
    "ExecuteTime": {
     "end_time": "2020-05-22T10:01:43.264899Z",
     "start_time": "2020-05-22T10:01:43.240172Z"
    }
   },
   "outputs": [],
   "source": [
    "def loadNpzFiles(val, dryrun=False, reimport=True):\n",
    "    from pandas import read_csv\n",
    "    npzFile = val\n",
    "    analysisFolder = npzFile.replace(\".npz\",\"_analysis\")\n",
    "    feedback = []\n",
    "    if reimport:\n",
    "        serrange = npzFile.rstrip(\".npz\").split(\"Series\")[1].split(\"-\")\n",
    "        serrange = [int(el) for el in serrange]\n",
    "        singleFile = len(serrange)==1\n",
    "        if singleFile:\n",
    "            if dryrun:\n",
    "                movie = np.zeros((100,10,10))\n",
    "            else:\n",
    "                movie = import_npz_files([npzFile])\n",
    "            feedback += [\n",
    "                f\"{npzFile} loaded successfully.\",\n",
    "                html.Br(),\n",
    "            ]\n",
    "        else:\n",
    "            if len(serrange)>2:\n",
    "                feedback += [\"Expecting only two numbers (beginning and end), but got more than that. Proceeding with the first and the last. \"]\n",
    "            serrange = range(serrange[0],serrange[-1]+1)\n",
    "            ianchor = int(os.path.split(val)[1].split(\"_Series\")[0].split(\"_\")[-1])\n",
    "            npzFiles = [(npzFile.split(\"Series\")[0]+\"Series%03i.npz\"%i).replace(f\"_{ianchor}_\", f\"_{ianchor+ia}_\") for ia,i in enumerate(serrange)]\n",
    "            if dryrun:\n",
    "                movie = np.zeros((100,10,10))\n",
    "            else:\n",
    "                movie = import_npz_files(npzFiles)\n",
    "            for f in npzFiles:\n",
    "                feedback += [\n",
    "                    f\"{f} loaded successfully.\",\n",
    "                    html.Br(),\n",
    "                ]\n",
    "        movie = movie.astype(\"float\")\n",
    "        if len(movie.shape)==2:        \n",
    "            movie = movie.reshape((1,-1))\n",
    "        movie = cmovie(movie)\n",
    "\n",
    "    try:\n",
    "        if singleFile:\n",
    "            metadata = read_csv(npzFile.replace(\"npz\",\"txt\")).loc[0]\n",
    "        else:\n",
    "            feedback += [\"Assuimng the metadata for all recording are the same, and importing it from the first recording only.\",\n",
    "                    html.Br(),]\n",
    "            metadata = read_csv(npzFiles[0].replace(\"npz\",\"txt\")).loc[0]\n",
    "        movie.fr = metadata.freq\n",
    "        timeframes = metadata['T']\n",
    "        if singleFile: assert timeframes==len(movie)\n",
    "        freq = metadata.freq\n",
    "        pxsize = metadata.pxSize\n",
    "        feedback += [\n",
    "            f\"Info from metadata: frequency {freq:.4} Hz, and pixel size {pxsize:.3} µm. \",\n",
    "        ]\n",
    "        if pxsize<1:\n",
    "            feedback += [\n",
    "            f\"This is too tiny pixel, so I will decrease the resolution to increase the pixel size twice to {(2*pxsize):.3} µm. \",\n",
    "            ]\n",
    "            movie = rebin(rebin(movie, 2, axis=1, norm=False), 2, axis=2, norm=False)\n",
    "            pxsize *= 2\n",
    "        outFilterSize = str(int(np.ceil(6./pxsize)))\n",
    "        feedback += [\n",
    "            html.Br(),\n",
    "            f\"Automatic size of the spatial filter based on the pixel size: {outFilterSize} [you can change it below] \",\n",
    "            html.Br(),]\n",
    "    except:\n",
    "        feedback += [\n",
    "            f\"WARNING: Missing medatada. I will assume a frequncy of 1Hz for the first setup.\",\n",
    "            \"In case you actually know the frequency, you can change it down.\"\n",
    "            \"Also, think carefully about the size of the spatial filter. See hover info.\",\n",
    "        html.Br(),\n",
    "        ]\n",
    "        outFilterSize = None\n",
    "        freq = 1\n",
    "\n",
    "    movie.fr = freq\n",
    "\n",
    "\n",
    "    # resample temporarily to lower frequency, to initiate ROIs and check for motion correction\n",
    "    if freq>3:\n",
    "\n",
    "        freqMC = 3\n",
    "        n_rebin = int(movie.fr/freqMC)\n",
    "\n",
    "        rebinned_movie = rebin(movie,n_rebin).astype(\"float32\")\n",
    "        rebinned_movie = cmovie(rebinned_movie)\n",
    "        rebinned_movie.fr = movie.fr/n_rebin\n",
    "    else:\n",
    "        rebinned_movie = movie.astype(\"float32\")\n",
    "\n",
    "    # initiate ROIs\n",
    "    regions = Regions(rebinned_movie, full=False, diag=True)\n",
    "    del regions.statImages[\"diff_mean\"]\n",
    "    regions.movie = movie\n",
    "    regions.file = val\n",
    "    regions.analysisFolder = analysisFolder\n",
    "    try: regions.metadata = metadata\n",
    "    except: pass\n",
    "\n",
    "    return (feedback, outFilterSize, regions)\n"
   ]
  },
  {
   "cell_type": "code",
   "execution_count": 68,
   "metadata": {
    "ExecuteTime": {
     "end_time": "2020-05-22T10:01:43.282742Z",
     "start_time": "2020-05-22T10:01:43.266134Z"
    }
   },
   "outputs": [],
   "source": [
    "def loadFiles(val):\n",
    "    global regions\n",
    "    if val.endswith(\".npz\"):\n",
    "        feedback, outFilterSize, regions = loadNpzFiles(val)\n",
    "\n",
    "        return (feedback, outFilterSize,regions.movie.fr, regions.analysisFolder)\n",
    "\n",
    "    if val.endswith(\".roi\") or val.endswith(\".pkl\"):\n",
    "        if test:\n",
    "            try: regions.time\n",
    "            except:\n",
    "                with open(val,\"rb\") as f:\n",
    "                    regions = pickle.load(f)\n",
    "        else:\n",
    "            with open(val,\"rb\") as f:\n",
    "                regions = pickle.load(f)\n",
    "\n",
    "        freq = 1/np.diff(regions.time).mean()\n",
    "        regions.movie.fr = freq\n",
    "        regions.file = val\n",
    "        feedback = [f\"Roi file imported successfully. The movie dimensions (T,X,Y) are {regions.movie.shape}, and the frequency is {freq:.1f}Hz. This means the duration of the recording is {regions.movie.shape[0]/freq:.1f}s.\"]\n",
    "        feedback += [html.Br(), f\"The file was saved with the filter size(s): {regions.filterSize}\"]\n",
    "        filterOut = str(regions.filterSize).replace(\" \",\",\")\n",
    "        freqOut = \"%.1f\"%freq\n",
    "        analysisFolder = os.path.split(val)[0]+\"/\"\n",
    "        return (feedback, filterOut, freqOut, analysisFolder)\n"
   ]
  },
  {
   "cell_type": "code",
   "execution_count": 69,
   "metadata": {
    "ExecuteTime": {
     "end_time": "2020-05-22T10:01:43.302622Z",
     "start_time": "2020-05-22T10:01:43.283859Z"
    }
   },
   "outputs": [],
   "source": [
    "@app.callback([Output(\"filename_feedback\", \"children\"),\n",
    "               Output(\"gSig_filt_input\", \"value\"),\n",
    "               Output(\"freq_input\", \"value\"),\n",
    "               Output(\"analysis_folder\",\"children\")\n",
    "              ],\n",
    "              [Input(\"filename_input\", \"value\")],\n",
    "#               [State(\"check_movement_choice\",\"value\")]\n",
    "             )\n",
    "def loadFiles_callback(val):\n",
    "    if str(val)==\"\":\n",
    "        return ('Loading can take a some time [for very large files even minutes].',\"\",\"\",\"\")\n",
    "    try:\n",
    "        global regions\n",
    "        if val.endswith(\".npz\"):\n",
    "            feedback, outFilterSize, regions = loadNpzFiles(val)\n",
    "            \n",
    "            return (feedback, outFilterSize,regions.movie.fr, regions.analysisFolder)\n",
    "        \n",
    "        if val.endswith(\".roi\") or val.endswith(\".pkl\"):\n",
    "            if test:\n",
    "                try: regions.time\n",
    "                except:\n",
    "                    with open(val,\"rb\") as f:\n",
    "                        regions = pickle.load(f)\n",
    "            else:\n",
    "                with open(val,\"rb\") as f:\n",
    "                    regions = pickle.load(f)\n",
    "                    \n",
    "            freq = 1/np.diff(regions.time).mean()\n",
    "            regions.movie.fr = freq\n",
    "            regions.file = val\n",
    "            feedback = [f\"Roi file imported successfully. The movie dimensions (T,X,Y) are {regions.movie.shape}, and the frequency is {freq:.1f}Hz. This means the duration of the recording is {regions.movie.shape[0]/freq:.1f}s.\"]\n",
    "            feedback += [html.Br(), f\"The file was saved with the filter size(s): {regions.filterSize}\"]\n",
    "            filterOut = str(regions.filterSize).replace(\" \",\",\")\n",
    "            freqOut = \"%.1f\"%freq\n",
    "            analysisFolder = os.path.split(val)[0]+\"/\"\n",
    "            return (feedback, filterOut, freqOut, analysisFolder)\n",
    "            \n",
    "    except:\n",
    "        return ([html.P(\"ERROR: \"+exc_info().__repr__())], \"\", \"\", \"\")"
   ]
  },
  {
   "cell_type": "code",
   "execution_count": 71,
   "metadata": {
    "ExecuteTime": {
     "end_time": "2020-05-22T09:22:02.040079Z",
     "start_time": "2020-05-22T09:22:02.014530Z"
    },
    "code_folding": []
   },
   "outputs": [],
   "source": [
    "@app.callback(\n",
    "    Output(\"freq_feedback\", \"children\"),\n",
    "    [Input(\"freq_button\", \"n_clicks\")],\n",
    "    [State(\"freq_input\", \"value\")]\n",
    "             )\n",
    "def resetFreq_callback(n_clicks,newfreq):\n",
    "\n",
    "    try:\n",
    "        if n_clicks <= 0:\n",
    "            return \"\"\n",
    "        else:\n",
    "            global regions\n",
    "            newFreq = float(newfreq)\n",
    "            regions.time = np.arange(len(regions.movie))/newFreq\n",
    "            regions.movie.fr = newFreq\n",
    "            return \"Movie frequency set to %.1f Hz\"%newFreq\n",
    "    except:\n",
    "            return \"ERROR: \"+exc_info().__repr__()"
   ]
  },
  {
   "cell_type": "code",
   "execution_count": 72,
   "metadata": {
    "ExecuteTime": {
     "end_time": "2020-05-22T09:22:02.061661Z",
     "start_time": "2020-05-22T09:22:02.041274Z"
    }
   },
   "outputs": [],
   "source": [
    "# regions.constructRois(regions.statImages[regions.mode][:100,:], gSig_filt=11, diag=False)"
   ]
  },
  {
   "cell_type": "code",
   "execution_count": 73,
   "metadata": {
    "ExecuteTime": {
     "end_time": "2020-05-22T09:22:02.076102Z",
     "start_time": "2020-05-22T09:22:02.062734Z"
    },
    "code_folding": []
   },
   "outputs": [],
   "source": [
    "@app.callback([\n",
    "    Output(\"rois_feedback\", \"children\"),\n",
    "    Output(\"roi_selector\",\"figure\")\n",
    "    ],\n",
    "    [Input(\"rois_button\", \"n_clicks\")],\n",
    "    [State(\"gSig_filt_input\", \"value\")]\n",
    "             )\n",
    "def rois_callback(n_clicks,val):\n",
    "\n",
    "    try:\n",
    "        if n_clicks <= 0:\n",
    "            return \"\", baseFig\n",
    "        else:\n",
    "            global regions\n",
    "        x = eval(val)\n",
    "        if type(x) == int:\n",
    "            x = [x]\n",
    "        feedback = []\n",
    "        if not hasattr(regions, \"filterSize\") or sorted(regions.filterSize) != sorted(x):\n",
    "            feedback += [f\"Size of the spatial filter changed to {x}.\",html.Br()]\n",
    "            regions.constructRois(regions.statImages[regions.mode], gSig_filt=x, diag=True)\n",
    "            # merge obvious ROIs\n",
    "            from Regions import getPeak2BoundaryDF, getGraph_of_ROIs_to_Merge, mergeBasedOnGraph\n",
    "            while True:\n",
    "                peak2bnd = getPeak2BoundaryDF(regions.df)\n",
    "                df = peak2bnd.query(\"dist<1.\")[[\"i\",\"j\"]]\n",
    "                if len(df)==0: break\n",
    "                gRois = getGraph_of_ROIs_to_Merge(df,regions,plot=False)\n",
    "                dropped = mergeBasedOnGraph(gRois,regions)\n",
    "                if dropped == 0: break\n",
    "\n",
    "            regions.purge_lones((min(x)*.5)**2)\n",
    "            regions.sortFromCenter()\n",
    "        \n",
    "            \n",
    "        feedback += [f\" Number of ROIs: {len(regions.df)}\"]\n",
    "        im = regions.statImages[\"diff_std\"]\n",
    "        roisImage = showRoisOnly(regions,indices=regions.df.index,im=im)\n",
    "\n",
    "#         roisImage.update_layout({\"width\":220,\"height\":240})\n",
    "#         aspectRatio = im[1]/im[0]\n",
    "        \n",
    "        return feedback, roisImage\n",
    "\n",
    "    except:\n",
    "            return \"ERROR: \"+exc_info().__repr__(), baseFig"
   ]
  },
  {
   "cell_type": "code",
   "execution_count": 74,
   "metadata": {
    "ExecuteTime": {
     "end_time": "2020-05-22T09:22:02.099098Z",
     "start_time": "2020-05-22T09:22:02.077133Z"
    }
   },
   "outputs": [],
   "source": [
    "@app.callback(\n",
    "    Output(\"selected_out\", \"children\"),\n",
    "    [Input(\"roi_selector\", \"selectedData\")],\n",
    "    )\n",
    "def showSelected(selData):\n",
    "    try:\n",
    "        return json.dumps(selData, indent=2)\n",
    "    except:\n",
    "        return \"ERROR from hover: \"+exc_info().__repr__() \n",
    "\n",
    "@app.callback(\n",
    "    Output(\"selected_indices\", \"value\"),\n",
    "    [Input(\"roi_selector\", \"selectedData\")]\n",
    ")\n",
    "def collectSelected(selData):\n",
    "    try:\n",
    "        out = np.unique([pt[\"hovertext\"] for pt in selData[\"points\"]])\n",
    "        out = sorted(out,key=int)\n",
    "        return \", \".join(out)\n",
    "    except:\n",
    "        return \"\" "
   ]
  },
  {
   "cell_type": "code",
   "execution_count": 75,
   "metadata": {
    "ExecuteTime": {
     "end_time": "2020-05-22T09:22:02.121598Z",
     "start_time": "2020-05-22T09:22:02.100183Z"
    },
    "code_folding": []
   },
   "outputs": [],
   "source": [
    "\n",
    "\n",
    "@app.callback(\n",
    "#      Output(\"roi_selector\", \"figure\"),\n",
    "     Output(\"discard_feedback\", \"children\"),\n",
    "    [Input(\"discard_button\",   \"n_clicks\")],\n",
    "    [State(\"selected_indices\", \"value\")]\n",
    "             )\n",
    "def discard_callback(n_clicks,selected):\n",
    "    try:\n",
    "        if n_clicks <= 0:\n",
    "            return \"\"\n",
    "\n",
    "        global regions\n",
    "        if selected == \"\":\n",
    "            out = \"nothing selected.\"\n",
    "        else:\n",
    "            selectedIndices = np.array(list(eval(selected)))\n",
    "            nremoved = len(regions.df)-len(selectedIndices)\n",
    "            regions.df = regions.df.loc[selectedIndices]\n",
    "            out = \"%i rois removed. Please, press again the button to 'Calculate Rois', to replot the remaining rois.\"%(nremoved)\n",
    "\n",
    "#         roisImage = showRoisOnly(regions,indices=regions.df.index,im=regions.statImages[\"diff_std\"])\n",
    "#         if narrowHover:\n",
    "#             roisImage.update_layout({\"width\":220,\"height\":240})\n",
    "        return out\n",
    "    except:\n",
    "        return \"ERROR: \"+exc_info().__repr__()"
   ]
  },
  {
   "cell_type": "code",
   "execution_count": 76,
   "metadata": {
    "ExecuteTime": {
     "end_time": "2020-05-22T09:22:02.136126Z",
     "start_time": "2020-05-22T09:22:02.123196Z"
    },
    "code_folding": []
   },
   "outputs": [],
   "source": [
    "@app.callback(\n",
    "    [Output(\"show_hover_trace\", \"figure\"),\n",
    "     Output(\"hover_plot_out\", \"children\")],\n",
    "    [Input(\"roi_selector\", \"hoverData\")],\n",
    "    [State(\"show_freq_input\", \"value\"),\n",
    "     State(\"show_filtered_choice\", \"value\"),])\n",
    "def plotHovered_callback(hoverData, showFreq, showFiltered):\n",
    "    try:\n",
    "        global regions\n",
    "        showFreq = float(showFreq)\n",
    "        filtered = bool(len(showFiltered))\n",
    "        colToshow = parseCol(regions, showFreq, filtered)\n",
    "        showCol = [colToshow]\n",
    "        #if filtered:\n",
    "            #try: showCol += [colToshow+\"_slow\"]\n",
    "            #except: pass\n",
    "        try:\n",
    "            hoverData.dtype\n",
    "            ix = hoverData\n",
    "        except:\n",
    "            ix = [int(hoverData[\"points\"][0][\"hovertext\"])]\n",
    "\n",
    "        trfig = plotTraces(regions,indices=ix,time=regions.showTime[colToshow], showCol=showCol)\n",
    "#         if narrowHover:\n",
    "#         trfig.update_layout({\"width\":220,\"height\":200})\n",
    "        return trfig,\"ok \"\n",
    "    except:\n",
    "        return baseFig,\"ERROR from plotHovered_callback: \"+exc_info().__repr__() "
   ]
  },
  {
   "cell_type": "code",
   "execution_count": 77,
   "metadata": {
    "ExecuteTime": {
     "end_time": "2020-05-22T09:22:02.170439Z",
     "start_time": "2020-05-22T09:22:02.137313Z"
    },
    "code_folding": [
     0
    ]
   },
   "outputs": [],
   "source": [
    "def parseCol(regions, showFreq, filtered):\n",
    "    if not hasattr(regions,\"time\"):\n",
    "        regions.calcTraces(movie)\n",
    "    if \"trace\" not in regions.df:\n",
    "        regions.calcTraces(movie)\n",
    "    if filtered:\n",
    "        col = \"showFilteredTrace_%.1f\"%showFreq\n",
    "        col0 = \"filteredTrace\"\n",
    "    else:\n",
    "        col = \"showTrace_%.1f\"%showFreq\n",
    "        col0 = \"trace\"\n",
    "    regions.df[col0]\n",
    "    if not hasattr(regions,\"showTime\"):\n",
    "        print ('creating empty showTime.')\n",
    "        regions.showTime = {}\n",
    "    if col not in regions.df.columns:\n",
    "        n_Avg = int(regions.movie.fr/showFreq)\n",
    "        n_Avg = max(1,n_Avg)\n",
    "        if n_Avg<=1:\n",
    "            regions.showTime[col] = regions.time\n",
    "            regions.df[col] = regions.df[col0]\n",
    "        else:\n",
    "            print ('creating',col)\n",
    "            regions.showTime[col] = rebin(regions.time,n_Avg)\n",
    "            regions.df[col] = list(np.ones((len(regions.df),len(regions.showTime[col]))))\n",
    "            #if filtered:\n",
    "                #regions.df[col+\"_slow\"] = list(np.ones((len(regions.df),len(regions.showTime[col]))))\n",
    "            for i in regions.df.index:\n",
    "                if i==0:\n",
    "                    print (\"filling in\", col)\n",
    "                regions.df[col].loc[i] = rebin(regions.df.loc[i,col0],n_Avg)\n",
    "                #regions.df[col+\"_slow\"].loc[i] = rebin(regions.df.loc[i,col0+\"_slow\"],n_Avg)\n",
    "    return col"
   ]
  },
  {
   "cell_type": "code",
   "execution_count": 78,
   "metadata": {
    "ExecuteTime": {
     "end_time": "2020-05-22T09:22:02.209501Z",
     "start_time": "2020-05-22T09:22:02.171542Z"
    },
    "code_folding": [
     4
    ]
   },
   "outputs": [],
   "source": [
    "@app.callback(\n",
    "    Output(\"filter_feedback\", \"children\"),\n",
    "    [Input(\"filter_input\", \"value\")]\n",
    "             )\n",
    "def filter_callback(val):\n",
    "    try:\n",
    "        if val == \"\":\n",
    "            feedback = \"\"\n",
    "        else:\n",
    "            global regions\n",
    "            timeScale = float(val)\n",
    "            filterSize = int(timeScale*regions.movie.fr)\n",
    "            if filterSize<10:\n",
    "                return f\"Filer size would need to be {filterSize}. This is too short time scale. I cannot work like this! :-P\"\n",
    "            feedback = \"You chose to discard all time structure longer than %g seconds.\"%timeScale\n",
    "            if filterSize<20:\n",
    "                feedback = \" This a rather short time scale, can't guarantee for the results.\"\n",
    "            if \"faster_%g\"%timeScale not in regions.df:\n",
    "                regions.filter_traces(timeScale,percentile = [10,10], calcStd=False)\n",
    "            regions.df[\"filteredTrace\"] = regions.df[\"faster_%g\"%timeScale]\n",
    "            regions.df[\"filteredTrace_slow\"] = regions.df[\"faster_%g\"%timeScale]\n",
    "            for col in regions.df.columns:\n",
    "                if \"show\" in col:\n",
    "                    del regions.df[col]\n",
    "            feedback += \" Filtering successful.\"\n",
    "        return feedback\n",
    "    except:\n",
    "        return \"ERROR: \"+exc_info().__repr__()\n",
    "    "
   ]
  },
  {
   "cell_type": "code",
   "execution_count": 79,
   "metadata": {
    "ExecuteTime": {
     "end_time": "2020-05-22T09:22:02.241577Z",
     "start_time": "2020-05-22T09:22:02.210559Z"
    },
    "code_folding": [
     9
    ]
   },
   "outputs": [],
   "source": [
    "@app.callback(\n",
    "    [Output(\"show_selected_traces\", \"figure\"),\n",
    "     Output(\"spare_out\", \"children\"),\n",
    "    ],\n",
    "    [Input(\"plot_selected_button\", \"n_clicks\")],\n",
    "    [State(\"selected_indices\", \"value\"),\n",
    "     State(\"show_freq_input\", \"value\"),\n",
    "     State(\"show_filtered_choice\", \"value\"),\n",
    "     State(\"offset_input\", \"value\"),],)\n",
    "def plotTraces_callback(n_clicks, chosen, showFreq, showFiltered, offset, forceOffset=False):\n",
    "    try:\n",
    "        if n_clicks<=0 or chosen==\"\":\n",
    "            return baseFig,\"waiting\"\n",
    "        global regions,movie\n",
    "        showFreq = float(showFreq)\n",
    "        filtered = bool(len(showFiltered))\n",
    "        if forceOffset:\n",
    "            offset = float(offset)\n",
    "        else:\n",
    "            offset = float(offset) if filtered else 0\n",
    "        colToshow = parseCol(regions, showFreq, filtered)\n",
    "        if chosen==\"\":\n",
    "            return baseFig, \"nothing yet\"\n",
    "        try:\n",
    "            ix = np.array(chosen.strip(\" ,\").split(\",\"))\n",
    "            ix = ix.astype(int)\n",
    "            trfig = plotTraces(regions,indices=ix,time=regions.showTime[colToshow], showCol=[colToshow], offset=offset)\n",
    "            trfig.update_layout({\"width\":800,\"height\":200+50*np.log(4*len(ix))})\n",
    "            return trfig,\"ok: \"+repr((chosen, showFreq, showFiltered, offset))\n",
    "        except:\n",
    "            return baseFig,\"error in chosen parsing\"+repr(chosen)\n",
    "    except:\n",
    "        return baseFig,\"ERROR from plotTraces_callback: \"+exc_info().__repr__() "
   ]
  },
  {
   "cell_type": "code",
   "execution_count": 80,
   "metadata": {
    "ExecuteTime": {
     "end_time": "2020-05-22T09:22:02.266146Z",
     "start_time": "2020-05-22T09:22:02.242686Z"
    },
    "code_folding": []
   },
   "outputs": [],
   "source": [
    "@app.callback(\n",
    "    Output(\"hover_out\", \"children\"),\n",
    "    [Input(\"roi_selector\", \"hoverData\")],\n",
    "    )\n",
    "def showHovered(hoverData):\n",
    "    try:\n",
    "        return json.dumps(hoverData, indent=2)\n",
    "    except:\n",
    "        return \"ERROR from hover: \"+exc_info().__repr__() \n",
    "\n"
   ]
  },
  {
   "cell_type": "code",
   "execution_count": 81,
   "metadata": {
    "ExecuteTime": {
     "end_time": "2020-05-22T09:22:02.280438Z",
     "start_time": "2020-05-22T09:22:02.267266Z"
    },
    "code_folding": []
   },
   "outputs": [],
   "source": [
    "@app.callback(\n",
    "    Output(\"save_feedback\", \"children\"),\n",
    "    [Input(\"save_button\", \"n_clicks\")],\n",
    "    [State(\"save_file_append\", \"value\"   ),\n",
    "     State(\"show_freq_input\", \"value\"),\n",
    "     State(\"analysis_folder\",\"children\"),\n",
    "     State(\"show_filtered_choice\", \"value\")\n",
    "    ]\n",
    "             )\n",
    "def save_callback(n_clicks,filename, showFreq, outDir, showFiltered):\n",
    "\n",
    "    try:\n",
    "        if n_clicks <= 0:\n",
    "            return \"saving can take a few seconds.\"\n",
    "        else:\n",
    "            global regions\n",
    "#             filename = regions.file\n",
    "#             if filename.endswith(\"roi\") or filename.endswith(\"pkl\"):\n",
    "#                 outDir = os.path.split(filename)[0]\n",
    "#             else:\n",
    "#                 ext = filename.split(\".\")[1]\n",
    "#                 outDir = filename.replace(\".\"+ext,\"_analysis\")\n",
    "            \n",
    "            return saveRois(regions, outDir, filename, format=\"maribor\", col=parseCol(regions, float(showFreq), bool(len(showFiltered))))\n",
    "    except:\n",
    "            return \"ERROR: \"+exc_info().__repr__()"
   ]
  },
  {
   "cell_type": "code",
   "execution_count": 82,
   "metadata": {
    "ExecuteTime": {
     "end_time": "2020-05-22T10:01:43.488390Z",
     "start_time": "2020-05-22T10:01:43.480393Z"
    }
   },
   "outputs": [
    {
     "data": {
      "text/html": [
       "<div>\n",
       "  <iframe src=\"/user/srdjan/app/endpoints/5d88c57dc66b4736968c56ee73cf0f09/\" width=1000 height=1000 frameborder=\"0\"></iframe>\n",
       "  <hr/><a href=\"/user/srdjan/app/endpoints/5d88c57dc66b4736968c56ee73cf0f09/\" target=\"_new\">Open in new window</a> for /user/srdjan/app/endpoints/5d88c57dc66b4736968c56ee73cf0f09/\n",
       "</div>"
      ],
      "text/plain": [
       "<jupyter_plotly_dash.dash_wrapper.JupyterDash at 0x7fc9c9172e10>"
      ]
     },
     "execution_count": 82,
     "metadata": {},
     "output_type": "execute_result"
    }
   ],
   "source": [
    "# app.layout = html.Div(children=APP_LAYOUT)\n",
    "# app"
   ]
  },
  {
   "cell_type": "code",
   "execution_count": 30,
   "metadata": {
    "ExecuteTime": {
     "end_time": "2020-05-16T09:52:06.267707Z",
     "start_time": "2020-05-16T09:52:06.261713Z"
    }
   },
   "outputs": [
    {
     "data": {
      "text/html": [
       "open the following link in a different tab (do not close this tab!): <a href=\"https://ctn.physiologie.meduniwien.ac.at/user/srdjan/app/endpoints/4d5a7741a21a4b0aa5e618293406dc7e/\">https://ctn.physiologie.meduniwien.ac.at/user/srdjan/app/endpoints/4d5a7741a21a4b0aa5e618293406dc7e/</a>"
      ],
      "text/plain": [
       "<IPython.core.display.HTML object>"
      ]
     },
     "execution_count": 30,
     "metadata": {},
     "output_type": "execute_result"
    }
   ],
   "source": [
    "app.layout = html.Div(children=APP_LAYOUT)\n",
    "app._repr_html_() \n",
    "link2app = \"https://ctn.physiologie.meduniwien.ac.at\"+app.get_app_root_url()\n",
    "HTML(f'open the following link in a different tab (do not close this tab!): <a href=\"{link2app}\">{link2app}</a>')"
   ]
  },
  {
   "cell_type": "code",
   "execution_count": null,
   "metadata": {},
   "outputs": [],
   "source": []
  },
  {
   "cell_type": "code",
   "execution_count": null,
   "metadata": {},
   "outputs": [],
   "source": []
  },
  {
   "cell_type": "code",
   "execution_count": null,
   "metadata": {},
   "outputs": [],
   "source": []
  }
 ],
 "metadata": {
  "kernelspec": {
   "display_name": "Python [conda env:physio]",
   "language": "python",
   "name": "conda-env-physio-py"
  },
  "language_info": {
   "codemirror_mode": {
    "name": "ipython",
    "version": 3
   },
   "file_extension": ".py",
   "mimetype": "text/x-python",
   "name": "python",
   "nbconvert_exporter": "python",
   "pygments_lexer": "ipython3",
   "version": "3.7.6"
  },
  "toc": {
   "base_numbering": 1,
   "nav_menu": {},
   "number_sections": true,
   "sideBar": true,
   "skip_h1_title": false,
   "title_cell": "Table of Contents",
   "title_sidebar": "Contents",
   "toc_cell": false,
   "toc_position": {},
   "toc_section_display": true,
   "toc_window_display": false
  }
 },
 "nbformat": 4,
 "nbformat_minor": 2
}
