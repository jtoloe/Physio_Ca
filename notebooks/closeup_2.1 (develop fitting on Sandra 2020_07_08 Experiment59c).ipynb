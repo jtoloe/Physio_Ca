{
 "cells": [
  {
   "cell_type": "code",
   "execution_count": null,
   "metadata": {
    "code_folding": []
   },
   "outputs": [],
   "source": [
    "## importing stuff\n",
    "import os\n",
    "import pickle\n",
    "from sys import path as syspath\n",
    "syspath.append(os.path.expanduser(\"~/srdjan_functs/\"))\n",
    "import javabridge\n",
    "from bioformats import JARS as bfJARS\n",
    "javabridge.start_vm(class_path=bfJARS, max_heap_size=\"20G\")\n",
    "import numpy as np\n",
    "import matplotlib.pyplot as plt\n",
    "\n",
    "%config InlineBackend.figure_format = 'retina'\n",
    "%load_ext autoreload\n",
    "%autoreload 2\n",
    "# %aimport islets\n",
    "\n",
    "from IPython.display import display\n",
    "import pandas as pd\n",
    "\n",
    "from islets.Recording import Recording, saveMovie\n",
    "from islets.Regions import Regions\n",
    "from islets.numeric import power_spectrum, rebin\n",
    "from islets.utils import show_movie, saveRois\n",
    "from islets.Regions import getPeak2BoundaryDF, getGraph_of_ROIs_to_Merge, mergeBasedOnGraph\n",
    "\n",
    "from caiman import movie as cmovie\n",
    "\n",
    "from matplotlib.colors import LogNorm"
   ]
  },
  {
   "cell_type": "code",
   "execution_count": null,
   "metadata": {
    "code_folding": []
   },
   "outputs": [],
   "source": [
    "# from copy import deepcopy\n",
    "fracSaturTh = .05\n",
    "# movieFreq = 2\n",
    "cmap = plt.cm.Greys\n",
    "cmap.set_bad(\"lime\")\n",
    "pd.set_option('display.max_rows', 100)"
   ]
  },
  {
   "cell_type": "code",
   "execution_count": null,
   "metadata": {},
   "outputs": [],
   "source": [
    "plt.rcParams[\"animation.embed_limit\"] = 500"
   ]
  },
  {
   "cell_type": "code",
   "execution_count": null,
   "metadata": {},
   "outputs": [],
   "source": [
    "recFile = \"/data/Sandra/2020/2020_07_08/Experiment59c.lif\""
   ]
  },
  {
   "cell_type": "code",
   "execution_count": null,
   "metadata": {},
   "outputs": [],
   "source": [
    "rec = Recording(recFile)\n",
    "rec.metadata"
   ]
  },
  {
   "cell_type": "code",
   "execution_count": null,
   "metadata": {},
   "outputs": [],
   "source": [
    "ser = \"Series003\"#rec.metadata.Name[7]\n",
    "# ser = \"all\""
   ]
  },
  {
   "cell_type": "code",
   "execution_count": null,
   "metadata": {},
   "outputs": [],
   "source": [
    "rec.import_series(ser)"
   ]
  },
  {
   "cell_type": "code",
   "execution_count": null,
   "metadata": {},
   "outputs": [],
   "source": [
    "metadata = rec.Series[ser]['metadata']"
   ]
  },
  {
   "cell_type": "code",
   "execution_count": null,
   "metadata": {},
   "outputs": [],
   "source": [
    "movie = cmovie(rec.Series[ser]['data'],fr = metadata.Frequency)"
   ]
  },
  {
   "cell_type": "code",
   "execution_count": null,
   "metadata": {},
   "outputs": [],
   "source": [
    "movie.shape"
   ]
  },
  {
   "cell_type": "code",
   "execution_count": null,
   "metadata": {},
   "outputs": [],
   "source": [
    "movie.fr"
   ]
  },
  {
   "cell_type": "code",
   "execution_count": null,
   "metadata": {},
   "outputs": [],
   "source": [
    "5/metadata.pxSize"
   ]
  },
  {
   "cell_type": "markdown",
   "metadata": {},
   "source": [
    "### Hand-curated ROIs"
   ]
  },
  {
   "cell_type": "markdown",
   "metadata": {
    "heading_collapsed": true
   },
   "source": [
    "#### massage to get"
   ]
  },
  {
   "cell_type": "code",
   "execution_count": null,
   "metadata": {
    "hidden": true
   },
   "outputs": [],
   "source": [
    "nRebin = 10\n",
    "rebMovie = cmovie(rebin(movie[len(movie)//5:],nRebin), fr=movie.fr/nRebin)"
   ]
  },
  {
   "cell_type": "code",
   "execution_count": null,
   "metadata": {
    "hidden": true
   },
   "outputs": [],
   "source": [
    "# pc_low  = np.percentile(np.abs(np.diff(rebMovie)),1,axis=0)\n",
    "# pc_mid  = np.percentile(np.abs(np.diff(rebMovie)),50,axis=0)\n",
    "# pc_high = np.percentile(np.abs(np.diff(rebMovie)),99,axis=0)"
   ]
  },
  {
   "cell_type": "code",
   "execution_count": null,
   "metadata": {
    "hidden": true
   },
   "outputs": [],
   "source": [
    "10/metadata.pxSize"
   ]
  },
  {
   "cell_type": "code",
   "execution_count": null,
   "metadata": {
    "hidden": true
   },
   "outputs": [],
   "source": [
    "from islets.utils import multi_map"
   ]
  },
  {
   "cell_type": "code",
   "execution_count": null,
   "metadata": {
    "hidden": true
   },
   "outputs": [],
   "source": [
    "from copy import deepcopy"
   ]
  },
  {
   "cell_type": "code",
   "execution_count": null,
   "metadata": {
    "hidden": true
   },
   "outputs": [],
   "source": [
    "from cv2 import GaussianBlur"
   ]
  },
  {
   "cell_type": "code",
   "execution_count": null,
   "metadata": {
    "hidden": true
   },
   "outputs": [],
   "source": [
    "blurSize = 3\n",
    "if blurSize>1:\n",
    "    def iterf(xi):\n",
    "        return GaussianBlur(xi.T,(blurSize,blurSize),-1).T\n",
    "    nn = 100\n",
    "    blurmovie = np.concatenate(multi_map(iterf, np.split(rebMovie[:len(rebMovie)//nn*nn],nn), processes=10))\n",
    "else:\n",
    "    blurmovie = rebMovie\n",
    "\n",
    "dmovie = np.diff(blurmovie)"
   ]
  },
  {
   "cell_type": "code",
   "execution_count": null,
   "metadata": {
    "hidden": true
   },
   "outputs": [],
   "source": [
    "pc_low  = np.percentile(np.abs(dmovie),1,axis=0)\n",
    "pc_mid  = np.percentile(np.abs(dmovie),50,axis=0)\n",
    "pc_high = np.percentile(np.abs(dmovie),99,axis=0)"
   ]
  },
  {
   "cell_type": "code",
   "execution_count": null,
   "metadata": {
    "hidden": true
   },
   "outputs": [],
   "source": [
    "ims = [pc_mid, pc_high, pc_mid+pc_high]"
   ]
  },
  {
   "cell_type": "code",
   "execution_count": null,
   "metadata": {
    "hidden": true
   },
   "outputs": [],
   "source": [
    "fig,axs = plt.subplots(2,3,\n",
    "                       figsize=(16,8), \n",
    "                       gridspec_kw={'height_ratios': [3, 1]},\n",
    "                       sharex=\"row\",\n",
    "                       sharey=\"row\",\n",
    "                      )\n",
    "for ax, im, axl in zip(axs[0],ims,axs[1]):\n",
    "    ax.imshow(im,\n",
    "              vmin=min(map(np.min,ims))+1e-1,\n",
    "              vmax=max(map(np.max,ims)),\n",
    "              norm=LogNorm()\n",
    "             )\n",
    "    axl.hist(np.log10(1+im.flatten()),100,log=True)\n",
    "plt.tight_layout()"
   ]
  },
  {
   "cell_type": "code",
   "execution_count": null,
   "metadata": {
    "hidden": true
   },
   "outputs": [],
   "source": [
    "fig, axs = plt.subplots(1,2,figsize=(12,6))\n",
    "axs[0].imshow(pc_mid,\n",
    "#            norm=LogNorm()\n",
    "          )\n",
    "axs[1].imshow(pc_mid,\n",
    "           norm=LogNorm()\n",
    "          )"
   ]
  },
  {
   "cell_type": "code",
   "execution_count": null,
   "metadata": {
    "hidden": true
   },
   "outputs": [],
   "source": [
    "# rs = []\n",
    "# for im in [pc_low, pc_high, pc_high+pc_low]:\n",
    "#     rs += [Regions(im,diag=True,gSig_filt=None)]"
   ]
  },
  {
   "cell_type": "code",
   "execution_count": null,
   "metadata": {
    "hidden": true
   },
   "outputs": [],
   "source": [
    "from islets.Regions import getPeak2BoundaryDF, getGraph_of_ROIs_to_Merge, mergeBasedOnGraph, plotRoi_to_be_connected"
   ]
  },
  {
   "cell_type": "code",
   "execution_count": null,
   "metadata": {
    "hidden": true
   },
   "outputs": [],
   "source": [
    "from islets.numeric import get_sep_th"
   ]
  },
  {
   "cell_type": "code",
   "execution_count": null,
   "metadata": {
    "hidden": true
   },
   "outputs": [],
   "source": [
    "# image = pc_low+pc_high\n",
    "image = pc_mid\n",
    "# image = dmovie.std(0)\n",
    "# image = GaussianBlur(image,(3,3),-1)"
   ]
  },
  {
   "cell_type": "code",
   "execution_count": null,
   "metadata": {
    "hidden": true
   },
   "outputs": [],
   "source": [
    "im_th = get_sep_th(image.flatten(),log=True,plot=True)"
   ]
  },
  {
   "cell_type": "code",
   "execution_count": null,
   "metadata": {
    "hidden": true
   },
   "outputs": [],
   "source": [
    "regions = Regions(image, gSig_filt=None, diag=True, img_th=im_th/image.max(), processes=1)"
   ]
  },
  {
   "cell_type": "code",
   "execution_count": null,
   "metadata": {
    "hidden": true
   },
   "outputs": [],
   "source": [
    "peakTh = get_sep_th(regions.df.peakValue,plot=True,log=True)"
   ]
  },
  {
   "cell_type": "code",
   "execution_count": null,
   "metadata": {
    "hidden": true
   },
   "outputs": [],
   "source": [
    "regions.df.drop(index=regions.df.query(f\"peakValue<{peakTh}\").index,inplace=True)\n",
    "regions.update()"
   ]
  },
  {
   "cell_type": "code",
   "execution_count": null,
   "metadata": {
    "hidden": true
   },
   "outputs": [],
   "source": [
    "plt.figure(figsize=(10,10))\n",
    "ax = plt.subplot(111)\n",
    "regions.plotEdges(ax=ax)\n",
    "regions.plotPeaks(ax=ax)"
   ]
  },
  {
   "cell_type": "code",
   "execution_count": null,
   "metadata": {
    "hidden": true
   },
   "outputs": [],
   "source": [
    "while True:\n",
    "    maxSize = np.percentile(regions.df[\"size\"],80)\n",
    "    sizeTh = maxSize/2\n",
    "    peak2bnd = getPeak2BoundaryDF(regions.df)\n",
    "    df = peak2bnd.query(\"dist<1.\")[[\"i\",\"j\"]]\n",
    "    if len(df)==0: break\n",
    "    df=df[df.i.isin(regions.df.loc[df.i].query(f\"size<{sizeTh}\").index)]\n",
    "    df=df[df.j.isin(regions.df.loc[df.j].query(f\"size<{maxSize}\").index)]\n",
    "    if len(df)==0: break\n",
    "    plt.figure(figsize=(10,10))\n",
    "    ax = plt.subplot(111)\n",
    "    regions.plotEdges(ax=ax,imkw_args={\"cmap\":\"Greys\",\"vmax\":3}, color=\"blue\")\n",
    "    regions.plotPeaks(ax=ax, color=\"darkred\")\n",
    "    gRois = getGraph_of_ROIs_to_Merge(df,regions,plot=True, ax=ax)\n",
    "    dropped = mergeBasedOnGraph(gRois,regions)\n",
    "    plt.show()\n",
    "#     if dropped == 0: break"
   ]
  },
  {
   "cell_type": "code",
   "execution_count": null,
   "metadata": {
    "hidden": true
   },
   "outputs": [],
   "source": [
    "# saveRois(\n",
    "#     regions, \n",
    "#     f\"{recFile}_analysis/{ser}\", \n",
    "#     filename=\"srdjan_handcurated\",\n",
    "#     col=[],\n",
    "#     formats=[\"vienna\"]\n",
    "#         )"
   ]
  },
  {
   "cell_type": "code",
   "execution_count": null,
   "metadata": {
    "hidden": true
   },
   "outputs": [],
   "source": [
    "# for sizeTh in range(2,6):\n",
    "#     if sum(regions.df['size']<sizeTh)<1: continue\n",
    "#     th = get_sep_th(regions.df.query(f\"size<{sizeTh}\").interest,log=True, plot=True)\n",
    "#     drop = regions.df.query(f\"size<{sizeTh} and interest<{th}\").index\n",
    "#     regions.df.drop(index=drop, inplace=True)\n",
    "#     regions.update()\n",
    "#     peak2bnd = getPeak2BoundaryDF(regions.df)\n",
    "#     df = peak2bnd.query(\"dist<1.\")[[\"i\",\"j\"]]\n",
    "#     # if len(df)==0: break\n",
    "#     df=df[df.i.isin(regions.df.loc[df.i].query(f\"size<{sizeTh}\").index)]\n",
    "#     gRois = getGraph_of_ROIs_to_Merge(df,regions,plot=True)\n",
    "#     dropped = mergeBasedOnGraph(gRois,regions)\n",
    "#     # if dropped == 0: break\n",
    "#     plt.show()"
   ]
  },
  {
   "cell_type": "code",
   "execution_count": null,
   "metadata": {
    "hidden": true
   },
   "outputs": [],
   "source": [
    "plt.figure(figsize=(8,8))\n",
    "ax = plt.subplot(111)\n",
    "regions.plotEdges(color=\"r\",lw=.4,ax=ax)\n",
    "regions.plotPeaks(color=\"r\",ax=ax)\n",
    "# regions.plotEdges(color=\"c\",lw=.9,ix=regions.df.query(\"Nneighbors==0\").index,ax=ax)\n",
    "# regions.plotPeaks(color=\"c\",ms=5,ix=regions.df.query(\"Nneighbors==0\").index,ax=ax)"
   ]
  },
  {
   "cell_type": "markdown",
   "metadata": {},
   "source": [
    "#### import saved"
   ]
  },
  {
   "cell_type": "code",
   "execution_count": null,
   "metadata": {},
   "outputs": [],
   "source": [
    "ser = \"Series002-5\""
   ]
  },
  {
   "cell_type": "code",
   "execution_count": null,
   "metadata": {},
   "outputs": [],
   "source": [
    "pickleFilename = f\"{recFile}_analysis/{ser}/\"+[f for f in os.listdir(f\"{recFile}_analysis/{ser}\") if \"handcur\" in f][0]\n",
    "with open(pickleFilename, \"rb\") as f:\n",
    "    regions = pickle.load(f)"
   ]
  },
  {
   "cell_type": "code",
   "execution_count": null,
   "metadata": {},
   "outputs": [],
   "source": [
    "# n0 = len(movie)//5\n",
    "# regions.update(movie[n0:])"
   ]
  },
  {
   "cell_type": "code",
   "execution_count": null,
   "metadata": {},
   "outputs": [],
   "source": [
    "regions.update(movie)"
   ]
  },
  {
   "cell_type": "code",
   "execution_count": null,
   "metadata": {},
   "outputs": [],
   "source": [
    "regions.time = np.arange(len(movie))/regions.Freq"
   ]
  },
  {
   "cell_type": "code",
   "execution_count": null,
   "metadata": {},
   "outputs": [],
   "source": [
    "regions.time += len(movie)/regions.Freq "
   ]
  },
  {
   "cell_type": "code",
   "execution_count": null,
   "metadata": {},
   "outputs": [],
   "source": [
    "# regions.time += n0/regions.Freq "
   ]
  },
  {
   "cell_type": "code",
   "execution_count": null,
   "metadata": {},
   "outputs": [],
   "source": [
    "regions.import_protocol(f\"{recFile}_analysis/{ser}/\"+[f for f in os.listdir(f\"{recFile}_analysis/{ser}/\") if \"protocol\" in f][0])"
   ]
  },
  {
   "cell_type": "code",
   "execution_count": null,
   "metadata": {},
   "outputs": [],
   "source": [
    "regions.df.drop(index = regions.df[regions.df[\"size\"]<30].index, inplace=True)"
   ]
  },
  {
   "cell_type": "code",
   "execution_count": null,
   "metadata": {},
   "outputs": [],
   "source": [
    "for ts in [1,3,10,30,100,300]:\n",
    "    regions.fast_filter_traces(ts,)\n",
    "\n",
    "from scipy.stats import rankdata\n",
    "\n",
    "regions.df[\"zInterest\"] = np.max([rankdata((np.vstack(regions.df[c])>3.5).mean(1)) \\\n",
    "                                  for c in regions.df.columns if \"zScore\" in c],axis=0)"
   ]
  },
  {
   "cell_type": "markdown",
   "metadata": {},
   "source": [
    "#### Fittting"
   ]
  },
  {
   "cell_type": "code",
   "execution_count": null,
   "metadata": {},
   "outputs": [],
   "source": [
    "# regions.detrend_traces()"
   ]
  },
  {
   "cell_type": "code",
   "execution_count": null,
   "metadata": {},
   "outputs": [],
   "source": [
    "sizes = regions.df['size'].values.copy()\n",
    "sizes.sort()\n",
    "plt.figure()\n",
    "plt.plot(sizes,np.arange(len(sizes)))"
   ]
  },
  {
   "cell_type": "code",
   "execution_count": null,
   "metadata": {},
   "outputs": [],
   "source": [
    "regions.detrend_traces(fast=False,timescale=100)"
   ]
  },
  {
   "cell_type": "code",
   "execution_count": null,
   "metadata": {},
   "outputs": [],
   "source": [
    "regions.slow_filter_traces(100, percentile=[5],avg=False)"
   ]
  },
  {
   "cell_type": "code",
   "execution_count": null,
   "metadata": {},
   "outputs": [],
   "source": [
    "regions.fast_filter_traces(3,saveIntermed=True,)"
   ]
  },
  {
   "cell_type": "code",
   "execution_count": null,
   "metadata": {},
   "outputs": [],
   "source": [
    "regions.examine2(\n",
    "    startShow=regions.df.sort_values(\"zInterest\", ascending=False).index[:300]\n",
    "#     startShow=regions.df.query(\"size>30\").index\n",
    "                )"
   ]
  },
  {
   "cell_type": "code",
   "execution_count": null,
   "metadata": {},
   "outputs": [],
   "source": [
    "from islets.fitting import multiShape"
   ]
  },
  {
   "cell_type": "code",
   "execution_count": null,
   "metadata": {},
   "outputs": [],
   "source": [
    "# %matplotlib inline\n",
    "%matplotlib notebook"
   ]
  },
  {
   "cell_type": "code",
   "execution_count": null,
   "metadata": {},
   "outputs": [],
   "source": [
    "from islets.fitting import fit_spikes"
   ]
  },
  {
   "cell_type": "code",
   "execution_count": null,
   "metadata": {},
   "outputs": [],
   "source": [
    "for c in regions.df.columns:\n",
    "    if \"_\" in c:\n",
    "        del regions.df[c]\n",
    "\n",
    "try: del regions.showTime\n",
    "except: pass\n",
    "try: del regions.peaks\n",
    "except: pass"
   ]
  },
  {
   "cell_type": "code",
   "execution_count": null,
   "metadata": {},
   "outputs": [],
   "source": [
    "regions.df.columns"
   ]
  },
  {
   "cell_type": "code",
   "execution_count": null,
   "metadata": {},
   "outputs": [],
   "source": [
    "# ts = 3\n",
    "# regions.fast_filter_traces(ts, z_sp=3, saveIntermed=True)"
   ]
  },
  {
   "cell_type": "code",
   "execution_count": null,
   "metadata": {},
   "outputs": [],
   "source": [
    "regions.infer_gain(True)\n",
    "regions.gain"
   ]
  },
  {
   "cell_type": "code",
   "execution_count": null,
   "metadata": {},
   "outputs": [],
   "source": [
    "regions.gain = 1"
   ]
  },
  {
   "cell_type": "code",
   "execution_count": null,
   "metadata": {},
   "outputs": [],
   "source": [
    "from copy import deepcopy"
   ]
  },
  {
   "cell_type": "code",
   "execution_count": null,
   "metadata": {},
   "outputs": [],
   "source": [
    "regions.df[\"_trace\"] = deepcopy(regions.df.trace)"
   ]
  },
  {
   "cell_type": "code",
   "execution_count": null,
   "metadata": {},
   "outputs": [],
   "source": [
    "from IPython.core.display import display, HTML\n",
    "display(HTML(\"<style>.container { width:100% !important; }</style>\"))"
   ]
  },
  {
   "cell_type": "code",
   "execution_count": null,
   "metadata": {},
   "outputs": [],
   "source": [
    "\n",
    "t = regions.time.copy()\n",
    "ts = 3\n",
    "sl,fs,zs = regions.fast_filter_traces(ts, write=False, normalize=True, z_sp=3,verbose=True,Npoints=20)\n",
    "try:\n",
    "    tt = regions.showTime[\"%g\"%ts]\n",
    "except:\n",
    "    tt = t.copy()\n",
    "spikes = regions.calc_peaks(\n",
    "    ts=ts,\n",
    "    save=False,\n",
    "    t=tt,\n",
    "    zScores=zs,\n",
    "    smooth=0\n",
    ")\n",
    "fitDF = []\n",
    "fig, axs = plt.subplots(len(regions.df),1,figsize=(9,9), sharey=False, sharex=True)\n",
    "for i,ix in enumerate(regions.df.index[:]):\n",
    "    tmpdf = fit_spikes(\n",
    "#         t, regions.df.trace[ix],\n",
    "       tt, sl[i]+fs[i],\n",
    "       spikes.query(f\"roi=={ix}\"),\n",
    "#        ifit = 3,\n",
    "       colorCode={\"myShape\":\"C3\"},\n",
    "       plot=True,\n",
    "       ax=axs[i],\n",
    "       half_width_threshold=ts*.12\n",
    "      )\n",
    "    tmpdf[\"roi\"]= ix \n",
    "    fitDF += [tmpdf]\n",
    "#     axs[i].plot(tt,sl[i],\"C1\",lw=.8)\n",
    "fitDF = pd.concat(fitDF)\n",
    "# plt.xlim(regions.time[0], regions.time[0]+50)\n",
    "plt.xlim(fitDF[\"loc\"].min()-10, fitDF[\"loc\"].min()+50)\n",
    "plt.subplots_adjust(hspace=0.01)"
   ]
  },
  {
   "cell_type": "code",
   "execution_count": null,
   "metadata": {},
   "outputs": [],
   "source": [
    "# fig = plt.figure(figsize=(10,3))\n",
    "# fig.add_axes([0.05,0.1,.9,.9])\n",
    "regions.df[\"_trace\"] = [tr.copy() for tr in regions.df.trace]\n",
    "# plt.plot(t,y,lw=.4)\n",
    "for _,row in fitDF.iterrows():\n",
    "    ix = row.roi\n",
    "# for _,row in tmpdf.iterrows():\n",
    "    y  = regions.df.loc[ix,\"_trace\"]\n",
    "    func = eval(row.fshape)\n",
    "    yf,bkg = func(t, *row.pars, bkgsum=False)\n",
    "#     plt.plot(t,yf+bkg,\"C1\",lw=.4)\n",
    "    ff = np.isfinite(yf)\n",
    "#     plt.plot(t,bkg,\"C1\")\n",
    "    y[ff] = bkg[ff]\n",
    "    \n",
    "# plt.xlim(tmpdf['loc'].min()-10, tmpdf['loc'].max()+20)"
   ]
  },
  {
   "cell_type": "code",
   "execution_count": null,
   "metadata": {},
   "outputs": [],
   "source": [
    "for i,ix in enumerate(regions.df.index):\n",
    "    axs[i].plot(t, regions.df.loc[ix,\"_trace\"], \"C2\",lw=.8)"
   ]
  },
  {
   "cell_type": "code",
   "execution_count": null,
   "metadata": {},
   "outputs": [],
   "source": [
    "regions.df[\"_trace\"] = [tr.copy() for tr in regions.df.trace]\n",
    "t = regions.time.copy()\n",
    "ts = 3"
   ]
  },
  {
   "cell_type": "code",
   "execution_count": null,
   "metadata": {},
   "outputs": [],
   "source": [
    "\n",
    "sl,fs,zs = regions.fast_filter_traces(ts, write=False, normalize=True, z_sp=3,verbose=True,Npoints=20,usecol=\"_trace\")\n",
    "try:\n",
    "    tt = regions.showTime[\"%g\"%ts]\n",
    "except:\n",
    "    tt = t.copy()\n",
    "spikes = regions.calc_peaks(\n",
    "    ts=ts,\n",
    "    save=False,\n",
    "    t=tt,\n",
    "    zScores=zs,\n",
    "    smooth=0\n",
    ")\n",
    "print(len(spikes))\n",
    "    \n",
    "    \n",
    "for _ in range(4):\n",
    "    print (_)\n",
    "    if len(spikes)==0: break\n",
    "    sl,fs,zs = regions.fast_filter_traces(ts, write=False, normalize=True, z_sp=3,verbose=True,Npoints=20,usecol=\"_trace\")\n",
    "    try:\n",
    "        tt = regions.showTime[\"%g\"%ts]\n",
    "    except:\n",
    "        tt = t.copy()\n",
    "    spikes1 = regions.calc_peaks(\n",
    "        ts=ts,\n",
    "        save=False,\n",
    "        t=tt,\n",
    "        zScores=zs,\n",
    "        smooth=0\n",
    "    )\n",
    "    print(len(spikes1))\n",
    "    if len(spikes1)==len(spikes):\n",
    "        spikes = spikes1\n",
    "        del spikes1\n",
    "        break\n",
    "    spikes = spikes1"
   ]
  },
  {
   "cell_type": "code",
   "execution_count": null,
   "metadata": {},
   "outputs": [],
   "source": [
    "for ix in regions.df.index:\n",
    "    y = regions.df.loc[ix, \"_trace\"]\n",
    "    iis = spikes.query(f\"roi=={ix}\").index\n",
    "    "
   ]
  },
  {
   "cell_type": "code",
   "execution_count": null,
   "metadata": {},
   "outputs": [],
   "source": [
    "\n",
    "sl,fs,zs = regions.fast_filter_traces(ts, write=False, normalize=True, z_sp=3,verbose=True,Npoints=20,usecol=\"_trace\")\n",
    "try:\n",
    "    tt = regions.showTime[\"%g\"%ts]\n",
    "except:\n",
    "    tt = t.copy()\n",
    "spikes = regions.calc_peaks(\n",
    "    ts=ts,\n",
    "    save=False,\n",
    "    t=tt,\n",
    "    zScores=zs,\n",
    "    smooth=0\n",
    ")\n",
    "print(len(spikes))\n",
    "    \n",
    "    \n",
    "for _ in range(4):\n",
    "    print (_)\n",
    "    if len(spikes)==0: break\n",
    "    fitDF = []\n",
    "    for i,ix in enumerate(regions.df.index[:]):\n",
    "        iis = spikes.query(f\"roi=={ix}\").index\n",
    "        if len(iis)==0: continue\n",
    "        tmpdf = fit_spikes(\n",
    "    #         t, regions.df.loc[ix,\"_trace\"],\n",
    "           tt, sl[i]+fs[i],\n",
    "           spikes.loc[iis],\n",
    "           colorCode={\"myShape\":\"C3\"},\n",
    "           half_width_threshold=ts*.12\n",
    "          )\n",
    "        tmpdf[\"roi\"]= ix \n",
    "        fitDF += [tmpdf]\n",
    "    fitDF = pd.concat(fitDF)\n",
    "    if len(fitDF)==0: continue\n",
    "    for _,row in fitDF.iterrows():\n",
    "        ix = row.roi\n",
    "        y  = regions.df.loc[ix,\"_trace\"]\n",
    "        func = eval(row.fshape)\n",
    "        yf,bkg = func(t, *row.pars, bkgsum=False)\n",
    "        ff = np.isfinite(yf)\n",
    "        y[ff] = bkg[ff]\n",
    "    \n",
    "    sl,fs,zs = regions.fast_filter_traces(ts, write=False, normalize=True, z_sp=3,verbose=True,Npoints=20,usecol=\"_trace\")\n",
    "    try:\n",
    "        tt = regions.showTime[\"%g\"%ts]\n",
    "    except:\n",
    "        tt = t.copy()\n",
    "    spikes1 = regions.calc_peaks(\n",
    "        ts=ts,\n",
    "        save=False,\n",
    "        t=tt,\n",
    "        zScores=zs,\n",
    "        smooth=0\n",
    "    )\n",
    "    print(len(spikes1))\n",
    "    if len(spikes1)==len(spikes):\n",
    "        spikes = spikes1\n",
    "        del spikes1\n",
    "        break\n",
    "    spikes = spikes1"
   ]
  },
  {
   "cell_type": "code",
   "execution_count": null,
   "metadata": {},
   "outputs": [],
   "source": [
    "fig, axs = plt.subplots(len(regions.df),1,figsize=(9,9), sharey=False, sharex=True)\n",
    "sl1 = regions.fast_filter_traces(ts,\n",
    "                                 write=False,\n",
    "                                 normalize=True,\n",
    "                                 z_sp=3,\n",
    "                                 verbose=True,\n",
    "                                 Npoints=20,\n",
    "                                 usecol=\"_trace\"\n",
    "                                )[0]\n",
    "for i,ix in enumerate(regions.df.index):\n",
    "    ax = axs[i]\n",
    "    ax.plot(t, regions.df.loc[ix, \"trace\"],lw=.4)\n",
    "    ax.plot(t, regions.df.loc[ix,\"_trace\"],lw=.8)\n",
    "    ax.plot(tt, sl1[i],lw=.8)\n",
    "# plt.xlim(fitDF[\"loc\"].min()-10, fitDF[\"loc\"].max()+50)\n",
    "plt.subplots_adjust(hspace=0.01)"
   ]
  },
  {
   "cell_type": "code",
   "execution_count": null,
   "metadata": {},
   "outputs": [],
   "source": [
    "fitDF"
   ]
  },
  {
   "cell_type": "code",
   "execution_count": null,
   "metadata": {},
   "outputs": [],
   "source": []
  },
  {
   "cell_type": "code",
   "execution_count": null,
   "metadata": {},
   "outputs": [],
   "source": []
  },
  {
   "cell_type": "code",
   "execution_count": null,
   "metadata": {},
   "outputs": [],
   "source": [
    "from islets.fitting import myShape"
   ]
  },
  {
   "cell_type": "code",
   "execution_count": null,
   "metadata": {},
   "outputs": [],
   "source": [
    "tr = np.linspace(-2,10, 100)\n",
    "# yr = multiShape(tr, pd.DataFrame([tmp]))+np.random.normal(size=len(tr))*.03\n",
    "\n",
    "plt.figure()\n",
    "r=1\n",
    "for k in [1,3,.5]:\n",
    "    yr = tr**k*np.exp(-r*tr)\n",
    "    plt.plot(tr, yr/yr.max())\n",
    "    \n",
    "plt.plot(tr, myShape(tr,loc=0,decay=1, half_width=2),\"--\")\n",
    "plt.plot(tr, myShape(tr,loc=0,decay=2, half_width=2),\"--\")\n",
    "plt.ylim(1e-3,)\n",
    "plt.yscale(\"log\")"
   ]
  },
  {
   "cell_type": "code",
   "execution_count": null,
   "metadata": {},
   "outputs": [],
   "source": []
  },
  {
   "cell_type": "code",
   "execution_count": null,
   "metadata": {},
   "outputs": [],
   "source": [
    "# plt.figure()\n",
    "# plt.plot(tr,yr)\n",
    "\n",
    "fit_spikes(\n",
    "     tr,yr,\n",
    "     regions.calc_peaks(ts=5,t=tr,\n",
    "                        zScores=yr.reshape(1,-1),\n",
    "                        z_th=.1,\n",
    "                        save=False),\n",
    "                       colorCode={\"myShape\":\"C3\"},\n",
    "                       plot=True,\n",
    "#                        ax=axs[i],\n",
    "#                        half_width_threshold=ts/12\n",
    "                      )"
   ]
  },
  {
   "cell_type": "code",
   "execution_count": null,
   "metadata": {},
   "outputs": [],
   "source": [
    "fitDF = pd.concat(fitDF, sort=False)"
   ]
  },
  {
   "cell_type": "code",
   "execution_count": null,
   "metadata": {},
   "outputs": [],
   "source": [
    "%matplotlib notebook"
   ]
  },
  {
   "cell_type": "code",
   "execution_count": null,
   "metadata": {},
   "outputs": [],
   "source": [
    "fig, axs = plt.subplots(len(regions.df),1,figsize=(10,10), sharey=False, sharex=True)\n",
    "for i,ix in enumerate(regions.df.index):\n",
    "    ax = axs[i]\n",
    "    ax.plot(t, regions.df.trace[ix], lw=.4)\n",
    "    ax.plot(t, regions.df.trace[ix]-multiShape(t,fitDF.query(f\"roi=={ix}\")), \"k\",lw=.3)\n",
    "    ax.plot(tt,sl[i])\n",
    "plt.tight_layout()\n",
    "# plt.xlim(fitDF[\"loc\"].min()-5, fitDF[\"loc\"].max()+2)\n",
    "plt.xlim(regions.time[0], regions.time[0]+100)\n",
    "plt.subplots_adjust(hspace=0.01)"
   ]
  },
  {
   "cell_type": "code",
   "execution_count": null,
   "metadata": {},
   "outputs": [],
   "source": [
    "err_scales = [(zs[i]/(fs[i]/sl[i]**.5)).mean() for i in range(len(zs))]"
   ]
  },
  {
   "cell_type": "code",
   "execution_count": null,
   "metadata": {},
   "outputs": [],
   "source": []
  },
  {
   "cell_type": "code",
   "execution_count": null,
   "metadata": {},
   "outputs": [],
   "source": [
    "plt.figure(figsize=(14,5))\n",
    "ax = plt.subplot()\n",
    "# plt.plot(t, y, lw=.6)\n",
    "# plt.xlim(t[0], t[0]+100)\n",
    "\n",
    "\n",
    "\n",
    "fit_spikes(t, y,\n",
    "           spikes.query(f\"roi=={itest}\"),\n",
    "           plot=True,\n",
    "           # half_width_threshold = ts/5,\n",
    "           # rel_amplitude_threshold = 0,\n",
    "            ifit=3,\n",
    "           colorCode={\"myShape\":\"C1\"},\n",
    "           # colorCode={\"myLogNorm\":\"C1\"},\n",
    "           ax=ax\n",
    "          )\n",
    "# plt.plot(tt,sl[i_test]/regions.)"
   ]
  },
  {
   "cell_type": "code",
   "execution_count": null,
   "metadata": {},
   "outputs": [],
   "source": [
    "plt.hexbin(zs[i_test],(fs[i_test]/sl[i_test]**.5), bins=\"log\", mincnt=1)\n",
    "plt.grid()"
   ]
  },
  {
   "cell_type": "code",
   "execution_count": null,
   "metadata": {},
   "outputs": [],
   "source": []
  },
  {
   "cell_type": "code",
   "execution_count": null,
   "metadata": {},
   "outputs": [],
   "source": [
    "zs[i_test]"
   ]
  },
  {
   "cell_type": "code",
   "execution_count": null,
   "metadata": {},
   "outputs": [],
   "source": []
  },
  {
   "cell_type": "code",
   "execution_count": null,
   "metadata": {},
   "outputs": [],
   "source": [
    "ts = 1\n",
    "sl,fs,zs = regions.fast_filter_traces(ts,\n",
    "                                      write=False,\n",
    "                                      normalize=False,\n",
    "                                      z_sp=3\n",
    "                                     )\n",
    "t = regions.time.copy()\n",
    "try:\n",
    "    tt = regions.showTime[\"%g\"%ts]\n",
    "except:\n",
    "    tt = t.copy()\n",
    "zth = 2\n",
    "spikes = regions.calc_peaks(\n",
    "    ts=ts,\n",
    "    save=False,\n",
    "    t=tt,\n",
    "    zScores=zs,\n",
    "#     smooth=0,\n",
    "    verbose=True,\n",
    "    z_th=zth\n",
    ")"
   ]
  },
  {
   "cell_type": "code",
   "execution_count": null,
   "metadata": {},
   "outputs": [],
   "source": [
    "# fig, axs = plt.subplots(len(regions.df),1,figsize=(9,9), sharey=False, sharex=True)\n",
    "fig, ax = plt.subplots(1,1,figsize=(9,2.5), sharey=False, sharex=True)\n",
    "for i,ix in enumerate(regions.df.index[:]):\n",
    "#     ax = axs[i]\n",
    "    t = regions.time.copy()\n",
    "#     y = regions.df.loc[ix,\"trace\"]\n",
    "    y = sl[i]+fs[i]\n",
    "    ax.plot(t,y,\"C0\",lw=.8)\n",
    "    ax.plot(tt,sl[i],\"C1\",lw=.8)\n",
    "    df = spikes.query(f\"roi=={ix}\")\n",
    "    for _,row in df.iterrows():\n",
    "        ff = (t>(row[\"t0\"]-row[\"peak half-width [s]\"]*0.5)) & (t<(row[\"t0\"]+row[\"peak half-width [s]\"]*2))\n",
    "        ax.plot(t[ff],y[ff],\"C3\")\n",
    "        ax.plot(t[ff][0],y[ff][0]+y[ff].std()*5,\"C3.\")\n",
    "#         plt.xlim(row[\"t0\"]-row[\"peak half-width [s]\"]*5-2, row[\"t0\"]+row[\"peak half-width [s]\"]*5+2)\n",
    "#     if len(df)>30:\n",
    "    wIron = int(np.round(ts/(t[1]-t[0])))\n",
    "    if wIron%2==0: wIron+=1\n",
    "    ys = lowPass(y,wIron,wIron,perc=20)\n",
    "    ax.plot(t,ys,\"C5\",lw=.8)\n",
    "    break\n",
    "\n",
    "zs_ = (sl[i]+fs[i]-ys)/ys**.5\n",
    "# plt.xlim(regions.time[0], regions.time[0]+300)\n",
    "\n",
    "plt.subplots_adjust(hspace=0.01)"
   ]
  },
  {
   "cell_type": "code",
   "execution_count": null,
   "metadata": {},
   "outputs": [],
   "source": [
    "spikes_ = regions.calc_peaks(\n",
    "    ts=ts,\n",
    "    save=False,\n",
    "    t=tt,\n",
    "    zScores=zs_.reshape(1,-1),\n",
    "#     smooth=0,\n",
    "    z_th=zth+1\n",
    ")\n",
    "\n",
    "df = spikes_.query(f\"roi=={ix}\")\n",
    "for _,row in df.iterrows():\n",
    "    row.t0-df\n",
    "    ff = (t>(row[\"t0\"]-row[\"peak half-width [s]\"]*0.5)) & (t<(row[\"t0\"]+row[\"peak half-width [s]\"]*2))\n",
    "    ax.plot(t[ff],y[ff],\"C5\",lw=.5)\n",
    "    ax.plot(t[ff][0],y[ff][0]+y[ff].std()*5,\n",
    "            \"C5x\",\n",
    "#             \"C5o\",mfc=\"none\"\n",
    "           )\n"
   ]
  },
  {
   "cell_type": "code",
   "execution_count": null,
   "metadata": {},
   "outputs": [],
   "source": [
    "frq,pw = power_spectrum(y,fr=regions.Freq)\n",
    "plt.figure()\n",
    "pw = np.abs(pw)\n",
    "ff = frq>.4\n",
    "plt.plot(frq[ff],pw[ff])"
   ]
  },
  {
   "cell_type": "code",
   "execution_count": null,
   "metadata": {},
   "outputs": [],
   "source": [
    "from islets.numeric import lowPass"
   ]
  },
  {
   "cell_type": "code",
   "execution_count": null,
   "metadata": {},
   "outputs": [],
   "source": [
    "lowPass?"
   ]
  },
  {
   "cell_type": "code",
   "execution_count": null,
   "metadata": {},
   "outputs": [],
   "source": [
    "lowPass(y,19,)"
   ]
  },
  {
   "cell_type": "code",
   "execution_count": null,
   "metadata": {},
   "outputs": [],
   "source": [
    "plt.figure()\n",
    "plt.plot(t,regions.df.loc[ix,\"trace\"])\n",
    "plt.plot(tt,sl[i])\n",
    "plt.axvline(row.t0)\n",
    "plt.plot(t,t>(row[\"t0\"]-row[\"peak half-width [s]\"]/.2))\n",
    "plt.plot(t,t<(row[\"t0\"]+row[\"peak half-width [s]\"]*2))\n",
    "plt.plot(t,)\n",
    "\n",
    "plt.xlim(row[\"t0\"]-row[\"peak half-width [s]\"]*5-2, row[\"t0\"]+row[\"peak half-width [s]\"]*5+2)"
   ]
  },
  {
   "cell_type": "code",
   "execution_count": null,
   "metadata": {},
   "outputs": [],
   "source": []
  },
  {
   "cell_type": "code",
   "execution_count": null,
   "metadata": {},
   "outputs": [],
   "source": []
  },
  {
   "cell_type": "code",
   "execution_count": null,
   "metadata": {},
   "outputs": [],
   "source": []
  },
  {
   "cell_type": "code",
   "execution_count": null,
   "metadata": {},
   "outputs": [],
   "source": []
  },
  {
   "cell_type": "code",
   "execution_count": null,
   "metadata": {},
   "outputs": [],
   "source": []
  },
  {
   "cell_type": "code",
   "execution_count": null,
   "metadata": {},
   "outputs": [],
   "source": []
  },
  {
   "cell_type": "code",
   "execution_count": null,
   "metadata": {},
   "outputs": [],
   "source": []
  },
  {
   "cell_type": "code",
   "execution_count": null,
   "metadata": {},
   "outputs": [],
   "source": []
  },
  {
   "cell_type": "code",
   "execution_count": null,
   "metadata": {},
   "outputs": [],
   "source": []
  },
  {
   "cell_type": "code",
   "execution_count": null,
   "metadata": {},
   "outputs": [],
   "source": [
    "fig, axs = plt.subplots(3,1,figsize=(10,8), sharex=True, sharey=True)\n",
    "fitDF = []\n",
    "for ts,ax in zip([2,5],axs):\n",
    "    spikes = regions.calc_peaks(ts,save=False)\n",
    "    if len(fitDF):\n",
    "        yy = y-multiShape(t,pd.concat(fitDF, ignore_index=True))\n",
    "    else:\n",
    "        yy = y\n",
    "    fitDF += [fit_spikes(t, yy,\n",
    "                       spikes.query(f\"roi=={itest}\"),\n",
    "                       plot=True,\n",
    "                       # half_width_threshold = ts/5,\n",
    "                       # rel_amplitude_threshold = 0,\n",
    "                       #  ifit=3,\n",
    "                       colorCode={\"myShape\":\"C1\"},\n",
    "                       # colorCode={\"myLogNorm\":\"C1\"},\n",
    "                       ax=ax\n",
    "                      )]\n",
    "#     break"
   ]
  },
  {
   "cell_type": "code",
   "execution_count": null,
   "metadata": {},
   "outputs": [],
   "source": []
  },
  {
   "cell_type": "code",
   "execution_count": null,
   "metadata": {},
   "outputs": [],
   "source": []
  },
  {
   "cell_type": "code",
   "execution_count": null,
   "metadata": {},
   "outputs": [],
   "source": [
    "ts = 5\n",
    "spikes = regions.calc_peaks(ts,save=False)\n",
    "fitDF += fit_spikes(t, y-multiShape(t,fitDF[-1]), spikes.query(f\"roi=={itest}\"),\n",
    "                   plot=True,\n",
    "                   half_width_threshold = ts/8,\n",
    "#                    ifit=10,\n",
    "                   colorCode={\"myShape\":\"C1\"}\n",
    "#                    colorCode={\"myLogNorm\":\"C1\"}\n",
    "                  )"
   ]
  },
  {
   "cell_type": "code",
   "execution_count": null,
   "metadata": {},
   "outputs": [],
   "source": [
    "plt.figure()\n",
    "plt.plot(t, multiShape(t,fitDF))"
   ]
  },
  {
   "cell_type": "code",
   "execution_count": null,
   "metadata": {},
   "outputs": [],
   "source": [
    "fitDF[\"rel_ampl\"] = fitDF.amplitude/fitDF.background"
   ]
  },
  {
   "cell_type": "code",
   "execution_count": null,
   "metadata": {},
   "outputs": [],
   "source": [
    "fitDF"
   ]
  },
  {
   "cell_type": "code",
   "execution_count": null,
   "metadata": {},
   "outputs": [],
   "source": [
    "mu"
   ]
  },
  {
   "cell_type": "code",
   "execution_count": null,
   "metadata": {},
   "outputs": [],
   "source": [
    "for ts in [1,3,10,30,100,300]:\n",
    "#     regions.calc_peaks(ts, z_th=4, verbose=True, smooth=None)\n",
    "    regions.calc_peaks(ts)"
   ]
  },
  {
   "cell_type": "code",
   "execution_count": null,
   "metadata": {},
   "outputs": [],
   "source": [
    "# ALLPEAKS = []\n",
    "fig, axs = plt.subplots(2,3, figsize=(13,7), sharex=True, sharey=True)\n",
    "for ts,ax in zip([1,3,10,30,100,300], axs.flat):\n",
    "    df = regions.peaks[\"%g\"%ts].copy()\n",
    "    ax.hexbin(df[\"peak half-width [s]\"], df[\"peak height [z-score]\"], yscale=\"log\", xscale=\"log\", mincnt=1, gridsize=30, bins=\"log\")\n",
    "#     df[\"ts\"] = ts\n",
    "#     ALLPEAKS += [df]"
   ]
  },
  {
   "cell_type": "code",
   "execution_count": null,
   "metadata": {},
   "outputs": [],
   "source": [
    "ts = 10\n",
    "pdf = regions.peaks[\"%g\"%ts]"
   ]
  },
  {
   "cell_type": "code",
   "execution_count": null,
   "metadata": {},
   "outputs": [],
   "source": [
    "fitDF"
   ]
  },
  {
   "cell_type": "code",
   "execution_count": null,
   "metadata": {},
   "outputs": [],
   "source": [
    "[fitDF.loc[i,\"pars\"].amplitude/fitDF.loc[i,\"background\"] for i in fitDF.index]"
   ]
  },
  {
   "cell_type": "code",
   "execution_count": null,
   "metadata": {
    "code_folding": []
   },
   "outputs": [],
   "source": [
    "# fitting of trace\n",
    "ix = 64#regions.df.sort_values(\"zInterest\", ascending=False).index[0]    \n",
    "y  = regions.df.loc[ix,\"trace\"].copy()\n",
    "t  = regions.time.copy()\n",
    "ishow = 0\n",
    "parDf = []\n",
    "for ip,p in pdf.query(f\"roi=={ix}\").iterrows():\n",
    "    i0  = np.searchsorted(t , p.t0-p[\"peak half-width [s]\"]*.5,)\n",
    "    ie  = np.searchsorted(t , p.t0+p[\"peak half-width [s]\"]*2+1)\n",
    "    ycur = y[i0:ie]\n",
    "    tcur = t[i0:ie]\n",
    "    imax = np.argmax(ycur)\n",
    "    res = pd.DataFrame(columns=[\"fshape\",\"pars\",\"score\",\"background\"])\n",
    "\n",
    "    for fname in colorCode:\n",
    "        fshape = eval(fname)\n",
    "        pars0 = getInitialPars(tcur,ycur,p,fshape)\n",
    "        try:\n",
    "            try:\n",
    "                opt = minimize(toMin, np.array(pars0), args=(tcur,ycur,fshape),\n",
    "                               bounds = [(pars0[j]*.05, pars0[j]*10) for j in range(len(pars0))]\n",
    "                              #  method=\"Nelder-Mead\"\n",
    "                              )\n",
    "            except:\n",
    "                opt = minimize(toMin, np.array(pars0), args=(tcur,ycur,fshape),\n",
    "                               # bounds = [(pars0[j]*.05, pars0[j]*10) for j in range(len(pars0))],\n",
    "                               # method=\"Nelder-Mead\"\n",
    "                              )\n",
    "            yf,bkg = fshape(tcur,*opt.x, bkgsum=False, fillnan=True)\n",
    "            pars = pars = pars0._replace(**dict(zip(pars0._asdict().keys(), opt.x)))\n",
    "            res = res.append({\"fshape\": fshape.__name__,\n",
    "                              \"pars\": pars,\n",
    "                              \"score\":np.nanmean((ycur-yf-bkg)**2),\n",
    "                              \"background\": np.nanmean(bkg)\n",
    "                             }, ignore_index=True)\n",
    "            \n",
    "        except:\n",
    "            continue\n",
    "    res = res.sort_values(\"score\").iloc[0]\n",
    "    res.name = ip\n",
    "    parDf += [res]\n",
    "    ishow += 1\n",
    "#     if ishow>=20: break"
   ]
  },
  {
   "cell_type": "code",
   "execution_count": null,
   "metadata": {},
   "outputs": [],
   "source": []
  },
  {
   "cell_type": "code",
   "execution_count": null,
   "metadata": {},
   "outputs": [],
   "source": [
    "%matplotlib notebook"
   ]
  },
  {
   "cell_type": "code",
   "execution_count": null,
   "metadata": {},
   "outputs": [],
   "source": [
    "plt.figure(figsize=(9,5))\n",
    "parDf = pd.DataFrame(parDf)\n",
    "# ff = np.ones(len(parDf)).astype(bool)\n",
    "plt.plot(t,y, \"k\",lw=.5,)\n",
    "for c in [\"darkred\",\"C0\"]:\n",
    "    x = multiShape(t,parDf)\n",
    "    plt.plot(t,x+2, lw=.5,c=c)\n",
    "    plt.plot(t,y-x, lw=.5,c=c)\n",
    "    w,h,t0,te = peak_widths(x, find_peaks(x)[0], rel_height=.9)\n",
    "    t0,te = t[0]+t0/regions.Freq,t[0]+te/regions.Freq\n",
    "    w = w/regions.Freq\n",
    "    parDf = parDf[w<ts/2]\n",
    "# plt.xlim(parDf[0].pars[3], parDf[-1].pars[3])\n",
    "plt.xlim(t[np.where(x>0)[0][0]]-2, t[np.where(x>1e-3)[0][-1]]+20)"
   ]
  },
  {
   "cell_type": "code",
   "execution_count": null,
   "metadata": {},
   "outputs": [],
   "source": [
    "\n",
    "x = multiShape(t,parDf)\n",
    "w,h,t0,te = peak_widths(x, find_peaks(x)[0], rel_height=.9)\n",
    "t0,te = t[0]+t0/regions.Freq,t[0]+te/regions.Freq\n",
    "w = w/regions.Freq"
   ]
  },
  {
   "cell_type": "code",
   "execution_count": null,
   "metadata": {},
   "outputs": [],
   "source": [
    "plt.figure()\n",
    "plt.plot(w,[p.pars.amplitude/p.background for _,p in parDf.iterrows()],\".\")"
   ]
  },
  {
   "cell_type": "code",
   "execution_count": null,
   "metadata": {},
   "outputs": [],
   "source": [
    "get_sep_th(w, plot=True, log=False)"
   ]
  },
  {
   "cell_type": "code",
   "execution_count": null,
   "metadata": {},
   "outputs": [],
   "source": []
  },
  {
   "cell_type": "code",
   "execution_count": null,
   "metadata": {},
   "outputs": [],
   "source": []
  },
  {
   "cell_type": "code",
   "execution_count": null,
   "metadata": {},
   "outputs": [],
   "source": []
  },
  {
   "cell_type": "code",
   "execution_count": null,
   "metadata": {},
   "outputs": [],
   "source": [
    "from scipy.signal import find_peaks, peak_widths"
   ]
  },
  {
   "cell_type": "code",
   "execution_count": null,
   "metadata": {},
   "outputs": [],
   "source": [
    "plt.figure()\n",
    "plt.plot(t,x)\n",
    "w<\n",
    "# plt.hlines(h,t0,te)\n",
    "# plt.hlines(h,t0,te)\n",
    "# plt.xlim(0,1000)"
   ]
  },
  {
   "cell_type": "code",
   "execution_count": null,
   "metadata": {},
   "outputs": [],
   "source": [
    "%matplotlib inline"
   ]
  },
  {
   "cell_type": "code",
   "execution_count": null,
   "metadata": {},
   "outputs": [],
   "source": [
    "plt.plot(sorted(w), np.arange(len(w)))\n",
    "# plt.yscale(\"log\")"
   ]
  },
  {
   "cell_type": "code",
   "execution_count": null,
   "metadata": {},
   "outputs": [],
   "source": []
  },
  {
   "cell_type": "code",
   "execution_count": null,
   "metadata": {},
   "outputs": [],
   "source": [
    "imax"
   ]
  },
  {
   "cell_type": "code",
   "execution_count": null,
   "metadata": {},
   "outputs": [],
   "source": [
    "tr = np.linspace(0,10,1000)\n",
    "plt.figure()\n",
    "plt.plot(tr,myLogNorm(tr,amplitude=1,loc=1,s=1,scale=1,fillnan=False))\n",
    "plt.plot(tr,myLogNorm(tr,amplitude=1,loc=1,s=1,scale=1,fillnan=True))\n",
    "plt.plot(tr,myLogNorm(tr,amplitude=1,loc=1,s=1,scale=1,fillnan=False,offset=0,end=.1))\n",
    "plt.plot(tr,myLogNorm(tr,amplitude=1,loc=1,s=1,scale=1,fillnan=True,offset=0,end=.1))\n",
    "# plt.plot(tr,myLogNorm(tr,Ampl=1,loc=1,s=.1,scale=1))\n",
    "# plt.plot(tr,myLogNorm(tr,Ampl=1,loc=1,s=1,scale=2))\n",
    "# plt.plot(tr,myLogNorm(tr,Ampl=1,loc=1,s=.2,scale=2))\n",
    "plt.grid()"
   ]
  },
  {
   "cell_type": "code",
   "execution_count": null,
   "metadata": {},
   "outputs": [],
   "source": [
    "ss = np.logspace(-1,.5,11)\n",
    "for i,s in enumerate(ss):\n",
    "    plt.plot(tr,myLogNorm(tr,Ampl=1,loc=1,s=s,scale=1, reshift=True), c=plt.cm.rainbow(i/len(ss)))\n",
    "# plt.xlim(0,3)\n",
    "plt.plot(tr,myLogNorm(tr,Ampl=1,loc=1,s=.2,scale=1),\"k--\")\n",
    "plt.yscale(\"log\")\n",
    "plt.ylim(1e-10,2)"
   ]
  },
  {
   "cell_type": "code",
   "execution_count": null,
   "metadata": {},
   "outputs": [],
   "source": [
    "ss = np.logspace(-1,.5,11)\n",
    "for i,s in enumerate(ss):\n",
    "    plt.plot(tr,myLogNorm(tr,Ampl=1,loc=1,s=.2,scale=s), c=plt.cm.rainbow(i/len(ss)))\n",
    "# plt.xlim(0,3)\n",
    "# plt.plot(tr,myLogNorm(tr,Ampl=1,loc=1,s=.2,scale=1),\"k--\")\n",
    "# plt.yscale(\"log\")\n",
    "# plt.ylim(1e-10,2)"
   ]
  },
  {
   "cell_type": "code",
   "execution_count": null,
   "metadata": {},
   "outputs": [],
   "source": [
    "hw = .7\n",
    "plt.plot(tr,myLogNorm(tr,Ampl=1,loc=1,scale=2*hw))\n",
    "plt.xlim(0,3)\n",
    "plt.axhline(.5)\n",
    "# plt.plot(tr,myLogNorm(tr,Ampl=1,loc=1,s=.2,scale=1),\"k--\")\n",
    "# plt.yscale(\"log\")\n",
    "# plt.ylim(1e-10,2)"
   ]
  },
  {
   "cell_type": "code",
   "execution_count": null,
   "metadata": {},
   "outputs": [],
   "source": [
    "LNParameters = namedtuple(\"Parameters\", ['loc', 'scale', 's', 'amplitude', 'offset', 'end'])"
   ]
  },
  {
   "cell_type": "code",
   "execution_count": null,
   "metadata": {},
   "outputs": [],
   "source": [
    "fitPars = pd.DataFrame(columns=['loc', 'scale', 's', 'amplitude', 'offset', 'end'])"
   ]
  },
  {
   "cell_type": "code",
   "execution_count": null,
   "metadata": {
    "code_folding": []
   },
   "outputs": [],
   "source": [
    "# fitting of trace with logNorm\n",
    "fig, ax = plt.subplots(1,1,figsize=(9,4), sharex=True)\n",
    "ix = regions.df.sort_values(\"zInterest\", ascending=False).index[0]    \n",
    "y  = regions.df.loc[ix,\"trace\"].copy()\n",
    "ys = regions.df.loc[ix,\"slower_%g\"%ts].copy()\n",
    "t  = regions.time.copy()\n",
    "try:\n",
    "    tt = regions.showTime[\"%g\"%ts].copy()\n",
    "except:\n",
    "    tt = regions.time.copy()\n",
    "\n",
    "dtt = tt[1]-tt[0]\n",
    "nrb = int(dtt/regions.Freq)\n",
    "if nrb>1:\n",
    "    y = rebin(y, nrb)\n",
    "    t = rebin(t, nrb)\n",
    "dt = dtt/max(1,nrb)\n",
    "ax.plot(t, y, lw=.6)\n",
    "ax.plot(tt, ys, lw=.8)\n",
    "plt.tight_layout()\n",
    "\n",
    "ishow = 0\n",
    "for ip,p in pdf.query(f\"roi=={ix}\").iterrows():\n",
    "    is0 = np.searchsorted(tt, p.t0-p[\"peak half-width [s]\"]*.5)\n",
    "    i0  = np.searchsorted(t , p.t0-p[\"peak half-width [s]\"]*.5,)\n",
    "    ie  = np.searchsorted(t , p.t0+p[\"peak half-width [s]\"]*2+1)\n",
    "    ycur = y[i0:ie]\n",
    "    tcur = t[i0:ie]\n",
    "    imax = np.argmax(ycur)\n",
    "#     ax.plot(tcur,ycur,\"C2.\", mfc=\"none\")\n",
    "    ax.plot(tcur[imax],ycur[imax],\"ko\")\n",
    "#     r = guessDecayPars(ycur[imax-1:ie])[-1]\n",
    "    pars0 = LNParameters(s=.2,\n",
    "                         scale=p[\"peak half-width [s]\"]*2,\n",
    "                         amplitude=ycur[imax-1:imax+1].mean()-ys[is0],\n",
    "                         loc=p.t0+p[\"peak half-width [s]\"]*.2,\n",
    "                         offset=ys[is0],\n",
    "                         end=ys[is0]\n",
    "                      )\n",
    "\n",
    "    y0 = myLogNorm(tcur, *pars0)\n",
    "    plt.plot(tcur, y0,\"grey\",lw=.7)\n",
    "    opt = minimize(toMin, np.array(pars0), args=(tcur,ycur,myLogNorm), bounds=[(pars0[j],pars0[j]) if j==2 else (None,None) for j in range(len(pars0))])\n",
    "    opt = minimize(toMin, np.array(pars0), args=(tcur,ycur,myLogNorm), bounds=[(pars0[j]*.5,pars0[j]*2) if j==2 else (None,None) for j in range(len(pars0))])\n",
    "    pars = LNParameters(*opt.x)\n",
    "#     try:\n",
    "#         opt = minimize(toMin, np.array(pars0), args=(tcur,ycur,myLogNorm))\n",
    "#     except:\n",
    "#         continue\n",
    "    yf,bkg = myLogNorm(tcur,*opt.x, bkgsum=False)\n",
    "    y[i0:ie][np.isfinite(yf)] -= yf[np.isfinite(yf)]\n",
    "    plt.plot(tcur, yf+bkg, \"k\")\n",
    "    plt.plot(tcur, y[i0:ie], \"C1\",lw=.5)\n",
    "    fitPars.loc[ip] = opt.x\n",
    "#     pdf.loc[[ip],\"fitPars\"] = [tuple(opt.x)]\n",
    "    if ishow==0:\n",
    "        tmin = t[i0]-10\n",
    "    ishow += 1\n",
    "#     if ishow>10: break\n",
    "plt.xlim(tmin, tcur[-1]+10)"
   ]
  },
  {
   "cell_type": "code",
   "execution_count": null,
   "metadata": {},
   "outputs": [],
   "source": [
    "fitPars"
   ]
  },
  {
   "cell_type": "code",
   "execution_count": null,
   "metadata": {},
   "outputs": [],
   "source": [
    "LNParameters(*opt.x)"
   ]
  },
  {
   "cell_type": "code",
   "execution_count": null,
   "metadata": {},
   "outputs": [],
   "source": [
    "pdf.loc[[ip],\"fitPars\"] = [range(len(pars0))]"
   ]
  },
  {
   "cell_type": "code",
   "execution_count": null,
   "metadata": {},
   "outputs": [],
   "source": [
    "plt.plot(tr,myLogNorm(tr,*pars0._replace(loc=1), fillnan=False))"
   ]
  },
  {
   "cell_type": "code",
   "execution_count": null,
   "metadata": {},
   "outputs": [],
   "source": [
    "p[\"ha\"] = 1"
   ]
  },
  {
   "cell_type": "code",
   "execution_count": null,
   "metadata": {},
   "outputs": [],
   "source": [
    "p"
   ]
  },
  {
   "cell_type": "code",
   "execution_count": null,
   "metadata": {},
   "outputs": [],
   "source": [
    "pdf"
   ]
  },
  {
   "cell_type": "code",
   "execution_count": null,
   "metadata": {},
   "outputs": [],
   "source": []
  },
  {
   "cell_type": "code",
   "execution_count": null,
   "metadata": {},
   "outputs": [],
   "source": []
  },
  {
   "cell_type": "code",
   "execution_count": null,
   "metadata": {},
   "outputs": [],
   "source": []
  },
  {
   "cell_type": "code",
   "execution_count": null,
   "metadata": {},
   "outputs": [],
   "source": [
    "p.update(dict(zip(pars0._asdict().keys(), opt.x)))"
   ]
  },
  {
   "cell_type": "code",
   "execution_count": null,
   "metadata": {},
   "outputs": [],
   "source": [
    "plt.plot(y0)"
   ]
  },
  {
   "cell_type": "code",
   "execution_count": null,
   "metadata": {},
   "outputs": [],
   "source": []
  },
  {
   "cell_type": "code",
   "execution_count": null,
   "metadata": {},
   "outputs": [],
   "source": []
  },
  {
   "cell_type": "code",
   "execution_count": null,
   "metadata": {},
   "outputs": [],
   "source": []
  },
  {
   "cell_type": "code",
   "execution_count": null,
   "metadata": {
    "code_folding": [
     0
    ]
   },
   "outputs": [],
   "source": [
    "# fitting of z\n",
    "ix = regions.df.sort_values(\"zInterest\", ascending=False).index[0]\n",
    "if \"zScore_%g\"%ts not in regions.df:\n",
    "    regions.fast_filter_traces(ts)\n",
    "    \n",
    "nrb = int(ts/regions.Freq)\n",
    "fig, axs = plt.subplots(2,1,figsize=(9,6), sharex=True)\n",
    "\n",
    "y = regions.df.loc[ix,\"trace\"].copy()\n",
    "ys =regions.df.loc[ix,\"slower_%g\"%ts].copy()\n",
    "z = regions.df.loc[ix,\"zScore_%g\"%ts].copy()\n",
    "t = regions.time.copy()\n",
    "try:\n",
    "    tt = regions.showTime[\"%g\"%ts].copy()\n",
    "except:\n",
    "    tt = regions.time.copy()\n",
    "if nrb>1:\n",
    "    y = rebin(y, nrb)\n",
    "    t = rebin(t, nrb)\n",
    "axs[0].plot(t, y, lw=.6)\n",
    "axs[0].plot(tt, ys, lw=.8)\n",
    "axs[1].plot(tt,z,\"-\", lw=.6)\n",
    "dtt = tt[1]-tt[0]\n",
    "plt.tight_layout()\n",
    "# plt.xlim(t[0]-1,2000)\n",
    "\n",
    "ishow = 0\n",
    "for _,p in pdf.query(f\"roi=={ix}\").iterrows():\n",
    "    i0 = np.searchsorted(tt,p.t0-1,)\n",
    "    ie = np.searchsorted(tt,p.t0+p[\"peak half-width [s]\"]*2+1)\n",
    "    zcur = z[i0:ie]\n",
    "    tcur = tt[i0:ie]\n",
    "    imax = np.argmax(zcur)\n",
    "    axs[1].plot(tcur,zcur,\"C2.\", mfc=\"none\")\n",
    "    axs[1].plot(tcur[imax],zcur[imax],\"ko\")\n",
    "    pars0 = Parameters(decay=dtt/guessDecayPars(zcur[imax-1:ie])[-1],\n",
    "                       half_width=p[\"peak half-width [s]\"]*.8,\n",
    "                       amplitude=z[i0:ie].max(),\n",
    "                       loc=p.t0,\n",
    "                       offset=0,\n",
    "                       end=0\n",
    "                      )\n",
    "\n",
    "    z0 = myShape(tcur, *pars0)\n",
    "    plt.plot(tcur, z0,\"grey\",lw=.7)\n",
    "    try:\n",
    "        opt = minimize(toMin, np.array(pars0), args=(tcur,zcur))\n",
    "    except:\n",
    "        continue\n",
    "    zf = myShape(tcur,*opt.x)\n",
    "    plt.plot(tcur, zf,\"k\")\n",
    "    if ishow==0:\n",
    "        tmin = tt[i0]-10\n",
    "    ishow += 1\n",
    "    if ishow>10: break\n",
    "plt.xlim(tmin, tcur[-1]+10)"
   ]
  },
  {
   "cell_type": "code",
   "execution_count": null,
   "metadata": {},
   "outputs": [],
   "source": [
    "from islets.numeric import guessDecayPars"
   ]
  },
  {
   "cell_type": "code",
   "execution_count": null,
   "metadata": {},
   "outputs": [],
   "source": []
  },
  {
   "cell_type": "code",
   "execution_count": null,
   "metadata": {},
   "outputs": [],
   "source": [
    "iHalf = i0+int(regions.Freq*(1+p[\"peak half-width [s]\"]))"
   ]
  },
  {
   "cell_type": "code",
   "execution_count": null,
   "metadata": {},
   "outputs": [],
   "source": [
    "pars = Parameters(*opt.x)"
   ]
  },
  {
   "cell_type": "code",
   "execution_count": null,
   "metadata": {},
   "outputs": [],
   "source": [
    "%matplotlib inline"
   ]
  },
  {
   "cell_type": "code",
   "execution_count": null,
   "metadata": {},
   "outputs": [],
   "source": [
    "plt.figure()\n",
    "plt.plot(tt[i0:ie],z[i0:ie],\"o\", mfc=\"none\")\n",
    "plt.plot(tt[iHalf],z[iHalf],\"x\", mfc=\"none\")"
   ]
  },
  {
   "cell_type": "code",
   "execution_count": null,
   "metadata": {},
   "outputs": [],
   "source": [
    "plt.plot(tt[i0:ie], myShape(tt[i0:ie], *pars),\"k\")\n",
    "plt.plot(tt[i0:ie], myShape(tt[i0:ie], *pars._replace(half_width=pars.half_width/2)))\n",
    "plt.plot(tt[i0:ie], myShape(tt[i0:ie], *pars._replace(decay=pars.decay*5)))\n",
    "plt.plot(tt[i0:ie], myShape(tt[i0:ie], *pars._replace(decay=pars.decay*5, half_width=pars.half_width*2.5)))\n",
    "# plt.ioff()"
   ]
  },
  {
   "cell_type": "code",
   "execution_count": null,
   "metadata": {},
   "outputs": [],
   "source": []
  },
  {
   "cell_type": "code",
   "execution_count": null,
   "metadata": {},
   "outputs": [],
   "source": []
  },
  {
   "cell_type": "code",
   "execution_count": null,
   "metadata": {},
   "outputs": [],
   "source": [
    "1/regions.Freq"
   ]
  },
  {
   "cell_type": "markdown",
   "metadata": {
    "heading_collapsed": true
   },
   "source": [
    "### Other playing"
   ]
  },
  {
   "cell_type": "code",
   "execution_count": null,
   "metadata": {
    "hidden": true
   },
   "outputs": [],
   "source": [
    "%matplotlib notebook"
   ]
  },
  {
   "cell_type": "code",
   "execution_count": null,
   "metadata": {
    "hidden": true
   },
   "outputs": [],
   "source": [
    "ix = 57\n",
    "coltype = \"zScore\"\n",
    "plt.figure(figsize=(10,4))\n",
    "it = 0\n",
    "for ts in [1,3,5,10,30]:\n",
    "    try: t = regions.showTime[\"%g\"%ts]\n",
    "    except: t = regions.time\n",
    "    y = regions.df.loc[ix,\"%s_%g\"%(coltype,ts)]\n",
    "    plt.plot(t, y+10*it,lw=.6)\n",
    "    it += 1"
   ]
  },
  {
   "cell_type": "code",
   "execution_count": null,
   "metadata": {
    "hidden": true
   },
   "outputs": [],
   "source": [
    "from islets.utils import autocorr"
   ]
  },
  {
   "cell_type": "code",
   "execution_count": null,
   "metadata": {
    "hidden": true
   },
   "outputs": [],
   "source": [
    "plt.figure(figsize=(5,4))\n",
    "for ts in [1,3,5,10,30]:\n",
    "    try: t = regions.showTime[\"%g\"%ts]\n",
    "    except: t = regions.time\n",
    "    dt = np.diff(t).mean()\n",
    "    x = np.arange(int(30/dt))\n",
    "    y = autocorr(regions.df.loc[ix,\"%s_%g\"%(coltype,ts)], x)\n",
    "    c = plt.plot(x*dt,y,label=ts)[0].get_color()\n",
    "    plt.plot([-1,x[np.argmin(y)]*dt],[y.min(), y.min()],c=c)\n",
    "    plt.plot(x[np.argmin(y)]*dt,y.min(),\"o\",c=c, mfc=\"w\")\n",
    "plt.legend()"
   ]
  },
  {
   "cell_type": "code",
   "execution_count": null,
   "metadata": {
    "hidden": true
   },
   "outputs": [],
   "source": [
    "ts = 3\n",
    "regions.calc_peaks(ts)\n",
    "pdf = regions.peaks[\"%g\"%ts]"
   ]
  },
  {
   "cell_type": "code",
   "execution_count": null,
   "metadata": {
    "hidden": true
   },
   "outputs": [],
   "source": [
    "# pdf.query(f\"roi=={ix}\")\n",
    "ix = 57\n",
    "nrb = 10\n",
    "plt.figure(figsize=(10,4))\n",
    "y = rebin(regions.df.loc[ix,\"trace\"],nrb).copy()\n",
    "t = rebin(regions.time, nrb)\n",
    "plt.plot(t, y, lw=.6)\n",
    "ishow = 0\n",
    "for _,p in pdf.query(f\"roi=={ix}\").iterrows():\n",
    "    i0 = np.searchsorted(t,p.t0-1,)\n",
    "    ie = np.searchsorted(t,p.t0+p[\"peak half-width [s]\"]+4,)\n",
    "#     break\n",
    "\n",
    "    offset = y[i0]\n",
    "#     scale = p[\"peak half-width [s]\"]\n",
    "    a = y[i0:ie].max()-offset\n",
    "#     yf = myLogNorm(t,\n",
    "#                       Ampl=a,\n",
    "#                       loc=p.t0, \n",
    "#                       scale=scale,\n",
    "#                        s=1,\n",
    "#                       offset=offset)\n",
    "    yf = myShape(t,loc=p.t0,decay=2.5,amplitude=a,half_width=p[\"peak half-width [s]\"],offset=offset)\n",
    "    plt.plot(t, yf,\"k\")\n",
    "    plt.plot(t, y-yf+offset,\"grey\")\n",
    "    ishow += 1\n",
    "    if ishow>10: break\n",
    "plt.xlim(t[0],t[ie]+30)"
   ]
  },
  {
   "cell_type": "code",
   "execution_count": null,
   "metadata": {
    "hidden": true
   },
   "outputs": [],
   "source": [
    "%matplotlib inline"
   ]
  },
  {
   "cell_type": "code",
   "execution_count": null,
   "metadata": {
    "hidden": true
   },
   "outputs": [],
   "source": [
    "def toMin(x):\n",
    "    yf_ = myShape(t[i0:ie],*x,fillnan=False)\n",
    "    return ((yf_-y[i0:ie])**2).sum()"
   ]
  },
  {
   "cell_type": "code",
   "execution_count": null,
   "metadata": {
    "hidden": true
   },
   "outputs": [],
   "source": [
    "x0 = np.array([\n",
    "    2.5,\n",
    "    p[\"peak half-width [s]\"],\n",
    "    a,\n",
    "    p[\"t0\"],\n",
    "    offset,\n",
    "])\n",
    "toMin(x0)"
   ]
  },
  {
   "cell_type": "code",
   "execution_count": null,
   "metadata": {
    "hidden": true
   },
   "outputs": [],
   "source": [
    "from scipy.optimize import minimize"
   ]
  },
  {
   "cell_type": "code",
   "execution_count": null,
   "metadata": {
    "hidden": true
   },
   "outputs": [],
   "source": [
    "opt = minimize(toMin,x0)"
   ]
  },
  {
   "cell_type": "code",
   "execution_count": null,
   "metadata": {
    "hidden": true
   },
   "outputs": [],
   "source": [
    "tr = np.linspace(t[i0],t[ie],1000)"
   ]
  },
  {
   "cell_type": "code",
   "execution_count": null,
   "metadata": {
    "hidden": true
   },
   "outputs": [],
   "source": [
    "plt.plot(t[i0:ie],y[i0:ie],\"o-\", mfc=\"w\")\n",
    "plt.axvline(p.t0,ls=\"--\")\n",
    "yshow = myShape(tr      ,loc=p.t0,decay=2.5,amplitude=a,half_width=p[\"peak half-width [s]\"],offset=offset, fillnan=False)\n",
    "yf0    = myShape(t[i0:ie],loc=p.t0,decay=2.5,amplitude=a,half_width=p[\"peak half-width [s]\"],offset=offset, fillnan=False)\n",
    "yf = myShape(tr,*opt.x, fillnan=False)\n",
    "plt.plot(tr, yshow,\"k\")\n",
    "# plt.plot(t[i0:ie], yf0,\"ko\", mfc=\"w\")\n",
    "plt.plot(tr,yf)\n",
    "# plt.plot(t, y-yf+offset,\"grey\")\n",
    "# plt.xlim(t[i0]-2,t[ie]+3)"
   ]
  },
  {
   "cell_type": "code",
   "execution_count": null,
   "metadata": {
    "hidden": true
   },
   "outputs": [],
   "source": []
  },
  {
   "cell_type": "code",
   "execution_count": null,
   "metadata": {
    "hidden": true
   },
   "outputs": [],
   "source": [
    "def toMin(x, t_, y_):\n",
    "    yf_ = myShape(t_,*x,fillnan=False)\n",
    "    return ((yf_-y_)**2).sum()"
   ]
  },
  {
   "cell_type": "code",
   "execution_count": null,
   "metadata": {
    "hidden": true
   },
   "outputs": [],
   "source": [
    "%matplotlib notebook"
   ]
  },
  {
   "cell_type": "code",
   "execution_count": null,
   "metadata": {
    "hidden": true
   },
   "outputs": [],
   "source": [
    "# pdf.query(f\"roi=={ix}\")\n",
    "ix = 57\n",
    "nrb = 10\n",
    "plt.figure(figsize=(10,4))\n",
    "y = rebin(regions.df.loc[ix,\"trace\"],nrb).copy()\n",
    "t = rebin(regions.time, nrb)\n",
    "plt.plot(t, y, lw=.6)\n",
    "ishow = 0\n",
    "for ip,p in pdf.query(f\"roi=={ix}\").iterrows():\n",
    "    \n",
    "#     if ishow>=20: break\n",
    "    i0 = np.searchsorted(t,p.t0-1,)\n",
    "    ie = np.searchsorted(t,p.t0+p[\"peak half-width [s]\"]+3,)\n",
    "    x0 = np.array([\n",
    "            2.5,                      # dacay\n",
    "            p[\"peak half-width [s]\"], # half width\n",
    "            y[i0:ie].max()-y[i0],     # ampl\n",
    "            p[\"t0\"],                  # loc\n",
    "            y[i0],                    # offset\n",
    "            y[i0],                    # end\n",
    "        ])\n",
    "    tr = np.linspace(t[i0],t[ie],100)\n",
    "    y0 = myShape(tr,*x0)\n",
    "    plt.plot(tr, y0, \"b\", lw=.7)\n",
    "    \n",
    "    try:\n",
    "        opt = minimize(toMin, x0, args=(t[i0:ie], y[i0:ie]))\n",
    "        ishow += 1\n",
    "    except:\n",
    "         continue\n",
    "    yf = myShape(tr,*opt.x)\n",
    "    plt.plot(tr, yf,\"C3\")\n",
    "    plt.plot(t[i0:ie], y[i0:ie]-myShape(t[i0:ie],*opt.x)+opt.x[-1],\"lightgrey\",lw=.5)\n",
    "#     print (ishow, opt.x)\n",
    "# plt.xlim(t[0],t[ie]+30)"
   ]
  },
  {
   "cell_type": "code",
   "execution_count": null,
   "metadata": {
    "hidden": true
   },
   "outputs": [],
   "source": [
    "# pdf.query(f\"roi=={ix}\")\n",
    "ix = 57\n",
    "ts = .5\n",
    "if \"zScore_%g\"%ts not in regions.df:\n",
    "    regions.fast_filter_traces(ts)\n",
    "    \n",
    "nrb = 1\n",
    "fig, axs = plt.subplots(2,1,figsize=(10,8))"
   ]
  },
  {
   "cell_type": "code",
   "execution_count": null,
   "metadata": {
    "hidden": true
   },
   "outputs": [],
   "source": [
    "y = regions.df.loc[ix,\"trace\"].copy()\n",
    "z = regions.df.loc[ix,\"zScore_%g\"%ts].copy()\n",
    "t = regions.time.copy()\n",
    "try:\n",
    "    tt = regions.showTime[\"%g\"%ts].copy()\n",
    "except:\n",
    "    tt = regions.time.copy()\n",
    "if nrb>1:\n",
    "    y = rebin(y, nrb)\n",
    "    t = rebin(t, nrb)\n",
    "axs[0].plot(t, y, lw=.6)\n",
    "axs[1].plot(tt,z)"
   ]
  },
  {
   "cell_type": "code",
   "execution_count": null,
   "metadata": {
    "hidden": true
   },
   "outputs": [],
   "source": [
    "from islets.numeric import power_spectrum"
   ]
  },
  {
   "cell_type": "code",
   "execution_count": null,
   "metadata": {
    "hidden": true
   },
   "outputs": [],
   "source": [
    "fqs,pw = power_spectrum(y,regions.Freq/nrb)"
   ]
  },
  {
   "cell_type": "code",
   "execution_count": null,
   "metadata": {
    "hidden": true
   },
   "outputs": [],
   "source": [
    "%matplotlib inline"
   ]
  },
  {
   "cell_type": "code",
   "execution_count": null,
   "metadata": {
    "hidden": true
   },
   "outputs": [],
   "source": [
    "plt.plot(rebin(fqs[fqs>1.5],20), rebin(np.abs(pw)[fqs>1.5],20))"
   ]
  },
  {
   "cell_type": "code",
   "execution_count": null,
   "metadata": {
    "hidden": true
   },
   "outputs": [],
   "source": []
  },
  {
   "cell_type": "code",
   "execution_count": null,
   "metadata": {
    "hidden": true
   },
   "outputs": [],
   "source": []
  },
  {
   "cell_type": "code",
   "execution_count": null,
   "metadata": {
    "hidden": true
   },
   "outputs": [],
   "source": []
  },
  {
   "cell_type": "code",
   "execution_count": null,
   "metadata": {
    "hidden": true
   },
   "outputs": [],
   "source": [
    "ishow = 0\n",
    "for ip,p in pdf.query(f\"roi=={ix}\").iterrows():\n",
    "    \n",
    "#     if ishow>=20: break\n",
    "    i0 = np.searchsorted(t,p.t0-1,)\n",
    "    ie = np.searchsorted(t,p.t0+p[\"peak half-width [s]\"]+3,)\n",
    "    x0 = np.array([\n",
    "            2.5,                      # dacay\n",
    "            p[\"peak half-width [s]\"], # half width\n",
    "            y[i0:ie].max()-y[i0],     # ampl\n",
    "            p[\"t0\"],                  # loc\n",
    "            y[i0],                    # offset\n",
    "            y[i0],                    # end\n",
    "        ])\n",
    "    tr = np.linspace(t[i0],t[ie],100)\n",
    "    y0 = myShape(tr,*x0)\n",
    "    plt.plot(tr, y0, \"b\", lw=.7)\n",
    "    \n",
    "    try:\n",
    "        opt = minimize(toMin, x0, args=(t[i0:ie], y[i0:ie]))\n",
    "        ishow += 1\n",
    "    except:\n",
    "         continue\n",
    "    yf = myShape(tr,*opt.x)\n",
    "    plt.plot(tr, yf,\"C3\")\n",
    "    plt.plot(t[i0:ie], y[i0:ie]-myShape(t[i0:ie],*opt.x)+opt.x[-1],\"lightgrey\",lw=.5)\n",
    "#     print (ishow, opt.x)\n",
    "# plt.xlim(t[0],t[ie]+30)"
   ]
  },
  {
   "cell_type": "code",
   "execution_count": null,
   "metadata": {
    "hidden": true
   },
   "outputs": [],
   "source": [
    "# tr = np.linspace(t[i0],t[ie],100)\n",
    "y0 = myShape(tr,*x0)"
   ]
  },
  {
   "cell_type": "code",
   "execution_count": null,
   "metadata": {
    "hidden": true
   },
   "outputs": [],
   "source": []
  },
  {
   "cell_type": "code",
   "execution_count": null,
   "metadata": {
    "hidden": true
   },
   "outputs": [],
   "source": []
  },
  {
   "cell_type": "code",
   "execution_count": null,
   "metadata": {
    "hidden": true
   },
   "outputs": [],
   "source": []
  },
  {
   "cell_type": "code",
   "execution_count": null,
   "metadata": {
    "hidden": true
   },
   "outputs": [],
   "source": []
  },
  {
   "cell_type": "code",
   "execution_count": null,
   "metadata": {
    "hidden": true
   },
   "outputs": [],
   "source": []
  },
  {
   "cell_type": "code",
   "execution_count": null,
   "metadata": {
    "hidden": true
   },
   "outputs": [],
   "source": []
  },
  {
   "cell_type": "code",
   "execution_count": null,
   "metadata": {
    "hidden": true
   },
   "outputs": [],
   "source": []
  },
  {
   "cell_type": "code",
   "execution_count": null,
   "metadata": {
    "hidden": true
   },
   "outputs": [],
   "source": []
  },
  {
   "cell_type": "code",
   "execution_count": null,
   "metadata": {
    "hidden": true
   },
   "outputs": [],
   "source": []
  },
  {
   "cell_type": "code",
   "execution_count": null,
   "metadata": {
    "hidden": true
   },
   "outputs": [],
   "source": []
  },
  {
   "cell_type": "code",
   "execution_count": null,
   "metadata": {
    "hidden": true
   },
   "outputs": [],
   "source": []
  },
  {
   "cell_type": "code",
   "execution_count": null,
   "metadata": {
    "hidden": true
   },
   "outputs": [],
   "source": []
  },
  {
   "cell_type": "markdown",
   "metadata": {
    "heading_collapsed": true
   },
   "source": [
    "### Check for wiggles"
   ]
  },
  {
   "cell_type": "code",
   "execution_count": null,
   "metadata": {
    "hidden": true
   },
   "outputs": [],
   "source": [
    "from islets.numeric import get_sep_th"
   ]
  },
  {
   "cell_type": "code",
   "execution_count": null,
   "metadata": {
    "hidden": true
   },
   "outputs": [],
   "source": [
    "th = get_sep_th(regions.df.peakValue.values, log=True, plot=True)"
   ]
  },
  {
   "cell_type": "code",
   "execution_count": null,
   "metadata": {
    "hidden": true
   },
   "outputs": [],
   "source": [
    "# x = np.vstack([movie[:,point[0],point[1]] for point in regions.df.sort_values(\"peakValue\",ascending=False).peak[:30]])\n",
    "x = np.vstack([rebMovie[:,point[0],point[1]] for point in regions.df.sort_values(\"peakValue\",ascending=False).peak[:30]])\n",
    "# x = np.vstack(regions.df.trace)\n",
    "# f,p = power_spectrum(x, fr=metadata.Frequency)\n",
    "f,p = power_spectrum(x, fr=rebMovie.fr)\n",
    "f,p = f[f>0.5],np.abs(p[f>0.5])"
   ]
  },
  {
   "cell_type": "code",
   "execution_count": null,
   "metadata": {
    "hidden": true
   },
   "outputs": [],
   "source": [
    "n = 1\n",
    "plt.plot(rebin(f,n),rebin(p,n))"
   ]
  },
  {
   "cell_type": "code",
   "execution_count": null,
   "metadata": {
    "hidden": true
   },
   "outputs": [],
   "source": [
    "plt.figure(figsize=(10,3))\n",
    "plt.plot(x[0])"
   ]
  },
  {
   "cell_type": "code",
   "execution_count": null,
   "metadata": {
    "hidden": true
   },
   "outputs": [],
   "source": [
    "i,j = regions.df.sort_values(\"peakValue\",ascending=False).peak.iloc[0]"
   ]
  },
  {
   "cell_type": "code",
   "execution_count": null,
   "metadata": {
    "hidden": true
   },
   "outputs": [],
   "source": [
    "plt.scatter(rebMovie[:,i,j],\n",
    "            rebMovie[:,i+0,j-1],\n",
    "            c=np.arange(len(rebMovie)),\n",
    "            s=.4)\n",
    "plt.gca().set_aspect(\"equal\")"
   ]
  },
  {
   "cell_type": "code",
   "execution_count": null,
   "metadata": {
    "hidden": true
   },
   "outputs": [],
   "source": []
  },
  {
   "cell_type": "code",
   "execution_count": null,
   "metadata": {
    "hidden": true
   },
   "outputs": [],
   "source": [
    "# f,p = power_spectrum(np.vstack(data[:,0]),fr=metadata.Frequency,mean=False)"
   ]
  },
  {
   "cell_type": "code",
   "execution_count": null,
   "metadata": {
    "hidden": true
   },
   "outputs": [],
   "source": [
    "# plt.boxplot(p[:,2:100],positions=f[2:100], showfliers=False);\n",
    "# plt.plot(f[2:],p.mean(0)[2:],lw=.6)\n",
    "# plt.xscale(\"symlog\")"
   ]
  },
  {
   "cell_type": "code",
   "execution_count": null,
   "metadata": {
    "hidden": true
   },
   "outputs": [],
   "source": [
    "# plt.plot(*sum([(f,pp) for pp in p[:10]],tuple()),lw=.3)"
   ]
  },
  {
   "cell_type": "markdown",
   "metadata": {
    "heading_collapsed": true
   },
   "source": [
    "### Experiment with filtering the whole movie"
   ]
  },
  {
   "cell_type": "code",
   "execution_count": null,
   "metadata": {
    "hidden": true
   },
   "outputs": [],
   "source": [
    "from islets.numeric import get_sep_th"
   ]
  },
  {
   "cell_type": "code",
   "execution_count": null,
   "metadata": {
    "hidden": true
   },
   "outputs": [],
   "source": [
    "th = get_sep_th(im.flatten(),log=True, plot=False)"
   ]
  },
  {
   "cell_type": "code",
   "execution_count": null,
   "metadata": {
    "hidden": true
   },
   "outputs": [],
   "source": [
    "r = rs[0]"
   ]
  },
  {
   "cell_type": "code",
   "execution_count": null,
   "metadata": {
    "hidden": true
   },
   "outputs": [],
   "source": [
    "r.update(movie)"
   ]
  },
  {
   "cell_type": "code",
   "execution_count": null,
   "metadata": {
    "hidden": true
   },
   "outputs": [],
   "source": [
    "r.Freq"
   ]
  },
  {
   "cell_type": "code",
   "execution_count": null,
   "metadata": {
    "hidden": true
   },
   "outputs": [],
   "source": [
    "r.fast_filter_traces(4,z_sp=0)"
   ]
  },
  {
   "cell_type": "code",
   "execution_count": null,
   "metadata": {
    "hidden": true
   },
   "outputs": [],
   "source": [
    "n = 256\n",
    "tmp = r.sosFilter.run(r.movie[:,:n,:n].reshape((r.movie.shape[0],-1)).T).T.reshape((-1,n,n))"
   ]
  },
  {
   "cell_type": "code",
   "execution_count": null,
   "metadata": {
    "hidden": true
   },
   "outputs": [],
   "source": [
    "n1,n2 = int(.55*len(tmp)), int(.551*len(tmp))\n",
    "print (r.time[n2]-r.time[n1])"
   ]
  },
  {
   "cell_type": "code",
   "execution_count": null,
   "metadata": {
    "hidden": true
   },
   "outputs": [],
   "source": [
    "# show_movie(tmp,)"
   ]
  },
  {
   "cell_type": "code",
   "execution_count": null,
   "metadata": {
    "hidden": true
   },
   "outputs": [],
   "source": [
    "np.percentile(tmp[n1:n2].flatten(),5)"
   ]
  },
  {
   "cell_type": "code",
   "execution_count": null,
   "metadata": {
    "hidden": true
   },
   "outputs": [],
   "source": [
    "tmp[n1:n2].min()"
   ]
  },
  {
   "cell_type": "code",
   "execution_count": null,
   "metadata": {
    "hidden": true
   },
   "outputs": [],
   "source": [
    "zMovie = (rebMovie[n1:n2]-tmp[n1:n2])/np.maximum(.04,tmp[n1:n2])**.5"
   ]
  },
  {
   "cell_type": "code",
   "execution_count": null,
   "metadata": {
    "hidden": true
   },
   "outputs": [],
   "source": [
    "plt.hist(zMovie.flatten(),100,log=True);"
   ]
  },
  {
   "cell_type": "code",
   "execution_count": null,
   "metadata": {
    "hidden": true
   },
   "outputs": [],
   "source": [
    "z = 1.5\n",
    "im = (zMovie>z).sum(0)-(zMovie<-z).sum(0)\n",
    "plt.imshow(im,cmap=\"bwr\", vmin=-np.abs(im).max(), vmax=np.abs(im).max())"
   ]
  },
  {
   "cell_type": "code",
   "execution_count": null,
   "metadata": {
    "hidden": true
   },
   "outputs": [],
   "source": [
    "\n",
    "# show_movie(\n",
    "#     zMovie,\n",
    "#     NTimeFrames=n2-n1,\n",
    "#     log=False, \n",
    "#     autoadjust=False,\n",
    "# #     out=\"save\",\n",
    "#     cmapArgs={\"cmap\":\"bwr\",\"vmin\":-3,\"vmax\":3}\n",
    "#           )"
   ]
  },
  {
   "cell_type": "code",
   "execution_count": null,
   "metadata": {
    "hidden": true
   },
   "outputs": [],
   "source": []
  },
  {
   "cell_type": "code",
   "execution_count": null,
   "metadata": {
    "hidden": true
   },
   "outputs": [],
   "source": []
  },
  {
   "cell_type": "code",
   "execution_count": null,
   "metadata": {
    "hidden": true
   },
   "outputs": [],
   "source": []
  },
  {
   "cell_type": "code",
   "execution_count": null,
   "metadata": {
    "hidden": true
   },
   "outputs": [],
   "source": []
  },
  {
   "cell_type": "code",
   "execution_count": null,
   "metadata": {
    "hidden": true
   },
   "outputs": [],
   "source": []
  },
  {
   "cell_type": "code",
   "execution_count": null,
   "metadata": {
    "hidden": true
   },
   "outputs": [],
   "source": []
  },
  {
   "cell_type": "code",
   "execution_count": null,
   "metadata": {
    "hidden": true
   },
   "outputs": [],
   "source": []
  },
  {
   "cell_type": "code",
   "execution_count": null,
   "metadata": {
    "hidden": true
   },
   "outputs": [],
   "source": []
  },
  {
   "cell_type": "code",
   "execution_count": null,
   "metadata": {
    "hidden": true
   },
   "outputs": [],
   "source": [
    "regions = Regions(rebMovie, diag=True, gSig_filt=(3,5))"
   ]
  },
  {
   "cell_type": "code",
   "execution_count": null,
   "metadata": {
    "hidden": true
   },
   "outputs": [],
   "source": [
    "fig,axs=plt.subplots(1,2,figsize=(13,6))\n",
    "for k,ax in zip([\"mean\",\"diff_std\"],axs):\n",
    "    ax.imshow(regions.statImages[k], norm=LogNorm())\n",
    "    regions.plotEdges(ax=ax,image=False)\n",
    "    regions.plotPeaks(ax=ax,image=False)"
   ]
  },
  {
   "cell_type": "code",
   "execution_count": null,
   "metadata": {
    "hidden": true
   },
   "outputs": [],
   "source": [
    "regions.update(movie)"
   ]
  },
  {
   "cell_type": "code",
   "execution_count": null,
   "metadata": {
    "hidden": true
   },
   "outputs": [],
   "source": [
    "regions.fast_filter_traces(10)"
   ]
  },
  {
   "cell_type": "code",
   "execution_count": null,
   "metadata": {
    "hidden": true
   },
   "outputs": [],
   "source": [
    "n = 10\n",
    "tmp = regions.sosFilter.run(regions.movie[:,:n,:n].reshape((regions.movie.shape[0],-1))).reshape((-1,n,n))"
   ]
  },
  {
   "cell_type": "code",
   "execution_count": null,
   "metadata": {
    "hidden": true
   },
   "outputs": [],
   "source": [
    "from islets.utils import show_movie"
   ]
  },
  {
   "cell_type": "code",
   "execution_count": null,
   "metadata": {
    "hidden": true
   },
   "outputs": [],
   "source": [
    "mshow = np.concatenate([\n",
    "    rebin(movie[:,:n,:n],1200),\n",
    "    rebin(tmp,1200),\n",
    "    rebin(movie[:,:n,:n]-tmp,1200)\n",
    "])"
   ]
  },
  {
   "cell_type": "code",
   "execution_count": null,
   "metadata": {
    "hidden": true
   },
   "outputs": [],
   "source": [
    "mshow  = cmovie(mshow,fr=movie.fr)"
   ]
  },
  {
   "cell_type": "code",
   "execution_count": null,
   "metadata": {
    "hidden": true
   },
   "outputs": [],
   "source": [
    "show_movie(mshow,\n",
    "#           additionalPlot=lambda ax_: regions.plotEdges(ax=ax_, image=False),\n",
    "#           log=False, \n",
    "          figScale=1,\n",
    "          NTimeFrames=len(mshow),\n",
    "#           out=\"save\"\n",
    "         )"
   ]
  },
  {
   "cell_type": "code",
   "execution_count": null,
   "metadata": {
    "hidden": true
   },
   "outputs": [],
   "source": [
    "regions.calcTraces()"
   ]
  },
  {
   "cell_type": "code",
   "execution_count": null,
   "metadata": {
    "hidden": true
   },
   "outputs": [],
   "source": [
    "regions.detrend_traces()"
   ]
  },
  {
   "cell_type": "code",
   "execution_count": null,
   "metadata": {
    "hidden": true
   },
   "outputs": [],
   "source": [
    "regions.infer_gain(plot=True)"
   ]
  },
  {
   "cell_type": "code",
   "execution_count": null,
   "metadata": {
    "hidden": true
   },
   "outputs": [],
   "source": [
    "regions.gain"
   ]
  },
  {
   "cell_type": "code",
   "execution_count": null,
   "metadata": {
    "hidden": true
   },
   "outputs": [],
   "source": [
    "regions.gain = 1"
   ]
  },
  {
   "cell_type": "code",
   "execution_count": null,
   "metadata": {
    "hidden": true
   },
   "outputs": [],
   "source": [
    "ts = 4\n",
    "regions.fast_filter_traces(ts)"
   ]
  },
  {
   "cell_type": "code",
   "execution_count": null,
   "metadata": {
    "hidden": true
   },
   "outputs": [],
   "source": [
    "x = np.vstack(regions.df[\"zScore_%g\"%ts])\n",
    "# x = rebin(x,100,1)\n",
    "plt.imshow(x>3, aspect=\"auto\")"
   ]
  },
  {
   "cell_type": "code",
   "execution_count": null,
   "metadata": {
    "hidden": true
   },
   "outputs": [],
   "source": [
    "regions.df.columns"
   ]
  },
  {
   "cell_type": "code",
   "execution_count": null,
   "metadata": {
    "hidden": true
   },
   "outputs": [],
   "source": [
    "regions.fast_filter_traces(10)"
   ]
  },
  {
   "cell_type": "code",
   "execution_count": null,
   "metadata": {
    "hidden": true
   },
   "outputs": [],
   "source": []
  }
 ],
 "metadata": {
  "kernelspec": {
   "display_name": "Physio",
   "language": "python",
   "name": "physio"
  },
  "language_info": {
   "codemirror_mode": {
    "name": "ipython",
    "version": 3
   },
   "file_extension": ".py",
   "mimetype": "text/x-python",
   "name": "python",
   "nbconvert_exporter": "python",
   "pygments_lexer": "ipython3",
   "version": "3.7.6"
  },
  "toc": {
   "base_numbering": 1,
   "nav_menu": {},
   "number_sections": true,
   "sideBar": true,
   "skip_h1_title": false,
   "title_cell": "Table of Contents",
   "title_sidebar": "Contents",
   "toc_cell": false,
   "toc_position": {
    "height": "calc(100% - 180px)",
    "left": "10px",
    "top": "150px",
    "width": "317.167px"
   },
   "toc_section_display": true,
   "toc_window_display": false
  },
  "varInspector": {
   "cols": {
    "lenName": 16,
    "lenType": 16,
    "lenVar": 40
   },
   "kernels_config": {
    "python": {
     "delete_cmd_postfix": "",
     "delete_cmd_prefix": "del ",
     "library": "var_list.py",
     "varRefreshCmd": "print(var_dic_list())"
    },
    "r": {
     "delete_cmd_postfix": ") ",
     "delete_cmd_prefix": "rm(",
     "library": "var_list.r",
     "varRefreshCmd": "cat(var_dic_list()) "
    }
   },
   "types_to_exclude": [
    "module",
    "function",
    "builtin_function_or_method",
    "instance",
    "_Feature"
   ],
   "window_display": false
  }
 },
 "nbformat": 4,
 "nbformat_minor": 4
}
