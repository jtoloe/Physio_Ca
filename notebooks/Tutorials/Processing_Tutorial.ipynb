{
 "cells": [
  {
   "cell_type": "markdown",
   "metadata": {},
   "source": [
    "## Processing"
   ]
  },
  {
   "cell_type": "markdown",
   "metadata": {},
   "source": [
    "Since Dec 2, 2021, there is a single script \"`full_process.py`\" for processing leica (lif), nikon (nd2), and tiffs. It automatically corrects for motion, and phase (for bidirectional scans), and performs the usual sigmentation into ROIs. \n",
    "\n",
    "The script needs to be run in a terminal. To open the terminal from your [ctn landing page](https://ctn.physiologie.meduniwien.ac.at), click `New` and choose terminal.\n",
    "\n",
    "Then, you can process your recording by issuing for example:  \n",
    "`/data/useful/scripts/full_process.py \"/data/example/full_path_to_your_file.nd2\"`\n",
    "\n",
    "For lif and nd2 files, the script will attempt to read important metadata, such as frequency from the file itself. If it can read also the pixel size, the script will automatically determine the size of spatial filters, which need to be approximately the diameter of cells (in pixels).\n",
    "In case some of this does not work, or you know the metadata is not correct you can override the automatic choises by using optional arguments `--frequency` and/or `--spatial-filter`. \n",
    "\n",
    "For example, the following command will process the recording assuming it was done at 10Hz and will use three spatial filters 7,8, and 10:  \n",
    "`/data/useful/scripts/full_process.py \"/data/example/full_path_to_your_file.nd2\" --frequency=10 --spatial-filter=\"7,8,10\"`\n",
    "\n",
    "For tifs, I did not implement automatic way of reading metadata, so you need to provide both of these arguments.\n"
   ]
  },
  {
   "cell_type": "markdown",
   "metadata": {},
   "source": [
    "`--series` (for lifs):"
   ]
  },
  {
   "cell_type": "markdown",
   "metadata": {},
   "source": [
    "Leica files often contain more than one recording (\"series\"). By default, the script assumes all the series belong together, and will try to stitch them.\n",
    "\n",
    "If that does not work, or you wish to process only some series from the file, you can specify them using the argument `--series`. \n",
    "\n",
    "For example, `.../full_process.py \"/full/path/to_file.lif\" --series=\"Series011\"`, will proess `Series011` from the file, and  `.../full_process.py \"/full/path/to_file.lif\" --series=\"Series011-13\"` will first attempt to stitch `Series011`, `Series012` and `Series013`, and then process the resulting recording."
   ]
  },
  {
   "cell_type": "markdown",
   "metadata": {},
   "source": [
    "## Understanding output"
   ]
  },
  {
   "cell_type": "markdown",
   "metadata": {},
   "source": [
    "In the default case, the script produces 6 output files: \n",
    "    \n",
    "  - 2 videos in mp4 (original and corrected)\n",
    "  - 2 plots in png (for phase shifts, and motion shifts)\n",
    "  - 2 regions files for two different sizes of spatial filters (`.pkl` at the time of writing this tutotial, but we have intention to change to use other file format)\n",
    "  \n",
    "and saves them in a folder named for example `\"/original/path/to_recording.lif_analysis/series_name/\"`, where \"`series_name`\" is the name of the series for lif files (if you provided one), and \"`all`\" in all other cases."
   ]
  },
  {
   "cell_type": "markdown",
   "metadata": {},
   "source": [
    "## Other optional arguments"
   ]
  },
  {
   "cell_type": "markdown",
   "metadata": {},
   "source": [
    "This document may not always reflect all the available options. You can always check the exact options and their succint description by running `/data/useful/scripts/full_process.py --help`. At the bottom of this document is the output of this command at the time of writing this text."
   ]
  },
  {
   "cell_type": "markdown",
   "metadata": {},
   "source": [
    "### Restricting to a concrete time window\n",
    "  \n",
    "If you want to restrict the analysis to only a part of the movie, from say 200th to 1234th second, you can use the `restrict` variable (`--restrict=\"200_1234\"`).  \n",
    "  \n",
    "Restrict will also take the negative value for the end time point. For example, if you want to process all except the last 10s, you can enter `--restrict=\"0_-10\"`.\n",
    "\n",
    "When you use this option, the folder name inherits this argument as an additional suffix. For example, the folder name would be `\"/original/path/to_recording.lif_analysis/series_name_0_-10s/\"`"
   ]
  },
  {
   "cell_type": "markdown",
   "metadata": {},
   "source": [
    "### I get too few ROIs!\n",
    "  \n",
    "By default, not all pixels of the recording will be taken to perform segmentation into ROIs, but only those which stick enough out of the background. A parameter that regulates this is called `--pixels-cutoff`. It's default value (0.02 at the time of writing this) is chosen so as to provide reasonable number of ROIs for the recordigs of mouse tissue slices. For other experiments it is possible that the value should be lower, or even put to 0. (If there is lot's of empty space, 0 might result in way too much ROIs, in which case, I suggest using a small positive number, e.g. 0.001.)\n",
    "\n",
    "If you wish to try this option, add `--pixels-cutoff=0.001` to your command."
   ]
  },
  {
   "cell_type": "markdown",
   "metadata": {},
   "source": [
    "### Turn the motion correction off\n",
    "\n",
    "Sometimes the motion correction does not improve FOV, or it even makes it worse. In such cases, just add `--skip_motion_correction` (or `-skipmc`) to the command to turn motion correction off. "
   ]
  },
  {
   "cell_type": "markdown",
   "metadata": {},
   "source": [
    "### Specifying a channel\n",
    "\n",
    "By default, the processing is using the first channel (with index `0`). If you want to infer ROIs based on another channel, you can specify it by adding argument for example `--channel=1`, which will use the channel with index `1`. The output folder then get additinal suffix \"`_c1`\", e.g. `\"/original/path/to_recording.lif_analysis/series_name_0_-10s_c1/\"`"
   ]
  },
  {
   "cell_type": "markdown",
   "metadata": {},
   "source": [
    "### More output\n",
    "\n",
    "If you wish to follow more verbosely the processing, add `--verbose` to the command"
   ]
  },
  {
   "cell_type": "markdown",
   "metadata": {},
   "source": [
    "### Notifications on slack\n",
    "\n",
    "If you wish to get notifications on slack on the progress of processing, add `--notify` to the command. If this option does not work for you, we need to add your username manually to the script."
   ]
  },
  {
   "cell_type": "markdown",
   "metadata": {},
   "source": [
    "## Help from the terminal"
   ]
  },
  {
   "cell_type": "markdown",
   "metadata": {
    "ExecuteTime": {
     "end_time": "2021-12-03T12:37:03.677385Z",
     "start_time": "2021-12-03T12:37:03.673508Z"
    }
   },
   "source": [
    "`$full_process.py --help`"
   ]
  },
  {
   "cell_type": "markdown",
   "metadata": {},
   "source": [
    "```\n",
    "usage: full_process.py [-h] [--series SERIES] [--restrict RESTRICT]\n",
    "                       [--verbose] [--spatial-filter SPATIAL_FILTER]\n",
    "                       [--frequency FREQUENCY] [--channel CHANNEL]\n",
    "                       [--pixels-cutoff PIXELS_CUTOFF] [--notify]\n",
    "                       [--notification-user SLACK_USERLIST] [--debug]\n",
    "                       --recording\n",
    "\n",
    "Process a recording: correct phase, correct for motion, segment and save.\n",
    "\n",
    "positional arguments:\n",
    "  --recording           path to the recording, can be tif, lif, or nd2\n",
    "\n",
    "optional arguments:\n",
    "  -h, --help            show this help message and exit\n",
    "  --series SERIES, -ser SERIES\n",
    "                        name of the series (relevant only for lif files)\n",
    "  --restrict RESTRICT   restrict analysis to the time interval (in seconds!),\n",
    "                        e.g. \"0_100\" will only process first 100 seconds of\n",
    "                        the movie, and \"200_-10\" will process the time region\n",
    "                        from 200s until 10s before the end.\n",
    "  --verbose             toggle verbose output on\n",
    "  --spatial-filter SPATIAL_FILTER, -sp SPATIAL_FILTER\n",
    "                        produce roi pickles with exactly these filter sizes,\n",
    "                        e.g. -sp=\"5\" or -sp=\"5+6\" to produce simple rois with\n",
    "                        indicated sizes, or sp=\"5,5+6\" to produce both 5 and\n",
    "                        5+6. Default (None) will guess four sizes based on\n",
    "                        pxSize in the metadata if there are.\n",
    "  --frequency FREQUENCY, -fr FREQUENCY\n",
    "                        Frequency (frame rate) of the recording. Default\n",
    "                        (None) will try to get it from the metadata.\n",
    "  --channel CHANNEL     specify a channel to be used for construction of rois\n",
    "                        (for multi-channel recording). Default is 0\n",
    "  --pixels-cutoff PIXELS_CUTOFF\n",
    "                        specifies the cutoff value of what will be considered\n",
    "                        noise in the filtered image. The lower the value, the\n",
    "                        fewer pixels will be considered noise and discarded,\n",
    "                        and the result will have more ROIs. If you wish to\n",
    "                        capture more potential cells, put this parameter to 0\n",
    "                        (or even negative, but I did not test that). The\n",
    "                        default is chosen as a reasonable compromise for most\n",
    "                        applications in recordings of tissue slices.\n",
    "  --notify              Triggers notification on slack when the script\n",
    "                        starts/finishes.\n",
    "  --notification-user SLACK_USERLIST, -nu SLACK_USERLIST\n",
    "                        List of users to notify with the slack notifications\n",
    "  --skip_motion_correction, -skipmc\n",
    "                        toggle motion correction off\n",
    "  --debug               toggle debug mode\n",
    "```"
   ]
  },
  {
   "cell_type": "code",
   "execution_count": null,
   "metadata": {},
   "outputs": [],
   "source": []
  }
 ],
 "metadata": {
  "kernelspec": {
   "display_name": "Physio",
   "language": "python",
   "name": "physio"
  },
  "language_info": {
   "codemirror_mode": {
    "name": "ipython",
    "version": 3
   },
   "file_extension": ".py",
   "mimetype": "text/x-python",
   "name": "python",
   "nbconvert_exporter": "python",
   "pygments_lexer": "ipython3",
   "version": "3.7.0"
  },
  "toc": {
   "base_numbering": 1,
   "nav_menu": {},
   "number_sections": true,
   "sideBar": true,
   "skip_h1_title": false,
   "title_cell": "Table of Contents",
   "title_sidebar": "Contents",
   "toc_cell": false,
   "toc_position": {},
   "toc_section_display": true,
   "toc_window_display": false
  },
  "varInspector": {
   "cols": {
    "lenName": 16,
    "lenType": 16,
    "lenVar": 40
   },
   "kernels_config": {
    "python": {
     "delete_cmd_postfix": "",
     "delete_cmd_prefix": "del ",
     "library": "var_list.py",
     "varRefreshCmd": "print(var_dic_list())"
    },
    "r": {
     "delete_cmd_postfix": ") ",
     "delete_cmd_prefix": "rm(",
     "library": "var_list.r",
     "varRefreshCmd": "cat(var_dic_list()) "
    }
   },
   "types_to_exclude": [
    "module",
    "function",
    "builtin_function_or_method",
    "instance",
    "_Feature"
   ],
   "window_display": false
  }
 },
 "nbformat": 4,
 "nbformat_minor": 4
}
