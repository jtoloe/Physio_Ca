{
 "cells": [
  {
   "cell_type": "code",
   "execution_count": 1,
   "metadata": {
    "ExecuteTime": {
     "end_time": "2019-10-26T19:19:22.423211Z",
     "start_time": "2019-10-26T19:19:19.368292Z"
    },
    "code_folding": []
   },
   "outputs": [],
   "source": [
    "### Preface\n",
    "import javabridge\n",
    "import bioformats as bf\n",
    "javabridge.start_vm(class_path=bf.JARS)\n",
    "import numpy as np\n",
    "import pandas as pd\n",
    "from os.path import isfile\n",
    "import matplotlib.pyplot as plt\n",
    "\n",
    "from sys import path as syspath\n",
    "syspath.append(\"./functions/\")\n",
    "from physio_def_1 import getApparentFreq, importFrames, getTimes\n",
    "\n",
    "from plotFirst_1 import plotImage"
   ]
  },
  {
   "cell_type": "code",
   "execution_count": 4,
   "metadata": {
    "ExecuteTime": {
     "end_time": "2019-10-26T19:20:24.963316Z",
     "start_time": "2019-10-26T19:20:24.960520Z"
    }
   },
   "outputs": [],
   "source": [
    "from collections import OrderedDict"
   ]
  },
  {
   "cell_type": "code",
   "execution_count": null,
   "metadata": {
    "ExecuteTime": {
     "end_time": "2019-10-26T19:20:12.712981Z",
     "start_time": "2019-10-26T19:20:03.538063Z"
    },
    "code_folding": []
   },
   "outputs": [],
   "source": [
    "# pathToFile = '/Volumes/physio/team/slakrupnik/project/experiments/Sandra/2019_10_15/Experiment38b.lif'\n",
    "pathToFile = '/Users/srdjan/Documents/Physio_Ca/data/Experiment1/Experiment1.lif'\n",
    "\n",
    "md = bf.get_omexml_metadata(pathToFile)\n",
    "xml = bf.OMEXML(md)\n",
    "Nimages = xml.get_image_count()\n",
    "rdr = bf.ImageReader(pathToFile, perform_init=True)\n",
    "extension = \".\"+pathToFile.split(\".\")[-1]"
   ]
  },
  {
   "cell_type": "code",
   "execution_count": null,
   "metadata": {
    "ExecuteTime": {
     "start_time": "2019-10-26T19:20:35.888Z"
    },
    "code_folding": []
   },
   "outputs": [
    {
     "name": "stderr",
     "output_type": "stream",
     "text": [
      "./functions/physio_def_1.py:95: UserWarning: Could not give all required time points. I advise you double check the output\n",
      "  warn(f\"Could not give all required time points. I advise you double check the output\")\n"
     ]
    }
   ],
   "source": [
    "for iSeries in range(Nimages):\n",
    "    im = xml.image(iSeries)\n",
    "    Name = im.Name\n",
    "    \n",
    "    if Nimages==1:\n",
    "        npzFile   = pathToFile.replace(extension,f\".npz\")\n",
    "        imageFile = pathToFile.replace(extension,f\".png\")\n",
    "        dimFile   = pathToFile.replace(extension,f\".txt\")\n",
    "    else:\n",
    "        npzFile   = pathToFile.replace(extension,f\"_{iSeries}_{Name}.npz\")\n",
    "        imageFile = pathToFile.replace(extension,f\"_{iSeries}_{Name}.png\")\n",
    "        dimFile   = pathToFile.replace(extension,f\"_{iSeries}_{Name}.txt\")\n",
    "    \n",
    "    if isfile(npzFile):\n",
    "        continue\n",
    "    dimensions = dict(zip(\"TXY\",(getattr(im.Pixels, \"Size\"+dim) for dim in \"TXY\")))\n",
    "\n",
    "    if dimensions[\"T\"]>1:\n",
    "        dimensions['freq'] = getApparentFreq(iSeries,xml)\n",
    "\n",
    "    howManyFirstFrames = min(10,dimensions[\"T\"])\n",
    "    firstFrames = importFrames(rdr,idx=iSeries, which=(howManyFirstFrames,))\n",
    "\n",
    "    extraDims = len(firstFrames.shape)>3\n",
    "    if extraDims:\n",
    "        print(\"There are more dimensions here than expected.\\nI'll remedy this for now, but be shure to keep this in mind.\")\n",
    "        retainDims = np.where(firstFrames.std(axis=tuple(range(len(firstFrames.shape)-1)))>0)[0]\n",
    "        assert len(retainDims)==1\n",
    "        retainDims = retainDims[0]\n",
    "        firstFrames = firstFrames.T[retainDims].T\n",
    "    else:\n",
    "        retainDims = None\n",
    "\n",
    "    meanFirstFrames = firstFrames.mean(axis=0)\n",
    "#     stdFirstFrames = firstFrames.std(axis=0)\n",
    "\n",
    "    pxSize = im.Pixels.get_PhysicalSizeX()\n",
    "    pxUnit = im.Pixels.get_PhysicalSizeXUnit()\n",
    "    text = \"\\n\".join([\" %s:%i\"%(c,dimensions[c])  for c in \"XYT\"])\n",
    "    if dimensions[\"T\"]>1:\n",
    "        text += \"\\n f:%.1f Hz\"%dimensions['freq']\n",
    "    dimensions[\"pxSize\"] = pxSize\n",
    "    dimensions[\"pxUnit\"] = pxUnit\n",
    "\n",
    "\n",
    "    pd.DataFrame([dimensions]).to_csv(dimFile)\n",
    "    plotImage(meanFirstFrames.T,pxSize=pxSize,pxUnit=pxUnit,\n",
    "              rescale=1./25,\n",
    "              savePath=imageFile,\n",
    "              addInfo=text)\n",
    "    plt.close()\n",
    "    \n",
    "        \n",
    "    time = getTimes(xml_=xml,idx_=iSeries)\n",
    "\n",
    "    mintype = pd.to_numeric(firstFrames.flatten(),downcast=\"unsigned\").dtype\n",
    "    allimage = importFrames(\n",
    "        rdr,\n",
    "        idx=iSeries,\n",
    "        dtype=mintype,\n",
    "        which=(dimensions['T'],None,None,1)[:3+int(extraDims)]\n",
    "    #     which=(None,None,None)+tuple([retainDims][:int(extraDims)])\n",
    "    )\n",
    "    np.savez_compressed(npzFile,time=time,data=allimage)"
   ]
  },
  {
   "cell_type": "code",
   "execution_count": null,
   "metadata": {},
   "outputs": [],
   "source": []
  }
 ],
 "metadata": {
  "kernelspec": {
   "display_name": "Python [conda env:physio]",
   "language": "python",
   "name": "conda-env-physio-py"
  },
  "language_info": {
   "codemirror_mode": {
    "name": "ipython",
    "version": 3
   },
   "file_extension": ".py",
   "mimetype": "text/x-python",
   "name": "python",
   "nbconvert_exporter": "python",
   "pygments_lexer": "ipython3",
   "version": "3.7.4"
  },
  "toc": {
   "base_numbering": 1,
   "nav_menu": {},
   "number_sections": true,
   "sideBar": true,
   "skip_h1_title": false,
   "title_cell": "Table of Contents",
   "title_sidebar": "Contents",
   "toc_cell": false,
   "toc_position": {},
   "toc_section_display": true,
   "toc_window_display": true
  }
 },
 "nbformat": 4,
 "nbformat_minor": 4
}
