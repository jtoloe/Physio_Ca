{
 "cells": [
  {
   "cell_type": "code",
   "execution_count": 1,
   "metadata": {},
   "outputs": [],
   "source": [
    "# from sys import argv\n",
    "argv = [None,\"/Volumes/Backup Plus/Nikon/2019_09_25/Slice2_Glu8_nif_012.nd2\"]"
   ]
  },
  {
   "cell_type": "code",
   "execution_count": 69,
   "metadata": {},
   "outputs": [],
   "source": [
    "import javabridge\n",
    "import bioformats as bf\n",
    "javabridge.start_vm(class_path=bf.JARS)\n",
    "import numpy as np\n",
    "filename = argv[1]\n",
    "\n",
    "try:\n",
    "    iSeries = argv[2]\n",
    "except:\n",
    "    iSeries = \"all\"\n",
    "\n",
    "def importFirstFrames(rdr,idx,n=100):\n",
    "    from warnings import warn\n",
    "    image = []\n",
    "    for i in range(n):\n",
    "        try:\n",
    "            image += [rdr.read(series=idx, rescale=False, t=i)]\n",
    "        except:\n",
    "            warn(f\"You asked for {n} first frames, but there was only {len(image)} so I give you that\")\n",
    "            break\n",
    "    image = np.stack(image)\n",
    "    return image\n"
   ]
  },
  {
   "cell_type": "code",
   "execution_count": 39,
   "metadata": {},
   "outputs": [],
   "source": [
    "def plotImage(IM,pxSize=1,pxUnit=\"µm\",rescale=1./30,log=True,savePath = None, addInfo = \"\"):\n",
    "    from matplotlib.colors import LogNorm\n",
    "    figsize = np.array([IM.shape[1]*pxSize,IM.shape[0]*pxSize])*rescale\n",
    "#     figsize[1] += 1\n",
    "    fig = plt.figure(figsize=figsize)\n",
    "    plt.subplot(111)\n",
    "    plt.imshow(IM,\n",
    "               norm=LogNorm() if log else None,#vmin=1, vmax=np.log10(IM.max())),\n",
    "               extent=(0,IM.shape[1]*pxSize,IM.shape[0]*pxSize,0))\n",
    "    plt.colorbar(shrink = .8)\n",
    "    plt.xlabel(\"x [%s]\"%pxUnit)\n",
    "    plt.ylabel(\"y [%s]\"%pxUnit)\n",
    "    yt = np.arange(0,np.ceil(IM.shape[0]*pxSize)+1e-10,10)\n",
    "    xt = np.arange(0,np.ceil(IM.shape[1]*pxSize)+1e-10,20)\n",
    "    plt.yticks(yt,fontsize = 14)\n",
    "    plt.xticks(xt,fontsize = 14)\n",
    "    ax = plt.gca()\n",
    "    plt.text(0,1,\"\\n\"+addInfo,color=\"white\",va=\"top\",fontfamily=\"Consolas\",transform = ax.transAxes)\n",
    "    if savePath is not None:\n",
    "        fig.tight_layout()\n",
    "        fig.savefig(savePath,dpi=120)\n",
    "        plt.close(fig)"
   ]
  },
  {
   "cell_type": "code",
   "execution_count": null,
   "metadata": {},
   "outputs": [],
   "source": [
    "md = bf.get_omexml_metadata(filename)\n",
    "xml = bf.OMEXML(md)\n",
    "Nimages = xml.get_image_count()\n",
    "\n",
    "if iSeries is not \"all\":\n",
    "    iSeries = int(iSeries)\n",
    "    if iSeries>=Nimages:\n",
    "        raise ValueError(f\"\"\"\n",
    "                         iSeries ({iSeries}) needs to be smaller than the\n",
    "                         total number of total series {Nimages}\"\"\")"
   ]
  },
  {
   "cell_type": "code",
   "execution_count": 5,
   "metadata": {},
   "outputs": [],
   "source": [
    "rdr = bf.ImageReader(filename, perform_init=True)"
   ]
  },
  {
   "cell_type": "code",
   "execution_count": 26,
   "metadata": {},
   "outputs": [],
   "source": [
    "extension = \".\"+filename.split(\".\")[-1]"
   ]
  },
  {
   "cell_type": "code",
   "execution_count": 8,
   "metadata": {},
   "outputs": [],
   "source": [
    "if iSeries!=\"all\":\n",
    "    nSeries = [iSeries]\n",
    "else:\n",
    "    nSeries = range(Nimages)"
   ]
  },
  {
   "cell_type": "code",
   "execution_count": 73,
   "metadata": {},
   "outputs": [],
   "source": [
    "for iSeries in nSeries:\n",
    "    break"
   ]
  },
  {
   "cell_type": "code",
   "execution_count": 28,
   "metadata": {},
   "outputs": [],
   "source": [
    "im = xml.image(iSeries)"
   ]
  },
  {
   "cell_type": "code",
   "execution_count": 29,
   "metadata": {},
   "outputs": [],
   "source": [
    "fn = filename.split(\"/\")[-1]"
   ]
  },
  {
   "cell_type": "code",
   "execution_count": 52,
   "metadata": {},
   "outputs": [],
   "source": [
    "from os.path import isdir"
   ]
  },
  {
   "cell_type": "code",
   "execution_count": 56,
   "metadata": {},
   "outputs": [],
   "source": [
    "from os import makedirs"
   ]
  },
  {
   "cell_type": "code",
   "execution_count": 92,
   "metadata": {},
   "outputs": [
    {
     "data": {
      "text/plain": [
       "'/Volumes/Backup Plus/Nikon/2019_09_25/Slice2_Glu8_nif_012/'"
      ]
     },
     "execution_count": 92,
     "metadata": {},
     "output_type": "execute_result"
    }
   ],
   "source": [
    "saveDir"
   ]
  },
  {
   "cell_type": "code",
   "execution_count": 91,
   "metadata": {},
   "outputs": [
    {
     "data": {
      "text/plain": [
       "'Slice2_Glu8_nif_012.nd2'"
      ]
     },
     "execution_count": 91,
     "metadata": {},
     "output_type": "execute_result"
    }
   ],
   "source": [
    "fn"
   ]
  },
  {
   "cell_type": "code",
   "execution_count": 54,
   "metadata": {},
   "outputs": [],
   "source": [
    "if separateFolder:\n",
    "    saveDir = filename.replace(extension,\"/\")\n",
    "else:\n",
    "    saveDir = filename.replace(extension,\"/\")"
   ]
  },
  {
   "cell_type": "code",
   "execution_count": 57,
   "metadata": {},
   "outputs": [],
   "source": [
    "if not isdir(saveDir):\n",
    "    makedirs(saveDir)"
   ]
  },
  {
   "cell_type": "code",
   "execution_count": 61,
   "metadata": {},
   "outputs": [],
   "source": [
    "Name = im.Name\n",
    "\n",
    "if fn not in Name:\n",
    "    Name = fn.rstrip(ext,\"\") + \"_\"+ Name\n",
    "else:\n",
    "    Name = Name.replace(extension,\"\").strip().replace(\"(\",\"\").replace(\")\",\"\").replace(\"  \",\" \").replace(\" \",\"_\")\n",
    "# print (Name)\n",
    "outName = Name+\".png\""
   ]
  },
  {
   "cell_type": "code",
   "execution_count": 89,
   "metadata": {},
   "outputs": [
    {
     "data": {
      "text/plain": [
       "'Slice2_Glu8_nif_012_series_1.png'"
      ]
     },
     "execution_count": 89,
     "metadata": {},
     "output_type": "execute_result"
    }
   ],
   "source": [
    "outName"
   ]
  },
  {
   "cell_type": "code",
   "execution_count": 63,
   "metadata": {},
   "outputs": [],
   "source": [
    "dimensions = dict(zip(\"TXY\",(getattr(im.Pixels, \"Size\"+dim) for dim in \"TXY\")))"
   ]
  },
  {
   "cell_type": "code",
   "execution_count": 64,
   "metadata": {},
   "outputs": [
    {
     "data": {
      "text/plain": [
       "{'T': 1089, 'X': 256, 'Y': 64}"
      ]
     },
     "execution_count": 64,
     "metadata": {},
     "output_type": "execute_result"
    }
   ],
   "source": [
    "dimensions"
   ]
  },
  {
   "cell_type": "code",
   "execution_count": 76,
   "metadata": {},
   "outputs": [],
   "source": [
    "image = importFirstFrames(rdr,iSeries)"
   ]
  },
  {
   "cell_type": "code",
   "execution_count": 78,
   "metadata": {},
   "outputs": [],
   "source": [
    "image = np.mean(image,axis=0)"
   ]
  },
  {
   "cell_type": "code",
   "execution_count": 82,
   "metadata": {},
   "outputs": [],
   "source": [
    "## only for Nikon\n",
    "if len(image.shape)!=2:\n",
    "    varImage = image.var(axis=(0,1))\n",
    "    assert varImage[0]==0 and varImage[2]==0 and len(varImage)==3\n",
    "    image = image.T[1]"
   ]
  },
  {
   "cell_type": "code",
   "execution_count": 83,
   "metadata": {},
   "outputs": [],
   "source": [
    "# IM = np.mean(image,axis=0)"
   ]
  },
  {
   "cell_type": "code",
   "execution_count": 88,
   "metadata": {},
   "outputs": [],
   "source": [
    "pxSize = im.Pixels.get_PhysicalSizeX()\n",
    "pxUnit = im.Pixels.get_PhysicalSizeXUnit()"
   ]
  },
  {
   "cell_type": "code",
   "execution_count": 85,
   "metadata": {},
   "outputs": [],
   "source": [
    "import matplotlib.pyplot as plt"
   ]
  },
  {
   "cell_type": "code",
   "execution_count": 90,
   "metadata": {},
   "outputs": [],
   "source": [
    "plotImage(image.T,pxSize=pxSize,pxUnit=pxUnit,savePath=saveDir+outName)"
   ]
  },
  {
   "cell_type": "code",
   "execution_count": null,
   "metadata": {},
   "outputs": [],
   "source": []
  }
 ],
 "metadata": {
  "kernelspec": {
   "display_name": "Python [conda env:physio]",
   "language": "python",
   "name": "conda-env-physio-py"
  },
  "language_info": {
   "codemirror_mode": {
    "name": "ipython",
    "version": 3
   },
   "file_extension": ".py",
   "mimetype": "text/x-python",
   "name": "python",
   "nbconvert_exporter": "python",
   "pygments_lexer": "ipython3",
   "version": "3.7.4"
  },
  "toc": {
   "base_numbering": 1,
   "nav_menu": {},
   "number_sections": true,
   "sideBar": true,
   "skip_h1_title": false,
   "title_cell": "Table of Contents",
   "title_sidebar": "Contents",
   "toc_cell": false,
   "toc_position": {},
   "toc_section_display": true,
   "toc_window_display": false
  }
 },
 "nbformat": 4,
 "nbformat_minor": 2
}
