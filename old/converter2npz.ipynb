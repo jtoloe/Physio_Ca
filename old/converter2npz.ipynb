{
 "cells": [
  {
   "cell_type": "code",
   "execution_count": 1,
   "metadata": {
    "ExecuteTime": {
     "end_time": "2019-10-31T18:56:09.262513Z",
     "start_time": "2019-10-31T18:56:07.475760Z"
    },
    "code_folding": []
   },
   "outputs": [],
   "source": [
    "### Preface\n",
    "import javabridge\n",
    "import bioformats as bf\n",
    "javabridge.start_vm(class_path=bf.JARS)\n",
    "import numpy as np\n",
    "import pandas as pd\n",
    "from os.path import isfile\n",
    "import matplotlib.pyplot as plt\n",
    "\n",
    "from sys import path as syspath\n",
    "syspath.append(\"./functions/\")\n",
    "from physio_def_1 import getApparentFreq, importFrames, getTimes\n",
    "\n",
    "from plotFirst_1 import plotImage"
   ]
  },
  {
   "cell_type": "code",
   "execution_count": 2,
   "metadata": {
    "ExecuteTime": {
     "end_time": "2019-10-31T18:56:09.268261Z",
     "start_time": "2019-10-31T18:56:09.265364Z"
    }
   },
   "outputs": [],
   "source": [
    "from collections import OrderedDict"
   ]
  },
  {
   "cell_type": "code",
   "execution_count": 3,
   "metadata": {
    "ExecuteTime": {
     "end_time": "2019-10-31T18:56:13.385972Z",
     "start_time": "2019-10-31T18:56:09.272625Z"
    },
    "code_folding": []
   },
   "outputs": [],
   "source": [
    "pathToFile = '/Volumes/physio/team/slakrupnik/project/experiments/MB/Cytokines/cytokines-1.lif'\n",
    "# pathToFile = \"/Volumes/physio/team/slakrupnik/project/experiments/NIKON/20190806/512X512_image_slice3_16la_2ca.nd2\"\n",
    "# pathToFile = '/Users/srdjan/Documents/Physio_Ca/data/Experiment1/Experiment1.lif'\n",
    "\n",
    "md = bf.get_omexml_metadata(pathToFile)\n",
    "xml = bf.OMEXML(md)\n",
    "Nimages = xml.get_image_count()\n",
    "rdr = bf.ImageReader(pathToFile, perform_init=True)\n",
    "extension = \".\"+pathToFile.split(\".\")[-1]"
   ]
  },
  {
   "cell_type": "code",
   "execution_count": 4,
   "metadata": {
    "ExecuteTime": {
     "end_time": "2019-10-31T18:56:14.673234Z",
     "start_time": "2019-10-31T18:56:14.648661Z"
    }
   },
   "outputs": [
    {
     "data": {
      "text/plain": [
       "OrderedDict([(0, 'Image002'), (1, 'Series003'), (2, 'Image004')])"
      ]
     },
     "execution_count": 4,
     "metadata": {},
     "output_type": "execute_result"
    }
   ],
   "source": [
    "OrderedDict([(i,xml.image(i).Name) for i in range(Nimages)])"
   ]
  },
  {
   "cell_type": "code",
   "execution_count": 6,
   "metadata": {
    "ExecuteTime": {
     "end_time": "2019-10-31T19:04:52.589329Z",
     "start_time": "2019-10-31T19:04:52.585511Z"
    }
   },
   "outputs": [],
   "source": [
    "import os.path as ospath"
   ]
  },
  {
   "cell_type": "code",
   "execution_count": 9,
   "metadata": {
    "ExecuteTime": {
     "end_time": "2019-10-31T19:05:21.943166Z",
     "start_time": "2019-10-31T19:05:21.938888Z"
    }
   },
   "outputs": [
    {
     "data": {
      "text/plain": [
       "('/Volumes/physio/team/slakrupnik/project/experiments/MB/Cytokines',\n",
       " 'cytokines-1.lif')"
      ]
     },
     "execution_count": 9,
     "metadata": {},
     "output_type": "execute_result"
    }
   ],
   "source": [
    "ospath.split(pathToFile)"
   ]
  },
  {
   "cell_type": "code",
   "execution_count": null,
   "metadata": {},
   "outputs": [],
   "source": []
  },
  {
   "cell_type": "code",
   "execution_count": 5,
   "metadata": {
    "ExecuteTime": {
     "end_time": "2019-10-31T19:04:15.633985Z",
     "start_time": "2019-10-31T18:56:21.134283Z"
    },
    "code_folding": []
   },
   "outputs": [
    {
     "name": "stderr",
     "output_type": "stream",
     "text": [
      "./functions/physio_def_1.py:95: UserWarning: Could not give all required time points. I advise you double check the output\n",
      "  warn(f\"Could not give all required time points. I advise you double check the output\")\n"
     ]
    },
    {
     "ename": "KeyboardInterrupt",
     "evalue": "",
     "output_type": "error",
     "traceback": [
      "\u001b[0;31m---------------------------------------------------------------------------\u001b[0m",
      "\u001b[0;31mKeyboardInterrupt\u001b[0m                         Traceback (most recent call last)",
      "\u001b[0;32m<ipython-input-5-45a99a028043>\u001b[0m in \u001b[0;36m<module>\u001b[0;34m\u001b[0m\n\u001b[1;32m     61\u001b[0m     \u001b[0;31m#     which=(None,None,None)+tuple([retainDims][:int(extraDims)])\u001b[0m\u001b[0;34m\u001b[0m\u001b[0;34m\u001b[0m\u001b[0;34m\u001b[0m\u001b[0m\n\u001b[1;32m     62\u001b[0m     )\n\u001b[0;32m---> 63\u001b[0;31m     \u001b[0mnp\u001b[0m\u001b[0;34m.\u001b[0m\u001b[0msavez_compressed\u001b[0m\u001b[0;34m(\u001b[0m\u001b[0mnpzFile\u001b[0m\u001b[0;34m,\u001b[0m\u001b[0mtime\u001b[0m\u001b[0;34m=\u001b[0m\u001b[0mtime\u001b[0m\u001b[0;34m,\u001b[0m\u001b[0mdata\u001b[0m\u001b[0;34m=\u001b[0m\u001b[0mallimage\u001b[0m\u001b[0;34m)\u001b[0m\u001b[0;34m\u001b[0m\u001b[0;34m\u001b[0m\u001b[0m\n\u001b[0m",
      "\u001b[0;32m~/anaconda2/envs/physio/lib/python3.7/site-packages/numpy/lib/npyio.py\u001b[0m in \u001b[0;36msavez_compressed\u001b[0;34m(file, *args, **kwds)\u001b[0m\n\u001b[1;32m    696\u001b[0m \u001b[0;34m\u001b[0m\u001b[0m\n\u001b[1;32m    697\u001b[0m     \"\"\"\n\u001b[0;32m--> 698\u001b[0;31m     \u001b[0m_savez\u001b[0m\u001b[0;34m(\u001b[0m\u001b[0mfile\u001b[0m\u001b[0;34m,\u001b[0m \u001b[0margs\u001b[0m\u001b[0;34m,\u001b[0m \u001b[0mkwds\u001b[0m\u001b[0;34m,\u001b[0m \u001b[0;32mTrue\u001b[0m\u001b[0;34m)\u001b[0m\u001b[0;34m\u001b[0m\u001b[0;34m\u001b[0m\u001b[0m\n\u001b[0m\u001b[1;32m    699\u001b[0m \u001b[0;34m\u001b[0m\u001b[0m\n\u001b[1;32m    700\u001b[0m \u001b[0;34m\u001b[0m\u001b[0m\n",
      "\u001b[0;32m~/anaconda2/envs/physio/lib/python3.7/site-packages/numpy/lib/npyio.py\u001b[0m in \u001b[0;36m_savez\u001b[0;34m(file, args, kwds, compress, allow_pickle, pickle_kwargs)\u001b[0m\n\u001b[1;32m    733\u001b[0m                 format.write_array(fid, val,\n\u001b[1;32m    734\u001b[0m                                    \u001b[0mallow_pickle\u001b[0m\u001b[0;34m=\u001b[0m\u001b[0mallow_pickle\u001b[0m\u001b[0;34m,\u001b[0m\u001b[0;34m\u001b[0m\u001b[0;34m\u001b[0m\u001b[0m\n\u001b[0;32m--> 735\u001b[0;31m                                    pickle_kwargs=pickle_kwargs)\n\u001b[0m\u001b[1;32m    736\u001b[0m     \u001b[0;32melse\u001b[0m\u001b[0;34m:\u001b[0m\u001b[0;34m\u001b[0m\u001b[0;34m\u001b[0m\u001b[0m\n\u001b[1;32m    737\u001b[0m         \u001b[0;31m# Stage arrays in a temporary file on disk, before writing to zip.\u001b[0m\u001b[0;34m\u001b[0m\u001b[0;34m\u001b[0m\u001b[0;34m\u001b[0m\u001b[0m\n",
      "\u001b[0;32m~/anaconda2/envs/physio/lib/python3.7/site-packages/numpy/lib/format.py\u001b[0m in \u001b[0;36mwrite_array\u001b[0;34m(fp, array, version, allow_pickle, pickle_kwargs)\u001b[0m\n\u001b[1;32m    647\u001b[0m                     \u001b[0marray\u001b[0m\u001b[0;34m,\u001b[0m \u001b[0mflags\u001b[0m\u001b[0;34m=\u001b[0m\u001b[0;34m[\u001b[0m\u001b[0;34m'external_loop'\u001b[0m\u001b[0;34m,\u001b[0m \u001b[0;34m'buffered'\u001b[0m\u001b[0;34m,\u001b[0m \u001b[0;34m'zerosize_ok'\u001b[0m\u001b[0;34m]\u001b[0m\u001b[0;34m,\u001b[0m\u001b[0;34m\u001b[0m\u001b[0;34m\u001b[0m\u001b[0m\n\u001b[1;32m    648\u001b[0m                     buffersize=buffersize, order='C'):\n\u001b[0;32m--> 649\u001b[0;31m                 \u001b[0mfp\u001b[0m\u001b[0;34m.\u001b[0m\u001b[0mwrite\u001b[0m\u001b[0;34m(\u001b[0m\u001b[0mchunk\u001b[0m\u001b[0;34m.\u001b[0m\u001b[0mtobytes\u001b[0m\u001b[0;34m(\u001b[0m\u001b[0;34m'C'\u001b[0m\u001b[0;34m)\u001b[0m\u001b[0;34m)\u001b[0m\u001b[0;34m\u001b[0m\u001b[0;34m\u001b[0m\u001b[0m\n\u001b[0m\u001b[1;32m    650\u001b[0m \u001b[0;34m\u001b[0m\u001b[0m\n\u001b[1;32m    651\u001b[0m \u001b[0;34m\u001b[0m\u001b[0m\n",
      "\u001b[0;32m~/anaconda2/envs/physio/lib/python3.7/zipfile.py\u001b[0m in \u001b[0;36mwrite\u001b[0;34m(self, data)\u001b[0m\n\u001b[1;32m   1094\u001b[0m         \u001b[0mself\u001b[0m\u001b[0;34m.\u001b[0m\u001b[0m_crc\u001b[0m \u001b[0;34m=\u001b[0m \u001b[0mcrc32\u001b[0m\u001b[0;34m(\u001b[0m\u001b[0mdata\u001b[0m\u001b[0;34m,\u001b[0m \u001b[0mself\u001b[0m\u001b[0;34m.\u001b[0m\u001b[0m_crc\u001b[0m\u001b[0;34m)\u001b[0m\u001b[0;34m\u001b[0m\u001b[0;34m\u001b[0m\u001b[0m\n\u001b[1;32m   1095\u001b[0m         \u001b[0;32mif\u001b[0m \u001b[0mself\u001b[0m\u001b[0;34m.\u001b[0m\u001b[0m_compressor\u001b[0m\u001b[0;34m:\u001b[0m\u001b[0;34m\u001b[0m\u001b[0;34m\u001b[0m\u001b[0m\n\u001b[0;32m-> 1096\u001b[0;31m             \u001b[0mdata\u001b[0m \u001b[0;34m=\u001b[0m \u001b[0mself\u001b[0m\u001b[0;34m.\u001b[0m\u001b[0m_compressor\u001b[0m\u001b[0;34m.\u001b[0m\u001b[0mcompress\u001b[0m\u001b[0;34m(\u001b[0m\u001b[0mdata\u001b[0m\u001b[0;34m)\u001b[0m\u001b[0;34m\u001b[0m\u001b[0;34m\u001b[0m\u001b[0m\n\u001b[0m\u001b[1;32m   1097\u001b[0m             \u001b[0mself\u001b[0m\u001b[0;34m.\u001b[0m\u001b[0m_compress_size\u001b[0m \u001b[0;34m+=\u001b[0m \u001b[0mlen\u001b[0m\u001b[0;34m(\u001b[0m\u001b[0mdata\u001b[0m\u001b[0;34m)\u001b[0m\u001b[0;34m\u001b[0m\u001b[0;34m\u001b[0m\u001b[0m\n\u001b[1;32m   1098\u001b[0m         \u001b[0mself\u001b[0m\u001b[0;34m.\u001b[0m\u001b[0m_fileobj\u001b[0m\u001b[0;34m.\u001b[0m\u001b[0mwrite\u001b[0m\u001b[0;34m(\u001b[0m\u001b[0mdata\u001b[0m\u001b[0;34m)\u001b[0m\u001b[0;34m\u001b[0m\u001b[0;34m\u001b[0m\u001b[0m\n",
      "\u001b[0;31mKeyboardInterrupt\u001b[0m: "
     ]
    }
   ],
   "source": [
    "for iSeries in range(Nimages):\n",
    "    im = xml.image(iSeries)\n",
    "    Name = im.Name\n",
    "    \n",
    "    if Nimages==1:\n",
    "        npzFile   = pathToFile.replace(extension,f\".npz\")\n",
    "        imageFile = pathToFile.replace(extension,f\".png\")\n",
    "        dimFile   = pathToFile.replace(extension,f\".txt\")\n",
    "    else:\n",
    "        npzFile   = pathToFile.replace(extension,f\"_{iSeries}_{Name}.npz\")\n",
    "        imageFile = pathToFile.replace(extension,f\"_{iSeries}_{Name}.png\")\n",
    "        dimFile   = pathToFile.replace(extension,f\"_{iSeries}_{Name}.txt\")\n",
    "    \n",
    "    if isfile(npzFile):\n",
    "        continue\n",
    "    \n",
    "    dimensions = dict(zip(\"TXY\",(getattr(im.Pixels, \"Size\"+dim) for dim in \"TXY\")))\n",
    "    if dimensions[\"T\"]>1:\n",
    "        dimensions['freq'] = getApparentFreq(iSeries,xml)\n",
    "\n",
    "    howManyFirstFrames = min(10,dimensions[\"T\"])\n",
    "    firstFrames = importFrames(rdr,idx=iSeries, which=(howManyFirstFrames,))\n",
    "\n",
    "    extraDims = len(firstFrames.shape)>3\n",
    "    if extraDims:\n",
    "#         print(\"There are more dimensions here than expected.\\nI'll remedy this for now, but be shure to keep this in mind.\")\n",
    "        retainDims = np.where(firstFrames.std(axis=tuple(range(len(firstFrames.shape)-1)))>0)[0]\n",
    "        assert len(retainDims)==1\n",
    "        retainDims = retainDims[0]\n",
    "        firstFrames = firstFrames.T[retainDims].T\n",
    "    else:\n",
    "        retainDims = None\n",
    "\n",
    "    meanFirstFrames = firstFrames.mean(axis=0)\n",
    "#     stdFirstFrames = firstFrames.std(axis=0)\n",
    "\n",
    "    pxSize = im.Pixels.get_PhysicalSizeX()\n",
    "    pxUnit = im.Pixels.get_PhysicalSizeXUnit()\n",
    "    text = \"\\n\".join([\" %s:%i\"%(c,dimensions[c])  for c in \"XYT\"])\n",
    "    if dimensions[\"T\"]>1:\n",
    "        text += \"\\n f:%.1f Hz\"%dimensions['freq']\n",
    "    dimensions[\"pxSize\"] = pxSize\n",
    "    dimensions[\"pxUnit\"] = pxUnit\n",
    "\n",
    "\n",
    "    pd.DataFrame([dimensions]).to_csv(dimFile)\n",
    "    plotImage(meanFirstFrames.T,pxSize=pxSize,pxUnit=pxUnit,\n",
    "              savePath=imageFile,\n",
    "              addInfo=text)\n",
    "    plt.close()\n",
    "    \n",
    "        \n",
    "    time = getTimes(xml_=xml,idx_=iSeries)\n",
    "\n",
    "    mintype = pd.to_numeric(firstFrames.flatten(),downcast=\"unsigned\").dtype\n",
    "    allimage = importFrames(\n",
    "        rdr,\n",
    "        idx=iSeries,\n",
    "        dtype=mintype,\n",
    "        which=(dimensions['T'],None,None,1)[:3+int(extraDims)]\n",
    "    #     which=(None,None,None)+tuple([retainDims][:int(extraDims)])\n",
    "    )\n",
    "    np.savez_compressed(npzFile,time=time,data=allimage)"
   ]
  },
  {
   "cell_type": "code",
   "execution_count": null,
   "metadata": {},
   "outputs": [],
   "source": []
  }
 ],
 "metadata": {
  "kernelspec": {
   "display_name": "Python [conda env:physio]",
   "language": "python",
   "name": "conda-env-physio-py"
  },
  "language_info": {
   "codemirror_mode": {
    "name": "ipython",
    "version": 3
   },
   "file_extension": ".py",
   "mimetype": "text/x-python",
   "name": "python",
   "nbconvert_exporter": "python",
   "pygments_lexer": "ipython3",
   "version": "3.7.4"
  },
  "toc": {
   "base_numbering": 1,
   "nav_menu": {},
   "number_sections": true,
   "sideBar": true,
   "skip_h1_title": false,
   "title_cell": "Table of Contents",
   "title_sidebar": "Contents",
   "toc_cell": false,
   "toc_position": {},
   "toc_section_display": true,
   "toc_window_display": false
  }
 },
 "nbformat": 4,
 "nbformat_minor": 4
}
