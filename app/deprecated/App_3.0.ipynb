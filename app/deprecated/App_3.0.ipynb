{
 "cells": [
  {
   "cell_type": "code",
   "execution_count": 1,
   "metadata": {
    "ExecuteTime": {
     "end_time": "2020-02-07T13:04:56.287143Z",
     "start_time": "2020-02-07T13:04:56.284305Z"
    }
   },
   "outputs": [],
   "source": [
    "test=True"
   ]
  },
  {
   "cell_type": "code",
   "execution_count": null,
   "metadata": {
    "ExecuteTime": {
     "end_time": "2020-02-07T13:05:00.630736Z",
     "start_time": "2020-02-07T13:04:56.288900Z"
    },
    "code_folding": []
   },
   "outputs": [],
   "source": [
    "# %%capture\n",
    "import warnings\n",
    "warnings.filterwarnings('ignore')\n",
    "from IPython.core.display import HTML\n",
    "from jupyter_plotly_dash import JupyterDash\n",
    "from dash.dependencies import Input, Output, State\n",
    "import dash_core_components as dcc\n",
    "import dash_html_components as html\n",
    "import plotly.graph_objects as go\n",
    "import numpy as np\n",
    "import os\n",
    "from sys import path as syspath\n",
    "syspath.append(os.path.expanduser(\"~/srdjan_functs/\"))\n",
    "\n",
    "%load_ext autoreload\n",
    "%autoreload 1\n",
    "%aimport Regions, physio_def_1, numeric, plotting_functions\n",
    "\n",
    "from physio_def_1 import *\n",
    "from Regions import Regions\n",
    "from numeric import *\n",
    "from plotting_functions import *\n",
    "\n",
    "from sys import exc_info\n",
    "\n",
    "# from plotly import colors\n",
    "os.chdir(os.path.expanduser(\"~\"))\n",
    "\n",
    "from caiman import movie as cmovie"
   ]
  },
  {
   "cell_type": "code",
   "execution_count": 55,
   "metadata": {
    "ExecuteTime": {
     "end_time": "2020-02-07T13:10:46.571833Z",
     "start_time": "2020-02-07T13:10:46.565600Z"
    },
    "code_folding": []
   },
   "outputs": [],
   "source": [
    "def parseRoiChoices(roi_mode, roi_number, maxNRois = 100):\n",
    "    try:\n",
    "        roi_number = int(roi_number)\n",
    "    except:\n",
    "        roi_number = 3\n",
    "    if roi_number<1:\n",
    "        roi_number=1\n",
    "    if roi_number>maxNRois:\n",
    "        roi_number=maxNRois\n",
    "    if roi_mode==\"interest\":\n",
    "        ix = regions.df.sort_values(\"interest\",ascending=False).index[:roi_number]\n",
    "    if roi_mode==\"largest\":\n",
    "        ix = regions.df.sort_values(\"size\",ascending=False).index[:roi_number]\n",
    "    if roi_mode==\"rnd\":\n",
    "        ix = np.random.choice(regions.df.index, roi_number)\n",
    "    return ix"
   ]
  },
  {
   "cell_type": "code",
   "execution_count": 21,
   "metadata": {
    "ExecuteTime": {
     "end_time": "2020-02-07T13:06:28.766063Z",
     "start_time": "2020-02-07T13:06:28.729297Z"
    }
   },
   "outputs": [],
   "source": [
    "def showRoisAndTraces(regions, indices=None, nAvg = 1):\n",
    "    from physio_def_1 import rebin\n",
    "    if indices is None:\n",
    "        indices = regions.df.sort_values(\"size\",ascending=False).index[:10]\n",
    "    cw = [460,40,700]\n",
    "\n",
    "    f = make_subplots(cols=2,column_widths=cw[::2],horizontal_spacing=cw[1]/sum(cw))\n",
    "    t = regions.time\n",
    "    if nAvg > 1:\n",
    "        t = rebin(t,nAvg)\n",
    "    for i in indices:\n",
    "        cl = DEFAULT_PLOTLY_COLORS[i%10]\n",
    "        y = regions.df.loc[i,\"trace\"]\n",
    "        if nAvg>1:\n",
    "            y = rebin(y,nAvg)\n",
    "        f.add_trace(go.Scatter(\n",
    "            x=t,\n",
    "            y=y,\n",
    "            line=dict(width=1,color=cl),\n",
    "            mode=\"lines\",\n",
    "            name=str(i),\n",
    "            hovertext=str(i),\n",
    "    #             text=[str(i)]*len(regions.time),\n",
    "    #         hoveinfo=\"text\"\n",
    "        ),col=2,row=1)\n",
    "\n",
    "\n",
    "        bds = regions.df.loc[i,\"boundary\"]\n",
    "        bds += [bds[0]]\n",
    "        y,x = np.array(bds).T\n",
    "        ypts,xpts = np.array(regions.df.pixels[i]).T\n",
    "        ln = go.Scatter(x=x,y=y,\n",
    "                        line=dict(width=1,color=cl),\n",
    "                        mode=\"lines\",\n",
    "                        showlegend = False,\n",
    "                        name = str(i),\n",
    "                        hoverinfo='text',\n",
    "                        hovertext=[\"%i\"%(i)]*len(bds),\n",
    "                     )\n",
    "        f.add_trace(ln,col=1,row=1)\n",
    "\n",
    "        pts = go.Scatter(x=xpts,y=ypts,\n",
    "                mode=\"markers\",\n",
    "                showlegend = False,\n",
    "                opacity=0.0,\n",
    "                name=str(i),\n",
    "                marker=dict(color=cl),\n",
    "                hovertext=[\"%i\"%(i)]*len(xpts),\n",
    "                hoverinfo=\"text\"\n",
    "             )\n",
    "        f.add_trace(pts,col=1,row=1)\n",
    "\n",
    "    im = regions.image\n",
    "    f.update_layout({\n",
    "        \"height\":400,\n",
    "        \"width\":sum(cw)-250,\n",
    "        \"margin\":dict(l=10, r=10, t=50, b=10),\n",
    "    #     \"paper_bgcolor\":\"grey\",\n",
    "        \"xaxis\": {\n",
    "            \"linecolor\": 'black',\n",
    "            \"linewidth\": 1,\n",
    "            \"mirror\": True,\n",
    "            \"tickvals\": [],\n",
    "            \"range\":[-.5,im.shape[1]-.5]\n",
    "        },\n",
    "        \"xaxis2\": {\n",
    "            \"title\": 'time [s]',\n",
    "        },\n",
    "        \"yaxis\": {\n",
    "            \"linecolor\": 'black',\n",
    "            \"linewidth\": 1,\n",
    "            \"mirror\": True,\n",
    "            \"tickvals\": [],\n",
    "            \"range\":[-.5,im.shape[1]-.5]\n",
    "        },\n",
    "    }\n",
    "    )\n",
    "    f.add_heatmap(z=im,col=1,row=1, hoverinfo='skip',\n",
    "                  showscale=False,colorscale=plxcolors.sequential.Greys)\n",
    "\n",
    "    return f"
   ]
  },
  {
   "cell_type": "code",
   "execution_count": 22,
   "metadata": {
    "ExecuteTime": {
     "end_time": "2020-02-07T13:06:28.783719Z",
     "start_time": "2020-02-07T13:06:28.767476Z"
    }
   },
   "outputs": [],
   "source": [
    "# exampleNpzFile = \"local_data/testdir/Experiment38a_7_Series016.npz\"\n",
    "exampleNpzFile = \"local_data/Sandra/2019_10_16/Experiment39a/Experiment39a_13_Series024.npz\""
   ]
  },
  {
   "cell_type": "code",
   "execution_count": 23,
   "metadata": {
    "ExecuteTime": {
     "end_time": "2020-02-07T13:06:28.799606Z",
     "start_time": "2020-02-07T13:06:28.785023Z"
    }
   },
   "outputs": [],
   "source": [
    "test = True"
   ]
  },
  {
   "cell_type": "code",
   "execution_count": 41,
   "metadata": {
    "ExecuteTime": {
     "end_time": "2020-02-07T13:09:21.723698Z",
     "start_time": "2020-02-07T13:09:21.679222Z"
    },
    "code_folding": []
   },
   "outputs": [],
   "source": [
    "## global vars\n",
    "npzFile = None\n",
    "metadata = None\n",
    "movie = None\n",
    "regions = None\n",
    "app = JupyterDash(__name__,\n",
    "                  width=800,\n",
    "                  height=2000,\n",
    "                 )"
   ]
  },
  {
   "cell_type": "code",
   "execution_count": 42,
   "metadata": {
    "ExecuteTime": {
     "end_time": "2020-02-07T13:09:21.728243Z",
     "start_time": "2020-02-07T13:09:21.725064Z"
    }
   },
   "outputs": [],
   "source": [
    "outputStyle = {\"color\":\"blue\",\"font-family\":\"Courier New\",\"font-size\":\"80%\"}\n",
    "infoStyle = {\"font-size\":\"70%\",\"font-family\":\"Arial\",\n",
    "             # \"background-color\":\"lightcyan\",\n",
    "             \"color\":\"grey\",\n",
    "             # \"text-align\": \"center\",\n",
    "#              \"width\":\"125%\",\n",
    "            }\n",
    "bodyStyle = {\"font-family\":\"Arial\"}"
   ]
  },
  {
   "cell_type": "code",
   "execution_count": 43,
   "metadata": {
    "ExecuteTime": {
     "end_time": "2020-02-07T13:09:21.769743Z",
     "start_time": "2020-02-07T13:09:21.729641Z"
    },
    "code_folding": []
   },
   "outputs": [],
   "source": [
    "APP_LAYOUT = [\n",
    "    html.H1(children='CaRec Viewer',style=bodyStyle),\n",
    "    html.Div([\n",
    "        html.P(\"Please, think of a better name and let me know.\",style=bodyStyle),\n",
    "    ]),\n",
    "]"
   ]
  },
  {
   "cell_type": "markdown",
   "metadata": {},
   "source": [
    "# Loading"
   ]
  },
  {
   "cell_type": "code",
   "execution_count": 44,
   "metadata": {
    "ExecuteTime": {
     "end_time": "2020-02-07T13:09:21.785002Z",
     "start_time": "2020-02-07T13:09:21.770995Z"
    },
    "code_folding": [
     0
    ]
   },
   "outputs": [],
   "source": [
    "def rigidMotionCorrection(movie_, gSig_filt):\n",
    "    global dview\n",
    "    from caiman import stop_server, cluster, save_memmap\n",
    "    from caiman.motion_correction import MotionCorrect\n",
    "    from caiman.source_extraction.cnmf import params as params\n",
    "    # subsampling frequency for Motion Correction\n",
    "    freqMC = 3\n",
    "    n_rebin = int(movie_.fr/freqMC)\n",
    "\n",
    "    rebinned_movie = rebin(movie_,n_rebin).astype(\"float32\")\n",
    "    rebinned_movie = cmovie(rebinned_movie)\n",
    "    rebinned_movie.fr = movie_.fr/n_rebin\n",
    "    base_name = \"/tmp/tmp\"\n",
    "    try: dview.terminate()\n",
    "    except: pass\n",
    "    #%% start a cluster for parallel processing (if a cluster already exists it will be closed and a new session will be opened)\n",
    "    if 'dview' in globals():\n",
    "        stop_server(dview=dview)\n",
    "    c, dview, n_processes = cluster.setup_cluster(\n",
    "        backend='local', n_processes=None, single_thread=False)\n",
    "\n",
    "    fnames = save_memmap([rebinned_movie], base_name=base_name, order='C', border_to_0=0, dview=dview)\n",
    "    # motion correction parameters\n",
    "    opts = params.CNMFParams(params_dict={\n",
    "        'fnames'              : fnames,\n",
    "        \"max_deviation_rigid\" : int(np.ceil(gSig_filt[0]/2)),\n",
    "        'border_nan'          : True,\n",
    "        'pw_rigid'            : False,\n",
    "        'gSig_filt'           : gSig_filt,\n",
    "        'nonneg_movie'        : True\n",
    "    }) \n",
    "    mc = MotionCorrect(fnames, dview=dview, **opts.get_group('motion'))\n",
    "#     while True:\n",
    "#         print (\"constraining mc.max_deviation_rigid at \", mc.max_deviation_rigid)\n",
    "#         mc.motion_correct(save_movie=True);\n",
    "#         maxshift = np.abs(mc.shifts_rig).max()\n",
    "#         if maxshift<mc.max_deviation_rigid:\n",
    "#             break\n",
    "#         else:\n",
    "#             mc.max_deviation_rigid += 1\n",
    "    mc.motion_correct(save_movie=False)\n",
    "    mc.shifts_rig = np.array(mc.shifts_rig)\n",
    "    try: dview.terminate()\n",
    "    except: pass\n",
    "    return mc.shifts_rig, rebinned_movie"
   ]
  },
  {
   "cell_type": "code",
   "execution_count": 45,
   "metadata": {
    "ExecuteTime": {
     "end_time": "2020-02-07T13:09:21.844137Z",
     "start_time": "2020-02-07T13:09:21.786081Z"
    },
    "code_folding": [
     0
    ]
   },
   "outputs": [],
   "source": [
    "def createRegions(rebinned_movie,cell_halfwidth_in_px):\n",
    "    regions = Regions(rebinned_movie, gSig_filt=(cell_halfwidth_in_px,)*2)\n",
    "    C = regions.df\n",
    "    ## drop very weak Rois\n",
    "    x = C[\"peakValue\"]\n",
    "    x = np.log10(x+np.percentile(x,5))\n",
    "    th = 10**get_sep_th(x)\n",
    "    pc  = np.mean(C[\"peakValue\"]<th)\n",
    "    if pc > .3:\n",
    "        th = np.percentile(C[\"peakValue\"],10)\n",
    "\n",
    "    toDrop = C.query(f\"peakValue<{th}\").index\n",
    "    C.drop(index=toDrop,inplace=True)\n",
    "    print (f\"Dropped {len(toDrop)} as too weak. Left with {len(C)}.\")\n",
    "    \n",
    "    \n",
    "    # decide on a threshold to remove as too small rois\n",
    "    tooSmall = cell_halfwidth_in_px**2 # in pixels\n",
    "    toDrop = C.query(f\"size<={tooSmall}\").index\n",
    "    C.drop(index=toDrop,inplace=True)\n",
    "    print (f\"Dropped {len(toDrop)} as too small. Left with {len(C)}.\")\n",
    "    \n",
    "    regions.sortFromCenter()\n",
    "    return regions"
   ]
  },
  {
   "cell_type": "code",
   "execution_count": 46,
   "metadata": {
    "ExecuteTime": {
     "end_time": "2020-02-07T13:09:21.886299Z",
     "start_time": "2020-02-07T13:09:21.845250Z"
    },
    "code_folding": []
   },
   "outputs": [],
   "source": [
    "APP_LAYOUT += [\n",
    "    ####################################\n",
    "    html.H2(children='Importing',style=bodyStyle),\n",
    "    html.Div('Enter path to an npz file, and press enter.',style=bodyStyle),\n",
    "    dcc.Input(\n",
    "            id=\"npz_filename\",\n",
    "            type=\"text\",\n",
    "            placeholder=exampleNpzFile,\n",
    "            debounce=True,\n",
    "            size = 100,\n",
    "            value=exampleNpzFile if test else None,\n",
    "        ),\n",
    "    html.Div('Loading can take a few seconds [for very large files even a minute].',style={**infoStyle,\"text-align\": \"center\"}),\n",
    "    html.Br(),\n",
    "    html.Div(id=\"npz_feedback\", children=\"To start, enter the full path to a file and press enter. Note, that loading can take a few seconds [for very large files even a minute].\",style=outputStyle),\n",
    "\n",
    "    html.Div(children=[html.Br(),\"    Spatial filtering**\"],style={**bodyStyle,'display': 'inline-block'}),\n",
    "    dcc.Input(\n",
    "        id=\"gSig_filt_input\",\n",
    "        type=\"text\",\n",
    "        debounce=True,\n",
    "        size = 5,\n",
    "        value=\"None\",\n",
    "#         placeholder=\"None\",\n",
    "        style={'display': 'inline-block'}),    \n",
    "    html.Div(html.Abbr(children=\"[hover mouse for more info]\",\n",
    "                       title=\"\"\"For the proper analysis, you need to set the size of the spatial filter. Its value should be of the order of the  half of the typical cell dimension (in pixels!). \"\"\"#In many of our recording, pixel size is around 2 µm. If we consider a typical cell of 10 µm, filter should be around 10/2/2 = 2.5. It needs to be an integer, so reasonable numbers to put would be 2 or 3, perhaps even 4. You can change it later.\n",
    "                      ),style={**infoStyle,'display': 'inline-block'}),\n",
    "    html.Div(id=\"roi_feedback\", children=\"\",style=outputStyle),\n",
    "    \n",
    "    dcc.Graph(id='images'),\n",
    "]"
   ]
  },
  {
   "cell_type": "code",
   "execution_count": 47,
   "metadata": {
    "ExecuteTime": {
     "end_time": "2020-02-07T13:09:21.937023Z",
     "start_time": "2020-02-07T13:09:21.887413Z"
    },
    "code_folding": []
   },
   "outputs": [],
   "source": [
    "@app.callback([Output(\"npz_feedback\", \"children\"),\n",
    "#                Output(\"roi_feedback\", \"children\"),\n",
    "               Output(\"gSig_filt_input\", \"value\")],\n",
    "              [Input(\"npz_filename\", \"value\"),])\n",
    "def loadMovie(val):\n",
    "    if str(val) == \"None\" or str(val)==\"\":\n",
    "        return (\"\",\"None\")\n",
    "    global movie\n",
    "    try:\n",
    "        from pandas import read_csv\n",
    "        global npzFile, movie, metadata, cell_halfwidth_in_px, regions\n",
    "        npzFile = val\n",
    "        metadata = read_csv(npzFile.replace(\"npz\",\"txt\")).loc[0]\n",
    "        if not hasattr(metadata,\"freq\"):\n",
    "            metadata.freq = 1\n",
    "        movie = import_npz_files([npzFile])\n",
    "        movie = movie.astype(\"float\")\n",
    "        if len(movie.shape)==2:        \n",
    "            movie = movie.reshape((1,-1))\n",
    "        movie = cmovie(movie)\n",
    "        movie.fr = metadata.freq\n",
    "        timeframes = metadata['T']\n",
    "        freq = metadata.freq\n",
    "        pxsize = metadata.pxSize\n",
    "        feedback = [\n",
    "            f\"{npzFile} loaded successfully.\",\n",
    "            html.Br(),\n",
    "            f\"It has {timeframes} timeframes and is done at {freq:.4} Hz, with a pixel size of {pxsize:.3} µm.\",\n",
    "            html.Br(),\n",
    "        ]\n",
    "        if metadata.freq>5:\n",
    "            feedback += [\n",
    "                \"(This is probably a lot higher frequency than you need, consider resampling to lower frequency, e.g. 5 Hz.)\",\n",
    "                html.Br(),\n",
    "                        ]\n",
    "        cell_halfwidth_in_px = int(np.ceil(5./metadata.pxSize))\n",
    "        rigidShifts, rebinned_movie = rigidMotionCorrection(movie, (cell_halfwidth_in_px,)*2)\n",
    "        maxshift = np.abs(rigidShifts).max()\n",
    "        if maxshift>cell_halfwidth_in_px/5:\n",
    "            feedback += [\n",
    "                f\"It seems there is also some movement in the recording, at least {maxshift}px. You may want to first correct for that.\",\n",
    "                html.Br(),\n",
    "            ]\n",
    "        regions = createRegions(rebinned_movie, cell_halfwidth_in_px)\n",
    "        regions.movie = movie\n",
    "        feedback += [\n",
    "            f\"Automatic size of the spatial filter: {cell_halfwidth_in_px} [you can change it below]\",\n",
    "            html.Br(),]\n",
    "#         roifeedback = f\"Number of detected ROIs: {len(regions.df)}\",\n",
    "        \n",
    "#         return feedback\n",
    "#     except:\n",
    "#         return html.P(\"ERROR: \"+exc_info()[1].__repr__())\n",
    "        return (feedback, str(cell_halfwidth_in_px))\n",
    "    except:\n",
    "        return ([html.P(\"ERROR: \"+exc_info().__repr__())],\"None\")"
   ]
  },
  {
   "cell_type": "code",
   "execution_count": 48,
   "metadata": {
    "ExecuteTime": {
     "end_time": "2020-02-07T13:09:21.994632Z",
     "start_time": "2020-02-07T13:09:21.938531Z"
    },
    "scrolled": false
   },
   "outputs": [],
   "source": [
    "# app.layout = html.Div(children=APP_LAYOUT)\n",
    "# app"
   ]
  },
  {
   "cell_type": "code",
   "execution_count": 49,
   "metadata": {
    "ExecuteTime": {
     "end_time": "2020-02-07T13:09:22.034831Z",
     "start_time": "2020-02-07T13:09:21.995827Z"
    },
    "code_folding": []
   },
   "outputs": [],
   "source": [
    "@app.callback(\n",
    "    [Output(\"roi_feedback\", \"children\"), Output(\"images\", \"figure\")],\n",
    "#     Output(\"images\", \"figure\"),\n",
    "    [Input(\"gSig_filt_input\", \"value\")]\n",
    "             )\n",
    "def recalcRois(val):\n",
    "    if str(val) == \"None\":\n",
    "        return (\"\",go.Figure())\n",
    "    try:\n",
    "        global movie,regions\n",
    "        x = int(val)\n",
    "        if regions.filterSize != x:\n",
    "            regions = createRegions(regions.movie, x)\n",
    "            feedback = [f\"Size of the spatial filter changed to {x}.\",html.Br()]\n",
    "        else:\n",
    "            feedback = [\"\"]\n",
    "        feedback += [f\" Number of detected ROIs: {len(regions.df)}\"]\n",
    "        return (feedback, plotStatsFig(regions))\n",
    "    except:\n",
    "        return (\"ERROR: \"+exc_info().__repr__(),go.Figure())"
   ]
  },
  {
   "cell_type": "code",
   "execution_count": 50,
   "metadata": {
    "ExecuteTime": {
     "end_time": "2020-02-07T13:09:22.061098Z",
     "start_time": "2020-02-07T13:09:22.035925Z"
    },
    "code_folding": []
   },
   "outputs": [],
   "source": [
    "APP_LAYOUT += [\n",
    "\n",
    "    html.Div(children=\"Resample*\",style={'display': 'inline-block'}),\n",
    "    \n",
    "    dcc.Input(\n",
    "        id=\"resample_input\",\n",
    "        type=\"text\",\n",
    "        debounce=True,\n",
    "        size = 5,\n",
    "        placeholder=\"5\",\n",
    "        style={'display': 'inline-block'}),\n",
    "    \n",
    "    html.Div(children=\" \",style={\"width\":\"20px\",'display': 'inline-block'}),\n",
    "\n",
    "    html.Div(children=\" \", id=\"resample_feedback\",style={\n",
    "        'display': 'inline-block',\n",
    "        **outputStyle}),\n",
    "    \n",
    "    html.Div(children=[\n",
    "        \"\"\"\n",
    "        *Resampling is optional (and irreversible). It is only useful to speed up the analysis downstream.\n",
    "        Enter the new desired frequency in Hz (e.g. 5), and press enter.\n",
    "        \"\"\",\n",
    "        html.Br(),\n",
    "    ],style=infoStyle)\n",
    "]"
   ]
  },
  {
   "cell_type": "code",
   "execution_count": 51,
   "metadata": {
    "ExecuteTime": {
     "end_time": "2020-02-07T13:09:22.086359Z",
     "start_time": "2020-02-07T13:09:22.062128Z"
    },
    "code_folding": []
   },
   "outputs": [],
   "source": [
    "@app.callback(\n",
    "    Output(\"resample_feedback\", \"children\"),\n",
    "    [Input(\"resample_input\", \"value\")]\n",
    "             )\n",
    "def resample(val):\n",
    "    try:\n",
    "        global movie,regions\n",
    "        if val is None:\n",
    "            feedback = \" \"\n",
    "        else:\n",
    "            newFreq = float(val)\n",
    "            n_rebin = int(np.ceil(movie.fr/newFreq))\n",
    "            movie = rebin(movie,n_rebin)\n",
    "            movie.fr = movie.fr/n_rebin\n",
    "            feedback = f\"Resampling finished. New frequency is {movie.fr:.4} Hz.\"\n",
    "            regions.update(movie)\n",
    "        return feedback\n",
    "    except:\n",
    "        return (\"ERROR: \"+exc_info().__repr__(),None)[0]\n",
    "    "
   ]
  },
  {
   "cell_type": "code",
   "execution_count": 52,
   "metadata": {
    "ExecuteTime": {
     "end_time": "2020-02-07T13:09:22.129402Z",
     "start_time": "2020-02-07T13:09:22.087415Z"
    },
    "code_folding": []
   },
   "outputs": [],
   "source": [
    "APP_LAYOUT += [\n",
    "    html.H2(children='ROIs'),\n",
    "    dcc.RadioItems(\n",
    "        id=\"roi_choice\",\n",
    "        options=[\n",
    "            {'label': 'Largest', 'value': 'largest'},\n",
    "            {'label': 'Random', 'value': 'rnd'},\n",
    "            {'label': 'Interesting', 'value': 'interest'},\n",
    "        ],\n",
    "     # value='interest'\n",
    "    ),\n",
    "    dcc.Input(\n",
    "            id=\"roi_choice_number\",\n",
    "            type=\"text\",\n",
    "            debounce=True,\n",
    "            size = 10,\n",
    "            value='50'\n",
    "        ),\n",
    "    html.Div(id=\"roi_choice_feedback\", children=\"\"),\n",
    "    dcc.Graph(id='roi_traces_raw',),\n",
    "]"
   ]
  },
  {
   "cell_type": "code",
   "execution_count": 53,
   "metadata": {
    "ExecuteTime": {
     "end_time": "2020-02-07T13:09:22.161979Z",
     "start_time": "2020-02-07T13:09:22.130461Z"
    },
    "code_folding": []
   },
   "outputs": [],
   "source": [
    "@app.callback(\n",
    "     Output(\"roi_traces_raw\", \"figure\"),\n",
    "    [Input(\"roi_choice\", \"value\"), Input(\"roi_choice_number\", \"value\")],)\n",
    "def showRoisTraces(roi_mode,roi_number):\n",
    "    global regions\n",
    "    if \"trace\" not in regions.df.columns:\n",
    "        regions.calcTraces(movie)\n",
    "    ix = parseRoiChoices(roi_mode,roi_number)\n",
    "    trfig = showRoisAndTraces(regions,indices=ix)\n",
    "    return trfig\n",
    "\n",
    "# @app.callback(\n",
    "#     Output(\"images\", \"figure\"),\n",
    "#     [Input(\"roi_choice\", \"value\"), Input(\"roi_choice_number\", \"value\")])\n",
    "# def showRois_inStatFig(roi_mode,roi_number):\n",
    "#     global regions\n",
    "#     ix = parseRoiChoices(roi_mode,roi_number)\n",
    "#     statfig = plotStatsFig(regions,ix)\n",
    "#     return statfig"
   ]
  },
  {
   "cell_type": "code",
   "execution_count": 54,
   "metadata": {
    "ExecuteTime": {
     "end_time": "2020-02-07T13:09:22.445480Z",
     "start_time": "2020-02-07T13:09:22.440827Z"
    },
    "scrolled": false
   },
   "outputs": [
    {
     "data": {
      "text/html": [
       "<div>\n",
       "  <iframe src=\"/user/srdjan/app/endpoints/4e2df57c5ad84365b6d21f58f3e37121/\" width=800 height=2000 frameborder=\"0\"></iframe>\n",
       "  <hr/><a href=\"/user/srdjan/app/endpoints/4e2df57c5ad84365b6d21f58f3e37121/\" target=\"_new\">Open in new window</a> for /user/srdjan/app/endpoints/4e2df57c5ad84365b6d21f58f3e37121/\n",
       "</div>"
      ],
      "text/plain": [
       "<jupyter_plotly_dash.dash_wrapper.JupyterDash at 0x7f66688b2610>"
      ]
     },
     "execution_count": 54,
     "metadata": {},
     "output_type": "execute_result"
    }
   ],
   "source": [
    "app.layout = html.Div(children=APP_LAYOUT)\n",
    "app"
   ]
  },
  {
   "cell_type": "code",
   "execution_count": 4,
   "metadata": {
    "ExecuteTime": {
     "end_time": "2020-02-05T09:38:08.688551Z",
     "start_time": "2020-02-05T09:38:08.681349Z"
    },
    "code_folding": []
   },
   "outputs": [
    {
     "data": {
      "text/html": [
       "click to start: <a href=\"https://ctn.physiologie.meduniwien.ac.at/user/srdjan/app/endpoints/83732e8a772c410cb7e1c0943c28b01d/\">https://ctn.physiologie.meduniwien.ac.at/user/srdjan/app/endpoints/83732e8a772c410cb7e1c0943c28b01d/</a>"
      ],
      "text/plain": [
       "<IPython.core.display.HTML object>"
      ]
     },
     "execution_count": 4,
     "metadata": {},
     "output_type": "execute_result"
    }
   ],
   "source": [
    "app.layout = html.Div(children=APP_LAYOUT)\n",
    "app._repr_html_() \n",
    "link2app = \"https://ctn.physiologie.meduniwien.ac.at\"+app.get_app_root_url()\n",
    "HTML(f'click to start: <a href=\"{link2app}\">{link2app}</a>')"
   ]
  }
 ],
 "metadata": {
  "kernelspec": {
   "display_name": "Python [conda env:physio]",
   "language": "python",
   "name": "conda-env-physio-py"
  },
  "language_info": {
   "codemirror_mode": {
    "name": "ipython",
    "version": 3
   },
   "file_extension": ".py",
   "mimetype": "text/x-python",
   "name": "python",
   "nbconvert_exporter": "python",
   "pygments_lexer": "ipython3",
   "version": "3.7.6"
  },
  "toc": {
   "base_numbering": 1,
   "nav_menu": {},
   "number_sections": true,
   "sideBar": true,
   "skip_h1_title": false,
   "title_cell": "Table of Contents",
   "title_sidebar": "Contents",
   "toc_cell": false,
   "toc_position": {},
   "toc_section_display": true,
   "toc_window_display": false
  }
 },
 "nbformat": 4,
 "nbformat_minor": 2
}
