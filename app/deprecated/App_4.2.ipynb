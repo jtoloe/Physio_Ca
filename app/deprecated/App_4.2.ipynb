{
 "cells": [
  {
   "cell_type": "code",
   "execution_count": 1,
   "metadata": {
    "ExecuteTime": {
     "end_time": "2020-02-24T09:46:35.710804Z",
     "start_time": "2020-02-24T09:46:28.885063Z"
    },
    "code_folding": []
   },
   "outputs": [],
   "source": [
    "%%capture\n",
    "import warnings\n",
    "warnings.filterwarnings('ignore')\n",
    "from IPython.core.display import HTML\n",
    "from jupyter_plotly_dash import JupyterDash\n",
    "from dash.dependencies import Input, Output, State\n",
    "import dash_core_components as dcc\n",
    "import dash_html_components as html\n",
    "import plotly.graph_objects as go\n",
    "import numpy as np\n",
    "import os\n",
    "from sys import path as syspath\n",
    "syspath.append(os.path.expanduser(\"~/srdjan_functs/\"))\n",
    "from sys import exc_info\n",
    "from caiman import movie as cmovie\n",
    "import json"
   ]
  },
  {
   "cell_type": "code",
   "execution_count": 2,
   "metadata": {
    "ExecuteTime": {
     "end_time": "2020-02-24T09:46:35.908162Z",
     "start_time": "2020-02-24T09:46:35.713071Z"
    },
    "code_folding": []
   },
   "outputs": [],
   "source": [
    "%load_ext autoreload\n",
    "%autoreload 1\n",
    "%aimport Regions, physio_def_1, numeric, Automatic\n",
    "\n",
    "from physio_def_1 import *\n",
    "from Regions import Regions\n",
    "from numeric import *\n",
    "from Automatic import *"
   ]
  },
  {
   "cell_type": "code",
   "execution_count": 3,
   "metadata": {
    "ExecuteTime": {
     "end_time": "2020-02-24T09:46:35.913324Z",
     "start_time": "2020-02-24T09:46:35.910223Z"
    },
    "code_folding": []
   },
   "outputs": [],
   "source": [
    "os.chdir(os.path.expanduser(\"~\"))"
   ]
  },
  {
   "cell_type": "code",
   "execution_count": 4,
   "metadata": {
    "ExecuteTime": {
     "end_time": "2020-02-24T09:46:55.269055Z",
     "start_time": "2020-02-24T09:46:55.265403Z"
    },
    "code_folding": [
     0
    ]
   },
   "outputs": [],
   "source": [
    "# exampleNpzFile = \"local_data/testdir/Experiment38a_7_Series016.npz\"\n",
    "exampleNpzFile = \"local_data/MB/Marjan_SOC2/20160218/Experiment_10_Series022.npz\"\n",
    "# exampleNpzFile = \"local_data/Sandra/2019_10_16/Experiment39a/Experiment39a_13_Series024.npz\"\n",
    "# exampleNpzFile = \"local_data/Sandra/2019_10_16/Experiment39a/Experiment39a_8_Series019.npz\""
   ]
  },
  {
   "cell_type": "code",
   "execution_count": 5,
   "metadata": {
    "ExecuteTime": {
     "end_time": "2020-02-24T09:46:57.100853Z",
     "start_time": "2020-02-24T09:46:57.077243Z"
    },
    "code_folding": [
     0
    ]
   },
   "outputs": [],
   "source": [
    "def saveRois(regions,outDir,filename=\"\",movie=None):\n",
    "    feedback = []\n",
    "    try:\n",
    "        from copy import deepcopy\n",
    "        from datetime import date\n",
    "        import pickle\n",
    "        import pandas as pd\n",
    "        from os.path import isdir\n",
    "        from os import makedirs\n",
    "        regions.sortFromCenter()\n",
    "        if movie is not None:\n",
    "            regions.update(movie)\n",
    "        filename = filename.replace(\" \",\"_\")\n",
    "        today = date.today()\n",
    "        if len(filename):\n",
    "            filename = \"_\".join([today.strftime(\"%Y_%m_%d\"),filename])\n",
    "        else:\n",
    "            filename = today.strftime(\"%Y_%m_%d\")\n",
    "        if not isdir(outDir):\n",
    "            makedirs(outDir)\n",
    "            feedback += f\"Output {outdir} directory created.\"\n",
    "\n",
    "        traces = pd.DataFrame(np.vstack(regions.df.trace).T)\n",
    "        traces[\"time\"] = traces.index/regions.movie.fr\n",
    "        traces = traces[[\"time\"]+list(traces.columns[:-1])]\n",
    "        tracefile = f\"{outDir}/{filename}_traces.csv\"\n",
    "        traces.to_csv(tracefile, index=False)\n",
    "\n",
    "        feedback += [f\"Traces saved under {tracefile}.\",html.Br()]\n",
    "\n",
    "        saving = ['statImages', 'mode', 'image', 'filterSize', 'df']\n",
    "        allAttrs = list(regions.__dict__.keys())\n",
    "        subRegions = deepcopy(regions)\n",
    "        for k in allAttrs:\n",
    "            if k not in saving:\n",
    "                del subRegions.__dict__[k]\n",
    "        for k in regions.df.columns:\n",
    "            if k not in [\"peak\",\"pixels\"]:\n",
    "                del subRegions.df[k]\n",
    "        roifile = f\"{outDir}/{filename}_rois.pkl\"\n",
    "        with open(roifile,\"wb\") as f:\n",
    "            pickle.dump(subRegions,f)\n",
    "        feedback += [f\"ROI info saved under {roifile}.\"]\n",
    "    except:\n",
    "        from sys import exc_info\n",
    "        feedback += [\"ERROR: \"+ exc_info().__repr__()]\n",
    "    return feedback"
   ]
  },
  {
   "cell_type": "code",
   "execution_count": 6,
   "metadata": {
    "ExecuteTime": {
     "end_time": "2020-02-24T09:46:57.294074Z",
     "start_time": "2020-02-24T09:46:57.290089Z"
    }
   },
   "outputs": [],
   "source": [
    "outputStyle = {\n",
    "    \"color\":\"blue\",\n",
    "    \"font-family\":\"Courier New\",\n",
    "    \"font-size\":\"80%\",\n",
    "    \"max-width\": \"700px\",\n",
    "    }\n",
    "infoStyle = {\n",
    "    \"font-size\":\"70%\",\n",
    "    \"font-family\":\"Arial\",\n",
    "    # \"background-color\":\"lightcyan\",\n",
    "    \"color\":\"grey\",\n",
    "    \"max-width\": \"700px\",\n",
    "    }\n",
    "bodyStyle = {\n",
    "    \"font-family\":\"Arial\",\n",
    "    \"max-width\": \"700px\",\n",
    "    }"
   ]
  },
  {
   "cell_type": "code",
   "execution_count": 7,
   "metadata": {
    "ExecuteTime": {
     "end_time": "2020-02-24T09:47:01.908111Z",
     "start_time": "2020-02-24T09:46:58.358963Z"
    }
   },
   "outputs": [],
   "source": [
    "baseFig = getFigure(w=200,h=200)"
   ]
  },
  {
   "cell_type": "code",
   "execution_count": 8,
   "metadata": {
    "ExecuteTime": {
     "end_time": "2020-02-24T09:47:01.913409Z",
     "start_time": "2020-02-24T09:47:01.910062Z"
    },
    "code_folding": []
   },
   "outputs": [],
   "source": [
    "## global vars\n",
    "test = True\n",
    "npzFile = None\n",
    "metadata = None\n",
    "movie = None\n",
    "regions = None\n",
    "narrowHover = False#bool(test)"
   ]
  },
  {
   "cell_type": "code",
   "execution_count": 9,
   "metadata": {
    "ExecuteTime": {
     "end_time": "2020-02-24T09:47:02.562710Z",
     "start_time": "2020-02-24T09:47:01.915097Z"
    },
    "code_folding": [
     5
    ]
   },
   "outputs": [],
   "source": [
    "app = JupyterDash(__name__,\n",
    "                  width=800,\n",
    "#                   height=1400,\n",
    "                 )\n",
    "\n",
    "APP_LAYOUT = [\n",
    "    \n",
    "    html.H1(children='CaRec Viewer',style=bodyStyle),\n",
    "    html.Div(\"Please, think of a better name and let me know.\",style=infoStyle),\n",
    "    html.Br(),\n",
    "    ####################################\n",
    "#     html.H2(children='Importing',style=bodyStyle),\n",
    "    html.Div('Enter path to an npz file, choose whether to check for movement, and press enter.',style={**bodyStyle, \"display\":\"inline-box\"}),\n",
    "    html.Div([\n",
    "        dcc.Checklist(id=\"check_movement_choice\",options=[{\"label\":'Check for movement',\"value\":\"yes\"}],value=[],\n",
    "                          style={**infoStyle, \"display\":\"inline-box\",\"float\":\"right\"}),\n",
    "    ],style={\"width\":\"200px\"}),\n",
    "    \n",
    "    dcc.Input(id=\"npz_filename\",\n",
    "            type=\"text\",\n",
    "            placeholder=exampleNpzFile,\n",
    "            debounce=True,\n",
    "            size = 100,\n",
    "            value=exampleNpzFile if test else \"\",\n",
    "        ),\n",
    "\n",
    "#     html.Div('Loading can take a few seconds [for very large files even a minute].',style={**infoStyle,\"text-align\": \"center\"}),\n",
    "    html.Br(),\n",
    "    \n",
    "    html.Div(id=\"npz_feedback\", children=\"\",style=outputStyle),#To start, enter the full path to a file and press enter. Note, that loading can take a few seconds [for very large files even a minute].\n",
    "\n",
    "    html.Div(children=[html.Br(),\"    Spatial filtering \"],style={**bodyStyle,'display': 'inline-block'}),\n",
    "\n",
    "    dcc.Input(id=\"gSig_filt_input\",\n",
    "        type=\"text\",\n",
    "        debounce=True,\n",
    "        size = 5,\n",
    "        value=\"\",\n",
    "        placeholder=\"3\",\n",
    "        style={'display': 'inline-block'}),    \n",
    "\n",
    "    html.Div(html.Abbr(\n",
    "        children=\"[hover mouse for more info]\",\n",
    "        title=\"\"\"For the proper analysis, you need to set the size of the spatial filter. Its value should be of the order of the  half of the typical cell dimension (in pixels!). \"\"\"#In many of our recording, pixel size is around 2 µm. If we consider a typical cell of 10 µm, filter should be around 10/2/2 = 2.5. It needs to be an integer, so reasonable numbers to put would be 2 or 3, perhaps even 4. You can change it later.\n",
    "        ),style={**infoStyle,'display': 'inline-block'}),\n",
    "\n",
    "    html.Div(id=\"roi_feedback\", children=\"\",style=outputStyle),\n",
    "    \n",
    "    dcc.Graph(id='stat_images',figure=baseFig,),\n",
    "\n",
    "    html.Div(children=\"Resample*\",style={'display': 'inline-block'}),\n",
    "    \n",
    "    dcc.Input(id=\"resample_input\",\n",
    "        type=\"text\",\n",
    "        debounce=True,\n",
    "        size = 5,\n",
    "        placeholder=\"5\",\n",
    "        value=\"5\",\n",
    "        style={'display': 'inline-block'}),\n",
    "    \n",
    "    html.Div(children=\" \",style={\"width\":\"20px\",'display': 'inline-block'}),\n",
    "    html.Div(children=\" \", id=\"resample_feedback\",\n",
    "             style={'display': 'inline-block',**outputStyle}),\n",
    "    \n",
    "    html.Div(style=infoStyle,\n",
    "        children=[\n",
    "        \"\"\"\n",
    "        *Resampling is optional (and irreversible). It is only useful to speed up the analysis downstream.\n",
    "        Enter the new desired frequency in Hz (e.g. 5), and press enter.\n",
    "        \"\"\",\n",
    "        html.Br(),],),\n",
    "    \n",
    "    html.H3(children='ROIs', style=bodyStyle),\n",
    "    # html.Div(\"Please, choose which ROIs you'd want to see.\", style=bodyStyle),\n",
    "    # html.Br(),\n",
    "    # html.Div(\"First, toggle some basic filtering. Then, you can use the lasso (or box) tool in the left graph to select ROIs you want to see the trace of. Use shift to select multiple regions.\",style=infoStyle),\n",
    "    # html.Br(),\n",
    "    # html.Div([\n",
    "    #     dcc.RadioItems(id=\"roi_choice\",\n",
    "    #         options=[\n",
    "    #             {'label': 'Largest', 'value': 'largest'},\n",
    "    #             {'label': 'Random', 'value': 'rnd'},\n",
    "    #             {'label': 'Interesting', 'value': 'interest'},\n",
    "    #             {'label': 'Central', 'value': 'central'},\n",
    "    #             {'label': 'Outer', 'value': 'outer'},\n",
    "    #         ],\n",
    "    #      value='interest'),\n",
    "    #     html.Div(\"How many?\", style={**bodyStyle,\"display\":\"inline-block\"}),\n",
    "    #     dcc.Input(id=\"roi_choice_number\",\n",
    "    #             type=\"text\",\n",
    "    #             debounce=True,\n",
    "    #             size = 10,\n",
    "    #             value='3' if test else \"20\"\n",
    "    #         )\n",
    "    # ],style={\"display\":\"inline-block\",\"width\":\"49%\"}),\n",
    "#     html.Br(),\n",
    "    html.Div([\n",
    "        \"Show downsampled to\",\n",
    "        dcc.Input(id=\"show_freq_input\",\n",
    "            type=\"text\",\n",
    "            debounce=False,\n",
    "            size = 3,\n",
    "            value='5'),\n",
    "        \"Hz\"\n",
    "        ], style={**bodyStyle,\"display\":\"inline-block\", \"width\":\"49%\"}, ),\n",
    "    html.Br(),\n",
    "    html.Div(dcc.Graph(id='roi_selector',    figure=baseFig), style={\"display\":\"inline-block\"}),\n",
    "    html.Div(dcc.Graph(id='show_hover_trace',figure=baseFig), style={\"display\":\"inline-block\"}),\n",
    "    html.Br(),\n",
    "    html.Div(children=\n",
    "        html.Pre(\n",
    "        id=\"hover_out\",\n",
    "        children=\"hover\",\n",
    "        style={\n",
    "            \"vertical-align\":\"top\",\n",
    "            \"width\"    : \"200px\",\n",
    "            \"height\"   : \"1px\",\n",
    "            'border'   : 'thin lightgrey solid',\n",
    "            'overflowY': 'scroll',\n",
    "            \"display\"  : \"inline-box\"\n",
    "              }),\n",
    "             style={\"display\":\"inline-block\"}),\n",
    "    html.Div(children=\n",
    "        html.Pre(\n",
    "        id=\"selected_out\",\n",
    "        children=\"selected\",\n",
    "        style={\n",
    "            \"vertical-align\":\"top\",\n",
    "            \"width\"    : \"200px\",\n",
    "            \"height\"   : \"1px\",\n",
    "            'border'   : 'thin lightgrey solid',\n",
    "            'overflowY': 'scroll',\n",
    "            \"display\"  : \"inline-box\"\n",
    "              }),\n",
    "             style={\"display\":\"inline-block\"}),\n",
    "    html.Div(children=\n",
    "        html.Pre(\n",
    "        id=\"spare_out\",\n",
    "        children=\"spare\",\n",
    "        style={\n",
    "            \"vertical-align\":\"top\",\n",
    "            \"width\"    : \"200px\",\n",
    "            \"height\"   : \"1px\",\n",
    "            'border'   : 'thin lightgrey solid',\n",
    "            'overflowY': 'scroll',\n",
    "            \"display\"  : \"inline-box\"\n",
    "              }),\n",
    "             style={\"display\":\"inline-block\"})\n",
    "    ,\n",
    "    html.Div([\n",
    "       \"Trace ROIs:\",\n",
    "        dcc.Input(id=\"selected_indices\",\n",
    "            type=\"text\",\n",
    "            debounce=True,\n",
    "            size=60,\n",
    "            value=\"\",\n",
    "         ), \n",
    "    ],style={**bodyStyle,\"display\":\"inline-box\"}),\n",
    "    \n",
    "    html.Br(),\n",
    "    \n",
    "    html.Div(dcc.Graph(id='show_selected_traces',figure=getFigure(w=700))),\n",
    "    \n",
    "\n",
    "    # html.Div([\n",
    "    #     \"Save tag to selected rois: \",\n",
    "    #     dcc.Input(id=\"tag_save\",\n",
    "    #         type=\"text\",\n",
    "    #         debounce=False,\n",
    "    #         size = 30,\n",
    "    #         placeholder=\"e.g. beta, alpha, edge, central...\",\n",
    "    #         value=''),\n",
    "    #     html.Div(\"save_tag_feedback\",style=outputStyle,id=\"save_tag_feedback\"),\n",
    "\n",
    "    # ]),\n",
    "    \n",
    "    \n",
    "    html.H3(\"Save all\"),\n",
    "    html.Div([\n",
    "        \"When you are happy with your analysis, you can save it. By default, the analysis is saved as the current date (e.g. 2020_02_18) in the directory\",\n",
    "        html.Div(\"\",style=outputStyle,id=\"analysis_folder\"),\n",
    "        \"You can modify the filename by adding to it some other identifier(s) by entering them in the input box below. I suggest your username.\",\n",
    "        \"When you are ready, press save.\"\n",
    "    ]),\n",
    "    dcc.Input(id=\"save_file_append\",\n",
    "        type=\"text\",\n",
    "        debounce=False,\n",
    "        size = 30,\n",
    "        placeholder=\"e.g. username\",\n",
    "        value='',style={\"display\":\"inline-box\"}),\n",
    "    html.Button('Save', id='save_button', style={\"display\":\"inline-box\"},\n",
    "                n_clicks=0\n",
    "               ),\n",
    "    html.Div(id=\"save_feedback\",\n",
    "             style={\"display\":\"inline-box\",**outputStyle}\n",
    "            )\n",
    "    ]\n",
    "\n",
    "test=False"
   ]
  },
  {
   "cell_type": "code",
   "execution_count": 10,
   "metadata": {
    "ExecuteTime": {
     "end_time": "2020-02-24T09:47:02.570263Z",
     "start_time": "2020-02-24T09:47:02.564721Z"
    },
    "code_folding": [
     5
    ]
   },
   "outputs": [],
   "source": [
    "@app.callback(\n",
    "    Output(\"save_feedback\",    \"children\"),\n",
    "    [Input(\"save_button\",      \"n_clicks\")],\n",
    "    [State(\"save_file_append\", \"value\"   )]\n",
    "             )\n",
    "def save_callback(n_clicks,filename):\n",
    "\n",
    "    try:\n",
    "        if n_clicks <= 0:\n",
    "            return \"saving can take a few seconds.\"\n",
    "        else:\n",
    "            global regions, movie, npzFile\n",
    "            outDir = npzFile.replace(\".npz\",\"_analysis\")\n",
    "            return saveRois(regions, outDir, filename, movie=movie)\n",
    "    except:\n",
    "            return \"ERROR: \"+exc_info().__repr__()"
   ]
  },
  {
   "cell_type": "code",
   "execution_count": 11,
   "metadata": {
    "ExecuteTime": {
     "end_time": "2020-02-24T09:47:02.921644Z",
     "start_time": "2020-02-24T09:47:02.916952Z"
    },
    "code_folding": [
     4
    ]
   },
   "outputs": [],
   "source": [
    "@app.callback(\n",
    "    Output(\"resample_feedback\", \"children\"),\n",
    "    [Input(\"resample_input\", \"value\")]\n",
    "             )\n",
    "def resample_callback(val):\n",
    "    try:\n",
    "        from Automatic import resample\n",
    "        if val == \"\":\n",
    "            feedback = \"\"\n",
    "        else:\n",
    "            global movie\n",
    "            newFreq = float(val)\n",
    "            movie = resample(movie,newFreq)\n",
    "            feedback = f\"Resampling finished. New frequency is {movie.fr:.4} Hz.\"\n",
    "            regions.update(movie)\n",
    "        return feedback\n",
    "    except:\n",
    "        return \"ERROR: \"+exc_info().__repr__()\n",
    "    "
   ]
  },
  {
   "cell_type": "code",
   "execution_count": 12,
   "metadata": {
    "ExecuteTime": {
     "end_time": "2020-02-24T09:47:03.226701Z",
     "start_time": "2020-02-24T09:47:03.213290Z"
    },
    "code_folding": []
   },
   "outputs": [],
   "source": [
    "@app.callback([Output(\"npz_feedback\", \"children\"),\n",
    "               Output(\"gSig_filt_input\", \"value\"),\n",
    "               Output(\"analysis_folder\",\"children\")\n",
    "              ],\n",
    "              [Input(\"npz_filename\", \"value\")],\n",
    "              [State(\"check_movement_choice\",\"value\")])\n",
    "def loadMovie(val,mv):\n",
    "    if str(val)==\"\":\n",
    "        return ('Loading can take a some time [for very large files even minutes].',\"\",\"\")\n",
    "    try:\n",
    "        from pandas import read_csv\n",
    "        global npzFile, movie, metadata, cell_halfwidth_in_px, regions\n",
    "        npzFile = val\n",
    "        analysisFolder = npzFile.replace(\".npz\",\"_analysis\")\n",
    "        movie = import_npz_files([npzFile])\n",
    "        movie = movie.astype(\"float\")\n",
    "        if len(movie.shape)==2:        \n",
    "            movie = movie.reshape((1,-1))\n",
    "        movie = cmovie(movie)\n",
    "        timeframes = len(movie)\n",
    "        feedback = [\n",
    "            f\"{npzFile} loaded successfully.\",\n",
    "            html.Br(),\n",
    "            f\"The recording consists of {timeframes} frame(s).\"\n",
    "        ]\n",
    "        feedback += [ ]\n",
    "        try:\n",
    "            metadata = read_csv(npzFile.replace(\"npz\",\"txt\")).loc[0]\n",
    "            if not hasattr(metadata,\"freq\"):\n",
    "                metadata.freq = 1\n",
    "            movie.fr = metadata.freq\n",
    "            timeframes = metadata['T']\n",
    "            assert timeframes==len(movie)\n",
    "            freq = metadata.freq\n",
    "            pxsize = metadata.pxSize\n",
    "            feedback += [\n",
    "                f\"Info from metadata: frequency {freq:.4} Hz, and pixel size {pxsize:.3} µm.\",\n",
    "            html.Br(),\n",
    "            ]\n",
    "        except:\n",
    "            pxsize = 1\n",
    "            freq = 1\n",
    "            feedback += [\n",
    "                f\"WARNING: Missing medatada. Assuming the frequency of {freq:.4} Hz, and pixel size of {pxsize:.3} µm. I strongly suggest you set the spatial filter carefully.\",\n",
    "            html.Br(),\n",
    "            ]\n",
    "        cell_halfwidth_in_px = int(np.ceil(6./pxsize))\n",
    "        feedback += [\n",
    "            f\"Automatic size of the spatial filter based on pizel size: {cell_halfwidth_in_px} [you can change it below]\",\n",
    "            html.Br(),]\n",
    "        \n",
    "        # resample temporarily to lower frequency, to initiate ROIs and check for motion correction\n",
    "        if freq>3:\n",
    "            \n",
    "            freqMC = 3\n",
    "            n_rebin = int(movie.fr/freqMC)\n",
    "\n",
    "            rebinned_movie = rebin(movie,n_rebin).astype(\"float32\")\n",
    "            rebinned_movie = cmovie(rebinned_movie)\n",
    "            rebinned_movie.fr = movie.fr/n_rebin\n",
    "        else:\n",
    "            rebinned_movie = movie.astype(\"float32\")\n",
    "            feedback += [\n",
    "                \"(This is probably a lot higher frequency than you need, consider resampling to lower frequency, e.g. 5 Hz.)\",\n",
    "                html.Br(),\n",
    "                        ]\n",
    "        if len(mv):\n",
    "            rigidShifts = getRigidShifts(rebinned_movie, (cell_halfwidth_in_px,)*2)\n",
    "            maxshift = np.abs(rigidShifts).max()\n",
    "            if maxshift>cell_halfwidth_in_px/5:\n",
    "                feedback += [\n",
    "                    f\"It seems there is also some movement in the recording, at least {maxshift}px. You may want to first correct for that.\",\n",
    "                    html.Br(),\n",
    "                ]\n",
    "                \n",
    "        # initiate ROIs\n",
    "        regions = createRegions(rebinned_movie, cell_halfwidth_in_px, mode=\"diff_std\")\n",
    "        del regions.statImages[\"diff_mean\"]\n",
    "        regions.update(movie)\n",
    "        \n",
    "        return (feedback, str(cell_halfwidth_in_px),analysisFolder)\n",
    "    except:\n",
    "        return ([html.P(\"ERROR: \"+exc_info().__repr__())],\"None\",\"\")"
   ]
  },
  {
   "cell_type": "code",
   "execution_count": 13,
   "metadata": {
    "ExecuteTime": {
     "end_time": "2020-02-24T09:47:03.434566Z",
     "start_time": "2020-02-24T09:47:03.426324Z"
    },
    "code_folding": []
   },
   "outputs": [],
   "source": [
    "@app.callback(\n",
    "    [Output(\"roi_feedback\", \"children\"),\n",
    "     Output(\"stat_images\", \"figure\"),\n",
    "     Output(\"roi_selector\", \"figure\"),\n",
    "#      Output(\"roi_choice\",\"value\"),\n",
    "    ],\n",
    "    [Input(\"gSig_filt_input\", \"value\")])\n",
    "def recalcRois(val):\n",
    "    if val == \"\":\n",
    "        return (\"\",baseFig,baseFig)\n",
    "    try:\n",
    "        global movie,regions\n",
    "        x = int(val)\n",
    "        if regions.filterSize != x:\n",
    "            regions = createRegions(movie, x)\n",
    "            # merge obvious ROIs\n",
    "            from Regions import getPeak2BoundaryDF, getGraph_of_ROIs_to_Merge, mergeBasedOnGraph\n",
    "            while True:\n",
    "                peak2bnd = getPeak2BoundaryDF(regions.df)\n",
    "                df = peak2bnd.query(\"dist<1.\")[[\"i\",\"j\"]]\n",
    "                if len(df)==0: break\n",
    "                gRois = getGraph_of_ROIs_to_Merge(df,regions,plot=False)\n",
    "                # plotRoi_to_be_connected(gRois,regions)\n",
    "                dropped = mergeBasedOnGraph(gRois,regions)\n",
    "                if dropped == 0: break\n",
    "\n",
    "            regions.purge_lones((cell_halfwidth_in_px*.5)**2)\n",
    "            regions.sortFromCenter()\n",
    "            feedback = [f\"Size of the spatial filter changed to {x}.\",html.Br()]\n",
    "        else:\n",
    "            feedback = [\"\"]\n",
    "        feedback += [f\" Number of detected ROIs: {len(regions.df)}\"]\n",
    "        roisImage = showRoisOnly(regions,indices=range(len(regions.df)),im=regions.statImages[\"diff_std\"])\n",
    "        if narrowHover:\n",
    "            roisImage.update_layout({\"width\":220,\"height\":240})\n",
    "        return (feedback, plotStatsFig(regions), roisImage)\n",
    "    except:\n",
    "        return (\"ERROR from recalcRois: \"+exc_info().__repr__(),baseFig,baseFig)"
   ]
  },
  {
   "cell_type": "code",
   "execution_count": 14,
   "metadata": {
    "ExecuteTime": {
     "end_time": "2020-02-24T09:47:03.675456Z",
     "start_time": "2020-02-24T09:47:03.668758Z"
    },
    "code_folding": [
     4
    ]
   },
   "outputs": [],
   "source": [
    "@app.callback(\n",
    "    Output(\"show_hover_trace\", \"figure\"),\n",
    "    [Input(\"roi_selector\", \"hoverData\")],\n",
    "    [State(\"show_freq_input\", \"value\")])\n",
    "def plotHovered(hoverData, showFreq):\n",
    "    try:\n",
    "        global regions\n",
    "        if not hasattr(regions,\"time\"):\n",
    "            regions.calcTraces(movie)\n",
    "        showFreq = float(showFreq)\n",
    "        n_Avg = int(regions.movie.fr/showFreq)\n",
    "        \n",
    "        try:\n",
    "            ix = [int(hoverData[\"points\"][0][\"hovertext\"])]\n",
    "            trfig = plotRawTraces(regions,indices=ix,nAvg=n_Avg)\n",
    "            if narrowHover:\n",
    "                trfig.update_layout({\"width\":220,\"height\":200})\n",
    "            return trfig\n",
    "        except:\n",
    "            return baseFig\n",
    "    except:\n",
    "        return baseFig"
   ]
  },
  {
   "cell_type": "code",
   "execution_count": 15,
   "metadata": {
    "ExecuteTime": {
     "end_time": "2020-02-24T09:47:03.896275Z",
     "start_time": "2020-02-24T09:47:03.891362Z"
    },
    "code_folding": [
     4,
     13
    ]
   },
   "outputs": [],
   "source": [
    "@app.callback(\n",
    "    Output(\"hover_out\", \"children\"),\n",
    "    [Input(\"roi_selector\", \"hoverData\")],\n",
    "    )\n",
    "def showHovered(hoverData):\n",
    "    try:\n",
    "        return json.dumps(hoverData, indent=2)\n",
    "    except:\n",
    "        return \"ERROR from hover: \"+exc_info().__repr__() \n",
    "\n",
    "    \n",
    "@app.callback(\n",
    "    Output(\"selected_out\", \"children\"),\n",
    "    [Input(\"roi_selector\", \"selectedData\")],\n",
    "    )\n",
    "def showSelected(selData):\n",
    "    try:\n",
    "        return json.dumps(selData, indent=2)\n",
    "    except:\n",
    "        return \"ERROR from hover: \"+exc_info().__repr__() \n",
    "\n"
   ]
  },
  {
   "cell_type": "code",
   "execution_count": 16,
   "metadata": {
    "ExecuteTime": {
     "end_time": "2020-02-24T09:47:04.126235Z",
     "start_time": "2020-02-24T09:47:04.118827Z"
    },
    "code_folding": [
     6
    ]
   },
   "outputs": [],
   "source": [
    "@app.callback(\n",
    "    [Output(\"show_selected_traces\", \"figure\"),\n",
    "     Output(\"spare_out\", \"children\"),\n",
    "    ],\n",
    "    [Input(\"selected_indices\", \"value\")],\n",
    "    [State(\"show_freq_input\", \"value\"),],)\n",
    "def plotRawTraces_callback(chosen, showFreq):\n",
    "    try:\n",
    "        if chosen==\"\": return baseFig,\"waiting\"\n",
    "        global regions,movie\n",
    "        if not hasattr(regions,\"time\"):\n",
    "            regions.calcTraces(movie)\n",
    "        showFreq = float(showFreq)\n",
    "        n_Avg = int(regions.movie.fr/showFreq)\n",
    "        if chosen==\"\":\n",
    "            return baseFig, \"nothing yet\"\n",
    "        try:\n",
    "            ix = np.array(chosen.strip(\" ,\").split(\",\"))\n",
    "            ix = ix.astype(int)\n",
    "            trfig = plotRawTraces(regions,indices=ix,nAvg=n_Avg)\n",
    "#             trfig.update_layout({\"width\":200})\n",
    "            return trfig,\"ok\"\n",
    "        except:\n",
    "            return baseFig,\"error in chosen parsing\"\n",
    "    except:\n",
    "        return baseFig,\"ERROR from plotRawTraces_callback: \"+exc_info().__repr__() "
   ]
  },
  {
   "cell_type": "code",
   "execution_count": 17,
   "metadata": {
    "ExecuteTime": {
     "end_time": "2020-02-24T09:47:04.406428Z",
     "start_time": "2020-02-24T09:47:04.401691Z"
    },
    "code_folding": [
     4
    ]
   },
   "outputs": [],
   "source": [
    "@app.callback(\n",
    "    Output(\"selected_indices\", \"value\"),\n",
    "    [Input(\"roi_selector\", \"selectedData\")]\n",
    ")\n",
    "def collectSelected(selData):\n",
    "    try:\n",
    "        out = np.unique([pt[\"hovertext\"] for pt in selData[\"points\"]])\n",
    "        return \", \".join(out)\n",
    "    except:\n",
    "        return \"\" "
   ]
  },
  {
   "cell_type": "code",
   "execution_count": 18,
   "metadata": {
    "ExecuteTime": {
     "end_time": "2020-02-24T09:47:04.662619Z",
     "start_time": "2020-02-24T09:47:04.656012Z"
    }
   },
   "outputs": [
    {
     "data": {
      "text/html": [
       "open the following link in a different tab: <a href=\"https://ctn.physiologie.meduniwien.ac.at/user/srdjan/app/endpoints/3dd30739e4b34588a663d8ce54c244e3/\">https://ctn.physiologie.meduniwien.ac.at/user/srdjan/app/endpoints/3dd30739e4b34588a663d8ce54c244e3/</a>"
      ],
      "text/plain": [
       "<IPython.core.display.HTML object>"
      ]
     },
     "execution_count": 18,
     "metadata": {},
     "output_type": "execute_result"
    }
   ],
   "source": [
    "app.layout = html.Div(children=APP_LAYOUT)\n",
    "app._repr_html_() \n",
    "link2app = \"https://ctn.physiologie.meduniwien.ac.at\"+app.get_app_root_url()\n",
    "HTML(f'open the following link in a different tab: <a href=\"{link2app}\">{link2app}</a>')"
   ]
  },
  {
   "cell_type": "code",
   "execution_count": 19,
   "metadata": {
    "ExecuteTime": {
     "end_time": "2020-02-24T09:47:04.883351Z",
     "start_time": "2020-02-24T09:47:04.880276Z"
    },
    "code_folding": []
   },
   "outputs": [],
   "source": [
    "# app.layout = html.Div(children=APP_LAYOUT)\n",
    "# app._repr_html_() \n",
    "# link2app = \"https://ctn.physiologie.meduniwien.ac.at\"+app.get_app_root_url()\n",
    "# HTML(f'click to start: <a href=\"{link2app}\">{link2app}</a>')"
   ]
  },
  {
   "cell_type": "code",
   "execution_count": 20,
   "metadata": {
    "ExecuteTime": {
     "end_time": "2020-02-24T09:47:05.450636Z",
     "start_time": "2020-02-24T09:47:05.447619Z"
    }
   },
   "outputs": [],
   "source": [
    "# app.layout = html.Div(children=APP_LAYOUT)\n",
    "# app"
   ]
  },
  {
   "cell_type": "code",
   "execution_count": 2,
   "metadata": {
    "ExecuteTime": {
     "end_time": "2020-02-21T18:35:48.331294Z",
     "start_time": "2020-02-21T18:35:48.329380Z"
    }
   },
   "outputs": [],
   "source": [
    "# def extractSubset(regions, indices):\n",
    "#     from copy import deepcopy\n",
    "#     saving = ['statImages', 'mode', 'image', 'filterSize', 'df', 'time']\n",
    "#     allAttrs = list(regions.__dict__.keys())\n",
    "#     subRegions = deepcopy(regions)\n",
    "#     for k in allAttrs:\n",
    "#         if k not in saving:\n",
    "#             del subRegions.__dict__[k]\n",
    "#     subRegions.df = subRegions.df.loc[indices]\n",
    "#     return subRegions"
   ]
  },
  {
   "cell_type": "code",
   "execution_count": null,
   "metadata": {},
   "outputs": [],
   "source": []
  }
 ],
 "metadata": {
  "kernelspec": {
   "display_name": "Python [conda env:physio]",
   "language": "python",
   "name": "conda-env-physio-py"
  },
  "language_info": {
   "codemirror_mode": {
    "name": "ipython",
    "version": 3
   },
   "file_extension": ".py",
   "mimetype": "text/x-python",
   "name": "python",
   "nbconvert_exporter": "python",
   "pygments_lexer": "ipython3",
   "version": "3.7.6"
  },
  "toc": {
   "base_numbering": 1,
   "nav_menu": {},
   "number_sections": true,
   "sideBar": true,
   "skip_h1_title": false,
   "title_cell": "Table of Contents",
   "title_sidebar": "Contents",
   "toc_cell": false,
   "toc_position": {},
   "toc_section_display": true,
   "toc_window_display": false
  }
 },
 "nbformat": 4,
 "nbformat_minor": 2
}
