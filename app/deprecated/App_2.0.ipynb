{
 "cells": [
  {
   "cell_type": "code",
   "execution_count": null,
   "metadata": {
    "ExecuteTime": {
     "end_time": "2020-01-31T20:52:08.510161Z",
     "start_time": "2020-01-31T20:52:03.882352Z"
    },
    "code_folding": []
   },
   "outputs": [],
   "source": [
    "from jupyter_plotly_dash import JupyterDash\n",
    "from dash.dependencies import Input, Output\n",
    "import dash_core_components as dcc\n",
    "import dash_html_components as html\n",
    "import plotly.graph_objects as go\n",
    "import numpy as np\n",
    "import os\n",
    "from sys import path as syspath\n",
    "syspath.append(os.path.expanduser(\"~/srdjan_functs/\"))\n",
    "test=False\n",
    "\n",
    "%load_ext autoreload\n",
    "%autoreload 1\n",
    "%aimport Regions, physio_def_1, numeric\n",
    "\n",
    "from physio_def_1 import *\n",
    "from numeric import *\n",
    "\n",
    "from Regions import Regions\n",
    "from numeric import *\n",
    "\n",
    "from plotly.subplots import make_subplots\n",
    "\n",
    "from sys import exc_info\n",
    "\n",
    "from plotly import colors\n",
    "os.chdir(os.path.expanduser(\"~\"))"
   ]
  },
  {
   "cell_type": "code",
   "execution_count": 24,
   "metadata": {
    "ExecuteTime": {
     "end_time": "2020-02-01T14:55:43.678578Z",
     "start_time": "2020-02-01T14:55:43.528511Z"
    }
   },
   "outputs": [
    {
     "name": "stderr",
     "output_type": "stream",
     "text": [
      "/opt/tljh/user/envs/physio/lib/python3.7/site-packages/ipykernel_launcher.py:35: FutureWarning:\n",
      "\n",
      "arrays to stack must be passed as a \"sequence\" type such as list or tuple. Support for non-sequence iterables such as generators is deprecated as of NumPy 1.16 and will raise an error in the future.\n",
      "\n"
     ]
    }
   ],
   "source": [
    "myfig = plotROIs(regions,indices=[0])"
   ]
  },
  {
   "cell_type": "code",
   "execution_count": 30,
   "metadata": {
    "ExecuteTime": {
     "end_time": "2020-02-01T14:56:39.431938Z",
     "start_time": "2020-02-01T14:56:39.427109Z"
    }
   },
   "outputs": [
    {
     "data": {
      "text/plain": [
       "[('heatmap', 'x'),\n",
       " ('heatmap', 'x2'),\n",
       " ('scatter', 'x'),\n",
       " ('scatter', 'x2'),\n",
       " ('scatter', 'x'),\n",
       " ('scatter', 'x2')]"
      ]
     },
     "execution_count": 30,
     "metadata": {},
     "output_type": "execute_result"
    }
   ],
   "source": [
    "[(d.type, d.xaxis) for d in myfig.data]"
   ]
  },
  {
   "cell_type": "code",
   "execution_count": 22,
   "metadata": {
    "ExecuteTime": {
     "end_time": "2020-02-01T14:55:22.366606Z",
     "start_time": "2020-02-01T14:55:22.349716Z"
    },
    "code_folding": [
     51,
     66
    ]
   },
   "outputs": [],
   "source": [
    "def plotROIs(regions,indices=None):\n",
    "    if indices is None:\n",
    "        indices = regions.df.sort_values(\"size\",ascending=False).index[:10]\n",
    "    fig1 = make_subplots(rows=1, cols=2, horizontal_spacing=0.02,\n",
    "    #                      shared_xaxes=True,\n",
    "                         shared_yaxes=True,\n",
    "                    subplot_titles=(\"Standard Deviation\",\"Template\"))\n",
    "    for j,im in enumerate([regions.std_image, regions.image]):\n",
    "        fig1.add_heatmap(z=np.array(im),col=j+1,row=1, hoverinfo='skip',showscale=False)\n",
    "    fig1.update_layout(\n",
    "        height = 450,\n",
    "        width = 900,\n",
    "    )\n",
    "\n",
    "    if len(indices)>0:\n",
    "\n",
    "        ia = 0\n",
    "        for i in indices:\n",
    "            cl = colors.DEFAULT_PLOTLY_COLORS[ia%10]\n",
    "            bds = regions.df.loc[i,\"boundary\"]\n",
    "            bds += [bds[0]]\n",
    "            y,x = np.array(bds).T\n",
    "            for c in [1,2]:\n",
    "                ln = go.Scatter(x=x,y=y,\n",
    "                                line=dict(width=1,color=cl),\n",
    "                                mode=\"lines\",\n",
    "                                showlegend = c==1,\n",
    "                                name = str(i),\n",
    "                                hoverinfo='text',\n",
    "                                hovertext=[\"%i\"%(i)]*len(bds),\n",
    "                             )\n",
    "                fig1.add_trace(ln,col=c,row=1)\n",
    "            ia += 1\n",
    "\n",
    "        y,x = np.vstack(np.vstack(regions.df.pixels[i]).mean(axis=0) for i in indices).T\n",
    "\n",
    "        pts = go.Scatter(x=x,y=y,\n",
    "                        mode=\"markers\",\n",
    "                        showlegend = False,\n",
    "                        opacity=0.0,\n",
    "                         name=str(i),\n",
    "                        marker=dict(color=np.arange(len(x))%10),\n",
    "                        hovertext=[\"%i\"%(i) for i in indices],\n",
    "                        hoverinfo=\"text\"\n",
    "                     )\n",
    "        for c in [1,2]: fig1.add_trace(pts,col=c,row=1)\n",
    "    \n",
    "    for c in [1,2]:\n",
    "        fig1.update_xaxes({\"range\":[-.5,im.shape[1]-.5]},col=c,row=1)\n",
    "        fig1.update_yaxes({\"range\":[-.5,im.shape[0]-.5]},col=c,row=1)\n",
    "    return fig1\n",
    "\n",
    "def parseRoiChoices(roi_mode, roi_number):\n",
    "    try:\n",
    "        roi_number = int(roi_number)\n",
    "    except:\n",
    "        roi_number = 3\n",
    "    if roi_number<1:\n",
    "        roi_number=1\n",
    "    if roi_number>20:\n",
    "        roi_number=20\n",
    "    if roi_mode==\"largest\":\n",
    "        ix = regions.df.sort_values(\"size\",ascending=False).index[:roi_number]\n",
    "    if roi_mode==\"rnd\":\n",
    "        ix = np.random.choice(regions.df.index, roi_number)\n",
    "    return ix\n",
    "\n",
    "def plotTraces(regions,indices=None):\n",
    "    if indices is None:\n",
    "        indices = regions.df.sort_values(\"size\",ascending=False).index[:10]\n",
    "    fig = go.Figure()\n",
    "    for i in indices:\n",
    "        fig.add_trace(go.Scatter(\n",
    "            x=regions.time,\n",
    "            y=regions.df.loc[i,\"trace\"],\n",
    "            line=dict(width=1),\n",
    "            mode=\"lines\",\n",
    "            name=str(i),\n",
    "#             text=[str(i)]*len(regions.time),\n",
    "#             hoveinfo=\"name\"\n",
    "        ))\n",
    "    fig.update_layout(\n",
    "        hovermode=\"x\",\n",
    "       xaxis_title='time [s]',\n",
    "       yaxis_title='intensity')\n",
    "    return fig"
   ]
  },
  {
   "cell_type": "code",
   "execution_count": null,
   "metadata": {},
   "outputs": [],
   "source": []
  },
  {
   "cell_type": "code",
   "execution_count": 1,
   "metadata": {
    "ExecuteTime": {
     "end_time": "2020-01-31T20:52:08.510161Z",
     "start_time": "2020-01-31T20:52:03.882352Z"
    },
    "code_folding": [
     0
    ]
   },
   "outputs": [
    {
     "name": "stderr",
     "output_type": "stream",
     "text": [
      "/opt/tljh/user/envs/physio/lib/python3.7/site-packages/sklearn/utils/deprecation.py:144: FutureWarning:\n",
      "\n",
      "The sklearn.decomposition.incremental_pca module is  deprecated in version 0.22 and will be removed in version 0.24. The corresponding classes / functions should instead be imported from sklearn.decomposition. Anything that cannot be imported from sklearn.decomposition is now part of the private API.\n",
      "\n"
     ]
    }
   ],
   "source": [
    "# %%capture\n",
    "from caiman import movie as cmovie\n",
    "\n",
    "## global vars\n",
    "npzFile = None\n",
    "metadata = None\n",
    "movie = None\n",
    "regions = None\n",
    "\n",
    "app = JupyterDash(__name__,\n",
    "                  width=800,\n",
    "#                   height=1000,\n",
    "                 )\n",
    "app.layout = html.Div(children=[\n",
    "    html.H1(children='CaRec Viewer'),\n",
    "    html.Div([\n",
    "        html.P(\"At your disposal.\"),\n",
    "    ]),\n",
    "\n",
    "    ####################################\n",
    "    html.H2(children='Importing'),\n",
    "    html.Div([\n",
    "        html.P('Enter path to npz (e.g. local_data/testdir/Experiment38a_7_Series016.npz), and press enter.'),\n",
    "        html.P('Loading can take a few seconds [for very large files even a minute].'),\n",
    "    ]),\n",
    "    dcc.Input(\n",
    "            id=\"npz_filename\",\n",
    "            type=\"text\",\n",
    "            placeholder=\"local_data/testdir/Experiment38a_7_Series016.npz\",\n",
    "            debounce=True,\n",
    "            size = 50,\n",
    "            value=\"local_data/testdir/Experiment38a_7_Series016.npz\" if test else None,\n",
    "        ),\n",
    "    html.Div(id=\"npz_feedback\", children=\"\"),\n",
    "\n",
    "    ####################################\n",
    "    html.H2(children='Resampling'),\n",
    "    html.Div(children=\"\"\"\n",
    "             Resample movie if you wish. It is optional, but if you do it, the analysis downstream goes much faster.\n",
    "             Enter the new desired frequency in Hz (e.g. 2), and press enter.\n",
    "             \"\"\"),\n",
    "    dcc.Input(\n",
    "            id=\"resample_input\",\n",
    "            type=\"text\",\n",
    "            placeholder=\"2\",\n",
    "            debounce=True,\n",
    "            size = 10,\n",
    "            value=\"2\" if test else None,\n",
    "        ),\n",
    "    html.Div(id=\"resample_feedback\", children=\"\"),\n",
    "    \n",
    "    ####################################\n",
    "    html.H2(children='Create ROIs'),\n",
    "    html.Div([\n",
    "        html.P(\"For the proper analysis, you need to set the size of the spatial filter.\"),\n",
    "        html.P(\"It's value should be of the order of the  half of the typical cell dimension (in pixels!).\"),\n",
    "        html.P(\"In many of our recording, pixel size is around 2 µm. If we consider a typical cell of 10 µm, filter should be around 10/2/2 = 2.5. It needs to be an integer, so reasonable numbers to put would be 2 or 3, perhaps even 4. You can change it later.\"),\n",
    "    ]),\n",
    "    dcc.Input(\n",
    "        id=\"gSig_filt\",\n",
    "        type=\"text\",\n",
    "        placeholder=\"2\",\n",
    "#         debounce=True,\n",
    "        size = 10,\n",
    "        value=\"2\" if test else None,\n",
    "    ),\n",
    "    \n",
    "    html.Div(id=\"roi_feedback\"),\n",
    "    \n",
    "    html.H2(children='ROIs'),\n",
    "    dcc.RadioItems(\n",
    "        id=\"roi_choice\",\n",
    "        options=[\n",
    "            {'label': 'Largest', 'value': 'largest'},\n",
    "            {'label': 'Random', 'value': 'rnd'},\n",
    "            # {'label': 'Random, larger than', 'value': 'rnd_th'},\n",
    "        ],\n",
    "        value='largest'),\n",
    "    dcc.Input(\n",
    "            id=\"roi_choice_number\",\n",
    "            type=\"text\",\n",
    "            placeholder=\"10\",\n",
    "            debounce=True,\n",
    "            size = 10,\n",
    "            value='10' if test else None\n",
    "        ),\n",
    "    html.Div(id=\"roi_choice_feedback\", children=\"\"),\n",
    "    \n",
    "    html.H3(children='Images'),\n",
    "    \n",
    "    dcc.Graph(id='images'),\n",
    "    \n",
    "    html.H3(children='Traces'),\n",
    "    \n",
    "    dcc.Graph(id='roi_traces_raw',),\n",
    "\n",
    "])\n",
    "\n",
    "@app.callback(Output(\"npz_feedback\", \"children\"),\n",
    "              [Input(\"npz_filename\", \"value\")],)\n",
    "def loadMovie(val):\n",
    "    try:\n",
    "        from pandas import read_csv\n",
    "        global npzFile, movie, metadata\n",
    "        npzFile = val\n",
    "        metadata = read_csv(npzFile.replace(\"npz\",\"txt\")).loc[0]\n",
    "        if not hasattr(metadata,\"freq\"):\n",
    "            metadata.freq = 1\n",
    "        movie = import_npz_files([npzFile])\n",
    "        movie = movie.astype(\"float\")\n",
    "        if len(movie.shape)==2:        \n",
    "            movie = movie.reshape((1,-1))\n",
    "        movie = cmovie(movie)\n",
    "        movie.fr = metadata.freq\n",
    "        feedback = [html.P(f\"Recording {npzFile} has {metadata['T']} timeframes and is done at {metadata.freq:.4} Hz, with a pixel size of {metadata.pxSize:.3} µm\")]\n",
    "        if metadata.freq>3:\n",
    "            feedback += [html.P(\"This is probably a lot higher frequency than you need, consider resampling to lower frequency, e.g. 2 Hz\")]\n",
    "        return feedback\n",
    "    except:\n",
    "        return exc_info()[0]\n",
    "\n",
    "@app.callback(Output(\"resample_feedback\", \"children\"),\n",
    "              [Input(\"resample_input\", \"value\")],)\n",
    "def resample(val):\n",
    "    global movie\n",
    "    try:\n",
    "        newFreq = float(val)\n",
    "        n_rebin = int(np.ceil(movie.fr/newFreq))\n",
    "        movie = rebin(movie,n_rebin)\n",
    "        movie.fr = movie.fr/n_rebin\n",
    "        feedback = f\"Resampling finished. New frequency is {movie.fr:.4} Hz.\"\n",
    "        return feedback\n",
    "    except:\n",
    "        return exc_info()[0]\n",
    "\n",
    "@app.callback(\n",
    "    Output(\"roi_feedback\", \"children\"),\n",
    "    [Input(\"gSig_filt\", \"value\")]\n",
    ")\n",
    "def calcRois(val):\n",
    "    global regions\n",
    "    gSig_filt = int(val)\n",
    "    gSig_filt = (gSig_filt,gSig_filt)\n",
    "    regions = Regions(movie,th=0,gSig_filt=gSig_filt)\n",
    "    regions.purge_lones(5)\n",
    "    C = regions.df\n",
    "    C.drop(index=C.query(\"size<7\").index,inplace=True)\n",
    "    out = f\"{len(regions.df)} rois discovered.\"\n",
    "    regions.calcTraces()\n",
    "    return out\n",
    "\n",
    "@app.callback(\n",
    "    Output(\"roi_choice_feedback\", \"children\"),\n",
    "    [Input(\"roi_choice\", \"value\"), Input(\"roi_choice_number\", \"value\")]\n",
    ")\n",
    "def showRoiChoices(roi_mode,roi_number):\n",
    "    ix = parseRoiChoices(roi_mode,roi_number)\n",
    "    output = \",\".join([str(i) for i in ix])\n",
    "    return output\n",
    "\n",
    "@app.callback(\n",
    "    Output(\"roi_traces_raw\", \"figure\"),\n",
    "#     [Input(\"roi_choice_feedback\", \"value\")]\n",
    "    [Input(\"roi_choice\", \"value\"), Input(\"roi_choice_number\", \"value\")]\n",
    ")\n",
    "\n",
    "def showTraces(roi_mode,roi_number):\n",
    "    global regions\n",
    "    ix = parseRoiChoices(roi_mode,roi_number)\n",
    "#     ix = list(map(int,val.split(\",\")))\n",
    "    fig = plotTraces(regions,indices=ix)\n",
    "    return fig\n",
    "\n",
    "@app.callback(\n",
    "    Output(\"images\", \"figure\"),\n",
    "    [Input(\"roi_choice\", \"value\"), Input(\"roi_choice_number\", \"value\")]\n",
    ")\n",
    "def addRoisToStatFigs(roi_mode,roi_number):\n",
    "    global regions\n",
    "    ix = parseRoiChoices(roi_mode,roi_number)\n",
    "    fig = plotROIs(regions,ix)\n",
    "    return fig\n",
    "\n",
    "\n",
    "\n",
    "link2app = \"https://ctn.physiologie.meduniwien.ac.at\"+app.get_app_root_url()"
   ]
  },
  {
   "cell_type": "code",
   "execution_count": 5,
   "metadata": {
    "ExecuteTime": {
     "end_time": "2020-02-01T14:32:45.554869Z",
     "start_time": "2020-02-01T14:32:45.397675Z"
    }
   },
   "outputs": [
    {
     "name": "stderr",
     "output_type": "stream",
     "text": [
      "/opt/tljh/user/envs/physio/lib/python3.7/site-packages/ipykernel_launcher.py:59: FutureWarning:\n",
      "\n",
      "arrays to stack must be passed as a \"sequence\" type such as list or tuple. Support for non-sequence iterables such as generators is deprecated as of NumPy 1.16 and will raise an error in the future.\n",
      "\n"
     ]
    }
   ],
   "source": [
    "myfig = plotROIs(regions,indices=[0])"
   ]
  },
  {
   "cell_type": "code",
   "execution_count": 2,
   "metadata": {
    "ExecuteTime": {
     "end_time": "2020-01-31T20:52:08.519303Z",
     "start_time": "2020-01-31T20:52:08.511886Z"
    }
   },
   "outputs": [
    {
     "data": {
      "text/html": [
       "<a href=\"https://ctn.physiologie.meduniwien.ac.at/user/srdjan/app/endpoints/b1e13fb0355a443db4a9e35512deb6eb/\">https://ctn.physiologie.meduniwien.ac.at/user/srdjan/app/endpoints/b1e13fb0355a443db4a9e35512deb6eb/</a>"
      ],
      "text/plain": [
       "<IPython.core.display.HTML object>"
      ]
     },
     "execution_count": 2,
     "metadata": {},
     "output_type": "execute_result"
    }
   ],
   "source": [
    "from IPython.core.display import HTML\n",
    "HTML(f'<a href=\"{link2app}\">{link2app}</a>')"
   ]
  },
  {
   "cell_type": "code",
   "execution_count": 3,
   "metadata": {
    "ExecuteTime": {
     "end_time": "2020-01-31T20:52:08.792066Z",
     "start_time": "2020-01-31T20:52:08.787242Z"
    }
   },
   "outputs": [
    {
     "data": {
      "text/html": [
       "<div>\n",
       "  <iframe src=\"/user/srdjan/app/endpoints/b1e13fb0355a443db4a9e35512deb6eb/\" width=800 height=600 frameborder=\"0\"></iframe>\n",
       "  <hr/><a href=\"/user/srdjan/app/endpoints/b1e13fb0355a443db4a9e35512deb6eb/\" target=\"_new\">Open in new window</a> for /user/srdjan/app/endpoints/b1e13fb0355a443db4a9e35512deb6eb/\n",
       "</div>"
      ],
      "text/plain": [
       "<jupyter_plotly_dash.dash_wrapper.JupyterDash at 0x7f235461c950>"
      ]
     },
     "execution_count": 3,
     "metadata": {},
     "output_type": "execute_result"
    }
   ],
   "source": [
    "app"
   ]
  },
  {
   "cell_type": "code",
   "execution_count": null,
   "metadata": {},
   "outputs": [],
   "source": []
  }
 ],
 "metadata": {
  "kernelspec": {
   "display_name": "Python [conda env:physio]",
   "language": "python",
   "name": "conda-env-physio-py"
  },
  "language_info": {
   "codemirror_mode": {
    "name": "ipython",
    "version": 3
   },
   "file_extension": ".py",
   "mimetype": "text/x-python",
   "name": "python",
   "nbconvert_exporter": "python",
   "pygments_lexer": "ipython3",
   "version": "3.7.6"
  },
  "toc": {
   "base_numbering": 1,
   "nav_menu": {},
   "number_sections": true,
   "sideBar": true,
   "skip_h1_title": false,
   "title_cell": "Table of Contents",
   "title_sidebar": "Contents",
   "toc_cell": false,
   "toc_position": {},
   "toc_section_display": true,
   "toc_window_display": false
  }
 },
 "nbformat": 4,
 "nbformat_minor": 2
}
