{
 "cells": [
  {
   "cell_type": "code",
   "execution_count": 1,
   "metadata": {
    "ExecuteTime": {
     "end_time": "2020-02-20T12:30:16.739552Z",
     "start_time": "2020-02-20T12:29:48.802826Z"
    },
    "code_folding": []
   },
   "outputs": [],
   "source": [
    "%%capture\n",
    "import warnings\n",
    "warnings.filterwarnings('ignore')\n",
    "from IPython.core.display import HTML\n",
    "from jupyter_plotly_dash import JupyterDash\n",
    "from dash.dependencies import Input, Output, State\n",
    "import dash_core_components as dcc\n",
    "import dash_html_components as html\n",
    "import plotly.graph_objects as go\n",
    "import numpy as np\n",
    "import os\n",
    "from sys import path as syspath\n",
    "syspath.append(os.path.expanduser(\"~/srdjan_functs/\"))\n",
    "from sys import exc_info\n",
    "from caiman import movie as cmovie"
   ]
  },
  {
   "cell_type": "code",
   "execution_count": 2,
   "metadata": {
    "ExecuteTime": {
     "end_time": "2020-02-20T12:30:19.946258Z",
     "start_time": "2020-02-20T12:30:16.741099Z"
    },
    "code_folding": []
   },
   "outputs": [],
   "source": [
    "%load_ext autoreload\n",
    "%autoreload 1\n",
    "%aimport Regions, physio_def_1, numeric, Automatic\n",
    "\n",
    "from physio_def_1 import *\n",
    "from Regions import Regions\n",
    "from numeric import *\n",
    "from Automatic import *"
   ]
  },
  {
   "cell_type": "code",
   "execution_count": 3,
   "metadata": {
    "ExecuteTime": {
     "end_time": "2020-02-20T12:30:19.950793Z",
     "start_time": "2020-02-20T12:30:19.947928Z"
    },
    "code_folding": []
   },
   "outputs": [],
   "source": [
    "os.chdir(os.path.expanduser(\"~\"))"
   ]
  },
  {
   "cell_type": "code",
   "execution_count": 4,
   "metadata": {
    "ExecuteTime": {
     "end_time": "2020-02-20T12:30:20.001470Z",
     "start_time": "2020-02-20T12:30:19.952266Z"
    },
    "code_folding": [
     0
    ]
   },
   "outputs": [],
   "source": [
    "exampleNpzFile = \"local_data/testdir/Experiment38a_7_Series016.npz\"\n",
    "# exampleNpzFile = \"local_data/Sandra/2019_10_16/Experiment39a/Experiment39a_13_Series024.npz\"\n",
    "# exampleNpzFile = \"local_data/Sandra/2019_10_16/Experiment39a/Experiment39a_8_Series019.npz\""
   ]
  },
  {
   "cell_type": "code",
   "execution_count": 5,
   "metadata": {
    "ExecuteTime": {
     "end_time": "2020-02-20T12:30:20.060239Z",
     "start_time": "2020-02-20T12:30:20.002617Z"
    }
   },
   "outputs": [],
   "source": [
    "outputStyle = {\n",
    "    \"color\":\"blue\",\n",
    "    \"font-family\":\"Courier New\",\n",
    "    \"font-size\":\"80%\",\n",
    "    \"max-width\": \"700px\",\n",
    "    }\n",
    "infoStyle = {\n",
    "    \"font-size\":\"70%\",\n",
    "    \"font-family\":\"Arial\",\n",
    "    # \"background-color\":\"lightcyan\",\n",
    "    \"color\":\"grey\",\n",
    "    \"max-width\": \"700px\",\n",
    "    }\n",
    "bodyStyle = {\n",
    "    \"font-family\":\"Arial\",\n",
    "    \"max-width\": \"700px\",\n",
    "    }"
   ]
  },
  {
   "cell_type": "code",
   "execution_count": 21,
   "metadata": {
    "ExecuteTime": {
     "end_time": "2020-02-20T13:08:51.354337Z",
     "start_time": "2020-02-20T13:08:51.350747Z"
    },
    "code_folding": []
   },
   "outputs": [],
   "source": [
    "## global vars\n",
    "npzFile = None\n",
    "metadata = None\n",
    "movie = None\n",
    "regions = None\n",
    "test = True"
   ]
  },
  {
   "cell_type": "code",
   "execution_count": 169,
   "metadata": {
    "ExecuteTime": {
     "end_time": "2020-02-20T14:20:03.732750Z",
     "start_time": "2020-02-20T14:20:03.678454Z"
    },
    "code_folding": []
   },
   "outputs": [],
   "source": [
    "app = JupyterDash(__name__,\n",
    "                  width=800,\n",
    "#                   height=400,\n",
    "                 )\n",
    "\n",
    "APP_LAYOUT = [\n",
    "    \n",
    "    html.H1(children='CaRec Viewer',style=bodyStyle),\n",
    "    html.Div(\"Please, think of a better name and let me know.\",style=infoStyle),\n",
    "    html.Br(),\n",
    "    ####################################\n",
    "#     html.H2(children='Importing',style=bodyStyle),\n",
    "    html.Div('Enter path to an npz file, choose whether to check for movement, and press enter.',style={**bodyStyle, \"display\":\"inline-box\"}),\n",
    "    html.Div([\n",
    "        dcc.Checklist(id=\"check_movement_choice\",options=[{\"label\":'Check for movement',\"value\":\"yes\"}],value=[],\n",
    "                          style={**infoStyle, \"display\":\"inline-box\",\"float\":\"right\"}),\n",
    "    ],style={\"width\":\"200px\"}),\n",
    "    \n",
    "    dcc.Input(id=\"npz_filename\",\n",
    "            type=\"text\",\n",
    "            placeholder=exampleNpzFile,\n",
    "            debounce=True,\n",
    "            size = 100,\n",
    "            value=exampleNpzFile if test else \"\",\n",
    "        ),\n",
    "\n",
    "#     html.Div('Loading can take a few seconds [for very large files even a minute].',style={**infoStyle,\"text-align\": \"center\"}),\n",
    "    html.Br(),\n",
    "    \n",
    "    html.Div(id=\"npz_feedback\", children=\"\",style=outputStyle),#To start, enter the full path to a file and press enter. Note, that loading can take a few seconds [for very large files even a minute].\n",
    "\n",
    "    html.Div(children=[html.Br(),\"    Spatial filtering**\"],style={**bodyStyle,'display': 'inline-block'}),\n",
    "\n",
    "    dcc.Input(id=\"gSig_filt_input\",\n",
    "        type=\"text\",\n",
    "        debounce=True,\n",
    "        size = 5,\n",
    "        value=\"\",\n",
    "        placeholder=\"3\",\n",
    "        style={'display': 'inline-block'}),    \n",
    "\n",
    "    html.Div(html.Abbr(\n",
    "        children=\"[hover mouse for more info]\",\n",
    "        title=\"\"\"For the proper analysis, you need to set the size of the spatial filter. Its value should be of the order of the  half of the typical cell dimension (in pixels!). \"\"\"#In many of our recording, pixel size is around 2 µm. If we consider a typical cell of 10 µm, filter should be around 10/2/2 = 2.5. It needs to be an integer, so reasonable numbers to put would be 2 or 3, perhaps even 4. You can change it later.\n",
    "        ),style={**infoStyle,'display': 'inline-block'}),\n",
    "\n",
    "    html.Div(id=\"roi_feedback\", children=\"\",style=outputStyle),\n",
    "    \n",
    "    dcc.Graph(id='images',figure=baseFig,),\n",
    "\n",
    "    html.Div(children=\"Resample*\",style={'display': 'inline-block'}),\n",
    "    \n",
    "    dcc.Input(id=\"resample_input\",\n",
    "        type=\"text\",\n",
    "        debounce=True,\n",
    "        size = 5,\n",
    "        placeholder=\"5\",\n",
    "        value=\"\",\n",
    "        style={'display': 'inline-block'}),\n",
    "    \n",
    "    html.Div(children=\" \",style={\"width\":\"20px\",'display': 'inline-block'}),\n",
    "    html.Div(children=\" \", id=\"resample_feedback\",\n",
    "             style={'display': 'inline-block',**outputStyle}),\n",
    "    \n",
    "    html.Div(style=infoStyle,\n",
    "        children=[\n",
    "        \"\"\"\n",
    "        *Resampling is optional (and irreversible). It is only useful to speed up the analysis downstream.\n",
    "        Enter the new desired frequency in Hz (e.g. 5), and press enter.\n",
    "        \"\"\",\n",
    "        html.Br(),],),\n",
    "    \n",
    "    html.H3(children='ROIs', style=bodyStyle),\n",
    "    html.Div(\"Please, choose which ROIs you'd want to see.\", style=bodyStyle),\n",
    "    html.Br(),\n",
    "    html.Div(\"First, toggle some basic filtering. Then, you can use the lasso (or box) tool in the left graph to select ROIs you want to see the trace of. Use shift to select multiple regions.\",style=infoStyle),\n",
    "    html.Br(),\n",
    "    html.Div([\n",
    "        dcc.RadioItems(id=\"roi_choice\",\n",
    "            options=[\n",
    "                {'label': 'Largest', 'value': 'largest'},\n",
    "                {'label': 'Random', 'value': 'rnd'},\n",
    "                {'label': 'Interesting', 'value': 'interest'},\n",
    "                {'label': 'Central', 'value': 'central'},\n",
    "                {'label': 'Outer', 'value': 'outer'},\n",
    "            ],\n",
    "         value='interest'),\n",
    "        html.Div(\"How many?\", style={**bodyStyle,\"display\":\"inline-block\"}),\n",
    "        dcc.Input(id=\"roi_choice_number\",\n",
    "                type=\"text\",\n",
    "                debounce=True,\n",
    "                size = 10,\n",
    "                value='3' if test else \"20\"\n",
    "            )\n",
    "    ],style={\"display\":\"inline-block\",\"width\":\"49%\"}),\n",
    "#     html.Br(),\n",
    "    html.Div([\n",
    "        \"Show downsampled to\",\n",
    "        dcc.Input(id=\"show_freq_input\",\n",
    "            type=\"text\",\n",
    "            debounce=False,\n",
    "            size = 3,\n",
    "            value='1'),\n",
    "        \"Hz\"\n",
    "        ], style={**bodyStyle,\"display\":\"inline-block\", \"width\":\"49%\"}, ),\n",
    "    html.Br(),\n",
    "    html.Div(dcc.Graph(id='show_rois',      figure=baseFig), style={\"display\":\"inline-block\"}),\n",
    "    html.Div(dcc.Graph(id='show_raw_traces',figure=baseFig), style={\"display\":\"inline-block\"}),\n",
    "    html.Div([\n",
    "       \"Trace ROIs:\",\n",
    "        dcc.Input(id=\"selected-indices\",\n",
    "            type=\"text\",\n",
    "            debounce=False,\n",
    "            size=60,\n",
    "            value=\"\",\n",
    "         ), \n",
    "    ],style={**bodyStyle,\"display\":\"inline-box\"}),\n",
    "    \n",
    "    html.Div([\n",
    "       \"hover ROI:\",\n",
    "        html.Pre(\n",
    "            id='hover-data',\n",
    "            style={\n",
    "                'border': 'thin lightgrey solid',\n",
    "                'overflowX': 'scroll',\n",
    "                'overflowY': 'scroll',\n",
    "                \"height\": \"100px\",\n",
    "                \"width\": \"200px\",\n",
    "                }\n",
    "        ),\n",
    "    ],style={**bodyStyle,\"display\":\"inline-box\"}),\n",
    "    \n",
    "    html.Div([\n",
    "        \"Selected Data:\",\n",
    "        html.Pre(id='selected-data',\n",
    "                 style={\n",
    "            'border': 'thin lightgrey solid',\n",
    "            'overflowX': 'scroll',\n",
    "            'overflowY': 'scroll',\n",
    "            \"height\": \"100px\",\n",
    "            \"width\": \"200px\",\n",
    "            }),\n",
    "        ],style={**bodyStyle,\"display\":\"inline-box\"}),\n",
    "    html.Div(\n",
    "        id=\"shown_rois\",\n",
    "        children=\"\", style={**outputStyle,\n",
    "                            \"width\":\"100px\",\n",
    "                            \"height\": \"30px\",\n",
    "                            'overflowX': 'scroll',\n",
    "                            'overflowY': 'scroll',},),\n",
    "    html.Div(\n",
    "        id=\"spare_out\",\n",
    "        children=\"\",\n",
    "        style={**outputStyle,\"width\":\"100px\"}\n",
    "    ),\n",
    "\n",
    "    ]\n",
    "\n",
    "if test: test=False"
   ]
  },
  {
   "cell_type": "code",
   "execution_count": 170,
   "metadata": {
    "ExecuteTime": {
     "end_time": "2020-02-20T14:20:03.748864Z",
     "start_time": "2020-02-20T14:20:03.734198Z"
    },
    "code_folding": [
     4
    ]
   },
   "outputs": [],
   "source": [
    "@app.callback(\n",
    "    Output(\"resample_feedback\", \"children\"),\n",
    "    [Input(\"resample_input\", \"value\")]\n",
    "             )\n",
    "def resample_callback(val):\n",
    "    try:\n",
    "        from Automatic import resample\n",
    "        if val == \"\":\n",
    "            feedback = \"\"\n",
    "        else:\n",
    "            global movie\n",
    "            movie = resample(movie,newFreq)\n",
    "            feedback = f\"Resampling finished. New frequency is {movie.fr:.4} Hz.\"\n",
    "            regions.update(movie)\n",
    "        return feedback\n",
    "    except:\n",
    "        return \"ERROR: \"+exc_info().__repr__()\n",
    "    "
   ]
  },
  {
   "cell_type": "code",
   "execution_count": 171,
   "metadata": {
    "ExecuteTime": {
     "end_time": "2020-02-20T14:20:03.770316Z",
     "start_time": "2020-02-20T14:20:03.750308Z"
    },
    "code_folding": [
     4
    ]
   },
   "outputs": [],
   "source": [
    "@app.callback([Output(\"npz_feedback\", \"children\"),\n",
    "               Output(\"gSig_filt_input\", \"value\")],\n",
    "              [Input(\"npz_filename\", \"value\")],\n",
    "              [State(\"check_movement_choice\",\"value\")])\n",
    "def loadMovie(val,mv):\n",
    "    if str(val)==\"\":\n",
    "        return ('Loading can take a some time [for very large files even minutes].',\"\")\n",
    "    try:\n",
    "        from pandas import read_csv\n",
    "        global npzFile, movie, metadata, cell_halfwidth_in_px, regions\n",
    "        npzFile = val\n",
    "        movie = import_npz_files([npzFile])\n",
    "        movie = movie.astype(\"float\")\n",
    "        if len(movie.shape)==2:        \n",
    "            movie = movie.reshape((1,-1))\n",
    "        movie = cmovie(movie)\n",
    "        timeframes = len(movie)\n",
    "        feedback = [\n",
    "            f\"{npzFile} loaded successfully.\",\n",
    "            html.Br(),\n",
    "            f\"The recording consists of {timeframes} frame(s).\"\n",
    "        ]\n",
    "        feedback += [ ]\n",
    "        try:\n",
    "            metadata = read_csv(npzFile.replace(\"npz\",\"txt\")).loc[0]\n",
    "            if not hasattr(metadata,\"freq\"):\n",
    "                metadata.freq = 1\n",
    "            movie.fr = metadata.freq\n",
    "            timeframes = metadata['T']\n",
    "            assert timeframes==len(movie)\n",
    "            freq = metadata.freq\n",
    "            pxsize = metadata.pxSize\n",
    "            feedback += [\n",
    "                f\"Info from metadata: frequency {freq:.4} Hz, and pixel size {pxsize:.3} µm.\",\n",
    "            html.Br(),\n",
    "            ]\n",
    "        except:\n",
    "            pxsize = 1\n",
    "            freq = 1\n",
    "            feedback += [\n",
    "                f\"WARNING: Missing medatada. Assuming the frequency of {freq:.4} Hz, and pixel size of {pxsize:.3} µm. I strongly suggest you set the spatial filter carefully.\",\n",
    "            html.Br(),\n",
    "            ]\n",
    "        cell_halfwidth_in_px = int(np.ceil(6./pxsize))\n",
    "        feedback += [\n",
    "            f\"Automatic size of the spatial filter based on pizel size: {cell_halfwidth_in_px} [you can change it below]\",\n",
    "            html.Br(),]\n",
    "        \n",
    "        # resample temporarily to lower frequency, to initiate ROIs and check for motion correction\n",
    "        if freq>3:\n",
    "            \n",
    "            freqMC = 3\n",
    "            n_rebin = int(movie.fr/freqMC)\n",
    "\n",
    "            rebinned_movie = rebin(movie,n_rebin).astype(\"float32\")\n",
    "            rebinned_movie = cmovie(rebinned_movie)\n",
    "            rebinned_movie.fr = movie.fr/n_rebin\n",
    "        else:\n",
    "            rebinned_movie = movie.astype(\"float32\")\n",
    "            feedback += [\n",
    "                \"(This is probably a lot higher frequency than you need, consider resampling to lower frequency, e.g. 5 Hz.)\",\n",
    "                html.Br(),\n",
    "                        ]\n",
    "        if len(mv):\n",
    "            rigidShifts = getRigidShifts(rebinned_movie, (cell_halfwidth_in_px,)*2)\n",
    "            maxshift = np.abs(rigidShifts).max()\n",
    "            if maxshift>cell_halfwidth_in_px/5:\n",
    "                feedback += [\n",
    "                    f\"It seems there is also some movement in the recording, at least {maxshift}px. You may want to first correct for that.\",\n",
    "                    html.Br(),\n",
    "                ]\n",
    "                \n",
    "        # initiate ROIs\n",
    "        regions = createRegions(rebinned_movie, cell_halfwidth_in_px, mode=\"diff_std\")\n",
    "        del regions.statImages[\"diff_mean\"]\n",
    "\n",
    "        regions.update(movie)\n",
    "\n",
    "        return (feedback, str(cell_halfwidth_in_px))\n",
    "    except:\n",
    "        return ([html.P(\"ERROR: \"+exc_info().__repr__())],\"None\")"
   ]
  },
  {
   "cell_type": "code",
   "execution_count": 172,
   "metadata": {
    "ExecuteTime": {
     "end_time": "2020-02-20T14:20:03.790303Z",
     "start_time": "2020-02-20T14:20:03.771804Z"
    },
    "code_folding": [
     3
    ]
   },
   "outputs": [],
   "source": [
    "@app.callback(\n",
    "    [Output(\"roi_feedback\", \"children\"), Output(\"images\", \"figure\"), Output(\"roi_choice\",\"value\")],\n",
    "    [Input(\"gSig_filt_input\", \"value\")])\n",
    "def recalcRois(val):\n",
    "    if val == \"\":\n",
    "        return (\"\",baseFig,\"\")\n",
    "    try:\n",
    "        global movie,regions\n",
    "        x = int(val)\n",
    "        if regions.filterSize != x:\n",
    "            regions = createRegions(movie, x)\n",
    "            # merge obvious ROIs\n",
    "            from Regions import getPeak2BoundaryDF, getGraph_of_ROIs_to_Merge, mergeBasedOnGraph\n",
    "            while True:\n",
    "                peak2bnd = getPeak2BoundaryDF(regions.df)\n",
    "                df = peak2bnd.query(\"dist<1.\")[[\"i\",\"j\"]]\n",
    "                if len(df)==0: break\n",
    "                gRois = getGraph_of_ROIs_to_Merge(df,regions,plot=False)\n",
    "                # plotRoi_to_be_connected(gRois,regions)\n",
    "                dropped = mergeBasedOnGraph(gRois,regions)\n",
    "                if dropped == 0: break\n",
    "\n",
    "            regions.purge_lones((cell_halfwidth_in_px*.5)**2)\n",
    "            feedback = [f\"Size of the spatial filter changed to {x}.\",html.Br()]\n",
    "        else:\n",
    "            feedback = [\"\"]\n",
    "        feedback += [f\" Number of detected ROIs: {len(regions.df)}\"]\n",
    "        return (feedback, plotStatsFig(regions),\"interest\")\n",
    "    except:\n",
    "        return (\"ERROR from recalcRois: \"+exc_info().__repr__(),go.Figure(),\"\")"
   ]
  },
  {
   "cell_type": "code",
   "execution_count": 173,
   "metadata": {
    "ExecuteTime": {
     "end_time": "2020-02-20T14:20:03.809698Z",
     "start_time": "2020-02-20T14:20:03.791443Z"
    },
    "code_folding": []
   },
   "outputs": [],
   "source": [
    "@app.callback(\n",
    "    [Output(\"shown_rois\", \"children\"),\n",
    "     Output(\"show_rois\", \"figure\"),\n",
    "    ],\n",
    "    [Input(\"roi_choice\", \"value\")],\n",
    "    [State(\"roi_choice_number\", \"value\")],)\n",
    "def parseRoiChoices_callback(roi_mode,roi_number):\n",
    "    try:\n",
    "        if roi_mode==\"\":\n",
    "            return \"\", baseFig\n",
    "        else:\n",
    "            global regions\n",
    "            ix = parseRoiChoices(regions, roi_mode,roi_number)\n",
    "            feedback = \", \".join(ix.astype(str))\n",
    "            trfig = showRoisOnly(regions,indices=ix, im=regions.statImages[\"diff_std\"])\n",
    "            trfig.update_layout({\n",
    "                \"height\":360,\n",
    "                \"width\":320,\n",
    "                \"margin\":dict(l=10, r=10, t=50, b=50),\n",
    "                \"paper_bgcolor\":\"white\",\n",
    "            })\n",
    "            return feedback,trfig\n",
    "    except:\n",
    "        return (\"ERROR from parseRoiChoices_callback: \"+exc_info().__repr__(), baseFig)"
   ]
  },
  {
   "cell_type": "code",
   "execution_count": 174,
   "metadata": {
    "ExecuteTime": {
     "end_time": "2020-02-20T14:20:03.851382Z",
     "start_time": "2020-02-20T14:20:03.810810Z"
    },
    "code_folding": []
   },
   "outputs": [],
   "source": [
    "@app.callback(\n",
    "    [Output('selected-data', 'children'),\n",
    "     Output('selected-indices', 'value')],\n",
    "    [Input('show_rois', 'selectedData'),\n",
    "     Input(\"roi_choice\", \"value\")],\n",
    "    [State(\"roi_choice_number\", \"value\"),]\n",
    ")\n",
    "def display_selected_data(selectedData,roi_mode,roi_number):\n",
    "    try:\n",
    "        if selectedData is None:\n",
    "            selectedData = {\"points\":[]}\n",
    "        import json\n",
    "        chosen = np.unique([p[\"hovertext\"] for p in selectedData[\"points\"]])\n",
    "        if len(chosen) ==0:\n",
    "            chosen = parseRoiChoices(regions, roi_mode,roi_number).astype(str)\n",
    "        return json.dumps(selectedData, indent=2) , \", \".join(chosen)\n",
    "    except:\n",
    "        return \"ERROR from display_selected_data: \"+exc_info().__repr__() , \"\""
   ]
  },
  {
   "cell_type": "code",
   "execution_count": 175,
   "metadata": {
    "ExecuteTime": {
     "end_time": "2020-02-20T14:20:03.871591Z",
     "start_time": "2020-02-20T14:20:03.852630Z"
    }
   },
   "outputs": [],
   "source": [
    "# @app.callback(\n",
    "#     Output('hover-data', 'children'),\n",
    "#     [Input('show_rois', 'hoverData'),]\n",
    "# )\n",
    "# def display_hover_data(hoverData):\n",
    "#     try:\n",
    "#         if hoverData is None:\n",
    "#             hoverData = {\"points\":[]}\n",
    "#         import json\n",
    "#         chosen = np.unique([p[\"hovertext\"] for p in hoverData[\"points\"]])\n",
    "#         return json.dumps(hoverData, indent=2)\n",
    "#     except:\n",
    "#         return \"ERROR from display_hover_data: \"+exc_info().__repr__() "
   ]
  },
  {
   "cell_type": "code",
   "execution_count": 176,
   "metadata": {
    "ExecuteTime": {
     "end_time": "2020-02-20T14:20:03.891237Z",
     "start_time": "2020-02-20T14:20:03.872822Z"
    }
   },
   "outputs": [],
   "source": [
    "@app.callback(\n",
    "     [Output(\"show_raw_traces\", \"figure\"),Output(\"spare_out\", \"children\")],\n",
    "    [Input(\"show_rois\", \"hoverData\")],\n",
    "    [State(\"show_freq_input\", \"value\")])\n",
    "def plotHovered(hoverData, showFreq):\n",
    "    try:\n",
    "        global regions\n",
    "        if not hasattr(regions,\"time\"):\n",
    "            regions.calcTraces(movie)\n",
    "        showFreq = float(showFreq)\n",
    "        n_Avg = int(regions.movie.fr/showFreq)\n",
    "        \n",
    "        try:\n",
    "            ix = [int(hoverData[\"points\"][0][\"hovertext\"])]\n",
    "            trfig = plotRawTraces(regions,indices=ix,nAvg=n_Avg)\n",
    "\n",
    "            \n",
    "            trfig.update_layout({\n",
    "#                 \"height\":360,\n",
    "#                 \"width\":320,\n",
    "#                 \"margin\":dict(l=10, r=10, t=50, b=50),\n",
    "                \"paper_bgcolor\":\"white\",\n",
    "            })\n",
    "            return trfig,\"ok\"\n",
    "        except:\n",
    "            return baseFig,\"nothing yet\"\n",
    "    except:\n",
    "        return baseFig, \"ERROR from plotHovered: \"+exc_info().__repr__() "
   ]
  },
  {
   "cell_type": "code",
   "execution_count": 177,
   "metadata": {
    "ExecuteTime": {
     "end_time": "2020-02-20T14:20:03.905666Z",
     "start_time": "2020-02-20T14:20:03.893019Z"
    },
    "code_folding": []
   },
   "outputs": [],
   "source": [
    "# @app.callback(\n",
    "#      [Output(\"show_raw_traces\", \"figure\"),Output(\"spare_out\", \"children\")],\n",
    "#     [Input(\"selected-indices\", \"value\")],\n",
    "#     [State(\"show_freq_input\", \"value\"),\n",
    "#     ],)\n",
    "# def plotRawTraces_callback(chosen, showFreq):\n",
    "#     try:\n",
    "#         global regions\n",
    "#         if not hasattr(regions,\"time\"):\n",
    "#             regions.calcTraces(movie)\n",
    "#         showFreq = float(showFreq)\n",
    "#         n_Avg = int(regions.movie.fr/showFreq)\n",
    "#         try:\n",
    "#             ix = np.array(chosen.strip(\" ,\").split(\",\"))\n",
    "#             ix = ix.astype(int)\n",
    "#             trfig = plotRawTraces(regions,indices=ix,nAvg=n_Avg)\n",
    "# #             trfig.update_layout({\"width\":200})\n",
    "#             return trfig,\"ok\"\n",
    "#         except:\n",
    "#             return baseFig,\"nothing yet\"\n",
    "#     except:\n",
    "#         return baseFig, \"ERROR: \"+exc_info().__repr__() "
   ]
  },
  {
   "cell_type": "code",
   "execution_count": 178,
   "metadata": {
    "ExecuteTime": {
     "end_time": "2020-02-20T14:20:03.947822Z",
     "start_time": "2020-02-20T14:20:03.907001Z"
    },
    "code_folding": []
   },
   "outputs": [
    {
     "data": {
      "text/html": [
       "click to start: <a href=\"https://ctn.physiologie.meduniwien.ac.at/user/srdjan/app/endpoints/f22bc927fbc745febb33e1380c52d7e8/\">https://ctn.physiologie.meduniwien.ac.at/user/srdjan/app/endpoints/f22bc927fbc745febb33e1380c52d7e8/</a>"
      ],
      "text/plain": [
       "<IPython.core.display.HTML object>"
      ]
     },
     "execution_count": 178,
     "metadata": {},
     "output_type": "execute_result"
    }
   ],
   "source": [
    "app.layout = html.Div(children=APP_LAYOUT)\n",
    "app._repr_html_() \n",
    "link2app = \"https://ctn.physiologie.meduniwien.ac.at\"+app.get_app_root_url()\n",
    "HTML(f'click to start: <a href=\"{link2app}\">{link2app}</a>')"
   ]
  },
  {
   "cell_type": "code",
   "execution_count": 114,
   "metadata": {
    "ExecuteTime": {
     "end_time": "2020-02-20T13:51:55.164750Z",
     "start_time": "2020-02-20T13:51:55.147497Z"
    },
    "code_folding": []
   },
   "outputs": [
    {
     "data": {
      "text/html": [
       "<div>\n",
       "  <iframe src=\"/user/srdjan/app/endpoints/9e58a7bce1604a5d85b71f0b9fead401/\" width=800 height=600 frameborder=\"0\"></iframe>\n",
       "  <hr/><a href=\"/user/srdjan/app/endpoints/9e58a7bce1604a5d85b71f0b9fead401/\" target=\"_new\">Open in new window</a> for /user/srdjan/app/endpoints/9e58a7bce1604a5d85b71f0b9fead401/\n",
       "</div>"
      ],
      "text/plain": [
       "<jupyter_plotly_dash.dash_wrapper.JupyterDash at 0x7f053cdbddd0>"
      ]
     },
     "execution_count": 114,
     "metadata": {},
     "output_type": "execute_result"
    }
   ],
   "source": [
    "# app.layout = html.Div(children=APP_LAYOUT)\n",
    "# app"
   ]
  },
  {
   "cell_type": "code",
   "execution_count": 19,
   "metadata": {
    "ExecuteTime": {
     "end_time": "2020-02-19T14:09:42.305740Z",
     "start_time": "2020-02-19T14:09:42.206910Z"
    }
   },
   "outputs": [],
   "source": [
    "# plotStatsFig(regions)"
   ]
  },
  {
   "cell_type": "code",
   "execution_count": 150,
   "metadata": {
    "ExecuteTime": {
     "end_time": "2020-02-20T14:08:46.489475Z",
     "start_time": "2020-02-20T14:08:46.327860Z"
    }
   },
   "outputs": [
    {
     "name": "stdout",
     "output_type": "stream",
     "text": [
      "Initialized with 9 rois.\n",
      "Dropped 1 as too weak. Left with 8.\n"
     ]
    }
   ],
   "source": [
    "rr = createRegions(movie[:,:10,:20],cell_halfwidth_in_px)"
   ]
  },
  {
   "cell_type": "code",
   "execution_count": 168,
   "metadata": {
    "ExecuteTime": {
     "end_time": "2020-02-20T14:19:49.810182Z",
     "start_time": "2020-02-20T14:19:49.806577Z"
    }
   },
   "outputs": [],
   "source": [
    "# showRoisOnly(rr, im=rr.statImages[\"mean\"])"
   ]
  },
  {
   "cell_type": "code",
   "execution_count": 154,
   "metadata": {
    "ExecuteTime": {
     "end_time": "2020-02-20T14:11:12.916765Z",
     "start_time": "2020-02-20T14:11:12.912305Z"
    }
   },
   "outputs": [
    {
     "data": {
      "text/plain": [
       "(10, 20)"
      ]
     },
     "execution_count": 154,
     "metadata": {},
     "output_type": "execute_result"
    }
   ],
   "source": [
    "rr.image.shape"
   ]
  },
  {
   "cell_type": "code",
   "execution_count": 146,
   "metadata": {
    "ExecuteTime": {
     "end_time": "2020-02-20T14:07:17.411917Z",
     "start_time": "2020-02-20T14:07:17.405031Z"
    }
   },
   "outputs": [
    {
     "data": {
      "text/plain": [
       "0    [(-0.5, 2.5), (0.5, 2.5), (1.5, 2.5), (1.5, 3....\n",
       "Name: boundary, dtype: object"
      ]
     },
     "execution_count": 146,
     "metadata": {},
     "output_type": "execute_result"
    }
   ],
   "source": [
    "rr.df[\"boundary\"]"
   ]
  },
  {
   "cell_type": "code",
   "execution_count": null,
   "metadata": {},
   "outputs": [],
   "source": []
  },
  {
   "cell_type": "code",
   "execution_count": null,
   "metadata": {},
   "outputs": [],
   "source": []
  },
  {
   "cell_type": "code",
   "execution_count": null,
   "metadata": {},
   "outputs": [],
   "source": []
  },
  {
   "cell_type": "code",
   "execution_count": 30,
   "metadata": {
    "ExecuteTime": {
     "end_time": "2020-02-19T14:11:16.273501Z",
     "start_time": "2020-02-19T14:11:16.269947Z"
    }
   },
   "outputs": [],
   "source": [
    "from Regions import getPeak2BoundaryDF, getGraph_of_ROIs_to_Merge, plotRoi_to_be_connected, mergeBasedOnGraph"
   ]
  },
  {
   "cell_type": "code",
   "execution_count": 40,
   "metadata": {
    "ExecuteTime": {
     "end_time": "2020-02-19T14:11:52.047150Z",
     "start_time": "2020-02-19T14:11:51.951972Z"
    }
   },
   "outputs": [],
   "source": [
    "peak2bnd = getPeak2BoundaryDF(regions.df)"
   ]
  },
  {
   "cell_type": "code",
   "execution_count": 42,
   "metadata": {
    "ExecuteTime": {
     "end_time": "2020-02-19T14:12:01.508209Z",
     "start_time": "2020-02-19T14:12:01.501116Z"
    }
   },
   "outputs": [
    {
     "data": {
      "text/plain": [
       "0"
      ]
     },
     "execution_count": 42,
     "metadata": {},
     "output_type": "execute_result"
    }
   ],
   "source": [
    "df = peak2bnd.query(\"dist<1.\")[[\"i\",\"j\"]]\n",
    "len(df)"
   ]
  },
  {
   "cell_type": "code",
   "execution_count": 35,
   "metadata": {
    "ExecuteTime": {
     "end_time": "2020-02-19T14:11:43.177065Z",
     "start_time": "2020-02-19T14:11:43.173972Z"
    }
   },
   "outputs": [],
   "source": [
    "#         if len(df)==0: break"
   ]
  },
  {
   "cell_type": "code",
   "execution_count": 36,
   "metadata": {
    "ExecuteTime": {
     "end_time": "2020-02-19T14:11:43.551285Z",
     "start_time": "2020-02-19T14:11:43.541512Z"
    }
   },
   "outputs": [],
   "source": [
    "gRois = getGraph_of_ROIs_to_Merge(df,regions,plot=False)"
   ]
  },
  {
   "cell_type": "code",
   "execution_count": 37,
   "metadata": {
    "ExecuteTime": {
     "end_time": "2020-02-19T14:11:44.869146Z",
     "start_time": "2020-02-19T14:11:44.375030Z"
    }
   },
   "outputs": [
    {
     "data": {
      "image/png": "[encoded data removed]",
      "text/plain": [
       "<Figure size 1008x144 with 3 Axes>"
      ]
     },
     "metadata": {},
     "output_type": "display_data"
    }
   ],
   "source": [
    "plotRoi_to_be_connected(gRois,regions)"
   ]
  },
  {
   "cell_type": "code",
   "execution_count": 38,
   "metadata": {
    "ExecuteTime": {
     "end_time": "2020-02-19T14:11:48.618331Z",
     "start_time": "2020-02-19T14:11:47.636565Z"
    }
   },
   "outputs": [
    {
     "name": "stdout",
     "output_type": "stream",
     "text": [
      "3 subsumed into existing ROIs.\n"
     ]
    }
   ],
   "source": [
    "dropped = mergeBasedOnGraph(gRois,regions)"
   ]
  },
  {
   "cell_type": "code",
   "execution_count": 39,
   "metadata": {
    "ExecuteTime": {
     "end_time": "2020-02-19T14:11:49.504434Z",
     "start_time": "2020-02-19T14:11:49.500271Z"
    }
   },
   "outputs": [
    {
     "data": {
      "text/plain": [
       "3"
      ]
     },
     "execution_count": 39,
     "metadata": {},
     "output_type": "execute_result"
    }
   ],
   "source": [
    "dropped"
   ]
  },
  {
   "cell_type": "code",
   "execution_count": null,
   "metadata": {},
   "outputs": [],
   "source": [
    "        if dropped == 0: break"
   ]
  },
  {
   "cell_type": "code",
   "execution_count": 65,
   "metadata": {
    "ExecuteTime": {
     "end_time": "2020-02-19T14:21:45.294466Z",
     "start_time": "2020-02-19T14:21:45.290716Z"
    }
   },
   "outputs": [],
   "source": [
    "import pandas as pd"
   ]
  },
  {
   "cell_type": "code",
   "execution_count": 66,
   "metadata": {
    "ExecuteTime": {
     "end_time": "2020-02-19T14:21:47.016316Z",
     "start_time": "2020-02-19T14:21:46.723635Z"
    }
   },
   "outputs": [],
   "source": [
    "NNstats = pd.DataFrame(columns=[\"i\",\"j\"])\n",
    "C = regions.df\n",
    "for i in C.index:\n",
    "    for j in C.neighbors[i]:\n",
    "        larger = C.loc[j,\"peakValue\"]\n",
    "        smaller = C.loc[i,\"peakValue\"]\n",
    "        if smaller>larger: continue\n",
    "        pks = np.vstack(C.loc[[i,j],\"peak\"])\n",
    "        means  = np.array([np.mean(px,axis=0) for px in C.loc[[i,j],\"pixels\"]])\n",
    "        dmeans = np.sum(np.diff(means)**2)**.5\n",
    "        dpks   = np.sum(np.diff(pks)**2)**.5\n",
    "        NNstats = NNstats.append({k:eval(k) for k in [\"i\",\"j\",\"dmeans\",\"dpks\"]},ignore_index=True)\n",
    "\n",
    "NNstats[\"i\"] = NNstats[\"i\"].astype(int)\n",
    "NNstats[\"j\"] = NNstats[\"j\"].astype(int)\n",
    "NNstats.sort_values([\"i\",\"dpks\"], inplace=True)\n",
    "NNstats[\"pk2mn\"] = NNstats[\"dpks\"]/NNstats[\"dmeans\"]"
   ]
  },
  {
   "cell_type": "code",
   "execution_count": 67,
   "metadata": {
    "ExecuteTime": {
     "end_time": "2020-02-19T14:21:52.608996Z",
     "start_time": "2020-02-19T14:21:52.603027Z"
    }
   },
   "outputs": [],
   "source": [
    "ii = NNstats.query(\"pk2mn<.5\").index"
   ]
  },
  {
   "cell_type": "code",
   "execution_count": 70,
   "metadata": {
    "ExecuteTime": {
     "end_time": "2020-02-19T14:22:23.418105Z",
     "start_time": "2020-02-19T14:22:23.414692Z"
    }
   },
   "outputs": [],
   "source": [
    "import networkx as nx"
   ]
  },
  {
   "cell_type": "code",
   "execution_count": 71,
   "metadata": {
    "ExecuteTime": {
     "end_time": "2020-02-19T14:22:24.355558Z",
     "start_time": "2020-02-19T14:22:23.633648Z"
    }
   },
   "outputs": [
    {
     "name": "stdout",
     "output_type": "stream",
     "text": [
      "1 subsumed into existing ROIs.\n"
     ]
    },
    {
     "data": {
      "image/png": "[encoded data removed]",
      "text/plain": [
       "<Figure size 432x288 with 1 Axes>"
      ]
     },
     "metadata": {
      "needs_background": "light"
     },
     "output_type": "display_data"
    }
   ],
   "source": [
    "ii = NNstats.query(\"pk2mn<.5\").index\n",
    "if len(ii):\n",
    "    gRois = nx.DiGraph()\n",
    "    for i in ii:\n",
    "        gRois.add_edge(*NNstats.loc[i,[\"i\",\"j\"]].astype(int))\n",
    "    ixs = np.unique( NNstats.loc[ii,[\"i\",\"j\"]].values)\n",
    "    ax = plt.subplot(111)\n",
    "    regions.plotEdges(ix = ixs, image=False,ax=ax)\n",
    "    xl = plt.xlim()\n",
    "    yl = plt.ylim()\n",
    "    regions.plotPeaks(ix = ixs, image=True,ms=.1,ax=ax,\n",
    "                      imkw_args={\"cmap\":\"Greys\",\"vmin\":0}\n",
    "                     )\n",
    "    plt.ylim(yl)\n",
    "    plt.xlim(xl)\n",
    "\n",
    "    mergeBasedOnGraph(gRois.to_directed(),regions)"
   ]
  },
  {
   "cell_type": "code",
   "execution_count": 91,
   "metadata": {
    "ExecuteTime": {
     "end_time": "2020-02-19T14:28:47.710182Z",
     "start_time": "2020-02-19T14:28:47.703317Z"
    }
   },
   "outputs": [],
   "source": [
    "ii = C.query(f\"size<{(cell_halfwidth_in_px*.8)**2} and Nneighbors==0\").index"
   ]
  },
  {
   "cell_type": "code",
   "execution_count": 92,
   "metadata": {
    "ExecuteTime": {
     "end_time": "2020-02-19T14:28:48.062514Z",
     "start_time": "2020-02-19T14:28:48.057757Z"
    }
   },
   "outputs": [],
   "source": [
    "C.drop(index=ii,inplace=True)"
   ]
  },
  {
   "cell_type": "code",
   "execution_count": 93,
   "metadata": {
    "ExecuteTime": {
     "end_time": "2020-02-19T14:28:49.078668Z",
     "start_time": "2020-02-19T14:28:48.492445Z"
    }
   },
   "outputs": [],
   "source": [
    "regions.update()"
   ]
  },
  {
   "cell_type": "code",
   "execution_count": 88,
   "metadata": {
    "ExecuteTime": {
     "end_time": "2020-02-19T14:27:24.206897Z",
     "start_time": "2020-02-19T14:27:23.845583Z"
    }
   },
   "outputs": [
    {
     "data": {
      "application/vnd.plotly.v1+json": {
       "config": {
        "plotlyServerURL": "https://plot.ly"
       },
       "data": [
        {
         "hoverinfo": "text",
         "hovertext": [
          "69",
          "69",
          "69",
          "69",
          "69",
          "69",
          "69",
          "69",
          "69",
          "69",
          "69",
          "69",
          "69",
          "69",
          "69",
          "69"
         ],
         "line": {
          "color": "rgb(23, 190, 207)",
          "width": 1
         },
         "mode": "lines",
         "name": "69",
         "showlegend": false,
         "type": "scatter",
         "x": [
          95.5,
          96.5,
          96.5,
          97.5,
          97.5,
          96.5,
          96.5,
          95.5,
          95.5,
          94.5,
          94.5,
          95.5,
          95.5,
          95.5,
          95.5,
          95.5
         ],
         "y": [
          61.5,
          61.5,
          62.5,
          62.5,
          63.5,
          63.5,
          64.5,
          64.5,
          63.5,
          63.5,
          62.5,
          62.5,
          61.5,
          61.5,
          61.5,
          61.5
         ]
        },
        {
         "hoverinfo": "text",
         "hovertext": [
          "69",
          "69",
          "69",
          "69",
          "69"
         ],
         "marker": {
          "color": "rgb(23, 190, 207)"
         },
         "mode": "markers",
         "name": "69",
         "opacity": 0,
         "showlegend": false,
         "type": "scatter",
         "x": [
          96,
          95,
          96,
          97,
          96
         ],
         "y": [
          62,
          63,
          63,
          63,
          64
         ]
        },
        {
         "hoverinfo": "text",
         "hovertext": [
          "131",
          "131",
          "131",
          "131",
          "131",
          "131",
          "131",
          "131",
          "131",
          "131",
          "131",
          "131",
          "131",
          "131"
         ],
         "line": {
          "color": "rgb(255, 127, 14)",
          "width": 1
         },
         "mode": "lines",
         "name": "131",
         "showlegend": false,
         "type": "scatter",
         "x": [
          76.5,
          77.5,
          78.5,
          78.5,
          79.5,
          79.5,
          78.5,
          77.5,
          76.5,
          76.5,
          76.5,
          76.5,
          76.5,
          76.5
         ],
         "y": [
          20.5,
          20.5,
          20.5,
          21.5,
          21.5,
          22.5,
          22.5,
          22.5,
          22.5,
          21.5,
          20.5,
          20.5,
          20.5,
          20.5
         ]
        },
        {
         "hoverinfo": "text",
         "hovertext": [
          "131",
          "131",
          "131",
          "131",
          "131"
         ],
         "marker": {
          "color": "rgb(255, 127, 14)"
         },
         "mode": "markers",
         "name": "131",
         "opacity": 0,
         "showlegend": false,
         "type": "scatter",
         "x": [
          77,
          78,
          77,
          78,
          79
         ],
         "y": [
          21,
          21,
          22,
          22,
          22
         ]
        },
        {
         "hoverinfo": "text",
         "hovertext": [
          "182",
          "182",
          "182",
          "182",
          "182",
          "182",
          "182",
          "182",
          "182",
          "182",
          "182",
          "182",
          "182",
          "182",
          "182",
          "182"
         ],
         "line": {
          "color": "rgb(44, 160, 44)",
          "width": 1
         },
         "mode": "lines",
         "name": "182",
         "showlegend": false,
         "type": "scatter",
         "x": [
          115.5,
          116.5,
          116.5,
          117.5,
          117.5,
          116.5,
          116.5,
          115.5,
          114.5,
          114.5,
          115.5,
          115.5,
          115.5,
          115.5,
          115.5,
          115.5
         ],
         "y": [
          61.5,
          61.5,
          62.5,
          62.5,
          63.5,
          63.5,
          64.5,
          64.5,
          64.5,
          63.5,
          63.5,
          62.5,
          61.5,
          61.5,
          61.5,
          61.5
         ]
        },
        {
         "hoverinfo": "text",
         "hovertext": [
          "182",
          "182",
          "182",
          "182",
          "182"
         ],
         "marker": {
          "color": "rgb(44, 160, 44)"
         },
         "mode": "markers",
         "name": "182",
         "opacity": 0,
         "showlegend": false,
         "type": "scatter",
         "x": [
          116,
          116,
          117,
          115,
          116
         ],
         "y": [
          62,
          63,
          63,
          64,
          64
         ]
        },
        {
         "hoverinfo": "text",
         "hovertext": [
          "212",
          "212",
          "212",
          "212",
          "212",
          "212",
          "212",
          "212",
          "212",
          "212",
          "212",
          "212",
          "212",
          "212"
         ],
         "line": {
          "color": "rgb(44, 160, 44)",
          "width": 1
         },
         "mode": "lines",
         "name": "212",
         "showlegend": false,
         "type": "scatter",
         "x": [
          29.5,
          30.5,
          31.5,
          32.5,
          32.5,
          32.5,
          31.5,
          30.5,
          30.5,
          29.5,
          29.5,
          29.5,
          29.5,
          29.5
         ],
         "y": [
          108.5,
          108.5,
          108.5,
          108.5,
          109.5,
          110.5,
          110.5,
          110.5,
          109.5,
          109.5,
          108.5,
          108.5,
          108.5,
          108.5
         ]
        },
        {
         "hoverinfo": "text",
         "hovertext": [
          "212",
          "212",
          "212",
          "212",
          "212"
         ],
         "marker": {
          "color": "rgb(44, 160, 44)"
         },
         "mode": "markers",
         "name": "212",
         "opacity": 0,
         "showlegend": false,
         "type": "scatter",
         "x": [
          30,
          31,
          32,
          31,
          32
         ],
         "y": [
          109,
          109,
          109,
          110,
          110
         ]
        },
        {
         "hoverinfo": "text",
         "hovertext": [
          "265",
          "265",
          "265",
          "265",
          "265",
          "265",
          "265",
          "265",
          "265",
          "265",
          "265",
          "265",
          "265",
          "265",
          "265",
          "265"
         ],
         "line": {
          "color": "rgb(140, 86, 75)",
          "width": 1
         },
         "mode": "lines",
         "name": "265",
         "showlegend": false,
         "type": "scatter",
         "x": [
          20.5,
          21.5,
          21.5,
          21.5,
          21.5,
          20.5,
          20.5,
          19.5,
          19.5,
          19.5,
          20.5,
          20.5,
          20.5,
          20.5,
          20.5,
          20.5
         ],
         "y": [
          109.5,
          109.5,
          110.5,
          111.5,
          112.5,
          112.5,
          113.5,
          113.5,
          112.5,
          111.5,
          111.5,
          110.5,
          109.5,
          109.5,
          109.5,
          109.5
         ]
        },
        {
         "hoverinfo": "text",
         "hovertext": [
          "265",
          "265",
          "265",
          "265",
          "265"
         ],
         "marker": {
          "color": "rgb(140, 86, 75)"
         },
         "mode": "markers",
         "name": "265",
         "opacity": 0,
         "showlegend": false,
         "type": "scatter",
         "x": [
          21,
          21,
          20,
          21,
          20
         ],
         "y": [
          110,
          111,
          112,
          112,
          113
         ]
        },
        {
         "hoverinfo": "text",
         "hovertext": [
          "267",
          "267",
          "267",
          "267",
          "267",
          "267",
          "267",
          "267",
          "267",
          "267",
          "267",
          "267",
          "267",
          "267"
         ],
         "line": {
          "color": "darkgoldenrod",
          "width": 1
         },
         "mode": "lines",
         "name": "267",
         "showlegend": false,
         "type": "scatter",
         "x": [
          61.5,
          62.5,
          63.5,
          64.5,
          64.5,
          63.5,
          63.5,
          62.5,
          61.5,
          61.5,
          61.5,
          61.5,
          61.5,
          61.5
         ],
         "y": [
          -0.5,
          -0.5,
          -0.5,
          -0.5,
          0.5,
          0.5,
          1.5,
          1.5,
          1.5,
          0.5,
          -0.5,
          -0.5,
          -0.5,
          -0.5
         ]
        },
        {
         "hoverinfo": "text",
         "hovertext": [
          "267",
          "267",
          "267",
          "267",
          "267"
         ],
         "marker": {
          "color": "darkgoldenrod"
         },
         "mode": "markers",
         "name": "267",
         "opacity": 0,
         "showlegend": false,
         "type": "scatter",
         "x": [
          62,
          63,
          64,
          62,
          63
         ],
         "y": [
          0,
          0,
          0,
          1,
          1
         ]
        },
        {
         "hoverinfo": "text",
         "hovertext": [
          "278",
          "278",
          "278",
          "278",
          "278",
          "278",
          "278",
          "278",
          "278",
          "278",
          "278",
          "278",
          "278",
          "278",
          "278",
          "278"
         ],
         "line": {
          "color": "rgb(188, 189, 34)",
          "width": 1
         },
         "mode": "lines",
         "name": "278",
         "showlegend": false,
         "type": "scatter",
         "x": [
          13.5,
          14.5,
          14.5,
          15.5,
          15.5,
          14.5,
          14.5,
          13.5,
          13.5,
          12.5,
          12.5,
          13.5,
          13.5,
          13.5,
          13.5,
          13.5
         ],
         "y": [
          20.5,
          20.5,
          21.5,
          21.5,
          22.5,
          22.5,
          23.5,
          23.5,
          22.5,
          22.5,
          21.5,
          21.5,
          20.5,
          20.5,
          20.5,
          20.5
         ]
        },
        {
         "hoverinfo": "text",
         "hovertext": [
          "278",
          "278",
          "278",
          "278",
          "278"
         ],
         "marker": {
          "color": "rgb(188, 189, 34)"
         },
         "mode": "markers",
         "name": "278",
         "opacity": 0,
         "showlegend": false,
         "type": "scatter",
         "x": [
          14,
          13,
          14,
          15,
          14
         ],
         "y": [
          21,
          22,
          22,
          22,
          23
         ]
        },
        {
         "hoverinfo": "text",
         "hovertext": [
          "296",
          "296",
          "296",
          "296",
          "296",
          "296",
          "296",
          "296",
          "296",
          "296",
          "296",
          "296",
          "296",
          "296",
          "296",
          "296"
         ],
         "line": {
          "color": "rgb(227, 119, 194)",
          "width": 1
         },
         "mode": "lines",
         "name": "296",
         "showlegend": false,
         "type": "scatter",
         "x": [
          8.5,
          9.5,
          9.5,
          10.5,
          10.5,
          9.5,
          9.5,
          8.5,
          8.5,
          7.5,
          7.5,
          8.5,
          8.5,
          8.5,
          8.5,
          8.5
         ],
         "y": [
          101.5,
          101.5,
          102.5,
          102.5,
          103.5,
          103.5,
          104.5,
          104.5,
          103.5,
          103.5,
          102.5,
          102.5,
          101.5,
          101.5,
          101.5,
          101.5
         ]
        },
        {
         "hoverinfo": "text",
         "hovertext": [
          "296",
          "296",
          "296",
          "296",
          "296"
         ],
         "marker": {
          "color": "rgb(227, 119, 194)"
         },
         "mode": "markers",
         "name": "296",
         "opacity": 0,
         "showlegend": false,
         "type": "scatter",
         "x": [
          9,
          8,
          9,
          10,
          9
         ],
         "y": [
          102,
          103,
          103,
          103,
          104
         ]
        },
        {
         "hoverinfo": "text",
         "hovertext": [
          "304",
          "304",
          "304",
          "304",
          "304",
          "304",
          "304",
          "304",
          "304",
          "304",
          "304",
          "304",
          "304",
          "304",
          "304",
          "304"
         ],
         "line": {
          "color": "rgb(148, 103, 189)",
          "width": 1
         },
         "mode": "lines",
         "name": "304",
         "showlegend": false,
         "type": "scatter",
         "x": [
          126.5,
          127.5,
          127.5,
          127.5,
          127.5,
          127.5,
          127.5,
          126.5,
          126.5,
          126.5,
          126.5,
          126.5,
          126.5,
          126.5,
          126.5,
          126.5
         ],
         "y": [
          32.5,
          32.5,
          33.5,
          34.5,
          35.5,
          36.5,
          37.5,
          37.5,
          36.5,
          35.5,
          34.5,
          33.5,
          32.5,
          32.5,
          32.5,
          32.5
         ]
        },
        {
         "hoverinfo": "text",
         "hovertext": [
          "304",
          "304",
          "304",
          "304",
          "304"
         ],
         "marker": {
          "color": "rgb(148, 103, 189)"
         },
         "mode": "markers",
         "name": "304",
         "opacity": 0,
         "showlegend": false,
         "type": "scatter",
         "x": [
          127,
          127,
          127,
          127,
          127
         ],
         "y": [
          33,
          34,
          35,
          36,
          37
         ]
        },
        {
         "hoverinfo": "text",
         "hovertext": [
          "312",
          "312",
          "312",
          "312",
          "312",
          "312",
          "312",
          "312",
          "312",
          "312",
          "312",
          "312",
          "312",
          "312",
          "312",
          "312"
         ],
         "line": {
          "color": "rgb(44, 160, 44)",
          "width": 1
         },
         "mode": "lines",
         "name": "312",
         "showlegend": false,
         "type": "scatter",
         "x": [
          -0.5,
          0.5,
          0.5,
          1.5,
          2.5,
          2.5,
          1.5,
          0.5,
          0.5,
          -0.5,
          -0.5,
          -0.5,
          -0.5,
          -0.5,
          -0.5,
          -0.5
         ],
         "y": [
          33.5,
          33.5,
          34.5,
          34.5,
          34.5,
          35.5,
          35.5,
          35.5,
          36.5,
          36.5,
          35.5,
          34.5,
          33.5,
          33.5,
          33.5,
          33.5
         ]
        },
        {
         "hoverinfo": "text",
         "hovertext": [
          "312",
          "312",
          "312",
          "312",
          "312"
         ],
         "marker": {
          "color": "rgb(44, 160, 44)"
         },
         "mode": "markers",
         "name": "312",
         "opacity": 0,
         "showlegend": false,
         "type": "scatter",
         "x": [
          0,
          0,
          1,
          2,
          0
         ],
         "y": [
          34,
          35,
          35,
          35,
          36
         ]
        },
        {
         "hoverinfo": "text",
         "hovertext": [
          "324",
          "324",
          "324",
          "324",
          "324",
          "324",
          "324",
          "324",
          "324",
          "324",
          "324",
          "324",
          "324",
          "324"
         ],
         "line": {
          "color": "rgb(148, 103, 189)",
          "width": 1
         },
         "mode": "lines",
         "name": "324",
         "showlegend": false,
         "type": "scatter",
         "x": [
          125.5,
          126.5,
          127.5,
          127.5,
          127.5,
          127.5,
          126.5,
          126.5,
          125.5,
          125.5,
          125.5,
          125.5,
          125.5,
          125.5
         ],
         "y": [
          100.5,
          100.5,
          100.5,
          101.5,
          102.5,
          103.5,
          103.5,
          102.5,
          102.5,
          101.5,
          100.5,
          100.5,
          100.5,
          100.5
         ]
        },
        {
         "hoverinfo": "text",
         "hovertext": [
          "324",
          "324",
          "324",
          "324",
          "324"
         ],
         "marker": {
          "color": "rgb(148, 103, 189)"
         },
         "mode": "markers",
         "name": "324",
         "opacity": 0,
         "showlegend": false,
         "type": "scatter",
         "x": [
          126,
          127,
          126,
          127,
          127
         ],
         "y": [
          101,
          101,
          102,
          102,
          103
         ]
        },
        {
         "hoverinfo": "text",
         "hovertext": [
          "332",
          "332",
          "332",
          "332",
          "332",
          "332",
          "332",
          "332",
          "332",
          "332",
          "332",
          "332",
          "332",
          "332"
         ],
         "line": {
          "color": "rgb(44, 160, 44)",
          "width": 1
         },
         "mode": "lines",
         "name": "332",
         "showlegend": false,
         "type": "scatter",
         "x": [
          -0.5,
          0.5,
          0.5,
          1.5,
          1.5,
          1.5,
          0.5,
          -0.5,
          -0.5,
          -0.5,
          -0.5,
          -0.5,
          -0.5,
          -0.5
         ],
         "y": [
          24.5,
          24.5,
          25.5,
          25.5,
          26.5,
          27.5,
          27.5,
          27.5,
          26.5,
          25.5,
          24.5,
          24.5,
          24.5,
          24.5
         ]
        },
        {
         "hoverinfo": "text",
         "hovertext": [
          "332",
          "332",
          "332",
          "332",
          "332"
         ],
         "marker": {
          "color": "rgb(44, 160, 44)"
         },
         "mode": "markers",
         "name": "332",
         "opacity": 0,
         "showlegend": false,
         "type": "scatter",
         "x": [
          0,
          0,
          1,
          0,
          1
         ],
         "y": [
          25,
          26,
          26,
          27,
          27
         ]
        }
       ],
       "layout": {
        "clickmode": "event+select",
        "height": 360,
        "images": [
         {
          "layer": "below",
          "opacity": 1,
          "sizex": 128,
          "sizey": 128,
          "sizing": "stretch",
          "source": "data:image/png;base64,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",
          "x": -0.5,
          "xref": "x",
          "y": 127.5,
          "yref": "y"
         }
        ],
        "margin": {
         "b": 10,
         "l": 10,
         "r": 10,
         "t": 50
        },
        "template": {
         "data": {
          "bar": [
           {
            "error_x": {
             "color": "#2a3f5f"
            },
            "error_y": {
             "color": "#2a3f5f"
            },
            "marker": {
             "line": {
              "color": "#E5ECF6",
              "width": 0.5
             }
            },
            "type": "bar"
           }
          ],
          "barpolar": [
           {
            "marker": {
             "line": {
              "color": "#E5ECF6",
              "width": 0.5
             }
            },
            "type": "barpolar"
           }
          ],
          "carpet": [
           {
            "aaxis": {
             "endlinecolor": "#2a3f5f",
             "gridcolor": "white",
             "linecolor": "white",
             "minorgridcolor": "white",
             "startlinecolor": "#2a3f5f"
            },
            "baxis": {
             "endlinecolor": "#2a3f5f",
             "gridcolor": "white",
             "linecolor": "white",
             "minorgridcolor": "white",
             "startlinecolor": "#2a3f5f"
            },
            "type": "carpet"
           }
          ],
          "choropleth": [
           {
            "colorbar": {
             "outlinewidth": 0,
             "ticks": ""
            },
            "type": "choropleth"
           }
          ],
          "contour": [
           {
            "colorbar": {
             "outlinewidth": 0,
             "ticks": ""
            },
            "colorscale": [
             [
              0,
              "#0d0887"
             ],
             [
              0.1111111111111111,
              "#46039f"
             ],
             [
              0.2222222222222222,
              "#7201a8"
             ],
             [
              0.3333333333333333,
              "#9c179e"
             ],
             [
              0.4444444444444444,
              "#bd3786"
             ],
             [
              0.5555555555555556,
              "#d8576b"
             ],
             [
              0.6666666666666666,
              "#ed7953"
             ],
             [
              0.7777777777777778,
              "#fb9f3a"
             ],
             [
              0.8888888888888888,
              "#fdca26"
             ],
             [
              1,
              "#f0f921"
             ]
            ],
            "type": "contour"
           }
          ],
          "contourcarpet": [
           {
            "colorbar": {
             "outlinewidth": 0,
             "ticks": ""
            },
            "type": "contourcarpet"
           }
          ],
          "heatmap": [
           {
            "colorbar": {
             "outlinewidth": 0,
             "ticks": ""
            },
            "colorscale": [
             [
              0,
              "#0d0887"
             ],
             [
              0.1111111111111111,
              "#46039f"
             ],
             [
              0.2222222222222222,
              "#7201a8"
             ],
             [
              0.3333333333333333,
              "#9c179e"
             ],
             [
              0.4444444444444444,
              "#bd3786"
             ],
             [
              0.5555555555555556,
              "#d8576b"
             ],
             [
              0.6666666666666666,
              "#ed7953"
             ],
             [
              0.7777777777777778,
              "#fb9f3a"
             ],
             [
              0.8888888888888888,
              "#fdca26"
             ],
             [
              1,
              "#f0f921"
             ]
            ],
            "type": "heatmap"
           }
          ],
          "heatmapgl": [
           {
            "colorbar": {
             "outlinewidth": 0,
             "ticks": ""
            },
            "colorscale": [
             [
              0,
              "#0d0887"
             ],
             [
              0.1111111111111111,
              "#46039f"
             ],
             [
              0.2222222222222222,
              "#7201a8"
             ],
             [
              0.3333333333333333,
              "#9c179e"
             ],
             [
              0.4444444444444444,
              "#bd3786"
             ],
             [
              0.5555555555555556,
              "#d8576b"
             ],
             [
              0.6666666666666666,
              "#ed7953"
             ],
             [
              0.7777777777777778,
              "#fb9f3a"
             ],
             [
              0.8888888888888888,
              "#fdca26"
             ],
             [
              1,
              "#f0f921"
             ]
            ],
            "type": "heatmapgl"
           }
          ],
          "histogram": [
           {
            "marker": {
             "colorbar": {
              "outlinewidth": 0,
              "ticks": ""
             }
            },
            "type": "histogram"
           }
          ],
          "histogram2d": [
           {
            "colorbar": {
             "outlinewidth": 0,
             "ticks": ""
            },
            "colorscale": [
             [
              0,
              "#0d0887"
             ],
             [
              0.1111111111111111,
              "#46039f"
             ],
             [
              0.2222222222222222,
              "#7201a8"
             ],
             [
              0.3333333333333333,
              "#9c179e"
             ],
             [
              0.4444444444444444,
              "#bd3786"
             ],
             [
              0.5555555555555556,
              "#d8576b"
             ],
             [
              0.6666666666666666,
              "#ed7953"
             ],
             [
              0.7777777777777778,
              "#fb9f3a"
             ],
             [
              0.8888888888888888,
              "#fdca26"
             ],
             [
              1,
              "#f0f921"
             ]
            ],
            "type": "histogram2d"
           }
          ],
          "histogram2dcontour": [
           {
            "colorbar": {
             "outlinewidth": 0,
             "ticks": ""
            },
            "colorscale": [
             [
              0,
              "#0d0887"
             ],
             [
              0.1111111111111111,
              "#46039f"
             ],
             [
              0.2222222222222222,
              "#7201a8"
             ],
             [
              0.3333333333333333,
              "#9c179e"
             ],
             [
              0.4444444444444444,
              "#bd3786"
             ],
             [
              0.5555555555555556,
              "#d8576b"
             ],
             [
              0.6666666666666666,
              "#ed7953"
             ],
             [
              0.7777777777777778,
              "#fb9f3a"
             ],
             [
              0.8888888888888888,
              "#fdca26"
             ],
             [
              1,
              "#f0f921"
             ]
            ],
            "type": "histogram2dcontour"
           }
          ],
          "mesh3d": [
           {
            "colorbar": {
             "outlinewidth": 0,
             "ticks": ""
            },
            "type": "mesh3d"
           }
          ],
          "parcoords": [
           {
            "line": {
             "colorbar": {
              "outlinewidth": 0,
              "ticks": ""
             }
            },
            "type": "parcoords"
           }
          ],
          "pie": [
           {
            "automargin": true,
            "type": "pie"
           }
          ],
          "scatter": [
           {
            "marker": {
             "colorbar": {
              "outlinewidth": 0,
              "ticks": ""
             }
            },
            "type": "scatter"
           }
          ],
          "scatter3d": [
           {
            "line": {
             "colorbar": {
              "outlinewidth": 0,
              "ticks": ""
             }
            },
            "marker": {
             "colorbar": {
              "outlinewidth": 0,
              "ticks": ""
             }
            },
            "type": "scatter3d"
           }
          ],
          "scattercarpet": [
           {
            "marker": {
             "colorbar": {
              "outlinewidth": 0,
              "ticks": ""
             }
            },
            "type": "scattercarpet"
           }
          ],
          "scattergeo": [
           {
            "marker": {
             "colorbar": {
              "outlinewidth": 0,
              "ticks": ""
             }
            },
            "type": "scattergeo"
           }
          ],
          "scattergl": [
           {
            "marker": {
             "colorbar": {
              "outlinewidth": 0,
              "ticks": ""
             }
            },
            "type": "scattergl"
           }
          ],
          "scattermapbox": [
           {
            "marker": {
             "colorbar": {
              "outlinewidth": 0,
              "ticks": ""
             }
            },
            "type": "scattermapbox"
           }
          ],
          "scatterpolar": [
           {
            "marker": {
             "colorbar": {
              "outlinewidth": 0,
              "ticks": ""
             }
            },
            "type": "scatterpolar"
           }
          ],
          "scatterpolargl": [
           {
            "marker": {
             "colorbar": {
              "outlinewidth": 0,
              "ticks": ""
             }
            },
            "type": "scatterpolargl"
           }
          ],
          "scatterternary": [
           {
            "marker": {
             "colorbar": {
              "outlinewidth": 0,
              "ticks": ""
             }
            },
            "type": "scatterternary"
           }
          ],
          "surface": [
           {
            "colorbar": {
             "outlinewidth": 0,
             "ticks": ""
            },
            "colorscale": [
             [
              0,
              "#0d0887"
             ],
             [
              0.1111111111111111,
              "#46039f"
             ],
             [
              0.2222222222222222,
              "#7201a8"
             ],
             [
              0.3333333333333333,
              "#9c179e"
             ],
             [
              0.4444444444444444,
              "#bd3786"
             ],
             [
              0.5555555555555556,
              "#d8576b"
             ],
             [
              0.6666666666666666,
              "#ed7953"
             ],
             [
              0.7777777777777778,
              "#fb9f3a"
             ],
             [
              0.8888888888888888,
              "#fdca26"
             ],
             [
              1,
              "#f0f921"
             ]
            ],
            "type": "surface"
           }
          ],
          "table": [
           {
            "cells": {
             "fill": {
              "color": "#EBF0F8"
             },
             "line": {
              "color": "white"
             }
            },
            "header": {
             "fill": {
              "color": "#C8D4E3"
             },
             "line": {
              "color": "white"
             }
            },
            "type": "table"
           }
          ]
         },
         "layout": {
          "annotationdefaults": {
           "arrowcolor": "#2a3f5f",
           "arrowhead": 0,
           "arrowwidth": 1
          },
          "coloraxis": {
           "colorbar": {
            "outlinewidth": 0,
            "ticks": ""
           }
          },
          "colorscale": {
           "diverging": [
            [
             0,
             "#8e0152"
            ],
            [
             0.1,
             "#c51b7d"
            ],
            [
             0.2,
             "#de77ae"
            ],
            [
             0.3,
             "#f1b6da"
            ],
            [
             0.4,
             "#fde0ef"
            ],
            [
             0.5,
             "#f7f7f7"
            ],
            [
             0.6,
             "#e6f5d0"
            ],
            [
             0.7,
             "#b8e186"
            ],
            [
             0.8,
             "#7fbc41"
            ],
            [
             0.9,
             "#4d9221"
            ],
            [
             1,
             "#276419"
            ]
           ],
           "sequential": [
            [
             0,
             "#0d0887"
            ],
            [
             0.1111111111111111,
             "#46039f"
            ],
            [
             0.2222222222222222,
             "#7201a8"
            ],
            [
             0.3333333333333333,
             "#9c179e"
            ],
            [
             0.4444444444444444,
             "#bd3786"
            ],
            [
             0.5555555555555556,
             "#d8576b"
            ],
            [
             0.6666666666666666,
             "#ed7953"
            ],
            [
             0.7777777777777778,
             "#fb9f3a"
            ],
            [
             0.8888888888888888,
             "#fdca26"
            ],
            [
             1,
             "#f0f921"
            ]
           ],
           "sequentialminus": [
            [
             0,
             "#0d0887"
            ],
            [
             0.1111111111111111,
             "#46039f"
            ],
            [
             0.2222222222222222,
             "#7201a8"
            ],
            [
             0.3333333333333333,
             "#9c179e"
            ],
            [
             0.4444444444444444,
             "#bd3786"
            ],
            [
             0.5555555555555556,
             "#d8576b"
            ],
            [
             0.6666666666666666,
             "#ed7953"
            ],
            [
             0.7777777777777778,
             "#fb9f3a"
            ],
            [
             0.8888888888888888,
             "#fdca26"
            ],
            [
             1,
             "#f0f921"
            ]
           ]
          },
          "colorway": [
           "#636efa",
           "#EF553B",
           "#00cc96",
           "#ab63fa",
           "#FFA15A",
           "#19d3f3",
           "#FF6692",
           "#B6E880",
           "#FF97FF",
           "#FECB52"
          ],
          "font": {
           "color": "#2a3f5f"
          },
          "geo": {
           "bgcolor": "white",
           "lakecolor": "white",
           "landcolor": "#E5ECF6",
           "showlakes": true,
           "showland": true,
           "subunitcolor": "white"
          },
          "hoverlabel": {
           "align": "left"
          },
          "hovermode": "closest",
          "mapbox": {
           "style": "light"
          },
          "paper_bgcolor": "white",
          "plot_bgcolor": "#E5ECF6",
          "polar": {
           "angularaxis": {
            "gridcolor": "white",
            "linecolor": "white",
            "ticks": ""
           },
           "bgcolor": "#E5ECF6",
           "radialaxis": {
            "gridcolor": "white",
            "linecolor": "white",
            "ticks": ""
           }
          },
          "scene": {
           "xaxis": {
            "backgroundcolor": "#E5ECF6",
            "gridcolor": "white",
            "gridwidth": 2,
            "linecolor": "white",
            "showbackground": true,
            "ticks": "",
            "zerolinecolor": "white"
           },
           "yaxis": {
            "backgroundcolor": "#E5ECF6",
            "gridcolor": "white",
            "gridwidth": 2,
            "linecolor": "white",
            "showbackground": true,
            "ticks": "",
            "zerolinecolor": "white"
           },
           "zaxis": {
            "backgroundcolor": "#E5ECF6",
            "gridcolor": "white",
            "gridwidth": 2,
            "linecolor": "white",
            "showbackground": true,
            "ticks": "",
            "zerolinecolor": "white"
           }
          },
          "shapedefaults": {
           "line": {
            "color": "#2a3f5f"
           }
          },
          "ternary": {
           "aaxis": {
            "gridcolor": "white",
            "linecolor": "white",
            "ticks": ""
           },
           "baxis": {
            "gridcolor": "white",
            "linecolor": "white",
            "ticks": ""
           },
           "bgcolor": "#E5ECF6",
           "caxis": {
            "gridcolor": "white",
            "linecolor": "white",
            "ticks": ""
           }
          },
          "title": {
           "x": 0.05
          },
          "xaxis": {
           "automargin": true,
           "gridcolor": "white",
           "linecolor": "white",
           "ticks": "",
           "title": {
            "standoff": 15
           },
           "zerolinecolor": "white",
           "zerolinewidth": 2
          },
          "yaxis": {
           "automargin": true,
           "gridcolor": "white",
           "linecolor": "white",
           "ticks": "",
           "title": {
            "standoff": 15
           },
           "zerolinecolor": "white",
           "zerolinewidth": 2
          }
         }
        },
        "width": 320,
        "xaxis": {
         "linecolor": "black",
         "linewidth": 1,
         "mirror": true,
         "range": [
          -0.5,
          127.5
         ],
         "tickvals": []
        },
        "yaxis": {
         "linecolor": "black",
         "linewidth": 1,
         "mirror": true,
         "range": [
          -0.5,
          127.5
         ],
         "tickvals": []
        }
       }
      },
      "text/html": [
       "<div>\n",
       "        \n",
       "        \n",
       "            <div id=\"00bdb7d1-af9c-432e-a450-ad29069c9ba8\" class=\"plotly-graph-div\" style=\"height:360px; width:320px;\"></div>\n",
       "            <script type=\"text/javascript\">\n",
       "                require([\"plotly\"], function(Plotly) {\n",
       "                    window.PLOTLYENV=window.PLOTLYENV || {};\n",
       "                    \n",
       "                if (document.getElementById(\"00bdb7d1-af9c-432e-a450-ad29069c9ba8\")) {\n",
       "                    Plotly.newPlot(\n",
       "                        '00bdb7d1-af9c-432e-a450-ad29069c9ba8',\n",
       "                        [{\"hoverinfo\": \"text\", \"hovertext\": [\"69\", \"69\", \"69\", \"69\", \"69\", \"69\", \"69\", \"69\", \"69\", \"69\", \"69\", \"69\", \"69\", \"69\", \"69\", \"69\"], \"line\": {\"color\": \"rgb(23, 190, 207)\", \"width\": 1}, \"mode\": \"lines\", \"name\": \"69\", \"showlegend\": false, \"type\": \"scatter\", \"x\": [95.5, 96.5, 96.5, 97.5, 97.5, 96.5, 96.5, 95.5, 95.5, 94.5, 94.5, 95.5, 95.5, 95.5, 95.5, 95.5], \"y\": [61.5, 61.5, 62.5, 62.5, 63.5, 63.5, 64.5, 64.5, 63.5, 63.5, 62.5, 62.5, 61.5, 61.5, 61.5, 61.5]}, {\"hoverinfo\": \"text\", \"hovertext\": [\"69\", \"69\", \"69\", \"69\", \"69\"], \"marker\": {\"color\": \"rgb(23, 190, 207)\"}, \"mode\": \"markers\", \"name\": \"69\", \"opacity\": 0.0, \"showlegend\": false, \"type\": \"scatter\", \"x\": [96, 95, 96, 97, 96], \"y\": [62, 63, 63, 63, 64]}, {\"hoverinfo\": \"text\", \"hovertext\": [\"131\", \"131\", \"131\", \"131\", \"131\", \"131\", \"131\", \"131\", \"131\", \"131\", \"131\", \"131\", \"131\", \"131\"], \"line\": {\"color\": \"rgb(255, 127, 14)\", \"width\": 1}, \"mode\": \"lines\", \"name\": \"131\", \"showlegend\": false, \"type\": \"scatter\", \"x\": [76.5, 77.5, 78.5, 78.5, 79.5, 79.5, 78.5, 77.5, 76.5, 76.5, 76.5, 76.5, 76.5, 76.5], \"y\": [20.5, 20.5, 20.5, 21.5, 21.5, 22.5, 22.5, 22.5, 22.5, 21.5, 20.5, 20.5, 20.5, 20.5]}, {\"hoverinfo\": \"text\", \"hovertext\": [\"131\", \"131\", \"131\", \"131\", \"131\"], \"marker\": {\"color\": \"rgb(255, 127, 14)\"}, \"mode\": \"markers\", \"name\": \"131\", \"opacity\": 0.0, \"showlegend\": false, \"type\": \"scatter\", \"x\": [77, 78, 77, 78, 79], \"y\": [21, 21, 22, 22, 22]}, {\"hoverinfo\": \"text\", \"hovertext\": [\"182\", \"182\", \"182\", \"182\", \"182\", \"182\", \"182\", \"182\", \"182\", \"182\", \"182\", \"182\", \"182\", \"182\", \"182\", \"182\"], \"line\": {\"color\": \"rgb(44, 160, 44)\", \"width\": 1}, \"mode\": \"lines\", \"name\": \"182\", \"showlegend\": false, \"type\": \"scatter\", \"x\": [115.5, 116.5, 116.5, 117.5, 117.5, 116.5, 116.5, 115.5, 114.5, 114.5, 115.5, 115.5, 115.5, 115.5, 115.5, 115.5], \"y\": [61.5, 61.5, 62.5, 62.5, 63.5, 63.5, 64.5, 64.5, 64.5, 63.5, 63.5, 62.5, 61.5, 61.5, 61.5, 61.5]}, {\"hoverinfo\": \"text\", \"hovertext\": [\"182\", \"182\", \"182\", \"182\", \"182\"], \"marker\": {\"color\": \"rgb(44, 160, 44)\"}, \"mode\": \"markers\", \"name\": \"182\", \"opacity\": 0.0, \"showlegend\": false, \"type\": \"scatter\", \"x\": [116, 116, 117, 115, 116], \"y\": [62, 63, 63, 64, 64]}, {\"hoverinfo\": \"text\", \"hovertext\": [\"212\", \"212\", \"212\", \"212\", \"212\", \"212\", \"212\", \"212\", \"212\", \"212\", \"212\", \"212\", \"212\", \"212\"], \"line\": {\"color\": \"rgb(44, 160, 44)\", \"width\": 1}, \"mode\": \"lines\", \"name\": \"212\", \"showlegend\": false, \"type\": \"scatter\", \"x\": [29.5, 30.5, 31.5, 32.5, 32.5, 32.5, 31.5, 30.5, 30.5, 29.5, 29.5, 29.5, 29.5, 29.5], \"y\": [108.5, 108.5, 108.5, 108.5, 109.5, 110.5, 110.5, 110.5, 109.5, 109.5, 108.5, 108.5, 108.5, 108.5]}, {\"hoverinfo\": \"text\", \"hovertext\": [\"212\", \"212\", \"212\", \"212\", \"212\"], \"marker\": {\"color\": \"rgb(44, 160, 44)\"}, \"mode\": \"markers\", \"name\": \"212\", \"opacity\": 0.0, \"showlegend\": false, \"type\": \"scatter\", \"x\": [30, 31, 32, 31, 32], \"y\": [109, 109, 109, 110, 110]}, {\"hoverinfo\": \"text\", \"hovertext\": [\"265\", \"265\", \"265\", \"265\", \"265\", \"265\", \"265\", \"265\", \"265\", \"265\", \"265\", \"265\", \"265\", \"265\", \"265\", \"265\"], \"line\": {\"color\": \"rgb(140, 86, 75)\", \"width\": 1}, \"mode\": \"lines\", \"name\": \"265\", \"showlegend\": false, \"type\": \"scatter\", \"x\": [20.5, 21.5, 21.5, 21.5, 21.5, 20.5, 20.5, 19.5, 19.5, 19.5, 20.5, 20.5, 20.5, 20.5, 20.5, 20.5], \"y\": [109.5, 109.5, 110.5, 111.5, 112.5, 112.5, 113.5, 113.5, 112.5, 111.5, 111.5, 110.5, 109.5, 109.5, 109.5, 109.5]}, {\"hoverinfo\": \"text\", \"hovertext\": [\"265\", \"265\", \"265\", \"265\", \"265\"], \"marker\": {\"color\": \"rgb(140, 86, 75)\"}, \"mode\": \"markers\", \"name\": \"265\", \"opacity\": 0.0, \"showlegend\": false, \"type\": \"scatter\", \"x\": [21, 21, 20, 21, 20], \"y\": [110, 111, 112, 112, 113]}, {\"hoverinfo\": \"text\", \"hovertext\": [\"267\", \"267\", \"267\", \"267\", \"267\", \"267\", \"267\", \"267\", \"267\", \"267\", \"267\", \"267\", \"267\", \"267\"], \"line\": {\"color\": \"darkgoldenrod\", \"width\": 1}, \"mode\": \"lines\", \"name\": \"267\", \"showlegend\": false, \"type\": \"scatter\", \"x\": [61.5, 62.5, 63.5, 64.5, 64.5, 63.5, 63.5, 62.5, 61.5, 61.5, 61.5, 61.5, 61.5, 61.5], \"y\": [-0.5, -0.5, -0.5, -0.5, 0.5, 0.5, 1.5, 1.5, 1.5, 0.5, -0.5, -0.5, -0.5, -0.5]}, {\"hoverinfo\": \"text\", \"hovertext\": [\"267\", \"267\", \"267\", \"267\", \"267\"], \"marker\": {\"color\": \"darkgoldenrod\"}, \"mode\": \"markers\", \"name\": \"267\", \"opacity\": 0.0, \"showlegend\": false, \"type\": \"scatter\", \"x\": [62, 63, 64, 62, 63], \"y\": [0, 0, 0, 1, 1]}, {\"hoverinfo\": \"text\", \"hovertext\": [\"278\", \"278\", \"278\", \"278\", \"278\", \"278\", \"278\", \"278\", \"278\", \"278\", \"278\", \"278\", \"278\", \"278\", \"278\", \"278\"], \"line\": {\"color\": \"rgb(188, 189, 34)\", \"width\": 1}, \"mode\": \"lines\", \"name\": \"278\", \"showlegend\": false, \"type\": \"scatter\", \"x\": [13.5, 14.5, 14.5, 15.5, 15.5, 14.5, 14.5, 13.5, 13.5, 12.5, 12.5, 13.5, 13.5, 13.5, 13.5, 13.5], \"y\": [20.5, 20.5, 21.5, 21.5, 22.5, 22.5, 23.5, 23.5, 22.5, 22.5, 21.5, 21.5, 20.5, 20.5, 20.5, 20.5]}, {\"hoverinfo\": \"text\", \"hovertext\": [\"278\", \"278\", \"278\", \"278\", \"278\"], \"marker\": {\"color\": \"rgb(188, 189, 34)\"}, \"mode\": \"markers\", \"name\": \"278\", \"opacity\": 0.0, \"showlegend\": false, \"type\": \"scatter\", \"x\": [14, 13, 14, 15, 14], \"y\": [21, 22, 22, 22, 23]}, {\"hoverinfo\": \"text\", \"hovertext\": [\"296\", \"296\", \"296\", \"296\", \"296\", \"296\", \"296\", \"296\", \"296\", \"296\", \"296\", \"296\", \"296\", \"296\", \"296\", \"296\"], \"line\": {\"color\": \"rgb(227, 119, 194)\", \"width\": 1}, \"mode\": \"lines\", \"name\": \"296\", \"showlegend\": false, \"type\": \"scatter\", \"x\": [8.5, 9.5, 9.5, 10.5, 10.5, 9.5, 9.5, 8.5, 8.5, 7.5, 7.5, 8.5, 8.5, 8.5, 8.5, 8.5], \"y\": [101.5, 101.5, 102.5, 102.5, 103.5, 103.5, 104.5, 104.5, 103.5, 103.5, 102.5, 102.5, 101.5, 101.5, 101.5, 101.5]}, {\"hoverinfo\": \"text\", \"hovertext\": [\"296\", \"296\", \"296\", \"296\", \"296\"], \"marker\": {\"color\": \"rgb(227, 119, 194)\"}, \"mode\": \"markers\", \"name\": \"296\", \"opacity\": 0.0, \"showlegend\": false, \"type\": \"scatter\", \"x\": [9, 8, 9, 10, 9], \"y\": [102, 103, 103, 103, 104]}, {\"hoverinfo\": \"text\", \"hovertext\": [\"304\", \"304\", \"304\", \"304\", \"304\", \"304\", \"304\", \"304\", \"304\", \"304\", \"304\", \"304\", \"304\", \"304\", \"304\", \"304\"], \"line\": {\"color\": \"rgb(148, 103, 189)\", \"width\": 1}, \"mode\": \"lines\", \"name\": \"304\", \"showlegend\": false, \"type\": \"scatter\", \"x\": [126.5, 127.5, 127.5, 127.5, 127.5, 127.5, 127.5, 126.5, 126.5, 126.5, 126.5, 126.5, 126.5, 126.5, 126.5, 126.5], \"y\": [32.5, 32.5, 33.5, 34.5, 35.5, 36.5, 37.5, 37.5, 36.5, 35.5, 34.5, 33.5, 32.5, 32.5, 32.5, 32.5]}, {\"hoverinfo\": \"text\", \"hovertext\": [\"304\", \"304\", \"304\", \"304\", \"304\"], \"marker\": {\"color\": \"rgb(148, 103, 189)\"}, \"mode\": \"markers\", \"name\": \"304\", \"opacity\": 0.0, \"showlegend\": false, \"type\": \"scatter\", \"x\": [127, 127, 127, 127, 127], \"y\": [33, 34, 35, 36, 37]}, {\"hoverinfo\": \"text\", \"hovertext\": [\"312\", \"312\", \"312\", \"312\", \"312\", \"312\", \"312\", \"312\", \"312\", \"312\", \"312\", \"312\", \"312\", \"312\", \"312\", \"312\"], \"line\": {\"color\": \"rgb(44, 160, 44)\", \"width\": 1}, \"mode\": \"lines\", \"name\": \"312\", \"showlegend\": false, \"type\": \"scatter\", \"x\": [-0.5, 0.5, 0.5, 1.5, 2.5, 2.5, 1.5, 0.5, 0.5, -0.5, -0.5, -0.5, -0.5, -0.5, -0.5, -0.5], \"y\": [33.5, 33.5, 34.5, 34.5, 34.5, 35.5, 35.5, 35.5, 36.5, 36.5, 35.5, 34.5, 33.5, 33.5, 33.5, 33.5]}, {\"hoverinfo\": \"text\", \"hovertext\": [\"312\", \"312\", \"312\", \"312\", \"312\"], \"marker\": {\"color\": \"rgb(44, 160, 44)\"}, \"mode\": \"markers\", \"name\": \"312\", \"opacity\": 0.0, \"showlegend\": false, \"type\": \"scatter\", \"x\": [0, 0, 1, 2, 0], \"y\": [34, 35, 35, 35, 36]}, {\"hoverinfo\": \"text\", \"hovertext\": [\"324\", \"324\", \"324\", \"324\", \"324\", \"324\", \"324\", \"324\", \"324\", \"324\", \"324\", \"324\", \"324\", \"324\"], \"line\": {\"color\": \"rgb(148, 103, 189)\", \"width\": 1}, \"mode\": \"lines\", \"name\": \"324\", \"showlegend\": false, \"type\": \"scatter\", \"x\": [125.5, 126.5, 127.5, 127.5, 127.5, 127.5, 126.5, 126.5, 125.5, 125.5, 125.5, 125.5, 125.5, 125.5], \"y\": [100.5, 100.5, 100.5, 101.5, 102.5, 103.5, 103.5, 102.5, 102.5, 101.5, 100.5, 100.5, 100.5, 100.5]}, {\"hoverinfo\": \"text\", \"hovertext\": [\"324\", \"324\", \"324\", \"324\", \"324\"], \"marker\": {\"color\": \"rgb(148, 103, 189)\"}, \"mode\": \"markers\", \"name\": \"324\", \"opacity\": 0.0, \"showlegend\": false, \"type\": \"scatter\", \"x\": [126, 127, 126, 127, 127], \"y\": [101, 101, 102, 102, 103]}, {\"hoverinfo\": \"text\", \"hovertext\": [\"332\", \"332\", \"332\", \"332\", \"332\", \"332\", \"332\", \"332\", \"332\", \"332\", \"332\", \"332\", \"332\", \"332\"], \"line\": {\"color\": \"rgb(44, 160, 44)\", \"width\": 1}, \"mode\": \"lines\", \"name\": \"332\", \"showlegend\": false, \"type\": \"scatter\", \"x\": [-0.5, 0.5, 0.5, 1.5, 1.5, 1.5, 0.5, -0.5, -0.5, -0.5, -0.5, -0.5, -0.5, -0.5], \"y\": [24.5, 24.5, 25.5, 25.5, 26.5, 27.5, 27.5, 27.5, 26.5, 25.5, 24.5, 24.5, 24.5, 24.5]}, {\"hoverinfo\": \"text\", \"hovertext\": [\"332\", \"332\", \"332\", \"332\", \"332\"], \"marker\": {\"color\": \"rgb(44, 160, 44)\"}, \"mode\": \"markers\", \"name\": \"332\", \"opacity\": 0.0, \"showlegend\": false, \"type\": \"scatter\", \"x\": [0, 0, 1, 0, 1], \"y\": [25, 26, 26, 27, 27]}],\n",
       "                        {\"clickmode\": \"event+select\", \"height\": 360, \"images\": [{\"layer\": \"below\", \"opacity\": 1, \"sizex\": 128, \"sizey\": 128, \"sizing\": \"stretch\", \"source\": \"data:image/png;base64,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\", \"x\": -0.5, \"xref\": \"x\", \"y\": 127.5, \"yref\": \"y\"}], \"margin\": {\"b\": 10, \"l\": 10, \"r\": 10, \"t\": 50}, \"template\": {\"data\": {\"bar\": [{\"error_x\": {\"color\": \"#2a3f5f\"}, \"error_y\": {\"color\": \"#2a3f5f\"}, \"marker\": {\"line\": {\"color\": \"#E5ECF6\", \"width\": 0.5}}, \"type\": \"bar\"}], \"barpolar\": [{\"marker\": {\"line\": {\"color\": \"#E5ECF6\", \"width\": 0.5}}, \"type\": \"barpolar\"}], \"carpet\": [{\"aaxis\": {\"endlinecolor\": \"#2a3f5f\", \"gridcolor\": \"white\", \"linecolor\": \"white\", \"minorgridcolor\": \"white\", \"startlinecolor\": \"#2a3f5f\"}, \"baxis\": {\"endlinecolor\": \"#2a3f5f\", \"gridcolor\": \"white\", \"linecolor\": \"white\", \"minorgridcolor\": \"white\", \"startlinecolor\": \"#2a3f5f\"}, \"type\": \"carpet\"}], \"choropleth\": [{\"colorbar\": {\"outlinewidth\": 0, \"ticks\": \"\"}, \"type\": \"choropleth\"}], \"contour\": [{\"colorbar\": {\"outlinewidth\": 0, \"ticks\": \"\"}, \"colorscale\": [[0.0, \"#0d0887\"], [0.1111111111111111, \"#46039f\"], [0.2222222222222222, \"#7201a8\"], [0.3333333333333333, \"#9c179e\"], [0.4444444444444444, \"#bd3786\"], [0.5555555555555556, \"#d8576b\"], [0.6666666666666666, \"#ed7953\"], [0.7777777777777778, \"#fb9f3a\"], [0.8888888888888888, \"#fdca26\"], [1.0, \"#f0f921\"]], \"type\": \"contour\"}], \"contourcarpet\": [{\"colorbar\": {\"outlinewidth\": 0, \"ticks\": \"\"}, \"type\": \"contourcarpet\"}], \"heatmap\": [{\"colorbar\": {\"outlinewidth\": 0, \"ticks\": \"\"}, \"colorscale\": [[0.0, \"#0d0887\"], [0.1111111111111111, \"#46039f\"], [0.2222222222222222, \"#7201a8\"], [0.3333333333333333, \"#9c179e\"], [0.4444444444444444, \"#bd3786\"], [0.5555555555555556, \"#d8576b\"], [0.6666666666666666, \"#ed7953\"], [0.7777777777777778, \"#fb9f3a\"], [0.8888888888888888, \"#fdca26\"], [1.0, \"#f0f921\"]], \"type\": \"heatmap\"}], \"heatmapgl\": [{\"colorbar\": {\"outlinewidth\": 0, \"ticks\": \"\"}, \"colorscale\": [[0.0, \"#0d0887\"], [0.1111111111111111, \"#46039f\"], [0.2222222222222222, \"#7201a8\"], [0.3333333333333333, \"#9c179e\"], [0.4444444444444444, \"#bd3786\"], [0.5555555555555556, \"#d8576b\"], [0.6666666666666666, \"#ed7953\"], [0.7777777777777778, \"#fb9f3a\"], [0.8888888888888888, \"#fdca26\"], [1.0, \"#f0f921\"]], \"type\": \"heatmapgl\"}], \"histogram\": [{\"marker\": {\"colorbar\": {\"outlinewidth\": 0, \"ticks\": \"\"}}, \"type\": \"histogram\"}], \"histogram2d\": [{\"colorbar\": {\"outlinewidth\": 0, \"ticks\": \"\"}, \"colorscale\": [[0.0, \"#0d0887\"], [0.1111111111111111, \"#46039f\"], [0.2222222222222222, \"#7201a8\"], [0.3333333333333333, \"#9c179e\"], [0.4444444444444444, \"#bd3786\"], [0.5555555555555556, \"#d8576b\"], [0.6666666666666666, \"#ed7953\"], [0.7777777777777778, \"#fb9f3a\"], [0.8888888888888888, \"#fdca26\"], [1.0, \"#f0f921\"]], \"type\": \"histogram2d\"}], \"histogram2dcontour\": [{\"colorbar\": {\"outlinewidth\": 0, \"ticks\": \"\"}, \"colorscale\": [[0.0, \"#0d0887\"], [0.1111111111111111, \"#46039f\"], [0.2222222222222222, \"#7201a8\"], [0.3333333333333333, \"#9c179e\"], [0.4444444444444444, \"#bd3786\"], [0.5555555555555556, \"#d8576b\"], [0.6666666666666666, \"#ed7953\"], [0.7777777777777778, \"#fb9f3a\"], [0.8888888888888888, \"#fdca26\"], [1.0, \"#f0f921\"]], \"type\": \"histogram2dcontour\"}], \"mesh3d\": [{\"colorbar\": {\"outlinewidth\": 0, \"ticks\": \"\"}, \"type\": \"mesh3d\"}], \"parcoords\": [{\"line\": {\"colorbar\": {\"outlinewidth\": 0, \"ticks\": \"\"}}, \"type\": \"parcoords\"}], \"pie\": [{\"automargin\": true, \"type\": \"pie\"}], \"scatter\": [{\"marker\": {\"colorbar\": {\"outlinewidth\": 0, \"ticks\": \"\"}}, \"type\": \"scatter\"}], \"scatter3d\": [{\"line\": {\"colorbar\": {\"outlinewidth\": 0, \"ticks\": \"\"}}, \"marker\": {\"colorbar\": {\"outlinewidth\": 0, \"ticks\": \"\"}}, \"type\": \"scatter3d\"}], \"scattercarpet\": [{\"marker\": {\"colorbar\": {\"outlinewidth\": 0, \"ticks\": \"\"}}, \"type\": \"scattercarpet\"}], \"scattergeo\": [{\"marker\": {\"colorbar\": {\"outlinewidth\": 0, \"ticks\": \"\"}}, \"type\": \"scattergeo\"}], \"scattergl\": [{\"marker\": {\"colorbar\": {\"outlinewidth\": 0, \"ticks\": \"\"}}, \"type\": \"scattergl\"}], \"scattermapbox\": [{\"marker\": {\"colorbar\": {\"outlinewidth\": 0, \"ticks\": \"\"}}, \"type\": \"scattermapbox\"}], \"scatterpolar\": [{\"marker\": {\"colorbar\": {\"outlinewidth\": 0, \"ticks\": \"\"}}, \"type\": \"scatterpolar\"}], \"scatterpolargl\": [{\"marker\": {\"colorbar\": {\"outlinewidth\": 0, \"ticks\": \"\"}}, \"type\": \"scatterpolargl\"}], \"scatterternary\": [{\"marker\": {\"colorbar\": {\"outlinewidth\": 0, \"ticks\": \"\"}}, \"type\": \"scatterternary\"}], \"surface\": [{\"colorbar\": {\"outlinewidth\": 0, \"ticks\": \"\"}, \"colorscale\": [[0.0, \"#0d0887\"], [0.1111111111111111, \"#46039f\"], [0.2222222222222222, \"#7201a8\"], [0.3333333333333333, \"#9c179e\"], [0.4444444444444444, \"#bd3786\"], [0.5555555555555556, \"#d8576b\"], [0.6666666666666666, \"#ed7953\"], [0.7777777777777778, \"#fb9f3a\"], [0.8888888888888888, \"#fdca26\"], [1.0, \"#f0f921\"]], \"type\": \"surface\"}], \"table\": [{\"cells\": {\"fill\": {\"color\": \"#EBF0F8\"}, \"line\": {\"color\": \"white\"}}, \"header\": {\"fill\": {\"color\": \"#C8D4E3\"}, \"line\": {\"color\": \"white\"}}, \"type\": \"table\"}]}, \"layout\": {\"annotationdefaults\": {\"arrowcolor\": \"#2a3f5f\", \"arrowhead\": 0, \"arrowwidth\": 1}, \"coloraxis\": {\"colorbar\": {\"outlinewidth\": 0, \"ticks\": \"\"}}, \"colorscale\": {\"diverging\": [[0, \"#8e0152\"], [0.1, \"#c51b7d\"], [0.2, \"#de77ae\"], [0.3, \"#f1b6da\"], [0.4, \"#fde0ef\"], [0.5, \"#f7f7f7\"], [0.6, \"#e6f5d0\"], [0.7, \"#b8e186\"], [0.8, \"#7fbc41\"], [0.9, \"#4d9221\"], [1, \"#276419\"]], \"sequential\": [[0.0, \"#0d0887\"], [0.1111111111111111, \"#46039f\"], [0.2222222222222222, \"#7201a8\"], [0.3333333333333333, \"#9c179e\"], [0.4444444444444444, \"#bd3786\"], [0.5555555555555556, \"#d8576b\"], [0.6666666666666666, \"#ed7953\"], [0.7777777777777778, \"#fb9f3a\"], [0.8888888888888888, \"#fdca26\"], [1.0, \"#f0f921\"]], \"sequentialminus\": [[0.0, \"#0d0887\"], [0.1111111111111111, \"#46039f\"], [0.2222222222222222, \"#7201a8\"], [0.3333333333333333, \"#9c179e\"], [0.4444444444444444, \"#bd3786\"], [0.5555555555555556, \"#d8576b\"], [0.6666666666666666, \"#ed7953\"], [0.7777777777777778, \"#fb9f3a\"], [0.8888888888888888, \"#fdca26\"], [1.0, \"#f0f921\"]]}, \"colorway\": [\"#636efa\", \"#EF553B\", \"#00cc96\", \"#ab63fa\", \"#FFA15A\", \"#19d3f3\", \"#FF6692\", \"#B6E880\", \"#FF97FF\", \"#FECB52\"], \"font\": {\"color\": \"#2a3f5f\"}, \"geo\": {\"bgcolor\": \"white\", \"lakecolor\": \"white\", \"landcolor\": \"#E5ECF6\", \"showlakes\": true, \"showland\": true, \"subunitcolor\": \"white\"}, \"hoverlabel\": {\"align\": \"left\"}, \"hovermode\": \"closest\", \"mapbox\": {\"style\": \"light\"}, \"paper_bgcolor\": \"white\", \"plot_bgcolor\": \"#E5ECF6\", \"polar\": {\"angularaxis\": {\"gridcolor\": \"white\", \"linecolor\": \"white\", \"ticks\": \"\"}, \"bgcolor\": \"#E5ECF6\", \"radialaxis\": {\"gridcolor\": \"white\", \"linecolor\": \"white\", \"ticks\": \"\"}}, \"scene\": {\"xaxis\": {\"backgroundcolor\": \"#E5ECF6\", \"gridcolor\": \"white\", \"gridwidth\": 2, \"linecolor\": \"white\", \"showbackground\": true, \"ticks\": \"\", \"zerolinecolor\": \"white\"}, \"yaxis\": {\"backgroundcolor\": \"#E5ECF6\", \"gridcolor\": \"white\", \"gridwidth\": 2, \"linecolor\": \"white\", \"showbackground\": true, \"ticks\": \"\", \"zerolinecolor\": \"white\"}, \"zaxis\": {\"backgroundcolor\": \"#E5ECF6\", \"gridcolor\": \"white\", \"gridwidth\": 2, \"linecolor\": \"white\", \"showbackground\": true, \"ticks\": \"\", \"zerolinecolor\": \"white\"}}, \"shapedefaults\": {\"line\": {\"color\": \"#2a3f5f\"}}, \"ternary\": {\"aaxis\": {\"gridcolor\": \"white\", \"linecolor\": \"white\", \"ticks\": \"\"}, \"baxis\": {\"gridcolor\": \"white\", \"linecolor\": \"white\", \"ticks\": \"\"}, \"bgcolor\": \"#E5ECF6\", \"caxis\": {\"gridcolor\": \"white\", \"linecolor\": \"white\", \"ticks\": \"\"}}, \"title\": {\"x\": 0.05}, \"xaxis\": {\"automargin\": true, \"gridcolor\": \"white\", \"linecolor\": \"white\", \"ticks\": \"\", \"title\": {\"standoff\": 15}, \"zerolinecolor\": \"white\", \"zerolinewidth\": 2}, \"yaxis\": {\"automargin\": true, \"gridcolor\": \"white\", \"linecolor\": \"white\", \"ticks\": \"\", \"title\": {\"standoff\": 15}, \"zerolinecolor\": \"white\", \"zerolinewidth\": 2}}}, \"width\": 320, \"xaxis\": {\"linecolor\": \"black\", \"linewidth\": 1, \"mirror\": true, \"range\": [-0.5, 127.5], \"tickvals\": []}, \"yaxis\": {\"linecolor\": \"black\", \"linewidth\": 1, \"mirror\": true, \"range\": [-0.5, 127.5], \"tickvals\": []}},\n",
       "                        {\"responsive\": true}\n",
       "                    ).then(function(){\n",
       "                            \n",
       "var gd = document.getElementById('00bdb7d1-af9c-432e-a450-ad29069c9ba8');\n",
       "var x = new MutationObserver(function (mutations, observer) {{\n",
       "        var display = window.getComputedStyle(gd).display;\n",
       "        if (!display || display === 'none') {{\n",
       "            console.log([gd, 'removed!']);\n",
       "            Plotly.purge(gd);\n",
       "            observer.disconnect();\n",
       "        }}\n",
       "}});\n",
       "\n",
       "// Listen for the removal of the full notebook cells\n",
       "var notebookContainer = gd.closest('#notebook-container');\n",
       "if (notebookContainer) {{\n",
       "    x.observe(notebookContainer, {childList: true});\n",
       "}}\n",
       "\n",
       "// Listen for the clearing of the current output cell\n",
       "var outputEl = gd.closest('.output');\n",
       "if (outputEl) {{\n",
       "    x.observe(outputEl, {childList: true});\n",
       "}}\n",
       "\n",
       "                        })\n",
       "                };\n",
       "                });\n",
       "            </script>\n",
       "        </div>"
      ]
     },
     "metadata": {},
     "output_type": "display_data"
    }
   ],
   "source": [
    "showRoisOnly(regions, indices=ii,showall=True,)"
   ]
  },
  {
   "cell_type": "code",
   "execution_count": null,
   "metadata": {},
   "outputs": [],
   "source": []
  },
  {
   "cell_type": "code",
   "execution_count": 73,
   "metadata": {
    "ExecuteTime": {
     "end_time": "2020-02-19T14:23:31.240040Z",
     "start_time": "2020-02-19T14:23:30.995940Z"
    }
   },
   "outputs": [
    {
     "data": {
      "text/plain": [
       "(array([ 0.,  0.,  0.,  0., 17., 12., 14., 19., 21., 23., 20., 24., 21.,\n",
       "        17., 15., 17., 20.,  7.,  9., 15., 13., 11.,  5., 10.,  4.,  4.,\n",
       "         5.,  4.,  2.,  3.,  5.,  3.,  0.,  3.,  3.,  3.,  3.,  3.,  1.,\n",
       "         1.,  1.,  2.,  1.,  0.,  0.,  0.,  0.,  0.,  0.,  0.,  0.,  0.,\n",
       "         0.,  1.,  0.,  0.,  0.,  0.,  0.,  1.,  0.,  1.,  0.,  0.,  0.,\n",
       "         0.,  0.,  0.,  0.,  0.,  0.,  0.,  0.,  0.,  0.,  0.,  0.,  0.,\n",
       "         0.,  0.,  0.,  0.,  0.,  0.,  0.,  0.,  0.,  0.,  0.,  0.,  0.,\n",
       "         0.,  0.,  0.,  0.,  0.,  0.,  0.,  0.]),\n",
       " array([ 0.5,  1.5,  2.5,  3.5,  4.5,  5.5,  6.5,  7.5,  8.5,  9.5, 10.5,\n",
       "        11.5, 12.5, 13.5, 14.5, 15.5, 16.5, 17.5, 18.5, 19.5, 20.5, 21.5,\n",
       "        22.5, 23.5, 24.5, 25.5, 26.5, 27.5, 28.5, 29.5, 30.5, 31.5, 32.5,\n",
       "        33.5, 34.5, 35.5, 36.5, 37.5, 38.5, 39.5, 40.5, 41.5, 42.5, 43.5,\n",
       "        44.5, 45.5, 46.5, 47.5, 48.5, 49.5, 50.5, 51.5, 52.5, 53.5, 54.5,\n",
       "        55.5, 56.5, 57.5, 58.5, 59.5, 60.5, 61.5, 62.5, 63.5, 64.5, 65.5,\n",
       "        66.5, 67.5, 68.5, 69.5, 70.5, 71.5, 72.5, 73.5, 74.5, 75.5, 76.5,\n",
       "        77.5, 78.5, 79.5, 80.5, 81.5, 82.5, 83.5, 84.5, 85.5, 86.5, 87.5,\n",
       "        88.5, 89.5, 90.5, 91.5, 92.5, 93.5, 94.5, 95.5, 96.5, 97.5, 98.5,\n",
       "        99.5]),\n",
       " <a list of 99 Patch objects>)"
      ]
     },
     "execution_count": 73,
     "metadata": {},
     "output_type": "execute_result"
    },
    {
     "data": {
      "image/png": "[encoded data removed]",
      "text/plain": [
       "<Figure size 432x288 with 1 Axes>"
      ]
     },
     "metadata": {
      "needs_background": "light"
     },
     "output_type": "display_data"
    }
   ],
   "source": [
    "plt.hist(C[\"size\"],np.arange(100)+.5)"
   ]
  },
  {
   "cell_type": "code",
   "execution_count": 72,
   "metadata": {
    "ExecuteTime": {
     "end_time": "2020-02-19T14:22:56.685417Z",
     "start_time": "2020-02-19T14:22:56.679775Z"
    }
   },
   "outputs": [
    {
     "data": {
      "text/plain": [
       "0      2\n",
       "1      1\n",
       "2      3\n",
       "3      1\n",
       "4      0\n",
       "      ..\n",
       "359    0\n",
       "360    1\n",
       "361    1\n",
       "362    0\n",
       "363    0\n",
       "Name: Nneighbors, Length: 364, dtype: int64"
      ]
     },
     "execution_count": 72,
     "metadata": {},
     "output_type": "execute_result"
    }
   ],
   "source": [
    "regions.pru"
   ]
  },
  {
   "cell_type": "code",
   "execution_count": null,
   "metadata": {},
   "outputs": [],
   "source": [
    "    "
   ]
  },
  {
   "cell_type": "code",
   "execution_count": 120,
   "metadata": {
    "ExecuteTime": {
     "end_time": "2020-02-20T12:18:27.472175Z",
     "start_time": "2020-02-20T12:18:27.460517Z"
    }
   },
   "outputs": [],
   "source": [
    "# def showRoisOnly(regions, indices=None, im=None, showall=True):\n",
    "#     if indices is None:\n",
    "#         indices = regions.df.sort_values(\"size\",ascending=False).index[:10]\n",
    "#     f = go.Figure()\n",
    "#     for i in indices:\n",
    "#         cl = MYCOLORS[i%len(MYCOLORS)]\n",
    "\n",
    "#         bds = regions.df.loc[i,\"boundary\"]\n",
    "#         bds += [bds[0]]\n",
    "#         y,x = np.array(bds).T\n",
    "#         ypts,xpts = np.array(regions.df.pixels[i]).T\n",
    "#         ln = go.Scatter(x=x,y=y,\n",
    "#                         line=dict(width=1,color=cl),\n",
    "#                         mode=\"lines\",\n",
    "#                         showlegend = False,\n",
    "#                         name = str(i),\n",
    "#                         hoveron='points+fills',\n",
    "#                         hoverinfo='text',\n",
    "#                         hovertext=[\"%i\"%(i)]*len(bds),\n",
    "                        \n",
    "#                         fill=\"toself\",\n",
    "#                         opacity = .2,\n",
    "#                      )\n",
    "#         f.add_trace(ln)\n",
    "#     if im!=\"none\":\n",
    "#         # f.add_heatmap(z=im, hoverinfo='skip',showscale=False,colorscale=plxcolors.sequential.Greys)\n",
    "#         imgpointer = createStaticImage(im,regions,showall=showall)\n",
    "\n",
    "#         f.add_layout_image(\n",
    "#             dict(\n",
    "#                 source=imgpointer,\n",
    "#                 xref=\"x\",\n",
    "#                 yref=\"y\",\n",
    "#                 x=-.5,\n",
    "#                 y=regions.image.shape[1]-.5,\n",
    "#                 sizex=regions.image.shape[1],\n",
    "#                 sizey=regions.image.shape[0],\n",
    "#                 sizing=\"stretch\",\n",
    "#                 opacity=1,\n",
    "#                 layer=\"below\")\n",
    "#             )\n",
    "    \n",
    "#     f.update_layout({\n",
    "#         \"height\":360,\n",
    "#         \"width\":320,\n",
    "#         \"margin\":dict(l=10, r=10, t=50, b=10),\n",
    "#     #     \"paper_bgcolor\":\"grey\",\n",
    "#         \"xaxis\": {\n",
    "#             \"linecolor\": 'black',\n",
    "#             \"linewidth\": 1,\n",
    "#             \"mirror\": True,\n",
    "#             \"tickvals\": [],\n",
    "#             \"range\":[-.5,regions.image.shape[1]-.5]\n",
    "#         },\n",
    "#         \"yaxis\": {\n",
    "#             \"linecolor\": 'black',\n",
    "#             \"linewidth\": 1,\n",
    "#             \"mirror\": True,\n",
    "#             \"tickvals\": [],\n",
    "#             \"range\":[-.5,regions.image.shape[0]-.5]\n",
    "#         },\n",
    "#         'clickmode': 'event+select'\n",
    "#     })\n",
    "        \n",
    "#     return f"
   ]
  },
  {
   "cell_type": "code",
   "execution_count": 121,
   "metadata": {
    "ExecuteTime": {
     "end_time": "2020-02-20T12:18:31.278586Z",
     "start_time": "2020-02-20T12:18:31.275419Z"
    }
   },
   "outputs": [],
   "source": [
    "# showRoisOnly1(regions,indices=range(len(regions.df)))"
   ]
  },
  {
   "cell_type": "code",
   "execution_count": null,
   "metadata": {},
   "outputs": [],
   "source": []
  },
  {
   "cell_type": "code",
   "execution_count": null,
   "metadata": {},
   "outputs": [],
   "source": []
  },
  {
   "cell_type": "code",
   "execution_count": null,
   "metadata": {},
   "outputs": [],
   "source": []
  },
  {
   "cell_type": "code",
   "execution_count": null,
   "metadata": {},
   "outputs": [],
   "source": []
  },
  {
   "cell_type": "code",
   "execution_count": 34,
   "metadata": {
    "ExecuteTime": {
     "end_time": "2020-02-08T21:27:36.071995Z",
     "start_time": "2020-02-08T21:27:35.855218Z"
    }
   },
   "outputs": [
    {
     "data": {
      "text/plain": [
       "'local_data/testdir/Experiment38a_7_Series016.npz'"
      ]
     },
     "execution_count": 34,
     "metadata": {},
     "output_type": "execute_result"
    }
   ],
   "source": [
    "exampleNpzFile"
   ]
  },
  {
   "cell_type": "code",
   "execution_count": null,
   "metadata": {},
   "outputs": [],
   "source": []
  },
  {
   "cell_type": "code",
   "execution_count": null,
   "metadata": {},
   "outputs": [],
   "source": []
  },
  {
   "cell_type": "code",
   "execution_count": null,
   "metadata": {},
   "outputs": [],
   "source": []
  }
 ],
 "metadata": {
  "kernelspec": {
   "display_name": "Python [conda env:physio]",
   "language": "python",
   "name": "conda-env-physio-py"
  },
  "language_info": {
   "codemirror_mode": {
    "name": "ipython",
    "version": 3
   },
   "file_extension": ".py",
   "mimetype": "text/x-python",
   "name": "python",
   "nbconvert_exporter": "python",
   "pygments_lexer": "ipython3",
   "version": "3.7.6"
  },
  "toc": {
   "base_numbering": 1,
   "nav_menu": {},
   "number_sections": true,
   "sideBar": true,
   "skip_h1_title": false,
   "title_cell": "Table of Contents",
   "title_sidebar": "Contents",
   "toc_cell": false,
   "toc_position": {},
   "toc_section_display": true,
   "toc_window_display": false
  }
 },
 "nbformat": 4,
 "nbformat_minor": 2
}
