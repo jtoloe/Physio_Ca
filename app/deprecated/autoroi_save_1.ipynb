{
 "cells": [
  {
   "cell_type": "code",
   "execution_count": 1,
   "metadata": {
    "ExecuteTime": {
     "end_time": "2020-04-24T18:44:21.097186Z",
     "start_time": "2020-04-24T18:44:16.668185Z"
    },
    "code_folding": []
   },
   "outputs": [],
   "source": [
    "%%capture\n",
    "import warnings\n",
    "warnings.filterwarnings('ignore')\n",
    "from IPython.core.display import HTML\n",
    "from jupyter_plotly_dash import JupyterDash\n",
    "from dash.dependencies import Input, Output, State\n",
    "import dash_core_components as dcc\n",
    "import dash_html_components as html\n",
    "import plotly.graph_objects as go\n",
    "import numpy as np\n",
    "import os\n",
    "from sys import path as syspath\n",
    "syspath.append(os.path.expanduser(\"~/srdjan_functs/\"))\n",
    "from sys import exc_info\n",
    "from caiman import movie as cmovie\n",
    "import json\n",
    "import pickle"
   ]
  },
  {
   "cell_type": "code",
   "execution_count": 2,
   "metadata": {
    "ExecuteTime": {
     "end_time": "2020-04-24T18:44:21.105375Z",
     "start_time": "2020-04-24T18:44:21.098706Z"
    }
   },
   "outputs": [
    {
     "data": {
      "text/html": [
       "<style>.container { width:100% !important; }</style>"
      ],
      "text/plain": [
       "<IPython.core.display.HTML object>"
      ]
     },
     "metadata": {},
     "output_type": "display_data"
    }
   ],
   "source": [
    "from IPython.core.display import display, HTML\n",
    "display(HTML(\"<style>.container { width:100% !important; }</style>\"))"
   ]
  },
  {
   "cell_type": "code",
   "execution_count": 3,
   "metadata": {
    "ExecuteTime": {
     "end_time": "2020-04-24T18:44:21.321016Z",
     "start_time": "2020-04-24T18:44:21.106753Z"
    },
    "code_folding": []
   },
   "outputs": [],
   "source": [
    "%load_ext autoreload\n",
    "%autoreload 1\n",
    "%aimport Regions, physio_def_1, numeric, Automatic\n",
    "\n",
    "from physio_def_1 import *\n",
    "from Regions import Regions\n",
    "from numeric import *\n",
    "from Automatic import *"
   ]
  },
  {
   "cell_type": "code",
   "execution_count": 4,
   "metadata": {
    "ExecuteTime": {
     "end_time": "2020-04-24T18:44:21.325165Z",
     "start_time": "2020-04-24T18:44:21.322346Z"
    },
    "code_folding": []
   },
   "outputs": [],
   "source": [
    "os.chdir(os.path.expanduser(\"~\"))"
   ]
  },
  {
   "cell_type": "code",
   "execution_count": 5,
   "metadata": {
    "ExecuteTime": {
     "end_time": "2020-04-24T18:44:21.357484Z",
     "start_time": "2020-04-24T18:44:21.326245Z"
    },
    "code_folding": []
   },
   "outputs": [],
   "source": [
    "# exampleNpzFile = \"local_data/Sandra/2019_10_16/Experiment39a/Experiment39a_8_Series019.npz\"\n",
    "exampleNpzFile = \"local_data/testdir/Experiment38a_18_Series040.npz\"\n",
    "exampleRoiFile = \"local_data/srdjan_analysis/Experiment38b_11_Series041/Experiment38b_11_Series041.pkl\""
   ]
  },
  {
   "cell_type": "code",
   "execution_count": 6,
   "metadata": {
    "ExecuteTime": {
     "end_time": "2020-04-24T18:44:21.395624Z",
     "start_time": "2020-04-24T18:44:21.358587Z"
    },
    "code_folding": [
     0
    ]
   },
   "outputs": [],
   "source": [
    "def saveRois(regions,outDir,filename=\"\",movie=None,col=\"trace\",format=\"vienna\"):\n",
    "    feedback = []\n",
    "    try:\n",
    "        from copy import deepcopy\n",
    "        from datetime import date\n",
    "        import pickle\n",
    "        import pandas as pd\n",
    "        from os.path import isdir\n",
    "        from os import makedirs\n",
    "        regions.sortFromCenter()\n",
    "        if movie is not None:\n",
    "            regions.update(movie)\n",
    "        filename = filename.replace(\" \",\"_\")\n",
    "        today = date.today()\n",
    "        if len(filename):\n",
    "            filename = \"_\".join([today.strftime(\"%Y_%m_%d\"),filename])\n",
    "        else:\n",
    "            filename = today.strftime(\"%Y_%m_%d\")\n",
    "        if not isdir(outDir):\n",
    "            makedirs(outDir)\n",
    "            feedback += f\"Output {outdir} directory created.\"\n",
    "\n",
    "        traces = pd.DataFrame(np.vstack(regions.df[col]).T)\n",
    "        traces[\"time\"] = regions.showTime[col]\n",
    "        traces = traces[[\"time\"]+list(traces.columns[:-1])]\n",
    "        if format==\"vienna\":\n",
    "            tracefile = f\"{outDir}/{filename}_trace.csv\"\n",
    "            traces.to_csv(tracefile, index=False)\n",
    "        elif format==\"maribor\":\n",
    "            tracefile = f\"{outDir}/{filename}_trace_for_mb.txt\"\n",
    "            np.savetxt(tracefile, traces.values)\n",
    "        else:\n",
    "            return \"Output format not recognized. Currently, only 'vienna' and 'maribor' are implemented.\"\n",
    "            \n",
    "        feedback += [f\"Traces saved in {tracefile}.\",html.Br()]\n",
    "\n",
    "        saving = ['statImages', 'mode', 'image', 'filterSize', 'df']\n",
    "        allAttrs = list(regions.__dict__.keys())\n",
    "        subRegions = deepcopy(regions)\n",
    "        for k in allAttrs:\n",
    "            if k not in saving:\n",
    "                del subRegions.__dict__[k]\n",
    "        for k in regions.df.columns:\n",
    "            if k not in [\"peak\", \"pixels\"]:\n",
    "                del subRegions.df[k]\n",
    "                \n",
    "        if format==\"vienna\":\n",
    "            roifile = f\"{outDir}/{filename}_rois.pkl\"\n",
    "            with open(roifile,\"wb\") as f:\n",
    "                pickle.dump(subRegions,f)\n",
    "            feedback += [f\"ROI info saved in {roifile}.\"]\n",
    "            \n",
    "        if format==\"maribor\":\n",
    "            coordFile = f\"{outDir}/{filename}_coords_for_mb.txt\"\n",
    "            coords = np.array([np.mean(pxs,axis=0) for pxs in subRegions.df[\"pixels\"]])\n",
    "            np.savetxt(coordFile, coords)\n",
    "            feedback += [f\"Coordinates saved in {coordFile}.\"]\n",
    "            \n",
    "    except:\n",
    "        from sys import exc_info\n",
    "        feedback += [\"ERROR: \"+ exc_info().__repr__()]\n",
    "    return feedback"
   ]
  },
  {
   "cell_type": "code",
   "execution_count": 7,
   "metadata": {
    "ExecuteTime": {
     "end_time": "2020-04-24T18:44:21.420361Z",
     "start_time": "2020-04-24T18:44:21.396683Z"
    },
    "code_folding": [
     0,
     6,
     13
    ]
   },
   "outputs": [],
   "source": [
    "outputStyle = {\n",
    "    \"color\":\"blue\",\n",
    "    \"font-family\":\"Courier New\",\n",
    "    \"font-size\":\"80%\",\n",
    "    \"max-width\": \"700px\",\n",
    "    }\n",
    "infoStyle = {\n",
    "    \"font-size\":\"70%\",\n",
    "    \"font-family\":\"Arial\",\n",
    "    # \"background-color\":\"lightcyan\",\n",
    "    \"color\":\"grey\",\n",
    "    \"max-width\": \"700px\",\n",
    "    }\n",
    "bodyStyle = {\n",
    "    \"font-family\":\"Arial\",\n",
    "    \"max-width\": \"700px\",\n",
    "    }"
   ]
  },
  {
   "cell_type": "code",
   "execution_count": 8,
   "metadata": {
    "ExecuteTime": {
     "end_time": "2020-04-24T18:44:21.791707Z",
     "start_time": "2020-04-24T18:44:21.421436Z"
    }
   },
   "outputs": [],
   "source": [
    "baseFig = getFigure(w=200,h=150)"
   ]
  },
  {
   "cell_type": "code",
   "execution_count": 9,
   "metadata": {
    "ExecuteTime": {
     "end_time": "2020-04-24T18:44:21.797246Z",
     "start_time": "2020-04-24T18:44:21.793812Z"
    },
    "code_folding": []
   },
   "outputs": [],
   "source": [
    "## global vars\n",
    "test = \"srdjan\" in os.getcwd()\n",
    "# npzFile = None\n",
    "# metadata = None\n",
    "# movie = None\n",
    "regions = None\n",
    "debug = \"srdjan\" in os.getcwd()"
   ]
  },
  {
   "cell_type": "code",
   "execution_count": 10,
   "metadata": {
    "ExecuteTime": {
     "end_time": "2020-04-24T18:44:21.828883Z",
     "start_time": "2020-04-24T18:44:21.798733Z"
    }
   },
   "outputs": [],
   "source": [
    "if test:\n",
    "    %config InlineBackend.figure_format = 'retina'"
   ]
  },
  {
   "cell_type": "code",
   "execution_count": 11,
   "metadata": {
    "ExecuteTime": {
     "end_time": "2020-04-24T18:44:22.559103Z",
     "start_time": "2020-04-24T18:44:21.830104Z"
    },
    "code_folding": [
     89,
     102,
     115
    ]
   },
   "outputs": [],
   "source": [
    "app = JupyterDash(__name__,\n",
    "                  width=1000,\n",
    "                  height=1000,\n",
    "                 )\n",
    "\n",
    "APP_LAYOUT = [\n",
    "    \n",
    "    html.H1(children='CaRec Analyzer',style=bodyStyle),\n",
    "    html.Div(\"Please, think of a better name and let me know. :-)\",style=infoStyle),\n",
    "    html.Br(),\n",
    "    ####################################\n",
    "    html.Div('Enter path to a file and press enter.',style={**bodyStyle, \"display\":\"inline-box\"}),\n",
    "#     html.Div('If you I will not check for movement, so if you already have a motion-corrected file, input that directly.',style={**infoStyle, \"display\":\"inline-box\"}),\n",
    "    \n",
    "    dcc.Input(id=\"filename_input\",\n",
    "            type=\"text\",\n",
    "            placeholder=exampleNpzFile,\n",
    "            debounce=True,\n",
    "            size = 60,\n",
    "#             value=exampleRoiFile if test else \"\",\n",
    "            value=exampleNpzFile if test else \"\",\n",
    "        ),\n",
    "\n",
    "    html.Br(),\n",
    "    \n",
    "    html.Div(id=\"filename_feedback\", children=\"\",style=outputStyle),#To start, enter the full path to a file and press enter. Note, that loading can take a few seconds [for very large files even a minute].\n",
    "    \n",
    "    html.Div([html.Br(),\"    Re(set) Frequency to \"],style={**bodyStyle,'display': 'inline-block'}),\n",
    "    dcc.Input(id=\"freq_input\",\n",
    "        type=\"text\",\n",
    "        debounce=True,\n",
    "        size = 5,\n",
    "        value=\"\",\n",
    "        placeholder=\"3\",\n",
    "        style={'display': 'inline-block'}),    \n",
    "    html.Div(\"Hz  \",style={**bodyStyle,'display': 'inline-block'}),\n",
    "    html.Button(\"(Re)set frequency\", n_clicks=0, id=\"freq_button\"),\n",
    "\n",
    "    html.Div(\"[use if you need override automatic setting, or in the absence of metadata]\",style={**infoStyle,'display': 'inline-block'}),\n",
    "\n",
    "    html.Div(id=\"freq_feedback\", children=\"\",style=outputStyle),\n",
    "\n",
    "    html.Div(children=[html.Br(),\"    Spatial filtering \"],style={**bodyStyle,'display': 'inline-block'}),\n",
    "\n",
    "    dcc.Input(id=\"gSig_filt_input\",\n",
    "        type=\"text\",\n",
    "        debounce=True,\n",
    "        size = 5,\n",
    "        value=\"\",\n",
    "        placeholder=\"3\",\n",
    "        style={'display': 'inline-block'}),    \n",
    "\n",
    "    html.Div(html.Abbr(\n",
    "        children=\"[info]\",\n",
    "        title=\"\"\"For the proper analysis, you need to set the size of the spatial filter. Its value should be of the order of the  half of the typical cell dimension (in pixels!). \n",
    "You can also combine filtering at different scales by inputing a list of two (or more) integers. For example, '[5,3]' will combine filtering at 5 and at 3. Sometimes this capures better the finer structure.\n",
    "        \"\"\"\n",
    "        ),style={**infoStyle,'display': 'inline-block'}),\n",
    "    html.Button(\"Calculate ROIs\", n_clicks=0, id=\"rois_button\"),\n",
    "    html.Div(id=\"rois_feedback\", children=\"\",style=outputStyle),\n",
    "\n",
    "    html.Div(children=\"[optional] Filter\",style={**bodyStyle, 'display': 'inline-block'}),\n",
    "    \n",
    "    dcc.Input(id=\"filter_input\",\n",
    "        type=\"text\",\n",
    "        debounce=True,\n",
    "        size = 5,\n",
    "        placeholder=\"10\",\n",
    "        value=\"\",\n",
    "        style={'display': 'inline-block'}),\n",
    "    \n",
    "    html.Div(children=\" \",style={\"width\":\"20px\",'display': 'inline-block'}),\n",
    "    html.Div(children=\" \", id=\"filter_feedback\",\n",
    "             style={'display': 'inline-block',**outputStyle}),\n",
    "    \n",
    "    html.Div(style=infoStyle,\n",
    "        children=[\n",
    "        \"\"\"\n",
    "        Use this if you wish to see and/or output traces prefiltered.\n",
    "        Input the time scale (in seconds) of the longest event you wish to keep (e.g. 5), and press enter.\n",
    "        \"\"\",\n",
    "        html.Br(),],),\n",
    "    \n",
    "# #     html.H3(children='ROIs', style=bodyStyle),\n",
    "    \n",
    "    html.Div([\n",
    "        \"Show downsampled to\",\n",
    "        dcc.Input(id=\"show_freq_input\",\n",
    "            type=\"text\",\n",
    "            debounce=False,\n",
    "            size = 3,\n",
    "            value='5'),\n",
    "        \"Hz\"\n",
    "        ], style={**bodyStyle,\"display\":\"inline-block\", \"width\":\"49%\"}, ),\n",
    "    html.Div([\n",
    "        dcc.Checklist(\n",
    "            id=\"show_filtered_choice\",\n",
    "            options=[{\"label\":'Show filtered',\"value\":\"yes\"}],\n",
    "            value=[],\n",
    "            labelStyle={'vertical-align': 'bottom'},\n",
    "            style={**bodyStyle,\"display\":\"inline-box\",}\n",
    "            ),\n",
    "        \n",
    "        ]),\n",
    "    html.Br(),\n",
    "    html.Div(dcc.Graph(id='roi_selector',    figure=baseFig), style={\"display\":\"inline-block\"}),\n",
    "    html.Div(dcc.Graph(id='show_hover_trace',figure=baseFig), style={\"display\":\"inline-block\"}),\n",
    "    html.Br(),\n",
    "    html.Div(children=\n",
    "        html.Pre(\n",
    "        id=\"hover_out\",\n",
    "        children=\"hover\",\n",
    "        style={\n",
    "            \"vertical-align\":\"top\",\n",
    "            \"width\"    : \"200px\",\n",
    "            \"height\"   : \"100px\" if debug else \"0px\",\n",
    "            'border'   : 'thin lightgrey solid',\n",
    "            'overflowY': 'scroll',\n",
    "            \"display\"  : \"inline-box\"\n",
    "              }),\n",
    "             style={\"display\":\"inline-block\"}),\n",
    "    html.Div(children=\n",
    "        html.Pre(\n",
    "        id=\"selected_out\",\n",
    "        children=\"selected\",\n",
    "        style={\n",
    "            \"vertical-align\":\"top\",\n",
    "            \"width\"    : \"200px\",\n",
    "            \"height\"   : \"100px\" if debug else \"0px\",\n",
    "            'border'   : 'thin lightgrey solid',\n",
    "            'overflowY': 'scroll',\n",
    "            \"display\"  : \"inline-box\"\n",
    "              }),\n",
    "             style={\"display\":\"inline-block\"}),\n",
    "    html.Div(children=\n",
    "        html.Pre(\n",
    "        id=\"hover_plot_out\",\n",
    "        children=\"hover plot out\",\n",
    "        style={\n",
    "            \"vertical-align\":\"top\",\n",
    "            \"width\"    : \"200px\",\n",
    "            \"height\"   : \"100px\" if debug else \"0px\",\n",
    "            'border'   : 'thin lightgrey solid',\n",
    "            'overflowY': 'scroll',\n",
    "            \"display\"  : \"inline-box\"\n",
    "              }),\n",
    "             style={\"display\":\"inline-block\"}),\n",
    "    html.Div(children=\n",
    "        html.Pre(\n",
    "        id=\"spare_out\",\n",
    "        children=\"spare\",\n",
    "        style={\n",
    "            \"vertical-align\":\"top\",\n",
    "            \"width\"    : \"200px\",\n",
    "            \"height\"   : \"100px\" if debug else \"0px\",\n",
    "            'border'   : 'thin lightgrey solid',\n",
    "            'overflowY': 'scroll',\n",
    "            \"display\"  : \"inline-box\"\n",
    "              }),\n",
    "             style={\"display\":\"inline-block\"}),\n",
    "    \n",
    "    html.Div([\n",
    "       \"Selected ROIs:\",\n",
    "        dcc.Input(id=\"selected_indices\",\n",
    "            type=\"text\",\n",
    "            debounce=True,\n",
    "            size=60,\n",
    "            value=\"\",\n",
    "         ), \n",
    "        html.Button('Discard unselected', id='discard_button', style={\"display\":\"inline-box\"},\n",
    "                    n_clicks=0\n",
    "                   ),\n",
    "        html.Div(id=\"discard_feedback\",children=\"\",\n",
    "             style={\"display\":\"inline-box\",**outputStyle,\n",
    "#                     \"width\":100\n",
    "                   }\n",
    "            )\n",
    "    ],style={**bodyStyle,\"display\":\"inline-box\"}),\n",
    "    \n",
    "    \n",
    "    html.Div([\n",
    "    html.Button('Plot selected', id='plot_selected_button', style={\"display\":\"inline-box\"},\n",
    "                n_clicks=0\n",
    "               ),\n",
    "        html.Div(\"... with offset: \", style={**bodyStyle,\"display\":\"inline-block\"}),\n",
    "        html.Div(dcc.Input(id=\"offset_input\",\n",
    "            type=\"text\",\n",
    "            debounce=False,\n",
    "            size=3,\n",
    "            value='1'), style={**bodyStyle,\"display\":\"inline-block\"}),\n",
    "        html.Div(\"(only when showing filtered)\", style={**infoStyle,\"display\":\"inline-block\"}),\n",
    "    ]),\n",
    "    \n",
    "    \n",
    "    html.Div(dcc.Graph(id='show_selected_traces',figure=getFigure(h=10,w=700))),\n",
    "    \n",
    "\n",
    "#     # html.Div([\n",
    "#     #     \"Save tag to selected rois: \",\n",
    "#     #     dcc.Input(id=\"tag_save\",\n",
    "#     #         type=\"text\",\n",
    "#     #         debounce=False,\n",
    "#     #         size = 30,\n",
    "#     #         placeholder=\"e.g. beta, alpha, edge, central...\",\n",
    "#     #         value=''),\n",
    "#     #     html.Div(\"save_tag_feedback\",style=outputStyle,id=\"save_tag_feedback\"),\n",
    "#     # ]),\n",
    "    \n",
    "    \n",
    "    html.H3(\"Save all\"),\n",
    "    html.Div([\n",
    "        \"When you are happy with your analysis, you can save it. By default, the analysis (traces and coordinates) is saved as the current date (e.g. 2020_02_18) in the directory\",\n",
    "        html.Div(\"\",style=outputStyle,id=\"analysis_folder\"),\n",
    "        \"You can modify the filename by adding to it some other identifier(s) by entering them in the input box below. I suggest your username.\",\n",
    "        \"When you are ready, press save.\"\n",
    "        \"Note also that the traces and times will be saved with the frequency close (yet not necessarily the same) to the one given in the field 'Show downsampled'. \"\n",
    "    ]),\n",
    "    dcc.Input(id=\"save_file_append\",\n",
    "        type=\"text\",\n",
    "        debounce=False,\n",
    "        size = 30,\n",
    "        placeholder=\"e.g. username\",\n",
    "        value='',style={\"display\":\"inline-box\"}),\n",
    "    html.Button('Save', id='save_button', style={\"display\":\"inline-box\"},\n",
    "                n_clicks=0\n",
    "               ),\n",
    "    html.Div(id=\"save_feedback\",\n",
    "             style={\"display\":\"inline-box\",**outputStyle}\n",
    "            )\n",
    "    ]\n",
    "\n",
    "# test=False"
   ]
  },
  {
   "cell_type": "code",
   "execution_count": 12,
   "metadata": {
    "ExecuteTime": {
     "end_time": "2020-04-24T18:44:22.577251Z",
     "start_time": "2020-04-24T18:44:22.560463Z"
    },
    "code_folding": []
   },
   "outputs": [],
   "source": [
    "@app.callback([Output(\"filename_feedback\", \"children\"),\n",
    "               Output(\"gSig_filt_input\", \"value\"),\n",
    "               Output(\"freq_input\", \"value\"),\n",
    "               Output(\"analysis_folder\",\"children\")\n",
    "              ],\n",
    "              [Input(\"filename_input\", \"value\")],\n",
    "#               [State(\"check_movement_choice\",\"value\")]\n",
    "             )\n",
    "def loadFiles(val):\n",
    "    if str(val)==\"\":\n",
    "        return ('Loading can take a some time [for very large files even minutes].',\"\",\"\",\"\")\n",
    "    try:\n",
    "        from pandas import read_csv\n",
    "        global regions, movie\n",
    "        npzFile = val\n",
    "        if val.endswith(\".npz\"):\n",
    "            analysisFolder = npzFile.replace(\".npz\",\"_analysis\")\n",
    "            if not test:\n",
    "                reimport = True\n",
    "            else:\n",
    "                try:\n",
    "                    movie.fr\n",
    "                    reimport = False\n",
    "                except:\n",
    "                    reimport = True\n",
    "            if reimport:\n",
    "                movie = import_npz_files([npzFile])\n",
    "                movie = movie.astype(\"float\")\n",
    "                if len(movie.shape)==2:        \n",
    "                    movie = movie.reshape((1,-1))\n",
    "                movie = cmovie(movie)\n",
    "                \n",
    "            timeframes = len(movie)\n",
    "            feedback = [\n",
    "                f\"{npzFile} loaded successfully.\",\n",
    "                html.Br(),\n",
    "            ]\n",
    "                \n",
    "\n",
    "            try:\n",
    "                metadata = read_csv(npzFile.replace(\"npz\",\"txt\")).loc[0]\n",
    "#                 if not hasattr(metadata,\"freq\"):\n",
    "#                     metadata.freq = 1\n",
    "                movie.fr = metadata.freq\n",
    "                timeframes = metadata['T']\n",
    "                assert timeframes==len(movie)\n",
    "                freq = metadata.freq\n",
    "                pxsize = metadata.pxSize\n",
    "                \n",
    "                feedback += [\n",
    "                    f\"Info from metadata: frequency {freq:.4} Hz, and pixel size {pxsize:.3} µm.\",\n",
    "                html.Br(),\n",
    "                ]\n",
    "                outFilterSize = str(int(np.ceil(6./pxsize)))\n",
    "                feedback += [\n",
    "                    f\"Automatic size of the spatial filter based on the pixel size: {outFilterSize} [you can change it below]\",\n",
    "                    html.Br(),]\n",
    "            except:\n",
    "                feedback += [\n",
    "                    f\"WARNING: Missing medatada. I will assume a frequncy of 1Hz for the first setup.\",\n",
    "                    \"In case you actually know the frequency, you can change it down.\"\n",
    "                    \"Also, think carefully about the size of the spatial filter. See hover info.\",\n",
    "                html.Br(),\n",
    "                ]\n",
    "                outFilterSize = None\n",
    "                freq = 1\n",
    "                \n",
    "            movie.fr = freq\n",
    "                \n",
    "\n",
    "            # resample temporarily to lower frequency, to initiate ROIs and check for motion correction\n",
    "            if freq>3:\n",
    "\n",
    "                freqMC = 3\n",
    "                n_rebin = int(movie.fr/freqMC)\n",
    "\n",
    "                rebinned_movie = rebin(movie,n_rebin).astype(\"float32\")\n",
    "                rebinned_movie = cmovie(rebinned_movie)\n",
    "                rebinned_movie.fr = movie.fr/n_rebin\n",
    "            else:\n",
    "                rebinned_movie = movie.astype(\"float32\")\n",
    "\n",
    "            # initiate ROIs\n",
    "#             regions = createRegions(rebinned_movie, gSig_filt=None, full=False, mode=\"diff_std\", dr)\n",
    "            regions = Regions(rebinned_movie, full=False, diag=True)\n",
    "            del regions.statImages[\"diff_mean\"]\n",
    "            regions.movie = movie\n",
    "            regions.file = val\n",
    "            try: regions.metadata = metadata\n",
    "            except: pass\n",
    "            \n",
    "\n",
    "            return (feedback, outFilterSize,str(freq), analysisFolder)\n",
    "        \n",
    "        if val.endswith(\".roi\") or val.endswith(\".pkl\"):\n",
    "            if test:\n",
    "                try: regions.time\n",
    "                except:\n",
    "                    with open(val,\"rb\") as f:\n",
    "                        regions = pickle.load(f)\n",
    "            else:\n",
    "                with open(val,\"rb\") as f:\n",
    "                    regions = pickle.load(f)\n",
    "                    \n",
    "            freq = 1/np.diff(regions.time).mean()\n",
    "            regions.movie.fr = freq\n",
    "            regions.file = val\n",
    "            feedback = [f\"Roi file imported successfully. The movie dimensions (T,X,Y) are {regions.movie.shape}, and the frequency is {freq:.1f}Hz. This means the duration of the recording is {regions.movie.shape[0]/freq:.1f}s.\"]\n",
    "            feedback += [html.Br(), f\"The file was saved with the filter size(s): {regions.filterSize}\"]\n",
    "            filterOut = str(regions.filterSize).replace(\" \",\",\")\n",
    "            freqOut = \"%.1f\"%freq\n",
    "            analysisFolder = os.path.split(val)[0]+\"/\"\n",
    "            return (feedback, filterOut, freqOut, analysisFolder)\n",
    "            \n",
    "    except:\n",
    "        return ([html.P(\"ERROR: \"+exc_info().__repr__())], \"\", \"\", \"\")"
   ]
  },
  {
   "cell_type": "code",
   "execution_count": 13,
   "metadata": {
    "ExecuteTime": {
     "end_time": "2020-04-24T18:44:22.611581Z",
     "start_time": "2020-04-24T18:44:22.578333Z"
    },
    "code_folding": [
     5
    ]
   },
   "outputs": [],
   "source": [
    "@app.callback(\n",
    "    Output(\"freq_feedback\", \"children\"),\n",
    "    [Input(\"freq_button\", \"n_clicks\")],\n",
    "    [State(\"freq_input\", \"value\")]\n",
    "             )\n",
    "def resetFreq_callback(n_clicks,newfreq):\n",
    "\n",
    "    try:\n",
    "        if n_clicks <= 0:\n",
    "            return \"\"\n",
    "        else:\n",
    "            global regions\n",
    "            newFreq = float(newfreq)\n",
    "            regions.time = np.arange(len(regions.movie))/newFreq\n",
    "            regions.movie.fr = newFreq\n",
    "            return \"Movie frequency set to %.1f Hz\"%newFreq\n",
    "    except:\n",
    "            return \"ERROR: \"+exc_info().__repr__()"
   ]
  },
  {
   "cell_type": "code",
   "execution_count": 14,
   "metadata": {
    "ExecuteTime": {
     "end_time": "2020-04-24T18:44:22.625782Z",
     "start_time": "2020-04-24T18:44:22.612657Z"
    },
    "code_folding": []
   },
   "outputs": [],
   "source": [
    "@app.callback([\n",
    "    Output(\"rois_feedback\", \"children\"),\n",
    "    Output(\"roi_selector\",\"figure\")\n",
    "    ],\n",
    "    [Input(\"rois_button\", \"n_clicks\")],\n",
    "    [State(\"gSig_filt_input\", \"value\")]\n",
    "             )\n",
    "def rois_callback(n_clicks,val):\n",
    "\n",
    "    try:\n",
    "        if n_clicks <= 0:\n",
    "            return \"\", baseFig\n",
    "        else:\n",
    "            global regions\n",
    "        x = eval(val)\n",
    "        if type(x) == int:\n",
    "            x = [x]\n",
    "        feedback = []\n",
    "        if not hasattr(regions, \"filterSize\") or sorted(regions.filterSize) != sorted(x):\n",
    "            feedback += [f\"Size of the spatial filter changed to {x}.\",html.Br()]\n",
    "            regions.constructRois(regions.statImages[regions.mode], gSig_filt=x, diag=True)\n",
    "            # merge obvious ROIs\n",
    "            from Regions import getPeak2BoundaryDF, getGraph_of_ROIs_to_Merge, mergeBasedOnGraph\n",
    "            while True:\n",
    "                peak2bnd = getPeak2BoundaryDF(regions.df)\n",
    "                df = peak2bnd.query(\"dist<1.\")[[\"i\",\"j\"]]\n",
    "                if len(df)==0: break\n",
    "                gRois = getGraph_of_ROIs_to_Merge(df,regions,plot=False)\n",
    "                dropped = mergeBasedOnGraph(gRois,regions)\n",
    "                if dropped == 0: break\n",
    "\n",
    "            regions.purge_lones((min(x)*.5)**2)\n",
    "            regions.sortFromCenter()\n",
    "        \n",
    "            \n",
    "        feedback += [f\" Number of ROIs: {len(regions.df)}\"]\n",
    "        im = regions.statImages[\"diff_std\"]\n",
    "        roisImage = showRoisOnly(regions,indices=regions.df.index,im=im)\n",
    "\n",
    "#         roisImage.update_layout({\"width\":220,\"height\":240})\n",
    "#         aspectRatio = im[1]/im[0]\n",
    "        \n",
    "        return feedback, roisImage\n",
    "\n",
    "    except:\n",
    "            return \"ERROR: \"+exc_info().__repr__(), baseFig"
   ]
  },
  {
   "cell_type": "code",
   "execution_count": 15,
   "metadata": {
    "ExecuteTime": {
     "end_time": "2020-04-24T18:44:22.679560Z",
     "start_time": "2020-04-24T18:44:22.626894Z"
    }
   },
   "outputs": [],
   "source": [
    "@app.callback(\n",
    "    Output(\"selected_out\", \"children\"),\n",
    "    [Input(\"roi_selector\", \"selectedData\")],\n",
    "    )\n",
    "def showSelected(selData):\n",
    "    try:\n",
    "        return json.dumps(selData, indent=2)\n",
    "    except:\n",
    "        return \"ERROR from hover: \"+exc_info().__repr__() \n",
    "\n",
    "@app.callback(\n",
    "    Output(\"selected_indices\", \"value\"),\n",
    "    [Input(\"roi_selector\", \"selectedData\")]\n",
    ")\n",
    "def collectSelected(selData):\n",
    "    try:\n",
    "        out = np.unique([pt[\"hovertext\"] for pt in selData[\"points\"]])\n",
    "        out = sorted(out,key=int)\n",
    "        return \", \".join(out)\n",
    "    except:\n",
    "        return \"\" "
   ]
  },
  {
   "cell_type": "code",
   "execution_count": 16,
   "metadata": {
    "ExecuteTime": {
     "end_time": "2020-04-24T18:44:22.720115Z",
     "start_time": "2020-04-24T18:44:22.680893Z"
    },
    "code_folding": []
   },
   "outputs": [],
   "source": [
    "\n",
    "\n",
    "@app.callback(\n",
    "#      Output(\"roi_selector\", \"figure\"),\n",
    "     Output(\"discard_feedback\", \"children\"),\n",
    "    [Input(\"discard_button\",   \"n_clicks\")],\n",
    "    [State(\"selected_indices\", \"value\")]\n",
    "             )\n",
    "def discard_callback(n_clicks,selected):\n",
    "    try:\n",
    "        if n_clicks <= 0:\n",
    "            return \"\"\n",
    "\n",
    "        global regions\n",
    "        if selected == \"\":\n",
    "            out = \"nothing selected.\"\n",
    "        else:\n",
    "            selectedIndices = np.array(list(eval(selected)))\n",
    "            nremoved = len(regions.df)-len(selectedIndices)\n",
    "            regions.df = regions.df.loc[selectedIndices]\n",
    "            out = \"%i rois removed. Please, press again the button to 'Calculate Rois', to replot the remaining rois.\"%(nremoved)\n",
    "\n",
    "#         roisImage = showRoisOnly(regions,indices=regions.df.index,im=regions.statImages[\"diff_std\"])\n",
    "#         if narrowHover:\n",
    "#             roisImage.update_layout({\"width\":220,\"height\":240})\n",
    "        return out\n",
    "    except:\n",
    "        return \"ERROR: \"+exc_info().__repr__()"
   ]
  },
  {
   "cell_type": "code",
   "execution_count": 17,
   "metadata": {
    "ExecuteTime": {
     "end_time": "2020-04-24T18:44:22.774916Z",
     "start_time": "2020-04-24T18:44:22.721173Z"
    },
    "code_folding": []
   },
   "outputs": [],
   "source": [
    "@app.callback(\n",
    "    [Output(\"show_hover_trace\", \"figure\"),\n",
    "     Output(\"hover_plot_out\", \"children\")],\n",
    "    [Input(\"roi_selector\", \"hoverData\")],\n",
    "    [State(\"show_freq_input\", \"value\"),\n",
    "     State(\"show_filtered_choice\", \"value\"),])\n",
    "def plotHovered_callback(hoverData, showFreq, showFiltered):\n",
    "    try:\n",
    "        global regions\n",
    "        showFreq = float(showFreq)\n",
    "        filtered = bool(len(showFiltered))\n",
    "        colToshow = parseCol(regions, showFreq, filtered)\n",
    "        showCol = [colToshow]\n",
    "        #if filtered:\n",
    "            #try: showCol += [colToshow+\"_slow\"]\n",
    "            #except: pass\n",
    "        try:\n",
    "            hoverData.dtype\n",
    "            ix = hoverData\n",
    "        except:\n",
    "            ix = [int(hoverData[\"points\"][0][\"hovertext\"])]\n",
    "\n",
    "        trfig = plotTraces(regions,indices=ix,time=regions.showTime[colToshow], showCol=showCol)\n",
    "#         if narrowHover:\n",
    "#         trfig.update_layout({\"width\":220,\"height\":200})\n",
    "        return trfig,\"ok \"\n",
    "    except:\n",
    "        return baseFig,\"ERROR from plotHovered_callback: \"+exc_info().__repr__() "
   ]
  },
  {
   "cell_type": "code",
   "execution_count": 18,
   "metadata": {
    "ExecuteTime": {
     "end_time": "2020-04-24T18:44:22.846165Z",
     "start_time": "2020-04-24T18:44:22.776017Z"
    },
    "code_folding": [
     0
    ]
   },
   "outputs": [],
   "source": [
    "def parseCol(regions, showFreq, filtered):\n",
    "    if not hasattr(regions,\"time\"):\n",
    "        regions.calcTraces(movie)\n",
    "    if \"trace\" not in regions.df:\n",
    "        regions.calcTraces(movie)\n",
    "    if filtered:\n",
    "        col = \"showFilteredTrace_%.1f\"%showFreq\n",
    "        col0 = \"filteredTrace\"\n",
    "    else:\n",
    "        col = \"showTrace_%.1f\"%showFreq\n",
    "        col0 = \"trace\"\n",
    "    regions.df[col0]\n",
    "    if not hasattr(regions,\"showTime\"):\n",
    "        print ('creating empty showTime.')\n",
    "        regions.showTime = {}\n",
    "    if col not in regions.df.columns:\n",
    "        n_Avg = int(regions.movie.fr/showFreq)\n",
    "        n_Avg = max(1,n_Avg)\n",
    "        if n_Avg<=1:\n",
    "            regions.showTime[col] = regions.time\n",
    "            regions.df[col] = regions.df[col0]\n",
    "        else:\n",
    "            print ('creating',col)\n",
    "            regions.showTime[col] = rebin(regions.time,n_Avg)\n",
    "            regions.df[col] = list(np.ones((len(regions.df),len(regions.showTime[col]))))\n",
    "            #if filtered:\n",
    "                #regions.df[col+\"_slow\"] = list(np.ones((len(regions.df),len(regions.showTime[col]))))\n",
    "            for i in regions.df.index:\n",
    "                if i==0:\n",
    "                    print (\"filling in\", col)\n",
    "                regions.df[col].loc[i] = rebin(regions.df.loc[i,col0],n_Avg)\n",
    "                #regions.df[col+\"_slow\"].loc[i] = rebin(regions.df.loc[i,col0+\"_slow\"],n_Avg)\n",
    "    return col"
   ]
  },
  {
   "cell_type": "code",
   "execution_count": 19,
   "metadata": {
    "ExecuteTime": {
     "end_time": "2020-04-24T18:44:22.927823Z",
     "start_time": "2020-04-24T18:44:22.847327Z"
    },
    "code_folding": [
     4
    ]
   },
   "outputs": [],
   "source": [
    "@app.callback(\n",
    "    Output(\"filter_feedback\", \"children\"),\n",
    "    [Input(\"filter_input\", \"value\")]\n",
    "             )\n",
    "def filter_callback(val):\n",
    "    try:\n",
    "        if val == \"\":\n",
    "            feedback = \"\"\n",
    "        else:\n",
    "            global regions\n",
    "            timeScale = float(val)\n",
    "            filterSize = int(timeScale*regions.movie.fr)\n",
    "            if filterSize<10:\n",
    "                return f\"Filer size would need to be {filterSize}. This is too short time scale. I cannot work like this! :-P\"\n",
    "            feedback = \"You chose to discard all time structure longer than %g seconds.\"%timeScale\n",
    "            if filterSize<20:\n",
    "                feedback = \" This a rather short time scale, can't guarantee for the results.\"\n",
    "            if \"faster_%g\"%timeScale not in regions.df:\n",
    "                regions.filter_traces(timeScale,percentile = [10,10], calcStd=False)\n",
    "            regions.df[\"filteredTrace\"] = regions.df[\"faster_%g\"%timeScale]\n",
    "            regions.df[\"filteredTrace_slow\"] = regions.df[\"faster_%g\"%timeScale]\n",
    "            for col in regions.df.columns:\n",
    "                if \"show\" in col:\n",
    "                    del regions.df[col]\n",
    "            feedback += \" Filtering successful.\"\n",
    "        return feedback\n",
    "    except:\n",
    "        return \"ERROR: \"+exc_info().__repr__()\n",
    "    "
   ]
  },
  {
   "cell_type": "code",
   "execution_count": 20,
   "metadata": {
    "ExecuteTime": {
     "end_time": "2020-04-24T18:44:23.077134Z",
     "start_time": "2020-04-24T18:44:22.928889Z"
    },
    "code_folding": [
     9
    ]
   },
   "outputs": [],
   "source": [
    "@app.callback(\n",
    "    [Output(\"show_selected_traces\", \"figure\"),\n",
    "     Output(\"spare_out\", \"children\"),\n",
    "    ],\n",
    "    [Input(\"plot_selected_button\", \"n_clicks\")],\n",
    "    [State(\"selected_indices\", \"value\"),\n",
    "     State(\"show_freq_input\", \"value\"),\n",
    "     State(\"show_filtered_choice\", \"value\"),\n",
    "     State(\"offset_input\", \"value\"),],)\n",
    "def plotTraces_callback(n_clicks, chosen, showFreq, showFiltered, offset, forceOffset=False):\n",
    "    try:\n",
    "        if n_clicks<=0 or chosen==\"\":\n",
    "            return baseFig,\"waiting\"\n",
    "        global regions,movie\n",
    "        showFreq = float(showFreq)\n",
    "        filtered = bool(len(showFiltered))\n",
    "        if forceOffset:\n",
    "            offset = float(offset)\n",
    "        else:\n",
    "            offset = float(offset) if filtered else 0\n",
    "        colToshow = parseCol(regions, showFreq, filtered)\n",
    "        if chosen==\"\":\n",
    "            return baseFig, \"nothing yet\"\n",
    "        try:\n",
    "            ix = np.array(chosen.strip(\" ,\").split(\",\"))\n",
    "            ix = ix.astype(int)\n",
    "            trfig = plotTraces(regions,indices=ix,time=regions.showTime[colToshow], showCol=[colToshow], offset=offset)\n",
    "            trfig.update_layout({\"width\":800,\"height\":200+50*np.log(4*len(ix))})\n",
    "            return trfig,\"ok: \"+repr((chosen, showFreq, showFiltered, offset))\n",
    "        except:\n",
    "            return baseFig,\"error in chosen parsing\"+repr(chosen)\n",
    "    except:\n",
    "        return baseFig,\"ERROR from plotTraces_callback: \"+exc_info().__repr__() "
   ]
  },
  {
   "cell_type": "code",
   "execution_count": 21,
   "metadata": {
    "ExecuteTime": {
     "end_time": "2020-04-24T18:44:23.227257Z",
     "start_time": "2020-04-24T18:44:23.078233Z"
    },
    "code_folding": []
   },
   "outputs": [],
   "source": [
    "@app.callback(\n",
    "    Output(\"hover_out\", \"children\"),\n",
    "    [Input(\"roi_selector\", \"hoverData\")],\n",
    "    )\n",
    "def showHovered(hoverData):\n",
    "    try:\n",
    "        return json.dumps(hoverData, indent=2)\n",
    "    except:\n",
    "        return \"ERROR from hover: \"+exc_info().__repr__() \n",
    "\n"
   ]
  },
  {
   "cell_type": "code",
   "execution_count": 22,
   "metadata": {
    "ExecuteTime": {
     "end_time": "2020-04-24T18:44:23.280786Z",
     "start_time": "2020-04-24T18:44:23.228388Z"
    },
    "code_folding": []
   },
   "outputs": [],
   "source": [
    "@app.callback(\n",
    "    Output(\"save_feedback\", \"children\"),\n",
    "    [Input(\"save_button\", \"n_clicks\")],\n",
    "    [State(\"save_file_append\", \"value\"   ),\n",
    "     State(\"show_freq_input\", \"value\"),\n",
    "     State(\"analysis_folder\",\"children\")\n",
    "    ]\n",
    "             )\n",
    "def save_callback(n_clicks,filename, showFreq, outDir):\n",
    "\n",
    "    try:\n",
    "        if n_clicks <= 0:\n",
    "            return \"saving can take a few seconds.\"\n",
    "        else:\n",
    "            global regions\n",
    "#             filename = regions.file\n",
    "#             if filename.endswith(\"roi\") or filename.endswith(\"pkl\"):\n",
    "#                 outDir = os.path.split(filename)[0]\n",
    "#             else:\n",
    "#                 ext = filename.split(\".\")[1]\n",
    "#                 outDir = filename.replace(\".\"+ext,\"_analysis\")\n",
    "            \n",
    "            return saveRois(regions, outDir, filename, format=\"maribor\", col=parseCol(regions, float(showFreq), True))\n",
    "    except:\n",
    "            return \"ERROR: \"+exc_info().__repr__()"
   ]
  },
  {
   "cell_type": "code",
   "execution_count": 23,
   "metadata": {
    "ExecuteTime": {
     "end_time": "2020-04-24T18:44:23.338750Z",
     "start_time": "2020-04-24T18:44:23.284103Z"
    }
   },
   "outputs": [],
   "source": [
    "# app.layout = html.Div(children=APP_LAYOUT)\n",
    "# app"
   ]
  },
  {
   "cell_type": "code",
   "execution_count": 24,
   "metadata": {
    "ExecuteTime": {
     "end_time": "2020-04-24T18:44:23.743432Z",
     "start_time": "2020-04-24T18:44:23.339803Z"
    }
   },
   "outputs": [
    {
     "data": {
      "text/html": [
       "open the following link in a different tab (do not close this tab!): <a href=\"https://ctn.physiologie.meduniwien.ac.at/user/srdjan/app/endpoints/5af4e110fd984e65b26217a898afbe5a/\">https://ctn.physiologie.meduniwien.ac.at/user/srdjan/app/endpoints/5af4e110fd984e65b26217a898afbe5a/</a>"
      ],
      "text/plain": [
       "<IPython.core.display.HTML object>"
      ]
     },
     "execution_count": 24,
     "metadata": {},
     "output_type": "execute_result"
    }
   ],
   "source": [
    "app.layout = html.Div(children=APP_LAYOUT)\n",
    "app._repr_html_() \n",
    "link2app = \"https://ctn.physiologie.meduniwien.ac.at\"+app.get_app_root_url()\n",
    "HTML(f'open the following link in a different tab (do not close this tab!): <a href=\"{link2app}\">{link2app}</a>')"
   ]
  },
  {
   "cell_type": "code",
   "execution_count": null,
   "metadata": {},
   "outputs": [],
   "source": []
  },
  {
   "cell_type": "code",
   "execution_count": null,
   "metadata": {},
   "outputs": [],
   "source": []
  },
  {
   "cell_type": "code",
   "execution_count": null,
   "metadata": {},
   "outputs": [],
   "source": []
  },
  {
   "cell_type": "code",
   "execution_count": null,
   "metadata": {},
   "outputs": [],
   "source": []
  },
  {
   "cell_type": "code",
   "execution_count": null,
   "metadata": {},
   "outputs": [],
   "source": []
  },
  {
   "cell_type": "code",
   "execution_count": null,
   "metadata": {},
   "outputs": [],
   "source": []
  },
  {
   "cell_type": "code",
   "execution_count": null,
   "metadata": {},
   "outputs": [],
   "source": []
  },
  {
   "cell_type": "code",
   "execution_count": null,
   "metadata": {},
   "outputs": [],
   "source": []
  },
  {
   "cell_type": "code",
   "execution_count": 30,
   "metadata": {
    "ExecuteTime": {
     "end_time": "2020-04-23T12:52:35.702077Z",
     "start_time": "2020-04-23T12:52:35.697249Z"
    }
   },
   "outputs": [
    {
     "data": {
      "text/plain": [
       "'local_data/testdir/Experiment38a_18_Series040.npz'"
      ]
     },
     "execution_count": 30,
     "metadata": {},
     "output_type": "execute_result"
    }
   ],
   "source": [
    "exampleNpzFile"
   ]
  },
  {
   "cell_type": "code",
   "execution_count": 32,
   "metadata": {
    "ExecuteTime": {
     "end_time": "2020-04-23T12:53:28.608687Z",
     "start_time": "2020-04-23T12:53:27.775884Z"
    }
   },
   "outputs": [],
   "source": [
    "dd = np.loadtxt(\"local_data/Sandra/2019_10_16/Experiment39a/Experiment39a_8_Series019_analysis/2020_04_23_marjan_test_trace_for_mb.txt\")"
   ]
  },
  {
   "cell_type": "code",
   "execution_count": 38,
   "metadata": {
    "ExecuteTime": {
     "end_time": "2020-04-23T12:54:16.751218Z",
     "start_time": "2020-04-23T12:54:16.747317Z"
    }
   },
   "outputs": [],
   "source": [
    "signal = dd[:-1,1:len(dd[0])]"
   ]
  },
  {
   "cell_type": "code",
   "execution_count": 41,
   "metadata": {
    "ExecuteTime": {
     "end_time": "2020-04-23T12:54:35.450043Z",
     "start_time": "2020-04-23T12:54:35.250528Z"
    }
   },
   "outputs": [
    {
     "data": {
      "text/plain": [
       "[<matplotlib.lines.Line2D at 0x7ff51664f590>]"
      ]
     },
     "execution_count": 41,
     "metadata": {},
     "output_type": "execute_result"
    },
    {
     "data": {
      "image/png": "[encoded data removed]",
      "text/plain": [
       "<Figure size 432x288 with 1 Axes>"
      ]
     },
     "metadata": {
      "image/png": {
       "height": 248,
       "width": 368
      },
      "needs_background": "light"
     },
     "output_type": "display_data"
    }
   ],
   "source": [
    "plt.plot(signal.T[1])"
   ]
  },
  {
   "cell_type": "code",
   "execution_count": 36,
   "metadata": {
    "ExecuteTime": {
     "end_time": "2020-04-23T12:53:59.797567Z",
     "start_time": "2020-04-23T12:53:59.636142Z"
    }
   },
   "outputs": [
    {
     "data": {
      "text/plain": [
       "[<matplotlib.lines.Line2D at 0x7ff51684e210>]"
      ]
     },
     "execution_count": 36,
     "metadata": {},
     "output_type": "execute_result"
    },
    {
     "data": {
      "image/png": "[encoded data removed]",
      "text/plain": [
       "<Figure size 432x288 with 1 Axes>"
      ]
     },
     "metadata": {
      "image/png": {
       "height": 248,
       "width": 381
      },
      "needs_background": "light"
     },
     "output_type": "display_data"
    }
   ],
   "source": [
    "plt.plot(dd[:-1,0])"
   ]
  },
  {
   "cell_type": "code",
   "execution_count": null,
   "metadata": {},
   "outputs": [],
   "source": []
  }
 ],
 "metadata": {
  "kernelspec": {
   "display_name": "Python [conda env:physio]",
   "language": "python",
   "name": "conda-env-physio-py"
  },
  "language_info": {
   "codemirror_mode": {
    "name": "ipython",
    "version": 3
   },
   "file_extension": ".py",
   "mimetype": "text/x-python",
   "name": "python",
   "nbconvert_exporter": "python",
   "pygments_lexer": "ipython3",
   "version": "3.7.6"
  },
  "toc": {
   "base_numbering": 1,
   "nav_menu": {},
   "number_sections": true,
   "sideBar": true,
   "skip_h1_title": false,
   "title_cell": "Table of Contents",
   "title_sidebar": "Contents",
   "toc_cell": false,
   "toc_position": {},
   "toc_section_display": true,
   "toc_window_display": false
  }
 },
 "nbformat": 4,
 "nbformat_minor": 2
}
