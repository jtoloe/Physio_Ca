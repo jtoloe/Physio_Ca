{
 "cells": [
  {
   "cell_type": "code",
   "execution_count": 1,
   "metadata": {
    "ExecuteTime": {
     "end_time": "2020-01-30T11:02:12.426038Z",
     "start_time": "2020-01-30T11:02:12.417920Z"
    }
   },
   "outputs": [
    {
     "data": {
      "text/html": [
       "<style>.container { width:100% !important; }</style>"
      ],
      "text/plain": [
       "<IPython.core.display.HTML object>"
      ]
     },
     "metadata": {},
     "output_type": "display_data"
    }
   ],
   "source": [
    "from IPython.core.display import display, HTML\n",
    "display(HTML(\"<style>.container { width:100% !important; }</style>\"))"
   ]
  },
  {
   "cell_type": "code",
   "execution_count": 2,
   "metadata": {
    "ExecuteTime": {
     "end_time": "2020-01-30T11:02:13.019586Z",
     "start_time": "2020-01-30T11:02:12.428925Z"
    }
   },
   "outputs": [],
   "source": [
    "from jupyter_plotly_dash import JupyterDash\n",
    "from dash.dependencies import Input, Output\n",
    "import dash_core_components as dcc\n",
    "import dash_html_components as html\n",
    "import plotly.graph_objects as go\n",
    "import numpy as np\n",
    "import os\n",
    "from sys import path as syspath\n",
    "syspath.append(os.path.expanduser(\"~/srdjan_functs/\"))"
   ]
  },
  {
   "cell_type": "code",
   "execution_count": 3,
   "metadata": {
    "ExecuteTime": {
     "end_time": "2020-01-30T11:02:13.886596Z",
     "start_time": "2020-01-30T11:02:13.021008Z"
    }
   },
   "outputs": [],
   "source": [
    "%load_ext autoreload\n",
    "%autoreload 1\n",
    "%aimport Regions, physio_def_1, numeric\n",
    "\n",
    "from physio_def_1 import *\n",
    "from numeric import *"
   ]
  },
  {
   "cell_type": "code",
   "execution_count": 4,
   "metadata": {
    "ExecuteTime": {
     "end_time": "2020-01-30T11:02:13.891104Z",
     "start_time": "2020-01-30T11:02:13.888120Z"
    }
   },
   "outputs": [],
   "source": [
    "image = np.random.rand(128,128)\n",
    "movie = np.repeat([image],3,axis=0)"
   ]
  },
  {
   "cell_type": "code",
   "execution_count": 5,
   "metadata": {
    "ExecuteTime": {
     "end_time": "2020-01-30T11:02:14.596634Z",
     "start_time": "2020-01-30T11:02:14.423436Z"
    }
   },
   "outputs": [],
   "source": [
    "app = JupyterDash(__name__,\n",
    "                  width=800,\n",
    "                  height=800,\n",
    "                 )"
   ]
  },
  {
   "cell_type": "code",
   "execution_count": 6,
   "metadata": {
    "ExecuteTime": {
     "end_time": "2020-01-30T11:02:16.731944Z",
     "start_time": "2020-01-30T11:02:16.653985Z"
    }
   },
   "outputs": [],
   "source": [
    "app.layout = html.Div(children=[\n",
    "    html.H1(children='Hello Dash'),\n",
    "\n",
    "    html.Div(children='''\n",
    "        Enter path to npz, and press enter.\n",
    "    '''),\n",
    "    \n",
    "    dcc.Input(\n",
    "            id=\"npz_filename\",\n",
    "            type=\"text\",\n",
    "            placeholder=\"path to the npz file\",\n",
    "            debounce=True,\n",
    "            size = 50,\n",
    "        ),\n",
    "\n",
    "    dcc.Graph(\n",
    "        id='imshow',\n",
    "        figure={\n",
    "            'data': [go.Heatmap(\n",
    "                    z=image)],\n",
    "            \"layout\": go.Layout(\n",
    "            height=300,\n",
    "            width=300,\n",
    "            paper_bgcolor= 'whitesmoke',)\n",
    "        }\n",
    "    ),\n",
    "    \n",
    "    html.Div(children='''\n",
    "        Apparently, you chose this file:\n",
    "    '''),\n",
    "    html.Div(id=\"out-npz_filename\"),\n",
    "    \n",
    "    html.Div(children='''\n",
    "        The first element of this movie is:\n",
    "    '''),\n",
    "    html.Div(id=\"first_element\"),\n",
    "    html.Button(\"Update Figure\", id=\"button\", n_clicks=1),\n",
    "\n",
    "])\n",
    "\n",
    "@app.callback(\n",
    "    Output(\"out-npz_filename\", \"children\"),\n",
    "    [Input(\"npz_filename\", \"value\")],\n",
    ")\n",
    "def returnChosen(val):\n",
    "    return str(val)\n",
    "\n",
    "\n",
    "\n",
    "\n",
    "@app.callback(\n",
    "    Output(\"first_element\", \"children\"),\n",
    "    [Input(\"npz_filename\", \"value\")],\n",
    ")\n",
    "def showFirst(val):\n",
    "    global movie\n",
    "    movie = import_npz_files([val])\n",
    "    if len(movie.shape)==2:\n",
    "        movie = movie.reshape((1,-1))\n",
    "    return str(movie.flat[0])\n",
    "\n",
    "\n",
    "\n",
    "# @app.callback(\n",
    "#     Output(\"imshow\", \"figure\"),\n",
    "#     [Input(\"npz_filename\", \"value\")],\n",
    "# )\n",
    "# def updateFig(val):\n",
    "#     global movie\n",
    "#     movie = import_npz_files([val])\n",
    "#     return str(movie.flat[0])\n",
    "\n",
    "\n",
    "\n",
    "@app.callback(\n",
    "    Output(\"imshow\", \"figure\"),\n",
    "    [Input(\"button\", \"n_clicks\")],\n",
    "#     [State(\"title\", \"value\")],\n",
    ")\n",
    "def update_output(n_clicks):\n",
    "    global image\n",
    "    image = movie.mean(axis=0)\n",
    "    if n_clicks > 0:\n",
    "        return {'data': [go.Heatmap(z=image)],}\n",
    "    return {}\n",
    "\n"
   ]
  },
  {
   "cell_type": "code",
   "execution_count": 7,
   "metadata": {
    "ExecuteTime": {
     "end_time": "2020-01-30T11:02:18.240973Z",
     "start_time": "2020-01-30T11:02:18.238236Z"
    }
   },
   "outputs": [],
   "source": [
    "# /data/Sandra/2020_01_14/Experiment45a/Experiment45a_0_Image005.npz"
   ]
  },
  {
   "cell_type": "code",
   "execution_count": 8,
   "metadata": {
    "ExecuteTime": {
     "end_time": "2020-01-30T11:02:18.429094Z",
     "start_time": "2020-01-30T11:02:18.424790Z"
    }
   },
   "outputs": [
    {
     "data": {
      "text/html": [
       "<div>\n",
       "  <iframe src=\"/user/srdjan/app/endpoints/ac5d1850530341d9909cebbffcfce487/\" width=800 height=800 frameborder=\"0\"></iframe>\n",
       "  <hr/><a href=\"/user/srdjan/app/endpoints/ac5d1850530341d9909cebbffcfce487/\" target=\"_new\">Open in new window</a> for /user/srdjan/app/endpoints/ac5d1850530341d9909cebbffcfce487/\n",
       "</div>"
      ],
      "text/plain": [
       "<jupyter_plotly_dash.dash_wrapper.JupyterDash at 0x7f33aecdc290>"
      ]
     },
     "execution_count": 8,
     "metadata": {},
     "output_type": "execute_result"
    }
   ],
   "source": [
    "app"
   ]
  },
  {
   "cell_type": "code",
   "execution_count": null,
   "metadata": {},
   "outputs": [],
   "source": []
  },
  {
   "cell_type": "code",
   "execution_count": null,
   "metadata": {},
   "outputs": [],
   "source": []
  },
  {
   "cell_type": "code",
   "execution_count": null,
   "metadata": {},
   "outputs": [],
   "source": []
  },
  {
   "cell_type": "code",
   "execution_count": null,
   "metadata": {},
   "outputs": [],
   "source": []
  },
  {
   "cell_type": "code",
   "execution_count": null,
   "metadata": {},
   "outputs": [],
   "source": []
  },
  {
   "cell_type": "code",
   "execution_count": null,
   "metadata": {},
   "outputs": [],
   "source": []
  },
  {
   "cell_type": "code",
   "execution_count": null,
   "metadata": {},
   "outputs": [],
   "source": []
  },
  {
   "cell_type": "code",
   "execution_count": null,
   "metadata": {},
   "outputs": [],
   "source": []
  },
  {
   "cell_type": "code",
   "execution_count": null,
   "metadata": {},
   "outputs": [],
   "source": []
  },
  {
   "cell_type": "code",
   "execution_count": 3,
   "metadata": {
    "ExecuteTime": {
     "end_time": "2020-01-30T09:28:54.363239Z",
     "start_time": "2020-01-30T09:28:54.323667Z"
    }
   },
   "outputs": [],
   "source": [
    "# app = JupyterDash(__name__,\n",
    "#                   width=500,\n",
    "#                   height=100,\n",
    "#                  )\n",
    "\n",
    "\n",
    "# app.layout = html.Div(\n",
    "#     [\n",
    "#         dcc.Input(\n",
    "#             id=\"npz_filename\",\n",
    "#             type=\"text\",\n",
    "#             placeholder=\"path to the npz file\",\n",
    "#         ),\n",
    "        \n",
    "#         html.Div(id=\"out-npz_filename\")]\n",
    "# )\n",
    "\n",
    "\n",
    "# @app.callback(\n",
    "#     Output(\"out-npz_filename\", \"children\"),\n",
    "#     [Input(\"npz_filename\", \"value\")],\n",
    "# )\n",
    "# def cb_render(val):\n",
    "#     return str(val)\n",
    "\n"
   ]
  },
  {
   "cell_type": "code",
   "execution_count": 6,
   "metadata": {
    "ExecuteTime": {
     "end_time": "2020-01-30T09:29:30.843667Z",
     "start_time": "2020-01-30T09:29:30.840346Z"
    }
   },
   "outputs": [],
   "source": [
    "import dash\n",
    "import dash_core_components as dcc\n",
    "import dash_html_components as html\n",
    "\n",
    "# import flask\n",
    "# import glob\n",
    "import os\n",
    "view_directory = \"/data/Sandra/2020_01_14/Experiment45c/\"\n",
    "list_of_files = [os.path.basename(x) for x in os.listdir(view_directory) if x.endswith(\".npz\")]\n",
    "# static_image_route = '/static/'"
   ]
  },
  {
   "cell_type": "code",
   "execution_count": 9,
   "metadata": {
    "ExecuteTime": {
     "end_time": "2020-01-30T09:26:45.443428Z",
     "start_time": "2020-01-30T09:26:45.417805Z"
    }
   },
   "outputs": [
    {
     "ename": "AttributeError",
     "evalue": "'JupyterDash' object has no attribute 'server'",
     "output_type": "error",
     "traceback": [
      "\u001b[0;31m---------------------------------------------------------------------------\u001b[0m",
      "\u001b[0;31mAttributeError\u001b[0m                            Traceback (most recent call last)",
      "\u001b[0;32m<ipython-input-9-cc55234741a7>\u001b[0m in \u001b[0;36m<module>\u001b[0;34m\u001b[0m\n\u001b[1;32m     19\u001b[0m \u001b[0;31m# Be *very* careful here - you don't want to serve arbitrary files\u001b[0m\u001b[0;34m\u001b[0m\u001b[0;34m\u001b[0m\u001b[0;34m\u001b[0m\u001b[0m\n\u001b[1;32m     20\u001b[0m \u001b[0;31m# from your computer or server\u001b[0m\u001b[0;34m\u001b[0m\u001b[0;34m\u001b[0m\u001b[0;34m\u001b[0m\u001b[0m\n\u001b[0;32m---> 21\u001b[0;31m \u001b[0;34m@\u001b[0m\u001b[0mapp\u001b[0m\u001b[0;34m.\u001b[0m\u001b[0mserver\u001b[0m\u001b[0;34m.\u001b[0m\u001b[0mroute\u001b[0m\u001b[0;34m(\u001b[0m\u001b[0;34m'{}<image_path>.png'\u001b[0m\u001b[0;34m.\u001b[0m\u001b[0mformat\u001b[0m\u001b[0;34m(\u001b[0m\u001b[0mstatic_image_route\u001b[0m\u001b[0;34m)\u001b[0m\u001b[0;34m)\u001b[0m\u001b[0;34m\u001b[0m\u001b[0;34m\u001b[0m\u001b[0m\n\u001b[0m\u001b[1;32m     22\u001b[0m \u001b[0;32mdef\u001b[0m \u001b[0mserve_image\u001b[0m\u001b[0;34m(\u001b[0m\u001b[0mimage_path\u001b[0m\u001b[0;34m)\u001b[0m\u001b[0;34m:\u001b[0m\u001b[0;34m\u001b[0m\u001b[0;34m\u001b[0m\u001b[0m\n\u001b[1;32m     23\u001b[0m     \u001b[0mimage_name\u001b[0m \u001b[0;34m=\u001b[0m \u001b[0;34m'{}.png'\u001b[0m\u001b[0;34m.\u001b[0m\u001b[0mformat\u001b[0m\u001b[0;34m(\u001b[0m\u001b[0mimage_path\u001b[0m\u001b[0;34m)\u001b[0m\u001b[0;34m\u001b[0m\u001b[0;34m\u001b[0m\u001b[0m\n",
      "\u001b[0;31mAttributeError\u001b[0m: 'JupyterDash' object has no attribute 'server'"
     ]
    }
   ],
   "source": [
    "app = JupyterDash(\"app\")\n",
    "\n",
    "app.layout = html.Div([\n",
    "    dcc.Dropdown(\n",
    "        id='dropdown',\n",
    "        options=[{'label': i, 'value': i} for i in list_of_files],\n",
    "        value=None\n",
    "    ),\n",
    "    dcc.Graph(\n",
    "        id='example-graph',\n",
    "#         figure={\n",
    "#             'data': [\n",
    "#                 {'x': [1, 2, 3], 'y': [4, 1, 2], 'type': 'bar', 'name': 'SF'},\n",
    "#                 {'x': [1, 2, 3], 'y': [2, 4, 5], 'type': 'bar', 'name': u'Montréal'},\n",
    "#             ],\n",
    "#             'layout': {\n",
    "#                 'title': 'Dash Data Visualization'\n",
    "#             }\n",
    "#         }\n",
    "#     ),\n",
    "])\n",
    "\n",
    "@app.callback(\n",
    "    dash.dependencies.Output('image', 'src'),\n",
    "    [dash.dependencies.Input('image-dropdown', 'value')])\n",
    "def update_image_src(value):\n",
    "    return static_image_route + value\n",
    "\n",
    "# Add a static image route that serves images from desktop\n",
    "# Be *very* careful here - you don't want to serve arbitrary files\n",
    "# from your computer or server\n",
    "@app.server.route('{}<image_path>.png'.format(static_image_route))\n",
    "def serve_image(image_path):\n",
    "    image_name = '{}.png'.format(image_path)\n",
    "    if image_name not in list_of_images:\n",
    "        raise Exception('\"{}\" is excluded from the allowed static files'.format(image_path))\n",
    "    return flask.send_from_directory(image_directory, image_name)"
   ]
  },
  {
   "cell_type": "code",
   "execution_count": 26,
   "metadata": {
    "ExecuteTime": {
     "end_time": "2020-01-30T09:12:57.747146Z",
     "start_time": "2020-01-30T09:12:57.743147Z"
    }
   },
   "outputs": [
    {
     "data": {
      "text/html": [
       "<div>\n",
       "  <iframe src=\"/user/srdjan/app/endpoints/47c9bc6041fe4e8ab1b1a56add133f54/\" width=500 height=100 frameborder=\"0\"></iframe>\n",
       "  <hr/><a href=\"/user/srdjan/app/endpoints/47c9bc6041fe4e8ab1b1a56add133f54/\" target=\"_new\">Open in new window</a> for /user/srdjan/app/endpoints/47c9bc6041fe4e8ab1b1a56add133f54/\n",
       "</div>"
      ],
      "text/plain": [
       "<jupyter_plotly_dash.dash_wrapper.JupyterDash at 0x7f81b824a610>"
      ]
     },
     "execution_count": 26,
     "metadata": {},
     "output_type": "execute_result"
    }
   ],
   "source": [
    "app"
   ]
  },
  {
   "cell_type": "code",
   "execution_count": 3,
   "metadata": {
    "ExecuteTime": {
     "end_time": "2020-01-28T23:06:05.754744Z",
     "start_time": "2020-01-28T23:06:05.752113Z"
    }
   },
   "outputs": [],
   "source": [
    "    # import dash\n",
    "# import dash_core_components as dcc\n",
    "# import dash_html_components as html\n",
    "# from dash.dependencies import Input, Output\n",
    "\n",
    "# app = JupyterDash('SimpleExample')\n",
    "\n",
    "# app.layout = html.Div([\n",
    "#     dcc.RadioItems(\n",
    "#         id='dropdown-color',\n",
    "#         options=[{'label': c, 'value': c.lower()}\n",
    "#                  for c in ['Red', 'Green', 'Blue']],\n",
    "#         value='red'\n",
    "#     ),\n",
    "#     html.Div(id='output-color'),\n",
    "#     dcc.RadioItems(\n",
    "#         id='dropdown-size',\n",
    "#         options=[{'label': i, 'value': j}\n",
    "#                  for i, j in [('L','large'), ('M','medium'), ('S','small')]],\n",
    "#         value='medium'\n",
    "#     ),\n",
    "#     html.Div(id='output-size')\n",
    "\n",
    "# ])\n",
    "\n",
    "# @app.callback(\n",
    "#     dash.dependencies.Output('output-color', 'children'),\n",
    "#     [dash.dependencies.Input('dropdown-color', 'value')])\n",
    "# def callback_color(dropdown_value):\n",
    "#     return \"The selected color is %s.\" % dropdown_value\n",
    "\n",
    "# @app.callback(\n",
    "#     dash.dependencies.Output('output-size', 'children'),\n",
    "#     [dash.dependencies.Input('dropdown-color', 'value'),\n",
    "#      dash.dependencies.Input('dropdown-size', 'value')])\n",
    "# def callback_size(dropdown_color, dropdown_size):\n",
    "#     return \"The chosen T-shirt is a %s %s one.\" %(dropdown_size,\n",
    "#                                                   dropdown_color)\n",
    "\n",
    "# app"
   ]
  },
  {
   "cell_type": "code",
   "execution_count": null,
   "metadata": {},
   "outputs": [],
   "source": []
  }
 ],
 "metadata": {
  "kernelspec": {
   "display_name": "Python [conda env:physio]",
   "language": "python",
   "name": "conda-env-physio-py"
  },
  "language_info": {
   "codemirror_mode": {
    "name": "ipython",
    "version": 3
   },
   "file_extension": ".py",
   "mimetype": "text/x-python",
   "name": "python",
   "nbconvert_exporter": "python",
   "pygments_lexer": "ipython3",
   "version": "3.7.6"
  },
  "toc": {
   "base_numbering": 1,
   "nav_menu": {},
   "number_sections": true,
   "sideBar": true,
   "skip_h1_title": false,
   "title_cell": "Table of Contents",
   "title_sidebar": "Contents",
   "toc_cell": false,
   "toc_position": {},
   "toc_section_display": true,
   "toc_window_display": false
  }
 },
 "nbformat": 4,
 "nbformat_minor": 2
}
