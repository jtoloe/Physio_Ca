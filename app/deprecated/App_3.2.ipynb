{
 "cells": [
  {
   "cell_type": "code",
   "execution_count": 1,
   "metadata": {
    "ExecuteTime": {
     "end_time": "2020-02-08T14:10:07.285962Z",
     "start_time": "2020-02-08T14:10:03.106585Z"
    },
    "code_folding": []
   },
   "outputs": [],
   "source": [
    "# %%capture\n",
    "import warnings\n",
    "warnings.filterwarnings('ignore')\n",
    "from IPython.core.display import HTML\n",
    "from jupyter_plotly_dash import JupyterDash\n",
    "from dash.dependencies import Input, Output, State\n",
    "import dash_core_components as dcc\n",
    "import dash_html_components as html\n",
    "import plotly.graph_objects as go\n",
    "import numpy as np\n",
    "import os\n",
    "from sys import path as syspath\n",
    "syspath.append(os.path.expanduser(\"~/srdjan_functs/\"))\n",
    "from sys import exc_info\n",
    "from caiman import movie as cmovie"
   ]
  },
  {
   "cell_type": "code",
   "execution_count": 2,
   "metadata": {
    "ExecuteTime": {
     "end_time": "2020-02-08T14:10:07.374663Z",
     "start_time": "2020-02-08T14:10:07.287528Z"
    },
    "code_folding": []
   },
   "outputs": [],
   "source": [
    "%load_ext autoreload\n",
    "%autoreload 1\n",
    "%aimport Regions, physio_def_1, numeric, plotting_functions\n",
    "\n",
    "from physio_def_1 import *\n",
    "from Regions import Regions\n",
    "from numeric import *\n",
    "from plotting_functions import *\n",
    "# from plotly import colors\n",
    "os.chdir(os.path.expanduser(\"~\"))"
   ]
  },
  {
   "cell_type": "code",
   "execution_count": 3,
   "metadata": {
    "ExecuteTime": {
     "end_time": "2020-02-08T14:10:07.381360Z",
     "start_time": "2020-02-08T14:10:07.376102Z"
    },
    "code_folding": [
     0
    ]
   },
   "outputs": [],
   "source": [
    "def parseRoiChoices(roi_mode, roi_number, maxNRois = 100):\n",
    "    try:\n",
    "        roi_number = int(roi_number)\n",
    "    except:\n",
    "        roi_number = 3\n",
    "    if roi_number<1:\n",
    "        roi_number=1\n",
    "    if roi_number>maxNRois:\n",
    "        roi_number=maxNRois\n",
    "    if roi_mode==\"interest\":\n",
    "        ix = regions.df.sort_values(\"interest\",ascending=False).index[:roi_number]\n",
    "    if roi_mode==\"central\":\n",
    "        ix = regions.df.index[:roi_number]\n",
    "    if roi_mode==\"largest\":\n",
    "        ix = regions.df.sort_values(\"size\",ascending=False).index[:roi_number]\n",
    "    if roi_mode==\"rnd\":\n",
    "        ix = np.random.choice(regions.df.index, roi_number)\n",
    "    return ix"
   ]
  },
  {
   "cell_type": "code",
   "execution_count": 4,
   "metadata": {
    "ExecuteTime": {
     "end_time": "2020-02-08T14:10:09.092743Z",
     "start_time": "2020-02-08T14:10:09.079825Z"
    },
    "code_folding": [
     0
    ]
   },
   "outputs": [],
   "source": [
    "def showRoisOnly(regions, indices=None):\n",
    "    if indices is None:\n",
    "        indices = regions.df.sort_values(\"size\",ascending=False).index[:10]\n",
    "    f = go.Figure()\n",
    "    for i in indices:\n",
    "        cl = DEFAULT_PLOTLY_COLORS[i%10]\n",
    "\n",
    "        bds = regions.df.loc[i,\"boundary\"]\n",
    "        bds += [bds[0]]\n",
    "        y,x = np.array(bds).T\n",
    "        ypts,xpts = np.array(regions.df.pixels[i]).T\n",
    "        ln = go.Scatter(x=x,y=y,\n",
    "                        line=dict(width=1,color=cl),\n",
    "                        mode=\"lines\",\n",
    "                        showlegend = False,\n",
    "                        name = str(i),\n",
    "                        hoverinfo='text',\n",
    "                        hovertext=[\"%i\"%(i)]*len(bds),\n",
    "                     )\n",
    "        f.add_trace(ln)\n",
    "\n",
    "        pts = go.Scatter(x=xpts,y=ypts,\n",
    "                mode=\"markers\",\n",
    "                showlegend = False,\n",
    "                opacity=0.0,\n",
    "                name=str(i),\n",
    "                marker=dict(color=cl),\n",
    "                hovertext=[\"%i\"%(i)]*len(xpts),\n",
    "                hoverinfo=\"text\"\n",
    "             )\n",
    "        f.add_trace(pts)\n",
    "\n",
    "    im = regions.image\n",
    "    f.update_layout({\n",
    "        \"height\":360,\n",
    "        \"width\":320,\n",
    "        \"margin\":dict(l=10, r=10, t=50, b=10),\n",
    "    #     \"paper_bgcolor\":\"grey\",\n",
    "        \"xaxis\": {\n",
    "            \"linecolor\": 'black',\n",
    "            \"linewidth\": 1,\n",
    "            \"mirror\": True,\n",
    "            \"tickvals\": [],\n",
    "            \"range\":[-.5,im.shape[1]-.5]\n",
    "        },\n",
    "        \"yaxis\": {\n",
    "            \"linecolor\": 'black',\n",
    "            \"linewidth\": 1,\n",
    "            \"mirror\": True,\n",
    "            \"tickvals\": [],\n",
    "            \"range\":[-.5,im.shape[1]-.5]\n",
    "        },\n",
    "        'clickmode': 'event+select'\n",
    "    }\n",
    "    )\n",
    "    f.add_heatmap(z=im, hoverinfo='skip',\n",
    "                  showscale=False,colorscale=plxcolors.sequential.Greys)\n",
    "\n",
    "    return f"
   ]
  },
  {
   "cell_type": "code",
   "execution_count": 5,
   "metadata": {
    "ExecuteTime": {
     "end_time": "2020-02-08T14:10:09.292073Z",
     "start_time": "2020-02-08T14:10:09.284373Z"
    },
    "code_folding": [
     0
    ]
   },
   "outputs": [],
   "source": [
    "def rigidMotionCorrection(rebinned_movie, gSig_filt):\n",
    "    global dview\n",
    "    from caiman import stop_server, cluster, save_memmap\n",
    "    from caiman.motion_correction import MotionCorrect\n",
    "    from caiman.source_extraction.cnmf import params as params\n",
    "    # subsampling frequency for Motion Correction\n",
    "    base_name = \"/tmp/tmp\"\n",
    "    try: dview.terminate()\n",
    "    except: pass\n",
    "    #%% start a cluster for parallel processing (if a cluster already exists it will be closed and a new session will be opened)\n",
    "    if 'dview' in globals():\n",
    "        stop_server(dview=dview)\n",
    "    c, dview, n_processes = cluster.setup_cluster(\n",
    "        backend='local', n_processes=None, single_thread=False)\n",
    "\n",
    "    fnames = save_memmap([rebinned_movie], base_name=base_name, order='C', border_to_0=0, dview=dview)\n",
    "    # motion correction parameters\n",
    "    opts = params.CNMFParams(params_dict={\n",
    "        'fnames'              : fnames,\n",
    "        \"max_deviation_rigid\" : int(np.ceil(gSig_filt[0]/2)),\n",
    "        'border_nan'          : True,\n",
    "        'pw_rigid'            : False,\n",
    "        'gSig_filt'           : gSig_filt,\n",
    "        'nonneg_movie'        : True\n",
    "    }) \n",
    "    mc = MotionCorrect(fnames, dview=dview, **opts.get_group('motion'))\n",
    "#     while True:\n",
    "#         print (\"constraining mc.max_deviation_rigid at \", mc.max_deviation_rigid)\n",
    "#         mc.motion_correct(save_movie=True);\n",
    "#         maxshift = np.abs(mc.shifts_rig).max()\n",
    "#         if maxshift<mc.max_deviation_rigid:\n",
    "#             break\n",
    "#         else:\n",
    "#             mc.max_deviation_rigid += 1\n",
    "    mc.motion_correct(save_movie=False)\n",
    "    mc.shifts_rig = np.array(mc.shifts_rig)\n",
    "    try: dview.terminate()\n",
    "    except: pass\n",
    "    return mc.shifts_rig"
   ]
  },
  {
   "cell_type": "code",
   "execution_count": 6,
   "metadata": {
    "ExecuteTime": {
     "end_time": "2020-02-08T14:10:09.475227Z",
     "start_time": "2020-02-08T14:10:09.469275Z"
    },
    "code_folding": [
     0
    ]
   },
   "outputs": [],
   "source": [
    "def createRegions(rebinned_movie,cell_halfwidth_in_px):\n",
    "    regions = Regions(rebinned_movie, gSig_filt=(cell_halfwidth_in_px,)*2)\n",
    "    C = regions.df\n",
    "    ## drop very weak Rois\n",
    "    x = C[\"peakValue\"]\n",
    "    x = np.log10(x+np.percentile(x,5))\n",
    "    th = 10**get_sep_th(x)\n",
    "    pc  = np.mean(C[\"peakValue\"]<th)\n",
    "    if pc > .3:\n",
    "        th = np.percentile(C[\"peakValue\"],10)\n",
    "\n",
    "    toDrop = C.query(f\"peakValue<{th}\").index\n",
    "    C.drop(index=toDrop,inplace=True)\n",
    "    print (f\"Dropped {len(toDrop)} as too weak. Left with {len(C)}.\")\n",
    "    \n",
    "    \n",
    "    # decide on a threshold to remove as too small rois\n",
    "    tooSmall = cell_halfwidth_in_px**2 # in pixels\n",
    "    toDrop = C.query(f\"size<={tooSmall}\").index\n",
    "    C.drop(index=toDrop,inplace=True)\n",
    "    print (f\"Dropped {len(toDrop)} as too small. Left with {len(C)}.\")\n",
    "    \n",
    "    regions.sortFromCenter()\n",
    "    return regions"
   ]
  },
  {
   "cell_type": "code",
   "execution_count": 7,
   "metadata": {
    "ExecuteTime": {
     "end_time": "2020-02-08T14:10:09.847815Z",
     "start_time": "2020-02-08T14:10:09.845012Z"
    }
   },
   "outputs": [],
   "source": [
    "# exampleNpzFile = \"local_data/testdir/Experiment38a_7_Series016.npz\"\n",
    "exampleNpzFile = \"local_data/Sandra/2019_10_16/Experiment39a/Experiment39a_13_Series024.npz\"\n",
    "# exampleNpzFile = \"local_data/Sandra/2019_10_16/Experiment39a/Experiment39a_8_Series019.npz\""
   ]
  },
  {
   "cell_type": "code",
   "execution_count": 8,
   "metadata": {
    "ExecuteTime": {
     "end_time": "2020-02-08T14:10:10.428185Z",
     "start_time": "2020-02-08T14:10:10.075307Z"
    }
   },
   "outputs": [],
   "source": [
    "baseFig = go.Figure(layout={\"width\":200, \"height\":100})"
   ]
  },
  {
   "cell_type": "code",
   "execution_count": 9,
   "metadata": {
    "ExecuteTime": {
     "end_time": "2020-02-08T14:10:10.485612Z",
     "start_time": "2020-02-08T14:10:10.481627Z"
    }
   },
   "outputs": [],
   "source": [
    "outputStyle = {\n",
    "    \"color\":\"blue\",\n",
    "    \"font-family\":\"Courier New\",\n",
    "    \"font-size\":\"80%\",\n",
    "    \"max-width\": \"700px\",\n",
    "    }\n",
    "infoStyle = {\n",
    "    \"font-size\":\"70%\",\n",
    "    \"font-family\":\"Arial\",\n",
    "    # \"background-color\":\"lightcyan\",\n",
    "    \"color\":\"grey\",\n",
    "    \"max-width\": \"700px\",\n",
    "    }\n",
    "bodyStyle = {\n",
    "    \"font-family\":\"Arial\",\n",
    "    \"max-width\": \"700px\",\n",
    "    }"
   ]
  },
  {
   "cell_type": "code",
   "execution_count": 10,
   "metadata": {
    "ExecuteTime": {
     "end_time": "2020-02-08T14:10:10.936105Z",
     "start_time": "2020-02-08T14:10:10.932724Z"
    },
    "code_folding": []
   },
   "outputs": [],
   "source": [
    "## global vars\n",
    "npzFile = None\n",
    "metadata = None\n",
    "movie = None\n",
    "regions = None"
   ]
  },
  {
   "cell_type": "code",
   "execution_count": 11,
   "metadata": {
    "ExecuteTime": {
     "end_time": "2020-02-08T14:10:11.329922Z",
     "start_time": "2020-02-08T14:10:11.326098Z"
    }
   },
   "outputs": [],
   "source": [
    "test=True"
   ]
  },
  {
   "cell_type": "code",
   "execution_count": 12,
   "metadata": {
    "ExecuteTime": {
     "end_time": "2020-02-08T14:10:12.094133Z",
     "start_time": "2020-02-08T14:10:11.667108Z"
    },
    "code_folding": [
     18
    ]
   },
   "outputs": [],
   "source": [
    "app = JupyterDash(__name__,\n",
    "                  width=800,\n",
    "#                   height=400,\n",
    "                 )\n",
    "\n",
    "APP_LAYOUT = [\n",
    "    \n",
    "    html.H1(children='CaRec Viewer',style=bodyStyle),\n",
    "    html.Div(\"Please, think of a better name and let me know.\",style=infoStyle),\n",
    "    html.Br(),\n",
    "    ####################################\n",
    "#     html.H2(children='Importing',style=bodyStyle),\n",
    "    html.Div('Enter path to an npz file, choose whether to check for movement, and press enter.',style={**bodyStyle, \"display\":\"inline-box\"}),\n",
    "    html.Div([\n",
    "        dcc.Checklist(id=\"check_movement_choice\",options=[{\"label\":'Check for movement',\"value\":\"yes\"}],value=[],\n",
    "                          style={**infoStyle, \"display\":\"inline-box\",\"float\":\"right\"}),\n",
    "    ],style={\"width\":\"200px\"}),\n",
    "    \n",
    "    dcc.Input(id=\"npz_filename\",\n",
    "            type=\"text\",\n",
    "            placeholder=exampleNpzFile,\n",
    "            debounce=True,\n",
    "            size = 100,\n",
    "            value=exampleNpzFile if test else \"\",\n",
    "        ),\n",
    "\n",
    "#     html.Div('Loading can take a few seconds [for very large files even a minute].',style={**infoStyle,\"text-align\": \"center\"}),\n",
    "    html.Br(),\n",
    "    \n",
    "    html.Div(id=\"npz_feedback\", children=\"\",style=outputStyle),#To start, enter the full path to a file and press enter. Note, that loading can take a few seconds [for very large files even a minute].\n",
    "\n",
    "    html.Div(children=[html.Br(),\"    Spatial filtering**\"],style={**bodyStyle,'display': 'inline-block'}),\n",
    "\n",
    "    dcc.Input(id=\"gSig_filt_input\",\n",
    "        type=\"text\",\n",
    "        debounce=True,\n",
    "        size = 5,\n",
    "        value=\"\",\n",
    "        placeholder=\"3\",\n",
    "        style={'display': 'inline-block'}),    \n",
    "\n",
    "    html.Div(html.Abbr(\n",
    "        children=\"[hover mouse for more info]\",\n",
    "        title=\"\"\"For the proper analysis, you need to set the size of the spatial filter. Its value should be of the order of the  half of the typical cell dimension (in pixels!). \"\"\"#In many of our recording, pixel size is around 2 µm. If we consider a typical cell of 10 µm, filter should be around 10/2/2 = 2.5. It needs to be an integer, so reasonable numbers to put would be 2 or 3, perhaps even 4. You can change it later.\n",
    "        ),style={**infoStyle,'display': 'inline-block'}),\n",
    "\n",
    "    html.Div(id=\"roi_feedback\", children=\"\",style=outputStyle),\n",
    "    \n",
    "    dcc.Graph(id='images',figure=baseFig,),\n",
    "\n",
    "    html.Div(children=\"Resample*\",style={'display': 'inline-block'}),\n",
    "    \n",
    "    dcc.Input(id=\"resample_input\",\n",
    "        type=\"text\",\n",
    "        debounce=True,\n",
    "        size = 5,\n",
    "        placeholder=\"5\",\n",
    "        value=\"\",\n",
    "        style={'display': 'inline-block'}),\n",
    "    \n",
    "    html.Div(children=\" \",style={\"width\":\"20px\",'display': 'inline-block'}),\n",
    "    html.Div(children=\" \", id=\"resample_feedback\",\n",
    "             style={'display': 'inline-block',**outputStyle}),\n",
    "    \n",
    "    html.Div(style=infoStyle,\n",
    "        children=[\n",
    "        \"\"\"\n",
    "        *Resampling is optional (and irreversible). It is only useful to speed up the analysis downstream.\n",
    "        Enter the new desired frequency in Hz (e.g. 5), and press enter.\n",
    "        \"\"\",\n",
    "        html.Br(),],),\n",
    "    \n",
    "    html.H3(children='ROIs', style=bodyStyle),\n",
    "    html.Div(\"Please, choose which ROIs you'd want to see.\", style=bodyStyle),\n",
    "    html.Br(),\n",
    "    html.Div(\"First, toggle some basic filtering. Then, you can use the lasso (or box) tool in the left graph to select ROIs you want to see the trace of. Use shift to select multiple regions.\",style=infoStyle),\n",
    "    html.Br(),\n",
    "    html.Div([\n",
    "        dcc.RadioItems(id=\"roi_choice\",\n",
    "            options=[\n",
    "                {'label': 'Largest', 'value': 'largest'},\n",
    "                {'label': 'Random', 'value': 'rnd'},\n",
    "                {'label': 'Interesting', 'value': 'interest'},\n",
    "                {'label': 'Central', 'value': 'central'},\n",
    "            ],\n",
    "         value='interest'),\n",
    "        html.Div(\"How many?\", style={**bodyStyle,\"display\":\"inline-block\"}),\n",
    "        dcc.Input(id=\"roi_choice_number\",\n",
    "                type=\"text\",\n",
    "                debounce=True,\n",
    "                size = 10,\n",
    "                value='3' if test else \"20\"\n",
    "            )\n",
    "    ],style={\"display\":\"inline-block\",\"width\":\"49%\"}),\n",
    "#     html.Br(),\n",
    "    html.Div([\n",
    "        \"Show downsampled to\",\n",
    "        dcc.Input(id=\"show_freq_input\",\n",
    "            type=\"text\",\n",
    "            debounce=False,\n",
    "            size = 3,\n",
    "            value='2'),\n",
    "        \"Hz\"\n",
    "        ], style={**bodyStyle,\"display\":\"inline-block\", \"width\":\"49%\"}, ),\n",
    "    html.Br(),\n",
    "    html.Div(dcc.Graph(id='show_rois',      figure=baseFig), style={\"display\":\"inline-block\"}),\n",
    "    html.Div(dcc.Graph(id='show_raw_traces',figure=baseFig), style={\"display\":\"inline-block\"}),\n",
    "    html.Div([\n",
    "       \"Trace ROIs:\",\n",
    "    dcc.Input(id=\"selected-indices\",\n",
    "        type=\"text\",\n",
    "        debounce=False,\n",
    "        size = 60,\n",
    "        value=\"\",\n",
    "         ), \n",
    "    ],style={**bodyStyle,\"display\":\"inline-box\"}),\n",
    "    \n",
    "    html.Div([\n",
    "        html.Pre(id='selected-data',\n",
    "                 style={\n",
    "            'border': 'thin lightgrey solid',\n",
    "            'overflowX': 'scroll',\n",
    "            'overflowY': 'scroll',\n",
    "            \"height\": \"3px\",\n",
    "            \"width\": \"30px\",\n",
    "            }),\n",
    "        ],),\n",
    "    html.Div(\n",
    "        id=\"shown_rois\",\n",
    "        children=\"\", style={**outputStyle,\"width\":\"10px\"},),\n",
    "    html.Div(\n",
    "        id=\"spare_out\",\n",
    "        children=\"\", style={**outputStyle,\"width\":\"10px\"}),\n",
    "\n",
    "    ]\n",
    "\n"
   ]
  },
  {
   "cell_type": "code",
   "execution_count": 13,
   "metadata": {
    "ExecuteTime": {
     "end_time": "2020-02-08T14:10:12.343497Z",
     "start_time": "2020-02-08T14:10:12.337791Z"
    },
    "code_folding": [
     4
    ]
   },
   "outputs": [],
   "source": [
    "@app.callback(\n",
    "    Output(\"resample_feedback\", \"children\"),\n",
    "    [Input(\"resample_input\", \"value\")]\n",
    "             )\n",
    "def resample(val):\n",
    "    try:\n",
    "        if val == \"\":\n",
    "            feedback = \"\"\n",
    "        else:\n",
    "            newFreq = float(val)\n",
    "            n_rebin = int(np.ceil(movie.fr/newFreq))\n",
    "            movie = rebin(movie,n_rebin)\n",
    "            movie.fr = movie.fr/n_rebin\n",
    "            feedback = f\"Resampling finished. New frequency is {movie.fr:.4} Hz.\"\n",
    "            regions.update(movie)\n",
    "        return feedback\n",
    "    except:\n",
    "        return (\"ERROR: \"+exc_info().__repr__(),None)[0]\n",
    "    "
   ]
  },
  {
   "cell_type": "code",
   "execution_count": 14,
   "metadata": {
    "ExecuteTime": {
     "end_time": "2020-02-08T14:10:12.692794Z",
     "start_time": "2020-02-08T14:10:12.680438Z"
    },
    "code_folding": [
     4
    ]
   },
   "outputs": [],
   "source": [
    "@app.callback([Output(\"npz_feedback\", \"children\"),\n",
    "               Output(\"gSig_filt_input\", \"value\")],\n",
    "              [Input(\"npz_filename\", \"value\")],\n",
    "              [State(\"check_movement_choice\",\"value\")])\n",
    "def loadMovie(val,mv):\n",
    "    if str(val)==\"\":\n",
    "        return ('Loading can take a few seconds [for very large files even a minute].',\"\")\n",
    "    try:\n",
    "        from pandas import read_csv\n",
    "        global npzFile, movie, metadata, cell_halfwidth_in_px, regions\n",
    "        npzFile = val\n",
    "        metadata = read_csv(npzFile.replace(\"npz\",\"txt\")).loc[0]\n",
    "        if not hasattr(metadata,\"freq\"):\n",
    "            metadata.freq = 1\n",
    "        movie = import_npz_files([npzFile])\n",
    "        movie = movie.astype(\"float\")\n",
    "        if len(movie.shape)==2:        \n",
    "            movie = movie.reshape((1,-1))\n",
    "        movie = cmovie(movie)\n",
    "        movie.fr = metadata.freq\n",
    "        timeframes = metadata['T']\n",
    "        freq = metadata.freq\n",
    "        pxsize = metadata.pxSize\n",
    "        feedback = [\n",
    "            f\"{npzFile} loaded successfully.\",\n",
    "            html.Br(),\n",
    "            f\"It has {timeframes} timeframes and is done at {freq:.4} Hz, with a pixel size of {pxsize:.3} µm.\",\n",
    "            html.Br(),\n",
    "        ]\n",
    "        if metadata.freq>5:\n",
    "            \n",
    "            freqMC = 3\n",
    "            n_rebin = int(movie.fr/freqMC)\n",
    "\n",
    "            rebinned_movie = rebin(movie,n_rebin).astype(\"float32\")\n",
    "            rebinned_movie = cmovie(rebinned_movie)\n",
    "            rebinned_movie.fr = movie.fr/n_rebin\n",
    "        else:\n",
    "            rebinned_movie = movie.astype(\"float32\")\n",
    "            feedback += [\n",
    "                \"(This is probably a lot higher frequency than you need, consider resampling to lower frequency, e.g. 5 Hz.)\",\n",
    "                html.Br(),\n",
    "                        ]\n",
    "        cell_halfwidth_in_px = int(np.ceil(6./metadata.pxSize))\n",
    "        if len(mv):\n",
    "            rigidShifts = rigidMotionCorrection(rebinned_movie, (cell_halfwidth_in_px,)*2)\n",
    "            maxshift = np.abs(rigidShifts).max()\n",
    "            if maxshift>cell_halfwidth_in_px/5:\n",
    "                feedback += [\n",
    "                    f\"It seems there is also some movement in the recording, at least {maxshift}px. You may want to first correct for that.\",\n",
    "                    html.Br(),\n",
    "                ]\n",
    "        regions = createRegions(rebinned_movie, cell_halfwidth_in_px)\n",
    "        regions.update(movie)\n",
    "        feedback += [\n",
    "            f\"Automatic size of the spatial filter: {cell_halfwidth_in_px} [you can change it below]\",\n",
    "            html.Br(),]\n",
    "#         roifeedback = f\"Number of detected ROIs: {len(regions.df)}\",\n",
    "        \n",
    "#         return feedback\n",
    "#     except:\n",
    "#         return html.P(\"ERROR: \"+exc_info()[1].__repr__())\n",
    "        return (feedback, str(cell_halfwidth_in_px))\n",
    "    except:\n",
    "        return ([html.P(\"ERROR: \"+exc_info().__repr__())],\"None\")"
   ]
  },
  {
   "cell_type": "code",
   "execution_count": 15,
   "metadata": {
    "ExecuteTime": {
     "end_time": "2020-02-08T14:10:12.880141Z",
     "start_time": "2020-02-08T14:10:12.874530Z"
    },
    "code_folding": [
     3
    ]
   },
   "outputs": [],
   "source": [
    "@app.callback(\n",
    "    [Output(\"roi_feedback\", \"children\"), Output(\"images\", \"figure\"), Output(\"roi_choice\",\"value\")],\n",
    "    [Input(\"gSig_filt_input\", \"value\")])\n",
    "def recalcRois(val):\n",
    "    if val == \"\":\n",
    "        return (\"\",baseFig,\"\")\n",
    "    try:\n",
    "        global movie,regions\n",
    "        x = int(val)\n",
    "        if regions.filterSize != x:\n",
    "            regions = createRegions(regions.movie, x)\n",
    "            feedback = [f\"Size of the spatial filter changed to {x}.\",html.Br()]\n",
    "        else:\n",
    "            feedback = [\"\"]\n",
    "        feedback += [f\" Number of detected ROIs: {len(regions.df)}\"]\n",
    "        return (feedback, plotStatsFig(regions),\"interest\")\n",
    "    except:\n",
    "        return (\"ERROR: \"+exc_info().__repr__(),go.Figure(),\"\")"
   ]
  },
  {
   "cell_type": "code",
   "execution_count": 16,
   "metadata": {
    "ExecuteTime": {
     "end_time": "2020-02-08T14:10:13.185316Z",
     "start_time": "2020-02-08T14:10:13.180292Z"
    },
    "code_folding": [
     6
    ]
   },
   "outputs": [],
   "source": [
    "@app.callback(\n",
    "    [Output(\"shown_rois\", \"children\"),\n",
    "     Output(\"show_rois\", \"figure\"),\n",
    "    ],\n",
    "    [Input(\"roi_choice\", \"value\")],\n",
    "    [State(\"roi_choice_number\", \"value\")],)\n",
    "def parseRoiChoices_callback(roi_mode,roi_number):\n",
    "    try:\n",
    "        if roi_mode==\"\":\n",
    "            return \"\", baseFig\n",
    "        else:\n",
    "            global regions\n",
    "            ix = parseRoiChoices(roi_mode,roi_number)\n",
    "            feedback = \",\".join(ix.astype(str))\n",
    "            trfig = showRoisOnly(regions,indices=ix)\n",
    "            return feedback,trfig\n",
    "    except:\n",
    "        return (\"ERROR: \"+exc_info().__repr__(), baseFig)"
   ]
  },
  {
   "cell_type": "code",
   "execution_count": 17,
   "metadata": {
    "ExecuteTime": {
     "end_time": "2020-02-08T14:10:13.661309Z",
     "start_time": "2020-02-08T14:10:13.654545Z"
    },
    "code_folding": []
   },
   "outputs": [],
   "source": [
    "@app.callback(\n",
    "    [Output('selected-data', 'children'),\n",
    "     Output('selected-indices', 'value')],\n",
    "    [Input('show_rois', 'selectedData'),\n",
    "     Input(\"roi_choice\", \"value\")],\n",
    "    [State(\"roi_choice_number\", \"value\"),]\n",
    ")\n",
    "def display_selected_data(selectedData,roi_mode,roi_number):\n",
    "    try:\n",
    "        if selectedData is None:\n",
    "            selectedData = {\"points\":[]}\n",
    "        import json\n",
    "        chosen = np.unique([p[\"hovertext\"] for p in selectedData[\"points\"]])\n",
    "        if len(chosen) ==0:\n",
    "            chosen = parseRoiChoices(roi_mode,roi_number).astype(str)\n",
    "        return json.dumps(selectedData, indent=2) , \",\".join(chosen)\n",
    "    except:\n",
    "        return \"ERROR: \"+exc_info().__repr__() , \"\""
   ]
  },
  {
   "cell_type": "code",
   "execution_count": 18,
   "metadata": {
    "ExecuteTime": {
     "end_time": "2020-02-08T14:10:13.948291Z",
     "start_time": "2020-02-08T14:10:13.941484Z"
    },
    "code_folding": []
   },
   "outputs": [],
   "source": [
    "@app.callback(\n",
    "     [Output(\"show_raw_traces\", \"figure\"),Output(\"spare_out\", \"children\")],\n",
    "    [Input(\"selected-indices\", \"value\")],\n",
    "    [State(\"show_freq_input\", \"value\"),\n",
    "    ],)\n",
    "def plotRawTraces_callback(chosen, showFreq):\n",
    "    try:\n",
    "        global regions\n",
    "        if not hasattr(regions,\"time\"):\n",
    "            regions.calcTraces(movie)\n",
    "        showFreq = float(showFreq)\n",
    "        n_Avg = int(regions.movie.fr/showFreq)\n",
    "        try:\n",
    "            ix = np.array(chosen.split(\",\"))\n",
    "            ix = ix.astype(int)\n",
    "            trfig = plotRawTraces(regions,indices=ix,nAvg=n_Avg)\n",
    "#             trfig.update_layout({\"width\":200})\n",
    "            return trfig,\"ok\"\n",
    "        except:\n",
    "            return baseFig,\"nothing yet\"\n",
    "    except:\n",
    "        return baseFig, \"ERROR: \"+exc_info().__repr__() "
   ]
  },
  {
   "cell_type": "code",
   "execution_count": 19,
   "metadata": {
    "ExecuteTime": {
     "end_time": "2020-02-08T14:10:14.736290Z",
     "start_time": "2020-02-08T14:10:14.731935Z"
    }
   },
   "outputs": [],
   "source": [
    "from plotting_functions import *"
   ]
  },
  {
   "cell_type": "code",
   "execution_count": 20,
   "metadata": {
    "ExecuteTime": {
     "end_time": "2020-02-08T14:10:14.919162Z",
     "start_time": "2020-02-08T14:10:14.912274Z"
    }
   },
   "outputs": [
    {
     "data": {
      "text/html": [
       "<div>\n",
       "  <iframe src=\"/user/srdjan/app/endpoints/8a3396ff3dc94bedb07f4e51756fb3ff/\" width=800 height=600 frameborder=\"0\"></iframe>\n",
       "  <hr/><a href=\"/user/srdjan/app/endpoints/8a3396ff3dc94bedb07f4e51756fb3ff/\" target=\"_new\">Open in new window</a> for /user/srdjan/app/endpoints/8a3396ff3dc94bedb07f4e51756fb3ff/\n",
       "</div>"
      ],
      "text/plain": [
       "<jupyter_plotly_dash.dash_wrapper.JupyterDash at 0x7fc1c7c5a890>"
      ]
     },
     "execution_count": 20,
     "metadata": {},
     "output_type": "execute_result"
    }
   ],
   "source": [
    "app.layout = html.Div(children=APP_LAYOUT)\n",
    "app"
   ]
  },
  {
   "cell_type": "code",
   "execution_count": 23,
   "metadata": {
    "ExecuteTime": {
     "end_time": "2020-02-08T12:19:35.312061Z",
     "start_time": "2020-02-08T12:19:35.306264Z"
    },
    "code_folding": []
   },
   "outputs": [
    {
     "data": {
      "text/html": [
       "click to start: <a href=\"https://ctn.physiologie.meduniwien.ac.at/user/srdjan/app/endpoints/2afd7369955d4f81868b170c9ecdfd9e/\">https://ctn.physiologie.meduniwien.ac.at/user/srdjan/app/endpoints/2afd7369955d4f81868b170c9ecdfd9e/</a>"
      ],
      "text/plain": [
       "<IPython.core.display.HTML object>"
      ]
     },
     "execution_count": 23,
     "metadata": {},
     "output_type": "execute_result"
    }
   ],
   "source": [
    "# app.layout = html.Div(children=APP_LAYOUT)\n",
    "# app._repr_html_() \n",
    "# link2app = \"https://ctn.physiologie.meduniwien.ac.at\"+app.get_app_root_url()\n",
    "# HTML(f'click to start: <a href=\"{link2app}\">{link2app}</a>')"
   ]
  },
  {
   "cell_type": "code",
   "execution_count": null,
   "metadata": {},
   "outputs": [],
   "source": []
  }
 ],
 "metadata": {
  "kernelspec": {
   "display_name": "Python [conda env:physio]",
   "language": "python",
   "name": "conda-env-physio-py"
  },
  "language_info": {
   "codemirror_mode": {
    "name": "ipython",
    "version": 3
   },
   "file_extension": ".py",
   "mimetype": "text/x-python",
   "name": "python",
   "nbconvert_exporter": "python",
   "pygments_lexer": "ipython3",
   "version": "3.7.6"
  },
  "toc": {
   "base_numbering": 1,
   "nav_menu": {},
   "number_sections": true,
   "sideBar": true,
   "skip_h1_title": false,
   "title_cell": "Table of Contents",
   "title_sidebar": "Contents",
   "toc_cell": false,
   "toc_position": {},
   "toc_section_display": true,
   "toc_window_display": false
  }
 },
 "nbformat": 4,
 "nbformat_minor": 2
}
