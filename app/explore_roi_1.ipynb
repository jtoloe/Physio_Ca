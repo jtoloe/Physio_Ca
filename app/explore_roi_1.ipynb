{
 "cells": [
  {
   "cell_type": "code",
   "execution_count": 1,
   "metadata": {
    "ExecuteTime": {
     "end_time": "2020-06-16T08:25:13.844747Z",
     "start_time": "2020-06-16T08:25:13.836641Z"
    }
   },
   "outputs": [
    {
     "data": {
      "text/html": [
       "<style>.container { width:100% !important; }</style>"
      ],
      "text/plain": [
       "<IPython.core.display.HTML object>"
      ]
     },
     "metadata": {},
     "output_type": "display_data"
    }
   ],
   "source": [
    "from IPython.core.display import display, HTML\n",
    "display(HTML(\"<style>.container { width:100% !important; }</style>\"))"
   ]
  },
  {
   "cell_type": "code",
   "execution_count": 1,
   "metadata": {
    "ExecuteTime": {
     "end_time": "2020-06-18T11:41:13.074709Z",
     "start_time": "2020-06-18T11:41:08.712944Z"
    },
    "code_folding": []
   },
   "outputs": [],
   "source": [
    "%%capture\n",
    "import warnings\n",
    "warnings.filterwarnings('ignore')\n",
    "from IPython.core.display import HTML\n",
    "from jupyter_plotly_dash import JupyterDash\n",
    "from dash.dependencies import Input, Output, State\n",
    "import dash_core_components as dcc\n",
    "import dash_html_components as html\n",
    "import plotly.graph_objects as go\n",
    "import numpy as np\n",
    "import os\n",
    "from sys import path as syspath\n",
    "syspath.append(os.path.expanduser(\"~/srdjan_functs/\"))\n",
    "from sys import exc_info\n",
    "from caiman import movie as cmovie\n",
    "import json\n",
    "import pickle"
   ]
  },
  {
   "cell_type": "code",
   "execution_count": 2,
   "metadata": {
    "ExecuteTime": {
     "end_time": "2020-06-18T11:41:13.758764Z",
     "start_time": "2020-06-18T11:41:13.076320Z"
    },
    "code_folding": []
   },
   "outputs": [],
   "source": [
    "%load_ext autoreload\n",
    "%autoreload 1\n",
    "%aimport Regions1, physio_def_2, numeric, Automatic1\n",
    "\n",
    "from physio_def_2 import *\n",
    "from Regions1 import Regions\n",
    "from numeric import *\n",
    "from Automatic1 import *\n",
    "\n",
    "if \"srdjan\" not in os.getcwd():\n",
    "    os.chdir(os.path.expanduser(\"~\"))\n",
    "\n",
    "outputStyle = {\n",
    "    \"color\":\"navy\",\n",
    "    \"font-family\":\"Courier New\",\n",
    "    \"font-size\":\"80%\",\n",
    "    }\n",
    "infoStyle = {\n",
    "    \"font-size\":\"80%\",\n",
    "    \"color\":\"grey\",\n",
    "    }\n",
    "bodyStyle = {\n",
    "    }\n",
    "\n",
    "baseFig = getFigure(w=200,h=150)\n",
    "\n",
    "## global vars\n",
    "test = True#\"srdjan\" in os.getcwd()\n",
    "debug = False#\"srdjan\" in os.getcwd()\n",
    "\n",
    "if test:\n",
    "    %config InlineBackend.figure_format = 'retina'\n",
    "\n",
    "from plotly.colors import DEFAULT_PLOTLY_COLORS"
   ]
  },
  {
   "cell_type": "code",
   "execution_count": 3,
   "metadata": {
    "ExecuteTime": {
     "end_time": "2020-06-18T11:41:13.764128Z",
     "start_time": "2020-06-18T11:41:13.760594Z"
    }
   },
   "outputs": [],
   "source": [
    "def tryexcept(x,default):\n",
    "    try:\n",
    "        return eval(x)\n",
    "    except:\n",
    "        return default"
   ]
  },
  {
   "cell_type": "code",
   "execution_count": 4,
   "metadata": {
    "ExecuteTime": {
     "end_time": "2020-06-18T11:41:13.894136Z",
     "start_time": "2020-06-18T11:41:13.765482Z"
    }
   },
   "outputs": [],
   "source": [
    "timescales = [.3,.4,.5,.7]+sorted([i*j for i in [1,2,3,4,5,7] for j in [1,10]])[:-3]+ sorted([i*j*60 for i in [1,1.5,2,3,5] for j in [1]])\n",
    "timescales = np.array(timescales)"
   ]
  },
  {
   "cell_type": "code",
   "execution_count": 5,
   "metadata": {
    "ExecuteTime": {
     "end_time": "2020-06-18T11:41:13.931122Z",
     "start_time": "2020-06-18T11:41:13.895505Z"
    }
   },
   "outputs": [],
   "source": [
    "markerDict = { .3: \"ultrafast\",2:\"fast\",60:\"slow\"}"
   ]
  },
  {
   "cell_type": "code",
   "execution_count": 6,
   "metadata": {
    "ExecuteTime": {
     "end_time": "2020-06-18T11:41:13.946498Z",
     "start_time": "2020-06-18T11:41:13.932485Z"
    }
   },
   "outputs": [],
   "source": [
    "folder = \"/data/prototype/\"\n",
    "\n",
    "allRecs = sorted([os.path.join(folder,el) for el in os.listdir(folder) if el.endswith(\"lif\")])\n",
    "\n",
    "from dash import no_update\n",
    "\n",
    "exampleLif = \"/data/prototype/Experiment52c.lif\""
   ]
  },
  {
   "cell_type": "code",
   "execution_count": 7,
   "metadata": {
    "ExecuteTime": {
     "end_time": "2020-06-18T11:41:15.074367Z",
     "start_time": "2020-06-18T11:41:13.947841Z"
    },
    "code_folding": []
   },
   "outputs": [],
   "source": [
    "app = JupyterDash(__name__,\n",
    "                  width=1000,\n",
    "                  height=1000,\n",
    "                 )\n",
    "\n",
    "filterSlider = dcc.Slider(\n",
    "                    id = \"filter-slider\",\n",
    "                    min=0,\n",
    "                    max=len(timescales)-1,\n",
    "                    value=int(np.where(timescales>=3)[0][0]),\n",
    "                    marks = {tryexcept(f\"int(np.where(timescales>={ts})[0][0])\",len(timescales)-1):{\"label\":markerDict[ts]} for ts in markerDict},\n",
    "#                     marks={int(i_ultrafast): {\"label\":\"ultrafast\"},\n",
    "#                            int(i_fast)     : {\"label\":\"fast\"},\n",
    "#                            i_slow     : {\"label\":\"slow\"},\n",
    "#                            (len(timescales)-1):{\"label\":\"raw\"}\n",
    "#                           },\n",
    "                    updatemode='drag',\n",
    "                    )\n",
    "SelectedRoisHidden = html.Div([\n",
    "           \"Selected ROIs:\",\n",
    "            dcc.Input(id=\"selected-rois\",\n",
    "                type=\"text\",\n",
    "                debounce=False,\n",
    "                size=6,\n",
    "                value=\"\",\n",
    "             ), \n",
    "            html.Button(\"Calc all Peaks\",id=\"calc-peaks\"),\n",
    "            html.Div(\"\",id=\"calc-peaks-feedback\"),\n",
    "        ],style={\"display\": \"inline-box\" if debug else \"hidden\",**infoStyle})\n",
    "# CalcPeaksButtonHidden = html.Div(html.Button(\"Calc all Peaks\",id=\"calc-peaks\"),style={\"display\": \"inline-box\" if debug else \"hidden\"})\n",
    "\n",
    "rangePickers = html.Div([dcc.RangeSlider(\n",
    "                    id = \"range-slider-%i\"%i,\n",
    "                    min=0.,\n",
    "                    max=1.,\n",
    "                    value=[0.02,.98] if i==0 else [0,0],\n",
    "                    updatemode='mouseup',\n",
    "                    included=True,\n",
    "                    step=.001,\n",
    "                    ) for i in range(3)],\n",
    "                    style={\"width\":560, \"padding-left\":55})\n",
    "\n",
    "APP_LAYOUT = [\n",
    "    \n",
    "    html.H1(children='CTN Analytics',style=bodyStyle),\n",
    "    html.Div(\"how do you like the name? :-)\",style=infoStyle),\n",
    "    html.Br(),\n",
    "    ####################################\n",
    "    html.Div('Select the experiment',style={**bodyStyle, \"display\":\"inline-box\"}),\n",
    "    dcc.Dropdown(options = [{\"value\":path,\"label\":path} for path in allRecs], id=\"filepath-dropdown\", value = exampleLif if (test and exampleLif in allRecs) else None, style={**bodyStyle,\"width\":\"70%\"}),\n",
    "    html.Div('Select the series',style={**bodyStyle, \"display\":\"inline-box\"}),\n",
    "    dcc.Dropdown(options = [{\"value\":None,\"label\":None}], id=\"series-dropdown\", style={**bodyStyle,\"width\":\"70%\"}),\n",
    "    html.Div([\n",
    "        html.Div([\n",
    "            'Select filer size',\n",
    "            dcc.RadioItems(options = [{\"value\":None,\"label\":None}], id=\"pickle-radio\", labelStyle={\"display\":\"block\"})\n",
    "        ],style={**bodyStyle, \"display\":\"inline-block\", \"vertical-align\":\"text-top\"}),\n",
    "        html.Div(id=\"pickle-previews\", children = [\"None\"],style={\"display\":\"inline-block\",\"padding-left\":\"20px\",\"vertical-align\":\"text-top\",}),\n",
    "    ],style={\"padding-top\":\"20px\"}),\n",
    "    html.Div(id=\"pickle-feedback\",style={**outputStyle}),\n",
    "       \n",
    "]\n",
    "APP_LAYOUT += [html.Div([\n",
    "        html.Div([\n",
    "            k if debug else None,\n",
    "            dcc.Graph(id=k, figure=getFigure(300,400)),\n",
    "            {\"spike-durations\":filterSlider,\"roi-selector\":SelectedRoisHidden, \"range-pickers\":rangePickers}.get(k)\n",
    "                 ],style={\"max-width\":\"550px\",\"max-height\":\"550px\",\"border\":\"thin grey solid\",}\n",
    "                ) for k in ks\n",
    "    ],\n",
    "        style={\"display\":\"flex\", \"flex-wrap\":\"wrap\",\"align-items\":\"top\",\"flex-shrink\":3}\n",
    "    ) for ks in [[\"roi-selector\",\"range-pickers\"],[\"spike-durations\",\"raster\"],[\"roi-hover\"]*int(debug)]]"
   ]
  },
  {
   "cell_type": "code",
   "execution_count": 8,
   "metadata": {
    "ExecuteTime": {
     "end_time": "2020-06-18T11:41:15.094580Z",
     "start_time": "2020-06-18T11:41:15.076641Z"
    },
    "code_folding": []
   },
   "outputs": [],
   "source": [
    "# callbacks\n",
    "@app.callback(\n",
    "    [Output(\"series-dropdown\",\"value\"),\n",
    "    Output(\"series-dropdown\",\"options\")],\n",
    "    [Input(\"filepath-dropdown\",\"value\")]\n",
    ")\n",
    "def serve_series(pathToRec):\n",
    "    if pathToRec is None:\n",
    "        return no_update\n",
    "    if len(pathToRec)==0:\n",
    "        return no_update\n",
    "    analysisFolder = pathToRec+\"_analysis\"\n",
    "    opts = [{\"value\":os.path.join(analysisFolder,el), \"label\":el} for el in sorted(os.listdir(analysisFolder)) if os.path.isdir(os.path.join(analysisFolder,el))]\n",
    "    global pathToSer\n",
    "    pathToSer = (opts[0][\"value\"] if len(opts) and test else None)\n",
    "    return pathToSer, opts\n",
    "\n",
    "@app.callback(\n",
    "    [Output(\"pickle-radio\",\"value\"),\n",
    "     Output(\"pickle-radio\",\"options\"),\n",
    "     Output(\"pickle-previews\",\"children\")\n",
    "    ],\n",
    "    [Input(\"series-dropdown\",\"value\")]\n",
    ")\n",
    "def serve_pickles(pathToSer,width=200, height=200):\n",
    "    import base64\n",
    "    from collections import OrderedDict \n",
    "    if pathToSer is None:\n",
    "        return no_update\n",
    "    if len(pathToSer)==0:\n",
    "        return no_update\n",
    "    preview = OrderedDict()\n",
    "    options = []\n",
    "    for f in sorted(os.listdir(pathToSer))[::-1]:\n",
    "        if f.endswith(\"pkl\"):\n",
    "            k = f.split(\"_\")[0].replace(\".\",\"+\")\n",
    "            pathToRoi = os.path.join(pathToSer,f)\n",
    "            options += [{ \"label\": k, \"value\": pathToRoi }]\n",
    "            previewFile = pathToRoi.replace(f,\".image_\"+f.replace(\"_rois.pkl\",\".png\"))\n",
    "            if os.path.isfile(previewFile):\n",
    "                encoded_image = base64.b64encode(open(previewFile, 'rb').read())\n",
    "                preview[k] = html.Img(src='data:image/png;base64,{}'.format(encoded_image.decode()), width=\"%ipx\"%(width*.9),height=\"%ipx\"%(height*.8+20))\n",
    "\n",
    "    if len(options) and test:\n",
    "        val = options[0][\"value\"]\n",
    "    else:\n",
    "        val = None\n",
    "    previews = [html.Div(children=[html.Div(k,style={\"padding-left\":\"20px\"}), preview[k]], style=dict(\n",
    "        height=\"%ipx\"%height,\n",
    "        width=\"%ipx\"%width,\n",
    "        display=\"inline-block\",\n",
    "        border='thin lightgrey solid'\n",
    "    )) for k in preview]\n",
    "    return val, options, html.Div(previews,style={\"width\":\"%ipx\"%(width*2.3)})\n",
    "\n",
    "@app.callback(\n",
    "    [Output(\"pickle-feedback\",\"children\"),\n",
    "     Output(\"roi-selector\",\"figure\"),\n",
    "     Output(\"calc-peaks\",\"n_clicks\"),\n",
    "    ],\n",
    "    [Input(\"pickle-radio\",\"value\")]\n",
    ")\n",
    "def import_pickle(path):\n",
    "    if path is None:\n",
    "        return no_update\n",
    "    if len(path)==0:\n",
    "        return no_update\n",
    "    global regions\n",
    "    with open(path,\"rb\") as f:\n",
    "        regions = pickle.load(f)\n",
    "    regions.update()\n",
    "    feedback = [\n",
    "        \"Regions imported successfully.\",\n",
    "        \"Original movie:\",\n",
    "        html.Div(children=[\n",
    "            \"dimension (T,X,Y): (%i, %i, %i)\"%((len(regions.time), )+regions.image.shape),\n",
    "            html.Br(),\n",
    "            \"duration (h:m:s): \"+str(pd.Timedelta(regions.time.max(), unit=\"s\")).split()[-1].split(\".\")[0],\n",
    "            html.Br(),\n",
    "            \"frequency (Hz): %.3g\"%regions.Freq,\n",
    "        ],style={'padding-left': '30px'}),\n",
    "        \"Number of ROIs: %i\"%len(regions.df),\n",
    "    ]\n",
    "    feedback = sum([[el, html.Br()] for el in feedback],[])\n",
    "    roisImage = showRoisOnly(regions,indices=regions.df.index, im=regions.statImages[regions.mode])\n",
    "    return feedback,roisImage,1"
   ]
  },
  {
   "cell_type": "code",
   "execution_count": 9,
   "metadata": {
    "ExecuteTime": {
     "end_time": "2020-06-18T11:41:15.118603Z",
     "start_time": "2020-06-18T11:41:15.096805Z"
    },
    "code_folding": []
   },
   "outputs": [],
   "source": [
    "@app.callback(\n",
    "    Output(\"spike-durations\", \"figure\"),\n",
    "    [Input(\"filter-slider\", \"value\")]+[Input(rp.id, \"value\") for rp in rangePickers.children]\n",
    ")\n",
    "def plotPeakStats_callback(i, *ranges):\n",
    "    timeScale = timescales[i]\n",
    "    global regions\n",
    "    k = \"%g\"%timeScale\n",
    "    try:\n",
    "        regions.peaks[k]\n",
    "    except:\n",
    "        regions.calc_peaks(timeScale)\n",
    "    t0,te = regions.time[[0,-1]]\n",
    "    ranges = [sorted(r) for r in ranges]\n",
    "#     ranges = [r for r in ranges if r[1]!=r[0]]\n",
    "    ranges = np.array(ranges)*(te-t0)+t0\n",
    "    trfig = regions.show_scatter_peaks(timeScale, ranges)\n",
    "    return trfig"
   ]
  },
  {
   "cell_type": "code",
   "execution_count": 10,
   "metadata": {
    "ExecuteTime": {
     "end_time": "2020-06-18T11:41:15.132638Z",
     "start_time": "2020-06-18T11:41:15.119823Z"
    },
    "code_folding": []
   },
   "outputs": [],
   "source": [
    "@app.callback(\n",
    "    Output(\"calc-peaks-feedback\", \"children\"),\n",
    "    [Input(\"filter-slider\", \"value\")]+[Input(rp.id, \"value\") for rp in rangePickers.children]\n",
    ")\n",
    "def tmp_callback(i, *ranges):\n",
    "    timeScale = timescales[i]\n",
    "    return str(i)+\" \"+str(ranges)"
   ]
  },
  {
   "cell_type": "code",
   "execution_count": 11,
   "metadata": {
    "ExecuteTime": {
     "end_time": "2020-06-18T11:41:15.147310Z",
     "start_time": "2020-06-18T11:41:15.133727Z"
    }
   },
   "outputs": [],
   "source": [
    "@app.callback(\n",
    "    Output(\"selected-rois\", \"value\"),\n",
    "    [Input(\"roi-selector\", \"selectedData\")],\n",
    "    )\n",
    "def showSelected(selData):\n",
    "    if selData is None:\n",
    "        return \"all\"\n",
    "    return \",\".join(p[\"hovertext\"] for p in selData[\"points\"])"
   ]
  },
  {
   "cell_type": "code",
   "execution_count": 12,
   "metadata": {
    "ExecuteTime": {
     "end_time": "2020-06-18T11:41:15.162994Z",
     "start_time": "2020-06-18T11:41:15.148411Z"
    }
   },
   "outputs": [],
   "source": [
    "@app.callback(\n",
    "    Output(\"range-pickers\", \"figure\"),\n",
    "    [Input(\"selected-rois\", \"value\")]+[Input(rp.id, \"value\") for rp in rangePickers.children],\n",
    "    )\n",
    "def showTrace(selData,*ranges,showFreq = 2):\n",
    "    global regions\n",
    "    if selData is None:\n",
    "        return baseFig\n",
    "    if selData==\"all\":\n",
    "        indices = regions.df.index\n",
    "    else:\n",
    "        indices = np.array(selData.split(\",\")).astype(int)\n",
    "    nRebin = int(regions.Freq/showFreq)\n",
    "    t = regions.time\n",
    "    y = np.sum([regions.df.loc[i,\"trace\"]*regions.df.loc[i,\"size\"] for i in indices],axis=0)/regions.df[\"size\"].sum()\n",
    "    if nRebin>1:\n",
    "        y = rebin(y, nRebin)\n",
    "        t = rebin(t, nRebin)\n",
    "    fig = go.Figure()\n",
    "    fig.add_trace(go.Scatter(x=t,y=y, line_width=.5, opacity=1, line_color=\"darkred\"))\n",
    "    ranges = [sorted(r) for r in ranges]\n",
    "    ranges = [np.array(r)*(t[-1]-t[0])+t[0] if r[1]-r[0]>.01 else [0,1] for r in ranges ]\n",
    "    fig.update_layout(\n",
    "        shapes = [\n",
    "            dict(\n",
    "                type=\"rect\",\n",
    "                # x-reference is assigned to the x-values\n",
    "                xref=\"x\",\n",
    "                # y-reference is assigned to the plot paper [0,1]\n",
    "                yref=\"paper\",\n",
    "                x0=r[0],\n",
    "                y0=0,\n",
    "                x1=r[1],\n",
    "                y1=1,\n",
    "                fillcolor=DEFAULT_PLOTLY_COLORS[i],\n",
    "                opacity=0.3,\n",
    "                layer=\"below\",\n",
    "                line_width=0,\n",
    "            ) for i,r in enumerate(ranges)])\n",
    "    fig.update_layout({\n",
    "        \"plot_bgcolor\":\"white\",\n",
    "        \"width\":600,\n",
    "        \"height\":400,\n",
    "        \"xaxis\":dict(\n",
    "            mirror=True,\n",
    "            ticks='outside',\n",
    "            showline=True,),\n",
    "#         \"dragmode\":'drawrect',\n",
    "        \"margin\": dict(t=50,r=10)\n",
    "    })\n",
    "    fig.update_xaxes(showline=True, linewidth=1, linecolor='black', mirror=True, ticks=\"outside\", ticklen=3, nticks=10, title=\"time [s]\", gridcolor=\"lightgrey\")\n",
    "    fig.update_yaxes(showline=True, linewidth=1, linecolor='black', mirror=True, ticks=\"outside\", ticklen=3, gridcolor=\"lightgrey\")\n",
    "#     dragmode=,\n",
    "#     newshape_line_color='cyan',\n",
    "#     title_text='Draw a path to separate versicolor and virginica'\n",
    "    return fig#.show(config={'modeBarButtonsToAdd':['drawline',\n",
    "#                                     'drawopenpath',\n",
    "#                                     'drawclosedpath',\n",
    "#                                     'drawcircle',\n",
    "#                                     'drawrect',\n",
    "#           `                          'eraseshape'\n",
    "#                                    ]})"
   ]
  },
  {
   "cell_type": "code",
   "execution_count": 13,
   "metadata": {
    "ExecuteTime": {
     "end_time": "2020-06-18T11:41:15.178928Z",
     "start_time": "2020-06-18T11:41:15.164145Z"
    },
    "code_folding": []
   },
   "outputs": [],
   "source": [
    "@app.callback(\n",
    "    Output(\"raster\", \"figure\"),\n",
    "    [Input(\"filter-slider\", \"value\")]\n",
    ")\n",
    "def plotRaster_callback(i, npoints = 1000):\n",
    "    timeScale = timescales[i]\n",
    "    global regions\n",
    "    k = \"%g\"%timeScale\n",
    "    try:\n",
    "        regions.peaks[k]\n",
    "    except:\n",
    "        regions.calc_peaks(timeScale)\n",
    "    df = regions.peaks[k]\n",
    "    C = regions.df\n",
    "    rr = np.zeros((len(C),npoints))\n",
    "    tt = pd.Series(np.linspace(0,regions.time.max(),npoints))\n",
    "    for i,ix in enumerate(C.index):\n",
    "        ddf = df.query(f\"roi=={ix}\")\n",
    "        for _,row in ddf.iterrows():\n",
    "            rr[i,tt.between(row.t0,row.t0+row.iloc[1])] = 1\n",
    "    \n",
    "    fig = go.Figure(go.Heatmap(\n",
    "            x=tt,\n",
    "            z=rr,\n",
    "            showscale=False,\n",
    "            hoverinfo=\"text\",text=[[str(i)] for i in regions.df.index]\n",
    "        ))\n",
    "    fig.update_yaxes(title_text='roi id')\n",
    "    fig.update_xaxes(title_text='time [s]')\n",
    "    fig.update_layout({\n",
    "        \"width\":  600,\n",
    "        \"height\": 400,\n",
    "        \"margin\": dict(l=20, r=10, t=50, b=20),\n",
    "    })\n",
    "        # fig.update_xaxes(showticklabels=False)\n",
    "    return fig"
   ]
  },
  {
   "cell_type": "code",
   "execution_count": 14,
   "metadata": {
    "ExecuteTime": {
     "end_time": "2020-06-18T11:41:15.195720Z",
     "start_time": "2020-06-18T11:41:15.180092Z"
    }
   },
   "outputs": [],
   "source": [
    "# @app.callback(\n",
    "#     Output(\"calc-peaks-feedback\",\"children\"),\n",
    "#     [Input(\"calc-peaks\", \"n_clicks\")])\n",
    "# def calcPeaks_callback(i):\n",
    "#     if i>0:\n",
    "#         global regions\n",
    "#         for ts in timescales[::-1]:\n",
    "#             try:\n",
    "#                 regions.peaks[k]\n",
    "#             except:\n",
    "#                 regions.calc_peaks(ts)\n",
    "#         return \"Done\"\n",
    "#     else:\n",
    "#         return no_update"
   ]
  },
  {
   "cell_type": "code",
   "execution_count": 15,
   "metadata": {
    "ExecuteTime": {
     "end_time": "2020-06-18T11:41:15.209767Z",
     "start_time": "2020-06-18T11:41:15.196825Z"
    }
   },
   "outputs": [],
   "source": [
    "# app.layout = html.Div(children=APP_LAYOUT,\n",
    "#                       style={\"family\":\"Arial\"}\n",
    "#                      )\n",
    "# app"
   ]
  },
  {
   "cell_type": "code",
   "execution_count": 16,
   "metadata": {
    "ExecuteTime": {
     "end_time": "2020-06-18T11:41:15.225557Z",
     "start_time": "2020-06-18T11:41:15.210959Z"
    }
   },
   "outputs": [
    {
     "data": {
      "text/html": [
       "open the following link in a different tab (do not close this tab!): <a href=\"https://ctn.physiologie.meduniwien.ac.at/user/srdjan/app/endpoints/4056e6b78677451d80ce54060acad987/\">https://ctn.physiologie.meduniwien.ac.at/user/srdjan/app/endpoints/4056e6b78677451d80ce54060acad987/</a>"
      ],
      "text/plain": [
       "<IPython.core.display.HTML object>"
      ]
     },
     "execution_count": 16,
     "metadata": {},
     "output_type": "execute_result"
    }
   ],
   "source": [
    "app.layout = html.Div(children=APP_LAYOUT)\n",
    "app._repr_html_() \n",
    "link2app = \"https://ctn.physiologie.meduniwien.ac.at\"+app.get_app_root_url()\n",
    "HTML(f'open the following link in a different tab (do not close this tab!): <a href=\"{link2app}\">{link2app}</a>')"
   ]
  },
  {
   "cell_type": "code",
   "execution_count": 18,
   "metadata": {
    "ExecuteTime": {
     "end_time": "2020-06-18T13:22:10.479380Z",
     "start_time": "2020-06-18T13:22:10.474518Z"
    }
   },
   "outputs": [
    {
     "data": {
      "text/plain": [
       "dict_keys(['4', '5', '3', '2', '1'])"
      ]
     },
     "execution_count": 18,
     "metadata": {},
     "output_type": "execute_result"
    }
   ],
   "source": [
    "regions.peaks.keys()"
   ]
  },
  {
   "cell_type": "code",
   "execution_count": null,
   "metadata": {},
   "outputs": [],
   "source": []
  }
 ],
 "metadata": {
  "kernelspec": {
   "display_name": "Physio",
   "language": "python",
   "name": "physio"
  },
  "language_info": {
   "codemirror_mode": {
    "name": "ipython",
    "version": 3
   },
   "file_extension": ".py",
   "mimetype": "text/x-python",
   "name": "python",
   "nbconvert_exporter": "python",
   "pygments_lexer": "ipython3",
   "version": "3.7.6"
  },
  "toc": {
   "base_numbering": 1,
   "nav_menu": {},
   "number_sections": true,
   "sideBar": true,
   "skip_h1_title": false,
   "title_cell": "Table of Contents",
   "title_sidebar": "Contents",
   "toc_cell": false,
   "toc_position": {},
   "toc_section_display": true,
   "toc_window_display": false
  }
 },
 "nbformat": 4,
 "nbformat_minor": 2
}
