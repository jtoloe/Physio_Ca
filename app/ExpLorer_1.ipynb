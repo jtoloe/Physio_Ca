{
 "cells": [
  {
   "cell_type": "code",
   "execution_count": 1,
   "metadata": {
    "ExecuteTime": {
     "end_time": "2020-10-22T12:23:29.948446Z",
     "start_time": "2020-10-22T12:23:29.938337Z"
    }
   },
   "outputs": [
    {
     "data": {
      "text/html": [
       "<style>.container { width:100% !important; }</style>"
      ],
      "text/plain": [
       "<IPython.core.display.HTML object>"
      ]
     },
     "metadata": {},
     "output_type": "display_data"
    }
   ],
   "source": [
    "from IPython.core.display import HTML,display\n",
    "display(HTML(\"<style>.container { width:100% !important; }</style>\"))"
   ]
  },
  {
   "cell_type": "code",
   "execution_count": 2,
   "metadata": {
    "ExecuteTime": {
     "end_time": "2020-10-22T12:23:31.539530Z",
     "start_time": "2020-10-22T12:23:30.275028Z"
    }
   },
   "outputs": [],
   "source": [
    "## importing stuff\n",
    "import os\n",
    "import pickle\n",
    "from sys import path as syspath\n",
    "syspath.append(os.path.expanduser(\"~/srdjan_functs/\"))\n",
    "\n",
    "import numpy as np\n",
    "np.corrcoef(*np.random.randn(2,3))\n",
    "\n",
    "import matplotlib.pyplot as plt\n",
    "%config InlineBackend.figure_format = 'retina'\n",
    "%load_ext autoreload\n",
    "%autoreload 2\n",
    "\n",
    "from IPython.display import display\n",
    "import pandas as pd\n",
    "from islets.Recording import Recording, saveMovie, parse_leica\n",
    "from islets.numeric import power_spectrum, rebin\n",
    "from islets.utils import show_movie, saveRois\n",
    "\n",
    "from matplotlib.colors import LogNorm"
   ]
  },
  {
   "cell_type": "code",
   "execution_count": 3,
   "metadata": {
    "ExecuteTime": {
     "end_time": "2020-10-22T12:23:31.556338Z",
     "start_time": "2020-10-22T12:23:31.541035Z"
    }
   },
   "outputs": [],
   "source": [
    "pd.set_option('display.max_columns', 50)"
   ]
  },
  {
   "cell_type": "code",
   "execution_count": 4,
   "metadata": {
    "ExecuteTime": {
     "end_time": "2020-10-22T12:23:32.190609Z",
     "start_time": "2020-10-22T12:23:31.590829Z"
    }
   },
   "outputs": [],
   "source": [
    "# for f in os.listdir(\"/data/Sandra/2020/2020_10_06_Sandra_beta_cells\"):\n",
    "#     if f.endswith(\"tif\"):\n",
    "#         tiffile = os.path.join(\"/data/Sandra/2020/2020_10_06_Sandra_beta_cells/\", f)\n",
    "#         rec = Recording(tiffile)"
   ]
  },
  {
   "cell_type": "code",
   "execution_count": 5,
   "metadata": {
    "ExecuteTime": {
     "end_time": "2020-10-22T12:23:35.841539Z",
     "start_time": "2020-10-22T12:23:35.826417Z"
    }
   },
   "outputs": [],
   "source": [
    "# %%capture\n",
    "# import PicklePicker as pp"
   ]
  },
  {
   "cell_type": "code",
   "execution_count": 6,
   "metadata": {
    "ExecuteTime": {
     "end_time": "2020-10-22T12:23:36.155487Z",
     "start_time": "2020-10-22T12:23:36.140368Z"
    }
   },
   "outputs": [],
   "source": [
    "# pathToRec = \"/data/Sandra/2020/2020_10_06_Sandra_beta_cells/Dish_1_REC_1_Baseline_5_min_25pcLED_1_Hz.tif\"\n",
    "# analysisFolder = pathToRec+\"_analysis\"\n",
    "# series_ = [el for el in sorted(os.listdir(analysisFolder))[::-1] if os.path.isdir(os.path.join(analysisFolder,el)) and el[0]!=\".\"]\n",
    "# series_"
   ]
  },
  {
   "cell_type": "code",
   "execution_count": 7,
   "metadata": {
    "ExecuteTime": {
     "end_time": "2020-10-22T12:23:38.078189Z",
     "start_time": "2020-10-22T12:23:38.062904Z"
    }
   },
   "outputs": [],
   "source": [
    "# import bioformats as bf\n",
    "# bf.javabridge.start_vm(class_path=bf.JARS)"
   ]
  },
  {
   "cell_type": "code",
   "execution_count": 8,
   "metadata": {
    "ExecuteTime": {
     "end_time": "2020-10-22T12:23:40.790030Z",
     "start_time": "2020-10-22T12:23:40.774642Z"
    }
   },
   "outputs": [],
   "source": [
    "# from islets.Regions1 import load_regions\n",
    "# regions = load_regions(\"/data/Sandra/2020/2020_10_06_Sandra_beta_cells/Dish_1_REC_4_8mM_Glucose_0.4_mM_Ca_10_min_5pcLED_20_Hz.tif_analysis/all/5_rois.pkl\",verbose=True)\n",
    "# regions.examine3(max_rois=100)"
   ]
  },
  {
   "cell_type": "code",
   "execution_count": 9,
   "metadata": {
    "ExecuteTime": {
     "end_time": "2020-10-22T12:23:42.128412Z",
     "start_time": "2020-10-22T12:23:42.113059Z"
    },
    "scrolled": false
   },
   "outputs": [],
   "source": [
    "# pp.PicklePicker(\"/data/Sandra/2019/2019_09_03/Experiment31.lif\",\"Series021-23\")"
   ]
  },
  {
   "cell_type": "code",
   "execution_count": 10,
   "metadata": {
    "ExecuteTime": {
     "end_time": "2020-10-22T12:23:49.401239Z",
     "start_time": "2020-10-22T12:23:49.385676Z"
    }
   },
   "outputs": [],
   "source": [
    "from islets.Recording import import_data"
   ]
  },
  {
   "cell_type": "code",
   "execution_count": 11,
   "metadata": {
    "ExecuteTime": {
     "end_time": "2020-10-22T12:24:00.409825Z",
     "start_time": "2020-10-22T12:24:00.248725Z"
    }
   },
   "outputs": [
    {
     "data": {
      "application/vnd.jupyter.widget-view+json": {
       "model_id": "fbc84d88fce94fa2ad2263f8ae56dda8",
       "version_major": 2,
       "version_minor": 0
      },
      "text/plain": [
       "HBox(children=(HTML(value=''), FloatProgress(value=0.0, max=1.0), HTML(value='')))"
      ]
     },
     "metadata": {},
     "output_type": "display_data"
    },
    {
     "name": "stdout",
     "output_type": "stream",
     "text": [
      "#################### /data/Sandra/2020/2020_07_08/Experiment59a.lif\n",
      "\n"
     ]
    }
   ],
   "source": [
    "status = import_data(\"/data/Sandra/2020/\",\"59a\", verbose=True)"
   ]
  },
  {
   "cell_type": "code",
   "execution_count": 18,
   "metadata": {
    "ExecuteTime": {
     "end_time": "2020-10-22T12:25:08.959323Z",
     "start_time": "2020-10-22T12:25:08.935749Z"
    }
   },
   "outputs": [
    {
     "data": {
      "text/plain": [
       "Index(['path to exp', 'experiment', 'series', 'SizeT', 'SizeX', 'SizeY',\n",
       "       'SizeZ', 'pxSize', 'pxUnit', 'Frequency', 'Duration', 'line scan',\n",
       "       'gap', 'Time Range', 'Duration [s]', 'path to movie', 'movie done',\n",
       "       'movie size [MB]', 'date', 'Series Durations', 'pickles done',\n",
       "       'path to protocol', 'protocol done', 'protocol', 'path to add_info',\n",
       "       'add_info done', 'comments', 'sex', 'strain', 'species', 'dye',\n",
       "       'slice number', 'part of pancreas', 'microscope'],\n",
       "      dtype='object')"
      ]
     },
     "execution_count": 18,
     "metadata": {},
     "output_type": "execute_result"
    }
   ],
   "source": [
    "status.columns"
   ]
  },
  {
   "cell_type": "code",
   "execution_count": 22,
   "metadata": {
    "ExecuteTime": {
     "end_time": "2020-10-22T12:27:22.866438Z",
     "start_time": "2020-10-22T12:27:22.842096Z"
    }
   },
   "outputs": [
    {
     "data": {
      "text/plain": [
       "array(['/data/Sandra/2020/2020_07_08/Experiment59a.lif_analysis/Series002-4/Experiment59a.lif_Series002-4.mp4',\n",
       "       '/data/Sandra/2020/2020_07_08/Experiment59a.lif_analysis/Series003-4_0-5160s/Experiment59a.lif_Series003-4.mp4'],\n",
       "      dtype=object)"
      ]
     },
     "execution_count": 22,
     "metadata": {},
     "output_type": "execute_result"
    }
   ],
   "source": [
    "status[\"path to movie\"].values"
   ]
  },
  {
   "cell_type": "code",
   "execution_count": 21,
   "metadata": {
    "ExecuteTime": {
     "end_time": "2020-10-22T12:25:47.974649Z",
     "start_time": "2020-10-22T12:25:47.958033Z"
    }
   },
   "outputs": [
    {
     "data": {
      "text/plain": [
       "array(['/data/Sandra/2020/2020_07_08/Experiment59a.lif_analysis/Series002-4/Experiment59a.lif_Series002-4_protocol.txt',\n",
       "       '/data/Sandra/2020/2020_07_08/Experiment59a.lif_analysis/Series003-4/Experiment59a.lif_Series003-4_protocol.txt'],\n",
       "      dtype=object)"
      ]
     },
     "execution_count": 21,
     "metadata": {},
     "output_type": "execute_result"
    }
   ],
   "source": [
    "status[\"path to protocol\"].values"
   ]
  },
  {
   "cell_type": "code",
   "execution_count": 32,
   "metadata": {
    "ExecuteTime": {
     "end_time": "2020-10-21T14:42:47.635796Z",
     "start_time": "2020-10-21T14:42:47.618827Z"
    }
   },
   "outputs": [],
   "source": [
    "# rec = Recording(\"/data/Sandra/2020/2020_07_08/Experiment59a.lif\")\n",
    "\n",
    "# rec.import_series(\"Series002-4\", onlyMeta=True)"
   ]
  },
  {
   "cell_type": "code",
   "execution_count": 17,
   "metadata": {
    "ExecuteTime": {
     "end_time": "2020-10-21T14:32:04.935908Z",
     "start_time": "2020-10-21T14:32:04.919832Z"
    }
   },
   "outputs": [],
   "source": [
    "# status = import_data(\"/data/Sandra/2019/\",\"_08_, lif, 29\", verbose=True)"
   ]
  },
  {
   "cell_type": "code",
   "execution_count": 11,
   "metadata": {
    "ExecuteTime": {
     "end_time": "2020-10-21T14:15:55.703783Z",
     "start_time": "2020-10-21T14:15:55.662959Z"
    }
   },
   "outputs": [
    {
     "data": {
      "text/html": [
       "<div>\n",
       "<style scoped>\n",
       "    .dataframe tbody tr th:only-of-type {\n",
       "        vertical-align: middle;\n",
       "    }\n",
       "\n",
       "    .dataframe tbody tr th {\n",
       "        vertical-align: top;\n",
       "    }\n",
       "\n",
       "    .dataframe thead th {\n",
       "        text-align: right;\n",
       "    }\n",
       "</style>\n",
       "<table border=\"1\" class=\"dataframe\">\n",
       "  <thead>\n",
       "    <tr style=\"text-align: right;\">\n",
       "      <th></th>\n",
       "      <th>path to exp</th>\n",
       "      <th>experiment</th>\n",
       "      <th>series</th>\n",
       "      <th>SizeT</th>\n",
       "      <th>SizeX</th>\n",
       "      <th>SizeY</th>\n",
       "      <th>SizeZ</th>\n",
       "      <th>pxSize</th>\n",
       "      <th>pxUnit</th>\n",
       "      <th>Frequency</th>\n",
       "      <th>...</th>\n",
       "      <th>path to add_info</th>\n",
       "      <th>add_info done</th>\n",
       "      <th>comments</th>\n",
       "      <th>sex</th>\n",
       "      <th>strain</th>\n",
       "      <th>species</th>\n",
       "      <th>dye</th>\n",
       "      <th>slice number</th>\n",
       "      <th>part of pancreas</th>\n",
       "      <th>microscope</th>\n",
       "    </tr>\n",
       "  </thead>\n",
       "  <tbody>\n",
       "    <tr>\n",
       "      <th>4</th>\n",
       "      <td>/data/Sandra/2019/2019_08_13/Experiment29.lif</td>\n",
       "      <td>Experiment29.lif</td>\n",
       "      <td>Series032-33</td>\n",
       "      <td>556</td>\n",
       "      <td>512</td>\n",
       "      <td>8</td>\n",
       "      <td>1</td>\n",
       "      <td>0.413</td>\n",
       "      <td>µm</td>\n",
       "      <td>227.00</td>\n",
       "      <td>...</td>\n",
       "      <td>/data/Sandra/2019/2019_08_13/Experiment29.lif_...</td>\n",
       "      <td>False</td>\n",
       "      <td>NaN</td>\n",
       "      <td>NaN</td>\n",
       "      <td>NaN</td>\n",
       "      <td>NaN</td>\n",
       "      <td>NaN</td>\n",
       "      <td>NaN</td>\n",
       "      <td>NaN</td>\n",
       "      <td>NaN</td>\n",
       "    </tr>\n",
       "    <tr>\n",
       "      <th>5</th>\n",
       "      <td>/data/Sandra/2019/2019_08_13/Experiment29.lif</td>\n",
       "      <td>Experiment29.lif</td>\n",
       "      <td>Series034</td>\n",
       "      <td>40</td>\n",
       "      <td>512</td>\n",
       "      <td>512</td>\n",
       "      <td>1</td>\n",
       "      <td>0.413</td>\n",
       "      <td>µm</td>\n",
       "      <td>31.80</td>\n",
       "      <td>...</td>\n",
       "      <td>/data/Sandra/2019/2019_08_13/Experiment29.lif_...</td>\n",
       "      <td>False</td>\n",
       "      <td>NaN</td>\n",
       "      <td>NaN</td>\n",
       "      <td>NaN</td>\n",
       "      <td>NaN</td>\n",
       "      <td>NaN</td>\n",
       "      <td>NaN</td>\n",
       "      <td>NaN</td>\n",
       "      <td>NaN</td>\n",
       "    </tr>\n",
       "    <tr>\n",
       "      <th>6</th>\n",
       "      <td>/data/Sandra/2019/2019_08_13/Experiment29.lif</td>\n",
       "      <td>Experiment29.lif</td>\n",
       "      <td>Series035</td>\n",
       "      <td>6324</td>\n",
       "      <td>512</td>\n",
       "      <td>2</td>\n",
       "      <td>1</td>\n",
       "      <td>0.413</td>\n",
       "      <td>µm</td>\n",
       "      <td>596.00</td>\n",
       "      <td>...</td>\n",
       "      <td>/data/Sandra/2019/2019_08_13/Experiment29.lif_...</td>\n",
       "      <td>True</td>\n",
       "      <td></td>\n",
       "      <td>f</td>\n",
       "      <td>NMRI</td>\n",
       "      <td>mouse</td>\n",
       "      <td>Calbryte520</td>\n",
       "      <td>4</td>\n",
       "      <td>nan</td>\n",
       "      <td>upright SP5</td>\n",
       "    </tr>\n",
       "    <tr>\n",
       "      <th>7</th>\n",
       "      <td>/data/Sandra/2019/2019_08_13/Experiment29.lif</td>\n",
       "      <td>Experiment29.lif</td>\n",
       "      <td>Series036</td>\n",
       "      <td>7481</td>\n",
       "      <td>512</td>\n",
       "      <td>2</td>\n",
       "      <td>1</td>\n",
       "      <td>0.413</td>\n",
       "      <td>µm</td>\n",
       "      <td>769.00</td>\n",
       "      <td>...</td>\n",
       "      <td>/data/Sandra/2019/2019_08_13/Experiment29.lif_...</td>\n",
       "      <td>True</td>\n",
       "      <td></td>\n",
       "      <td>f</td>\n",
       "      <td>NMRI</td>\n",
       "      <td>mouse</td>\n",
       "      <td>Calbryte520</td>\n",
       "      <td>4</td>\n",
       "      <td>nan</td>\n",
       "      <td>upright SP5</td>\n",
       "    </tr>\n",
       "    <tr>\n",
       "      <th>8</th>\n",
       "      <td>/data/Sandra/2019/2019_08_13/Experiment29.lif</td>\n",
       "      <td>Experiment29.lif</td>\n",
       "      <td>Series037</td>\n",
       "      <td>20</td>\n",
       "      <td>512</td>\n",
       "      <td>8192</td>\n",
       "      <td>1</td>\n",
       "      <td>0.413</td>\n",
       "      <td>µm</td>\n",
       "      <td>2.04</td>\n",
       "      <td>...</td>\n",
       "      <td>/data/Sandra/2019/2019_08_13/Experiment29.lif_...</td>\n",
       "      <td>True</td>\n",
       "      <td></td>\n",
       "      <td>f</td>\n",
       "      <td>NMRI</td>\n",
       "      <td>mouse</td>\n",
       "      <td>Calbryte520</td>\n",
       "      <td>4</td>\n",
       "      <td>nan</td>\n",
       "      <td>upright SP5</td>\n",
       "    </tr>\n",
       "    <tr>\n",
       "      <th>9</th>\n",
       "      <td>/data/Sandra/2019/2019_08_13/Experiment29.lif</td>\n",
       "      <td>Experiment29.lif</td>\n",
       "      <td>Series038</td>\n",
       "      <td>20</td>\n",
       "      <td>512</td>\n",
       "      <td>8192</td>\n",
       "      <td>1</td>\n",
       "      <td>0.413</td>\n",
       "      <td>µm</td>\n",
       "      <td>2.04</td>\n",
       "      <td>...</td>\n",
       "      <td>/data/Sandra/2019/2019_08_13/Experiment29.lif_...</td>\n",
       "      <td>True</td>\n",
       "      <td></td>\n",
       "      <td>f</td>\n",
       "      <td>NMRI</td>\n",
       "      <td>mouse</td>\n",
       "      <td>Calbryte520</td>\n",
       "      <td>4</td>\n",
       "      <td>nan</td>\n",
       "      <td>upright SP5</td>\n",
       "    </tr>\n",
       "    <tr>\n",
       "      <th>10</th>\n",
       "      <td>/data/Sandra/2019/2019_08_13/Experiment29.lif</td>\n",
       "      <td>Experiment29.lif</td>\n",
       "      <td>Series043</td>\n",
       "      <td>10</td>\n",
       "      <td>512</td>\n",
       "      <td>8000</td>\n",
       "      <td>1</td>\n",
       "      <td>0.413</td>\n",
       "      <td>µm</td>\n",
       "      <td>1.10</td>\n",
       "      <td>...</td>\n",
       "      <td>/data/Sandra/2019/2019_08_13/Experiment29.lif_...</td>\n",
       "      <td>True</td>\n",
       "      <td></td>\n",
       "      <td>f</td>\n",
       "      <td>NMRI</td>\n",
       "      <td>mouse</td>\n",
       "      <td>Calbryte520</td>\n",
       "      <td>4</td>\n",
       "      <td>nan</td>\n",
       "      <td>upright SP5</td>\n",
       "    </tr>\n",
       "    <tr>\n",
       "      <th>11</th>\n",
       "      <td>/data/Sandra/2019/2019_08_13/Experiment29.lif</td>\n",
       "      <td>Experiment29.lif</td>\n",
       "      <td>Series044-51</td>\n",
       "      <td>80</td>\n",
       "      <td>512</td>\n",
       "      <td>8000</td>\n",
       "      <td>1</td>\n",
       "      <td>0.413</td>\n",
       "      <td>µm</td>\n",
       "      <td>1.10</td>\n",
       "      <td>...</td>\n",
       "      <td>/data/Sandra/2019/2019_08_13/Experiment29.lif_...</td>\n",
       "      <td>True</td>\n",
       "      <td></td>\n",
       "      <td>f</td>\n",
       "      <td>NMRI</td>\n",
       "      <td>mouse</td>\n",
       "      <td>Calbryte520</td>\n",
       "      <td>4</td>\n",
       "      <td>nan</td>\n",
       "      <td>upright SP5</td>\n",
       "    </tr>\n",
       "    <tr>\n",
       "      <th>12</th>\n",
       "      <td>/data/Sandra/2019/2019_08_13/Experiment29.lif</td>\n",
       "      <td>Experiment29.lif</td>\n",
       "      <td>Series052-60</td>\n",
       "      <td>90</td>\n",
       "      <td>512</td>\n",
       "      <td>8000</td>\n",
       "      <td>1</td>\n",
       "      <td>0.413</td>\n",
       "      <td>µm</td>\n",
       "      <td>1.10</td>\n",
       "      <td>...</td>\n",
       "      <td>/data/Sandra/2019/2019_08_13/Experiment29.lif_...</td>\n",
       "      <td>True</td>\n",
       "      <td></td>\n",
       "      <td>f</td>\n",
       "      <td>NMRI</td>\n",
       "      <td>mouse</td>\n",
       "      <td>Calbryte520</td>\n",
       "      <td>4</td>\n",
       "      <td>nan</td>\n",
       "      <td>upright SP5</td>\n",
       "    </tr>\n",
       "    <tr>\n",
       "      <th>14</th>\n",
       "      <td>/data/Sandra/2019/2019_08_13/Experiment29.lif</td>\n",
       "      <td>Experiment29.lif</td>\n",
       "      <td>Series064-72</td>\n",
       "      <td>90</td>\n",
       "      <td>512</td>\n",
       "      <td>8000</td>\n",
       "      <td>1</td>\n",
       "      <td>0.356</td>\n",
       "      <td>µm</td>\n",
       "      <td>2.20</td>\n",
       "      <td>...</td>\n",
       "      <td>/data/Sandra/2019/2019_08_13/Experiment29.lif_...</td>\n",
       "      <td>True</td>\n",
       "      <td></td>\n",
       "      <td>f</td>\n",
       "      <td>NMRI</td>\n",
       "      <td>mouse</td>\n",
       "      <td>Calbryte520</td>\n",
       "      <td>4</td>\n",
       "      <td>nan</td>\n",
       "      <td>upright SP5</td>\n",
       "    </tr>\n",
       "    <tr>\n",
       "      <th>16</th>\n",
       "      <td>/data/Sandra/2019/2019_08_13/Experiment29.lif</td>\n",
       "      <td>Experiment29.lif</td>\n",
       "      <td>Series079</td>\n",
       "      <td>10</td>\n",
       "      <td>512</td>\n",
       "      <td>8000</td>\n",
       "      <td>1</td>\n",
       "      <td>0.395</td>\n",
       "      <td>µm</td>\n",
       "      <td>2.20</td>\n",
       "      <td>...</td>\n",
       "      <td>/data/Sandra/2019/2019_08_13/Experiment29.lif_...</td>\n",
       "      <td>True</td>\n",
       "      <td></td>\n",
       "      <td>f</td>\n",
       "      <td>NMRI</td>\n",
       "      <td>mouse</td>\n",
       "      <td>Calbryte520</td>\n",
       "      <td>4</td>\n",
       "      <td>nan</td>\n",
       "      <td>upright SP5</td>\n",
       "    </tr>\n",
       "    <tr>\n",
       "      <th>17</th>\n",
       "      <td>/data/Sandra/2019/2019_08_13/Experiment29.lif</td>\n",
       "      <td>Experiment29.lif</td>\n",
       "      <td>Series080-85</td>\n",
       "      <td>60</td>\n",
       "      <td>512</td>\n",
       "      <td>8000</td>\n",
       "      <td>1</td>\n",
       "      <td>0.395</td>\n",
       "      <td>µm</td>\n",
       "      <td>2.20</td>\n",
       "      <td>...</td>\n",
       "      <td>/data/Sandra/2019/2019_08_13/Experiment29.lif_...</td>\n",
       "      <td>True</td>\n",
       "      <td></td>\n",
       "      <td>f</td>\n",
       "      <td>NMRI</td>\n",
       "      <td>mouse</td>\n",
       "      <td>Calbryte520</td>\n",
       "      <td>4</td>\n",
       "      <td>nan</td>\n",
       "      <td>upright SP5</td>\n",
       "    </tr>\n",
       "    <tr>\n",
       "      <th>25</th>\n",
       "      <td>/data/Sandra/2019/2019_08_13/Experiment29b.lif</td>\n",
       "      <td>Experiment29b.lif</td>\n",
       "      <td>Series029-40</td>\n",
       "      <td>120</td>\n",
       "      <td>512</td>\n",
       "      <td>8000</td>\n",
       "      <td>1</td>\n",
       "      <td>0.487</td>\n",
       "      <td>µm</td>\n",
       "      <td>2.20</td>\n",
       "      <td>...</td>\n",
       "      <td>/data/Sandra/2019/2019_08_13/Experiment29b.lif...</td>\n",
       "      <td>True</td>\n",
       "      <td></td>\n",
       "      <td>f</td>\n",
       "      <td>NMRI</td>\n",
       "      <td>mouse</td>\n",
       "      <td>Calbryte520</td>\n",
       "      <td>7</td>\n",
       "      <td>nan</td>\n",
       "      <td>upright SP5</td>\n",
       "    </tr>\n",
       "    <tr>\n",
       "      <th>28</th>\n",
       "      <td>/data/Sandra/2019/2019_08_13/Experiment29b.lif</td>\n",
       "      <td>Experiment29b.lif</td>\n",
       "      <td>Series043-50</td>\n",
       "      <td>80</td>\n",
       "      <td>512</td>\n",
       "      <td>8000</td>\n",
       "      <td>1</td>\n",
       "      <td>0.378</td>\n",
       "      <td>µm</td>\n",
       "      <td>2.20</td>\n",
       "      <td>...</td>\n",
       "      <td>/data/Sandra/2019/2019_08_13/Experiment29b.lif...</td>\n",
       "      <td>True</td>\n",
       "      <td></td>\n",
       "      <td>f</td>\n",
       "      <td>NMRI</td>\n",
       "      <td>mouse</td>\n",
       "      <td>Calbryte520</td>\n",
       "      <td>7</td>\n",
       "      <td>nan</td>\n",
       "      <td>upright SP5</td>\n",
       "    </tr>\n",
       "  </tbody>\n",
       "</table>\n",
       "<p>14 rows × 34 columns</p>\n",
       "</div>"
      ],
      "text/plain": [
       "                                       path to exp         experiment  \\\n",
       "4    /data/Sandra/2019/2019_08_13/Experiment29.lif   Experiment29.lif   \n",
       "5    /data/Sandra/2019/2019_08_13/Experiment29.lif   Experiment29.lif   \n",
       "6    /data/Sandra/2019/2019_08_13/Experiment29.lif   Experiment29.lif   \n",
       "7    /data/Sandra/2019/2019_08_13/Experiment29.lif   Experiment29.lif   \n",
       "8    /data/Sandra/2019/2019_08_13/Experiment29.lif   Experiment29.lif   \n",
       "9    /data/Sandra/2019/2019_08_13/Experiment29.lif   Experiment29.lif   \n",
       "10   /data/Sandra/2019/2019_08_13/Experiment29.lif   Experiment29.lif   \n",
       "11   /data/Sandra/2019/2019_08_13/Experiment29.lif   Experiment29.lif   \n",
       "12   /data/Sandra/2019/2019_08_13/Experiment29.lif   Experiment29.lif   \n",
       "14   /data/Sandra/2019/2019_08_13/Experiment29.lif   Experiment29.lif   \n",
       "16   /data/Sandra/2019/2019_08_13/Experiment29.lif   Experiment29.lif   \n",
       "17   /data/Sandra/2019/2019_08_13/Experiment29.lif   Experiment29.lif   \n",
       "25  /data/Sandra/2019/2019_08_13/Experiment29b.lif  Experiment29b.lif   \n",
       "28  /data/Sandra/2019/2019_08_13/Experiment29b.lif  Experiment29b.lif   \n",
       "\n",
       "          series  SizeT  SizeX  SizeY  SizeZ  pxSize pxUnit  Frequency  ...  \\\n",
       "4   Series032-33    556    512      8      1   0.413     µm     227.00  ...   \n",
       "5      Series034     40    512    512      1   0.413     µm      31.80  ...   \n",
       "6      Series035   6324    512      2      1   0.413     µm     596.00  ...   \n",
       "7      Series036   7481    512      2      1   0.413     µm     769.00  ...   \n",
       "8      Series037     20    512   8192      1   0.413     µm       2.04  ...   \n",
       "9      Series038     20    512   8192      1   0.413     µm       2.04  ...   \n",
       "10     Series043     10    512   8000      1   0.413     µm       1.10  ...   \n",
       "11  Series044-51     80    512   8000      1   0.413     µm       1.10  ...   \n",
       "12  Series052-60     90    512   8000      1   0.413     µm       1.10  ...   \n",
       "14  Series064-72     90    512   8000      1   0.356     µm       2.20  ...   \n",
       "16     Series079     10    512   8000      1   0.395     µm       2.20  ...   \n",
       "17  Series080-85     60    512   8000      1   0.395     µm       2.20  ...   \n",
       "25  Series029-40    120    512   8000      1   0.487     µm       2.20  ...   \n",
       "28  Series043-50     80    512   8000      1   0.378     µm       2.20  ...   \n",
       "\n",
       "                                     path to add_info add_info done  comments  \\\n",
       "4   /data/Sandra/2019/2019_08_13/Experiment29.lif_...         False       NaN   \n",
       "5   /data/Sandra/2019/2019_08_13/Experiment29.lif_...         False       NaN   \n",
       "6   /data/Sandra/2019/2019_08_13/Experiment29.lif_...          True             \n",
       "7   /data/Sandra/2019/2019_08_13/Experiment29.lif_...          True             \n",
       "8   /data/Sandra/2019/2019_08_13/Experiment29.lif_...          True             \n",
       "9   /data/Sandra/2019/2019_08_13/Experiment29.lif_...          True             \n",
       "10  /data/Sandra/2019/2019_08_13/Experiment29.lif_...          True             \n",
       "11  /data/Sandra/2019/2019_08_13/Experiment29.lif_...          True             \n",
       "12  /data/Sandra/2019/2019_08_13/Experiment29.lif_...          True             \n",
       "14  /data/Sandra/2019/2019_08_13/Experiment29.lif_...          True             \n",
       "16  /data/Sandra/2019/2019_08_13/Experiment29.lif_...          True             \n",
       "17  /data/Sandra/2019/2019_08_13/Experiment29.lif_...          True             \n",
       "25  /data/Sandra/2019/2019_08_13/Experiment29b.lif...          True             \n",
       "28  /data/Sandra/2019/2019_08_13/Experiment29b.lif...          True             \n",
       "\n",
       "    sex  strain species          dye  slice number part of pancreas  \\\n",
       "4   NaN     NaN     NaN          NaN           NaN              NaN   \n",
       "5   NaN     NaN     NaN          NaN           NaN              NaN   \n",
       "6     f    NMRI   mouse  Calbryte520             4              nan   \n",
       "7     f    NMRI   mouse  Calbryte520             4              nan   \n",
       "8     f    NMRI   mouse  Calbryte520             4              nan   \n",
       "9     f    NMRI   mouse  Calbryte520             4              nan   \n",
       "10    f    NMRI   mouse  Calbryte520             4              nan   \n",
       "11    f    NMRI   mouse  Calbryte520             4              nan   \n",
       "12    f    NMRI   mouse  Calbryte520             4              nan   \n",
       "14    f    NMRI   mouse  Calbryte520             4              nan   \n",
       "16    f    NMRI   mouse  Calbryte520             4              nan   \n",
       "17    f    NMRI   mouse  Calbryte520             4              nan   \n",
       "25    f    NMRI   mouse  Calbryte520             7              nan   \n",
       "28    f    NMRI   mouse  Calbryte520             7              nan   \n",
       "\n",
       "     microscope  \n",
       "4           NaN  \n",
       "5           NaN  \n",
       "6   upright SP5  \n",
       "7   upright SP5  \n",
       "8   upright SP5  \n",
       "9   upright SP5  \n",
       "10  upright SP5  \n",
       "11  upright SP5  \n",
       "12  upright SP5  \n",
       "14  upright SP5  \n",
       "16  upright SP5  \n",
       "17  upright SP5  \n",
       "25  upright SP5  \n",
       "28  upright SP5  \n",
       "\n",
       "[14 rows x 34 columns]"
      ]
     },
     "execution_count": 11,
     "metadata": {},
     "output_type": "execute_result"
    }
   ],
   "source": [
    "status[status[\"line scan\"]!=\"none\"]"
   ]
  },
  {
   "cell_type": "code",
   "execution_count": null,
   "metadata": {},
   "outputs": [],
   "source": []
  }
 ],
 "metadata": {
  "kernelspec": {
   "display_name": "Physio",
   "language": "python",
   "name": "physio"
  },
  "language_info": {
   "codemirror_mode": {
    "name": "ipython",
    "version": 3
   },
   "file_extension": ".py",
   "mimetype": "text/x-python",
   "name": "python",
   "nbconvert_exporter": "python",
   "pygments_lexer": "ipython3",
   "version": "3.7.8"
  },
  "toc": {
   "base_numbering": 1,
   "nav_menu": {},
   "number_sections": true,
   "sideBar": true,
   "skip_h1_title": false,
   "title_cell": "Table of Contents",
   "title_sidebar": "Contents",
   "toc_cell": false,
   "toc_position": {},
   "toc_section_display": true,
   "toc_window_display": false
  }
 },
 "nbformat": 4,
 "nbformat_minor": 4
}
