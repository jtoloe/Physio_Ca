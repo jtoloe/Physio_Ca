{
 "cells": [
  {
   "cell_type": "code",
   "execution_count": 1,
   "metadata": {
    "ExecuteTime": {
     "end_time": "2021-11-11T12:48:38.655724Z",
     "start_time": "2021-11-11T12:48:38.643969Z"
    }
   },
   "outputs": [],
   "source": [
    "%load_ext autoreload\n",
    "%autoreload 2"
   ]
  },
  {
   "cell_type": "code",
   "execution_count": 2,
   "metadata": {
    "ExecuteTime": {
     "end_time": "2021-11-11T12:48:43.149585Z",
     "start_time": "2021-11-11T12:48:38.819322Z"
    }
   },
   "outputs": [
    {
     "name": "stderr",
     "output_type": "stream",
     "text": [
      "100%|██████████| 12/12 [00:00<00:00, 29.97it/s]\n"
     ]
    }
   ],
   "source": [
    "from explorer1 import serve_examiner"
   ]
  },
  {
   "cell_type": "code",
   "execution_count": 18,
   "metadata": {
    "ExecuteTime": {
     "end_time": "2021-11-11T13:01:57.940151Z",
     "start_time": "2021-11-11T13:01:57.344080Z"
    }
   },
   "outputs": [
    {
     "name": "stderr",
     "output_type": "stream",
     "text": [
      "100%|██████████| 12/12 [00:00<00:00, 26.01it/s]\n"
     ]
    },
    {
     "data": {
      "text/plain": [
       "'https://ctn.physiologie.meduniwien.ac.at/user/tito/notebooks/Series001_all_examiner.ipynb'"
      ]
     },
     "execution_count": 18,
     "metadata": {},
     "output_type": "execute_result"
    }
   ],
   "source": [
    "serve_examiner(username=\"tito\", rec=\"/data/Ariana/2020_12_04/Series001.nd2\", ser=\"all\")"
   ]
  },
  {
   "cell_type": "code",
   "execution_count": null,
   "metadata": {},
   "outputs": [],
   "source": []
  },
  {
   "cell_type": "code",
   "execution_count": null,
   "metadata": {},
   "outputs": [],
   "source": []
  },
  {
   "cell_type": "code",
   "execution_count": null,
   "metadata": {},
   "outputs": [],
   "source": []
  },
  {
   "cell_type": "code",
   "execution_count": 2,
   "metadata": {
    "ExecuteTime": {
     "end_time": "2020-10-27T12:56:01.331729Z",
     "start_time": "2020-10-27T12:56:00.024503Z"
    }
   },
   "outputs": [],
   "source": [
    "## importing stuff\n",
    "import os\n",
    "import pickle\n",
    "from sys import path as syspath\n",
    "syspath.append(os.path.expanduser(\"~/srdjan_functs/\"))\n",
    "\n",
    "import numpy as np\n",
    "np.corrcoef(*np.random.randn(2,3))\n",
    "\n",
    "import matplotlib.pyplot as plt\n",
    "%config InlineBackend.figure_format = 'retina'\n",
    "%load_ext autoreload\n",
    "%autoreload 2\n",
    "\n",
    "from IPython.display import display\n",
    "import pandas as pd\n",
    "from islets.Recording import Recording, saveMovie, parse_leica\n",
    "from islets.numeric import power_spectrum, rebin\n",
    "from islets.utils import show_movie, saveRois\n",
    "\n",
    "from matplotlib.colors import LogNorm"
   ]
  },
  {
   "cell_type": "code",
   "execution_count": 3,
   "metadata": {
    "ExecuteTime": {
     "end_time": "2020-10-27T12:56:01.349846Z",
     "start_time": "2020-10-27T12:56:01.333602Z"
    }
   },
   "outputs": [],
   "source": [
    "pd.set_option('display.max_columns', 50)"
   ]
  },
  {
   "cell_type": "code",
   "execution_count": 7,
   "metadata": {
    "ExecuteTime": {
     "end_time": "2020-10-22T12:23:38.078189Z",
     "start_time": "2020-10-22T12:23:38.062904Z"
    }
   },
   "outputs": [],
   "source": [
    "# import bioformats as bf\n",
    "# bf.javabridge.start_vm(class_path=bf.JARS)"
   ]
  },
  {
   "cell_type": "code",
   "execution_count": 4,
   "metadata": {
    "ExecuteTime": {
     "end_time": "2020-10-27T12:56:07.028499Z",
     "start_time": "2020-10-27T12:56:07.012184Z"
    }
   },
   "outputs": [],
   "source": [
    "# from islets.Regions1 import load_regions\n",
    "# regions = load_regions(\"/data/Sandra/2020/2020_10_06_Sandra_beta_cells/Dish_1_REC_4_8mM_Glucose_0.4_mM_Ca_10_min_5pcLED_20_Hz.tif_analysis/all/5_rois.pkl\",verbose=True)\n",
    "# regions.examine3(max_rois=100)"
   ]
  },
  {
   "cell_type": "code",
   "execution_count": 5,
   "metadata": {
    "ExecuteTime": {
     "end_time": "2020-10-27T12:56:07.221590Z",
     "start_time": "2020-10-27T12:56:07.205096Z"
    },
    "scrolled": false
   },
   "outputs": [],
   "source": [
    "# pp.PicklePicker(\"/data/Sandra/2019/2019_09_03/Experiment31.lif\",\"Series021-23\")"
   ]
  },
  {
   "cell_type": "code",
   "execution_count": 6,
   "metadata": {
    "ExecuteTime": {
     "end_time": "2020-10-27T12:56:07.344770Z",
     "start_time": "2020-10-27T12:56:07.328660Z"
    }
   },
   "outputs": [],
   "source": [
    "from islets.Recording import import_data"
   ]
  },
  {
   "cell_type": "code",
   "execution_count": 14,
   "metadata": {
    "ExecuteTime": {
     "end_time": "2020-10-27T13:05:09.631525Z",
     "start_time": "2020-10-27T13:05:09.452089Z"
    }
   },
   "outputs": [
    {
     "data": {
      "application/vnd.jupyter.widget-view+json": {
       "model_id": "578ea966eaa0452da7107433fb4de545",
       "version_major": 2,
       "version_minor": 0
      },
      "text/plain": [
       "HBox(children=(HTML(value=''), FloatProgress(value=0.0, max=2.0), HTML(value='')))"
      ]
     },
     "metadata": {},
     "output_type": "display_data"
    },
    {
     "name": "stdout",
     "output_type": "stream",
     "text": [
      "#################### /data/Nastja/2020_10_23/Experiment1a.nd2\n",
      "series= Experiment1a , with subdirs: ['Experiment1a']\n",
      "ser= Experiment1a\n",
      "#################### /data/Nastja/2020_10_23/Experiment1b.nd2\n",
      "series= Experiment1b , with subdirs: ['Experiment1b']\n",
      "ser= Experiment1b\n",
      "\n"
     ]
    }
   ],
   "source": [
    "status = import_data(\"/data/Nastja/\", verbose=2)"
   ]
  },
  {
   "cell_type": "code",
   "execution_count": 15,
   "metadata": {
    "ExecuteTime": {
     "end_time": "2020-10-27T13:05:12.093381Z",
     "start_time": "2020-10-27T13:05:12.071957Z"
    }
   },
   "outputs": [
    {
     "data": {
      "text/plain": [
       "array(['/data/Nastja/2020_10_23/Experiment1a.nd2_analysis/Experiment1a/Experiment1a.mp4',\n",
       "       '/data/Nastja/2020_10_23/Experiment1b.nd2_analysis/Experiment1b/Experiment1b.mp4'],\n",
       "      dtype=object)"
      ]
     },
     "execution_count": 15,
     "metadata": {},
     "output_type": "execute_result"
    }
   ],
   "source": [
    "status[\"path to movie\"].values"
   ]
  },
  {
   "cell_type": "code",
   "execution_count": 16,
   "metadata": {
    "ExecuteTime": {
     "end_time": "2020-10-27T13:05:15.061709Z",
     "start_time": "2020-10-27T13:05:15.043769Z"
    }
   },
   "outputs": [
    {
     "data": {
      "text/plain": [
       "array(['/data/Nastja/2020_10_23/Experiment1a.nd2_analysis/Experiment1a/Experiment1a_protocol.txt',\n",
       "       '/data/Nastja/2020_10_23/Experiment1b.nd2_analysis/Experiment1b/Experiment1b_protocol.txt'],\n",
       "      dtype=object)"
      ]
     },
     "execution_count": 16,
     "metadata": {},
     "output_type": "execute_result"
    }
   ],
   "source": [
    "status[\"path to protocol\"].values"
   ]
  },
  {
   "cell_type": "code",
   "execution_count": 32,
   "metadata": {
    "ExecuteTime": {
     "end_time": "2020-10-21T14:42:47.635796Z",
     "start_time": "2020-10-21T14:42:47.618827Z"
    }
   },
   "outputs": [],
   "source": [
    "# rec = Recording(\"/data/Sandra/2020/2020_07_08/Experiment59a.lif\")\n",
    "\n",
    "# rec.import_series(\"Series002-4\", onlyMeta=True)"
   ]
  },
  {
   "cell_type": "code",
   "execution_count": 17,
   "metadata": {
    "ExecuteTime": {
     "end_time": "2020-10-21T14:32:04.935908Z",
     "start_time": "2020-10-21T14:32:04.919832Z"
    }
   },
   "outputs": [],
   "source": [
    "# status = import_data(\"/data/Sandra/2019/\",\"_08_, lif, 29\", verbose=True)"
   ]
  },
  {
   "cell_type": "code",
   "execution_count": 11,
   "metadata": {
    "ExecuteTime": {
     "end_time": "2020-10-21T14:15:55.703783Z",
     "start_time": "2020-10-21T14:15:55.662959Z"
    }
   },
   "outputs": [
    {
     "data": {
      "text/html": [
       "<div>\n",
       "<style scoped>\n",
       "    .dataframe tbody tr th:only-of-type {\n",
       "        vertical-align: middle;\n",
       "    }\n",
       "\n",
       "    .dataframe tbody tr th {\n",
       "        vertical-align: top;\n",
       "    }\n",
       "\n",
       "    .dataframe thead th {\n",
       "        text-align: right;\n",
       "    }\n",
       "</style>\n",
       "<table border=\"1\" class=\"dataframe\">\n",
       "  <thead>\n",
       "    <tr style=\"text-align: right;\">\n",
       "      <th></th>\n",
       "      <th>path to exp</th>\n",
       "      <th>experiment</th>\n",
       "      <th>series</th>\n",
       "      <th>SizeT</th>\n",
       "      <th>SizeX</th>\n",
       "      <th>SizeY</th>\n",
       "      <th>SizeZ</th>\n",
       "      <th>pxSize</th>\n",
       "      <th>pxUnit</th>\n",
       "      <th>Frequency</th>\n",
       "      <th>...</th>\n",
       "      <th>path to add_info</th>\n",
       "      <th>add_info done</th>\n",
       "      <th>comments</th>\n",
       "      <th>sex</th>\n",
       "      <th>strain</th>\n",
       "      <th>species</th>\n",
       "      <th>dye</th>\n",
       "      <th>slice number</th>\n",
       "      <th>part of pancreas</th>\n",
       "      <th>microscope</th>\n",
       "    </tr>\n",
       "  </thead>\n",
       "  <tbody>\n",
       "    <tr>\n",
       "      <th>4</th>\n",
       "      <td>/data/Sandra/2019/2019_08_13/Experiment29.lif</td>\n",
       "      <td>Experiment29.lif</td>\n",
       "      <td>Series032-33</td>\n",
       "      <td>556</td>\n",
       "      <td>512</td>\n",
       "      <td>8</td>\n",
       "      <td>1</td>\n",
       "      <td>0.413</td>\n",
       "      <td>µm</td>\n",
       "      <td>227.00</td>\n",
       "      <td>...</td>\n",
       "      <td>/data/Sandra/2019/2019_08_13/Experiment29.lif_...</td>\n",
       "      <td>False</td>\n",
       "      <td>NaN</td>\n",
       "      <td>NaN</td>\n",
       "      <td>NaN</td>\n",
       "      <td>NaN</td>\n",
       "      <td>NaN</td>\n",
       "      <td>NaN</td>\n",
       "      <td>NaN</td>\n",
       "      <td>NaN</td>\n",
       "    </tr>\n",
       "    <tr>\n",
       "      <th>5</th>\n",
       "      <td>/data/Sandra/2019/2019_08_13/Experiment29.lif</td>\n",
       "      <td>Experiment29.lif</td>\n",
       "      <td>Series034</td>\n",
       "      <td>40</td>\n",
       "      <td>512</td>\n",
       "      <td>512</td>\n",
       "      <td>1</td>\n",
       "      <td>0.413</td>\n",
       "      <td>µm</td>\n",
       "      <td>31.80</td>\n",
       "      <td>...</td>\n",
       "      <td>/data/Sandra/2019/2019_08_13/Experiment29.lif_...</td>\n",
       "      <td>False</td>\n",
       "      <td>NaN</td>\n",
       "      <td>NaN</td>\n",
       "      <td>NaN</td>\n",
       "      <td>NaN</td>\n",
       "      <td>NaN</td>\n",
       "      <td>NaN</td>\n",
       "      <td>NaN</td>\n",
       "      <td>NaN</td>\n",
       "    </tr>\n",
       "    <tr>\n",
       "      <th>6</th>\n",
       "      <td>/data/Sandra/2019/2019_08_13/Experiment29.lif</td>\n",
       "      <td>Experiment29.lif</td>\n",
       "      <td>Series035</td>\n",
       "      <td>6324</td>\n",
       "      <td>512</td>\n",
       "      <td>2</td>\n",
       "      <td>1</td>\n",
       "      <td>0.413</td>\n",
       "      <td>µm</td>\n",
       "      <td>596.00</td>\n",
       "      <td>...</td>\n",
       "      <td>/data/Sandra/2019/2019_08_13/Experiment29.lif_...</td>\n",
       "      <td>True</td>\n",
       "      <td></td>\n",
       "      <td>f</td>\n",
       "      <td>NMRI</td>\n",
       "      <td>mouse</td>\n",
       "      <td>Calbryte520</td>\n",
       "      <td>4</td>\n",
       "      <td>nan</td>\n",
       "      <td>upright SP5</td>\n",
       "    </tr>\n",
       "    <tr>\n",
       "      <th>7</th>\n",
       "      <td>/data/Sandra/2019/2019_08_13/Experiment29.lif</td>\n",
       "      <td>Experiment29.lif</td>\n",
       "      <td>Series036</td>\n",
       "      <td>7481</td>\n",
       "      <td>512</td>\n",
       "      <td>2</td>\n",
       "      <td>1</td>\n",
       "      <td>0.413</td>\n",
       "      <td>µm</td>\n",
       "      <td>769.00</td>\n",
       "      <td>...</td>\n",
       "      <td>/data/Sandra/2019/2019_08_13/Experiment29.lif_...</td>\n",
       "      <td>True</td>\n",
       "      <td></td>\n",
       "      <td>f</td>\n",
       "      <td>NMRI</td>\n",
       "      <td>mouse</td>\n",
       "      <td>Calbryte520</td>\n",
       "      <td>4</td>\n",
       "      <td>nan</td>\n",
       "      <td>upright SP5</td>\n",
       "    </tr>\n",
       "    <tr>\n",
       "      <th>8</th>\n",
       "      <td>/data/Sandra/2019/2019_08_13/Experiment29.lif</td>\n",
       "      <td>Experiment29.lif</td>\n",
       "      <td>Series037</td>\n",
       "      <td>20</td>\n",
       "      <td>512</td>\n",
       "      <td>8192</td>\n",
       "      <td>1</td>\n",
       "      <td>0.413</td>\n",
       "      <td>µm</td>\n",
       "      <td>2.04</td>\n",
       "      <td>...</td>\n",
       "      <td>/data/Sandra/2019/2019_08_13/Experiment29.lif_...</td>\n",
       "      <td>True</td>\n",
       "      <td></td>\n",
       "      <td>f</td>\n",
       "      <td>NMRI</td>\n",
       "      <td>mouse</td>\n",
       "      <td>Calbryte520</td>\n",
       "      <td>4</td>\n",
       "      <td>nan</td>\n",
       "      <td>upright SP5</td>\n",
       "    </tr>\n",
       "    <tr>\n",
       "      <th>9</th>\n",
       "      <td>/data/Sandra/2019/2019_08_13/Experiment29.lif</td>\n",
       "      <td>Experiment29.lif</td>\n",
       "      <td>Series038</td>\n",
       "      <td>20</td>\n",
       "      <td>512</td>\n",
       "      <td>8192</td>\n",
       "      <td>1</td>\n",
       "      <td>0.413</td>\n",
       "      <td>µm</td>\n",
       "      <td>2.04</td>\n",
       "      <td>...</td>\n",
       "      <td>/data/Sandra/2019/2019_08_13/Experiment29.lif_...</td>\n",
       "      <td>True</td>\n",
       "      <td></td>\n",
       "      <td>f</td>\n",
       "      <td>NMRI</td>\n",
       "      <td>mouse</td>\n",
       "      <td>Calbryte520</td>\n",
       "      <td>4</td>\n",
       "      <td>nan</td>\n",
       "      <td>upright SP5</td>\n",
       "    </tr>\n",
       "    <tr>\n",
       "      <th>10</th>\n",
       "      <td>/data/Sandra/2019/2019_08_13/Experiment29.lif</td>\n",
       "      <td>Experiment29.lif</td>\n",
       "      <td>Series043</td>\n",
       "      <td>10</td>\n",
       "      <td>512</td>\n",
       "      <td>8000</td>\n",
       "      <td>1</td>\n",
       "      <td>0.413</td>\n",
       "      <td>µm</td>\n",
       "      <td>1.10</td>\n",
       "      <td>...</td>\n",
       "      <td>/data/Sandra/2019/2019_08_13/Experiment29.lif_...</td>\n",
       "      <td>True</td>\n",
       "      <td></td>\n",
       "      <td>f</td>\n",
       "      <td>NMRI</td>\n",
       "      <td>mouse</td>\n",
       "      <td>Calbryte520</td>\n",
       "      <td>4</td>\n",
       "      <td>nan</td>\n",
       "      <td>upright SP5</td>\n",
       "    </tr>\n",
       "    <tr>\n",
       "      <th>11</th>\n",
       "      <td>/data/Sandra/2019/2019_08_13/Experiment29.lif</td>\n",
       "      <td>Experiment29.lif</td>\n",
       "      <td>Series044-51</td>\n",
       "      <td>80</td>\n",
       "      <td>512</td>\n",
       "      <td>8000</td>\n",
       "      <td>1</td>\n",
       "      <td>0.413</td>\n",
       "      <td>µm</td>\n",
       "      <td>1.10</td>\n",
       "      <td>...</td>\n",
       "      <td>/data/Sandra/2019/2019_08_13/Experiment29.lif_...</td>\n",
       "      <td>True</td>\n",
       "      <td></td>\n",
       "      <td>f</td>\n",
       "      <td>NMRI</td>\n",
       "      <td>mouse</td>\n",
       "      <td>Calbryte520</td>\n",
       "      <td>4</td>\n",
       "      <td>nan</td>\n",
       "      <td>upright SP5</td>\n",
       "    </tr>\n",
       "    <tr>\n",
       "      <th>12</th>\n",
       "      <td>/data/Sandra/2019/2019_08_13/Experiment29.lif</td>\n",
       "      <td>Experiment29.lif</td>\n",
       "      <td>Series052-60</td>\n",
       "      <td>90</td>\n",
       "      <td>512</td>\n",
       "      <td>8000</td>\n",
       "      <td>1</td>\n",
       "      <td>0.413</td>\n",
       "      <td>µm</td>\n",
       "      <td>1.10</td>\n",
       "      <td>...</td>\n",
       "      <td>/data/Sandra/2019/2019_08_13/Experiment29.lif_...</td>\n",
       "      <td>True</td>\n",
       "      <td></td>\n",
       "      <td>f</td>\n",
       "      <td>NMRI</td>\n",
       "      <td>mouse</td>\n",
       "      <td>Calbryte520</td>\n",
       "      <td>4</td>\n",
       "      <td>nan</td>\n",
       "      <td>upright SP5</td>\n",
       "    </tr>\n",
       "    <tr>\n",
       "      <th>14</th>\n",
       "      <td>/data/Sandra/2019/2019_08_13/Experiment29.lif</td>\n",
       "      <td>Experiment29.lif</td>\n",
       "      <td>Series064-72</td>\n",
       "      <td>90</td>\n",
       "      <td>512</td>\n",
       "      <td>8000</td>\n",
       "      <td>1</td>\n",
       "      <td>0.356</td>\n",
       "      <td>µm</td>\n",
       "      <td>2.20</td>\n",
       "      <td>...</td>\n",
       "      <td>/data/Sandra/2019/2019_08_13/Experiment29.lif_...</td>\n",
       "      <td>True</td>\n",
       "      <td></td>\n",
       "      <td>f</td>\n",
       "      <td>NMRI</td>\n",
       "      <td>mouse</td>\n",
       "      <td>Calbryte520</td>\n",
       "      <td>4</td>\n",
       "      <td>nan</td>\n",
       "      <td>upright SP5</td>\n",
       "    </tr>\n",
       "    <tr>\n",
       "      <th>16</th>\n",
       "      <td>/data/Sandra/2019/2019_08_13/Experiment29.lif</td>\n",
       "      <td>Experiment29.lif</td>\n",
       "      <td>Series079</td>\n",
       "      <td>10</td>\n",
       "      <td>512</td>\n",
       "      <td>8000</td>\n",
       "      <td>1</td>\n",
       "      <td>0.395</td>\n",
       "      <td>µm</td>\n",
       "      <td>2.20</td>\n",
       "      <td>...</td>\n",
       "      <td>/data/Sandra/2019/2019_08_13/Experiment29.lif_...</td>\n",
       "      <td>True</td>\n",
       "      <td></td>\n",
       "      <td>f</td>\n",
       "      <td>NMRI</td>\n",
       "      <td>mouse</td>\n",
       "      <td>Calbryte520</td>\n",
       "      <td>4</td>\n",
       "      <td>nan</td>\n",
       "      <td>upright SP5</td>\n",
       "    </tr>\n",
       "    <tr>\n",
       "      <th>17</th>\n",
       "      <td>/data/Sandra/2019/2019_08_13/Experiment29.lif</td>\n",
       "      <td>Experiment29.lif</td>\n",
       "      <td>Series080-85</td>\n",
       "      <td>60</td>\n",
       "      <td>512</td>\n",
       "      <td>8000</td>\n",
       "      <td>1</td>\n",
       "      <td>0.395</td>\n",
       "      <td>µm</td>\n",
       "      <td>2.20</td>\n",
       "      <td>...</td>\n",
       "      <td>/data/Sandra/2019/2019_08_13/Experiment29.lif_...</td>\n",
       "      <td>True</td>\n",
       "      <td></td>\n",
       "      <td>f</td>\n",
       "      <td>NMRI</td>\n",
       "      <td>mouse</td>\n",
       "      <td>Calbryte520</td>\n",
       "      <td>4</td>\n",
       "      <td>nan</td>\n",
       "      <td>upright SP5</td>\n",
       "    </tr>\n",
       "    <tr>\n",
       "      <th>25</th>\n",
       "      <td>/data/Sandra/2019/2019_08_13/Experiment29b.lif</td>\n",
       "      <td>Experiment29b.lif</td>\n",
       "      <td>Series029-40</td>\n",
       "      <td>120</td>\n",
       "      <td>512</td>\n",
       "      <td>8000</td>\n",
       "      <td>1</td>\n",
       "      <td>0.487</td>\n",
       "      <td>µm</td>\n",
       "      <td>2.20</td>\n",
       "      <td>...</td>\n",
       "      <td>/data/Sandra/2019/2019_08_13/Experiment29b.lif...</td>\n",
       "      <td>True</td>\n",
       "      <td></td>\n",
       "      <td>f</td>\n",
       "      <td>NMRI</td>\n",
       "      <td>mouse</td>\n",
       "      <td>Calbryte520</td>\n",
       "      <td>7</td>\n",
       "      <td>nan</td>\n",
       "      <td>upright SP5</td>\n",
       "    </tr>\n",
       "    <tr>\n",
       "      <th>28</th>\n",
       "      <td>/data/Sandra/2019/2019_08_13/Experiment29b.lif</td>\n",
       "      <td>Experiment29b.lif</td>\n",
       "      <td>Series043-50</td>\n",
       "      <td>80</td>\n",
       "      <td>512</td>\n",
       "      <td>8000</td>\n",
       "      <td>1</td>\n",
       "      <td>0.378</td>\n",
       "      <td>µm</td>\n",
       "      <td>2.20</td>\n",
       "      <td>...</td>\n",
       "      <td>/data/Sandra/2019/2019_08_13/Experiment29b.lif...</td>\n",
       "      <td>True</td>\n",
       "      <td></td>\n",
       "      <td>f</td>\n",
       "      <td>NMRI</td>\n",
       "      <td>mouse</td>\n",
       "      <td>Calbryte520</td>\n",
       "      <td>7</td>\n",
       "      <td>nan</td>\n",
       "      <td>upright SP5</td>\n",
       "    </tr>\n",
       "  </tbody>\n",
       "</table>\n",
       "<p>14 rows × 34 columns</p>\n",
       "</div>"
      ],
      "text/plain": [
       "                                       path to exp         experiment  \\\n",
       "4    /data/Sandra/2019/2019_08_13/Experiment29.lif   Experiment29.lif   \n",
       "5    /data/Sandra/2019/2019_08_13/Experiment29.lif   Experiment29.lif   \n",
       "6    /data/Sandra/2019/2019_08_13/Experiment29.lif   Experiment29.lif   \n",
       "7    /data/Sandra/2019/2019_08_13/Experiment29.lif   Experiment29.lif   \n",
       "8    /data/Sandra/2019/2019_08_13/Experiment29.lif   Experiment29.lif   \n",
       "9    /data/Sandra/2019/2019_08_13/Experiment29.lif   Experiment29.lif   \n",
       "10   /data/Sandra/2019/2019_08_13/Experiment29.lif   Experiment29.lif   \n",
       "11   /data/Sandra/2019/2019_08_13/Experiment29.lif   Experiment29.lif   \n",
       "12   /data/Sandra/2019/2019_08_13/Experiment29.lif   Experiment29.lif   \n",
       "14   /data/Sandra/2019/2019_08_13/Experiment29.lif   Experiment29.lif   \n",
       "16   /data/Sandra/2019/2019_08_13/Experiment29.lif   Experiment29.lif   \n",
       "17   /data/Sandra/2019/2019_08_13/Experiment29.lif   Experiment29.lif   \n",
       "25  /data/Sandra/2019/2019_08_13/Experiment29b.lif  Experiment29b.lif   \n",
       "28  /data/Sandra/2019/2019_08_13/Experiment29b.lif  Experiment29b.lif   \n",
       "\n",
       "          series  SizeT  SizeX  SizeY  SizeZ  pxSize pxUnit  Frequency  ...  \\\n",
       "4   Series032-33    556    512      8      1   0.413     µm     227.00  ...   \n",
       "5      Series034     40    512    512      1   0.413     µm      31.80  ...   \n",
       "6      Series035   6324    512      2      1   0.413     µm     596.00  ...   \n",
       "7      Series036   7481    512      2      1   0.413     µm     769.00  ...   \n",
       "8      Series037     20    512   8192      1   0.413     µm       2.04  ...   \n",
       "9      Series038     20    512   8192      1   0.413     µm       2.04  ...   \n",
       "10     Series043     10    512   8000      1   0.413     µm       1.10  ...   \n",
       "11  Series044-51     80    512   8000      1   0.413     µm       1.10  ...   \n",
       "12  Series052-60     90    512   8000      1   0.413     µm       1.10  ...   \n",
       "14  Series064-72     90    512   8000      1   0.356     µm       2.20  ...   \n",
       "16     Series079     10    512   8000      1   0.395     µm       2.20  ...   \n",
       "17  Series080-85     60    512   8000      1   0.395     µm       2.20  ...   \n",
       "25  Series029-40    120    512   8000      1   0.487     µm       2.20  ...   \n",
       "28  Series043-50     80    512   8000      1   0.378     µm       2.20  ...   \n",
       "\n",
       "                                     path to add_info add_info done  comments  \\\n",
       "4   /data/Sandra/2019/2019_08_13/Experiment29.lif_...         False       NaN   \n",
       "5   /data/Sandra/2019/2019_08_13/Experiment29.lif_...         False       NaN   \n",
       "6   /data/Sandra/2019/2019_08_13/Experiment29.lif_...          True             \n",
       "7   /data/Sandra/2019/2019_08_13/Experiment29.lif_...          True             \n",
       "8   /data/Sandra/2019/2019_08_13/Experiment29.lif_...          True             \n",
       "9   /data/Sandra/2019/2019_08_13/Experiment29.lif_...          True             \n",
       "10  /data/Sandra/2019/2019_08_13/Experiment29.lif_...          True             \n",
       "11  /data/Sandra/2019/2019_08_13/Experiment29.lif_...          True             \n",
       "12  /data/Sandra/2019/2019_08_13/Experiment29.lif_...          True             \n",
       "14  /data/Sandra/2019/2019_08_13/Experiment29.lif_...          True             \n",
       "16  /data/Sandra/2019/2019_08_13/Experiment29.lif_...          True             \n",
       "17  /data/Sandra/2019/2019_08_13/Experiment29.lif_...          True             \n",
       "25  /data/Sandra/2019/2019_08_13/Experiment29b.lif...          True             \n",
       "28  /data/Sandra/2019/2019_08_13/Experiment29b.lif...          True             \n",
       "\n",
       "    sex  strain species          dye  slice number part of pancreas  \\\n",
       "4   NaN     NaN     NaN          NaN           NaN              NaN   \n",
       "5   NaN     NaN     NaN          NaN           NaN              NaN   \n",
       "6     f    NMRI   mouse  Calbryte520             4              nan   \n",
       "7     f    NMRI   mouse  Calbryte520             4              nan   \n",
       "8     f    NMRI   mouse  Calbryte520             4              nan   \n",
       "9     f    NMRI   mouse  Calbryte520             4              nan   \n",
       "10    f    NMRI   mouse  Calbryte520             4              nan   \n",
       "11    f    NMRI   mouse  Calbryte520             4              nan   \n",
       "12    f    NMRI   mouse  Calbryte520             4              nan   \n",
       "14    f    NMRI   mouse  Calbryte520             4              nan   \n",
       "16    f    NMRI   mouse  Calbryte520             4              nan   \n",
       "17    f    NMRI   mouse  Calbryte520             4              nan   \n",
       "25    f    NMRI   mouse  Calbryte520             7              nan   \n",
       "28    f    NMRI   mouse  Calbryte520             7              nan   \n",
       "\n",
       "     microscope  \n",
       "4           NaN  \n",
       "5           NaN  \n",
       "6   upright SP5  \n",
       "7   upright SP5  \n",
       "8   upright SP5  \n",
       "9   upright SP5  \n",
       "10  upright SP5  \n",
       "11  upright SP5  \n",
       "12  upright SP5  \n",
       "14  upright SP5  \n",
       "16  upright SP5  \n",
       "17  upright SP5  \n",
       "25  upright SP5  \n",
       "28  upright SP5  \n",
       "\n",
       "[14 rows x 34 columns]"
      ]
     },
     "execution_count": 11,
     "metadata": {},
     "output_type": "execute_result"
    }
   ],
   "source": [
    "status[status[\"line scan\"]!=\"none\"]"
   ]
  },
  {
   "cell_type": "code",
   "execution_count": null,
   "metadata": {},
   "outputs": [],
   "source": []
  }
 ],
 "metadata": {
  "kernelspec": {
   "display_name": "Physio",
   "language": "python",
   "name": "physio"
  },
  "toc": {
   "base_numbering": 1,
   "nav_menu": {},
   "number_sections": true,
   "sideBar": true,
   "skip_h1_title": false,
   "title_cell": "Table of Contents",
   "title_sidebar": "Contents",
   "toc_cell": false,
   "toc_position": {},
   "toc_section_display": true,
   "toc_window_display": false
  },
  "varInspector": {
   "cols": {
    "lenName": 16,
    "lenType": 16,
    "lenVar": 40
   },
   "kernels_config": {
    "python": {
     "delete_cmd_postfix": "",
     "delete_cmd_prefix": "del ",
     "library": "var_list.py",
     "varRefreshCmd": "print(var_dic_list())"
    },
    "r": {
     "delete_cmd_postfix": ") ",
     "delete_cmd_prefix": "rm(",
     "library": "var_list.r",
     "varRefreshCmd": "cat(var_dic_list()) "
    }
   },
   "types_to_exclude": [
    "module",
    "function",
    "builtin_function_or_method",
    "instance",
    "_Feature"
   ],
   "window_display": false
  }
 },
 "nbformat": 4,
 "nbformat_minor": 4
}
