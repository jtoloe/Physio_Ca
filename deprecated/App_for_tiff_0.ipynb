{
 "cells": [
  {
   "cell_type": "code",
   "execution_count": 1,
   "metadata": {
    "ExecuteTime": {
     "end_time": "2020-03-17T21:31:07.884463Z",
     "start_time": "2020-03-17T21:31:03.747283Z"
    },
    "code_folding": []
   },
   "outputs": [],
   "source": [
    "%%capture\n",
    "import warnings\n",
    "warnings.filterwarnings('ignore')\n",
    "from IPython.core.display import HTML\n",
    "from jupyter_plotly_dash import JupyterDash\n",
    "from dash.dependencies import Input, Output, State\n",
    "import dash_core_components as dcc\n",
    "import dash_html_components as html\n",
    "import plotly.graph_objects as go\n",
    "import numpy as np\n",
    "import os\n",
    "from sys import path as syspath\n",
    "syspath.append(os.path.expanduser(\"~/srdjan_functs/\"))\n",
    "from sys import exc_info\n",
    "from caiman import movie as cmovie\n",
    "from caiman import load as cload\n",
    "import json"
   ]
  },
  {
   "cell_type": "code",
   "execution_count": 2,
   "metadata": {
    "ExecuteTime": {
     "end_time": "2020-03-17T15:28:11.498139Z",
     "start_time": "2020-03-17T15:28:11.491450Z"
    }
   },
   "outputs": [
    {
     "data": {
      "text/html": [
       "<style>.container { width:100% !important; }</style>"
      ],
      "text/plain": [
       "<IPython.core.display.HTML object>"
      ]
     },
     "metadata": {},
     "output_type": "display_data"
    }
   ],
   "source": [
    "from IPython.core.display import display, HTML\n",
    "display(HTML(\"<style>.container { width:100% !important; }</style>\"))"
   ]
  },
  {
   "cell_type": "code",
   "execution_count": 2,
   "metadata": {
    "ExecuteTime": {
     "end_time": "2020-03-17T21:31:10.006266Z",
     "start_time": "2020-03-17T21:31:09.813133Z"
    },
    "code_folding": []
   },
   "outputs": [],
   "source": [
    "%load_ext autoreload\n",
    "%autoreload 1\n",
    "%aimport Regions, physio_def_1, numeric, Automatic\n",
    "\n",
    "from physio_def_1 import *\n",
    "from Regions import Regions\n",
    "from numeric import *\n",
    "from Automatic import *"
   ]
  },
  {
   "cell_type": "code",
   "execution_count": 3,
   "metadata": {
    "ExecuteTime": {
     "end_time": "2020-03-17T21:31:10.120766Z",
     "start_time": "2020-03-17T21:31:10.117851Z"
    },
    "code_folding": []
   },
   "outputs": [],
   "source": [
    "os.chdir(os.path.expanduser(\"~\"))"
   ]
  },
  {
   "cell_type": "code",
   "execution_count": 54,
   "metadata": {
    "ExecuteTime": {
     "end_time": "2020-03-17T21:43:06.917765Z",
     "start_time": "2020-03-17T21:43:06.914244Z"
    },
    "code_folding": []
   },
   "outputs": [],
   "source": [
    "# exampleNpzFile = \"local_data/testdir/Experiment38a_7_Series016.npz\"\n",
    "exampleNpzFile = \"local_data/Sandra/2020_03_06_Cosmin/Untitled_0_TEA10mM_20Hz_25ms_exposure_(30_sec)/TEA10mM_20Hz_25ms_exposure_(30_sec).tif\"\n",
    "# exampleNpzFile = \"local_data/MB/Marjan_SOC2/20160218/Experiment_10_Series022.npz\"\n",
    "# exampleNpzFile = \"local_data/Sandra/2019_10_16/Experiment39a/Experiment39a_13_Series024.npz\"\n",
    "# exampleNpzFile = \"local_data/Sandra/2019_10_16/Experiment39a/Experiment39a_8_Series019.npz\""
   ]
  },
  {
   "cell_type": "code",
   "execution_count": 55,
   "metadata": {
    "ExecuteTime": {
     "end_time": "2020-03-17T21:43:06.973610Z",
     "start_time": "2020-03-17T21:43:06.921303Z"
    }
   },
   "outputs": [],
   "source": [
    "outputStyle = {\n",
    "    \"color\":\"blue\",\n",
    "    \"font-family\":\"Courier New\",\n",
    "    \"font-size\":\"80%\",\n",
    "    \"max-width\": \"700px\",\n",
    "    }\n",
    "infoStyle = {\n",
    "    \"font-size\":\"70%\",\n",
    "    \"font-family\":\"Arial\",\n",
    "    # \"background-color\":\"lightcyan\",\n",
    "    \"color\":\"grey\",\n",
    "    \"max-width\": \"700px\",\n",
    "    }\n",
    "bodyStyle = {\n",
    "    \"font-family\":\"Arial\",\n",
    "    \"max-width\": \"700px\",\n",
    "    }"
   ]
  },
  {
   "cell_type": "code",
   "execution_count": 90,
   "metadata": {
    "ExecuteTime": {
     "end_time": "2020-03-17T21:52:22.000202Z",
     "start_time": "2020-03-17T21:52:21.989282Z"
    }
   },
   "outputs": [],
   "source": [
    "def saveRois(regions,outDir,filename=\"\",movie=None,cols=[\"trace\"],):\n",
    "    feedback = []\n",
    "    try:\n",
    "        from copy import deepcopy\n",
    "        from datetime import date\n",
    "        import pickle\n",
    "        import pandas as pd\n",
    "        from os.path import isdir\n",
    "        from os import makedirs\n",
    "        regions.sortFromCenter()\n",
    "        if movie is not None:\n",
    "            regions.update(movie)\n",
    "        filename = filename.replace(\" \",\"_\")\n",
    "        today = date.today()\n",
    "        if len(filename):\n",
    "            filename = \"_\".join([today.strftime(\"%Y_%m_%d\"),filename])\n",
    "        else:\n",
    "            filename = today.strftime(\"%Y_%m_%d\")\n",
    "        if not isdir(outDir):\n",
    "            makedirs(outDir)\n",
    "            feedback += f\"Output {outdir} directory created.\"\n",
    "\n",
    "        traces = pd.DataFrame(np.vstack(regions.df.trace).T)\n",
    "        traces[\"time\"] = traces.index/regions.movie.fr\n",
    "        traces = traces[[\"time\"]+list(traces.columns[:-1])]\n",
    "        tracefile = f\"{outDir}/{filename}_trace.csv\"\n",
    "        traces.to_csv(tracefile, index=False)\n",
    "\n",
    "        feedback += [f\"Traces saved under {tracefile}.\",html.Br()]\n",
    "\n",
    "        saving = ['statImages', 'mode', 'image', 'filterSize', 'df']\n",
    "        allAttrs = list(regions.__dict__.keys())\n",
    "        subRegions = deepcopy(regions)\n",
    "        for k in allAttrs:\n",
    "            if k not in saving:\n",
    "                del subRegions.__dict__[k]\n",
    "        for k in regions.df.columns:\n",
    "            if k not in [\"peak\",\"pixels\"]:\n",
    "                del subRegions.df[k]\n",
    "        roifile = f\"{outDir}/{filename}_rois.pkl\"\n",
    "        with open(roifile,\"wb\") as f:\n",
    "            pickle.dump(subRegions,f)\n",
    "        feedback += [f\"ROI info saved under {roifile}.\"]\n",
    "    except:\n",
    "        from sys import exc_info\n",
    "        feedback += [\"ERROR: \"+ exc_info().__repr__()]\n",
    "    return feedback"
   ]
  },
  {
   "cell_type": "code",
   "execution_count": 91,
   "metadata": {
    "ExecuteTime": {
     "end_time": "2020-03-17T21:52:22.136839Z",
     "start_time": "2020-03-17T21:52:22.001525Z"
    }
   },
   "outputs": [],
   "source": [
    "baseFig = getFigure(w=200,h=200)"
   ]
  },
  {
   "cell_type": "code",
   "execution_count": 92,
   "metadata": {
    "ExecuteTime": {
     "end_time": "2020-03-17T21:52:22.155119Z",
     "start_time": "2020-03-17T21:52:22.138330Z"
    },
    "code_folding": []
   },
   "outputs": [],
   "source": [
    "## global vars\n",
    "test = False#\"srdjan\" in os.getcwd()\n",
    "# movieFilename = None\n",
    "# metadata = None\n",
    "# movie = None\n",
    "regions = None\n",
    "narrowHover = False#bool(test)\n",
    "mode = \"diff_std\"\n",
    "debug = False"
   ]
  },
  {
   "cell_type": "code",
   "execution_count": 93,
   "metadata": {
    "ExecuteTime": {
     "end_time": "2020-03-17T21:52:22.301497Z",
     "start_time": "2020-03-17T21:52:22.156542Z"
    },
    "code_folding": [
     111
    ]
   },
   "outputs": [],
   "source": [
    "app = JupyterDash(__name__,\n",
    "                  width=1400,\n",
    "#                   height=1400,\n",
    "                 )\n",
    "APP_LAYOUT = [\n",
    "    html.Div(\"Enter path to tiff file.\",style=bodyStyle),\n",
    "    html.Div(dcc.Input(id=\"filename_input\",\n",
    "            type=\"text\",\n",
    "            placeholder=exampleNpzFile,\n",
    "            debounce=True,\n",
    "            size=40,\n",
    "            value=exampleNpzFile if test else \"\",\n",
    "        ),style={**bodyStyle, \"display\":\"inline-block\"}),\n",
    "    html.Div(id=\"filename_intermed\",children=\"\",style={**bodyStyle,\"display\":\"inline-block\"}),\n",
    "    \n",
    "    html.Div(dcc.Input(id=\"filename_hidden_input\",\n",
    "            type=\"text\",\n",
    "            debounce=False,\n",
    "            size=1,\n",
    "            value=\"\",\n",
    "        ),style={\"display\":\"inline-block\"}),\n",
    "    html.Div(id=\"filename_output\",children=\"Waiting for input\",style={**bodyStyle,}),\n",
    "    html.Video(id=\"video\",\n",
    "               src='local_data/Sandra/2020_03_06_Cosmin/Untitled_0_TEA10mM_20Hz_25ms_exposure_(30_sec)/TEA10mM_20Hz_25ms_exposure_(30_sec).mp4',               \n",
    "               width=10,\n",
    "               height=10,\n",
    "              ),\n",
    "    html.Div(dcc.Input(id=\"mode_image_data\",\n",
    "            type=\"text\",\n",
    "            debounce=False,\n",
    "            size=10 if test else 1, \n",
    "            value=\"\",\n",
    "        ),\n",
    "#              style={\"display\":\"inline-block\"}\n",
    "            ),\n",
    "    html.Div([\n",
    "        html.Div(\"Use the slider below to set the threshold that eliminates the background.\", style=bodyStyle),\n",
    "        dcc.Graph(id='mode_image_histogram',figure=baseFig,config={\"displayModeBar\": False}),\n",
    "        html.Div(dcc.Slider(id=\"mode_image_threshold_slider\",\n",
    "                            min=-2.1,max=0.1,value=-1,\n",
    "                            marks = dict(zip([-2,-1,0],[0.01,.1,1])),\n",
    "                            step=.01\n",
    "                           ), style={\"width\":\"400px\"}),\n",
    "        html.Div(id=\"slider_feedback\",children=\"Waiting for input\",style={**bodyStyle,}),\n",
    "    ],style={\"display\":\"inline-block\"}),\n",
    "    \n",
    "    html.Div([\n",
    "        dcc.Graph(id='stat_figure',figure=baseFig,config={\"displayModeBar\": False}),\n",
    "    ],style={\"display\":\"inline-block\"}),\n",
    "    \n",
    "    html.Br(),\n",
    "    html.Div(children=[\"Spatial filtering \"],style={**bodyStyle,'display': 'inline-block'}),\n",
    "    dcc.Input(id=\"gSig_filt_input\",\n",
    "        type=\"text\",\n",
    "        debounce=True,\n",
    "        size = 5,\n",
    "        value=\"\",\n",
    "        placeholder=\"e.g. 15\",\n",
    "        style={'display': 'inline-block'}),    \n",
    "\n",
    "    html.Div(html.Abbr(\n",
    "        children=\"[hover mouse for more info]\",\n",
    "        title=\"\"\"For the proper analysis, you need to set the size of the spatial filter. Its value should be of the order of the  half of the typical cell dimension (in pixels!). \"\"\"#In many of our recording, pixel size is around 2 µm. If we consider a typical cell of 10 µm, filter should be around 10/2/2 = 2.5. It needs to be an integer, so reasonable numbers to put would be 2 or 3, perhaps even 4. You can change it later.\n",
    "        ),style={**infoStyle,'display': 'inline-block'}),\n",
    "\n",
    "    html.Div(id=\"roi_feedback\", children=\"\",style=outputStyle),\n",
    "    \n",
    "#     dcc.Graph(id='stat_images',figure=baseFig,),\n",
    "    html.Div([\n",
    "        \"Show downsampled to\",\n",
    "        dcc.Input(id=\"show_freq_input\",\n",
    "            type=\"text\",\n",
    "            debounce=False,\n",
    "            size = 3,\n",
    "            value='5'),\n",
    "        \"Hz\"\n",
    "        ], style={**bodyStyle,\"display\":\"inline-block\", \"width\":\"49%\"}, ),\n",
    "    \n",
    "    html.Br(),\n",
    "    html.Div(dcc.Graph(id='roi_selector',    figure=baseFig), style={\"display\":\"inline-block\"}),\n",
    "    html.Div(dcc.Graph(id='show_hover_trace',figure=baseFig), style={\"display\":\"inline-block\"}),\n",
    "    html.Br(),\n",
    "    html.Div(children=\n",
    "        html.Pre(\n",
    "        id=\"hover_out\",\n",
    "        children=\"hover\",\n",
    "        style={\n",
    "            \"vertical-align\":\"top\",\n",
    "            \"width\"    : \"200px\",\n",
    "            \"height\"   : \"100px\" if debug else \"0px\",\n",
    "            'border'   : 'thin lightgrey solid',\n",
    "            'overflowY': 'scroll',\n",
    "            \"display\"  : \"inline-box\"\n",
    "              }),\n",
    "             style={\"display\":\"inline-block\"}),\n",
    "    html.Div(children=\n",
    "        html.Pre(\n",
    "        id=\"selected_out\",\n",
    "        children=\"selected\",\n",
    "        style={\n",
    "            \"vertical-align\":\"top\",\n",
    "            \"width\"    : \"200px\",\n",
    "            \"height\"   : \"100px\" if debug else \"0px\",\n",
    "            'border'   : 'thin lightgrey solid',\n",
    "            'overflowY': 'scroll',\n",
    "            \"display\"  : \"inline-box\"\n",
    "              }),\n",
    "             style={\"display\":\"inline-block\"}),\n",
    "    html.Div(children=\n",
    "        html.Pre(\n",
    "        id=\"hover_plot_out\",\n",
    "        children=\"hover plot out\",\n",
    "        style={\n",
    "            \"vertical-align\":\"top\",\n",
    "            \"width\"    : \"200px\",\n",
    "            \"height\"   : \"100px\" if debug else \"0px\",\n",
    "            'border'   : 'thin lightgrey solid',\n",
    "            'overflowY': 'scroll',\n",
    "            \"display\"  : \"inline-box\"\n",
    "              }),\n",
    "             style={\"display\":\"inline-block\"}),\n",
    "    html.Div(children=\n",
    "        html.Pre(\n",
    "        id=\"spare_out\",\n",
    "        children=\"spare\",\n",
    "        style={\n",
    "            \"vertical-align\":\"top\",\n",
    "            \"width\"    : \"200px\",\n",
    "            \"height\"   : \"100px\" if debug else \"0px\",\n",
    "            'border'   : 'thin lightgrey solid',\n",
    "            'overflowY': 'scroll',\n",
    "            \"display\"  : \"inline-box\"\n",
    "              }),\n",
    "             style={\"display\":\"inline-block\"}),\n",
    "    \n",
    "    html.Div([\n",
    "       \"Trace ROIs:\",\n",
    "        dcc.Input(id=\"selected_indices\",\n",
    "            type=\"text\",\n",
    "            debounce=True,\n",
    "            size=60,\n",
    "            value=\"\",\n",
    "         ), \n",
    "    ],style={**bodyStyle,\"display\":\"inline-box\"}),\n",
    "    \n",
    "#     html.Div([\n",
    "#         html.Div(\"Show with offsets\", style={**bodyStyle,\"display\":\"inline-block\"}),\n",
    "#         html.Div(dcc.Input(id=\"offset_input\",\n",
    "#             type=\"text\",\n",
    "#             debounce=False,\n",
    "#             size=3,\n",
    "#             value='1'), style={**bodyStyle,\"display\":\"inline-block\"}),\n",
    "#         html.Div(\"(only when showing filtered)\", style={**infoStyle,\"display\":\"inline-block\"}),\n",
    "#     ]),\n",
    "#     html.Br(),\n",
    "    \n",
    "    html.Div(dcc.Graph(id='show_selected_traces',figure=getFigure(w=700))),\n",
    "    \n",
    "    html.H3(\"Save all\"),\n",
    "    html.Div([\n",
    "        \"When you are happy with your analysis, you can save it. By default, the analysis is saved as the current date (e.g. 2020_02_18) in the directory\",\n",
    "        html.Div(\"\",style=outputStyle,id=\"analysis_folder\"),\n",
    "        \"You can modify the filename by adding to it some other identifier(s) by entering them in the input box below. I suggest your username.\",\n",
    "        \"When you are ready, press save.\"\n",
    "    ]),\n",
    "    dcc.Input(id=\"save_file_append\",\n",
    "        type=\"text\",\n",
    "        debounce=False,\n",
    "        size = 30,\n",
    "        placeholder=\"e.g. username\",\n",
    "        value='',style={\"display\":\"inline-box\"}),\n",
    "    html.Button('Save', id='save_button', style={\"display\":\"inline-box\"},\n",
    "                n_clicks=0\n",
    "               ),\n",
    "    html.Div(id=\"save_feedback\",\n",
    "             style={\"display\":\"inline-box\",**outputStyle}\n",
    "            )\n",
    "    ]"
   ]
  },
  {
   "cell_type": "code",
   "execution_count": 94,
   "metadata": {
    "ExecuteTime": {
     "end_time": "2020-03-17T21:52:22.306262Z",
     "start_time": "2020-03-17T21:52:22.302759Z"
    },
    "code_folding": []
   },
   "outputs": [],
   "source": [
    "@app.callback(\n",
    "    [Output(\"filename_intermed\"     , \"children\" ),\n",
    "     Output(\"filename_hidden_input\" , \"value\"    ),\n",
    "    ],\n",
    "    [Input(\"filename_input\", \"value\")],\n",
    "    )\n",
    "def filename_IO(input_text):\n",
    "    if len(input_text):\n",
    "        return \"Loading...\",input_text"
   ]
  },
  {
   "cell_type": "code",
   "execution_count": 95,
   "metadata": {
    "ExecuteTime": {
     "end_time": "2020-03-17T21:52:22.349997Z",
     "start_time": "2020-03-17T21:52:22.307358Z"
    },
    "code_folding": []
   },
   "outputs": [],
   "source": [
    "@app.callback(\n",
    "    [Output(\"filename_output\", \"children\"),\n",
    "     Output(\"video\",           \"src\"),\n",
    "     Output(\"mode_image_data\", \"value\"),\n",
    "#      Output(\"stat_figure\", \"figure\"),\n",
    "    ],\n",
    "    [Input(\"filename_hidden_input\", \"value\")],\n",
    "    )\n",
    "def filename_IO1(input_text):\n",
    "    if len(input_text):\n",
    "        global regions\n",
    "        try:\n",
    "            movie = cload(input_text)\n",
    "            movieFilename = input_text\n",
    "            out = f\"{input_text} loaded successfully. \"\n",
    "        except:\n",
    "            out = \"Could not load %s. \"%input_text\n",
    "        try:\n",
    "            freq = float(movieFilename.split(\"Hz\")[-2].split(\"_\")[-1])\n",
    "            out += \"Frequency set to %g Hz. \"%freq\n",
    "        except:\n",
    "            freq = 1\n",
    "            out += \"Could not recognize frequency. Setting to %g Hz. \"%freq\n",
    "        movie.fr = freq\n",
    "        try:\n",
    "            if regions is not None: assert False\n",
    "#             statImages = getStatImages(movie)\n",
    "#             regions = Regions(statImages, mode=mode, diag=np.mean(statImages[\"mean\"].shape)<400)\n",
    "            regions = Regions(movie, mode=mode,full=False)\n",
    "            regions.movie = movie\n",
    "            regions.movieFilename = movieFilename\n",
    "            out += \"Stat images created. \"\n",
    "        except: pass\n",
    "        \n",
    "        try:\n",
    "            im = regions.statImages[regions.mode]\n",
    "            x = im.flatten()\n",
    "            x[x<=0] = x[x>0].min()\n",
    "            x = np.log10(x)\n",
    "            h,be = np.histogram(x,100)\n",
    "            x = (be[:-1]+be[1:])/2\n",
    "            histData = json.dumps({\"x\":list(x),\"y\":list(h.astype(\"float\"))})\n",
    "            ff = go.Figure()\n",
    "            ff.add_heatmap(z=im, hoverinfo='skip',showscale=False,colorscale=plxcolors.sequential.Jet)\n",
    "            ff.update_layout({\"width\":500})\n",
    "            ff.show(config={\"displayModeBar\": False})\n",
    "            if debug: out += \"Hist passed. \"\n",
    "        except:\n",
    "            if debug: out += \"Hist data could not be made. \"+exc_info().__repr__()\n",
    "            histData = json.dumps({\"x\":[],\"y\":[]})\n",
    "        return out, \".\".join(movieFilename.split(\".\")[:-1]+[\"mp4\"]), histData"
   ]
  },
  {
   "cell_type": "code",
   "execution_count": 96,
   "metadata": {
    "ExecuteTime": {
     "end_time": "2020-03-17T21:52:22.385857Z",
     "start_time": "2020-03-17T21:52:22.351125Z"
    },
    "code_folding": []
   },
   "outputs": [],
   "source": [
    "@app.callback(\n",
    "    [Output(\"mode_image_histogram\", \"figure\"),\n",
    "     Output(\"stat_figure\", \"figure\"),\n",
    "     Output(\"slider_feedback\", \"children\"),\n",
    "    ],\n",
    "    [Input(\"mode_image_data\", \"value\"),\n",
    "     Input(\"mode_image_threshold_slider\", \"value\"),],\n",
    "    )\n",
    "def image_hist(input_text, thval):\n",
    "    try:\n",
    "        if len(input_text):\n",
    "            data = eval(input_text)\n",
    "            x = 10**np.array(data[\"x\"])\n",
    "            y = np.array(data[\"y\"])\n",
    "            thval = max(10**thval,x[np.where(np.cumsum(y)/y.sum()>.010)[0][0]])\n",
    "            histFig = go.Figure(data=[\n",
    "#                 go.Trace(x=x,y=y, hoverinfo=\"skip\", showlegend=False, fill=\"tozeroy\"),\n",
    "                go.Bar(x=x,y=y, hoverinfo=\"skip\", showlegend=False, marker={\"color\":np.log10(x),\"colorscale\":plxcolors.sequential.Jet},width=x/len(x)*3),\n",
    "                go.Trace(x=[thval,thval],y=[-y.max()*2,y.max()*2], hoverinfo=\"skip\", showlegend=False,marker={\"color\":\"black\"}),\n",
    "                                     ])\n",
    "            im = regions.statImages[regions.mode].copy()\n",
    "            im[im<=0] = im[im>0].min()\n",
    "            im[im<thval] = im.min()\n",
    "            im = np.log10(im)\n",
    "            modeFig = go.Figure()\n",
    "            modeFig.add_heatmap(z=im, hoverinfo='skip',showscale=False,colorscale=plxcolors.sequential.Jet)\n",
    "        else:\n",
    "            histFig = baseFig()\n",
    "            modeFig = baseFig() \n",
    "        histFig.update_layout(dict(\n",
    "            width = 500,\n",
    "            height = 380,\n",
    "            xaxis_type=\"log\",\n",
    "            margin = dict(l=10, r=10, t=50, b=10),\n",
    "            yaxis = {\"range\":[0,y.max()*1.07]}\n",
    "\n",
    "        ))\n",
    "        modeFig.update_layout({\n",
    "            \"width\":400,\n",
    "            \"height\":440,\n",
    "            \"margin\":dict(l=10, r=10, t=50, b=10),})\n",
    "        \n",
    "\n",
    "        return histFig, modeFig, \"th=%g\"%thval\n",
    "    except:\n",
    "        return baseFig(), baseFig(), exc_info().__repr__()"
   ]
  },
  {
   "cell_type": "code",
   "execution_count": 97,
   "metadata": {
    "ExecuteTime": {
     "end_time": "2020-03-17T21:52:22.425249Z",
     "start_time": "2020-03-17T21:52:22.386958Z"
    },
    "code_folding": []
   },
   "outputs": [],
   "source": [
    "@app.callback(\n",
    "    [Output(\"roi_feedback\", \"children\"),\n",
    "#      Output(\"stat_images\", \"figure\"),\n",
    "     Output(\"roi_selector\", \"figure\"),\n",
    "#      Output(\"roi_choice\",\"value\"),\n",
    "    ],\n",
    "    [Input(\"gSig_filt_input\", \"value\")],\n",
    "    [State(\"slider_feedback\", \"children\"),]\n",
    ")\n",
    "def calcRois(val,thtxt):\n",
    "    if val == \"\":\n",
    "        return (\"\",baseFig)\n",
    "    try:\n",
    "        global movie,regions\n",
    "        fltrSize = eval(val)\n",
    "        if regions is not None:\n",
    "            if hasattr(regions, \"fltrSize\"):\n",
    "                if regions.fltrSize==fltrSize:\n",
    "                    return (\"\",baseFig())\n",
    "        if type(fltrSize) == int:\n",
    "            fltrSize = [fltrSize]\n",
    "        cell_half_width = fltrSize[0]\n",
    "        th = float(thtxt.split(\"=\")[-1])\n",
    "#         regions = Regions(regions.statImages,fltrSize, diag=True, mode=mode, )\n",
    "        im = regions.statImages[regions.mode]\n",
    "        regions.constructRois(im,img_th=th, diag=np.mean(im.shape)<400, gSig_filt=fltrSize)\n",
    "        regions.purge_lones((fltrSize[0]/4)**2)\n",
    "        regions.sortFromCenter()\n",
    "        regions.calcTraces()\n",
    "#         regions = createRegions(regions.statImages, diag=True, gSig_filt=fltrSize, drop_weak=False, mode=mode, )\n",
    "        feedback = [f\"Size of the spatial filter set to {fltrSize}.\",html.Br()]\n",
    "        feedback += [f\" Number of detected ROIs: {len(regions.df)}\"]\n",
    "#         roisImage = showRoisOnly(regions,indices=range(len(regions.df)),im=regions.statImages[\"diff_std\"])\n",
    "#         if narrowHover:\n",
    "#             roisImage.update_layout({\"width\":220,\"height\":240})\n",
    "#         statsFig =  plotStatsFig(regions, showRois=True)\n",
    "        roisImage = showRoisOnly(regions,indices=range(len(regions.df)),im=regions.statImages[mode])\n",
    "        return (feedback,roisImage, )\n",
    "    except:\n",
    "        return (\"ERROR from recalcRois: \"+exc_info().__repr__(),baseFig)"
   ]
  },
  {
   "cell_type": "code",
   "execution_count": 98,
   "metadata": {
    "ExecuteTime": {
     "end_time": "2020-03-17T21:52:22.504401Z",
     "start_time": "2020-03-17T21:52:22.426909Z"
    }
   },
   "outputs": [],
   "source": [
    "def parseCol(regions, showFreq, filtered):\n",
    "    if not hasattr(regions,\"time\"):\n",
    "        regions.calcTraces(movie)\n",
    "    if \"trace\" not in regions.df:\n",
    "        regions.calcTraces(movie)\n",
    "    if filtered:\n",
    "        col = \"showFilteredTrace_%.1f\"%showFreq\n",
    "        col0 = \"filteredTrace\"\n",
    "    else:\n",
    "        col = \"showTrace_%.1f\"%showFreq\n",
    "        col0 = \"trace\"\n",
    "    regions.df[col0]\n",
    "    if not hasattr(regions,\"showTime\"):\n",
    "        print ('creating empty showTime.')\n",
    "        regions.showTime = {}\n",
    "    if col not in regions.df.columns:\n",
    "        n_Avg = int(regions.movie.fr/showFreq)\n",
    "        n_Avg = max(1,n_Avg)\n",
    "        if n_Avg<=1:\n",
    "            regions.showTime[col] = regions.time\n",
    "            regions.df[col] = regions.df[col0]\n",
    "        else:\n",
    "            print ('creating',col)\n",
    "            regions.showTime[col] = rebin(regions.time,n_Avg)\n",
    "            regions.df[col] = list(np.ones((len(regions.df),len(regions.showTime[col]))))\n",
    "            #if filtered:\n",
    "                #regions.df[col+\"_slow\"] = list(np.ones((len(regions.df),len(regions.showTime[col]))))\n",
    "            for i in regions.df.index:\n",
    "                if i==0:\n",
    "                    print (\"filling in\", col)\n",
    "                regions.df[col].loc[i] = rebin(regions.df.loc[i,col0],n_Avg)\n",
    "                #regions.df[col+\"_slow\"].loc[i] = rebin(regions.df.loc[i,col0+\"_slow\"],n_Avg)\n",
    "    return col"
   ]
  },
  {
   "cell_type": "code",
   "execution_count": 99,
   "metadata": {
    "ExecuteTime": {
     "end_time": "2020-03-17T21:52:22.560564Z",
     "start_time": "2020-03-17T21:52:22.505561Z"
    }
   },
   "outputs": [],
   "source": [
    "@app.callback(\n",
    "    [Output(\"show_hover_trace\", \"figure\"),\n",
    "     Output(\"hover_plot_out\", \"children\")],\n",
    "    [Input(\"roi_selector\", \"hoverData\")],\n",
    "    [State(\"show_freq_input\", \"value\"),\n",
    "#      State(\"show_filtered_choice\", \"value\"),\n",
    "    ])\n",
    "def plotHovered_callback(hoverData, showFreq, showFiltered=[]):\n",
    "    try:\n",
    "        global regions\n",
    "        showFreq = float(showFreq)\n",
    "        filtered = bool(len(showFiltered))\n",
    "        colToshow = parseCol(regions, showFreq, filtered)\n",
    "        showCol = [colToshow]\n",
    "        #if filtered:\n",
    "            #try: showCol += [colToshow+\"_slow\"]\n",
    "            #except: pass\n",
    "        try:\n",
    "            hoverData.dtype\n",
    "            ix = hoverData\n",
    "        except:\n",
    "            ix = [int(hoverData[\"points\"][0][\"hovertext\"])]\n",
    "\n",
    "#         trfig = plotTraces(regions,indices=ix,time=regions.showTime[colToshow], showCol=showCol)\n",
    "        trfig = plotTraces(regions,indices=ix,time=regions.showTime[colToshow], showCol=[\"trace\"])\n",
    "        if narrowHover:\n",
    "            trfig.update_layout({\"width\":220,\"height\":200})\n",
    "        return trfig,\"ok \"\n",
    "    except:\n",
    "        return baseFig,\"ERROR from plotHovered_callback: \"+exc_info().__repr__() "
   ]
  },
  {
   "cell_type": "code",
   "execution_count": 100,
   "metadata": {
    "ExecuteTime": {
     "end_time": "2020-03-17T21:52:22.620266Z",
     "start_time": "2020-03-17T21:52:22.561672Z"
    }
   },
   "outputs": [],
   "source": [
    "@app.callback(\n",
    "    Output(\"selected_indices\", \"value\"),\n",
    "    [Input(\"roi_selector\", \"selectedData\")]\n",
    ")\n",
    "def collectSelected(selData):\n",
    "    try:\n",
    "        out = np.unique([pt[\"hovertext\"] for pt in selData[\"points\"]])\n",
    "        out = sorted(out,key=int)\n",
    "        return \", \".join(out)\n",
    "    except:\n",
    "        return \"\" "
   ]
  },
  {
   "cell_type": "code",
   "execution_count": 101,
   "metadata": {
    "ExecuteTime": {
     "end_time": "2020-03-17T21:52:22.687288Z",
     "start_time": "2020-03-17T21:52:22.621367Z"
    }
   },
   "outputs": [],
   "source": [
    "@app.callback(\n",
    "    [Output(\"show_selected_traces\", \"figure\"),\n",
    "     Output(\"spare_out\", \"children\"),\n",
    "    ],\n",
    "    [Input(\"selected_indices\", \"value\")],\n",
    "    [State(\"show_freq_input\", \"value\"),\n",
    "#      State(\"show_filtered_choice\", \"value\"),\n",
    "#      State(\"offset_input\", \"value\"),\n",
    "    ],\n",
    ")\n",
    "def plotTraces_callback(chosen, showFreq,\n",
    "                        showFiltered=[],\n",
    "                        offset=0,\n",
    "                        forceOffset=False\n",
    "                       ):\n",
    "    try:\n",
    "        if chosen==\"\": return baseFig,\"waiting\"\n",
    "        global regions\n",
    "        showFreq = float(showFreq)\n",
    "        filtered = bool(len(showFiltered))\n",
    "        if forceOffset:\n",
    "            offset = float(offset)\n",
    "        else:\n",
    "            offset = float(offset) if filtered else 0\n",
    "        colToshow = parseCol(regions, showFreq, filtered)\n",
    "        if chosen==\"\":\n",
    "            return baseFig, \"nothing yet\"\n",
    "        try:\n",
    "            ix = np.array(chosen.strip(\" ,\").split(\",\"))\n",
    "            ix = ix.astype(int)\n",
    "            trfig = plotTraces(regions,indices=ix,time=regions.showTime[colToshow], showCol=[colToshow], offset=offset)\n",
    "            trfig.update_layout({\"width\":800,\"height\":200+50*np.log(4*len(ix))})\n",
    "            return trfig,\"ok: \"+repr((chosen, showFreq, showFiltered, offset))\n",
    "        except:\n",
    "            return baseFig,\"error in chosen parsing\"+repr(chosen)\n",
    "    except:\n",
    "        return baseFig,\"ERROR from plotTraces_callback: \"+exc_info().__repr__() "
   ]
  },
  {
   "cell_type": "code",
   "execution_count": 102,
   "metadata": {
    "ExecuteTime": {
     "end_time": "2020-03-17T21:52:22.752399Z",
     "start_time": "2020-03-17T21:52:22.688337Z"
    }
   },
   "outputs": [],
   "source": [
    "# app.layout = html.Div(children=APP_LAYOUT)\n",
    "# app"
   ]
  },
  {
   "cell_type": "code",
   "execution_count": 103,
   "metadata": {
    "ExecuteTime": {
     "end_time": "2020-03-17T21:52:22.766112Z",
     "start_time": "2020-03-17T21:52:22.753456Z"
    }
   },
   "outputs": [],
   "source": [
    "@app.callback(\n",
    "    Output(\"save_feedback\",    \"children\"),\n",
    "    [Input(\"save_button\",      \"n_clicks\")],\n",
    "    [State(\"save_file_append\", \"value\"   )]\n",
    "             )\n",
    "def save_callback(n_clicks,filename):\n",
    "\n",
    "    try:\n",
    "        if n_clicks <= 0:\n",
    "            return \"saving can take a few seconds.\"\n",
    "        else:\n",
    "            global regions\n",
    "#             outDir = \".\".join(regions.movieFilename.split(\".\")[:-1]+[\"_analysis\"])\n",
    "            outDir = os.path.split(regions.movieFilename)[0]+\"/\"\n",
    "            return saveRois(regions, outDir, filename, movie=regions.movie)\n",
    "    except:\n",
    "            return \"ERROR: \"+exc_info().__repr__()"
   ]
  },
  {
   "cell_type": "code",
   "execution_count": 104,
   "metadata": {
    "ExecuteTime": {
     "end_time": "2020-03-17T21:52:22.787605Z",
     "start_time": "2020-03-17T21:52:22.767167Z"
    }
   },
   "outputs": [
    {
     "data": {
      "text/html": [
       "open the following link in a different tab (do not close this tab!): <a href=\"https://ctn.physiologie.meduniwien.ac.at/user/srdjan/app/endpoints/77cbc44ca6ec4c489a65e4e228a10229/\">https://ctn.physiologie.meduniwien.ac.at/user/srdjan/app/endpoints/77cbc44ca6ec4c489a65e4e228a10229/</a>"
      ],
      "text/plain": [
       "<IPython.core.display.HTML object>"
      ]
     },
     "execution_count": 104,
     "metadata": {},
     "output_type": "execute_result"
    }
   ],
   "source": [
    "app.layout = html.Div(children=APP_LAYOUT)\n",
    "app._repr_html_()\n",
    "link2app = \"https://ctn.physiologie.meduniwien.ac.at\"+app.get_app_root_url()\n",
    "HTML(f'open the following link in a different tab (do not close this tab!): <a href=\"{link2app}\">{link2app}</a>')"
   ]
  },
  {
   "cell_type": "code",
   "execution_count": 53,
   "metadata": {
    "ExecuteTime": {
     "end_time": "2020-03-17T21:41:44.011391Z",
     "start_time": "2020-03-17T21:41:44.007010Z"
    }
   },
   "outputs": [
    {
     "data": {
      "text/plain": [
       "'local_data/Sandra/2020_03_06_Cosmin/Untitled_0_TEA10mM_20Hz_25ms_exposure_(30_sec)/TEA10mM_20Hz_25ms_exposure_(30_sec).tif'"
      ]
     },
     "execution_count": 53,
     "metadata": {},
     "output_type": "execute_result"
    }
   ],
   "source": [
    "exampleNpzFile"
   ]
  },
  {
   "cell_type": "code",
   "execution_count": 36,
   "metadata": {
    "ExecuteTime": {
     "end_time": "2020-03-17T21:39:11.613973Z",
     "start_time": "2020-03-17T21:39:11.603232Z"
    }
   },
   "outputs": [],
   "source": [
    "# videoFilename = \".\".join(regions.movieFilename.split(\".\")[:-1]+[\"mp4\"])\n",
    "\n",
    "# HTML(f\"\"\"<video width=\"400\" height=\"222\" controls=\"controls\">\n",
    "#   <source src=\"{videoFilename}\" type=\"video/mp4\" />\n",
    "# </video>\"\"\")"
   ]
  },
  {
   "cell_type": "code",
   "execution_count": null,
   "metadata": {},
   "outputs": [],
   "source": []
  },
  {
   "cell_type": "code",
   "execution_count": null,
   "metadata": {},
   "outputs": [],
   "source": []
  }
 ],
 "metadata": {
  "kernelspec": {
   "display_name": "Python [conda env:physio]",
   "language": "python",
   "name": "conda-env-physio-py"
  },
  "language_info": {
   "codemirror_mode": {
    "name": "ipython",
    "version": 3
   },
   "file_extension": ".py",
   "mimetype": "text/x-python",
   "name": "python",
   "nbconvert_exporter": "python",
   "pygments_lexer": "ipython3",
   "version": "3.7.6"
  },
  "toc": {
   "base_numbering": 1,
   "nav_menu": {},
   "number_sections": true,
   "sideBar": true,
   "skip_h1_title": false,
   "title_cell": "Table of Contents",
   "title_sidebar": "Contents",
   "toc_cell": false,
   "toc_position": {},
   "toc_section_display": true,
   "toc_window_display": false
  }
 },
 "nbformat": 4,
 "nbformat_minor": 2
}
